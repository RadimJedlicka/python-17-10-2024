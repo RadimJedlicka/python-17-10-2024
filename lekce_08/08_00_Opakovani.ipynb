{
 "cells": [
  {
   "cell_type": "markdown",
   "metadata": {
    "id": "siDazH9ArrAW"
   },
   "source": [
    "<h6 align=right> 🐍 Python akademie - lekce 8 - 05.12.2024</h6>"
   ]
  },
  {
   "cell_type": "markdown",
   "metadata": {
    "id": "nOQTEM8sr5uW"
   },
   "source": [
    "<br>\n",
    "\n",
    "# <h1 align=center><font color=black size=24><b> 08_00: Opakování po sedmé lekci!</font></h1>\n",
    "\n",
    "<br>\n",
    "\n",
    "---"
   ]
  },
  {
   "cell_type": "markdown",
   "metadata": {
    "id": "E31ggaPZy4CQ"
   },
   "source": [
    "<br>\n",
    "\n",
    "### **Ukázka #01**\n",
    "\n",
    "Vytvořte jednoduchou funkci pro součet dvou čísel"
   ]
  },
  {
   "cell_type": "markdown",
   "metadata": {
    "id": "bkDN9A3pzCjP"
   },
   "source": [
    "<details>\n",
    "  <summary>❓Vysvětlení ❓</summary>\n",
    "\n",
    "Jména parametrů a funkce lze samozřejmě přizpůsobit.\n",
    "<br>\n",
    "\n",
    "```python\n",
    "def scitani(x, y):\n",
    "    return x + y\n",
    "\n",
    "vysledek = scitani(100, 300)\n",
    "print(vysledek)\n",
    "```\n",
    "    \n",
    "```python\n",
    "def soucet_dvou_cisel(x, y):\n",
    "    return x + y\n",
    "\n",
    "print(vysledek := soucet_dvou_cisel(2, 3))\n",
    "print(vysledek := soucet_dvou_cisel(22, 33)) \n",
    "```\n",
    "\n",
    "<br>\n",
    "\n",
    "\n",
    "</details>\n",
    "\n",
    "---"
   ]
  },
  {
   "cell_type": "markdown",
   "metadata": {
    "id": "oLXc2JAIzUR0"
   },
   "source": [
    "<br>\n",
    "\n",
    "### **Ukázka #02**\n",
    "\n",
    "Jde o správně definovanou funkci?Jak ideálně uspořádat knihovny?\n",
    "\n",
    "```python\n",
    "import datetime\n",
    "\n",
    "\n",
    "def prispevek(mail, zprava):\n",
    "    cas = datetime.datetime.now()\n",
    "    formatovany_cas = cas.strftime(\"%H:%M:%S\")\n",
    "    jmeno = mail.split(\"@\")[0]\n",
    "    return f\"{formatovany_cas}-{jmeno.capitalize()}: {zprava}\"\n",
    "```"
   ]
  },
  {
   "cell_type": "markdown",
   "metadata": {
    "id": "svgUWkDyzeiz"
   },
   "source": [
    "<details>\n",
    "  <summary>❓Vysvětlení ❓</summary>\n",
    "\n",
    "Správně definovaná funkce je taková, která dělá pouze jednu věc.\n",
    "    \n",
    "<br>\n",
    "    \n",
    "```python\n",
    "import datetime\n",
    "\n",
    "\n",
    "def naformatuj_cas():\n",
    "    aktualni_cas = datetime.datetime.now()\n",
    "    return aktualni_cas.strftime(\"%H:%M:%S\")\n",
    "    \n",
    "def vytvor_prezdivku(email):\n",
    "    return email.split(\"@\")[0].capitalize()\n",
    "\n",
    "def prispevek(email, zprava):\n",
    "    formatovany_cas = naformatuj_cas()\n",
    "    jmeno = vytvor_prezdivku(email)\n",
    "    return f\"{formatovany_cas}-{jmeno}: {zprava}\"\n",
    "\n",
    "\n",
    "prispevek(\"matous@matous.cz\", \"Ahoj vsem na osme lekci!\")\n",
    "```\n",
    "\n",
    "</details>\n",
    "\n",
    "---"
   ]
  },
  {
   "cell_type": "markdown",
   "metadata": {
    "id": "Pza96dfV0f4G"
   },
   "source": [
    "<br>\n",
    "\n",
    "### **Ukázka #03**\n",
    "\n",
    "Jakým lepším způsobem můžeme zapsat přírůstek hodnoty v proměnné `vysledek`?\n",
    "\n",
    "```python\n",
    "vysledek = int()\n",
    "cisla = {11, 22, 33, 44, 55}\n",
    "\n",
    "for cislo in cisla:\n",
    "    if isinstance(cislo, int):\n",
    "        vysledek = vysledek + cislo**2\n",
    "else:\n",
    "    print(vysledek)\n",
    "```"
   ]
  },
  {
   "cell_type": "markdown",
   "metadata": {
    "id": "Fjin4tsU0yDC"
   },
   "source": [
    "<details>\n",
    "  <summary>❓Vysvětlení ❓</summary>\n",
    "\n",
    "Optimální řešení můžeš napsat pomocí *augmented assignment*, tedy řešení se zkráceným zápisem.\n",
    "    \n",
    "<br>\n",
    "    \n",
    "```python\n",
    "vysledek = int()\n",
    "cisla = {11, 22, 33, 44, 55}\n",
    "\n",
    "for cislo in cisla:\n",
    "    if isinstance(cislo, int):\n",
    "        vysledek += cislo**2\n",
    "else:\n",
    "    print(vysledek)\n",
    "```\n",
    "\n",
    "<br>\n",
    "\n",
    "</details>\n",
    "\n",
    "---"
   ]
  },
  {
   "cell_type": "markdown",
   "metadata": {
    "id": "ro6Rrx7m1QJj"
   },
   "source": [
    "<br>\n",
    "\n",
    "### **Ukázka #04**\n",
    "\n",
    "Zapiš definici funkce, která nám pro zadané listy vrátí největší liché číslo"
   ]
  },
  {
   "cell_type": "code",
   "execution_count": null,
   "metadata": {
    "id": "7l9cIdX1vvNE"
   },
   "outputs": [],
   "source": [
    "CISELNA_SEKV_1 = [\n",
    "    397, 214, 592, 955, 141,\n",
    "    168, 532, 204, 21, 198,\n",
    "    179, 872, 483, 257, 249,\n",
    "    157, 340, 786, 268, 334,\n",
    "    43, 718, 735, 602, 804,\n",
    "    806, 906, 593, 672, 391,\n",
    "    274, 867, 54, 601, 592,\n",
    "    416, 985, 168, 834, 608\n",
    "]\n",
    "\n",
    "CISELNA_SEKV_2 = [\n",
    "    397, 214, 592, 955, 141,\n",
    "    168, 532, 204, 21, 198,\n",
    "    179, 872, 483, 257, 249,\n",
    "    157, 340, 786, 268, 334,\n",
    "    43, 718, \"123a\", 602, 804,\n",
    "    806, 906, 593, 672, 391,\n",
    "    274, 867, 54, 601, 592,\n",
    "    416, 985, 168, 834, 608\n",
    "]"
   ]
  },
  {
   "cell_type": "markdown",
   "metadata": {
    "id": "kJroPc4Cv54U"
   },
   "source": [
    "<details>\n",
    "  <summary> ❓Vysvětlení ❓</summary>\n",
    "   \n",
    "```python\n",
    "def nejvetsi_liche_cislo(sekvence_c: list) -> int:\n",
    "    nejvetsi_liche_cislo = int()\n",
    "\n",
    "    for cislo in sekvence_c:\n",
    "        if (\n",
    "            isinstance(cislo, int) \n",
    "            and cislo % 2 != 0\n",
    "            and cislo > nejvetsi_liche_cislo\n",
    "        ):\n",
    "            nejvetsi_liche_cislo = cislo\n",
    "    return nejvetsi_liche_cislo\n",
    "```\n",
    "</details>\n",
    "\n",
    "---"
   ]
  }
 ],
 "metadata": {
  "colab": {
   "authorship_tag": "ABX9TyMDw5kcbVEhLkrSpQzy3BP0",
   "provenance": []
  },
  "kernelspec": {
   "display_name": "virtualenv",
   "language": "python",
   "name": "virtualenv"
  },
  "language_info": {
   "name": "python",
   "version": "3.10.0"
  }
 },
 "nbformat": 4,
 "nbformat_minor": 0
}
