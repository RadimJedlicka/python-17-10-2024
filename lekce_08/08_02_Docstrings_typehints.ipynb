{
 "cells": [
  {
   "cell_type": "markdown",
   "metadata": {
    "id": "X9yfOZvJ0QKj"
   },
   "source": [
    "<h6 align=right> 🐍 Python akademie - lekce 8 - 05.12.2024</h6>"
   ]
  },
  {
   "cell_type": "markdown",
   "metadata": {
    "id": "NF_bLn2P0TFw"
   },
   "source": [
    "<br>\n",
    "\n",
    "# <h1 align=center><font color=black size=24><b> 08_02: Dokumentování funkcí (~docstrings)</font></h1>\n",
    "\n",
    "<br>"
   ]
  },
  {
   "cell_type": "markdown",
   "metadata": {
    "id": "RH1mWi7Z0ZtT"
   },
   "source": [
    "<br>\n",
    "\n",
    "---\n",
    "\n",
    "### **Zajímavé odkazy z této lekce:**\n",
    "\n",
    "* [Oficiální dokumentace k **docstring** u funkcí (python.org)](https://www.python.org/dev/peps/pep-0257/)\n",
    "* [Oficiální dokumentace k **testování pomocí docstring** (python.org)](https://docs.python.org/3/library/doctest.html)\n",
    "\n",
    "---\n",
    "\n",
    "<br>"
   ]
  },
  {
   "cell_type": "markdown",
   "metadata": {
    "id": "DI5ljqQz0u78"
   },
   "source": [
    "<br>\n",
    "\n",
    "## **Dokumentace**\n",
    "\n",
    "---"
   ]
  },
  {
   "cell_type": "markdown",
   "metadata": {
    "id": "TPXIloFC2kMr"
   },
   "source": [
    "Někdy potřebuješ vytvořit jednoduchou funkci, jejíž účel plně vystihuje její **jméno**:\n",
    "\n",
    "```python\n",
    "def vynasob_dve_cisla(x, y):\n",
    "    return x * y\n",
    "```\n",
    "\n",
    "V takovém případě není potřeba zapisovat docstring.\n",
    "\n",
    "<br>"
   ]
  },
  {
   "cell_type": "markdown",
   "metadata": {
    "id": "N0v-oxO1ugBB"
   },
   "source": [
    "Někdy se ale popis může hodit. Zejména tehdy, pokud jméno uživatelské funkce nedostačuje:"
   ]
  },
  {
   "cell_type": "markdown",
   "metadata": {
    "id": "ZWs8nYti8f4n"
   },
   "source": [
    "*příklad 1*"
   ]
  },
  {
   "cell_type": "code",
   "execution_count": null,
   "metadata": {
    "id": "2WewQ9mruoh9"
   },
   "outputs": [],
   "source": [
    "def umocnovani(cislo, mocnina):\n",
    "    \"\"\"\n",
    "    Popis:\n",
    "    ------\n",
    "    Tato funkce vezme parametr `cislo` a umocneni jej\n",
    "    o hodnotu v parametru `mocnina`.\n",
    "\n",
    "    Ukazka:\n",
    "    -------\n",
    "    cislo : int = 5\n",
    "    mocnina : int = 2\n",
    "    Funkce vrati hodnotu : int = 25\n",
    "    \"\"\"\n",
    "    return cislo ** mocnina"
   ]
  },
  {
   "cell_type": "code",
   "execution_count": null,
   "metadata": {
    "id": "1QJA4ZuhvmAI"
   },
   "outputs": [],
   "source": [
    "help(umocnovani)"
   ]
  },
  {
   "cell_type": "code",
   "execution_count": null,
   "metadata": {
    "id": "-tmV6JLJvmdP"
   },
   "outputs": [],
   "source": [
    "help(print)"
   ]
  },
  {
   "cell_type": "markdown",
   "metadata": {
    "id": "-TtphV3O8n0v"
   },
   "source": [
    "*příklad 2*"
   ]
  },
  {
   "cell_type": "code",
   "execution_count": null,
   "metadata": {
    "id": "nSxOhpvR8qbe"
   },
   "outputs": [],
   "source": [
    "def vypocitej_vyskyt_dat(slovo):\n",
    "    \"\"\"\n",
    "    Vrať slovník, který obsahuje výčet jednotlivých prvků v zadaném parametru.\n",
    "    \"\"\"\n",
    "    vyskyt = dict()\n",
    "\n",
    "    for pismeno in slovo:\n",
    "        vyskyt[pismeno] = vyskyt.setdefault(pismeno, 0) + 1\n",
    "    else:\n",
    "        return vyskyt"
   ]
  },
  {
   "cell_type": "code",
   "execution_count": null,
   "metadata": {
    "id": "n-SDHjNa8s4W"
   },
   "outputs": [],
   "source": [
    "help(vypocitej_vyskyt_dat)"
   ]
  },
  {
   "cell_type": "markdown",
   "metadata": {
    "id": "Lp4ZleXx8c22"
   },
   "source": [
    "Dále může dokumentace obsahovat ukázku a popis funkcionality, případně **testy**."
   ]
  },
  {
   "cell_type": "markdown",
   "metadata": {
    "id": "eNyW0t6N83Nv"
   },
   "source": [
    "*příklad 1*"
   ]
  },
  {
   "cell_type": "code",
   "execution_count": null,
   "metadata": {
    "id": "EcaKqE8q860w"
   },
   "outputs": [],
   "source": [
    "def umocnovani(cislo: int, mocnina: int) -> int:\n",
    "    \"\"\"\n",
    "    POPIS:\n",
    "    ------\n",
    "    Tato funkce vezme parametr `cislo` a umocneni jej\n",
    "    o hodnotu v parametru `mocnina`.\n",
    "\n",
    "    UKAZKA:\n",
    "    -------\n",
    "    cislo : int = 5\n",
    "    mocnina : int = 2\n",
    "    Funkce vrati hodnotu : int = 25\n",
    "\n",
    "    TEST:\n",
    "    -----\n",
    "    >>> specialni_funkce(5, 2)\n",
    "    25\n",
    "    >>> type(specialni_funkce(5, 2))\n",
    "    <class 'int'>\n",
    "    >>> specialni_funkce(2, 3)\n",
    "    10\n",
    "    \"\"\"\n",
    "    return cislo ** mocnina"
   ]
  },
  {
   "cell_type": "code",
   "execution_count": null,
   "metadata": {
    "id": "VwxHBeJc9_mO"
   },
   "outputs": [],
   "source": [
    "help(umocnovani)"
   ]
  },
  {
   "cell_type": "markdown",
   "metadata": {
    "id": "phaeVR6v9tfi"
   },
   "source": [
    "*příklad 2*"
   ]
  },
  {
   "cell_type": "code",
   "execution_count": null,
   "metadata": {
    "id": "6vd5LtDY9vtP"
   },
   "outputs": [],
   "source": [
    "def vypocitej_vyskyt_dat(slovo):\n",
    "    \"\"\"\n",
    "    Vrať slovník, který obsahuje výčet jednotlivých prvků v zadaném parametru.\n",
    "\n",
    "    :param slovo: parametr \"slovo\" obsahující zadaný text.\n",
    "    :type slovo: tuple\n",
    "    :return: slovník se znaky z textu a počet jejich výskytů.\n",
    "    :rtype: dict\n",
    "\n",
    "    :Example:\n",
    "    >>> vysledek = vypocitej_vyskyt_dat((\"a\", \"b\", \"a\"))\n",
    "    >>> vysledek\n",
    "    {'a': 2, 'b': 1}\n",
    "    >>> vysledek = vypocitej_vyskyt_dat((\"a\", \"b\"))\n",
    "    >>> vysledek\n",
    "    {'a': 1, 'b': 1}\n",
    "    \"\"\"\n",
    "    vyskyt = dict()\n",
    "\n",
    "    for pismeno in slovo:\n",
    "        vyskyt[pismeno] = vyskyt.setdefault(pismeno, 0) + 1\n",
    "\n",
    "    return vyskyt"
   ]
  },
  {
   "cell_type": "markdown",
   "metadata": {
    "id": "_zdzDupCwDqU"
   },
   "source": [
    "<br>\n",
    "\n",
    "## **Testování v dokumentaci funkce**\n",
    "\n",
    "---"
   ]
  },
  {
   "cell_type": "code",
   "execution_count": null,
   "metadata": {
    "id": "r3B-Ww1Ovy9G"
   },
   "outputs": [],
   "source": [
    "def umocnovani(cislo: int, mocnina: int) -> int:\n",
    "    \"\"\"\n",
    "    POPIS:\n",
    "    ------\n",
    "    Tato funkce vezme parametr `cislo` a umocneni jej\n",
    "    o hodnotu v parametru `mocnina`.\n",
    "\n",
    "    UKAZKA:\n",
    "    -------\n",
    "    cislo : int = 5\n",
    "    mocnina : int = 2\n",
    "    Funkce vrati hodnotu : int = 25\n",
    "\n",
    "    TEST:\n",
    "    -----\n",
    "    >>> specialni_funkce(5, 2)\n",
    "    25\n",
    "    >>> type(specialni_funkce(5, 2))\n",
    "    <class 'int'>\n",
    "    >>> specialni_funkce(2, 3)\n",
    "    8\n",
    "    \"\"\"\n",
    "    return cislo ** mocnina\n",
    "\n",
    "\n",
    "if __name__ == \"__main__\":\n",
    "    import doctest\n",
    "    print(doctest.testmod())"
   ]
  },
  {
   "cell_type": "code",
   "execution_count": null,
   "metadata": {
    "id": "dP3vaoQq55Xr"
   },
   "outputs": [],
   "source": [
    "def specialni_funkce(cislo: int, mocnina: int) -> int:\n",
    "    \"\"\"\n",
    "    >>> specialni_funkce(5, 2)\n",
    "    25\n",
    "    >>> type(specialni_funkce(5, 2))\n",
    "    <class 'int'>\n",
    "    >>> specialni_funkce(2, 3)\n",
    "    8\n",
    "    \"\"\"\n",
    "    return cislo ** mocnina\n",
    "\n",
    "\n",
    "if __name__ == \"__main__\":\n",
    "    import doctest\n",
    "    print(doctest.testmod())"
   ]
  },
  {
   "cell_type": "code",
   "execution_count": null,
   "metadata": {
    "id": "hakISQRg6A7B"
   },
   "outputs": [],
   "source": [
    "def specialni_funkce(cislo: int, mocnina: int) -> int:\n",
    "    \"\"\"\n",
    "    >>> specialni_funkce(5, 2)\n",
    "    25\n",
    "    >>> type(specialni_funkce(5, 2))\n",
    "    <class 'int'>\n",
    "    >>> specialni_funkce(2, 3)\n",
    "    10\n",
    "    \"\"\"\n",
    "    return cislo ** mocnina\n",
    "\n",
    "def vypocitej_vyskyt_dat(pismena):\n",
    "    \"\"\"\n",
    "    Vrať slovník, který obsahuje výčet jednotlivých prvků v zadaném parametru.\n",
    "\n",
    "    :param pismena: parametr \"pismena\" obsahující zadaný text.\n",
    "    :type pismena: tuple\n",
    "    :return: slovník se znaky z textu a počet jejich výskytů.\n",
    "    :rtype: dict\n",
    "\n",
    "    :Example:\n",
    "    >>> vysledek = vypocitej_vyskyt_dat((\"a\", \"b\", \"a\"))\n",
    "    >>> vysledek\n",
    "    {'a': 2, 'b': 1}\n",
    "    >>> vysledek = vypocitej_vyskyt_dat((\"a\", \"b\"))\n",
    "    >>> vysledek\n",
    "    {'a': 1, 'b': 2}\n",
    "    \"\"\"\n",
    "    vyskyt = dict()\n",
    "\n",
    "    for slovo in pismena:\n",
    "        vyskyt[slovo] = vyskyt.setdefault(slovo, 0) + 1\n",
    "\n",
    "    return vyskyt\n",
    "\n",
    "\n",
    "if __name__ == \"__main__\":\n",
    "    import doctest\n",
    "    print(doctest.testmod())"
   ]
  },
  {
   "cell_type": "markdown",
   "metadata": {
    "id": "w4w7Oy9_-iE-"
   },
   "source": [
    "<br>\n",
    "\n",
    "## **Shrnutí**\n",
    "\n",
    "---"
   ]
  },
  {
   "cell_type": "markdown",
   "metadata": {
    "id": "O3T_9ZqV-ZvC"
   },
   "source": [
    "Je tedy **nutné** zapisovat *docstring*? Určitě to **není nutnost**.\n",
    "\n",
    "Ale rozhodně je to velmi nápomocné, protože ti pomůže uvědomit si:\n",
    "1. Jestli dostatečně rozumíš **účelu funkce**,\n",
    "2. jestli funkce skutečně **provádí jen to, co má**,\n",
    "3. jestli má správný **počet parametrů**, případně jakého typu,\n",
    "4. jestli a jaké objekty **funkce vrací**.\n",
    "\n",
    "<br>\n",
    "\n",
    "Do budoucna potom můžeš využít *docstring* při:\n",
    "1. Generování **dokumentace projektu** pomocí nástroje [Sphinx](https://www.sphinx-doc.org/en/master/),\n",
    "2. **testování funkcí** pomocí modulu [doctest](https://docs.python.org/3/library/doctest.html)."
   ]
  },
  {
   "cell_type": "markdown",
   "metadata": {
    "id": "ULddtCDE_llb"
   },
   "source": [
    "<br>\n",
    "\n",
    "## **Type hinty**\n",
    "\n",
    "---"
   ]
  },
  {
   "cell_type": "markdown",
   "metadata": {
    "id": "jn-T9v9X_kw9"
   },
   "source": [
    "Type hinty jsou v Pythonu anotace, které se používají k označení datového typu argumentů funkcí a návratových hodnot funkcí. Tyto anotace jsou v Pythonu nepovinné a nemají žádný vliv na běh programu, ale jsou užitečné pro nástroje, jako jsou IDE, linters a type checkers, aby mohly provádět statickou analýzu kódu a detekovat možné chyby v kódu v době překladu.\n",
    "\n",
    "Při použití typehintů můžete zlepšit srozumitelnost kódu tím, že jasně definujete, jaké typy dat jsou očekávány a jaké typy dat jsou vraceny z funkce. To může pomoci s dokumentací kódu a s jeho následnou úpravou. Typehinty také umožňují type checkerům a linters, aby vám poskytly rady na základě typových chyb v kódu, což může pomoci s jeho kvalitou a stabilitou.\n",
    "\n",
    "Například, pokud máte funkci, která má argument `x` a očekává, že bude číslo, můžete tento argument anotovat pomocí typehintu `def funkce(x: int):`. Tím jasně signalizujete, že funkce očekává argument typu int, a IDE nebo type checker může při statické analýze vašeho kódu upozornit na chyby, pokud se argument typu int nepoužívá správně."
   ]
  },
  {
   "cell_type": "markdown",
   "metadata": {
    "id": "1IN4WPWfBOg2"
   },
   "source": [
    "### Některé příklady základních type hintů v Pythonu:\n",
    "\n",
    "**Int**: Definuje celočíselný datový typ.\n",
    "\n",
    "```python\n",
    "def funkce(x: int) -> int:\n",
    "    return x * 2\n",
    "```\n",
    "\n",
    "**Float**: Definuje desetinný datový typ.\n",
    "\n",
    "```python\n",
    "def funkce(x: float) -> float:\n",
    "    return x / 2\n",
    "```\n",
    "\n",
    "**Bool**: Definuje logický datový typ s hodnotami True a False.\n",
    "\n",
    "```python\n",
    "def funkce(x: bool) -> bool:\n",
    "    return not x\n",
    "```\n",
    "\n",
    "**Str**: Definuje řetězcový datový typ.\n",
    "\n",
    "```python\n",
    "def funkce(x: str) -> str:\n",
    "    return x.upper()\n",
    "```\n",
    "\n",
    "**List**: Definuje seznam datového typu.\n",
    "\n",
    "```python\n",
    "def funkce(x: List[int]) -> List[int]:\n",
    "    return [2 * i for i in x]\n",
    "```\n",
    "\n",
    "**Dict**: Definuje slovník datového typu.\n",
    "\n",
    "```python\n",
    "def funkce(x: Dict[str, int]) -> Dict[str, int]:\n",
    "    return {k: v * 2 for k, v in x.items()}\n",
    "```\n",
    "\n",
    "Tyto základní type hinty mohou být užitečné pro anotování datových typů argumentů a návratových hodnot funkcí."
   ]
  }
 ],
 "metadata": {
  "colab": {
   "authorship_tag": "ABX9TyOklRBqwXycOlpWA2RVg2J0",
   "provenance": []
  },
  "kernelspec": {
   "display_name": "Python 3 (ipykernel)",
   "language": "python",
   "name": "python3"
  },
  "language_info": {
   "codemirror_mode": {
    "name": "ipython",
    "version": 3
   },
   "file_extension": ".py",
   "mimetype": "text/x-python",
   "name": "python",
   "nbconvert_exporter": "python",
   "pygments_lexer": "ipython3",
   "version": "3.10.0"
  }
 },
 "nbformat": 4,
 "nbformat_minor": 1
}
