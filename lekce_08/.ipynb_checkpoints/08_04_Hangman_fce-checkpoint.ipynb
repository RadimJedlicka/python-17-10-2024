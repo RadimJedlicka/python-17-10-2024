{
 "cells": [
  {
   "cell_type": "markdown",
   "metadata": {
    "id": "xyXwmDymU7jE"
   },
   "source": [
    "<h6 align=right> 🐍 Python akademie - lekce 7 - 05.12.2024</h6>"
   ]
  },
  {
   "cell_type": "markdown",
   "metadata": {
    "id": "Z2_Aph5hU-cK"
   },
   "source": [
    "# <h1 align=center><font color=black size=24><b> ➰👨 Hangman s funkcemi</font></h1>\n",
    "\n",
    "<p align=center> (praktická úloha na závěr lekce)</p>\n",
    "\n",
    "<br>\n",
    "\n",
    "---"
   ]
  },
  {
   "cell_type": "markdown",
   "metadata": {
    "id": "TU4bDFtrVF2D"
   },
   "source": [
    "<br>\n",
    "\n",
    "## **Zadání**\n",
    "\n",
    "Pojďme si nyní celou hru Hangman z minula přepsat pomocí námi definovaných funkcí 😀\n",
    "\n",
    "* funkce main() řídící celý program\n",
    "* funkce hra() řídící celou hru\n",
    "* funkce pro vytvoření tajenky\n",
    "* funkce zobrazující stav hry\n",
    "* funkce testující, jestli je hádané písmeno v tajence\n",
    "* funkce přepisující políčka v tajence písmenky\n",
    "* funkce ukončující hru při uhodnutí tajenky\n",
    "\n",
    "napadnou vás i další možnosti, kam nacpat vlastní funkce?"
   ]
  },
  {
   "cell_type": "markdown",
   "metadata": {
    "id": "bi2GYFpsV5tU"
   },
   "source": [
    "## Celá hra bez funkcí:\n",
    "\n",
    "```python\n",
    "import os\n",
    "from random import choice, seed\n",
    "\n",
    "from slova import hadana_slova\n",
    "from grafika import obesenec\n",
    "\n",
    "zivoty = 7\n",
    "hra_bezi = True\n",
    "seed(2) # slovo je 'vojna'\n",
    "slovo = choice(hadana_slova)\n",
    "tajenka = ['_'] * len(slovo)\n",
    "\n",
    "while hra_bezi and zivoty > 0:\n",
    "    os.system(\"cls\")\n",
    "    print(f\"Tajenka: {''.join(tajenka)}\")\n",
    "    print(obesenec[7 - zivoty])\n",
    "    print(f\"Zbyvajici pocet zivotu: {zivoty}\")\n",
    "    hadani = input('Hadej pismeno/cele slovo: ')\n",
    "    \n",
    "    if hadani == slovo:\n",
    "        hra_bezi = False\n",
    "    elif hadani in slovo and len(hadani) == 1:\n",
    "        for index, symbol in enumerate(slovo):\n",
    "            if symbol == hadani:\n",
    "                tajenka[index] = hadani\n",
    "        print('Uhodl jsi spravne pismeno!')\n",
    "        if '_' not in tajenka:\n",
    "            hra_bezi = False\n",
    "    else:\n",
    "        print('Pismeno neni v tajence, hadej znova!')\n",
    "        zivoty -= 1\n",
    "else:\n",
    "    if hra_bezi == False:\n",
    "        print('Vyhral jsi!')\n",
    "    else:\n",
    "        print(f'Prohral jsi, tajenka byla \"{slovo}\"')\n",
    "```"
   ]
  },
  {
   "cell_type": "markdown",
   "metadata": {
    "id": "crzYjtnym1ya"
   },
   "source": [
    "### **Základní kostra skriptu**"
   ]
  },
  {
   "cell_type": "markdown",
   "metadata": {
    "id": "eiLvhcb9bBAt"
   },
   "source": [
    "Importy\n",
    "\n",
    "*hadana_slova* teď pro zjednodušení nahradíme listem tří stringů\n",
    "```python\n",
    "import os\n",
    "from random import choice\n",
    "\n",
    "# from grafika import obesenec\n",
    "# from slova import hadana_slova\n",
    "hadana_slova = ['dva', 'hudba', 'vecernicek']\n",
    "```\n",
    "\n",
    "Definice funkcí\n",
    "\n",
    "***zatím tohle do skriptu nepiš, jenom si pro to udělej chlívek***\n",
    "```python\n",
    "def tajne_slovo():\n",
    "    pass\n",
    "def vytvor_tajenku():\n",
    "    pass\n",
    "def zobraz_stav_hry():\n",
    "    pass\n",
    "def co_hada_uzivatel():\n",
    "    pass\n",
    "def ziskej_indexy_pismen():\n",
    "    pass\n",
    "def dopis_pismena_do_tajenky():\n",
    "    pass\n",
    "def kompletni_tajenka():\n",
    "    pass\n",
    "def konec_hry():\n",
    "    pass\n",
    "```\n",
    "Proměnné\n",
    "```python\n",
    "zivoty = 7\n",
    "hra_bezi = True\n",
    "slovo = 'tajne_slovo'   # nahradim funkci\n",
    "tajenka = ['_','_','_'] # nahradim funkci\n",
    "```\n",
    "\n",
    "Celá hra\n",
    "```python\n",
    "while hra_bezi and zivoty > 0:\n",
    "    # stav hry\n",
    "    # input hadani\n",
    "\n",
    "    # if uhodnuti celeho slova\n",
    "    # elif hadani po pismenech\n",
    "    # else pismeno neni v tajence\n",
    "\n",
    "# else:\n",
    "    # konec hry\n",
    "    break\n",
    "```"
   ]
  },
  {
   "cell_type": "code",
   "execution_count": 3,
   "metadata": {
    "executionInfo": {
     "elapsed": 302,
     "status": "ok",
     "timestamp": 1681416910027,
     "user": {
      "displayName": "Radim Jedlička",
      "userId": "11502208915568361358"
     },
     "user_tz": -120
    },
    "id": "kKgvKddpLsuc"
   },
   "outputs": [],
   "source": [
    "import os\n",
    "from random import choice, seed\n",
    "\n",
    "hadana_slova = ['tri', 'vecernicek', 'hudba']"
   ]
  },
  {
   "cell_type": "code",
   "execution_count": 33,
   "metadata": {
    "executionInfo": {
     "elapsed": 301,
     "status": "ok",
     "timestamp": 1681423666098,
     "user": {
      "displayName": "Radim Jedlička",
      "userId": "11502208915568361358"
     },
     "user_tz": -120
    },
    "id": "b15hWbqxJv_-"
   },
   "outputs": [],
   "source": [
    "zivoty = 7\n",
    "hra_bezi = True\n",
    "slovo = 'tajne_slovo'   # nahradim funkci\n",
    "tajenka = ['_','_','_'] # nahradim funkci"
   ]
  },
  {
   "cell_type": "markdown",
   "metadata": {
    "id": "suFDRed-j73N"
   },
   "source": [
    "## **def tajne_slovo()**"
   ]
  },
  {
   "cell_type": "code",
   "execution_count": null,
   "metadata": {
    "id": "fch7fVnsLV0J"
   },
   "outputs": [],
   "source": [
    "def tajne_slovo():\n",
    "    # tajne_slovo = choice(hadana_slova)\n",
    "    # return tajne_slovo\n",
    "    return choice(hadana_slova)\n",
    "\n",
    "test = tajne_slovo()\n",
    "print(test)\n",
    "print(type(test))"
   ]
  },
  {
   "cell_type": "markdown",
   "metadata": {
    "id": "CwLM-5J1cXLR"
   },
   "source": [
    "## **def vytvor_tajenku()**"
   ]
  },
  {
   "cell_type": "code",
   "execution_count": null,
   "metadata": {
    "id": "SZc_0b8tMg2i"
   },
   "outputs": [],
   "source": [
    "def vytvor_tajenku(slovo):\n",
    "    # tajenka = ['_'] * len(slovo)\n",
    "    # return tajenka\n",
    "    return ['_'] * len(slovo)\n",
    "\n",
    "test = vytvor_tajenku('hudba')\n",
    "print(test)\n",
    "print(type(test))"
   ]
  },
  {
   "cell_type": "markdown",
   "metadata": {
    "id": "M810ms5Beay9"
   },
   "source": [
    "## **def zobraz_stav_hry():**"
   ]
  },
  {
   "cell_type": "code",
   "execution_count": 6,
   "metadata": {
    "colab": {
     "base_uri": "https://localhost:8080/"
    },
    "executionInfo": {
     "elapsed": 9,
     "status": "ok",
     "timestamp": 1681416919117,
     "user": {
      "displayName": "Radim Jedlička",
      "userId": "11502208915568361358"
     },
     "user_tz": -120
    },
    "id": "wHGrlS6zPRuQ",
    "outputId": "27c910fc-c325-4213-b53a-474456d09c78"
   },
   "outputs": [
    {
     "name": "stdout",
     "output_type": "stream",
     "text": [
      "Tajenka: ___\n",
      "Zbyvajici pocet zivotu: 5\n"
     ]
    }
   ],
   "source": [
    "def zobraz_stav_hry(tajenka, zivoty):\n",
    "    os.system('cls')   # pro Linux a Mac -> 'clear'\n",
    "    print(f\"Tajenka: {''.join(tajenka)}\")\n",
    "    print(f\"Zbyvajici pocet zivotu: {zivoty}\")\n",
    "\n",
    "test = zobraz_stav_hry(['_','_','_'], 5)"
   ]
  },
  {
   "cell_type": "markdown",
   "metadata": {
    "id": "k6Kr6DiYefgA"
   },
   "source": [
    "## **def co_hada_uzivatel():**"
   ]
  },
  {
   "cell_type": "code",
   "execution_count": 11,
   "metadata": {
    "colab": {
     "base_uri": "https://localhost:8080/"
    },
    "executionInfo": {
     "elapsed": 2407,
     "status": "ok",
     "timestamp": 1681417336137,
     "user": {
      "displayName": "Radim Jedlička",
      "userId": "11502208915568361358"
     },
     "user_tz": -120
    },
    "id": "HxF0wNhvQ2HT",
    "outputId": "4bbd4e58-efde-4e70-ace2-aa218b00ce8d"
   },
   "outputs": [
    {
     "name": "stdout",
     "output_type": "stream",
     "text": [
      "Hadej pismeno/cele slovo: vojna\n",
      "vojna\n",
      "<class 'str'>\n"
     ]
    }
   ],
   "source": [
    "def co_hada_uzivatel():\n",
    "    # hadani = input('Hadej pismeno/cele slovo: ')\n",
    "    # return hadani\n",
    "    return input('Hadej pismeno/cele slovo: ')\n",
    "\n",
    "test = co_hada_uzivatel()\n",
    "print(test)\n",
    "print(type(test))"
   ]
  },
  {
   "cell_type": "markdown",
   "metadata": {
    "id": "47XIWwgYgpcq"
   },
   "source": [
    "## **def ziskej_indexy_pismen():**"
   ]
  },
  {
   "cell_type": "code",
   "execution_count": 24,
   "metadata": {
    "colab": {
     "base_uri": "https://localhost:8080/"
    },
    "executionInfo": {
     "elapsed": 623,
     "status": "ok",
     "timestamp": 1681418876108,
     "user": {
      "displayName": "Radim Jedlička",
      "userId": "11502208915568361358"
     },
     "user_tz": -120
    },
    "id": "9iJtNbc5WgoY",
    "outputId": "607cf00a-de48-4098-e26b-73eed04b6d88"
   },
   "outputs": [
    {
     "name": "stdout",
     "output_type": "stream",
     "text": [
      "[1, 3]\n",
      "<class 'list'>\n"
     ]
    }
   ],
   "source": [
    "def ziskej_indexy_pismen(slovo, hadani):\n",
    "    # return [\n",
    "    #     index for index, symbol in enumerate(slovo)\n",
    "    #     if hadani in symbol\n",
    "    #     ]\n",
    "    indexy = []\n",
    "    for index, symbol in enumerate(slovo):\n",
    "        if symbol in hadani:\n",
    "            indexy.append(index)\n",
    "    return indexy\n",
    "\n",
    "test = ziskej_indexy_pismen('dava', 'a')\n",
    "print(test)\n",
    "print(type(test))"
   ]
  },
  {
   "cell_type": "markdown",
   "metadata": {
    "id": "CRZFCByNvWCO"
   },
   "source": [
    "## **def dopis_pismena_do_tajenky():**"
   ]
  },
  {
   "cell_type": "code",
   "execution_count": 26,
   "metadata": {
    "colab": {
     "base_uri": "https://localhost:8080/"
    },
    "executionInfo": {
     "elapsed": 519,
     "status": "ok",
     "timestamp": 1681419279659,
     "user": {
      "displayName": "Radim Jedlička",
      "userId": "11502208915568361358"
     },
     "user_tz": -120
    },
    "id": "kYUHZOzEYvrw",
    "outputId": "379b3831-a978-4421-ade0-993d0c2f5d64"
   },
   "outputs": [
    {
     "name": "stdout",
     "output_type": "stream",
     "text": [
      "['_', 'a', '_', 'a']\n"
     ]
    }
   ],
   "source": [
    "def dopis_pismena_do_tajenky(indexy, tajenka, hadani):\n",
    "    for index in indexy:\n",
    "        tajenka[index] = hadani\n",
    "    return tajenka\n",
    "\n",
    "test = dopis_pismena_do_tajenky([1, 3], ['_','_','_','_'], 'a')\n",
    "print(test)"
   ]
  },
  {
   "cell_type": "markdown",
   "metadata": {
    "id": "gu3lfoxMveKt"
   },
   "source": [
    "## **def kompletni_tajenka():**"
   ]
  },
  {
   "cell_type": "code",
   "execution_count": 28,
   "metadata": {
    "colab": {
     "base_uri": "https://localhost:8080/"
    },
    "executionInfo": {
     "elapsed": 323,
     "status": "ok",
     "timestamp": 1681419419811,
     "user": {
      "displayName": "Radim Jedlička",
      "userId": "11502208915568361358"
     },
     "user_tz": -120
    },
    "id": "_oj56TOKZ5Xk",
    "outputId": "a859dddd-2b87-465f-d404-8449c1e8bec5"
   },
   "outputs": [
    {
     "name": "stdout",
     "output_type": "stream",
     "text": [
      "False\n"
     ]
    }
   ],
   "source": [
    "def kompletni_tajenka(tajenka):\n",
    "    if '_' not in tajenka:\n",
    "        return False\n",
    "    else:\n",
    "        return True\n",
    "    # return False if '_' not in tajenka else True\n",
    "    \n",
    "test = kompletni_tajenka(['a', 'a', 'd', 'a'])\n",
    "print(test)"
   ]
  },
  {
   "cell_type": "markdown",
   "metadata": {
    "id": "vDQV0odkvm2V"
   },
   "source": [
    "## **def konec_hry():**"
   ]
  },
  {
   "cell_type": "code",
   "execution_count": 32,
   "metadata": {
    "colab": {
     "base_uri": "https://localhost:8080/"
    },
    "executionInfo": {
     "elapsed": 309,
     "status": "ok",
     "timestamp": 1681420087927,
     "user": {
      "displayName": "Radim Jedlička",
      "userId": "11502208915568361358"
     },
     "user_tz": -120
    },
    "id": "VqTdngEFcLkp",
    "outputId": "0766f736-b4b3-4c8d-8d6c-c417f54e589b"
   },
   "outputs": [
    {
     "name": "stdout",
     "output_type": "stream",
     "text": [
      "Vyhral jsi!\n"
     ]
    }
   ],
   "source": [
    "def konec_hry(hra_bezi, slovo):\n",
    "    if hra_bezi == False:\n",
    "        print('Vyhral jsi!')\n",
    "    else:\n",
    "        print(f'Prohral jsi, tajenka byla \"{slovo}\"')\n",
    "\n",
    "konec_hry(False, 'vecernicek')"
   ]
  },
  {
   "cell_type": "markdown",
   "metadata": {
    "id": "6rd8xbnNb9Qu"
   },
   "source": [
    "# **def cela_hra()**\n",
    "\n",
    "a nakonec obalíme celou hru do funkce a budeme ji spouštět pomocí klauzule if `__name__ == '__main__'`"
   ]
  },
  {
   "cell_type": "code",
   "execution_count": null,
   "metadata": {
    "id": "KGoUuk_zb1It"
   },
   "outputs": [],
   "source": [
    "def cela_hra():\n",
    "    zivoty = 7\n",
    "    hra_bezi = True\n",
    "    slovo = tajne_slovo()   # nahradim funkci\n",
    "    tajenka = vytvor_tajenku(slovo) # nahradim funkci\n",
    "\n",
    "    while hra_bezi and zivoty > 0:\n",
    "        # stav hry\n",
    "        zobraz_stav_hry(tajenka, zivoty)\n",
    "        # input hadani\n",
    "        hadani = co_hada_uzivatel()\n",
    "        # if uhodnuti celeho slova\n",
    "        if hadani == slovo:\n",
    "            hra_bezi = False\n",
    "        # elif hadani po pismenech\n",
    "        elif hadani in slovo and len(hadani) == 1:\n",
    "            # ziskat indexy\n",
    "            indexy = ziskej_indexy_pismen(slovo, hadani)\n",
    "            # nasazet uhodnuta pismena do tajenky\n",
    "            tajenka = dopis_pismena_do_tajenky(indexy, tajenka, hadani)\n",
    "\n",
    "            hra_bezi = kompletni_tajenka(tajenka)\n",
    "        else: \n",
    "            # pismeno neni v tajence\n",
    "            zivoty -= 1\n",
    "\n",
    "    else:\n",
    "        # konec hry\n",
    "        konec_hry(hra_bezi, slovo)\n",
    "\n",
    "if __name__ == '__main__':\n",
    "    cela_hra()"
   ]
  }
 ],
 "metadata": {
  "colab": {
   "authorship_tag": "ABX9TyMMdy5U4resMQQjWrMzh8JX",
   "provenance": []
  },
  "kernelspec": {
   "display_name": "Python 3 (ipykernel)",
   "language": "python",
   "name": "python3"
  },
  "language_info": {
   "codemirror_mode": {
    "name": "ipython",
    "version": 3
   },
   "file_extension": ".py",
   "mimetype": "text/x-python",
   "name": "python",
   "nbconvert_exporter": "python",
   "pygments_lexer": "ipython3",
   "version": "3.10.0"
  }
 },
 "nbformat": 4,
 "nbformat_minor": 1
}
