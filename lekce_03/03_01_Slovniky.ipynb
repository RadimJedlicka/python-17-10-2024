{
 "cells": [
  {
   "cell_type": "markdown",
   "metadata": {
    "id": "TKgB1lhijUNQ"
   },
   "source": [
    "<h6 align=right> 🐍 Python akademie - lekce 3 - 31.10.2024</h6>"
   ]
  },
  {
   "cell_type": "markdown",
   "metadata": {
    "id": "1RKtLiXCjWqc"
   },
   "source": [
    "<br>\n",
    "\n",
    "# <h1 align=center><font color=black size=24><b> 03_01 📖 Slovníky</font></h1>\n",
    "\n",
    "<br>"
   ]
  },
  {
   "cell_type": "markdown",
   "metadata": {
    "id": "UIJJD96Qd8UR"
   },
   "source": [
    "<br>\n",
    "\n",
    "---\n",
    "\n",
    "### **Zajímavé odkazy z této lekce:**\n",
    "\n",
    "* [Oficiální dokumentace ke slovníkům](https://docs.python.org/3/library/stdtypes.html#mapping-types-dict)\n",
    "* [Seznam všech metod souvisejících se slovníky](https://www.w3schools.com/python/python_ref_dictionary.asp)\n",
    "\n",
    "---\n",
    "\n",
    "<br>"
   ]
  },
  {
   "cell_type": "markdown",
   "metadata": {
    "id": "q2BBeJ81je3N"
   },
   "source": [
    "<br>\n",
    "\n",
    "## **Další datové typy**\n",
    "\n",
    "---\n",
    "\n",
    "Zatím známe jen některé datové typy. Např. `int`, `float`, `str`, `bool`.\n",
    "\n",
    "<br>\n",
    "\n",
    "Python jich nabízí daleko víc. Nejenom zabudované, ale i některé přidané.\n",
    "\n",
    "<br>\n",
    "\n",
    "Každý datový typ má svoje vlastní použití. Proto je potřeba vědět, jaký a kdy použít. Jaké metody máme k dispozici a jak se používají."
   ]
  },
  {
   "cell_type": "markdown",
   "metadata": {
    "id": "cAQJHL2qkSrF"
   },
   "source": [
    "<br>\n",
    "\n",
    "## **Slovník (~dictionary)**\n",
    "\n",
    "---\n"
   ]
  },
  {
   "cell_type": "markdown",
   "metadata": {
    "id": "4nDvkpXhktNh"
   },
   "source": [
    "**Syntaxe slovníku:**"
   ]
  },
  {
   "cell_type": "markdown",
   "metadata": {
    "id": "Q0X2hLeMf_5K"
   },
   "source": [
    "```python\n",
    "muj_slovnik = {'jmeno': 'Radim', 'prijmeni': 'Jedlicka'}\n",
    "```"
   ]
  },
  {
   "cell_type": "markdown",
   "metadata": {
    "id": "9KDK1UcJkrMX"
   },
   "source": [
    "* v jiných jazycích *hashtable*, *map*,\n",
    "* v Pythonu **standartní datový typ**,\n",
    "* tvořený páry `klíč: hodnota`,\n",
    "\n",
    "<br>\n",
    "\n",
    "* podle **klíče** dohledávám (*~mapuji*) **hodnotu** (ne naopak),\n",
    "* klíč musí být **unikátní** (`str`, `int`, `bool`, nelze použít `list`), souvisí s funkcí `hash`,\n",
    "* hodnota nemusí být unikátní (př. `str`, `int`, `list`, `tuple`, jiný `dict`),\n",
    "\n",
    "<br>\n",
    "\n",
    "* nemá indexy jako `list`, hranatá závorka pracuje se jmény klíčů,\n",
    "* nemají pořadí (u menšího množství párů se to může zdát)."
   ]
  },
  {
   "cell_type": "code",
   "execution_count": 59,
   "metadata": {
    "executionInfo": {
     "elapsed": 273,
     "status": "ok",
     "timestamp": 1678535512308,
     "user": {
      "displayName": "Radim Jedlička",
      "userId": "11502208915568361358"
     },
     "user_tz": -60
    },
    "id": "TsHBdQf_grnO"
   },
   "outputs": [],
   "source": [
    "muj_slovnik = {\n",
    "    \"jmeno\": \"Matous\",\n",
    "    \"vek\": 100,\n",
    "    \"rid_opravneni\": True,\n",
    "    \"volny_cas\": [\"klavir\", \"cteni\", \"Python!\"]\n",
    "}"
   ]
  },
  {
   "cell_type": "code",
   "execution_count": 60,
   "metadata": {
    "id": "eo__PrhMg13D"
   },
   "outputs": [
    {
     "name": "stdout",
     "output_type": "stream",
     "text": [
      "{'jmeno': 'Matous', 'vek': 100, 'rid_opravneni': True, 'volny_cas': ['klavir', 'cteni', 'Python!']}\n"
     ]
    }
   ],
   "source": [
    "print(muj_slovnik)"
   ]
  },
  {
   "cell_type": "markdown",
   "metadata": {
    "id": "9rUPrAwCk8Un"
   },
   "source": [
    "<br>\n",
    "\n",
    "## **Nový slovník**\n",
    "\n",
    "---"
   ]
  },
  {
   "cell_type": "markdown",
   "metadata": {
    "id": "50dsPsAblK_v"
   },
   "source": [
    "* **1. způsob: pomocí funkce**"
   ]
  },
  {
   "cell_type": "code",
   "execution_count": 61,
   "metadata": {
    "executionInfo": {
     "elapsed": 12,
     "status": "ok",
     "timestamp": 1678535507284,
     "user": {
      "displayName": "Radim Jedlička",
      "userId": "11502208915568361358"
     },
     "user_tz": -60
    },
    "id": "S9eFIZ-jkrr7"
   },
   "outputs": [],
   "source": [
    "muj_novy_slovnik = dict()  # pomocí funkce 'dict'"
   ]
  },
  {
   "cell_type": "code",
   "execution_count": 62,
   "metadata": {
    "id": "YAURQqoDlAd7"
   },
   "outputs": [
    {
     "data": {
      "text/plain": [
       "1633683631872"
      ]
     },
     "execution_count": 62,
     "metadata": {},
     "output_type": "execute_result"
    }
   ],
   "source": [
    "id(muj_novy_slovnik)"
   ]
  },
  {
   "cell_type": "code",
   "execution_count": 63,
   "metadata": {
    "id": "7ioR_gjolFRV"
   },
   "outputs": [
    {
     "data": {
      "text/plain": [
       "dict"
      ]
     },
     "execution_count": 63,
     "metadata": {},
     "output_type": "execute_result"
    }
   ],
   "source": [
    "type(muj_novy_slovnik)"
   ]
  },
  {
   "cell_type": "markdown",
   "metadata": {
    "id": "55f4_afulRlu"
   },
   "source": [
    "* **2. způsob: pomocí závorek**"
   ]
  },
  {
   "cell_type": "code",
   "execution_count": 64,
   "metadata": {
    "id": "A-glwT2xlHDs"
   },
   "outputs": [],
   "source": [
    "muj_novy_slovnik_2 = {}    # pomocí složených závorek"
   ]
  },
  {
   "cell_type": "code",
   "execution_count": 65,
   "metadata": {
    "id": "JNiQeIc_lIyt"
   },
   "outputs": [
    {
     "data": {
      "text/plain": [
       "1633683183680"
      ]
     },
     "execution_count": 65,
     "metadata": {},
     "output_type": "execute_result"
    }
   ],
   "source": [
    "id(muj_novy_slovnik_2)"
   ]
  },
  {
   "cell_type": "code",
   "execution_count": 66,
   "metadata": {
    "id": "pVkBkV6HlKEn"
   },
   "outputs": [
    {
     "data": {
      "text/plain": [
       "dict"
      ]
     },
     "execution_count": 66,
     "metadata": {},
     "output_type": "execute_result"
    }
   ],
   "source": [
    "type(muj_novy_slovnik_2)"
   ]
  },
  {
   "cell_type": "markdown",
   "metadata": {
    "id": "e6kz24QelwXl"
   },
   "source": [
    "<br>\n",
    "\n",
    "\n",
    "## **Nový klíč a hodnoty**\n",
    "\n",
    "---"
   ]
  },
  {
   "cell_type": "code",
   "execution_count": 67,
   "metadata": {
    "id": "D-2nsK1dlybW"
   },
   "outputs": [
    {
     "name": "stdout",
     "output_type": "stream",
     "text": [
      "{}\n"
     ]
    }
   ],
   "source": [
    "print(muj_novy_slovnik)"
   ]
  },
  {
   "cell_type": "code",
   "execution_count": 68,
   "metadata": {
    "executionInfo": {
     "elapsed": 242,
     "status": "ok",
     "timestamp": 1678535597942,
     "user": {
      "displayName": "Radim Jedlička",
      "userId": "11502208915568361358"
     },
     "user_tz": -60
    },
    "id": "YSrPj_cel3sg"
   },
   "outputs": [],
   "source": [
    "muj_novy_slovnik[\"jmeno\"] = \"Radim\""
   ]
  },
  {
   "cell_type": "code",
   "execution_count": 69,
   "metadata": {
    "id": "3t6hxdwLl4ej"
   },
   "outputs": [
    {
     "name": "stdout",
     "output_type": "stream",
     "text": [
      "{'jmeno': 'Radim'}\n"
     ]
    }
   ],
   "source": [
    "print(muj_novy_slovnik)"
   ]
  },
  {
   "cell_type": "code",
   "execution_count": 70,
   "metadata": {
    "executionInfo": {
     "elapsed": 248,
     "status": "ok",
     "timestamp": 1678535711135,
     "user": {
      "displayName": "Radim Jedlička",
      "userId": "11502208915568361358"
     },
     "user_tz": -60
    },
    "id": "uPC6WnMTl8BG"
   },
   "outputs": [],
   "source": [
    "muj_novy_slovnik[\"rid_opravneni\"] = True\n",
    "muj_novy_slovnik[\"hobby\"] = (\"fotbal\", \"hry\", \"pratele\")\n",
    "muj_novy_slovnik[\"vek\"] = 22\n",
    "muj_novy_slovnik[\"jmeno\"] = \"Vaclav\"\n",
    "muj_novy_slovnik[\"jmeno\"] = \"Karin\""
   ]
  },
  {
   "cell_type": "code",
   "execution_count": 71,
   "metadata": {
    "id": "Rz3rXkVMmGK6"
   },
   "outputs": [
    {
     "name": "stdout",
     "output_type": "stream",
     "text": [
      "{'jmeno': 'Karin', 'rid_opravneni': True, 'hobby': ('fotbal', 'hry', 'pratele'), 'vek': 22}\n"
     ]
    }
   ],
   "source": [
    "print(muj_novy_slovnik)"
   ]
  },
  {
   "cell_type": "markdown",
   "metadata": {
    "id": "Or3yd1wFnMLe"
   },
   "source": [
    "*poznámka*. pokud zkusím do existujícího klíče vepsat **novou hodnotu**, přepíšu hodnotu původní."
   ]
  },
  {
   "cell_type": "markdown",
   "metadata": {
    "id": "A4VVOcMUnOiG"
   },
   "source": [
    "<br>\n",
    "\n",
    "## **Jak získat hodnoty?**\n",
    "\n",
    "---"
   ]
  },
  {
   "cell_type": "code",
   "execution_count": 72,
   "metadata": {
    "id": "WBJkhcHenMvS"
   },
   "outputs": [
    {
     "name": "stdout",
     "output_type": "stream",
     "text": [
      "{'jmeno': 'Karin', 'rid_opravneni': True, 'hobby': ('fotbal', 'hry', 'pratele'), 'vek': 22}\n"
     ]
    }
   ],
   "source": [
    "print(muj_novy_slovnik)"
   ]
  },
  {
   "cell_type": "code",
   "execution_count": 73,
   "metadata": {
    "id": "3gQ1pcmUnanh"
   },
   "outputs": [
    {
     "name": "stdout",
     "output_type": "stream",
     "text": [
      "Karin\n"
     ]
    }
   ],
   "source": [
    "print(muj_novy_slovnik[\"jmeno\"])"
   ]
  },
  {
   "cell_type": "code",
   "execution_count": 74,
   "metadata": {
    "id": "Ne3tonbFncTk"
   },
   "outputs": [
    {
     "name": "stdout",
     "output_type": "stream",
     "text": [
      "('fotbal', 'hry', 'pratele')\n"
     ]
    }
   ],
   "source": [
    "print(muj_novy_slovnik[\"hobby\"])"
   ]
  },
  {
   "cell_type": "code",
   "execution_count": 75,
   "metadata": {
    "id": "HqRpTQXSngMg"
   },
   "outputs": [
    {
     "name": "stdout",
     "output_type": "stream",
     "text": [
      "pratele\n"
     ]
    }
   ],
   "source": [
    "print(muj_novy_slovnik[\"hobby\"][2])"
   ]
  },
  {
   "cell_type": "code",
   "execution_count": 76,
   "metadata": {
    "id": "ffIsQ2Vdni_k"
   },
   "outputs": [
    {
     "name": "stdout",
     "output_type": "stream",
     "text": [
      "a\n"
     ]
    }
   ],
   "source": [
    "print((muj_novy_slovnik[\"hobby\"][2][2]))"
   ]
  },
  {
   "cell_type": "code",
   "execution_count": 77,
   "metadata": {},
   "outputs": [
    {
     "name": "stdout",
     "output_type": "stream",
     "text": [
      "pratele pratele\n"
     ]
    }
   ],
   "source": [
    "print(muj_novy_slovnik[\"hobby\"][2], muj_novy_slovnik[\"hobby\"][2])"
   ]
  },
  {
   "cell_type": "code",
   "execution_count": 80,
   "metadata": {},
   "outputs": [
    {
     "name": "stdout",
     "output_type": "stream",
     "text": [
      "pratelepratele\n"
     ]
    }
   ],
   "source": [
    "print(muj_novy_slovnik[\"hobby\"][2] * 2)"
   ]
  },
  {
   "cell_type": "code",
   "execution_count": 81,
   "metadata": {
    "id": "xFAL3UHAnutJ"
   },
   "outputs": [
    {
     "name": "stdout",
     "output_type": "stream",
     "text": [
      "{'hobby': ('fotbal', 'hry', 'pratele'),\n",
      " 'jmeno': 'Karin',\n",
      " 'rid_opravneni': True,\n",
      " 'vek': 22}\n"
     ]
    }
   ],
   "source": [
    "from pprint import pprint\n",
    "pprint(muj_novy_slovnik) # z balicku pprint pouziju funkci pprint"
   ]
  },
  {
   "cell_type": "markdown",
   "metadata": {
    "id": "jP6xIE94oQsT"
   },
   "source": [
    "<br>\n",
    "\n",
    "## **Slovník ve slovníku (~nesting)**\n",
    "\n",
    "---"
   ]
  },
  {
   "cell_type": "code",
   "execution_count": 82,
   "metadata": {
    "executionInfo": {
     "elapsed": 241,
     "status": "ok",
     "timestamp": 1678536085593,
     "user": {
      "displayName": "Radim Jedlička",
      "userId": "11502208915568361358"
     },
     "user_tz": -60
    },
    "id": "UH89foBooTED"
   },
   "outputs": [],
   "source": [
    "kontakt = {\n",
    "    \"telefon\": \"000 123 456 789\",\n",
    "    \"email\": \"lukas@gmail.com\",\n",
    "    \"web\": \"www.lukas.cz\"\n",
    "}"
   ]
  },
  {
   "cell_type": "code",
   "execution_count": 83,
   "metadata": {
    "executionInfo": {
     "elapsed": 249,
     "status": "ok",
     "timestamp": 1678536126605,
     "user": {
      "displayName": "Radim Jedlička",
      "userId": "11502208915568361358"
     },
     "user_tz": -60
    },
    "id": "Uq1_D46woac9"
   },
   "outputs": [],
   "source": [
    "muj_novy_slovnik[\"kontakt\"] = kontakt"
   ]
  },
  {
   "cell_type": "code",
   "execution_count": 84,
   "metadata": {
    "id": "C_fttKL-oc69"
   },
   "outputs": [
    {
     "name": "stdout",
     "output_type": "stream",
     "text": [
      "{'jmeno': 'Karin', 'rid_opravneni': True, 'hobby': ('fotbal', 'hry', 'pratele'), 'vek': 22, 'kontakt': {'telefon': '000 123 456 789', 'email': 'lukas@gmail.com', 'web': 'www.lukas.cz'}}\n"
     ]
    }
   ],
   "source": [
    "print(muj_novy_slovnik)"
   ]
  },
  {
   "cell_type": "code",
   "execution_count": 85,
   "metadata": {
    "id": "ZsDzaIykomN7"
   },
   "outputs": [
    {
     "name": "stdout",
     "output_type": "stream",
     "text": [
      "{'hobby': ('fotbal', 'hry', 'pratele'),\n",
      " 'jmeno': 'Karin',\n",
      " 'kontakt': {'email': 'lukas@gmail.com',\n",
      "             'telefon': '000 123 456 789',\n",
      "             'web': 'www.lukas.cz'},\n",
      " 'rid_opravneni': True,\n",
      " 'vek': 22}\n"
     ]
    }
   ],
   "source": [
    "pprint(muj_novy_slovnik)"
   ]
  },
  {
   "cell_type": "code",
   "execution_count": 86,
   "metadata": {
    "id": "CMpAHFcfonMM"
   },
   "outputs": [
    {
     "name": "stdout",
     "output_type": "stream",
     "text": [
      "{'email': 'lukas@gmail.com',\n",
      " 'telefon': '000 123 456 789',\n",
      " 'web': 'www.lukas.cz'}\n"
     ]
    }
   ],
   "source": [
    "pprint(muj_novy_slovnik[\"kontakt\"])"
   ]
  },
  {
   "cell_type": "code",
   "execution_count": 87,
   "metadata": {},
   "outputs": [
    {
     "name": "stdout",
     "output_type": "stream",
     "text": [
      "<class 'dict'>\n"
     ]
    }
   ],
   "source": [
    "pprint(type(muj_novy_slovnik[\"kontakt\"]))"
   ]
  },
  {
   "cell_type": "code",
   "execution_count": 88,
   "metadata": {
    "id": "4J4NGGXgo464"
   },
   "outputs": [
    {
     "name": "stdout",
     "output_type": "stream",
     "text": [
      "lukas@gmail.com\n"
     ]
    }
   ],
   "source": [
    "print(muj_novy_slovnik[\"kontakt\"][\"email\"])"
   ]
  },
  {
   "cell_type": "code",
   "execution_count": 89,
   "metadata": {},
   "outputs": [
    {
     "ename": "KeyError",
     "evalue": "'adresa'",
     "output_type": "error",
     "traceback": [
      "\u001b[1;31m---------------------------------------------------------------------------\u001b[0m",
      "\u001b[1;31mKeyError\u001b[0m                                  Traceback (most recent call last)",
      "\u001b[1;32m~\\AppData\\Local\\Temp/ipykernel_2796/1398660825.py\u001b[0m in \u001b[0;36m<module>\u001b[1;34m\u001b[0m\n\u001b[1;32m----> 1\u001b[1;33m \u001b[0mprint\u001b[0m\u001b[1;33m(\u001b[0m\u001b[0mmuj_novy_slovnik\u001b[0m\u001b[1;33m[\u001b[0m\u001b[1;34m\"kontakt\"\u001b[0m\u001b[1;33m]\u001b[0m\u001b[1;33m[\u001b[0m\u001b[1;34m\"adresa\"\u001b[0m\u001b[1;33m]\u001b[0m\u001b[1;33m)\u001b[0m\u001b[1;33m\u001b[0m\u001b[1;33m\u001b[0m\u001b[0m\n\u001b[0m",
      "\u001b[1;31mKeyError\u001b[0m: 'adresa'"
     ]
    }
   ],
   "source": [
    "print(muj_novy_slovnik[\"kontakt\"][\"adresa\"])"
   ]
  },
  {
   "cell_type": "markdown",
   "metadata": {
    "id": "cnGDRSKWo9z5"
   },
   "source": [
    "<br>\n",
    "\n",
    "## **Metody slovníku**\n",
    "\n",
    "---"
   ]
  },
  {
   "cell_type": "markdown",
   "metadata": {
    "id": "2pPd-6rfpB40"
   },
   "source": [
    "Metody opět napomáhají k efektivnější práci s tímto datovým typem.\n",
    "\n",
    "<br>\n",
    "\n",
    "Níže je vypsaná tabulka s těmi nejčastějšími (ne všemi):\n",
    "\n",
    "<br>\n",
    "\n",
    "| Metoda | Použití |\n",
    "| :-: | :- |\n",
    "| `pop`| odstraní zadaný klíč a vrátí hodnotu na výstup |\n",
    "| `popitem`| odstraní poslední přidaný pár a vrátí jej na výstup jako tuple |\n",
    "| `clear`| odstraní všechny páry |\n",
    "| `copy`| vytvoří shallow copy vybraného slovníku |\n",
    "| `get`| pokud klíč existuje, vrátí hodnotu. Jinak (default) vrací None |\n",
    "| `keys`| vrátí speciální objekt se všemi klíči |\n",
    "| `values`| vrátí speciální objekt se všemi hodnotami |\n",
    "| `items`| vrátí speciální objekt se všemi páry (v tuple) |\n",
    "\n"
   ]
  },
  {
   "cell_type": "markdown",
   "metadata": {
    "id": "MEejkeW4pJfB"
   },
   "source": [
    "<br>\n",
    "\n",
    "## **Procvičování metod**\n",
    "\n",
    "---"
   ]
  },
  {
   "cell_type": "code",
   "execution_count": 90,
   "metadata": {
    "executionInfo": {
     "elapsed": 254,
     "status": "ok",
     "timestamp": 1678537169154,
     "user": {
      "displayName": "Radim Jedlička",
      "userId": "11502208915568361358"
     },
     "user_tz": -60
    },
    "id": "Py0QByXRo9bV"
   },
   "outputs": [],
   "source": [
    "muj_slovnik = {\n",
    "    'email': 'Lukas@gmail.com',\n",
    "    'hobby': ('fotbal', 'hry', 'pratele'),\n",
    "    'jmeno': 'Lukas',\n",
    "    'kontakt': {'email': 'lukas@gmail.com',\n",
    "             'telefon': '000 123 456 789',\n",
    "             'web': 'www.lukas.cz'},\n",
    "    'rid_opravneni': True,\n",
    "    'vek': 22}"
   ]
  },
  {
   "cell_type": "code",
   "execution_count": 91,
   "metadata": {
    "id": "0gRl-nRopRV0"
   },
   "outputs": [
    {
     "name": "stdout",
     "output_type": "stream",
     "text": [
      "{'email': 'Lukas@gmail.com',\n",
      " 'hobby': ('fotbal', 'hry', 'pratele'),\n",
      " 'jmeno': 'Lukas',\n",
      " 'kontakt': {'email': 'lukas@gmail.com',\n",
      "             'telefon': '000 123 456 789',\n",
      "             'web': 'www.lukas.cz'},\n",
      " 'rid_opravneni': True,\n",
      " 'vek': 22}\n"
     ]
    }
   ],
   "source": [
    "pprint(muj_slovnik)"
   ]
  },
  {
   "cell_type": "markdown",
   "metadata": {
    "id": "m6ssiV7etIAE"
   },
   "source": [
    "<br>\n",
    "\n",
    "### **copy**"
   ]
  },
  {
   "cell_type": "code",
   "execution_count": 92,
   "metadata": {
    "executionInfo": {
     "elapsed": 328,
     "status": "ok",
     "timestamp": 1678537488954,
     "user": {
      "displayName": "Radim Jedlička",
      "userId": "11502208915568361358"
     },
     "user_tz": -60
    },
    "id": "P71xtu05pTN7"
   },
   "outputs": [],
   "source": [
    "muj_novy_sl = muj_slovnik.copy()"
   ]
  },
  {
   "cell_type": "code",
   "execution_count": 93,
   "metadata": {
    "id": "FFcG5LkopUz0"
   },
   "outputs": [
    {
     "data": {
      "text/plain": [
       "1633684004160"
      ]
     },
     "execution_count": 93,
     "metadata": {},
     "output_type": "execute_result"
    }
   ],
   "source": [
    "id(muj_slovnik)"
   ]
  },
  {
   "cell_type": "code",
   "execution_count": 94,
   "metadata": {
    "id": "XlpfuZLopWLu"
   },
   "outputs": [
    {
     "data": {
      "text/plain": [
       "1633685014336"
      ]
     },
     "execution_count": 94,
     "metadata": {},
     "output_type": "execute_result"
    }
   ],
   "source": [
    "id(muj_novy_sl)"
   ]
  },
  {
   "cell_type": "markdown",
   "metadata": {
    "id": "bU5TMwNJtN9h"
   },
   "source": [
    "<br>\n",
    "\n",
    "### **pop**"
   ]
  },
  {
   "cell_type": "code",
   "execution_count": 95,
   "metadata": {
    "executionInfo": {
     "elapsed": 233,
     "status": "ok",
     "timestamp": 1678537491470,
     "user": {
      "displayName": "Radim Jedlička",
      "userId": "11502208915568361358"
     },
     "user_tz": -60
    },
    "id": "beuL3_ZZpaqQ"
   },
   "outputs": [],
   "source": [
    "opravneni = muj_novy_sl.pop(\"rid_opravneni\")"
   ]
  },
  {
   "cell_type": "code",
   "execution_count": 96,
   "metadata": {
    "id": "2zLgGXaTpdQ2"
   },
   "outputs": [
    {
     "name": "stdout",
     "output_type": "stream",
     "text": [
      "True\n"
     ]
    }
   ],
   "source": [
    "print(opravneni)"
   ]
  },
  {
   "cell_type": "code",
   "execution_count": 97,
   "metadata": {
    "id": "qhd_AqyIpewQ"
   },
   "outputs": [
    {
     "name": "stdout",
     "output_type": "stream",
     "text": [
      "{'email': 'Lukas@gmail.com',\n",
      " 'hobby': ('fotbal', 'hry', 'pratele'),\n",
      " 'jmeno': 'Lukas',\n",
      " 'kontakt': {'email': 'lukas@gmail.com',\n",
      "             'telefon': '000 123 456 789',\n",
      "             'web': 'www.lukas.cz'},\n",
      " 'vek': 22}\n"
     ]
    }
   ],
   "source": [
    "pprint(muj_novy_sl)"
   ]
  },
  {
   "cell_type": "code",
   "execution_count": 98,
   "metadata": {
    "id": "Tje7cPK9pgKN"
   },
   "outputs": [
    {
     "data": {
      "text/plain": [
       "'Lukas'"
      ]
     },
     "execution_count": 98,
     "metadata": {},
     "output_type": "execute_result"
    }
   ],
   "source": [
    "muj_novy_sl.pop('jmeno')"
   ]
  },
  {
   "cell_type": "code",
   "execution_count": 99,
   "metadata": {
    "id": "uoLKEK-ap7Im"
   },
   "outputs": [
    {
     "name": "stdout",
     "output_type": "stream",
     "text": [
      "{'email': 'Lukas@gmail.com',\n",
      " 'hobby': ('fotbal', 'hry', 'pratele'),\n",
      " 'kontakt': {'email': 'lukas@gmail.com',\n",
      "             'telefon': '000 123 456 789',\n",
      "             'web': 'www.lukas.cz'},\n",
      " 'vek': 22}\n"
     ]
    }
   ],
   "source": [
    "pprint(muj_novy_sl)"
   ]
  },
  {
   "cell_type": "markdown",
   "metadata": {
    "id": "mQdO78BItQIp"
   },
   "source": [
    "<br>\n",
    "\n",
    "### **keys**"
   ]
  },
  {
   "cell_type": "code",
   "execution_count": 100,
   "metadata": {
    "id": "P5wO3DQup-rJ"
   },
   "outputs": [
    {
     "data": {
      "text/plain": [
       "dict_keys(['email', 'hobby', 'kontakt', 'vek'])"
      ]
     },
     "execution_count": 100,
     "metadata": {},
     "output_type": "execute_result"
    }
   ],
   "source": [
    "muj_novy_sl.keys()"
   ]
  },
  {
   "cell_type": "code",
   "execution_count": 102,
   "metadata": {
    "id": "ljvP1hcVqK2v"
   },
   "outputs": [],
   "source": [
    "list1 = list(muj_novy_sl.keys())"
   ]
  },
  {
   "cell_type": "code",
   "execution_count": 103,
   "metadata": {},
   "outputs": [
    {
     "data": {
      "text/plain": [
       "['email', 'hobby', 'kontakt', 'vek']"
      ]
     },
     "execution_count": 103,
     "metadata": {},
     "output_type": "execute_result"
    }
   ],
   "source": [
    "list1"
   ]
  },
  {
   "cell_type": "code",
   "execution_count": 105,
   "metadata": {},
   "outputs": [
    {
     "name": "stdout",
     "output_type": "stream",
     "text": [
      "<class 'dict_keys'>\n"
     ]
    }
   ],
   "source": [
    "x = muj_novy_sl.keys()\n",
    "print(type(x))"
   ]
  },
  {
   "cell_type": "markdown",
   "metadata": {
    "id": "CbfJGBsQtXlz"
   },
   "source": [
    "<br>\n",
    "\n",
    "### **values**"
   ]
  },
  {
   "cell_type": "code",
   "execution_count": 106,
   "metadata": {
    "id": "4w_FJzGPqOIF"
   },
   "outputs": [
    {
     "data": {
      "text/plain": [
       "dict_values(['Lukas@gmail.com', ('fotbal', 'hry', 'pratele'), {'email': 'lukas@gmail.com', 'telefon': '000 123 456 789', 'web': 'www.lukas.cz'}, 22])"
      ]
     },
     "execution_count": 106,
     "metadata": {},
     "output_type": "execute_result"
    }
   ],
   "source": [
    "muj_novy_sl.values()"
   ]
  },
  {
   "cell_type": "code",
   "execution_count": 107,
   "metadata": {
    "id": "cHQGcWk8qbKk"
   },
   "outputs": [
    {
     "data": {
      "text/plain": [
       "dict_values"
      ]
     },
     "execution_count": 107,
     "metadata": {},
     "output_type": "execute_result"
    }
   ],
   "source": [
    "type(muj_novy_sl.values())"
   ]
  },
  {
   "cell_type": "code",
   "execution_count": 108,
   "metadata": {
    "id": "-TcyeYUpqWSl"
   },
   "outputs": [
    {
     "data": {
      "text/plain": [
       "['Lukas@gmail.com',\n",
       " ('fotbal', 'hry', 'pratele'),\n",
       " {'email': 'lukas@gmail.com',\n",
       "  'telefon': '000 123 456 789',\n",
       "  'web': 'www.lukas.cz'},\n",
       " 22]"
      ]
     },
     "execution_count": 108,
     "metadata": {},
     "output_type": "execute_result"
    }
   ],
   "source": [
    "list(muj_novy_sl.values())"
   ]
  },
  {
   "cell_type": "code",
   "execution_count": 109,
   "metadata": {
    "id": "9BLLHA4xqkxD"
   },
   "outputs": [
    {
     "data": {
      "text/plain": [
       "True"
      ]
     },
     "execution_count": 109,
     "metadata": {},
     "output_type": "execute_result"
    }
   ],
   "source": [
    "22 in muj_novy_sl.values()"
   ]
  },
  {
   "cell_type": "code",
   "execution_count": 110,
   "metadata": {
    "id": "VD5CPY33qnD1"
   },
   "outputs": [
    {
     "name": "stdout",
     "output_type": "stream",
     "text": [
      "22\n"
     ]
    }
   ],
   "source": [
    "print(muj_novy_sl[\"vek\"])"
   ]
  },
  {
   "cell_type": "code",
   "execution_count": 111,
   "metadata": {
    "id": "URlNwMynqykM"
   },
   "outputs": [
    {
     "ename": "KeyError",
     "evalue": "'pohlavi'",
     "output_type": "error",
     "traceback": [
      "\u001b[1;31m---------------------------------------------------------------------------\u001b[0m",
      "\u001b[1;31mKeyError\u001b[0m                                  Traceback (most recent call last)",
      "\u001b[1;32m~\\AppData\\Local\\Temp/ipykernel_2796/2390751787.py\u001b[0m in \u001b[0;36m<module>\u001b[1;34m\u001b[0m\n\u001b[1;32m----> 1\u001b[1;33m \u001b[0mprint\u001b[0m\u001b[1;33m(\u001b[0m\u001b[0mmuj_novy_sl\u001b[0m\u001b[1;33m[\u001b[0m\u001b[1;34m\"pohlavi\"\u001b[0m\u001b[1;33m]\u001b[0m\u001b[1;33m)\u001b[0m\u001b[1;33m\u001b[0m\u001b[1;33m\u001b[0m\u001b[0m\n\u001b[0m",
      "\u001b[1;31mKeyError\u001b[0m: 'pohlavi'"
     ]
    }
   ],
   "source": [
    "print(muj_novy_sl[\"pohlavi\"])"
   ]
  },
  {
   "cell_type": "markdown",
   "metadata": {
    "id": "TiYwVZKQtbOk"
   },
   "source": [
    "<br>\n",
    "\n",
    "### **get**"
   ]
  },
  {
   "cell_type": "code",
   "execution_count": 112,
   "metadata": {
    "id": "9eim5dAxq06Y"
   },
   "outputs": [
    {
     "name": "stdout",
     "output_type": "stream",
     "text": [
      "None\n"
     ]
    }
   ],
   "source": [
    "print(muj_novy_sl.get(\"pohlavi\"))"
   ]
  },
  {
   "cell_type": "markdown",
   "metadata": {
    "id": "IEy9G8LOrUor"
   },
   "source": [
    "[Vysvětlení metody get](https://www.w3schools.com/python/ref_dictionary_get.asp)"
   ]
  },
  {
   "cell_type": "code",
   "execution_count": 113,
   "metadata": {
    "id": "_Fy6Cv3XrbT2"
   },
   "outputs": [
    {
     "name": "stdout",
     "output_type": "stream",
     "text": [
      "Klic neni dostupny!\n"
     ]
    }
   ],
   "source": [
    "print(muj_novy_sl.get(\"pohlavi\", \"Klic neni dostupny!\"))"
   ]
  },
  {
   "cell_type": "code",
   "execution_count": 114,
   "metadata": {
    "executionInfo": {
     "elapsed": 264,
     "status": "ok",
     "timestamp": 1678539119755,
     "user": {
      "displayName": "Radim Jedlička",
      "userId": "11502208915568361358"
     },
     "user_tz": -60
    },
    "id": "LIMAG2tQs6wj"
   },
   "outputs": [],
   "source": [
    "vystup = muj_novy_sl.get(\"pohlavi\", \"Klic neni dostupny!\")"
   ]
  },
  {
   "cell_type": "code",
   "execution_count": 115,
   "metadata": {
    "id": "0N1ktRZus8C2"
   },
   "outputs": [
    {
     "name": "stdout",
     "output_type": "stream",
     "text": [
      "Klic neni dostupny!\n"
     ]
    }
   ],
   "source": [
    "print(vystup)"
   ]
  },
  {
   "cell_type": "code",
   "execution_count": 116,
   "metadata": {
    "id": "ABoArjzgs-Ap"
   },
   "outputs": [
    {
     "name": "stdout",
     "output_type": "stream",
     "text": [
      "{'email': 'Lukas@gmail.com',\n",
      " 'hobby': ('fotbal', 'hry', 'pratele'),\n",
      " 'kontakt': {'email': 'lukas@gmail.com',\n",
      "             'telefon': '000 123 456 789',\n",
      "             'web': 'www.lukas.cz'},\n",
      " 'vek': 22}\n"
     ]
    }
   ],
   "source": [
    "pprint(muj_novy_sl)"
   ]
  },
  {
   "cell_type": "markdown",
   "metadata": {
    "id": "rAw0hWTdtdoA"
   },
   "source": [
    "<br>\n",
    "\n",
    "### **clear**"
   ]
  },
  {
   "cell_type": "code",
   "execution_count": 117,
   "metadata": {
    "executionInfo": {
     "elapsed": 249,
     "status": "ok",
     "timestamp": 1678539144208,
     "user": {
      "displayName": "Radim Jedlička",
      "userId": "11502208915568361358"
     },
     "user_tz": -60
    },
    "id": "jbrKz5tLtCgh"
   },
   "outputs": [],
   "source": [
    "muj_novy_sl.clear()"
   ]
  },
  {
   "cell_type": "code",
   "execution_count": 118,
   "metadata": {
    "id": "fo9lEuIdtfOZ"
   },
   "outputs": [
    {
     "data": {
      "text/plain": [
       "{}"
      ]
     },
     "execution_count": 118,
     "metadata": {},
     "output_type": "execute_result"
    }
   ],
   "source": [
    "muj_novy_sl"
   ]
  },
  {
   "cell_type": "code",
   "execution_count": 119,
   "metadata": {
    "id": "gRwU7BQmticY",
    "scrolled": true
   },
   "outputs": [
    {
     "name": "stdout",
     "output_type": "stream",
     "text": [
      "{'email': 'Lukas@gmail.com',\n",
      " 'hobby': ('fotbal', 'hry', 'pratele'),\n",
      " 'jmeno': 'Lukas',\n",
      " 'kontakt': {'email': 'lukas@gmail.com',\n",
      "             'telefon': '000 123 456 789',\n",
      "             'web': 'www.lukas.cz'},\n",
      " 'rid_opravneni': True,\n",
      " 'vek': 22}\n"
     ]
    }
   ],
   "source": [
    "pprint(muj_slovnik)"
   ]
  },
  {
   "cell_type": "code",
   "execution_count": 120,
   "metadata": {},
   "outputs": [],
   "source": [
    "muj_slovnik3 = {\n",
    "    'email': 'Lukas@gmail.com',\n",
    "    'hobby': ('fotbal', 'hry', 'pratele'),\n",
    "    'jmeno': 'Lukas',\n",
    "    'kontakt': {'email': 'lukas@gmail.com',\n",
    "             'telefon': '000 123 456 789',\n",
    "             'web': 'www.lukas.cz'},\n",
    "    'rid_opravneni': True,\n",
    "    'vek': 22}"
   ]
  },
  {
   "cell_type": "code",
   "execution_count": 123,
   "metadata": {},
   "outputs": [
    {
     "data": {
      "text/plain": [
       "22"
      ]
     },
     "execution_count": 123,
     "metadata": {},
     "output_type": "execute_result"
    }
   ],
   "source": [
    "vek = muj_slovnik3['vek']\n",
    "vek"
   ]
  }
 ],
 "metadata": {
  "colab": {
   "authorship_tag": "ABX9TyPlIg2O5/UiA9BzrmdGu5Xp",
   "provenance": []
  },
  "kernelspec": {
   "display_name": "Python 3 (ipykernel)",
   "language": "python",
   "name": "python3"
  },
  "language_info": {
   "codemirror_mode": {
    "name": "ipython",
    "version": 3
   },
   "file_extension": ".py",
   "mimetype": "text/x-python",
   "name": "python",
   "nbconvert_exporter": "python",
   "pygments_lexer": "ipython3",
   "version": "3.10.0"
  }
 },
 "nbformat": 4,
 "nbformat_minor": 1
}
