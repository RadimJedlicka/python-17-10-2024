{
 "cells": [
  {
   "cell_type": "markdown",
   "metadata": {
    "id": "-wK6KKIFkWH6"
   },
   "source": [
    "<h6 align=right> 🐍 Python akademie - lekce 3 - 31.10.2024</h6>"
   ]
  },
  {
   "cell_type": "markdown",
   "metadata": {
    "id": "i1pIoSn3kYnr"
   },
   "source": [
    "<br>\n",
    "\n",
    "# <h1 align=center><font size=24><b> 03_02 🎾 Sety (množiny)</font></h1>\n",
    "\n",
    "<br>"
   ]
  },
  {
   "cell_type": "markdown",
   "metadata": {
    "id": "IFaV-I8hwCM5"
   },
   "source": [
    "<br>\n",
    "\n",
    "---\n",
    "\n",
    "### **Zajímavé odkazy z této lekce:**\n",
    "\n",
    "* [Oficiální dokumentace ke setům](https://docs.python.org/3/library/stdtypes.html#set-types-set-frozenset)\n",
    "* [Seznam všech metod souvisejících se sety](https://www.w3schools.com/python/python_ref_set.asp)\n",
    "* [Odkaz na materiál k datovém typu frozenset](https://www.geeksforgeeks.org/frozenset-in-python/)\n",
    "---\n",
    "\n",
    "<br>"
   ]
  },
  {
   "cell_type": "markdown",
   "metadata": {
    "id": "0SGouVGukxMJ"
   },
   "source": [
    "**syntaxe:**"
   ]
  },
  {
   "cell_type": "markdown",
   "metadata": {
    "id": "Rht0Xq3Uwwli"
   },
   "source": [
    "```python\n",
    "muj_set = {\"zena\", \"ruze\", \"pisen\", \"kost\"}\n",
    "```"
   ]
  },
  {
   "cell_type": "markdown",
   "metadata": {
    "id": "Gu7fupQmk3EK"
   },
   "source": [
    "* v Pythonu **standartní datový typ**,\n",
    "* tvořený **unikatními hodnotami**,\n",
    "* nepracuje s jednotlivými údaji, ale s daty jako celkem,\n",
    "* hodnoty mohou být jak stringy, tak číselné hodnoty,\n",
    "* nemá pořadí (podobné slovníkům),\n",
    "* klíčové operace setů:\n",
    "  - sjednocení `|`,\n",
    "  - průnik `&`,\n",
    "  - rozdíl `-`,\n",
    "  - symetrický rozdíl `^`."
   ]
  },
  {
   "cell_type": "markdown",
   "metadata": {
    "id": "wdP-qkHPlEsU"
   },
   "source": [
    "<br>\n",
    "\n",
    "## **Nový set**\n",
    "\n",
    "---"
   ]
  },
  {
   "cell_type": "code",
   "execution_count": null,
   "metadata": {
    "id": "wXp6pMuOk3SE"
   },
   "outputs": [],
   "source": [
    "muj_novy_set = set()"
   ]
  },
  {
   "cell_type": "code",
   "execution_count": null,
   "metadata": {
    "id": "aDDgknr_lItV"
   },
   "outputs": [],
   "source": [
    "type(muj_novy_set)"
   ]
  },
  {
   "cell_type": "code",
   "execution_count": null,
   "metadata": {
    "id": "g7w8hIL4lKbN"
   },
   "outputs": [],
   "source": [
    "muj_druhy_set = {}"
   ]
  },
  {
   "cell_type": "code",
   "execution_count": null,
   "metadata": {
    "id": "7he_Hu0clN_a"
   },
   "outputs": [],
   "source": [
    "type(muj_druhy_set)"
   ]
  },
  {
   "cell_type": "code",
   "execution_count": null,
   "metadata": {
    "id": "mrl9zJgXlPXe"
   },
   "outputs": [],
   "source": [
    "muj_novy_set = {\"zena\", \"ruze\", \"pisen\", \"kost\"}"
   ]
  },
  {
   "cell_type": "code",
   "execution_count": null,
   "metadata": {
    "id": "qEbMepyflSKQ"
   },
   "outputs": [],
   "source": [
    "type(muj_novy_set)"
   ]
  },
  {
   "cell_type": "markdown",
   "metadata": {
    "id": "w4urvoWololq"
   },
   "source": [
    "<br>\n",
    "\n",
    "## **Metody setu**\n",
    "\n",
    "---\n",
    "\n",
    "Podobně jako předchozí datové struktury (`list`, `tuple`, `dict`), mají i sety specifické metody. Níže je opět vypsaná tabulka s těmi častějšími (ne všemi):\n",
    "\n",
    "<br>\n",
    "\n",
    "| Metoda | Použití |\n",
    "| :-: | :- |\n",
    "| `add`| přidá hodnotu do setu |\n",
    "| `discard`| odstraní hodnotu ze setu |\n",
    "| `pop`| odstraní hodnotu ze setu |\n",
    "| `remove`| odstraní hodnotu ze setu |\n",
    "| `clear`| odstraní všechny hodnoty ze setu |\n",
    "| `copy`| vytvoří *shallow copy* setu |\n",
    "| `difference`| vytvoří set obsahující rozdílné hodnoty ze dvou setů |\n",
    "| `difference_update`| odstraní všechny hodnoty obsažené ve druhém setu z prvního setu|\n",
    "| `intersection`| vytvoří set obsahující identické hodnoty ze dvou setů |\n",
    "| `intersection_update`| aktualizuje stávající set s hodnotami z průniku s jiným setem |\n",
    "| `union`| vrátí nový set jako spojení dvou původních setů |\n",
    "| `symmetric_difference`| vrátí speciální objekt se všemi páry (v tuple) |\n",
    "| `symmetric_difference_update`| aktualizuje stávající set s hodnotami z sym. rozdílu s dalším setem |\n",
    "| `isdisjoint`| vrací `True` pokud dva sety nemají průnik. Jinak `False` |\n",
    "| `issubset`| vrací `True` pokud všechny prvky 1. setu jsou obsaženy ve 2. setu. Jinak `False` |\n"
   ]
  },
  {
   "cell_type": "markdown",
   "metadata": {
    "id": "3N6J-jmhyRv4"
   },
   "source": [
    "\n",
    "<br>\n",
    "\n",
    "### **Procvičování metod**\n",
    "\n",
    "---"
   ]
  },
  {
   "cell_type": "code",
   "execution_count": null,
   "metadata": {
    "id": "g6mhPhzrlVK4"
   },
   "outputs": [],
   "source": [
    "muj_set_A = {\"zena\", \"ruze\", \"pisen\", \"kost\"}"
   ]
  },
  {
   "cell_type": "code",
   "execution_count": null,
   "metadata": {
    "id": "E2NDYvv1mfEV"
   },
   "outputs": [],
   "source": [
    "print(muj_set_A)"
   ]
  },
  {
   "cell_type": "code",
   "execution_count": null,
   "metadata": {
    "id": "LVAnRtyOmfbL"
   },
   "outputs": [],
   "source": [
    "id(muj_set_A)"
   ]
  },
  {
   "cell_type": "code",
   "execution_count": null,
   "metadata": {
    "id": "QDx44t6Fmhgt"
   },
   "outputs": [],
   "source": [
    "muj_set_B = muj_set_A.copy()\n",
    "id(muj_set_B)"
   ]
  },
  {
   "cell_type": "code",
   "execution_count": null,
   "metadata": {
    "id": "Sxtg-LTsml4L"
   },
   "outputs": [],
   "source": [
    "print(muj_set_A)"
   ]
  },
  {
   "cell_type": "code",
   "execution_count": null,
   "metadata": {
    "id": "YCvAK-2Smobw"
   },
   "outputs": [],
   "source": [
    "print(muj_set_B)"
   ]
  },
  {
   "cell_type": "code",
   "execution_count": null,
   "metadata": {
    "id": "UF6BAdGSmp8e"
   },
   "outputs": [],
   "source": [
    "muj_set_A.add(\"Matous\")\n",
    "muj_set_A.add(\"Lucie\")\n",
    "muj_set_B.add(\"Lukas\")"
   ]
  },
  {
   "cell_type": "code",
   "execution_count": null,
   "metadata": {
    "id": "dcQoZQ64mrx7"
   },
   "outputs": [],
   "source": [
    "muj_set_A.add(\"Matous\")"
   ]
  },
  {
   "cell_type": "markdown",
   "metadata": {
    "id": "TZb2sQAPm0J6"
   },
   "source": [
    "<br>\n",
    "\n",
    "<img src=\"https://i.imgur.com/yhV0pvW.png\" width=\"900\">"
   ]
  },
  {
   "cell_type": "code",
   "execution_count": null,
   "metadata": {
    "id": "iRw4nfxDmvm-"
   },
   "outputs": [],
   "source": [
    "print(muj_set_B)"
   ]
  },
  {
   "cell_type": "code",
   "execution_count": null,
   "metadata": {
    "id": "7wsS260DmynK"
   },
   "outputs": [],
   "source": [
    "print(muj_set_A)"
   ]
  },
  {
   "cell_type": "markdown",
   "metadata": {
    "id": "46steqj1opVP"
   },
   "source": [
    "<br>\n",
    "\n",
    "<img src=\"https://i.imgur.com/Qgvr0Jz.png\" width=\"900\">"
   ]
  },
  {
   "cell_type": "code",
   "execution_count": null,
   "metadata": {
    "id": "xOj0UO6Pm4ak"
   },
   "outputs": [],
   "source": [
    "print(muj_set_B.union(muj_set_A))"
   ]
  },
  {
   "cell_type": "code",
   "execution_count": null,
   "metadata": {
    "id": "PgovxIihoslJ"
   },
   "outputs": [],
   "source": [
    "print(muj_set_A.union(muj_set_B))"
   ]
  },
  {
   "cell_type": "code",
   "execution_count": null,
   "metadata": {
    "id": "_o2oiGepouaE"
   },
   "outputs": [],
   "source": [
    "muj_set_B.union(muj_set_A) == muj_set_A.union(muj_set_B)"
   ]
  },
  {
   "cell_type": "markdown",
   "metadata": {
    "id": "dsETKD28o5xi"
   },
   "source": [
    "<br>\n",
    "\n",
    "<img src=\"https://i.imgur.com/MYKRUqb.png\" width=\"900\">"
   ]
  },
  {
   "cell_type": "code",
   "execution_count": null,
   "metadata": {
    "id": "XYszoj3Goy9i"
   },
   "outputs": [],
   "source": [
    "print(muj_set_A.intersection(muj_set_B))"
   ]
  },
  {
   "cell_type": "markdown",
   "metadata": {
    "id": "KNtdFHZ6pI2u"
   },
   "source": [
    "<br>\n",
    "\n",
    "<img src=\"https://i.imgur.com/frukWiG.png\" width=\"900\">"
   ]
  },
  {
   "cell_type": "code",
   "execution_count": null,
   "metadata": {
    "colab": {
     "base_uri": "https://localhost:8080/"
    },
    "executionInfo": {
     "elapsed": 326,
     "status": "ok",
     "timestamp": 1678540357402,
     "user": {
      "displayName": "Radim Jedlička",
      "userId": "11502208915568361358"
     },
     "user_tz": -60
    },
    "id": "JQsVQm8ppDlV",
    "outputId": "0ef76dff-6a27-4308-b385-44dc75478d42"
   },
   "outputs": [
    {
     "name": "stdout",
     "output_type": "stream",
     "text": [
      "{'Matous', 'Lucie'}\n"
     ]
    }
   ],
   "source": [
    "print(muj_set_A.difference(muj_set_B))"
   ]
  },
  {
   "cell_type": "markdown",
   "metadata": {
    "id": "K432dAl9pOBQ"
   },
   "source": [
    "<br>\n",
    "\n",
    "<img src=\"https://i.imgur.com/D3uPteB.png\" width=\"900\">"
   ]
  },
  {
   "cell_type": "code",
   "execution_count": null,
   "metadata": {
    "id": "IRIGiCpJpMO7"
   },
   "outputs": [],
   "source": [
    "print(muj_set_B.difference(muj_set_A))"
   ]
  },
  {
   "cell_type": "markdown",
   "metadata": {
    "id": "uRP1WT0hpWAe"
   },
   "source": [
    "<br>\n",
    "\n",
    "<img src=\"https://i.imgur.com/7XxiV1y.png\" width=\"900\">"
   ]
  },
  {
   "cell_type": "code",
   "execution_count": null,
   "metadata": {
    "id": "sbr8aCC-pRPo"
   },
   "outputs": [],
   "source": [
    "print(muj_set_B.symmetric_difference(muj_set_A))"
   ]
  },
  {
   "cell_type": "code",
   "execution_count": null,
   "metadata": {
    "id": "4m-0KAvrpZrZ"
   },
   "outputs": [],
   "source": [
    "print(muj_set_A.symmetric_difference(muj_set_B))"
   ]
  },
  {
   "cell_type": "markdown",
   "metadata": {
    "id": "rWNIE63iplID"
   },
   "source": [
    "<br>\n",
    "\n",
    "## **Další metody**\n",
    "\n",
    "---"
   ]
  },
  {
   "cell_type": "code",
   "execution_count": null,
   "metadata": {
    "id": "3oLz1-U2pf-F"
   },
   "outputs": [],
   "source": [
    "prikl_1 = {\"jedna\", \"dve\", \"tri\"}"
   ]
  },
  {
   "cell_type": "code",
   "execution_count": null,
   "metadata": {
    "id": "5uLQi2Zcpode"
   },
   "outputs": [],
   "source": [
    "prikl_2 = {\"ctyri\", \"pet\"}"
   ]
  },
  {
   "cell_type": "markdown",
   "metadata": {
    "id": "-kpoK8Oo3vf-"
   },
   "source": [
    "<br>\n",
    "\n",
    "### **`isdisjoint`**\n",
    "\n",
    "Vrací `True` pokud žádný prvek není společný pro obě množiny. Jinak vrací `False`."
   ]
  },
  {
   "cell_type": "code",
   "execution_count": null,
   "metadata": {
    "id": "MOh2bat4pp12"
   },
   "outputs": [],
   "source": [
    "print(prikl_1.isdisjoint(prikl_2))"
   ]
  },
  {
   "cell_type": "code",
   "execution_count": null,
   "metadata": {
    "id": "OweDPqGnprOk"
   },
   "outputs": [],
   "source": [
    "print(muj_set_B)"
   ]
  },
  {
   "cell_type": "code",
   "execution_count": null,
   "metadata": {
    "id": "BiJ-6bbkpxXe"
   },
   "outputs": [],
   "source": [
    "print(muj_set_A)"
   ]
  },
  {
   "cell_type": "code",
   "execution_count": null,
   "metadata": {
    "id": "IjXQjzNC5a-o"
   },
   "outputs": [],
   "source": [
    "muj_set_A.isdisjoint(muj_set_B)"
   ]
  },
  {
   "cell_type": "markdown",
   "metadata": {
    "id": "uEBCf8Wj4BvY"
   },
   "source": [
    "<br>\n",
    "\n",
    "### **`issubset`**\n",
    "\n",
    "Vrací `True` pokud všechny hodnoty v setu existují i ve specifikovaném setu. Jinak vrací `False`."
   ]
  },
  {
   "cell_type": "code",
   "execution_count": null,
   "metadata": {
    "id": "-h6NbuXEpygj"
   },
   "outputs": [],
   "source": [
    "print(muj_set_A.issubset(muj_set_B))"
   ]
  },
  {
   "cell_type": "code",
   "execution_count": null,
   "metadata": {
    "id": "VjOFylXcp15l"
   },
   "outputs": [],
   "source": [
    "prikl_1 = {\"jedna\", \"dve\", \"tri\"}"
   ]
  },
  {
   "cell_type": "code",
   "execution_count": null,
   "metadata": {
    "id": "6HWGoEUbqA3r"
   },
   "outputs": [],
   "source": [
    "prikl_2 = {\"jedna\", \"dve\"}"
   ]
  },
  {
   "cell_type": "code",
   "execution_count": null,
   "metadata": {
    "id": "aN9O2ZrlqB3_"
   },
   "outputs": [],
   "source": [
    "print(prikl_2.issubset(prikl_1))"
   ]
  },
  {
   "cell_type": "markdown",
   "metadata": {
    "id": "mCQaUQl92GRp"
   },
   "source": [
    "<br><br>\n",
    "\n",
    "## **Frozenset**\n",
    "\n",
    "---"
   ]
  },
  {
   "cell_type": "code",
   "execution_count": null,
   "metadata": {
    "id": "cRkbWKZ5qC8J"
   },
   "outputs": [],
   "source": [
    "frozenset({'ruze', 'zena', 'Jan', 'pisen', 'kost'})"
   ]
  },
  {
   "cell_type": "markdown",
   "metadata": {
    "id": "mGyyPEqF2Q3V"
   },
   "source": [
    "Pomocí funkce `frozenset` máme jako uživatelé Pythonu možnost vytvořit **nezměnitelný** `set` (princip podobný jako u `tuple`)."
   ]
  },
  {
   "cell_type": "code",
   "execution_count": null,
   "metadata": {
    "id": "ccXnrhG22P_e"
   },
   "outputs": [],
   "source": [
    "muj_set = frozenset()"
   ]
  },
  {
   "cell_type": "code",
   "execution_count": null,
   "metadata": {
    "id": "hXos4rjw2UZy"
   },
   "outputs": [],
   "source": [
    "type(muj_set)"
   ]
  },
  {
   "cell_type": "markdown",
   "metadata": {
    "id": "ZMat4GaR2cK4"
   },
   "source": [
    "<br>\n",
    "\n",
    "### **Nový frozenset**\n"
   ]
  },
  {
   "cell_type": "code",
   "execution_count": null,
   "metadata": {
    "id": "__wQeG5X2Vrw"
   },
   "outputs": [],
   "source": [
    "muj_set = {\"zena\", \"ruze\", \"pisen\", \"kost\"}"
   ]
  },
  {
   "cell_type": "code",
   "execution_count": null,
   "metadata": {
    "id": "NCoOJCxK2kYK"
   },
   "outputs": [],
   "source": [
    "print(type(muj_set))"
   ]
  },
  {
   "cell_type": "code",
   "execution_count": null,
   "metadata": {
    "id": "UmNn5k6o2mQW"
   },
   "outputs": [],
   "source": [
    "muj_nezm_set = frozenset(muj_set.copy())"
   ]
  },
  {
   "cell_type": "code",
   "execution_count": null,
   "metadata": {
    "id": "7hTv7h3x2n3G"
   },
   "outputs": [],
   "source": [
    "print(type(muj_nezm_set))"
   ]
  },
  {
   "cell_type": "code",
   "execution_count": null,
   "metadata": {
    "id": "OJ5RLnfg2pHg"
   },
   "outputs": [],
   "source": [
    "print(type(muj_set))"
   ]
  },
  {
   "cell_type": "markdown",
   "metadata": {
    "id": "BNrud55u2xgj"
   },
   "source": [
    "<br>\n",
    "\n",
    "### **Metody frozensetu**\n"
   ]
  },
  {
   "cell_type": "markdown",
   "metadata": {
    "id": "gc5nB09r20lZ"
   },
   "source": [
    "Pomocí datového typu `frozenset` můžete používat prakticky stejné metody jako u běžného setu.<br>\n",
    "Pouze metody, které mají nějaký vliv na **přidávání** a **odstraňovaní** údajů nejsou dostupné.\n",
    "\n",
    "<br>\n",
    "\n",
    "| Metoda | Použití |\n",
    "| :-: | :- |\n",
    "| `copy`| vytvoří *shallow copy* setu |\n",
    "| `difference`| vytvoří set obsahující rozdílné hodnoty ze dvou setů |\n",
    "| `intersection`| vytvoří set obsahující identické hodnoty ze dvou setů |\n",
    "| `symmetric_difference`| vrátí speciální objekt se všemi páry (v tuple) |\n",
    "| `union`| vytvoří set obsahující sjednocené hodnoty různých setů |\n",
    "| `isdisjoint`| vrací `True` pokud dva sety nemají průnik. Jinak `False` |\n",
    "| `issubset`| vrací `True` pokud mají dva sety průnik. Jinak `False` |"
   ]
  },
  {
   "cell_type": "code",
   "execution_count": null,
   "metadata": {
    "id": "yn8smSi92qX-"
   },
   "outputs": [],
   "source": [
    "muj_set.add(\"Marek\")\n",
    "muj_set.add(\"Jan\")"
   ]
  },
  {
   "cell_type": "code",
   "execution_count": null,
   "metadata": {
    "id": "nz-ugmIb26RH"
   },
   "outputs": [],
   "source": [
    "print(muj_set)"
   ]
  },
  {
   "cell_type": "code",
   "execution_count": null,
   "metadata": {
    "id": "npPTPmlu27dG"
   },
   "outputs": [],
   "source": [
    "muj_set.discard(\"Marek\")"
   ]
  },
  {
   "cell_type": "code",
   "execution_count": null,
   "metadata": {
    "id": "YJvmXW9V29OD"
   },
   "outputs": [],
   "source": [
    "print(muj_set)"
   ]
  },
  {
   "cell_type": "code",
   "execution_count": null,
   "metadata": {
    "id": "JqqVqg_S2-if"
   },
   "outputs": [],
   "source": [
    "muj_nezm_set.add(\"Matous\")"
   ]
  },
  {
   "cell_type": "code",
   "execution_count": null,
   "metadata": {
    "id": "DcIy9SLW3AF7"
   },
   "outputs": [],
   "source": [
    "muj_druhy_nezm_set = frozenset(muj_set.copy())"
   ]
  },
  {
   "cell_type": "code",
   "execution_count": null,
   "metadata": {
    "id": "wSqrMU543CyO"
   },
   "outputs": [],
   "source": [
    "print(muj_druhy_nezm_set)"
   ]
  },
  {
   "cell_type": "code",
   "execution_count": null,
   "metadata": {
    "id": "ZhIZmUYS3EHq"
   },
   "outputs": [],
   "source": [
    "muj_druhy_nezm_set.difference(muj_nezm_set)"
   ]
  }
 ],
 "metadata": {
  "colab": {
   "authorship_tag": "ABX9TyPs4rjvqp+X18Z5AziaPohi",
   "provenance": []
  },
  "kernelspec": {
   "display_name": "Python 3 (ipykernel)",
   "language": "python",
   "name": "python3"
  },
  "language_info": {
   "codemirror_mode": {
    "name": "ipython",
    "version": 3
   },
   "file_extension": ".py",
   "mimetype": "text/x-python",
   "name": "python",
   "nbconvert_exporter": "python",
   "pygments_lexer": "ipython3",
   "version": "3.10.0"
  }
 },
 "nbformat": 4,
 "nbformat_minor": 1
}
