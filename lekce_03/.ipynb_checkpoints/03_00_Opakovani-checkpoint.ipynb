{
 "cells": [
  {
   "cell_type": "markdown",
   "metadata": {
    "id": "smHfc10MbMLP"
   },
   "source": [
    "\n",
    "<h6 align=right> 🐍 Python akademie - lekce 3 - 31.10.2024</h6>"
   ]
  },
  {
   "cell_type": "markdown",
   "metadata": {
    "id": "7FLobvq1bWZI"
   },
   "source": [
    "<br>\n",
    "\n",
    "# <h1 align=center><font color=black size=24><b> 03_00: Opakování po druhé lekci!</font></h1>\n",
    "\n",
    "<br>\n",
    "\n",
    "---"
   ]
  },
  {
   "cell_type": "markdown",
   "metadata": {
    "id": "NlduBI-8biId"
   },
   "source": [
    "<br>\n",
    "\n",
    "### **Ukázka #01**"
   ]
  },
  {
   "cell_type": "code",
   "execution_count": 1,
   "metadata": {
    "id": "QrdZ4DL4bKvH"
   },
   "outputs": [
    {
     "data": {
      "text/plain": [
       "True"
      ]
     },
     "execution_count": 1,
     "metadata": {},
     "output_type": "execute_result"
    }
   ],
   "source": [
    "x = \"nejaky_string\"\n",
    "y = \"nejaky\" + \"_\" + \"string\"\n",
    "x is y"
   ]
  },
  {
   "cell_type": "markdown",
   "metadata": {
    "id": "glQovWrTb2lF"
   },
   "source": [
    "<details>\n",
    "  <summary>❓Vysvětlení ❓</summary>\n",
    "\n",
    "`True`\n",
    "\n",
    "<br>\n",
    "\n",
    "Důvodem je tzv. *string interning*, tedy koncept, že je string **nezměnitelný datový typ**.\n",
    "\n",
    "<br>\n",
    "    \n",
    "V některých případech se totiž snaží **použít existující objekty**, místo tvoření nových ve více variantách.\n",
    "\n",
    "<br>\n",
    "\n",
    "Chceš vědět víc? Zkus to třeba [tady](https://medium.com/techtofreedom/string-interning-in-python-a-hidden-gem-that-makes-your-code-faster-9be71c7a5f3e).\n",
    "</details>\n",
    "\n",
    "---"
   ]
  },
  {
   "cell_type": "markdown",
   "metadata": {
    "id": "t9wPUm6NdPhh"
   },
   "source": [
    "<br>\n",
    "\n",
    "### **Ukázka #02**"
   ]
  },
  {
   "cell_type": "code",
   "execution_count": 2,
   "metadata": {
    "id": "DBkGI74dcJ1K"
   },
   "outputs": [
    {
     "data": {
      "text/plain": [
       "True"
      ]
     },
     "execution_count": 2,
     "metadata": {},
     "output_type": "execute_result"
    }
   ],
   "source": [
    "m = \"Matous\"\n",
    "n = \"Matous\"\n",
    "m is n"
   ]
  },
  {
   "cell_type": "code",
   "execution_count": 3,
   "metadata": {
    "id": "mrExxDF9dVvT"
   },
   "outputs": [
    {
     "data": {
      "text/plain": [
       "False"
      ]
     },
     "execution_count": 3,
     "metadata": {},
     "output_type": "execute_result"
    }
   ],
   "source": [
    "o = \"Matouš\"\n",
    "p = \"Matouš\"\n",
    "o is p"
   ]
  },
  {
   "cell_type": "markdown",
   "metadata": {
    "id": "03djwYn2ddul"
   },
   "source": [
    "<details>\n",
    "  <summary>❓Vysvětlení ❓</summary>\n",
    "\n",
    "<br>\n",
    "    \n",
    "`True`\n",
    "    \n",
    "<br>\n",
    "    \n",
    "`False`\n",
    "\n",
    "<br>\n",
    "\n",
    "Po procesu zaevidování do paměti počítače (původní *interned*), můžou různé proměnné odkazovat na stejný objekt (tím šetří paměť).\n",
    "    \n",
    "<br>\n",
    "    \n",
    "String, který ale není složený z ASCII písmen, číslic nebo podtržítek, není evidován.\n",
    "</details>\n",
    "\n",
    "---"
   ]
  },
  {
   "cell_type": "markdown",
   "metadata": {
    "id": "gu3mFdYBdlaV"
   },
   "source": [
    "<br>\n",
    "\n",
    "### **Ukázka #03**"
   ]
  },
  {
   "cell_type": "code",
   "execution_count": 4,
   "metadata": {
    "id": "Aywcqwi4diEC"
   },
   "outputs": [
    {
     "data": {
      "text/plain": [
       "False"
      ]
     },
     "execution_count": 4,
     "metadata": {},
     "output_type": "execute_result"
    }
   ],
   "source": [
    "(False == False) in [False]"
   ]
  },
  {
   "cell_type": "code",
   "execution_count": 5,
   "metadata": {
    "id": "jUC9G5wudzn6"
   },
   "outputs": [
    {
     "data": {
      "text/plain": [
       "False"
      ]
     },
     "execution_count": 5,
     "metadata": {},
     "output_type": "execute_result"
    }
   ],
   "source": [
    "False == (False in [False])"
   ]
  },
  {
   "cell_type": "code",
   "execution_count": 6,
   "metadata": {
    "id": "uDFZzrIcd25W"
   },
   "outputs": [
    {
     "data": {
      "text/plain": [
       "True"
      ]
     },
     "execution_count": 6,
     "metadata": {},
     "output_type": "execute_result"
    }
   ],
   "source": [
    "False == False in [False] # ?"
   ]
  },
  {
   "cell_type": "code",
   "execution_count": null,
   "metadata": {
    "id": "itzSd7tzd8B4"
   },
   "outputs": [],
   "source": [
    "True is False == False"
   ]
  },
  {
   "cell_type": "code",
   "execution_count": null,
   "metadata": {
    "id": "piiU8CrIeA1w"
   },
   "outputs": [],
   "source": [
    "False is False is False"
   ]
  },
  {
   "cell_type": "markdown",
   "metadata": {
    "id": "jiyHrBlLeT36"
   },
   "source": [
    "<details>\n",
    "  <summary>❓Vysvětlení ❓</summary>\n",
    "    \n",
    "   `False == False and False in [False]`\n",
    "</details>\n",
    "\n",
    "---"
   ]
  },
  {
   "cell_type": "markdown",
   "metadata": {
    "id": "-tfwB-qdeafw"
   },
   "source": [
    "<br>\n",
    "\n",
    "### **Ukázka #04**"
   ]
  },
  {
   "cell_type": "code",
   "execution_count": null,
   "metadata": {
    "id": "1hb_SBrFeXJC"
   },
   "outputs": [],
   "source": [
    "1 > 0 < 1"
   ]
  },
  {
   "cell_type": "code",
   "execution_count": null,
   "metadata": {
    "id": "txXLd3K7enst"
   },
   "outputs": [],
   "source": [
    "(1 > 0) < 1  # ?"
   ]
  },
  {
   "cell_type": "code",
   "execution_count": null,
   "metadata": {
    "id": "itSZybOaer-r"
   },
   "outputs": [],
   "source": [
    "1 > (0 < 1)"
   ]
  },
  {
   "cell_type": "code",
   "execution_count": null,
   "metadata": {
    "id": "zFviyAZLevCa"
   },
   "outputs": [],
   "source": [
    "1 == (0 < 1)"
   ]
  },
  {
   "cell_type": "markdown",
   "metadata": {
    "id": "AsquslClZWmb"
   },
   "source": [
    "<details>\n",
    "  <summary>❓Vysvětlení ❓</summary>\n",
    "    \n",
    " `True` se dá přeložit jako 1, `False` se překládá jako 0\n",
    " \n",
    "</details>\n",
    "\n",
    "---"
   ]
  },
  {
   "cell_type": "markdown",
   "metadata": {
    "id": "4ED_z1aie6sr"
   },
   "source": [
    "<br>\n",
    "\n",
    "### **Ukázka #05**"
   ]
  },
  {
   "cell_type": "code",
   "execution_count": null,
   "metadata": {
    "id": "6ZQ17o_rexah"
   },
   "outputs": [],
   "source": [
    "a = 256\n",
    "b = 256\n",
    "a is b"
   ]
  },
  {
   "cell_type": "code",
   "execution_count": null,
   "metadata": {
    "id": "cWoPRqYCfDOS"
   },
   "outputs": [],
   "source": [
    "a = 257\n",
    "b = 257\n",
    "a is b"
   ]
  },
  {
   "cell_type": "markdown",
   "metadata": {
    "id": "D_UbSexPfOt7"
   },
   "source": [
    "<details>\n",
    "  <summary>❓Vysvětlení ❓</summary>\n",
    "    \n",
    "Po spuštění Pythonu si interpret dopředu nachystá často používaná čísla `-5`~`256`.\n",
    "\n",
    "Čísla, která jsou mimo tento interval ukládá do zcela nových objektů.\n",
    "\n",
    "</details>\n",
    "\n",
    "---"
   ]
  },
  {
   "cell_type": "markdown",
   "metadata": {
    "id": "D0ryQvfsfXk4"
   },
   "source": [
    "<br>\n",
    "\n",
    "### **Ukázka #06**"
   ]
  },
  {
   "cell_type": "code",
   "execution_count": null,
   "metadata": {
    "id": "85ulWJRcfLOv"
   },
   "outputs": [],
   "source": [
    "c = []\n",
    "d = []\n",
    "c is d"
   ]
  },
  {
   "cell_type": "code",
   "execution_count": null,
   "metadata": {
    "id": "3bCqdDGTfbAX"
   },
   "outputs": [],
   "source": [
    "c = tuple()\n",
    "d = tuple()\n",
    "c is d"
   ]
  },
  {
   "cell_type": "markdown",
   "metadata": {
    "id": "F4DUswzBfgfI"
   },
   "source": [
    "<details>\n",
    "  <summary>❓Vysvětlení ❓</summary>\n",
    "    \n",
    "   Podobný princip jako u **stringu**. **Tuple** je *immutable* (~nezměnitelná) sekvence znaků.\n",
    "</details>\n",
    "\n",
    "---"
   ]
  },
  {
   "cell_type": "markdown",
   "metadata": {
    "id": "Wy_iP1aTflwI"
   },
   "source": [
    "<br>\n",
    "\n",
    "### **Ukázka #07**"
   ]
  },
  {
   "cell_type": "code",
   "execution_count": null,
   "metadata": {
    "id": "9YzTjrAWfdCi"
   },
   "outputs": [],
   "source": [
    "\"neco\" is not None"
   ]
  },
  {
   "cell_type": "code",
   "execution_count": null,
   "metadata": {
    "id": "xUz7i71AgYP3"
   },
   "outputs": [],
   "source": [
    "\"neco\" is (not None)"
   ]
  },
  {
   "cell_type": "markdown",
   "metadata": {
    "id": "GKqAMnQCb-UE"
   },
   "source": [
    "Co znamená `SyntaxWarning` v tomto případě? Přečist si o tom můžeš [zde](https://adamj.eu/tech/2020/01/21/why-does-python-3-8-syntaxwarning-for-is-literal/)."
   ]
  },
  {
   "cell_type": "markdown",
   "metadata": {
    "id": "WCPTJm8fgj4i"
   },
   "source": [
    "<details>\n",
    "  <summary>❓Vysvětlení ❓</summary>\n",
    "    \n",
    "`is` a `is not` jsou binární operátory.\n",
    "    \n",
    "<br>\n",
    "    \n",
    "`is` + `not` je binární operátor a logický operátor.\n",
    "    \n",
    "<br>\n",
    "    \n",
    "V první části ukázky se tedy ptáme, jestli jsou identity různé `id(\"neco\")` a `id(None)`.\n",
    "    \n",
    "<br>\n",
    "    \n",
    "V druhé části máme `not None == not False == True`. Dále porovnáváme identitu pro `\"neco\"` a `True`.\n",
    "    \n",
    "</details>\n",
    "\n",
    "---"
   ]
  },
  {
   "cell_type": "markdown",
   "metadata": {
    "id": "Letuun0fAQ7c"
   },
   "source": [
    "<br>\n",
    "\n",
    "### **Ukázka #08**"
   ]
  },
  {
   "cell_type": "code",
   "execution_count": null,
   "metadata": {
    "id": "HCnuxcwtQX9E"
   },
   "outputs": [],
   "source": [
    "True and True or False and not True"
   ]
  }
 ],
 "metadata": {
  "colab": {
   "authorship_tag": "ABX9TyPGXycqyYsmtyqMXz9TF64r",
   "provenance": []
  },
  "kernelspec": {
   "display_name": "Python 3 (ipykernel)",
   "language": "python",
   "name": "python3"
  },
  "language_info": {
   "codemirror_mode": {
    "name": "ipython",
    "version": 3
   },
   "file_extension": ".py",
   "mimetype": "text/x-python",
   "name": "python",
   "nbconvert_exporter": "python",
   "pygments_lexer": "ipython3",
   "version": "3.10.0"
  }
 },
 "nbformat": 4,
 "nbformat_minor": 1
}
