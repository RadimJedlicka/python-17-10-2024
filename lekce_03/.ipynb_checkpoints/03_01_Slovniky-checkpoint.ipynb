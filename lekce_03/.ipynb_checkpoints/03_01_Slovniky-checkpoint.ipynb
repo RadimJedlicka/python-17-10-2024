{
 "cells": [
  {
   "cell_type": "markdown",
   "metadata": {
    "id": "TKgB1lhijUNQ"
   },
   "source": [
    "<h6 align=right> 🐍 Python akademie - lekce 3 - 31.10.2024</h6>"
   ]
  },
  {
   "cell_type": "markdown",
   "metadata": {
    "id": "1RKtLiXCjWqc"
   },
   "source": [
    "<br>\n",
    "\n",
    "# <h1 align=center><font color=black size=24><b> 03_01 📖 Slovníky</font></h1>\n",
    "\n",
    "<br>"
   ]
  },
  {
   "cell_type": "markdown",
   "metadata": {
    "id": "UIJJD96Qd8UR"
   },
   "source": [
    "<br>\n",
    "\n",
    "---\n",
    "\n",
    "### **Zajímavé odkazy z této lekce:**\n",
    "\n",
    "* [Oficiální dokumentace ke slovníkům](https://docs.python.org/3/library/stdtypes.html#mapping-types-dict)\n",
    "* [Seznam všech metod souvisejících se slovníky](https://www.w3schools.com/python/python_ref_dictionary.asp)\n",
    "\n",
    "---\n",
    "\n",
    "<br>"
   ]
  },
  {
   "cell_type": "markdown",
   "metadata": {
    "id": "q2BBeJ81je3N"
   },
   "source": [
    "<br>\n",
    "\n",
    "## **Další datové typy**\n",
    "\n",
    "---\n",
    "\n",
    "Zatím známe jen některé datové typy. Např. `int`, `float`, `str`, `bool`.\n",
    "\n",
    "<br>\n",
    "\n",
    "Python jich nabízí daleko víc. Nejenom zabudované, ale i některé přidané.\n",
    "\n",
    "<br>\n",
    "\n",
    "Každý datový typ má svoje vlastní použití. Proto je potřeba vědět, jaký a kdy použít. Jaké metody máme k dispozici a jak se používají."
   ]
  },
  {
   "cell_type": "markdown",
   "metadata": {
    "id": "cAQJHL2qkSrF"
   },
   "source": [
    "<br>\n",
    "\n",
    "## **Slovník (~dictionary)**\n",
    "\n",
    "---\n"
   ]
  },
  {
   "cell_type": "markdown",
   "metadata": {
    "id": "4nDvkpXhktNh"
   },
   "source": [
    "**Syntaxe slovníku:**"
   ]
  },
  {
   "cell_type": "markdown",
   "metadata": {
    "id": "Q0X2hLeMf_5K"
   },
   "source": [
    "```python\n",
    "muj_slovnik = {'jmeno': 'Radim', 'prijmeni': 'Jedlicka'}\n",
    "```"
   ]
  },
  {
   "cell_type": "markdown",
   "metadata": {
    "id": "9KDK1UcJkrMX"
   },
   "source": [
    "* v jiných jazycích *hashtable*, *map*,\n",
    "* v Pythonu **standartní datový typ**,\n",
    "* tvořený páry `klíč: hodnota`,\n",
    "\n",
    "<br>\n",
    "\n",
    "* podle **klíče** dohledávám (*~mapuji*) **hodnotu** (ne naopak),\n",
    "* klíč musí být **unikátní** (`str`, `int`, `bool`, nelze použít `list`), souvisí s funkcí `hash`,\n",
    "* hodnota nemusí být unikátní (př. `str`, `int`, `list`, `tuple`, jiný `dict`),\n",
    "\n",
    "<br>\n",
    "\n",
    "* nemá indexy jako `list`, hranatá závorka pracuje se jmény klíčů,\n",
    "* nemají pořadí (u menšího množství párů se to může zdát)."
   ]
  },
  {
   "cell_type": "code",
   "execution_count": 2,
   "metadata": {
    "executionInfo": {
     "elapsed": 273,
     "status": "ok",
     "timestamp": 1678535512308,
     "user": {
      "displayName": "Radim Jedlička",
      "userId": "11502208915568361358"
     },
     "user_tz": -60
    },
    "id": "TsHBdQf_grnO"
   },
   "outputs": [],
   "source": [
    "muj_slovnik = {\n",
    "    \"jmeno\": \"Matous\",\n",
    "    \"vek\": 100,\n",
    "    \"rid_opravneni\": True,\n",
    "    \"volny_cas\": [\"klavir\", \"cteni\", \"Python!\"]\n",
    "}"
   ]
  },
  {
   "cell_type": "code",
   "execution_count": null,
   "metadata": {
    "id": "eo__PrhMg13D"
   },
   "outputs": [],
   "source": [
    "print(muj_slovnik)"
   ]
  },
  {
   "cell_type": "markdown",
   "metadata": {
    "id": "9rUPrAwCk8Un"
   },
   "source": [
    "<br>\n",
    "\n",
    "## **Nový slovník**\n",
    "\n",
    "---"
   ]
  },
  {
   "cell_type": "markdown",
   "metadata": {
    "id": "50dsPsAblK_v"
   },
   "source": [
    "* **1. způsob: pomocí funkce**"
   ]
  },
  {
   "cell_type": "code",
   "execution_count": 1,
   "metadata": {
    "executionInfo": {
     "elapsed": 12,
     "status": "ok",
     "timestamp": 1678535507284,
     "user": {
      "displayName": "Radim Jedlička",
      "userId": "11502208915568361358"
     },
     "user_tz": -60
    },
    "id": "S9eFIZ-jkrr7"
   },
   "outputs": [],
   "source": [
    "muj_novy_slovnik = dict()  # pomocí funkce 'dict'"
   ]
  },
  {
   "cell_type": "code",
   "execution_count": null,
   "metadata": {
    "id": "YAURQqoDlAd7"
   },
   "outputs": [],
   "source": [
    "id(muj_novy_slovnik)"
   ]
  },
  {
   "cell_type": "code",
   "execution_count": null,
   "metadata": {
    "id": "7ioR_gjolFRV"
   },
   "outputs": [],
   "source": [
    "type(muj_novy_slovnik)"
   ]
  },
  {
   "cell_type": "markdown",
   "metadata": {
    "id": "55f4_afulRlu"
   },
   "source": [
    "* **2. způsob: pomocí závorek**"
   ]
  },
  {
   "cell_type": "code",
   "execution_count": null,
   "metadata": {
    "id": "A-glwT2xlHDs"
   },
   "outputs": [],
   "source": [
    "muj_novy_slovnik_2 = {}    # pomocí složených závorek"
   ]
  },
  {
   "cell_type": "code",
   "execution_count": null,
   "metadata": {
    "id": "JNiQeIc_lIyt"
   },
   "outputs": [],
   "source": [
    "id(muj_novy_slovnik_2)"
   ]
  },
  {
   "cell_type": "code",
   "execution_count": null,
   "metadata": {
    "id": "pVkBkV6HlKEn"
   },
   "outputs": [],
   "source": [
    "print(type(muj_novy_slovnik_2))"
   ]
  },
  {
   "cell_type": "markdown",
   "metadata": {
    "id": "e6kz24QelwXl"
   },
   "source": [
    "<br>\n",
    "\n",
    "\n",
    "## **Nový klíč a hodnoty**\n",
    "\n",
    "---"
   ]
  },
  {
   "cell_type": "code",
   "execution_count": null,
   "metadata": {
    "id": "D-2nsK1dlybW"
   },
   "outputs": [],
   "source": [
    "print(muj_novy_slovnik)"
   ]
  },
  {
   "cell_type": "code",
   "execution_count": 6,
   "metadata": {
    "executionInfo": {
     "elapsed": 242,
     "status": "ok",
     "timestamp": 1678535597942,
     "user": {
      "displayName": "Radim Jedlička",
      "userId": "11502208915568361358"
     },
     "user_tz": -60
    },
    "id": "YSrPj_cel3sg"
   },
   "outputs": [],
   "source": [
    "muj_novy_slovnik[\"jmeno\"] = \"Radim\""
   ]
  },
  {
   "cell_type": "code",
   "execution_count": null,
   "metadata": {
    "id": "3t6hxdwLl4ej"
   },
   "outputs": [],
   "source": [
    "print(muj_novy_slovnik)"
   ]
  },
  {
   "cell_type": "code",
   "execution_count": 8,
   "metadata": {
    "executionInfo": {
     "elapsed": 248,
     "status": "ok",
     "timestamp": 1678535711135,
     "user": {
      "displayName": "Radim Jedlička",
      "userId": "11502208915568361358"
     },
     "user_tz": -60
    },
    "id": "uPC6WnMTl8BG"
   },
   "outputs": [],
   "source": [
    "muj_novy_slovnik[\"rid_opravneni\"] = True\n",
    "muj_novy_slovnik[\"hobby\"] = (\"fotbal\", \"hry\", \"pratele\")\n",
    "muj_novy_slovnik[\"vek\"] = 22\n",
    "muj_novy_slovnik[\"jmeno\"] = \"Vaclav\"\n",
    "muj_novy_slovnik[\"jmeno\"] = \"Karin\""
   ]
  },
  {
   "cell_type": "code",
   "execution_count": null,
   "metadata": {
    "id": "Rz3rXkVMmGK6"
   },
   "outputs": [],
   "source": [
    "print(muj_novy_slovnik)"
   ]
  },
  {
   "cell_type": "markdown",
   "metadata": {
    "id": "Or3yd1wFnMLe"
   },
   "source": [
    "*poznámka*. pokud zkusím do existujícího klíče vepsat **novou hodnotu**, přepíšu hodnotu původní."
   ]
  },
  {
   "cell_type": "markdown",
   "metadata": {
    "id": "A4VVOcMUnOiG"
   },
   "source": [
    "<br>\n",
    "\n",
    "## **Jak získat hodnoty?**\n",
    "\n",
    "---"
   ]
  },
  {
   "cell_type": "code",
   "execution_count": null,
   "metadata": {
    "id": "WBJkhcHenMvS"
   },
   "outputs": [],
   "source": [
    "print(muj_novy_slovnik)"
   ]
  },
  {
   "cell_type": "code",
   "execution_count": null,
   "metadata": {
    "id": "3gQ1pcmUnanh"
   },
   "outputs": [],
   "source": [
    "print(muj_novy_slovnik[\"jmeno\"])"
   ]
  },
  {
   "cell_type": "code",
   "execution_count": null,
   "metadata": {
    "id": "Ne3tonbFncTk"
   },
   "outputs": [],
   "source": [
    "print(muj_novy_slovnik[\"hobby\"])"
   ]
  },
  {
   "cell_type": "code",
   "execution_count": null,
   "metadata": {
    "id": "HqRpTQXSngMg"
   },
   "outputs": [],
   "source": [
    "print(muj_novy_slovnik[\"hobby\"][2])"
   ]
  },
  {
   "cell_type": "code",
   "execution_count": null,
   "metadata": {
    "id": "ffIsQ2Vdni_k"
   },
   "outputs": [],
   "source": [
    "print((muj_novy_slovnik[\"hobby\"][2][2]))"
   ]
  },
  {
   "cell_type": "code",
   "execution_count": null,
   "metadata": {
    "id": "xFAL3UHAnutJ"
   },
   "outputs": [],
   "source": [
    "from pprint import pprint\n",
    "pprint(muj_novy_slovnik) # z balicku pprint pouziju funkci pprint"
   ]
  },
  {
   "cell_type": "markdown",
   "metadata": {
    "id": "jP6xIE94oQsT"
   },
   "source": [
    "<br>\n",
    "\n",
    "## **Slovník ve slovníku (~nesting)**\n",
    "\n",
    "---"
   ]
  },
  {
   "cell_type": "code",
   "execution_count": 16,
   "metadata": {
    "executionInfo": {
     "elapsed": 241,
     "status": "ok",
     "timestamp": 1678536085593,
     "user": {
      "displayName": "Radim Jedlička",
      "userId": "11502208915568361358"
     },
     "user_tz": -60
    },
    "id": "UH89foBooTED"
   },
   "outputs": [],
   "source": [
    "kontakt = {\n",
    "    \"telefon\": \"000 123 456 789\",\n",
    "    \"email\": \"lukas@gmail.com\",\n",
    "    \"web\": \"www.lukas.cz\"\n",
    "}"
   ]
  },
  {
   "cell_type": "code",
   "execution_count": 17,
   "metadata": {
    "executionInfo": {
     "elapsed": 249,
     "status": "ok",
     "timestamp": 1678536126605,
     "user": {
      "displayName": "Radim Jedlička",
      "userId": "11502208915568361358"
     },
     "user_tz": -60
    },
    "id": "Uq1_D46woac9"
   },
   "outputs": [],
   "source": [
    "muj_novy_slovnik[\"kontakt\"] = kontakt"
   ]
  },
  {
   "cell_type": "code",
   "execution_count": null,
   "metadata": {
    "id": "C_fttKL-oc69"
   },
   "outputs": [],
   "source": [
    "print(muj_novy_slovnik)"
   ]
  },
  {
   "cell_type": "code",
   "execution_count": null,
   "metadata": {
    "id": "ZsDzaIykomN7"
   },
   "outputs": [],
   "source": [
    "pprint(muj_novy_slovnik)"
   ]
  },
  {
   "cell_type": "code",
   "execution_count": null,
   "metadata": {
    "id": "CMpAHFcfonMM"
   },
   "outputs": [],
   "source": [
    "pprint(muj_novy_slovnik[\"kontakt\"])"
   ]
  },
  {
   "cell_type": "code",
   "execution_count": null,
   "metadata": {
    "id": "4J4NGGXgo464"
   },
   "outputs": [],
   "source": [
    "print(muj_novy_slovnik[\"kontakt\"][\"email\"])"
   ]
  },
  {
   "cell_type": "markdown",
   "metadata": {
    "id": "cnGDRSKWo9z5"
   },
   "source": [
    "<br>\n",
    "\n",
    "## **Metody slovníku**\n",
    "\n",
    "---"
   ]
  },
  {
   "cell_type": "markdown",
   "metadata": {
    "id": "2pPd-6rfpB40"
   },
   "source": [
    "Metody opět napomáhají k efektivnější práci s tímto datovým typem.\n",
    "\n",
    "<br>\n",
    "\n",
    "Níže je vypsaná tabulka s těmi nejčastějšími (ne všemi):\n",
    "\n",
    "<br>\n",
    "\n",
    "| Metoda | Použití |\n",
    "| :-: | :- |\n",
    "| `pop`| odstraní zadaný klíč a vrátí hodnotu na výstup |\n",
    "| `popitem`| odstraní poslední přidaný pár a vrátí jej na výstup jako tuple |\n",
    "| `clear`| odstraní všechny páry |\n",
    "| `copy`| vytvoří shallow copy vybraného slovníku |\n",
    "| `get`| pokud klíč existuje, vrátí hodnotu. Jinak (default) vrací None |\n",
    "| `keys`| vrátí speciální objekt se všemi klíči |\n",
    "| `values`| vrátí speciální objekt se všemi hodnotami |\n",
    "| `items`| vrátí speciální objekt se všemi páry (v tuple) |\n",
    "\n"
   ]
  },
  {
   "cell_type": "markdown",
   "metadata": {
    "id": "MEejkeW4pJfB"
   },
   "source": [
    "<br>\n",
    "\n",
    "## **Procvičování metod**\n",
    "\n",
    "---"
   ]
  },
  {
   "cell_type": "code",
   "execution_count": 22,
   "metadata": {
    "executionInfo": {
     "elapsed": 254,
     "status": "ok",
     "timestamp": 1678537169154,
     "user": {
      "displayName": "Radim Jedlička",
      "userId": "11502208915568361358"
     },
     "user_tz": -60
    },
    "id": "Py0QByXRo9bV"
   },
   "outputs": [],
   "source": [
    "muj_slovnik = {\n",
    "    'email': 'Lukas@gmail.com',\n",
    "    'hobby': ('fotbal', 'hry', 'pratele'),\n",
    "    'jmeno': 'Lukas',\n",
    "    'kontakt': {'email': 'lukas@gmail.com',\n",
    "             'telefon': '000 123 456 789',\n",
    "             'web': 'www.lukas.cz'},\n",
    "    'rid_opravneni': True,\n",
    "    'vek': 22}"
   ]
  },
  {
   "cell_type": "code",
   "execution_count": null,
   "metadata": {
    "id": "0gRl-nRopRV0"
   },
   "outputs": [],
   "source": [
    "pprint(muj_slovnik)"
   ]
  },
  {
   "cell_type": "markdown",
   "metadata": {
    "id": "m6ssiV7etIAE"
   },
   "source": [
    "<br>\n",
    "\n",
    "### **copy**"
   ]
  },
  {
   "cell_type": "code",
   "execution_count": 43,
   "metadata": {
    "executionInfo": {
     "elapsed": 328,
     "status": "ok",
     "timestamp": 1678537488954,
     "user": {
      "displayName": "Radim Jedlička",
      "userId": "11502208915568361358"
     },
     "user_tz": -60
    },
    "id": "P71xtu05pTN7"
   },
   "outputs": [],
   "source": [
    "muj_novy_sl = muj_slovnik.copy()"
   ]
  },
  {
   "cell_type": "code",
   "execution_count": null,
   "metadata": {
    "id": "FFcG5LkopUz0"
   },
   "outputs": [],
   "source": [
    "id(muj_slovnik)"
   ]
  },
  {
   "cell_type": "code",
   "execution_count": null,
   "metadata": {
    "id": "XlpfuZLopWLu"
   },
   "outputs": [],
   "source": [
    "id(muj_novy_sl)"
   ]
  },
  {
   "cell_type": "markdown",
   "metadata": {
    "id": "bU5TMwNJtN9h"
   },
   "source": [
    "<br>\n",
    "\n",
    "### **pop**"
   ]
  },
  {
   "cell_type": "code",
   "execution_count": 44,
   "metadata": {
    "executionInfo": {
     "elapsed": 233,
     "status": "ok",
     "timestamp": 1678537491470,
     "user": {
      "displayName": "Radim Jedlička",
      "userId": "11502208915568361358"
     },
     "user_tz": -60
    },
    "id": "beuL3_ZZpaqQ"
   },
   "outputs": [],
   "source": [
    "opravneni = muj_novy_sl.pop(\"rid_opravneni\")"
   ]
  },
  {
   "cell_type": "code",
   "execution_count": null,
   "metadata": {
    "id": "2zLgGXaTpdQ2"
   },
   "outputs": [],
   "source": [
    "print(opravneni)"
   ]
  },
  {
   "cell_type": "code",
   "execution_count": null,
   "metadata": {
    "id": "qhd_AqyIpewQ"
   },
   "outputs": [],
   "source": [
    "pprint(muj_novy_sl)"
   ]
  },
  {
   "cell_type": "code",
   "execution_count": null,
   "metadata": {
    "id": "Tje7cPK9pgKN"
   },
   "outputs": [],
   "source": [
    "muj_novy_sl.pop('jmeno')"
   ]
  },
  {
   "cell_type": "code",
   "execution_count": null,
   "metadata": {
    "id": "uoLKEK-ap7Im"
   },
   "outputs": [],
   "source": [
    "pprint(muj_novy_sl)"
   ]
  },
  {
   "cell_type": "markdown",
   "metadata": {
    "id": "mQdO78BItQIp"
   },
   "source": [
    "<br>\n",
    "\n",
    "### **keys**"
   ]
  },
  {
   "cell_type": "code",
   "execution_count": null,
   "metadata": {
    "id": "P5wO3DQup-rJ"
   },
   "outputs": [],
   "source": [
    "muj_novy_sl.keys()"
   ]
  },
  {
   "cell_type": "code",
   "execution_count": null,
   "metadata": {
    "id": "ljvP1hcVqK2v"
   },
   "outputs": [],
   "source": [
    "list(muj_novy_sl.keys())"
   ]
  },
  {
   "cell_type": "markdown",
   "metadata": {
    "id": "CbfJGBsQtXlz"
   },
   "source": [
    "<br>\n",
    "\n",
    "### **values**"
   ]
  },
  {
   "cell_type": "code",
   "execution_count": null,
   "metadata": {
    "id": "4w_FJzGPqOIF"
   },
   "outputs": [],
   "source": [
    "muj_novy_sl.values()"
   ]
  },
  {
   "cell_type": "code",
   "execution_count": null,
   "metadata": {
    "id": "cHQGcWk8qbKk"
   },
   "outputs": [],
   "source": [
    "type(muj_novy_sl.values())"
   ]
  },
  {
   "cell_type": "code",
   "execution_count": null,
   "metadata": {
    "id": "-TcyeYUpqWSl"
   },
   "outputs": [],
   "source": [
    "list(muj_novy_sl.values())"
   ]
  },
  {
   "cell_type": "code",
   "execution_count": null,
   "metadata": {
    "id": "9BLLHA4xqkxD"
   },
   "outputs": [],
   "source": [
    "22 in muj_novy_sl.values()"
   ]
  },
  {
   "cell_type": "code",
   "execution_count": null,
   "metadata": {
    "id": "VD5CPY33qnD1"
   },
   "outputs": [],
   "source": [
    "print(muj_novy_sl[\"vek\"])"
   ]
  },
  {
   "cell_type": "code",
   "execution_count": null,
   "metadata": {
    "id": "URlNwMynqykM"
   },
   "outputs": [],
   "source": [
    "print(muj_novy_sl[\"pohlavi\"])"
   ]
  },
  {
   "cell_type": "markdown",
   "metadata": {
    "id": "TiYwVZKQtbOk"
   },
   "source": [
    "<br>\n",
    "\n",
    "### **get**"
   ]
  },
  {
   "cell_type": "code",
   "execution_count": null,
   "metadata": {
    "id": "9eim5dAxq06Y"
   },
   "outputs": [],
   "source": [
    "print(muj_novy_sl.get(\"pohlavi\"))"
   ]
  },
  {
   "cell_type": "markdown",
   "metadata": {
    "id": "IEy9G8LOrUor"
   },
   "source": [
    "[Vysvětlení metody get](https://www.w3schools.com/python/ref_dictionary_get.asp)"
   ]
  },
  {
   "cell_type": "code",
   "execution_count": null,
   "metadata": {
    "id": "_Fy6Cv3XrbT2"
   },
   "outputs": [],
   "source": [
    "print(muj_novy_sl.get(\"pohlavi\", \"Klic neni dostupny!\"))"
   ]
  },
  {
   "cell_type": "code",
   "execution_count": 59,
   "metadata": {
    "executionInfo": {
     "elapsed": 264,
     "status": "ok",
     "timestamp": 1678539119755,
     "user": {
      "displayName": "Radim Jedlička",
      "userId": "11502208915568361358"
     },
     "user_tz": -60
    },
    "id": "LIMAG2tQs6wj"
   },
   "outputs": [],
   "source": [
    "vystup = muj_novy_sl.get(\"pohlavi\", \"Klic neni dostupny!\")"
   ]
  },
  {
   "cell_type": "code",
   "execution_count": null,
   "metadata": {
    "id": "0N1ktRZus8C2"
   },
   "outputs": [],
   "source": [
    "print(vystup)"
   ]
  },
  {
   "cell_type": "code",
   "execution_count": null,
   "metadata": {
    "id": "ABoArjzgs-Ap"
   },
   "outputs": [],
   "source": [
    "pprint(muj_novy_sl)"
   ]
  },
  {
   "cell_type": "markdown",
   "metadata": {
    "id": "rAw0hWTdtdoA"
   },
   "source": [
    "<br>\n",
    "\n",
    "### **clear**"
   ]
  },
  {
   "cell_type": "code",
   "execution_count": 63,
   "metadata": {
    "executionInfo": {
     "elapsed": 249,
     "status": "ok",
     "timestamp": 1678539144208,
     "user": {
      "displayName": "Radim Jedlička",
      "userId": "11502208915568361358"
     },
     "user_tz": -60
    },
    "id": "jbrKz5tLtCgh"
   },
   "outputs": [],
   "source": [
    "muj_novy_sl.clear()"
   ]
  },
  {
   "cell_type": "code",
   "execution_count": null,
   "metadata": {
    "id": "fo9lEuIdtfOZ"
   },
   "outputs": [],
   "source": [
    "muj_novy_sl"
   ]
  },
  {
   "cell_type": "code",
   "execution_count": null,
   "metadata": {
    "id": "gRwU7BQmticY"
   },
   "outputs": [],
   "source": [
    "pprint(muj_slovnik)"
   ]
  }
 ],
 "metadata": {
  "colab": {
   "authorship_tag": "ABX9TyPlIg2O5/UiA9BzrmdGu5Xp",
   "provenance": []
  },
  "kernelspec": {
   "display_name": "Python 3 (ipykernel)",
   "language": "python",
   "name": "python3"
  },
  "language_info": {
   "codemirror_mode": {
    "name": "ipython",
    "version": 3
   },
   "file_extension": ".py",
   "mimetype": "text/x-python",
   "name": "python",
   "nbconvert_exporter": "python",
   "pygments_lexer": "ipython3",
   "version": "3.10.0"
  }
 },
 "nbformat": 4,
 "nbformat_minor": 1
}
