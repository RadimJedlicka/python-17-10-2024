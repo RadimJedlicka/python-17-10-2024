{
 "cells": [
  {
   "cell_type": "markdown",
   "metadata": {
    "id": "qT2ePkEtkm9D"
   },
   "source": [
    "<h6 align=right> 🐍 Python akademie - lekce 3 - 31.10.2024</h6>"
   ]
  },
  {
   "cell_type": "markdown",
   "metadata": {
    "id": "JJqcddqS4X6V"
   },
   "source": [
    "# <h1 align=center><font color=black size=24><b>🎥 Movies</font></h1>\n",
    "\n",
    "<p align=center> (praktická úloha na závěr lekce)</p>\n",
    "\n",
    "<br>\n",
    "\n",
    "---"
   ]
  },
  {
   "cell_type": "markdown",
   "metadata": {
    "id": "4HNBpDnQk1h-"
   },
   "source": [
    "<br>\n",
    "\n",
    "Společně opět vyzkoušíme většinu teoretických znalostí z uplynulé lekce.<br>\n",
    "\n",
    "<br>\n",
    "\n",
    "Na začátku budeme mít **čtyři slovníky**. Každý obsahuje údaje o jiném filmu.\n",
    "\n",
    "<br>\n",
    "\n",
    "Program bude umět:\n",
    "\n",
    "<br>\n",
    "\n",
    "1. **Sjednotit** všechny 4 slovníky do jednoho,\n",
    "2. **přihlásit** a **uvítat** uživatele a **vypsat** nabídku služeb,\n",
    "3. umožnit **výběr** ze služeb,\n",
    "4. **první služba**, vypsat všechny dostupné filmy,\n",
    "5. **druhá služba**, vypsat detaily jednoho filmu,\n",
    "6. **třetí služba**, doporučit film,\n",
    "7. **ukončení programu**.\n",
    "\n",
    "<br>\n",
    "\n",
    "---"
   ]
  },
  {
   "cell_type": "markdown",
   "metadata": {
    "id": "oCvEVuKek417"
   },
   "source": [
    "<br>\n",
    "\n",
    "## **Vstupní údaje, které použijeme**"
   ]
  },
  {
   "cell_type": "code",
   "execution_count": 1,
   "metadata": {
    "id": "7iaISEJ036Y8"
   },
   "outputs": [],
   "source": [
    "oddelovac = \"=\" * 62\n",
    "\n",
    "sluzby = (\"dostupne filmy\", \"detaily filmu\", 'reziseri', \"doporuc film\")\n",
    "\n",
    "uzivatele = {\n",
    "    \"tomas\": {\"Shawshank Redemption\", \"The Godfather\", \"The Dark Knight\"},\n",
    "    \"petr\": {\"The Godfather\", \"The Dark Knight\"},\n",
    "    \"marek\": {\"The Dark Knight\", \"The Prestige\"}\n",
    "}\n",
    "\n",
    "film_1 = {\n",
    "    \"JMENO\": \"Shawshank Redemption\",\n",
    "    \"HODNOCENI\": \"93/100\",\n",
    "    \"ROK\": 1994,\n",
    "    \"REZISER\": \"Frank Darabont\",\n",
    "    \"STOPAZ\": 144,\n",
    "    \"HRAJI\": (\"Tim Robbins\", \"Morgan Freeman\", \"Bob Gunton\", \"William Sadler\",\n",
    "      \"Clancy Brown\", \"Gil Bellows\", \"Mark Rolston\", \"James Whitmore\",\n",
    "      \"Jeffrey DeMunn\", \"Larry Brandenburg\"\n",
    "     )\n",
    "}\n",
    "\n",
    "film_2 = {\n",
    "    \"JMENO\": \"The Godfather\",\n",
    "    \"HODNOCENI\": \"92/100\",\n",
    "    \"ROK\": 1972,\n",
    "    \"REZISER\": \"Francis Ford Coppola\",\n",
    "    \"STOPAZ\": 175,\n",
    "    \"HRAJI\": (\"Marlon Brando\", \"Al Pacino\", \"James Caan\",\n",
    "      \"Richard S. Castellano\", \"Robert Duvall\", \"Sterling Hayden\",\n",
    "      \"John Marley\", \"Richard Conte\"\n",
    "    )\n",
    "}\n",
    "\n",
    "film_3 = {\n",
    "    \"JMENO\": \"The Dark Knight\",\n",
    "    \"HODNOCENI\": \"90/100\",\n",
    "    \"ROK\": 2008,\n",
    "    \"REZISER\": \"Christopher Nolan\",\n",
    "    \"STOPAZ\": 152,\n",
    "    \"HRAJI\": (\"Christian Bale\", \"Heath Ledger\", \"Aaron Eckhart\",\n",
    "      \"Michael Caine\", \"Maggie Gyllenhaal\", \"Gary Oldman\", \"Morgan Freeman\",\n",
    "      \"Monique Gabriela\", \"Ron Dean\", \"Cillian Murphy\"\n",
    "    )\n",
    "}\n",
    "\n",
    "film_4 = {\n",
    "    \"JMENO\": \"The Prestige\",\n",
    "    \"HODNOCENI\": \"85/100\",\n",
    "    \"ROK\": 2006,\n",
    "    \"REZISER\": \"Christopher Nolan\",\n",
    "    \"STOPAZ\": 130,\n",
    "    \"HRAJI\": (\"Hugh Jackman\", \"Christian Bale\", \"Michael Caine\",\n",
    "      \"Piper Perabo\", \"Rebecca Hall\", \"Scarlett Johansson\", \"Samantha Mahurin\",\n",
    "      \"David Bowie\"\n",
    "    )\n",
    "}\n"
   ]
  },
  {
   "cell_type": "markdown",
   "metadata": {
    "id": "DSWsZs4FmG2A"
   },
   "source": [
    "<br>\n",
    "\n",
    "## **Spojíme všechny slovníky filmů do jednoho slovníku jménem `filmy`**\n"
   ]
  },
  {
   "cell_type": "markdown",
   "metadata": {
    "id": "gcgJJiKBmTVa"
   },
   "source": [
    "### <font color=red><b>Očekáváme:</b>\n",
    "```\n",
    ">>> print(filmy.keys())\n",
    "dict_keys(['Shawshank Redemption', 'The Godfather', 'The Dark Knight', 'The Prestige'])\n",
    "```"
   ]
  },
  {
   "cell_type": "markdown",
   "metadata": {
    "id": "Ler5DYmLmcTt"
   },
   "source": [
    "### <font color=ligtblue><b> 💻 Kód:</b>"
   ]
  },
  {
   "cell_type": "code",
   "execution_count": 2,
   "metadata": {
    "id": "RdYZvC3vlvH9"
   },
   "outputs": [],
   "source": [
    "filmy = {\n",
    "    film_1[\"JMENO\"]: film_1,\n",
    "    film_2[\"JMENO\"]: film_2,\n",
    "    film_3[\"JMENO\"]: film_3,\n",
    "    film_4[\"JMENO\"]: film_4\n",
    "}"
   ]
  },
  {
   "cell_type": "code",
   "execution_count": 3,
   "metadata": {},
   "outputs": [
    {
     "name": "stdout",
     "output_type": "stream",
     "text": [
      "dict_keys(['Shawshank Redemption', 'The Godfather', 'The Dark Knight', 'The Prestige'])\n"
     ]
    }
   ],
   "source": [
    "print(filmy.keys())"
   ]
  },
  {
   "cell_type": "code",
   "execution_count": 4,
   "metadata": {},
   "outputs": [
    {
     "data": {
      "text/plain": [
       "{'Shawshank Redemption': {'JMENO': 'Shawshank Redemption',\n",
       "  'HODNOCENI': '93/100',\n",
       "  'ROK': 1994,\n",
       "  'REZISER': 'Frank Darabont',\n",
       "  'STOPAZ': 144,\n",
       "  'HRAJI': ('Tim Robbins',\n",
       "   'Morgan Freeman',\n",
       "   'Bob Gunton',\n",
       "   'William Sadler',\n",
       "   'Clancy Brown',\n",
       "   'Gil Bellows',\n",
       "   'Mark Rolston',\n",
       "   'James Whitmore',\n",
       "   'Jeffrey DeMunn',\n",
       "   'Larry Brandenburg')},\n",
       " 'The Godfather': {'JMENO': 'The Godfather',\n",
       "  'HODNOCENI': '92/100',\n",
       "  'ROK': 1972,\n",
       "  'REZISER': 'Francis Ford Coppola',\n",
       "  'STOPAZ': 175,\n",
       "  'HRAJI': ('Marlon Brando',\n",
       "   'Al Pacino',\n",
       "   'James Caan',\n",
       "   'Richard S. Castellano',\n",
       "   'Robert Duvall',\n",
       "   'Sterling Hayden',\n",
       "   'John Marley',\n",
       "   'Richard Conte')},\n",
       " 'The Dark Knight': {'JMENO': 'The Dark Knight',\n",
       "  'HODNOCENI': '90/100',\n",
       "  'ROK': 2008,\n",
       "  'REZISER': 'Christopher Nolan',\n",
       "  'STOPAZ': 152,\n",
       "  'HRAJI': ('Christian Bale',\n",
       "   'Heath Ledger',\n",
       "   'Aaron Eckhart',\n",
       "   'Michael Caine',\n",
       "   'Maggie Gyllenhaal',\n",
       "   'Gary Oldman',\n",
       "   'Morgan Freeman',\n",
       "   'Monique Gabriela',\n",
       "   'Ron Dean',\n",
       "   'Cillian Murphy')},\n",
       " 'The Prestige': {'JMENO': 'The Prestige',\n",
       "  'HODNOCENI': '85/100',\n",
       "  'ROK': 2006,\n",
       "  'REZISER': 'Christopher Nolan',\n",
       "  'STOPAZ': 130,\n",
       "  'HRAJI': ('Hugh Jackman',\n",
       "   'Christian Bale',\n",
       "   'Michael Caine',\n",
       "   'Piper Perabo',\n",
       "   'Rebecca Hall',\n",
       "   'Scarlett Johansson',\n",
       "   'Samantha Mahurin',\n",
       "   'David Bowie')}}"
      ]
     },
     "execution_count": 4,
     "metadata": {},
     "output_type": "execute_result"
    }
   ],
   "source": [
    "filmy"
   ]
  },
  {
   "cell_type": "markdown",
   "metadata": {
    "id": "KbHevOJLmruM"
   },
   "source": [
    "<br>\n",
    "\n",
    "## **Uvítání a výpis nabídky**\n"
   ]
  },
  {
   "cell_type": "markdown",
   "metadata": {
    "id": "OGGPZBaumy-Z"
   },
   "source": [
    "### <font color=red><b>Očekáváme:</b>\n",
    "```\n",
    "ZADEJ JMENO: petr\n",
    "V PORADKU\n",
    "==============================================================\n",
    "              VITEJTE V NASEM FILMOVEM SLOVNIKU               \n",
    "==============================================================\n",
    " | dostupne filmy | detaily filmu | reziseri | doporuc film |       \n",
    "==============================================================\n",
    "```"
   ]
  },
  {
   "cell_type": "markdown",
   "metadata": {
    "id": "82L4OQSum7nJ"
   },
   "source": [
    "### <font color=ligtblue><b> 💻 Kód:</b>"
   ]
  },
  {
   "cell_type": "code",
   "execution_count": 5,
   "metadata": {
    "colab": {
     "base_uri": "https://localhost:8080/"
    },
    "executionInfo": {
     "elapsed": 3457,
     "status": "ok",
     "timestamp": 1674243976456,
     "user": {
      "displayName": "Radim Jedlička",
      "userId": "11502208915568361358"
     },
     "user_tz": -60
    },
    "id": "Y9Ai31HJmwa5",
    "outputId": "5f60fe6c-712b-45d7-cbc1-c0951ca2fdee"
   },
   "outputs": [
    {
     "name": "stdout",
     "output_type": "stream",
     "text": [
      "Zadej jmeno: marek\n",
      "V poradku\n",
      "==============================================================\n",
      "              VITEJTE V NASEM FILMOVEM SLOVNIKU!              \n",
      "==============================================================\n",
      " | dostupne filmy | detaily filmu | reziseri | doporuc film | \n",
      "==============================================================\n"
     ]
    }
   ],
   "source": [
    "uzivatel = input(\"Zadej jmeno: \")\n",
    "\n",
    "if not uzivatel in uzivatele:\n",
    "    print(\"neregistrovany uzivatel!\")\n",
    "    quit()\n",
    "else:\n",
    "    print(\"V poradku\", oddelovac, sep=\"\\n\")\n",
    "    print(\"Vitejte v nasem filmovem slovniku!\".upper().center(62),\n",
    "          oddelovac, sep=\"\\n\")\n",
    "    print((\"| \" + \" | \".join(sluzby) + \" |\").center(62), oddelovac, sep=\"\\n\")"
   ]
  },
  {
   "cell_type": "markdown",
   "metadata": {
    "id": "vrLuSZGDnbzJ"
   },
   "source": [
    "<br>\n",
    "\n",
    "## **Výběr služby a výpis všech dostupných filmů**\n"
   ]
  },
  {
   "cell_type": "markdown",
   "metadata": {
    "id": "CIzLEgdxnjPS"
   },
   "source": [
    "### <font color=red><b>Očekáváme:</b>\n",
    "```\n",
    "VYBER SLUZBU: dostupne filmy\n",
    "NASE FILMY: Shawshank Redemption, The Godfather, The Dark Knight, The Prestige\n",
    "```"
   ]
  },
  {
   "cell_type": "markdown",
   "metadata": {
    "id": "TaXWSfLTn2_q"
   },
   "source": [
    "### <font color=ligtblue><b> 💻 Kód:</b>"
   ]
  },
  {
   "cell_type": "code",
   "execution_count": 7,
   "metadata": {
    "colab": {
     "base_uri": "https://localhost:8080/"
    },
    "executionInfo": {
     "elapsed": 11096,
     "status": "ok",
     "timestamp": 1674244239049,
     "user": {
      "displayName": "Radim Jedlička",
      "userId": "11502208915568361358"
     },
     "user_tz": -60
    },
    "id": "IlR2eQ98ne-S",
    "outputId": "1587ea34-e844-4570-ab60-a2c24bbe8006"
   },
   "outputs": [
    {
     "name": "stdout",
     "output_type": "stream",
     "text": [
      "('dostupne filmy', 'detaily filmu', 'reziseri', 'doporuc film')\n",
      "Vyber sluzbu: fniuhs\n",
      "vybrana sluzba neni v nabidce, ukoncuji..\n"
     ]
    }
   ],
   "source": [
    "print(sluzby)\n",
    "vyber = input(\"Vyber sluzbu: \")\n",
    "\n",
    "if vyber in sluzby and vyber == \"dostupne filmy\":\n",
    "    print(\"DOSTUPNE FILMY:\", ', '.join(tuple(filmy.keys())), oddelovac, sep=\"\\n\")\n",
    "else:\n",
    "    print(\"vybrana sluzba neni v nabidce, ukoncuji..\")"
   ]
  },
  {
   "cell_type": "markdown",
   "metadata": {
    "id": "Eod29HQ5oPVo"
   },
   "source": [
    "<br>\n",
    "\n",
    "## **Vyber film a zobraz detaily o něm**\n"
   ]
  },
  {
   "cell_type": "markdown",
   "metadata": {
    "id": "kP0Kpvwgpgyv"
   },
   "source": [
    "### <font color=red><b>Očekáváme:</b>\n",
    "\n",
    "\n",
    "```\n",
    "VYBER SLUZBU: detaily filmu\n",
    "NASE FILMY: Shawshank Redemption, The Godfather, The Dark Knight, The Prestige\n",
    "VYBER FILM: Pelisky\n",
    "FILM NENI DOSTUPNY!\n",
    "```"
   ]
  },
  {
   "cell_type": "markdown",
   "metadata": {
    "id": "0Z6Ytpe6wBzq"
   },
   "source": [
    "### <font color=ligtblue><b> 💻 Kód:</b>"
   ]
  },
  {
   "cell_type": "code",
   "execution_count": 11,
   "metadata": {
    "colab": {
     "base_uri": "https://localhost:8080/"
    },
    "executionInfo": {
     "elapsed": 13716,
     "status": "ok",
     "timestamp": 1674244288026,
     "user": {
      "displayName": "Radim Jedlička",
      "userId": "11502208915568361358"
     },
     "user_tz": -60
    },
    "id": "ljJHeG70oEBq",
    "outputId": "534d2a21-065c-4b28-a6f3-82d1140d86d8"
   },
   "outputs": [
    {
     "name": "stdout",
     "output_type": "stream",
     "text": [
      "Vyber sluzbu:detaily filmu\n",
      "DOSTUPNE FILMY:\n",
      "Shawshank Redemption, The Godfather, The Dark Knight, The Prestige\n",
      "Vyber film:vojna\n",
      "==============================================================\n",
      "FILM: vojna\n",
      "Takovy film neznam\n",
      "==============================================================\n"
     ]
    }
   ],
   "source": [
    "vyber = input(\"Vyber sluzbu:\")\n",
    "\n",
    "if vyber in sluzby and vyber == \"dostupne filmy\":\n",
    "    print(\"DOSTUPNE FILMY:\", ', '.join(tuple(filmy.keys())), oddelovac, sep=\"\\n\")\n",
    "\n",
    "elif vyber in sluzby and vyber == \"detaily filmu\":\n",
    "    print(\"DOSTUPNE FILMY:\", ', '.join(tuple(filmy.keys())), sep=\"\\n\")\n",
    "    film = input(\"Vyber film:\")\n",
    "    print(oddelovac, \"FILM: \" + film, filmy.get(film, 'Takovy film neznam'), oddelovac, sep=\"\\n\")\n",
    "\n",
    "else:\n",
    "    print(\"vybrana sluzba neni v nabidce, ukoncuji..\")"
   ]
  },
  {
   "cell_type": "markdown",
   "metadata": {
    "id": "2kYAeVj5vTiP"
   },
   "source": [
    "<br>\n",
    "\n",
    "## **Vyber všechny režiséry**\n"
   ]
  },
  {
   "cell_type": "markdown",
   "metadata": {
    "id": "xqsKK3ZDwkCp"
   },
   "source": [
    "### <font color=red><b>Očekáváme:</b>\n",
    "\n",
    "\n",
    "```\n",
    "Vyber sluzbu: reziseri\n",
    " Christopher Nolan, Francis Ford Coppola, Frank Darabont\n",
    "==============================================================\n",
    "```"
   ]
  },
  {
   "cell_type": "markdown",
   "metadata": {
    "id": "3kvYyMTbwGem"
   },
   "source": [
    "### <font color=ligtblue><b> 💻 Kód:</b>"
   ]
  },
  {
   "cell_type": "code",
   "execution_count": 12,
   "metadata": {
    "colab": {
     "base_uri": "https://localhost:8080/"
    },
    "executionInfo": {
     "elapsed": 8241,
     "status": "ok",
     "timestamp": 1674244628553,
     "user": {
      "displayName": "Radim Jedlička",
      "userId": "11502208915568361358"
     },
     "user_tz": -60
    },
    "id": "5IkULT7VwNSw",
    "outputId": "7d15cb6b-95b2-454d-d08f-a4e11519788c"
   },
   "outputs": [
    {
     "name": "stdout",
     "output_type": "stream",
     "text": [
      "Vyber sluzbu: reziseri\n",
      "Christopher Nolan, Francis Ford Coppola, Frank Darabont\n",
      "==============================================================\n"
     ]
    }
   ],
   "source": [
    "vyber = input(\"Vyber sluzbu: \")\n",
    "\n",
    "if vyber in sluzby and vyber == \"dostupne filmy\":\n",
    "    print(\"DOSTUPNE FILMY:\", ', '.join(tuple(filmy.keys())), oddelovac, sep=\"\\n\")\n",
    "\n",
    "elif vyber in sluzby and vyber == \"detaily filmu\":\n",
    "    print(\"DOSTUPNE FILMY:\", ', '.join(tuple(filmy.keys())), sep=\"\\n\")\n",
    "    film = input(\"Vyber film:\")\n",
    "    print(oddelovac, f\"FILM: {film}\", filmy.get(film), oddelovac, sep=\"\\n\")\n",
    "\n",
    "elif vyber in sluzby and vyber == 'reziseri':\n",
    "    reziseri = {filmy[\"Shawshank Redemption\"][\"REZISER\"],\n",
    "                filmy[\"The Godfather\"][\"REZISER\"],\n",
    "                filmy[\"The Dark Knight\"][\"REZISER\"],\n",
    "                filmy[\"The Prestige\"][\"REZISER\"]}\n",
    "    print(', ' .join(reziseri), oddelovac, sep=\"\\n\")\n",
    "else:\n",
    "    print(\"Vybrana sluzba neni v nabidce, ukoncuji..\", oddelovac, sep=\"\\n\")"
   ]
  },
  {
   "cell_type": "markdown",
   "metadata": {
    "id": "uJIsuOdLrKjh"
   },
   "source": [
    "<br>\n",
    "\n",
    "## **Doporuč film podle ostatních uživatelů**\n"
   ]
  },
  {
   "cell_type": "markdown",
   "metadata": {
    "id": "kPk5g3KBrRJh"
   },
   "source": [
    "### <font color=red><b>Očekáváme:</b>\n",
    "\n",
    "```bash\n",
    "Zadej jmeno:petr\n",
    "V poradku\n",
    "==============================================================\n",
    "              VITEJTE V NASEM FILMOVEM SLOVNIKU!              \n",
    "==============================================================\n",
    "      | dostupne filmy | detaily filmu | doporuc film |       \n",
    "==============================================================\n",
    "Vyber sluzbu:doporuc film\n",
    "ZKUS FILM: {'Shawshank Redemption'}\n",
    "```\n",
    "\n",
    "```bash\n",
    "Zadej jmeno:marek\n",
    "V poradku\n",
    "==============================================================\n",
    "              VITEJTE V NASEM FILMOVEM SLOVNIKU!              \n",
    "==============================================================\n",
    "      | dostupne filmy | detaily filmu | doporuc film |       \n",
    "==============================================================\n",
    "Vyber sluzbu:doporuc film\n",
    "ZKUS FILM: {'Shawshank Redemption', 'The Godfather'}\n",
    "```"
   ]
  },
  {
   "cell_type": "markdown",
   "metadata": {
    "id": "ackSShWbwEv2"
   },
   "source": [
    "### <font color=ligtblue><b> 💻 Kód:</b>"
   ]
  },
  {
   "cell_type": "code",
   "execution_count": null,
   "metadata": {
    "id": "Yn6FeHReBVof"
   },
   "outputs": [],
   "source": [
    "# TODO\n",
    "uzivatel = input(\"Zadej jmeno: \")\n",
    "vyber = input(\"Vyber sluzbu: \")\n",
    "\n",
    "if vyber in sluzby and vyber == \"dostupne filmy\":\n",
    "    print(\"NASE FILMY:\", \", \".join(tuple(filmy.keys())))\n",
    "\n",
    "elif vyber in sluzby and vyber == \"detaily filmu\":\n",
    "    print(\"NASE FILMY:\", \", \".join(tuple(filmy.keys())))\n",
    "    jmeno_filmu = input(\"VYBER FILM:\")\n",
    "    print(filmy.get(jmeno_filmu, \"FILM NENI DOSTUPNY!\"))\n",
    "\n",
    "elif vyber in sluzby and vyber == \"doporuc film\":\n",
    "    # kopie puvodniho slovniku hodnoceni (budeme upravovat!)\n",
    "    kopie_hodnoceni = uzivatele.copy()\n",
    "\n",
    "    # selekce aktivniho uzivatele\n",
    "    aktivni_uzivatel = kopie_hodnoceni.pop(uzivatel)\n",
    "    print(f'{aktivni_uzivatel=}')\n",
    "\n",
    "    # zbytek uzivatelu\n",
    "    zbytek_hodnoceni = kopie_hodnoceni\n",
    "    # print(f'{zbytek_hodnoceni=}')\n",
    "\n",
    "    # priradit detaily k promennym\n",
    "    detaily_prvni_uzivatel = zbytek_hodnoceni.popitem()\n",
    "    detaily_druhy_uzivatel = zbytek_hodnoceni.popitem()\n",
    "    # print(f'{detaily_prvni_uzivatel=}')\n",
    "    # print(f'{detaily_druhy_uzivatel=}')\n",
    "\n",
    "\n",
    "    # priradit jmena a hodnoceni zbyvajicich uzivatelu\n",
    "    jmeno_prvni_uz = detaily_prvni_uzivatel[0]\n",
    "    jmeno_druhy_uz = detaily_druhy_uzivatel[0]\n",
    "    hodnoceni_prvni_uz = detaily_prvni_uzivatel[1]\n",
    "    hodnoceni_druhy_uz = detaily_druhy_uzivatel[1]\n",
    "    # print(f'{jmeno_prvni_uz=}')\n",
    "    # print(f'{jmeno_druhy_uz=}')\n",
    "    # print(f'{hodnoceni_prvni_uz=}')\n",
    "    # print(f'{hodnoceni_druhy_uz=}')\n",
    "\n",
    "    # porovnani spolecnych filmu pro aktivniho uzivatele a zbytek uzivatelu\n",
    "    spolecni_prvni_uziv = aktivni_uzivatel.intersection(hodnoceni_prvni_uz)\n",
    "    spolecni_druhy_uziv = aktivni_uzivatel.intersection(hodnoceni_druhy_uz)\n",
    "    # print(f'{spolecni_prvni_uziv=}')\n",
    "    # print(f'{spolecni_druhy_uziv=}')\n",
    "\n",
    "    # vyber nejvetsiho poctu spolecnych filmu\n",
    "    if len(spolecni_prvni_uziv) > len(spolecni_druhy_uziv):\n",
    "        nejvice_spolecnych = uzivatele[jmeno_prvni_uz]\n",
    "    elif len(spolecni_prvni_uziv) < len(spolecni_druhy_uziv):\n",
    "        nejvice_spolecnych = uzivatele[jmeno_druhy_uz]\n",
    "    elif len(spolecni_prvni_uziv) == len(spolecni_druhy_uziv):\n",
    "         nejvice_spolecnych = uzivatele[jmeno_druhy_uz].union(\n",
    "             uzivatele[jmeno_prvni_uz]\n",
    "         )\n",
    "     # print(f'{nejvice_spolecnych=}')\n",
    "\n",
    "    # doporuc film podle rozdilu shlednutych od akt. uzivatele a nejvice shodnych filmu\n",
    "    print(f\"Oblibene filmy akt. uzivatel: {aktivni_uzivatel}\")\n",
    "    print(f\"Nejvice spol. oblibenych filmu: {nejvice_spolecnych}\")\n",
    "\n",
    "    navrhy = set(nejvice_spolecnych).difference(aktivni_uzivatel)\n",
    "    print(f\"Navrhuji filmy: {navrhy}\" if navrhy else \"Nemam pro tebe zadny film\")\n",
    "\n",
    "else:\n",
    "    print(\"SLUZBA NENI DOSTUPNA!\")"
   ]
  },
  {
   "cell_type": "markdown",
   "metadata": {
    "id": "GQw0dbS1CZ3c"
   },
   "source": [
    "### <font color=ligtblue><b> 💻 Celý kód:</b>"
   ]
  },
  {
   "cell_type": "code",
   "execution_count": null,
   "metadata": {
    "id": "fT9wFzlWCUm2"
   },
   "outputs": [],
   "source": [
    "from pprint import pprint\n",
    "\n",
    "oddelovac = \"=\" * 62\n",
    "\n",
    "sluzby = (\"dostupne filmy\", \"detaily filmu\", 'reziseri', \"doporuc film\")\n",
    "\n",
    "uzivatele = {\n",
    "    \"tomas\": {\"Shawshank Redemption\", \"The Godfather\", \"The Dark Knight\"},\n",
    "    \"petr\": {\"The Godfather\", \"The Dark Knight\"},\n",
    "    \"marek\": {\"The Dark Knight\", \"The Prestige\"}\n",
    "}\n",
    "\n",
    "film_1 = {\n",
    "    \"JMENO\": \"Shawshank Redemption\",\n",
    "    \"HODNOCENI\": \"93/100\",\n",
    "    \"ROK\": 1994,\n",
    "    \"REZISER\": \"Frank Darabont\",\n",
    "    \"STOPAZ\": 144,\n",
    "    \"HRAJI\": (\"Tim Robbins\", \"Morgan Freeman\", \"Bob Gunton\", \"William Sadler\",\n",
    "      \"Clancy Brown\", \"Gil Bellows\", \"Mark Rolston\", \"James Whitmore\",\n",
    "      \"Jeffrey DeMunn\", \"Larry Brandenburg\"\n",
    "     )\n",
    "}\n",
    "\n",
    "film_2 = {\n",
    "    \"JMENO\": \"The Godfather\",\n",
    "    \"HODNOCENI\": \"92/100\",\n",
    "    \"ROK\": 1972,\n",
    "    \"REZISER\": \"Francis Ford Coppola\",\n",
    "    \"STOPAZ\": 175,\n",
    "    \"HRAJI\": (\"Marlon Brando\", \"Al Pacino\", \"James Caan\",\n",
    "      \"Richard S. Castellano\", \"Robert Duvall\", \"Sterling Hayden\",\n",
    "      \"John Marley\", \"Richard Conte\"\n",
    "    )\n",
    "}\n",
    "\n",
    "film_3 = {\n",
    "    \"JMENO\": \"The Dark Knight\",\n",
    "    \"HODNOCENI\": \"90/100\",\n",
    "    \"ROK\": 2008,\n",
    "    \"REZISER\": \"Christopher Nolan\",\n",
    "    \"STOPAZ\": 152,\n",
    "    \"HRAJI\": (\"Christian Bale\", \"Heath Ledger\", \"Aaron Eckhart\",\n",
    "      \"Michael Caine\", \"Maggie Gyllenhaal\", \"Gary Oldman\", \"Morgan Freeman\",\n",
    "      \"Monique Gabriela\", \"Ron Dean\", \"Cillian Murphy\"\n",
    "    )\n",
    "}\n",
    "\n",
    "film_4 = {\n",
    "    \"JMENO\": \"The Prestige\",\n",
    "    \"HODNOCENI\": \"85/100\",\n",
    "    \"ROK\": 2006,\n",
    "    \"REZISER\": \"Christopher Nolan\",\n",
    "    \"STOPAZ\": 130,\n",
    "    \"HRAJI\": (\"Hugh Jackman\", \"Christian Bale\", \"Michael Caine\",\n",
    "      \"Piper Perabo\", \"Rebecca Hall\", \"Scarlett Johansson\", \"Samantha Mahurin\",\n",
    "      \"David Bowie\"\n",
    "    )\n",
    "}\n",
    "\n",
    "\n",
    "## Spojíme všechny slovníky filmů do jednoho slovníku jménem `filmy` ########\n",
    "filmy = {\n",
    "    film_1[\"JMENO\"]: film_1,\n",
    "    film_2[\"JMENO\"]: film_2,\n",
    "    film_3[\"JMENO\"]: film_3,\n",
    "    film_4[\"JMENO\"]: film_4\n",
    "}\n",
    "\n",
    "## Uvítání a výpis nabídky ##################################################\n",
    "uzivatel = input(\"Zadej jmeno: \")\n",
    "\n",
    "if not uzivatel in uzivatele:\n",
    "    print(\"neregistrovany uzivatel!\")\n",
    "    quit()\n",
    "else:\n",
    "    print(\"V poradku\", oddelovac, sep=\"\\n\")\n",
    "    print(\"Vitejte v nasem filmovem slovniku!\".upper().center(62),\n",
    "          oddelovac, sep=\"\\n\")\n",
    "    print(f\"| {' | '.join(sluzby)} |\".center(62), oddelovac, sep=\"\\n\")\n",
    "\n",
    "## Výběr služby ##############################################################\n",
    "vyber = input(\"Vyber sluzbu: \")\n",
    "\n",
    "## Výpis všech dostupných filmů ##############################\n",
    "if vyber in sluzby and vyber == \"dostupne filmy\":\n",
    "    print(\"DOSTUPNE FILMY:\", ', '.join(tuple(filmy.keys())), oddelovac, sep=\"\\n\")\n",
    "\n",
    "## Vyber film a zobraz detaily o něm ########################\n",
    "elif vyber in sluzby and vyber == \"detaily filmu\":\n",
    "    print(\"DOSTUPNE FILMY:\", ', '.join(tuple(filmy.keys())), sep=\"\\n\")\n",
    "    film = input(\"Vyber film:\")\n",
    "    print(oddelovac, f\"FILM: {film}\", filmy.get(film), oddelovac, sep=\"\\n\")\n",
    "\n",
    "## Vyber všechny režiséry ###################################\n",
    "elif vyber in sluzby and vyber == 'reziseri':\n",
    "    reziseri = {\n",
    "        filmy[\"Shawshank Redemption\"][\"REZISER\"],\n",
    "        filmy[\"The Godfather\"][\"REZISER\"],\n",
    "        filmy[\"The Dark Knight\"][\"REZISER\"],\n",
    "        filmy[\"The Prestige\"][\"REZISER\"]\n",
    "    }\n",
    "    print(f\" {', ' .join(reziseri)}\", oddelovac, sep=\"\\n\")\n",
    "\n",
    "## Doporuč film podle ostatních uživatelů ##################\n",
    "elif vyber in sluzby and vyber == \"doporuc film\":\n",
    "    ## kopie puvodniho slovniku hodnoceni (budeme upravovat pouze kopii!)\n",
    "    kopie_hodnoceni = uzivatele.copy()\n",
    "\n",
    "    ## selekce aktivniho uzivatele (vytahnu si uzivatele a jeho oblibene filmy)\n",
    "    aktivni_uzivatel = kopie_hodnoceni.pop(uzivatel)\n",
    "    # print(f'{aktivni_uzivatel=}')\n",
    "\n",
    "    ## zbytek uzivatelu\n",
    "    zbytek_hodnoceni = kopie_hodnoceni\n",
    "    # print(f'{zbytek_hodnoceni=}')\n",
    "\n",
    "    ## ulozim si zbyle uzivatele do oddelenych promennych\n",
    "    detaily_prvni_uzivatel = zbytek_hodnoceni.popitem()\n",
    "    detaily_druhy_uzivatel = zbytek_hodnoceni.popitem()\n",
    "    # print(f'{detaily_prvni_uzivatel=}')\n",
    "    # print(f'{detaily_druhy_uzivatel=}')\n",
    "\n",
    "\n",
    "    ## tyto detaily jeste rozdelim do samostatnych promennych\n",
    "    jmeno_prvni_uz = detaily_prvni_uzivatel[0]\n",
    "    jmeno_druhy_uz = detaily_druhy_uzivatel[0]\n",
    "    hodnoceni_prvni_uz = detaily_prvni_uzivatel[1]\n",
    "    hodnoceni_druhy_uz = detaily_druhy_uzivatel[1]\n",
    "    # print(f'{jmeno_prvni_uz=}')\n",
    "    # print(f'{jmeno_druhy_uz=}')\n",
    "    # print(f'{hodnoceni_prvni_uz=}')\n",
    "    # print(f'{hodnoceni_druhy_uz=}')\n",
    "\n",
    "    ## porovnani spolecnych filmu pro aktivniho uzivatele a zbytek uzivatelu\n",
    "    ## udelam prunik obou uzivatelu s aktivnim uzivatelem abych videl, jake filmy maji spolecne\n",
    "    spolecni_prvni_uziv = aktivni_uzivatel.intersection(hodnoceni_prvni_uz)\n",
    "    spolecni_druhy_uziv = aktivni_uzivatel.intersection(hodnoceni_druhy_uz)\n",
    "    # print(f'{spolecni_prvni_uziv=}')\n",
    "    # print(f'{spolecni_druhy_uziv=}')\n",
    "\n",
    "    ## porovnavam, jestli prvni uzivatel ma vetsi pocet spolecnych filmu nez druhy (vuci aktivnimu uzivateli)\n",
    "    if len(spolecni_prvni_uziv) > len(spolecni_druhy_uziv):\n",
    "        nejvice_spolecnych = uzivatele[jmeno_prvni_uz]\n",
    "\n",
    "    elif len(spolecni_prvni_uziv) < len(spolecni_druhy_uziv):\n",
    "        nejvice_spolecnych = uzivatele[jmeno_druhy_uz]\n",
    "\n",
    "    elif len(spolecni_prvni_uziv) == len(spolecni_druhy_uziv):\n",
    "         nejvice_spolecnych = uzivatele[jmeno_druhy_uz].union(uzivatele[jmeno_prvni_uz])\n",
    "    # print(f'{nejvice_spolecnych=}')\n",
    "\n",
    "    ## doporuc film podle rozdilu shlednutych od akt. uzivatele a nejvice shodnych filmu\n",
    "    print(f\"Oblibene filmy akt. uzivatel: {aktivni_uzivatel}\")\n",
    "    print(f\"Nejvice spol. oblibenych filmu: {nejvice_spolecnych}\")\n",
    "\n",
    "    navrhy = set(nejvice_spolecnych).difference(aktivni_uzivatel)\n",
    "    print(f\"Navrhuji filmy: {navrhy}\" if navrhy else \"Nemam pro tebe zadny film\")\n",
    "\n",
    "else:\n",
    "    print(\"SLUZBA NENI DOSTUPNA!\")"
   ]
  }
 ],
 "metadata": {
  "colab": {
   "authorship_tag": "ABX9TyNGuaqr9IQF9XY55qofml4I",
   "provenance": []
  },
  "kernelspec": {
   "display_name": "Python 3 (ipykernel)",
   "language": "python",
   "name": "python3"
  },
  "language_info": {
   "codemirror_mode": {
    "name": "ipython",
    "version": 3
   },
   "file_extension": ".py",
   "mimetype": "text/x-python",
   "name": "python",
   "nbconvert_exporter": "python",
   "pygments_lexer": "ipython3",
   "version": "3.10.0"
  }
 },
 "nbformat": 4,
 "nbformat_minor": 1
}
