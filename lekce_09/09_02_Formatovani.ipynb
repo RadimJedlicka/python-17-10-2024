{
 "cells": [
  {
   "cell_type": "markdown",
   "metadata": {
    "id": "zqOZElE1OBmi"
   },
   "source": [
    "<h6 align=right> 🐍 Python akademie - lekce 9 - 12.12.2024</h6>"
   ]
  },
  {
   "cell_type": "markdown",
   "metadata": {
    "id": "D5gGPSKbOED1"
   },
   "source": [
    "<br>\n",
    "\n",
    "# <h1 align=center><font color=black size=24><b> 09_02: Formátování řetězců</font></h1>\n",
    "\n",
    "<br>\n"
   ]
  },
  {
   "cell_type": "markdown",
   "metadata": {
    "id": "YcH5I32kOP6b"
   },
   "source": [
    "<br>\n",
    "\n",
    "---\n",
    "\n",
    "### **Zajímavé odkazy z této lekce:**\n",
    "\n",
    "* [Vyzkoušej si formátování](https://www.learnpython.org/en/String_Formatting)\n",
    "* [W3Schools](https://www.w3schools.com/python/ref_string_format.asp)\n",
    "* [Real Python](https://realpython.com/python-string-formatting/)\n",
    "\n",
    "\n",
    "---\n",
    "\n",
    "<br>"
   ]
  },
  {
   "cell_type": "markdown",
   "metadata": {
    "id": "DOI1OucOOVBS"
   },
   "source": [
    "Jde o způsob, jakým efektivně zapisovat klasický string ve spojení se jmény proměnných, doplňujícím upravováním a dalšími variantami.\n",
    "\n"
   ]
  },
  {
   "cell_type": "markdown",
   "metadata": {
    "id": "fwFVjkOkOdpt"
   },
   "source": [
    "<br>\n",
    "\n",
    "## **Formátování řetězců**\n",
    "\n",
    "---"
   ]
  },
  {
   "cell_type": "markdown",
   "metadata": {
    "id": "_UDFUXNZObMI"
   },
   "source": [
    "\n",
    "\n",
    "Povíme si více o těchto třech způsobech:\n",
    "1. **Formátovací výraz** (`%`-formatting)\n",
    "2. **Formátovací metoda** (`str.format()`)\n",
    "3. **Formátovaný string** (`f\"\"`)\n"
   ]
  },
  {
   "cell_type": "markdown",
   "metadata": {
    "id": "2j_VNB5GOk6r"
   },
   "source": [
    "<br>\n",
    "\n",
    "### **Formátovací výraz**\n",
    "\n",
    "---\n"
   ]
  },
  {
   "cell_type": "markdown",
   "metadata": {
    "id": "Edy9joQrOpmR"
   },
   "source": [
    "Je to prapůvodní způsob formátování stringu v Pythonu už od uplného začátku:"
   ]
  },
  {
   "cell_type": "code",
   "execution_count": null,
   "metadata": {
    "id": "u9D7qPn8M27O"
   },
   "outputs": [],
   "source": [
    "JMENO = \"Lukas\"\n",
    "VEK = 27\n",
    "\n",
    "\"Ahoj, jmenuji se %s a je mi %d let\" % (JMENO, VEK)"
   ]
  },
  {
   "cell_type": "code",
   "execution_count": null,
   "metadata": {
    "id": "ZrJoVOkGyry4"
   },
   "outputs": [],
   "source": [
    "JMENO = \"Lukas\"\n",
    "VEK = 27\n",
    "\n",
    "\"Ahoj, jmenuji se %d a je mi %s let\" % (JMENO, VEK)"
   ]
  },
  {
   "cell_type": "code",
   "execution_count": null,
   "metadata": {
    "id": "wTe80oUayypV"
   },
   "outputs": [],
   "source": [
    "JMENO = \"Lukas\"\n",
    "VEK = 27\n",
    "\n",
    "\"Ahoj, jmenuji se %d a je mi %s let\" % (VEK, JMENO)"
   ]
  },
  {
   "cell_type": "markdown",
   "metadata": {
    "id": "SH_oQLEhO8Ml"
   },
   "source": [
    "<br>\n",
    "\n",
    "**Pozor!** dnes se již oficiálně nedoporučuje, jelikož často selhává, nesprávně zobrazuje tupl nebo slovníky. Vypisování není příliš praktické.\n"
   ]
  },
  {
   "cell_type": "markdown",
   "metadata": {
    "id": "yj3CLGnFO-R5"
   },
   "source": [
    "<br>\n",
    "\n",
    "### **Formátovací metoda**\n",
    "\n",
    "---\n"
   ]
  },
  {
   "cell_type": "markdown",
   "metadata": {
    "id": "2UYsvF2iPAKu"
   },
   "source": [
    "Od verze Pythonu 2.6 máme k dispozici další způsob pro formátování:"
   ]
  },
  {
   "cell_type": "code",
   "execution_count": null,
   "metadata": {
    "id": "WcO33F7UPZui"
   },
   "outputs": [],
   "source": [
    "JMENO = \"Eliska\"\n",
    "VEK = 26\n",
    "\n",
    "\"Ahoj, jmenuji se {} a je mi {} let\".format(JMENO, VEK)"
   ]
  },
  {
   "cell_type": "code",
   "execution_count": null,
   "metadata": {
    "id": "amzSI0fszikq"
   },
   "outputs": [],
   "source": [
    "JMENO = \"Eliska\"\n",
    "VEK = 26\n",
    "\n",
    "\"Ahoj, jmenuji se {} a je mi {} let\".format(VEK, JMENO)"
   ]
  },
  {
   "cell_type": "code",
   "execution_count": null,
   "metadata": {
    "id": "kFbiZwlXzm26"
   },
   "outputs": [],
   "source": [
    "JMENO = \"Eliska\"\n",
    "VEK = 26\n",
    "\n",
    "\"Ahoj, jmenuji se {} a je mi {} let\".format(VEK)"
   ]
  },
  {
   "cell_type": "markdown",
   "metadata": {
    "id": "QC_MeD1VPsAm"
   },
   "source": [
    "<br>\n",
    "\n",
    "**Pozor!** použití je pořád poměrně upovídané např. při zápisu více proměnných. Má rozhodně široké možnosti formátování, ale vždy prakticky použitelné.\n"
   ]
  },
  {
   "cell_type": "markdown",
   "metadata": {
    "id": "M3o47c_YPvzU"
   },
   "source": [
    "<br>\n",
    "\n",
    "### 🔝 **Formátovaný string (f-string)**\n",
    "\n",
    "---\n"
   ]
  },
  {
   "cell_type": "markdown",
   "metadata": {
    "id": "1YIIKW8lPzKx"
   },
   "source": [
    "Od verze Pythonu 3.6 máme k dispozici ještě třetí metodu pro formátování stringů."
   ]
  },
  {
   "cell_type": "code",
   "execution_count": null,
   "metadata": {
    "id": "nnjHhzGRP0CV"
   },
   "outputs": [],
   "source": [
    "JMENO = \"Lucie\"\n",
    "VEK = 28\n",
    "\n",
    "f\"Ahoj, jmenuji se {JMENO} a je mi {VEK} let\""
   ]
  },
  {
   "cell_type": "markdown",
   "metadata": {
    "id": "wRdtPFv3P7ye"
   },
   "source": [
    "Syntaxe je stručná přesto čitelná. Zvládá různé platné operace v Pythonu včetně volání funkcí. Opatrně při důsledném zapisování uvozovek."
   ]
  },
  {
   "cell_type": "code",
   "execution_count": null,
   "metadata": {
    "executionInfo": {
     "elapsed": 4,
     "status": "ok",
     "timestamp": 1682449769906,
     "user": {
      "displayName": "Radim Jedlička",
      "userId": "11502208915568361358"
     },
     "user_tz": -120
    },
    "id": "TX_Piu0c0Ay1"
   },
   "outputs": [],
   "source": [
    "def napis_jmeno(jmeno):\n",
    "    return jmeno"
   ]
  },
  {
   "cell_type": "code",
   "execution_count": null,
   "metadata": {
    "id": "HIODmPa80KIe"
   },
   "outputs": [],
   "source": [
    "f'Ahoj, jmenuju se {napis_jmeno(\"Radim\")}'"
   ]
  },
  {
   "cell_type": "code",
   "execution_count": null,
   "metadata": {
    "colab": {
     "base_uri": "https://localhost:8080/",
     "height": 36
    },
    "executionInfo": {
     "elapsed": 297,
     "status": "ok",
     "timestamp": 1682449796840,
     "user": {
      "displayName": "Radim Jedlička",
      "userId": "11502208915568361358"
     },
     "user_tz": -120
    },
    "id": "-zP6-6loP8um",
    "outputId": "4077052b-d39b-4f03-880e-bd0156baf1b4"
   },
   "outputs": [],
   "source": [
    "f\"|{JMENO:<10}|{VEK:^10}|{JMENO:>10}|\""
   ]
  }
 ],
 "metadata": {
  "colab": {
   "authorship_tag": "ABX9TyNvevoco9mUu7zwP//lI63P",
   "provenance": []
  },
  "kernelspec": {
   "display_name": "Python 3 (ipykernel)",
   "language": "python",
   "name": "python3"
  },
  "language_info": {
   "codemirror_mode": {
    "name": "ipython",
    "version": 3
   },
   "file_extension": ".py",
   "mimetype": "text/x-python",
   "name": "python",
   "nbconvert_exporter": "python",
   "pygments_lexer": "ipython3",
   "version": "3.10.0"
  }
 },
 "nbformat": 4,
 "nbformat_minor": 1
}
