{
 "cells": [
  {
   "cell_type": "markdown",
   "metadata": {
    "id": "NYeqOTF-TEKf"
   },
   "source": [
    "<h6 align=right> 🐍 Python akademie - lekce 9 - 12.12.2024</h6>"
   ]
  },
  {
   "cell_type": "markdown",
   "metadata": {
    "id": "MDWz97HlTG9e"
   },
   "source": [
    "<br>\n",
    "\n",
    "# <h1 align=center><font color=black size=24><b> 🔄 Convertor</font></h1>\n",
    "\n",
    "<p align=center> (praktická úloha na závěr 9. lekce)</p>\n",
    "\n",
    "<br>\n"
   ]
  },
  {
   "cell_type": "markdown",
   "metadata": {
    "id": "8GPIHfgjThsH"
   },
   "source": [
    "## **Zadání**"
   ]
  },
  {
   "cell_type": "markdown",
   "metadata": {
    "id": "btBSsGlGTjy1"
   },
   "source": [
    "Chceme načíst obsah textového souboru `vstupni_data.txt`, který je umístěný v podadresáři `solution`.\n",
    "\n",
    "<br>\n",
    "\n",
    "Následně chceme převést údaje, které jsme získali, na údaje, které jsou pro uživatele čitelné a pochopitelné. Údaje převeď pomocí vzorového slovníku ze zadání.\n",
    "\n",
    "<br>\n",
    "\n",
    "Celá úloha se bude skládat z těchto na sebe navazujících kroků:\n",
    "1. **Rozvržení** struktury programu,\n",
    "2. **vyhledání** textového souboru,\n",
    "3. **načtení** textového souboru,\n",
    "4. **iterování** načtenými daty,\n",
    "5. **selekcí** původního označení bytů,\n",
    "6. **nahrazení** původního označení novým označením,\n",
    "7. **spojení** nového označení a zbytku původního řádku."
   ]
  },
  {
   "cell_type": "code",
   "execution_count": null,
   "metadata": {
    "colab": {
     "base_uri": "https://localhost:8080/"
    },
    "executionInfo": {
     "elapsed": 21051,
     "status": "ok",
     "timestamp": 1682452389475,
     "user": {
      "displayName": "Radim Jedlička",
      "userId": "11502208915568361358"
     },
     "user_tz": -120
    },
    "id": "6T9uzQ6cYvsF",
    "outputId": "ce5b6a5e-9f6d-4a25-ddee-2303e320d43a"
   },
   "outputs": [
    {
     "name": "stdout",
     "output_type": "stream",
     "text": [
      "Mounted at /drive\n"
     ]
    }
   ],
   "source": [
    "# Pokud poustis notebook v Google Colaboratory\n",
    "# musis si ho napojit na svuj Disk (Drive)\n",
    "# abys mohl pracovat se soubory  \n",
    "from google.colab import drive\n",
    "drive.mount('/drive')"
   ]
  },
  {
   "cell_type": "code",
   "execution_count": 1,
   "metadata": {
    "executionInfo": {
     "elapsed": 7,
     "status": "ok",
     "timestamp": 1682523847672,
     "user": {
      "displayName": "Radim Jedlička",
      "userId": "11502208915568361358"
     },
     "user_tz": -120
    },
    "id": "1wPhjp54Y2d-"
   },
   "outputs": [],
   "source": [
    "import sys\n",
    "sys.path.append('/drive/MyDrive/ENGETO/LEKTOR/Python_Akademie/09_Prace-se-soubory-a-textem/09_ONSITE')\n"
   ]
  },
  {
   "cell_type": "code",
   "execution_count": 2,
   "metadata": {
    "executionInfo": {
     "elapsed": 340,
     "status": "ok",
     "timestamp": 1682523880208,
     "user": {
      "displayName": "Radim Jedlička",
      "userId": "11502208915568361358"
     },
     "user_tz": -120
    },
    "id": "57KPA6iybDy6"
   },
   "outputs": [],
   "source": [
    "abs_cesta = \"/drive/MyDrive/ENGETO/LEKTOR/Python_Akademie/09_Prace-se-soubory-a-textem/09_ONSITE/solution/vstupni_data.txt\""
   ]
  },
  {
   "cell_type": "markdown",
   "metadata": {
    "id": "NPfUYWOEUSPI"
   },
   "source": [
    "<br>\n",
    "\n",
    "## **Obecné spuštění (`Main function`)**"
   ]
  },
  {
   "cell_type": "markdown",
   "metadata": {
    "id": "6NUDZMiHUY0c"
   },
   "source": [
    "```python\n",
    "def spust_prevadeni():\n",
    "    print(\"Spoustime prevadeni!\")\n",
    "\n",
    "def prevod_typu():\n",
    "    prevodni_vzor = {\n",
    "    \"byt0001\": \"1+1\",\n",
    "    \"byt0002\": \"2+1\",\n",
    "    \"byt0003\": \"2+kk\",\n",
    "    \"byt0004\": \"3+1\",\n",
    "    \"byt0005\": \"3+kk\",\n",
    "    \"byt0006\": \"4+1\",\n",
    "    \"byt0007\": \"4+kk\",\n",
    "    }\n",
    "    spust_prevadeni()\n",
    "\n",
    "\n",
    "prevod_typu()\n",
    "```"
   ]
  },
  {
   "cell_type": "markdown",
   "metadata": {
    "id": "6ufzYblOVBL4"
   },
   "source": [
    "<br>\n",
    "\n",
    "## **Hledání souboru**\n"
   ]
  },
  {
   "cell_type": "markdown",
   "metadata": {
    "id": "qm6zFXUlVTR4"
   },
   "source": [
    "### <font color=red><b>Očekáváme:</b>"
   ]
  },
  {
   "cell_type": "markdown",
   "metadata": {
    "id": "teifbgi8VFHI"
   },
   "source": [
    "Existující soubor:\n",
    "```\n",
    "$ python convertor.py\n",
    "Nacitame soubor..\n",
    "```\n",
    "\n",
    "<br>\n",
    "\n",
    "Neexistující soubor:\n",
    "```\n",
    "$ python convertor.py\n",
    "Soubor nenalezen!\n",
    "```"
   ]
  },
  {
   "cell_type": "markdown",
   "metadata": {
    "id": "ohD8nlxqVWuu"
   },
   "source": [
    "### <font color=ligtblue><b> 💻 Kód:</b>"
   ]
  },
  {
   "cell_type": "code",
   "execution_count": null,
   "metadata": {
    "colab": {
     "base_uri": "https://localhost:8080/"
    },
    "executionInfo": {
     "elapsed": 1745,
     "status": "ok",
     "timestamp": 1682452401476,
     "user": {
      "displayName": "Radim Jedlička",
      "userId": "11502208915568361358"
     },
     "user_tz": -120
    },
    "id": "RUK9qRQAS-P4",
    "outputId": "71e8bb63-9d19-4350-c6c1-f53233cd7e5b"
   },
   "outputs": [
    {
     "name": "stdout",
     "output_type": "stream",
     "text": [
      "Nacitame soubor..\n"
     ]
    }
   ],
   "source": [
    "import os\n",
    "\n",
    "def spust_prevadeni(soubor):\n",
    "    if os.path.isfile(soubor):\n",
    "        print(\"Nacitame soubor..\")\n",
    "    else:\n",
    "        print(\"Soubor nenalezen!\")\n",
    "\n",
    "def prevod_typu():\n",
    "    abs_cesta\n",
    "    prevodni_vzor = {\n",
    "    \"byt0001\": \"1+1\",\n",
    "    \"byt0002\": \"2+1\",\n",
    "    \"byt0003\": \"2+kk\",\n",
    "    \"byt0004\": \"3+1\",\n",
    "    \"byt0005\": \"3+kk\",\n",
    "    \"byt0006\": \"4+1\",\n",
    "    \"byt0007\": \"4+kk\",\n",
    "    }\n",
    "    spust_prevadeni(abs_cesta)\n",
    "\n",
    "\n",
    "prevod_typu()"
   ]
  },
  {
   "cell_type": "code",
   "execution_count": null,
   "metadata": {
    "id": "38gzYt2M_jVM"
   },
   "outputs": [],
   "source": [
    "# # na lokalu\n",
    "# import os\n",
    "\n",
    "\n",
    "# def spust_prevadeni(soubor):\n",
    "#     if os.path.isfile(soubor):\n",
    "#         print(\"Nacitame soubor..\")\n",
    "#     else:\n",
    "#         print(\"Soubor nenalezen!\")\n",
    "\n",
    "\n",
    "# def prevod_typu():\n",
    "    \n",
    "#     abs_cesta = f\"{os.getcwd()}{os.sep}solution{os.sep}vstupni_data.txt\"\n",
    "\n",
    "#     prevodni_vzor = {\n",
    "#     \"byt0001\": \"1+1\",\n",
    "#     \"byt0002\": \"2+1\",\n",
    "#     \"byt0003\": \"2+kk\",\n",
    "#     \"byt0004\": \"3+1\",\n",
    "#     \"byt0005\": \"3+kk\",\n",
    "#     \"byt0006\": \"4+1\",\n",
    "#     \"byt0007\": \"4+kk\",\n",
    "#     }\n",
    "    \n",
    "#     spust_prevadeni(abs_cesta)\n",
    "\n",
    "\n",
    "# prevod_typu()"
   ]
  },
  {
   "cell_type": "markdown",
   "metadata": {
    "id": "IjegSaAqYjVa"
   },
   "source": [
    "<br>\n",
    "\n",
    "## **Načítáme textový soubor**\n"
   ]
  },
  {
   "cell_type": "markdown",
   "metadata": {
    "id": "ZzUd4CUSZ7Tv"
   },
   "source": [
    "### <font color=red><b>Očekáváme:</b>"
   ]
  },
  {
   "cell_type": "markdown",
   "metadata": {
    "id": "DQJKZ8R-Z9D6"
   },
   "source": [
    "```\n",
    "$ python convertor.py\n",
    "Nacitame soubor..\n",
    "['byt0001,55m2,Olomouc,ul.Heyrovského,\\n', ...\n",
    "```"
   ]
  },
  {
   "cell_type": "markdown",
   "metadata": {
    "id": "ewudHcBgaOPm"
   },
   "source": [
    "### <font color=ligtblue><b> 💻 Kód:</b>"
   ]
  },
  {
   "cell_type": "code",
   "execution_count": null,
   "metadata": {
    "colab": {
     "base_uri": "https://localhost:8080/"
    },
    "executionInfo": {
     "elapsed": 638,
     "status": "ok",
     "timestamp": 1677962635244,
     "user": {
      "displayName": "Radim Jedlička",
      "userId": "11502208915568361358"
     },
     "user_tz": -60
    },
    "id": "_05dZ2EtYlWI",
    "outputId": "5f08074f-b541-4224-bb29-1d106696cf69"
   },
   "outputs": [
    {
     "name": "stdout",
     "output_type": "stream",
     "text": [
      "Nacitame soubor..\n",
      "['byt0001,55m2,Olomouc,ul.Heyrovského,\\n', 'byt0003,65m2,Olomouc,ul.Novosadský_dvůr,\\n', 'byt0004,75m2,Olomouc,ul.Wolkerova,\\n', 'byt0004,68m2,Olomouc,ul.Zikova,\\n', 'byt0001,36m2,Olomouc,ul.Nová_Ulice,\\n', 'byt0003,46m2,Olomouc,ul.Nové_sady,\\n', 'byt0004,75m2,Olomouc,ul.Nová_Ulice,\\n', 'byt0003,42m2,Olomouc,ul.Nová_Ulice,\\n', 'byt0005,107m2,Olomouc,ul.Nová_Ulice,\\n', 'byt0003,74m2,Olomouc,ul.Uničovská,\\n', 'byt0003,42m2,Olomouc,ul.Nešverova,\\n', 'byt0002,55m2,Olomouc,ul.Dělnická,\\n', 'byt0004,59m2,Olomouc,ul.Zirmova,\\n', 'byt0007,92m2,Olomouc,ul.Nová_Ulice,\\n', 'byt0002,52m2,Olomouc,ul.Nová_Ulice,\\n', 'byt0004,76m2,Olomouc,ul.Nová_Ulice,\\n', 'byt0002,81m2,Olomouc,ul.Nová_Ulice,\\n', 'byt0003,64m2,Olomouc,ul.Za_vodojemem,\\n', 'byt0007,113m2,Olomouc,ul.Jihoslovanská,\\n', 'byt0005,94m2,Olomouc,ul.Uničovská,\\n', 'byt0003,42m2,Olomouc,ul.Rošického,\\n', 'byt0003,75m2,Olomouc,ul.Rošického,\\n', 'byt0004,48m2,Olomouc,ul.Handského,\\n', 'byt0004,68m2,Olomouc,ul.Komenského,\\n', 'byt0003,61m2,Olomouc,ul.Jarmily_Glazarové,\\n', 'byt0004,39m2,Olomouc,ul.Přichystalova,\\n', 'byt0003,70m2,Olomouc,ul.Foerstova,\\n', 'byt0005,61m2,Olomouc,ul.Nová_Ulice,\\n', 'byt0007,88m2,Olomouc,ul.Nová_Ulice,\\n', 'byt0003,92m2,Olomouc,ul.U_cukrovaru,\\n', 'byt0003,56m2,Olomouc,ul.U_cukrovaru,\\n', 'byt0004,56m2,Olomouc,ul.Paseka,\\n', 'byt0002,74m2,Olomouc,ul.Rokycanova,\\n', 'byt0007,116m2,Olomouc,ul.U_cukrovaru,\\n', 'byt0004,59m2,Olomouc,ul.Řezáčova,\\n', 'byt0004,100m2,Olomouc,ul.Libušina,\\n', 'byt0003,64m2,Olomouc,ul.Řezáčova,\\n', 'byt0001,33m2,Olomouc,ul.Libušina,\\n', 'byt0006,87m2,Olomouc,ul.Černá_cesta,\\n', 'byt0007,95m2,Olomouc,ul.Kaštanová,\\n', 'byt0003,74m2,Olomouc,ul.Nová_Ulice,\\n', 'byt0003,75m2,Olomouc,ul.Nová_Ulice,\\n', 'byt0004,86m2,Olomouc,ul.Hněvotínská,\\n', 'byt0002,67m2,Olomouc,ul.Polská,\\n', 'byt0007,120m2,Olomouc,ul.Dvořákova,\\n', 'byt0004,90m2,Olomouc,ul.Dvořákova,\\n', 'byt0004,86m2,Olomouc,ul.Nová_Ulice,\\n', 'byt0003,75m2,Olomouc,ul.Nešverova,\\n', 'byt0001,45m2,Olomouc,ul.Zirmova,\\n', 'byt0008,45m2,Olomouc,ul.Zirmova,\\n', 'byt0006,114m2,Olomouc,ul.Přichystalová,']\n"
     ]
    }
   ],
   "source": [
    "import os\n",
    "\n",
    "def spust_prevadeni(soubor):\n",
    "    if os.path.isfile(soubor):\n",
    "        print(\"Nacitame soubor..\")\n",
    "        print(nacitani_txt_souboru(soubor))\n",
    "    else:\n",
    "        print(\"Soubor nenalezen!\")\n",
    "\n",
    "def nacitani_txt_souboru(soubor):\n",
    "    with open(soubor, \"r\", encoding=\"utf-8\") as txt:\n",
    "        return txt.readlines()\n",
    "\n",
    "def prevod_typu():\n",
    "    abs_cesta\n",
    "    prevodni_vzor = {\n",
    "    \"byt0001\": \"1+1\",\n",
    "    \"byt0002\": \"2+1\",\n",
    "    \"byt0003\": \"2+kk\",\n",
    "    \"byt0004\": \"3+1\",\n",
    "    \"byt0005\": \"3+kk\",\n",
    "    \"byt0006\": \"4+1\",\n",
    "    \"byt0007\": \"4+kk\",\n",
    "    }\n",
    "    spust_prevadeni(abs_cesta)\n",
    "\n",
    "\n",
    "prevod_typu()"
   ]
  },
  {
   "cell_type": "code",
   "execution_count": null,
   "metadata": {
    "id": "LuTy-xNFAwi5"
   },
   "outputs": [],
   "source": [
    "# # na lokalu\n",
    "# import os\n",
    "\n",
    "\n",
    "# def spust_prevadeni(soubor):\n",
    "#     if os.path.isfile(soubor):\n",
    "#         print(\"Nacitame soubor..\")\n",
    "#         print(nacitani_txt_souboru(soubor))\n",
    "#     else:\n",
    "#         print(\"Soubor nenalezen!\")\n",
    "\n",
    "\n",
    "# def nacitani_txt_souboru(soubor):\n",
    "#     with open(soubor, \"r\", encoding=\"utf-8\") as txt:\n",
    "#         return txt.readlines()\n",
    "    \n",
    "\n",
    "# def prevod_typu():\n",
    "    \n",
    "#     abs_cesta = f\"{os.getcwd()}{os.sep}solution{os.sep}vstupni_data.txt\"\n",
    "\n",
    "#     prevodni_vzor = {\n",
    "#     \"byt0001\": \"1+1\",\n",
    "#     \"byt0002\": \"2+1\",\n",
    "#     \"byt0003\": \"2+kk\",\n",
    "#     \"byt0004\": \"3+1\",\n",
    "#     \"byt0005\": \"3+kk\",\n",
    "#     \"byt0006\": \"4+1\",\n",
    "#     \"byt0007\": \"4+kk\",\n",
    "#     }\n",
    "    \n",
    "#     spust_prevadeni(abs_cesta)\n",
    "\n",
    "\n",
    "# prevod_typu()"
   ]
  },
  {
   "cell_type": "markdown",
   "metadata": {
    "id": "XSwbt2ZXaWXC"
   },
   "source": [
    "<br>\n",
    "\n",
    "## **Iterujeme seznam**\n"
   ]
  },
  {
   "cell_type": "markdown",
   "metadata": {
    "id": "_VUpDRPpabbf"
   },
   "source": [
    "### <font color=red><b>Očekáváme:</b>"
   ]
  },
  {
   "cell_type": "markdown",
   "metadata": {
    "id": "hpAg46ioadk0"
   },
   "source": [
    "```\n",
    "$ python convertor.py\n",
    "Nacitame soubor..\n",
    "byt0001,55m2,Olomouc,ul.Heyrovského,\n",
    "\n",
    "byt0003,65m2,Olomouc,ul.Novosadský_dvůr,\n",
    "\n",
    "byt0004,75m2,Olomouc,ul.Wolkerova,\n",
    "```"
   ]
  },
  {
   "cell_type": "markdown",
   "metadata": {
    "id": "JoSEv-Ogbdj1"
   },
   "source": [
    "### <font color=ligtblue><b> 💻 Kód:</b>"
   ]
  },
  {
   "cell_type": "code",
   "execution_count": null,
   "metadata": {
    "colab": {
     "base_uri": "https://localhost:8080/"
    },
    "executionInfo": {
     "elapsed": 563,
     "status": "ok",
     "timestamp": 1682453000063,
     "user": {
      "displayName": "Radim Jedlička",
      "userId": "11502208915568361358"
     },
     "user_tz": -120
    },
    "id": "Y0tMJsB3aZmf",
    "outputId": "6b55b158-b696-44e6-fab4-e64ff550a14d"
   },
   "outputs": [
    {
     "name": "stdout",
     "output_type": "stream",
     "text": [
      "Nacitame soubor..\n",
      "byt0001,55m2,Olomouc,ul.Heyrovského,\n",
      "\n",
      "byt0003,65m2,Olomouc,ul.Novosadský_dvůr,\n",
      "\n",
      "byt0004,75m2,Olomouc,ul.Wolkerova,\n",
      "\n",
      "byt0004,68m2,Olomouc,ul.Zikova,\n",
      "\n",
      "byt0001,36m2,Olomouc,ul.Nová_Ulice,\n",
      "\n",
      "byt0003,46m2,Olomouc,ul.Nové_sady,\n",
      "\n",
      "byt0004,75m2,Olomouc,ul.Nová_Ulice,\n",
      "\n",
      "byt0003,42m2,Olomouc,ul.Nová_Ulice,\n",
      "\n",
      "byt0005,107m2,Olomouc,ul.Nová_Ulice,\n",
      "\n",
      "byt0003,74m2,Olomouc,ul.Uničovská,\n",
      "\n",
      "byt0003,42m2,Olomouc,ul.Nešverova,\n",
      "\n",
      "byt0002,55m2,Olomouc,ul.Dělnická,\n",
      "\n",
      "byt0004,59m2,Olomouc,ul.Zirmova,\n",
      "\n",
      "byt0007,92m2,Olomouc,ul.Nová_Ulice,\n",
      "\n",
      "byt0002,52m2,Olomouc,ul.Nová_Ulice,\n",
      "\n",
      "byt0004,76m2,Olomouc,ul.Nová_Ulice,\n",
      "\n",
      "byt0002,81m2,Olomouc,ul.Nová_Ulice,\n",
      "\n",
      "byt0003,64m2,Olomouc,ul.Za_vodojemem,\n",
      "\n",
      "byt0007,113m2,Olomouc,ul.Jihoslovanská,\n",
      "\n",
      "byt0005,94m2,Olomouc,ul.Uničovská,\n",
      "\n",
      "byt0003,42m2,Olomouc,ul.Rošického,\n",
      "\n",
      "byt0003,75m2,Olomouc,ul.Rošického,\n",
      "\n",
      "byt0004,48m2,Olomouc,ul.Handského,\n",
      "\n",
      "byt0004,68m2,Olomouc,ul.Komenského,\n",
      "\n",
      "byt0003,61m2,Olomouc,ul.Jarmily_Glazarové,\n",
      "\n",
      "byt0004,39m2,Olomouc,ul.Přichystalova,\n",
      "\n",
      "byt0003,70m2,Olomouc,ul.Foerstova,\n",
      "\n",
      "byt0005,61m2,Olomouc,ul.Nová_Ulice,\n",
      "\n",
      "byt0007,88m2,Olomouc,ul.Nová_Ulice,\n",
      "\n",
      "byt0003,92m2,Olomouc,ul.U_cukrovaru,\n",
      "\n",
      "byt0003,56m2,Olomouc,ul.U_cukrovaru,\n",
      "\n",
      "byt0004,56m2,Olomouc,ul.Paseka,\n",
      "\n",
      "byt0002,74m2,Olomouc,ul.Rokycanova,\n",
      "\n",
      "byt0007,116m2,Olomouc,ul.U_cukrovaru,\n",
      "\n",
      "byt0004,59m2,Olomouc,ul.Řezáčova,\n",
      "\n",
      "byt0004,100m2,Olomouc,ul.Libušina,\n",
      "\n",
      "byt0003,64m2,Olomouc,ul.Řezáčova,\n",
      "\n",
      "byt0001,33m2,Olomouc,ul.Libušina,\n",
      "\n",
      "byt0006,87m2,Olomouc,ul.Černá_cesta,\n",
      "\n",
      "byt0007,95m2,Olomouc,ul.Kaštanová,\n",
      "\n",
      "byt0003,74m2,Olomouc,ul.Nová_Ulice,\n",
      "\n",
      "byt0003,75m2,Olomouc,ul.Nová_Ulice,\n",
      "\n",
      "byt0004,86m2,Olomouc,ul.Hněvotínská,\n",
      "\n",
      "byt0002,67m2,Olomouc,ul.Polská,\n",
      "\n",
      "byt0007,120m2,Olomouc,ul.Dvořákova,\n",
      "\n",
      "byt0004,90m2,Olomouc,ul.Dvořákova,\n",
      "\n",
      "byt0004,86m2,Olomouc,ul.Nová_Ulice,\n",
      "\n",
      "byt0003,75m2,Olomouc,ul.Nešverova,\n",
      "\n",
      "byt0001,45m2,Olomouc,ul.Zirmova,\n",
      "\n",
      "byt0008,45m2,Olomouc,ul.Zirmova,\n",
      "\n",
      "byt0006,114m2,Olomouc,ul.Přichystalová,\n"
     ]
    }
   ],
   "source": [
    "import os\n",
    "\n",
    "def spust_prevadeni(soubor):\n",
    "    if os.path.isfile(soubor):\n",
    "        print(\"Nacitame soubor..\")\n",
    "        byty = nacitani_txt_souboru(soubor)\n",
    "        iteruj_pres_vsechna_data(byty)\n",
    "    else:\n",
    "        print(\"Soubor nenalezen!\")\n",
    "\n",
    "def nacitani_txt_souboru(soubor):\n",
    "    with open(soubor, \"r\", encoding=\"utf-8\") as txt:\n",
    "        return txt.readlines()\n",
    "\n",
    "def iteruj_pres_vsechna_data(data):\n",
    "    for detail in data:\n",
    "        print(detail)\n",
    "        \n",
    "def prevod_typu():\n",
    "    abs_cesta\n",
    "    prevodni_vzor = {\n",
    "    \"byt0001\": \"1+1\",\n",
    "    \"byt0002\": \"2+1\",\n",
    "    \"byt0003\": \"2+kk\",\n",
    "    \"byt0004\": \"3+1\",\n",
    "    \"byt0005\": \"3+kk\",\n",
    "    \"byt0006\": \"4+1\",\n",
    "    \"byt0007\": \"4+kk\",\n",
    "    }\n",
    "    spust_prevadeni(abs_cesta)\n",
    "\n",
    "\n",
    "prevod_typu()"
   ]
  },
  {
   "cell_type": "markdown",
   "metadata": {
    "id": "lPil-pRiaw9N"
   },
   "source": [
    "<br>\n",
    "\n",
    "## **Selektujeme pouze typ bytu**\n"
   ]
  },
  {
   "cell_type": "markdown",
   "metadata": {
    "id": "44oiklXua10X"
   },
   "source": [
    "### <font color=red><b>Očekáváme:</b>"
   ]
  },
  {
   "cell_type": "markdown",
   "metadata": {
    "id": "784x9_xra4Ix"
   },
   "source": [
    "```\n",
    "$ python convertor.py\n",
    "Nacitame soubor..\n",
    "byt0001\n",
    "byt0003\n",
    "byt0004\n",
    "...\n",
    "```"
   ]
  },
  {
   "cell_type": "markdown",
   "metadata": {
    "id": "7OkXyH7Ybe2s"
   },
   "source": [
    "### <font color=ligtblue><b> 💻 Kód:</b>"
   ]
  },
  {
   "cell_type": "code",
   "execution_count": null,
   "metadata": {
    "id": "VQ1Czj7Ya0H0"
   },
   "outputs": [],
   "source": [
    "import os\n",
    "\n",
    "def spust_prevadeni(soubor):\n",
    "    if os.path.isfile(soubor):\n",
    "        print(\"Nacitame soubor..\")\n",
    "        byty = nacitani_txt_souboru(soubor)\n",
    "        iteruj_pres_vsechna_data(byty)\n",
    "    else:\n",
    "        print(\"Soubor nenalezen!\")\n",
    "\n",
    "def nacitani_txt_souboru(soubor):\n",
    "    with open(soubor, \"r\", encoding=\"utf-8\") as txt:\n",
    "        return txt.readlines()\n",
    "\n",
    "def iteruj_pres_vsechna_data(data):\n",
    "    for detail in data:\n",
    "        print(detail.split(\",\",maxsplit=1)[0])\n",
    "        \n",
    "def prevod_typu():\n",
    "    abs_cesta\n",
    "    prevodni_vzor = {\n",
    "    \"byt0001\": \"1+1\",\n",
    "    \"byt0002\": \"2+1\",\n",
    "    \"byt0003\": \"2+kk\",\n",
    "    \"byt0004\": \"3+1\",\n",
    "    \"byt0005\": \"3+kk\",\n",
    "    \"byt0006\": \"4+1\",\n",
    "    \"byt0007\": \"4+kk\",\n",
    "    }\n",
    "    spust_prevadeni(abs_cesta)\n",
    "\n",
    "\n",
    "prevod_typu()"
   ]
  },
  {
   "cell_type": "markdown",
   "metadata": {
    "id": "rBLF2zgnbiCD"
   },
   "source": [
    "<br>\n",
    "\n",
    "## **Nahradíme žádoucímu hodnotami**\n"
   ]
  },
  {
   "cell_type": "markdown",
   "metadata": {
    "id": "E0v8NQsbbmBL"
   },
   "source": [
    "### <font color=red><b>Očekáváme:</b>"
   ]
  },
  {
   "cell_type": "markdown",
   "metadata": {
    "id": "N5bZ3R1Xbofp"
   },
   "source": [
    "```\n",
    "$ python convertor.py\n",
    "Nacitame soubor..\n",
    "1+1\n",
    "2+kk\n",
    "3+1\n",
    "...\n",
    "```"
   ]
  },
  {
   "cell_type": "markdown",
   "metadata": {
    "id": "ELoOwZDYbqNz"
   },
   "source": [
    "### <font color=ligtblue><b> 💻 Kód:</b>"
   ]
  },
  {
   "cell_type": "code",
   "execution_count": null,
   "metadata": {
    "id": "f3wDJlHobkQ0"
   },
   "outputs": [],
   "source": [
    "import os\n",
    "\n",
    "def spust_prevadeni(soubor, vzor):\n",
    "    if os.path.isfile(soubor):\n",
    "        print(\"Nacitame soubor..\")\n",
    "        byty = nacitani_txt_souboru(soubor)\n",
    "        iteruj_pres_vsechna_data(byty, vzor)\n",
    "    else:\n",
    "        print(\"Soubor nenalezen!\")\n",
    "\n",
    "def nacitani_txt_souboru(soubor):\n",
    "    with open(soubor, \"r\", encoding=\"utf-8\") as txt:\n",
    "        return txt.readlines()\n",
    "\n",
    "def iteruj_pres_vsechna_data(data, vzor):\n",
    "    for detail in data:\n",
    "        novy_detail = prepis_novy_typ_bytu(detail, vzor)\n",
    "\n",
    "\n",
    "def prepis_novy_typ_bytu(detail, vzor):\n",
    "    dispozice, *zbytek = detail.split(\",\",maxsplit=1)\n",
    "    novy_zapis = vzor.get(dispozice)\n",
    "    print(novy_zapis)\n",
    "    \n",
    "def prevod_typu():\n",
    "    abs_cesta\n",
    "    prevodni_vzor = {\n",
    "    \"byt0001\": \"1+1\",\n",
    "    \"byt0002\": \"2+1\",\n",
    "    \"byt0003\": \"2+kk\",\n",
    "    \"byt0004\": \"3+1\",\n",
    "    \"byt0005\": \"3+kk\",\n",
    "    \"byt0006\": \"4+1\",\n",
    "    \"byt0007\": \"4+kk\",\n",
    "    }\n",
    "    spust_prevadeni(abs_cesta, prevodni_vzor)\n",
    "\n",
    "\n",
    "prevod_typu()"
   ]
  },
  {
   "cell_type": "markdown",
   "metadata": {
    "id": "OVX295rrb_jg"
   },
   "source": [
    "<br>\n",
    "\n",
    "## **Doplníme celý detail k položce**\n"
   ]
  },
  {
   "cell_type": "markdown",
   "metadata": {
    "id": "BafycktlcHRp"
   },
   "source": [
    "### <font color=red><b>Očekáváme:</b>"
   ]
  },
  {
   "cell_type": "markdown",
   "metadata": {
    "id": "S8fqvjNvcDnN"
   },
   "source": [
    "```\n",
    "$ python convertor.py\n",
    "Nacitame soubor..\n",
    "{'3+kk, 61m2,Olomouc,ul.Nová_Ulice,\\n',\n",
    "...\n",
    "```"
   ]
  },
  {
   "cell_type": "markdown",
   "metadata": {
    "id": "2_YXW1FLcI5o"
   },
   "source": [
    "### <font color=ligtblue><b> 💻 Kód:</b>"
   ]
  },
  {
   "cell_type": "code",
   "execution_count": null,
   "metadata": {
    "colab": {
     "base_uri": "https://localhost:8080/"
    },
    "executionInfo": {
     "elapsed": 222,
     "status": "ok",
     "timestamp": 1677962655368,
     "user": {
      "displayName": "Radim Jedlička",
      "userId": "11502208915568361358"
     },
     "user_tz": -60
    },
    "id": "T8UryWjacBxp",
    "outputId": "81b72a31-14fb-4700-8263-d8ed7b481b5c"
   },
   "outputs": [
    {
     "name": "stdout",
     "output_type": "stream",
     "text": [
      "Nacitame soubor..\n",
      "{'4+kk, 113m2,Olomouc,ul.Jihoslovanská,\\n', '4+1, 87m2,Olomouc,ul.Černá_cesta,\\n', '2+1, 55m2,Olomouc,ul.Dělnická,\\n', '2+kk, 61m2,Olomouc,ul.Jarmily_Glazarové,\\n', '4+kk, 95m2,Olomouc,ul.Kaštanová,\\n', 'Neznama dispozice, 45m2,Olomouc,ul.Zirmova,\\n', '3+kk, 94m2,Olomouc,ul.Uničovská,\\n', '1+1, 45m2,Olomouc,ul.Zirmova,\\n', '2+kk, 70m2,Olomouc,ul.Foerstova,\\n', '3+1, 39m2,Olomouc,ul.Přichystalova,\\n', '2+kk, 42m2,Olomouc,ul.Nová_Ulice,\\n', '3+kk, 107m2,Olomouc,ul.Nová_Ulice,\\n', '1+1, 55m2,Olomouc,ul.Heyrovského,\\n', '2+kk, 92m2,Olomouc,ul.U_cukrovaru,\\n', '2+kk, 42m2,Olomouc,ul.Rošického,\\n', '2+kk, 75m2,Olomouc,ul.Nová_Ulice,\\n', '3+1, 86m2,Olomouc,ul.Hněvotínská,\\n', '2+1, 74m2,Olomouc,ul.Rokycanova,\\n', '3+1, 76m2,Olomouc,ul.Nová_Ulice,\\n', '1+1, 33m2,Olomouc,ul.Libušina,\\n', '2+kk, 74m2,Olomouc,ul.Uničovská,\\n', '4+kk, 120m2,Olomouc,ul.Dvořákova,\\n', '2+kk, 65m2,Olomouc,ul.Novosadský_dvůr,\\n', '4+kk, 116m2,Olomouc,ul.U_cukrovaru,\\n', '3+1, 59m2,Olomouc,ul.Zirmova,\\n', '1+1, 36m2,Olomouc,ul.Nová_Ulice,\\n', '3+1, 100m2,Olomouc,ul.Libušina,\\n', '2+kk, 46m2,Olomouc,ul.Nové_sady,\\n', '2+kk, 75m2,Olomouc,ul.Rošického,\\n', '3+1, 86m2,Olomouc,ul.Nová_Ulice,\\n', '3+kk, 61m2,Olomouc,ul.Nová_Ulice,\\n', '2+1, 81m2,Olomouc,ul.Nová_Ulice,\\n', '3+1, 75m2,Olomouc,ul.Wolkerova,\\n', '2+1, 52m2,Olomouc,ul.Nová_Ulice,\\n', '3+1, 59m2,Olomouc,ul.Řezáčova,\\n', '3+1, 68m2,Olomouc,ul.Zikova,\\n', '3+1, 75m2,Olomouc,ul.Nová_Ulice,\\n', '4+kk, 92m2,Olomouc,ul.Nová_Ulice,\\n', '2+kk, 64m2,Olomouc,ul.Za_vodojemem,\\n', '4+1, 114m2,Olomouc,ul.Přichystalová,', '2+kk, 75m2,Olomouc,ul.Nešverova,\\n', '4+kk, 88m2,Olomouc,ul.Nová_Ulice,\\n', '3+1, 56m2,Olomouc,ul.Paseka,\\n', '2+kk, 42m2,Olomouc,ul.Nešverova,\\n', '3+1, 48m2,Olomouc,ul.Handského,\\n', '2+kk, 56m2,Olomouc,ul.U_cukrovaru,\\n', '3+1, 68m2,Olomouc,ul.Komenského,\\n', '2+kk, 74m2,Olomouc,ul.Nová_Ulice,\\n', '2+1, 67m2,Olomouc,ul.Polská,\\n', '3+1, 90m2,Olomouc,ul.Dvořákova,\\n', '2+kk, 64m2,Olomouc,ul.Řezáčova,\\n'}\n"
     ]
    }
   ],
   "source": [
    "import os\n",
    "\n",
    "def spust_prevadeni(soubor, vzor):\n",
    "    if os.path.isfile(soubor):\n",
    "        print(\"Nacitame soubor..\")\n",
    "        byty = nacitani_txt_souboru(soubor)\n",
    "        nova_data = iteruj_pres_vsechna_data(byty, vzor)\n",
    "        print(nova_data)\n",
    "    else:\n",
    "        print(\"Soubor nenalezen!\")\n",
    "\n",
    "def nacitani_txt_souboru(soubor):\n",
    "    with open(soubor, \"r\", encoding=\"utf-8\") as txt:\n",
    "        return txt.readlines()\n",
    "\n",
    "def iteruj_pres_vsechna_data(data, vzor):\n",
    "    return {\n",
    "        prepis_novy_typ_bytu(detail, vzor)\n",
    "        for detail in data\n",
    "    }\n",
    "\n",
    "\n",
    "def prepis_novy_typ_bytu(detail, vzor):\n",
    "    dispozice, *zbytek = detail.split(\",\", maxsplit=1)\n",
    "    novy_zapis = vzor.get(dispozice, \"Neznama dispozice\")\n",
    "    return \", \".join((novy_zapis, \", \".join(zbytek)))\n",
    "\n",
    "    \n",
    "def prevod_typu():\n",
    "    abs_cesta\n",
    "    prevodni_vzor = {\n",
    "    \"byt0001\": \"1+1\",\n",
    "    \"byt0002\": \"2+1\",\n",
    "    \"byt0003\": \"2+kk\",\n",
    "    \"byt0004\": \"3+1\",\n",
    "    \"byt0005\": \"3+kk\",\n",
    "    \"byt0006\": \"4+1\",\n",
    "    \"byt0007\": \"4+kk\",\n",
    "    }\n",
    "    spust_prevadeni(abs_cesta, prevodni_vzor)\n",
    "\n",
    "\n",
    "prevod_typu()"
   ]
  }
 ],
 "metadata": {
  "colab": {
   "authorship_tag": "ABX9TyOipPXaGvU+9QjCAp98MBp4",
   "provenance": []
  },
  "kernelspec": {
   "display_name": "Python 3 (ipykernel)",
   "language": "python",
   "name": "python3"
  },
  "language_info": {
   "codemirror_mode": {
    "name": "ipython",
    "version": 3
   },
   "file_extension": ".py",
   "mimetype": "text/x-python",
   "name": "python",
   "nbconvert_exporter": "python",
   "pygments_lexer": "ipython3",
   "version": "3.10.0"
  }
 },
 "nbformat": 4,
 "nbformat_minor": 1
}
