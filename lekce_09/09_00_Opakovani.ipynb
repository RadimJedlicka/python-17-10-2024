{
 "cells": [
  {
   "cell_type": "markdown",
   "metadata": {
    "id": "R5egyKuyqyjD"
   },
   "source": [
    "<h6 align=right> 🐍 Python akademie - lekce 9 - 12.12.2024</h6>"
   ]
  },
  {
   "cell_type": "markdown",
   "metadata": {
    "id": "0Mdb0gn0q4ZK"
   },
   "source": [
    "<br>\n",
    "\n",
    "# <h1 align=center><font color=black size=24><b> 09_00: Opakování po osmé lekci!</font></h1>\n",
    "\n",
    "<br>\n",
    "\n",
    "---"
   ]
  },
  {
   "cell_type": "markdown",
   "metadata": {
    "id": "jWPe56r3q_f5"
   },
   "source": [
    "<br>\n",
    "\n",
    "### **Ukázka #01**\n",
    "\n",
    "Metoda nebo funkce?"
   ]
  },
  {
   "cell_type": "code",
   "execution_count": null,
   "metadata": {
    "id": "L_iM2pdaqtsa"
   },
   "outputs": [],
   "source": [
    "print(\"abcdefgh\".upper())\n",
    "print(\"Ahoj vsem!\")\n",
    "print(isinstance({\"a\", \"b\", \"c\"}, set))\n",
    "[\"a\", \"b\", \"c\", \"d\"].copy()"
   ]
  },
  {
   "cell_type": "markdown",
   "metadata": {
    "id": "OH2-OSAprLH8"
   },
   "source": [
    "<details>\n",
    "  <summary>❓Vysvětlení ❓</summary>\n",
    "\n",
    "- `print()` funkce,\n",
    "- `upper()` metoda,\n",
    "- `isinstance()` funkce,\n",
    "- `copy()` metoda.\n",
    "\n",
    "<br>\n",
    "\n",
    "\n",
    "</details>\n",
    "\n",
    "---"
   ]
  },
  {
   "cell_type": "markdown",
   "metadata": {
    "id": "nyBaq05brUdc"
   },
   "source": [
    "<br>\n",
    "\n",
    "### **Ukázka #02**\n",
    "\n",
    "Jak zapsat parametry a argumenty?"
   ]
  },
  {
   "cell_type": "code",
   "execution_count": null,
   "metadata": {
    "id": "9XY-Y0cJrOh-"
   },
   "outputs": [],
   "source": [
    "def moje_funkce():\n",
    "    print(f\"To je {par1}!\")\n",
    "    print(f\"To je {par2}!\")\n",
    "    print(f\"To je {par3}!\")\n",
    "    \n",
    "moje_funkce()"
   ]
  },
  {
   "cell_type": "markdown",
   "metadata": {
    "id": "mlNTc89jreIV"
   },
   "source": [
    "<details>\n",
    "  <summary>❓Vysvětlení ❓</summary>\n",
    "\n",
    "Ideální je zápis pomocí pozičních parametrů (tedy i argumentů).\n",
    "    \n",
    "<br>\n",
    "    \n",
    "```python\n",
    "def moje_funkce(par1, par2, par3):\n",
    "    print(f\"To je {par1}!\")\n",
    "    print(f\"To je {par2}!\")\n",
    "    print(f\"To je {par3}!\")\n",
    "\n",
    "moje_funkce(\"Matous\", \"Lukas\", \"Tomas\")\n",
    "```\n",
    "\n",
    "<br>\n",
    "\n",
    "\n",
    "</details>\n",
    "\n",
    "---"
   ]
  },
  {
   "cell_type": "markdown",
   "metadata": {
    "id": "E15hzY_trneC"
   },
   "source": [
    "<br>\n",
    "\n",
    "### **Ukázka #03**\n",
    "\n",
    "Vhodně doplň proměnné 'jmeno' a 'domena'"
   ]
  },
  {
   "cell_type": "code",
   "execution_count": null,
   "metadata": {
    "id": "j_sCd8akrdyq"
   },
   "outputs": [],
   "source": [
    "# Vhodně doplň proměnné 'jmeno' a 'domena'\n",
    "jmeno = \"Matous\"\n",
    "domena = \"@matous.cz\"\n",
    "\n",
    "\n",
    "def spust_skript():\n",
    "    hlavni_fce()\n",
    "  \n",
    "\n",
    "def hlavni_fce():\n",
    "    return f\"Zkombinujeme promenne: {}\"\n",
    "\n",
    "\n",
    "spust_skript()"
   ]
  },
  {
   "cell_type": "markdown",
   "metadata": {
    "id": "idM1XH9jr4cO"
   },
   "source": [
    "<details>\n",
    "  <summary>❓Vysvětlení ❓</summary>\n",
    "\n",
    "Funkce by měla pracovat pouze se svými proměnnými a parametry. Nemíchat proměnné z globálního rámce.\n",
    "    \n",
    "<br>\n",
    "    \n",
    "```python\n",
    "# Ve funkci 'hlavni_fce' vhodně doplň proměnné 'jmeno' a 'domena'\n",
    "\n",
    "\n",
    "\n",
    "def spust_skript():\n",
    "    jmeno = \"Matous\"\n",
    "    domena = \"@matous.cz\"\n",
    "    \n",
    "    return hlavni_fce(jmeno, domena)\n",
    "  \n",
    "\n",
    "def hlavni_fce(name, domain):\n",
    "    return f\"Zkombinujeme promenne: {''.join((name, domain))}\"\n",
    "\n",
    "\n",
    "test = spust_skript()\n",
    "print(test)\n",
    "```\n",
    "\n",
    "<br>\n",
    "\n",
    "</details>\n",
    "\n",
    "---"
   ]
  },
  {
   "cell_type": "markdown",
   "metadata": {
    "id": "_kN6Nr4Er-fp"
   },
   "source": [
    "<br>\n",
    "\n",
    "### **Ukázka #04**\n",
    "\n",
    "Vhodně doplň dokumentaci pro 'zakerna_funkce'"
   ]
  },
  {
   "cell_type": "code",
   "execution_count": null,
   "metadata": {
    "id": "VlsO4pO7r780"
   },
   "outputs": [],
   "source": [
    "def zakerna_funkce(var_1, var_2):\n",
    "    return \",\".join((var_1, var_2))"
   ]
  },
  {
   "cell_type": "markdown",
   "metadata": {
    "id": "38RnQXUKsHjl"
   },
   "source": [
    "<details>\n",
    "  <summary>❓Vysvětlení ❓</summary>\n",
    "   \n",
    "Docstring je kromě pomocné dokumentace funkce možné použít jak prostředek k otestování naší funkce. Jestli splňuje předpoklady, pro které ji tvoříme.\n",
    "    \n",
    "<br>\n",
    "    \n",
    "```python\n",
    "def zakerna_funkce(var_1, var_2):\n",
    "    \"\"\"\n",
    "    >>> zakerna_funkce(\"foo\", \"bar\")\n",
    "    'foo,bar'\n",
    "    >>> zakerna_funkce(\"prvni\", \"druhy\")\n",
    "    'prvni,druhy'\n",
    "    \"\"\"\n",
    "    return \",\".join((var_1, var_2))\n",
    "    \n",
    "if __name__ == \"__main__\":\n",
    "    import doctest\n",
    "    print(doctest.testmod())\n",
    "```\n",
    "\n",
    "<br>\n",
    "\n",
    "</details>\n",
    "\n",
    "---"
   ]
  }
 ],
 "metadata": {
  "colab": {
   "authorship_tag": "ABX9TyPh4UCDEC7qG7hYWPLH+SBt",
   "provenance": []
  },
  "kernelspec": {
   "display_name": "Python 3",
   "name": "python3"
  },
  "language_info": {
   "name": "python"
  }
 },
 "nbformat": 4,
 "nbformat_minor": 0
}
