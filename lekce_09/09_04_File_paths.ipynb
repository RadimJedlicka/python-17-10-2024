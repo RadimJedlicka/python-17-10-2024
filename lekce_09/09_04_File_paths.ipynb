{
 "cells": [
  {
   "cell_type": "markdown",
   "metadata": {
    "id": "uGsM396oIhu_"
   },
   "source": [
    "<h6 align=right> 🐍 Python akademie - lekce 9 - 12.12.2024</h6>"
   ]
  },
  {
   "cell_type": "markdown",
   "metadata": {
    "id": "BXGwPxtzIkP5"
   },
   "source": [
    "<br>\n",
    "\n",
    "# <h1 align=center><font color=black size=24><b> XX: Cesty (file paths)</font></h1>\n",
    "\n",
    "<br>\n"
   ]
  },
  {
   "cell_type": "markdown",
   "metadata": {
    "id": "rJrPREzLI7m0"
   },
   "source": [
    "<br>\n",
    "\n",
    "---\n",
    "\n",
    "### **Zajímavé odkazy z této lekce:**\n",
    "\n",
    "* \n",
    "*\n",
    "*\n",
    "\n",
    "\n",
    "\n",
    "---\n",
    "\n",
    "<br>"
   ]
  },
  {
   "cell_type": "markdown",
   "metadata": {
    "id": "8oS2RVmYIFLu"
   },
   "source": [
    "Doposud jsme pracovali pouze se soubory, které jsme měli v aktuálním adresáři. Tedy intepret (soubor Pythonu), se nacházel ve stejném umístění jakou potřebný soubor.<br>\n",
    "\n",
    "<br>\n",
    "\n",
    "Ne vždy může být situace takhle ideální. Proto si potřebujeme ukázat jaké cesty k souborům můžeme používat.\n"
   ]
  },
  {
   "cell_type": "markdown",
   "metadata": {
    "id": "am0GfwJuJGEh"
   },
   "source": [
    "<br>\n",
    "\n",
    "## **Relativní cesta**\n",
    "\n",
    "---\n",
    "\n",
    "\n",
    "Použiju tehdy, pokud mám potřebný soubor v aktuálním adresáři (~*složce*).\n",
    "\n",
    "<br>\n",
    "\n",
    "Stačí je zapsat jméno souboru s příponou pomocí `str`."
   ]
  },
  {
   "cell_type": "code",
   "execution_count": null,
   "metadata": {
    "id": "_yxTyjWqIFLz",
    "outputId": "cfef2755-f207-4bd3-e21e-e4ff9a477b24"
   },
   "outputs": [],
   "source": [
    "!dir"
   ]
  },
  {
   "cell_type": "code",
   "execution_count": null,
   "metadata": {
    "id": "mt_WsRoqIFL1",
    "outputId": "61df4271-2527-4f9a-f626-a7881dc73723"
   },
   "outputs": [],
   "source": [
    "# !tree"
   ]
  },
  {
   "cell_type": "code",
   "execution_count": null,
   "metadata": {
    "colab": {
     "base_uri": "https://localhost:8080/",
     "height": 183
    },
    "executionInfo": {
     "elapsed": 30,
     "status": "error",
     "timestamp": 1676583275684,
     "user": {
      "displayName": "Radim Jedlička",
      "userId": "11502208915568361358"
     },
     "user_tz": -60
    },
    "id": "mXQ8ereJIFL2",
    "outputId": "c73593fc-6e5b-4f1f-f2f8-20b389badbe0"
   },
   "outputs": [],
   "source": [
    "with open(\"novy_soubor.txt\") as txt_soubor:\n",
    "    print(txt_soubor.readlines())"
   ]
  },
  {
   "cell_type": "code",
   "execution_count": null,
   "metadata": {
    "id": "Ny7Iv_ZjIFL2",
    "outputId": "09887bd1-5229-4c0c-9190-cc6c1deec806"
   },
   "outputs": [],
   "source": [
    "with open(\"solution\\\\vstupni_data.txt\", encoding='UTF-8') as txt_soubor:\n",
    "    print(txt_soubor.readlines())"
   ]
  },
  {
   "cell_type": "markdown",
   "metadata": {
    "id": "e7CHq_yzIFL3"
   },
   "source": [
    "<br>\n",
    "\n",
    "Relativní se jmenuje vzhledem k mému současnému umístění `akt_slozka/novy.txt`."
   ]
  },
  {
   "cell_type": "markdown",
   "metadata": {
    "id": "sUiMc9ZNLQ_e"
   },
   "source": [
    "<br>\n",
    "\n",
    "## **Absolutní cesta**\n",
    "\n",
    "---\n"
   ]
  },
  {
   "cell_type": "markdown",
   "metadata": {
    "id": "ykaFpwaWIFL3"
   },
   "source": [
    "Pokud budeme potřebovat manipulovat se soubory mimo moje aktuální umístění, potřebujeme zápis absolutní cesty.\n",
    "\n",
    "<br>\n",
    "\n",
    "Za absolutní cestu je označováno umístění souboru vzhledem:\n",
    "1. Windows - ke **konkrétnímu disku** (C, D, ..),\n",
    "2. Linux, macOS - k **rootu**\n",
    "\n",
    "<br>\n",
    "\n",
    "##### Ukázky absolutních cest\n",
    "---\n",
    "1. Windows\n",
    "```\n",
    "C:\\Dokumenty\\matous\\projects\\python-academy\\novy.txt\"\n",
    "```\n",
    "\n",
    "2. Linux, macOS\n",
    "```\n",
    "/home/matous/projects/python-academy/materials/09_text_files/novy.txt\"\n",
    "```"
   ]
  },
  {
   "cell_type": "code",
   "execution_count": null,
   "metadata": {
    "id": "myCiYD5NIFL4",
    "outputId": "7906e889-5aa5-4076-ab57-e51b1360f437"
   },
   "outputs": [],
   "source": [
    "with open(\"/home/matous/projects/python-academy-2021/materials/09_text_files/novy.txt\") as txt_soubor:\n",
    "    print(txt_soubor.readlines())"
   ]
  },
  {
   "cell_type": "code",
   "execution_count": null,
   "metadata": {
    "id": "cesBaHiMIFL5",
    "outputId": "85140ecc-e833-499b-dba0-89a4eb74cc3c"
   },
   "outputs": [],
   "source": [
    "# Windows\n",
    "with open(\"C:\\Dokumenty\\matous\\projects\\python-academy\\novy.txt\") as txt_soubor:\n",
    "    print(txt_soubor.readlines())"
   ]
  },
  {
   "cell_type": "markdown",
   "metadata": {
    "id": "LXd1V1b_MTrV"
   },
   "source": [
    "<br>\n",
    "\n",
    "Pro srovnání použití absolutní cesty pro soubor `novy.txt`. Vidíme, že zápis se značně protáhne.\n",
    "\n"
   ]
  },
  {
   "cell_type": "markdown",
   "metadata": {
    "id": "9Ys6LHpSMVMv"
   },
   "source": [
    "<br>\n",
    "\n",
    "## **Python a různé operační systémy**\n",
    "\n",
    "---"
   ]
  },
  {
   "cell_type": "markdown",
   "metadata": {
    "id": "QeEl6ecOIFL5"
   },
   "source": [
    "\n",
    "Pokud pracujete na různých operačních systémech, práce s cestami se může zdát jako komplikovaný proces.\n",
    "\n",
    "<br>\n",
    "\n",
    "Máme naštěstí knihovny, které nám práci s různým zápisem cest, usnadní.\n",
    "\n",
    "1. `os` - oblíbenější pro nováčky\n",
    "2. `pathlib` - další řešení (složitější proces na pozadí, tzv. generátory)\n",
    "\n",
    "<br>\n",
    "\n",
    "Modul `os` jako takový umožňuje užívat interpretu Pythonu funkcionalitu vašeho operačního systému."
   ]
  },
  {
   "cell_type": "code",
   "execution_count": null,
   "metadata": {
    "id": "qe0Al3jHIFL6"
   },
   "outputs": [],
   "source": [
    "import os"
   ]
  },
  {
   "cell_type": "code",
   "execution_count": null,
   "metadata": {
    "id": "4N-WcBGnIFL6"
   },
   "outputs": [],
   "source": [
    "help(os)"
   ]
  },
  {
   "cell_type": "code",
   "execution_count": null,
   "metadata": {
    "id": "4OZsHEYgIFL7"
   },
   "outputs": [],
   "source": [
    "help(os.path)"
   ]
  },
  {
   "cell_type": "code",
   "execution_count": null,
   "metadata": {
    "id": "q80pHTEQIFL7"
   },
   "outputs": [],
   "source": [
    "!ls -l"
   ]
  },
  {
   "cell_type": "code",
   "execution_count": null,
   "metadata": {
    "id": "Ab9gIB_oIFL7"
   },
   "outputs": [],
   "source": [
    "os.listdir()"
   ]
  },
  {
   "cell_type": "code",
   "execution_count": null,
   "metadata": {
    "id": "ZC0y2JjUIFL7"
   },
   "outputs": [],
   "source": [
    "for soubor in os.listdir():\n",
    "    print(soubor)"
   ]
  },
  {
   "cell_type": "code",
   "execution_count": null,
   "metadata": {
    "id": "Fa6L3-2tIFL8",
    "outputId": "f42431f0-b2d3-4128-d143-d9622cd8dd18"
   },
   "outputs": [],
   "source": [
    "os.path.isfile(\"novy.txt\")"
   ]
  },
  {
   "cell_type": "code",
   "execution_count": null,
   "metadata": {
    "id": "j5bXb9jdIFL8",
    "outputId": "9dc156ed-3eb0-47b0-accf-d9fd3de3f68f"
   },
   "outputs": [],
   "source": [
    "os.path.isdir(\"novy.txt\")"
   ]
  },
  {
   "cell_type": "code",
   "execution_count": null,
   "metadata": {
    "colab": {
     "base_uri": "https://localhost:8080/",
     "height": 35
    },
    "executionInfo": {
     "elapsed": 609,
     "status": "ok",
     "timestamp": 1676584036015,
     "user": {
      "displayName": "Radim Jedlička",
      "userId": "11502208915568361358"
     },
     "user_tz": -60
    },
    "id": "6IJ6jqgvIFL8",
    "outputId": "d92d1abc-af10-487f-d686-7fd85a03e697"
   },
   "outputs": [],
   "source": [
    "os.sep"
   ]
  },
  {
   "cell_type": "code",
   "execution_count": null,
   "metadata": {
    "colab": {
     "base_uri": "https://localhost:8080/",
     "height": 35
    },
    "executionInfo": {
     "elapsed": 379,
     "status": "ok",
     "timestamp": 1676584054460,
     "user": {
      "displayName": "Radim Jedlička",
      "userId": "11502208915568361358"
     },
     "user_tz": -60
    },
    "id": "z6Kl9XxeIFL9",
    "outputId": "0f3b5b80-82c6-48cf-da90-779cec49f6c7"
   },
   "outputs": [],
   "source": [
    "f\"C:{os.sep}Users{os.sep}Radim\""
   ]
  },
  {
   "cell_type": "code",
   "execution_count": null,
   "metadata": {
    "id": "MbWHElToIFL9",
    "outputId": "ec0eb9fc-9186-459c-e66c-1cf350a63ef2"
   },
   "outputs": [],
   "source": [
    "!pwd"
   ]
  },
  {
   "cell_type": "code",
   "execution_count": null,
   "metadata": {
    "id": "B1koGe-TIFL9",
    "outputId": "d40641f2-1a32-4f4d-c103-d7c1841d8ef4"
   },
   "outputs": [],
   "source": [
    "os.getcwd()"
   ]
  },
  {
   "cell_type": "code",
   "execution_count": null,
   "metadata": {
    "id": "8DviK0nzIFL9",
    "outputId": "6c60ac97-bd1c-4911-9742-9c0f02713a64"
   },
   "outputs": [],
   "source": [
    "f\"{os.getcwd()}{os.sep}novy.txt\""
   ]
  },
  {
   "cell_type": "code",
   "execution_count": null,
   "metadata": {
    "id": "NxVQZpP3IFL9",
    "outputId": "31a97d66-33b6-4f71-cef2-03c13fc594a8"
   },
   "outputs": [],
   "source": [
    "os.path.join(os.getcwd(), \"novy.txt\")"
   ]
  },
  {
   "cell_type": "code",
   "execution_count": null,
   "metadata": {
    "id": "Gsp6L0VMIFL-"
   },
   "outputs": [],
   "source": [
    "import os\n",
    "import sys\n",
    "\n",
    "if sys.platform == \"linux\":\n",
    "    os.system(\"clear\")\n",
    "else:\n",
    "    os.system(\"cls\")"
   ]
  },
  {
   "cell_type": "markdown",
   "metadata": {
    "id": "MrS5buBIIFL-"
   },
   "source": [
    "<br>\n",
    "\n",
    "Modul `pathlib` je trochu hůře uchopitelný celek pro začátečníka. Pracuje totiž s objekty jako je třída, generátor, což nejsou body zájmu tohoto kurzu pro úplné nováčky."
   ]
  },
  {
   "cell_type": "code",
   "execution_count": null,
   "metadata": {
    "id": "4CSKjWDUIFL-"
   },
   "outputs": [],
   "source": [
    "from pathlib import Path"
   ]
  },
  {
   "cell_type": "code",
   "execution_count": null,
   "metadata": {
    "id": "zoUAR73JIFL-"
   },
   "outputs": [],
   "source": [
    "paths = Path(\".\")"
   ]
  },
  {
   "cell_type": "code",
   "execution_count": null,
   "metadata": {
    "id": "Jcifz0BeIFL-"
   },
   "outputs": [],
   "source": [
    "dirs = [x for x in paths.iterdir()]"
   ]
  },
  {
   "cell_type": "code",
   "execution_count": null,
   "metadata": {
    "id": "osZR5lLtIFL_"
   },
   "outputs": [],
   "source": [
    "dirs"
   ]
  },
  {
   "cell_type": "code",
   "execution_count": null,
   "metadata": {
    "id": "dfs2XNBZIFL_"
   },
   "outputs": [],
   "source": [
    "type(dirs)"
   ]
  }
 ],
 "metadata": {
  "colab": {
   "authorship_tag": "ABX9TyPEski+szzz88PaXT9GqbyY",
   "provenance": []
  },
  "kernelspec": {
   "display_name": "Python 3 (ipykernel)",
   "language": "python",
   "name": "python3"
  },
  "language_info": {
   "codemirror_mode": {
    "name": "ipython",
    "version": 3
   },
   "file_extension": ".py",
   "mimetype": "text/x-python",
   "name": "python",
   "nbconvert_exporter": "python",
   "pygments_lexer": "ipython3",
   "version": "3.10.0"
  }
 },
 "nbformat": 4,
 "nbformat_minor": 1
}
