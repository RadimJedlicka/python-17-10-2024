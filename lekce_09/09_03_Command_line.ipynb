{
 "cells": [
  {
   "cell_type": "markdown",
   "metadata": {
    "id": "xebkwFx-GTDv"
   },
   "source": [
    "<h6 align=right> 🐍 Python akademie - lekce X - DD.MM.YYYY</h6>"
   ]
  },
  {
   "cell_type": "markdown",
   "metadata": {
    "id": "d49y1HU2GWlb"
   },
   "source": [
    "<br>\n",
    "\n",
    "# <h1 align=center><font color=black size=24><b> XX: Příkazový řádek</font></h1>\n",
    "\n",
    "<br>\n"
   ]
  },
  {
   "cell_type": "markdown",
   "metadata": {
    "id": "mkWcPKA7GpAh"
   },
   "source": [
    "<br>\n",
    "\n",
    "---\n",
    "\n",
    "### **Zajímavé odkazy z této lekce:**\n",
    "\n",
    "* [Základy s příkazovou řádkou na OS Ubuntu](https://ubuntu.com/tutorials/command-line-for-beginners#5-moving-and-manipulating-files)\n",
    "* [Základy s příkazovou řádkou na OS Windows](https://www.digitalcitizen.life/command-prompt-how-use-basic-commands/)\n",
    "\n",
    "\n",
    "---\n",
    "\n",
    "<br>"
   ]
  },
  {
   "cell_type": "markdown",
   "metadata": {
    "id": "Q2bJexUuG1qo"
   },
   "source": [
    "Není to povinnost ani samozřejmost. Ale určitě tě tolik nezdrží některý ze základních příkazů pro prostředí CLI."
   ]
  },
  {
   "cell_type": "markdown",
   "metadata": {
    "id": "9_VLgANxHCMf"
   },
   "source": [
    "<br>\n",
    "\n",
    "## **Otevíráme příkazový řádek**\n",
    "\n",
    "---"
   ]
  },
  {
   "cell_type": "markdown",
   "metadata": {
    "id": "YxwI9T6oFgOc"
   },
   "source": [
    "Než budeme pokračovat k cestám a práci se soubory a adresáři, pojďme se aspoň ve zkratce podívat na orientaci v CLI:"
   ]
  },
  {
   "cell_type": "code",
   "execution_count": null,
   "metadata": {
    "id": "vd5vQ26NFgOd"
   },
   "outputs": [],
   "source": [
    "# Linux - v dostupných aplikacích hledáte 'Konsole', 'Terminal'\n",
    "# Windows - v dostupných aplikacích hledáte 'cmd.exe', 'cmd'\n",
    "# MacOS - v dostupných aplikacích hledáte 'Terminal.app'"
   ]
  },
  {
   "cell_type": "markdown",
   "metadata": {
    "id": "To_rRsg-FgOf"
   },
   "source": [
    "<br>\n",
    "\n",
    "## **Kde se nacházíme**\n",
    "\n",
    "---\n",
    "\n",
    "V prvním momentě se potřebujete najít. Kde se na disku nyní nacházíte:"
   ]
  },
  {
   "cell_type": "code",
   "execution_count": null,
   "metadata": {
    "id": "iq1Pr8cTFgOf"
   },
   "outputs": [],
   "source": [
    "# !pwd # Linux\n",
    "!cd  # Win"
   ]
  },
  {
   "cell_type": "markdown",
   "metadata": {
    "id": "tLgJkSbLFgOg"
   },
   "source": [
    "Opatrně i na drobné rozdíly. Všimni si, že `windows` a `linux` (potažmo `macOS`) evidují **jiná lomítka** jinak."
   ]
  },
  {
   "cell_type": "code",
   "execution_count": null,
   "metadata": {
    "id": "WJCJvQdHFgOh"
   },
   "outputs": [],
   "source": [
    "# /home/matous/projects/\n",
    "# C:\\Users\\Matous\\projekty"
   ]
  },
  {
   "cell_type": "markdown",
   "metadata": {
    "id": "cG7Fp61eFgOh"
   },
   "source": [
    "<br>\n",
    "\n",
    "## **Kam nyní**\n",
    "\n",
    "---\n",
    "\n",
    "Pokud víte, kde se nacházíte, můžete vyrazit někam jinam. Proto další příkaz, který se hodí znát je vypsat obsah aktuálního adresáře:"
   ]
  },
  {
   "cell_type": "code",
   "execution_count": null,
   "metadata": {
    "id": "YXjH1v3CFgOi",
    "outputId": "a9dd9848-afd4-4e92-8f22-1de8b54d5d7f"
   },
   "outputs": [],
   "source": [
    "!ls -l  # windows: dir"
   ]
  },
  {
   "cell_type": "code",
   "execution_count": null,
   "metadata": {
    "id": "dctRovzjFgOi",
    "outputId": "6c6b2d1a-7e4b-460a-9a92-62acc7b0dfed"
   },
   "outputs": [],
   "source": [
    "!tree -L 1"
   ]
  },
  {
   "cell_type": "code",
   "execution_count": null,
   "metadata": {
    "colab": {
     "base_uri": "https://localhost:8080/"
    },
    "executionInfo": {
     "elapsed": 239,
     "status": "ok",
     "timestamp": 1676582793763,
     "user": {
      "displayName": "Radim Jedlička",
      "userId": "11502208915568361358"
     },
     "user_tz": -60
    },
    "id": "ODfzRNHKFgOi",
    "outputId": "775fc6b0-1222-4582-dad5-bdb08c819759"
   },
   "outputs": [],
   "source": [
    "!dir"
   ]
  },
  {
   "cell_type": "markdown",
   "metadata": {
    "id": "Q4lMuquNFgOj"
   },
   "source": [
    "<br>\n",
    "\n",
    "## **Přesun do jiného adresáře**\n",
    "\n",
    "---\n",
    "\n",
    "Jakmile víte, jaké adresáře se nabízí, stačí se pomocí jejich jména přesunout:"
   ]
  },
  {
   "cell_type": "code",
   "execution_count": null,
   "metadata": {
    "id": "wDlWlTLfFgOj"
   },
   "outputs": [],
   "source": [
    "!cd solution"
   ]
  },
  {
   "cell_type": "code",
   "execution_count": null,
   "metadata": {
    "id": "__J8G99SFgOj"
   },
   "outputs": [],
   "source": [
    "!pwd"
   ]
  },
  {
   "cell_type": "code",
   "execution_count": null,
   "metadata": {
    "id": "aqNTAEQJFgOj"
   },
   "outputs": [],
   "source": [
    "!ls"
   ]
  },
  {
   "cell_type": "markdown",
   "metadata": {
    "id": "uM6qu0h3FgOk"
   },
   "source": [
    "<br>\n",
    "\n",
    "## **Pokud potřebujete zpátky**\n",
    "\n",
    "---\n",
    "\n",
    "Pokud nejste ve správném adresáři můžete se přesunout o adresář výše pomocí `../`:"
   ]
  },
  {
   "cell_type": "code",
   "execution_count": null,
   "metadata": {
    "id": "L4esBk3jFgOk"
   },
   "outputs": [],
   "source": [
    "!cd ../"
   ]
  },
  {
   "cell_type": "code",
   "execution_count": null,
   "metadata": {
    "id": "ZggGCBq8FgOk"
   },
   "outputs": [],
   "source": [
    "!ls"
   ]
  },
  {
   "cell_type": "code",
   "execution_count": null,
   "metadata": {
    "id": "FW1imQ7PFfvL"
   },
   "outputs": [],
   "source": []
  }
 ],
 "metadata": {
  "colab": {
   "authorship_tag": "ABX9TyOg9whqXoOMwd1lpn+cEGLt",
   "provenance": []
  },
  "kernelspec": {
   "display_name": "Python 3 (ipykernel)",
   "language": "python",
   "name": "python3"
  },
  "language_info": {
   "codemirror_mode": {
    "name": "ipython",
    "version": 3
   },
   "file_extension": ".py",
   "mimetype": "text/x-python",
   "name": "python",
   "nbconvert_exporter": "python",
   "pygments_lexer": "ipython3",
   "version": "3.10.0"
  }
 },
 "nbformat": 4,
 "nbformat_minor": 1
}
