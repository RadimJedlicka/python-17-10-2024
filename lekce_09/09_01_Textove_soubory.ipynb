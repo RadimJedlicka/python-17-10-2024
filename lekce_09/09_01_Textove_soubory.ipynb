{
 "cells": [
  {
   "cell_type": "markdown",
   "metadata": {
    "id": "5zK9k1QVteYv"
   },
   "source": [
    "<h6 align=right> 🐍 Python akademie - lekce 9 - 12.12.2024</h6>\n",
    "\n",
    "---\n",
    "\n"
   ]
  },
  {
   "cell_type": "markdown",
   "metadata": {
    "id": "BKWbOJX-th8_"
   },
   "source": [
    "<br>\n",
    "\n",
    "# <h1 align=center><font size=24><b> 09_01: 🗒 Textové soubory</font></h1>\n",
    "\n",
    "<br>\n"
   ]
  },
  {
   "cell_type": "markdown",
   "metadata": {
    "id": "5fyIUQtVtvrc"
   },
   "source": [
    "<br>\n",
    "\n",
    "---\n",
    "\n",
    "### **Zajímavé odkazy z této lekce:**\n",
    "\n",
    "* [Oficiální dokumentace k **docstring** u funkci (python.org)](https://www.python.org/dev/peps/pep-0257/)\n",
    "* [Oficiální dokumentace k **UTF-8** u funkci (wikipedia.org)](https://cs.wikipedia.org/wiki/UTF-8)\n",
    "\n",
    "\n",
    "---\n",
    "\n",
    "<br>"
   ]
  },
  {
   "cell_type": "markdown",
   "metadata": {
    "id": "PTXaYmtvzihg"
   },
   "source": [
    "<br>\n",
    "\n",
    "## **Pojem file io**\n",
    "\n",
    "---"
   ]
  },
  {
   "cell_type": "markdown",
   "metadata": {
    "id": "E3tBxqjBtdbA"
   },
   "source": [
    "<br>\n",
    "\n",
    "Doposud jsme pracovali pouze s objekty Pythonu vlastními nebo s knihovnami. Dneska si povíme něco o práci **s textovými soubory** přímo u vás na počítači.\n",
    "\n",
    "<br>\n",
    "\n",
    "Celkově pokud budete v rámci Pythonu pracovat se soubory (obecně), mluvíme o procesu `io`(někdy také `i/o`).\n",
    "\n",
    "<br>\n",
    "\n",
    "Toto označení vychází z anglického *input* a *output*. Tedy **vstup** a **výstup**.\n",
    "\n",
    "<br>\n",
    "\n",
    "V průběhu této lekce se naučíme textové soubory **číst**, **zapisovat** i **upravovat** tak, aby to za nás vždy provedl interpret Pythonu."
   ]
  },
  {
   "cell_type": "markdown",
   "metadata": {
    "id": "pG5cLr99zjpj"
   },
   "source": [
    "<br>\n",
    "\n",
    "## **Textové soubory (~text files)**\n",
    "\n",
    "---"
   ]
  },
  {
   "cell_type": "markdown",
   "metadata": {
    "id": "muiG8HIVzoXa"
   },
   "source": [
    "Textovým souborem rozumějme jakýkoliv soubor, který má příponu `.txt`.\n",
    "\n",
    "<br>\n",
    "\n",
    "Jeden takový textový soubor máme k dispozici v aktuálním adresáři:"
   ]
  },
  {
   "cell_type": "markdown",
   "metadata": {
    "id": "m2DQ9qLs0pho"
   },
   "source": [
    "<br>\n",
    "\n",
    "Práce s textovými soubory nám může být v principu jasná (v pracovním prostředí počítače).\n",
    "\n",
    "<br>\n",
    "\n",
    "Nyní se ale pojďme naučit pracovat s textovým editorem pomocí Pythonu (pomocí interpretu Pythonu)."
   ]
  },
  {
   "cell_type": "markdown",
   "metadata": {
    "id": "fGLlnbDV0qvy"
   },
   "source": [
    "<br>\n",
    "\n",
    "## **Práce s textovými soubory (~File I/O)**\n",
    "\n",
    "---"
   ]
  },
  {
   "cell_type": "markdown",
   "metadata": {
    "id": "DQlxTn7W00Mf"
   },
   "source": [
    "Chceme napsat šikovnější programy, které umí Pythonu vysvětlit, aby pracoval s různymi textovými soubory.<br>\n",
    "\n",
    "Nejprve ale budeme muset Python přesvědčit, aby nám soubor **vytvořil**."
   ]
  },
  {
   "cell_type": "markdown",
   "metadata": {
    "id": "SioRvxbZ04fF"
   },
   "source": [
    "<br>\n",
    "\n",
    "## **Vytvoření nového souboru (zápis)**\n",
    "\n",
    "---"
   ]
  },
  {
   "cell_type": "code",
   "execution_count": null,
   "metadata": {
    "id": "Cum1iT-kyrFN"
   },
   "outputs": [],
   "source": [
    "muj_string = \"Python je cool!\""
   ]
  },
  {
   "cell_type": "markdown",
   "metadata": {
    "id": "rvG8eAMa1MYZ"
   },
   "source": [
    "String `muj_string` máme aktuálně k dispozici pouze jako nějaký **objekt Pythonu** (v aktuálním prostředí jako `str`).\n",
    "\n",
    "<br>\n",
    "\n",
    "Jak jej ale uložit do skutečného textového souboru na našem disku?\n",
    "\n",
    "<br>\n",
    "\n",
    "Nejprve potřebujeme \"zevnitř\" Pythonu (~interpreta Pythonu), vytvořit soubor. Nejdříve ověříme [zabudované funkce](https://docs.python.org/3/library/functions.html)."
   ]
  },
  {
   "cell_type": "code",
   "execution_count": null,
   "metadata": {
    "id": "wSLpHO421Jrn"
   },
   "outputs": [],
   "source": [
    "help(open)"
   ]
  },
  {
   "cell_type": "code",
   "execution_count": null,
   "metadata": {
    "id": "SEO-jiSQ1aCl"
   },
   "outputs": [],
   "source": [
    "muj_soubor = open('novy_soubor.txt', mode='w')"
   ]
  },
  {
   "cell_type": "markdown",
   "metadata": {
    "id": "kvOiN_0H2irI"
   },
   "source": [
    "<br>\n",
    "\n",
    "Soubor si můžeme otevřít, ale zjistíme, že je v tento moment prázdný.\n",
    "\n",
    "<br>\n",
    "\n",
    "Funkce `open` pouze **vytvoří** (~iniciuje) nový objekt `muj_soubor`. Hodnotou tohoto souboru je zapsaní **skutečného souboru** (jehož jméno jsme uvedli v závorce s příslušným argumentem) na váš disk, do aktuálního otevřeného adresáře.\n",
    "\n",
    "<br>\n",
    "\n",
    "Příslušný text teprve musíme zapsat."
   ]
  },
  {
   "cell_type": "code",
   "execution_count": null,
   "metadata": {
    "id": "1bPY9yc72W9g"
   },
   "outputs": [],
   "source": [
    "muj_soubor.write(muj_string)"
   ]
  },
  {
   "cell_type": "markdown",
   "metadata": {
    "id": "QXx7jURO20kp"
   },
   "source": [
    "<br>\n",
    "\n",
    "Číslo `15`, které vidíme na výstupu je počet zapsaných znaků (*~bytes*). ([zdroj](https://docs.python.org/3/library/io.html#io.RawIOBase.write))\n",
    "\n",
    "<br>\n",
    "\n",
    "Pojďme si nyní společně **prohlédnout zapsaný soubor** na disku.\n",
    "\n",
    "<br>\n",
    "\n",
    "Protože jsme do souboru zapisovali, ale **neukončili jej**, nejsme schopni s ním ještě manipulovat.<br>\n",
    "Pomocí metody `closed` ověříme, jestli je spojení ukončené. ([zdroj](https://docs.python.org/3/library/io.html#io.IOBase.closed))"
   ]
  },
  {
   "cell_type": "code",
   "execution_count": null,
   "metadata": {
    "id": "pxjrlRRx3Bnp"
   },
   "outputs": [],
   "source": [
    "muj_soubor.closed"
   ]
  },
  {
   "cell_type": "markdown",
   "metadata": {
    "id": "Hb0XbwXE3Zs4"
   },
   "source": [
    "<br>\n",
    "\n",
    "Pokud zjistíme, že není ukončené, ukončíme jej pomocí metody `close`. ([zdroj](https://docs.python.org/3/library/io.html#io.IOBase.close))"
   ]
  },
  {
   "cell_type": "code",
   "execution_count": null,
   "metadata": {
    "id": "mzyuOPzGExw9"
   },
   "outputs": [],
   "source": [
    "muj_soubor.close()"
   ]
  },
  {
   "cell_type": "markdown",
   "metadata": {
    "id": "HHaur2I2Exw-"
   },
   "source": [
    "<br>\n",
    "\n",
    "Teprve po ukončení *streamu* objektu můžeme soubor `novy.txt` prozkoumat.\n",
    "\n",
    "<br>\n",
    "\n",
    "Nyní chceme doplnit **další řádek** v našem souboru:"
   ]
  },
  {
   "cell_type": "code",
   "execution_count": null,
   "metadata": {
    "id": "eoObZuYjExw-"
   },
   "outputs": [],
   "source": [
    "muj_string2 = \"Prave probirame lekci 9\""
   ]
  },
  {
   "cell_type": "code",
   "execution_count": null,
   "metadata": {
    "id": "uFXf6cpHExw-"
   },
   "outputs": [],
   "source": [
    "muj_soubor = open(\"novy_soubor.txt\", mode=\"w\")"
   ]
  },
  {
   "cell_type": "code",
   "execution_count": null,
   "metadata": {
    "id": "jYEX0vRGExw-",
    "outputId": "6ca1229f-0ecf-4e9f-e491-29efe064b95e"
   },
   "outputs": [],
   "source": [
    "muj_soubor.write(muj_string2)"
   ]
  },
  {
   "cell_type": "code",
   "execution_count": null,
   "metadata": {
    "id": "O3HQpbagExw_"
   },
   "outputs": [],
   "source": [
    "muj_soubor.close()"
   ]
  },
  {
   "cell_type": "markdown",
   "metadata": {
    "id": "5D_wHh2MExw_"
   },
   "source": [
    "<br>\n",
    "\n",
    "**Zkontrolujeme** jak vypadá nově přidaný string.\n",
    "\n",
    "<br>\n",
    "\n",
    "Opatrně na `mode=\"w\"`. Pokud opětovně načtete stejný soubor v tomto režimu, přesunute \"zapisovač\" (představ si jej jako blikající kurzor v editoru) opět na začátek souboru.\n",
    "\n",
    "<br>\n",
    "\n",
    "Interpret ale zapisuje od místa, kde se zapisovač nachází, takže dojde k **přepsání stávajícího obsahu**.\n",
    "\n",
    "<br>\n",
    "\n",
    "Pokud chceš automaticky zapisovat nehledě na umístění našeho *zapisovač*, otevři soubor s argumentem `mode=\"a\"`, tedy v režimu **append**. ([zdroj](https://docs.python.org/3/library/functions.html#open))"
   ]
  },
  {
   "cell_type": "code",
   "execution_count": null,
   "metadata": {
    "id": "R85cl942Exw_"
   },
   "outputs": [],
   "source": [
    "muj_string = \"Python je cool!\"\n",
    "muj_string2 = \"Prave probirame lekci 9\""
   ]
  },
  {
   "cell_type": "code",
   "execution_count": null,
   "metadata": {
    "id": "n6yw1Q4bExxA"
   },
   "outputs": [],
   "source": [
    "muj_soubor = open(\"novy_soubor.txt\", mode=\"w\")"
   ]
  },
  {
   "cell_type": "code",
   "execution_count": null,
   "metadata": {
    "id": "AbEXUUKZExxA",
    "outputId": "6d42ea25-91a4-4659-e032-8bdae90d1bfe"
   },
   "outputs": [],
   "source": [
    "muj_soubor.write(muj_string)"
   ]
  },
  {
   "cell_type": "code",
   "execution_count": null,
   "metadata": {
    "id": "K-xDheH-ExxA"
   },
   "outputs": [],
   "source": [
    "muj_soubor.close()"
   ]
  },
  {
   "cell_type": "code",
   "execution_count": null,
   "metadata": {
    "id": "r9oc7EHoExxB"
   },
   "outputs": [],
   "source": [
    "muj_soubor = open(\"novy_soubor.txt\", mode=\"a\")  # rezim 'append'"
   ]
  },
  {
   "cell_type": "code",
   "execution_count": null,
   "metadata": {
    "id": "Z2lUH2M8ExxB",
    "outputId": "297d0055-58d8-4b38-c1f3-fb4dcf951635"
   },
   "outputs": [],
   "source": [
    "muj_soubor.write(muj_string2)"
   ]
  },
  {
   "cell_type": "code",
   "execution_count": null,
   "metadata": {
    "id": "TYW0rIliExxB"
   },
   "outputs": [],
   "source": [
    "muj_soubor.close()"
   ]
  },
  {
   "cell_type": "markdown",
   "metadata": {
    "id": "bLnUu80DExxB"
   },
   "source": [
    "<br>\n",
    "\n",
    "Přidáním `\\n` na konec stringů dosáhneme toho, že následující string bude vypsaný **na novém řádku**."
   ]
  },
  {
   "cell_type": "code",
   "execution_count": null,
   "metadata": {
    "id": "7XS7-ssZExxB"
   },
   "outputs": [],
   "source": [
    "!rm novy_soubor.txt  # pouze příkaz do linuxové přík. řádky"
   ]
  },
  {
   "cell_type": "code",
   "execution_count": null,
   "metadata": {
    "id": "dkIdYedMExxC"
   },
   "outputs": [],
   "source": [
    "!del novy_soubor.txt  # ve Windows"
   ]
  },
  {
   "cell_type": "code",
   "execution_count": null,
   "metadata": {
    "id": "wzGeW5IGExxC"
   },
   "outputs": [],
   "source": [
    "muj_str_1 = \"Ahoj, ja jsem Matous\\n\"\n",
    "muj_str_2 = \"Rad ctu, hraji na klavir\\n\"\n",
    "muj_str_3 = \"A co ty?:)\""
   ]
  },
  {
   "cell_type": "code",
   "execution_count": null,
   "metadata": {
    "id": "DOcbjxjlExxC"
   },
   "outputs": [],
   "source": [
    "muj_soubor = open(\"novy_soubor.txt\", mode=\"w\")"
   ]
  },
  {
   "cell_type": "code",
   "execution_count": null,
   "metadata": {
    "id": "5dKtmWUhExxC",
    "outputId": "1440fa5c-4011-4ba3-8086-7b3cbe8db801"
   },
   "outputs": [],
   "source": [
    "muj_soubor.write(muj_str_1)\n",
    "muj_soubor.write(muj_str_2)\n",
    "muj_soubor.write(muj_str_3)"
   ]
  },
  {
   "cell_type": "code",
   "execution_count": null,
   "metadata": {
    "id": "PRu9CnEvExxC"
   },
   "outputs": [],
   "source": [
    "muj_soubor.close()"
   ]
  },
  {
   "cell_type": "code",
   "execution_count": null,
   "metadata": {
    "id": "TvrPvSHnExxD"
   },
   "outputs": [],
   "source": [
    "muj_soubor2 = open('druhy_soubor.txt', mode='w')"
   ]
  },
  {
   "cell_type": "code",
   "execution_count": null,
   "metadata": {
    "id": "iGp4NUQuExxD"
   },
   "outputs": [],
   "source": [
    "muj_soubor2.close()"
   ]
  },
  {
   "cell_type": "markdown",
   "metadata": {
    "id": "i5zdRpTS8WcJ"
   },
   "source": [
    "<br>\n",
    "\n",
    "## **Čtení existujícího souboru**\n",
    "\n",
    "---"
   ]
  },
  {
   "cell_type": "markdown",
   "metadata": {
    "id": "xodK43XUExxD"
   },
   "source": [
    "Zatím jsme tu nahlíželi na obsah našich textových souborů pouze pomocí nějakého grafického prohlížeče. Tentokrát si pojďme zkusit čtení pomocí **Pythonu**.<br>\n",
    "\n",
    "<br>\n",
    "\n",
    "Opět použijeme zabud. funkci `open`."
   ]
  },
  {
   "cell_type": "code",
   "execution_count": null,
   "metadata": {
    "id": "d4vYSYOuExxD"
   },
   "outputs": [],
   "source": [
    "muj_existujici_soubor = open(\"novy_soubor.txt\")"
   ]
  },
  {
   "cell_type": "code",
   "execution_count": null,
   "metadata": {
    "id": "1Ez-NStFExxD",
    "outputId": "671bda5a-2248-4fb9-b238-937b8b67dd3a"
   },
   "outputs": [],
   "source": [
    "print(muj_existujici_soubor)"
   ]
  },
  {
   "cell_type": "code",
   "execution_count": null,
   "metadata": {
    "id": "C8vf6aTxExxE",
    "outputId": "29f5041a-8c5c-42cc-ba05-a603173acbcc"
   },
   "outputs": [],
   "source": [
    "print(muj_existujici_soubor.read())"
   ]
  },
  {
   "cell_type": "code",
   "execution_count": null,
   "metadata": {
    "id": "Z9cPo7DSExxF"
   },
   "outputs": [],
   "source": [
    "obsah_txt = muj_existujici_soubor.read()"
   ]
  },
  {
   "cell_type": "code",
   "execution_count": null,
   "metadata": {
    "id": "rUcDAaJaExxF",
    "outputId": "d3b918f3-a103-4288-d8ef-a0c2f9cac999"
   },
   "outputs": [],
   "source": [
    "print(obsah_txt)"
   ]
  },
  {
   "cell_type": "markdown",
   "metadata": {
    "id": "r5qK7NRsExxF"
   },
   "source": [
    "Opět, pokud jedenkrát přečtete obsah celého souboru, *zapisovač* (*~kurzor*) přečte postupně celý text a zůstane na konci souboru.\n",
    "\n",
    "<br>\n",
    "\n",
    "Proto při dalším čtení získáme prázdný výstup, protože kurzor neprojde text znovu."
   ]
  },
  {
   "cell_type": "code",
   "execution_count": null,
   "metadata": {
    "id": "HUzFOJ77ExxF",
    "outputId": "df246119-68e4-4003-a90c-5791b451a47b"
   },
   "outputs": [],
   "source": [
    "muj_existujici_soubor.seek(0)     # přesune kurzor na začátek souboru"
   ]
  },
  {
   "cell_type": "code",
   "execution_count": null,
   "metadata": {
    "id": "-p9jLlyIExxF",
    "outputId": "458fbc6a-b87d-4fa6-85e3-e8f1f63914e6"
   },
   "outputs": [],
   "source": [
    "muj_existujici_soubor.seek(0, 2)  # přesune kurzor na konec souboru"
   ]
  },
  {
   "cell_type": "code",
   "execution_count": null,
   "metadata": {
    "id": "plpLZLtEExxG",
    "outputId": "79077c0a-f390-4713-c9aa-04317e40c74a"
   },
   "outputs": [],
   "source": [
    "muj_existujici_soubor.seek(0)     # přesune kurzor na začátek souboru"
   ]
  },
  {
   "cell_type": "code",
   "execution_count": null,
   "metadata": {
    "id": "geeS5Gc9ExxG",
    "outputId": "46ef618d-c981-4bb1-a9e3-d90b2e4201bc"
   },
   "outputs": [],
   "source": [
    "print(muj_existujici_soubor.read())"
   ]
  },
  {
   "cell_type": "code",
   "execution_count": null,
   "metadata": {
    "id": "Zwk2fgGUExxG",
    "outputId": "1eb21b1b-da51-4b7f-8535-1c7b86af0a48"
   },
   "outputs": [],
   "source": [
    "muj_existujici_soubor.seek(0)\n",
    "print(muj_existujici_soubor.read())"
   ]
  },
  {
   "cell_type": "markdown",
   "metadata": {
    "id": "FYQvPebCExxE"
   },
   "source": [
    "<br>\n",
    "\n",
    "### **Reprezentace znaků**\n",
    "\n",
    "---"
   ]
  },
  {
   "cell_type": "code",
   "execution_count": null,
   "metadata": {
    "colab": {
     "base_uri": "https://localhost:8080/"
    },
    "executionInfo": {
     "elapsed": 312,
     "status": "ok",
     "timestamp": 1676580297109,
     "user": {
      "displayName": "Radim Jedlička",
      "userId": "11502208915568361358"
     },
     "user_tz": -60
    },
    "id": "U-Qu6emMExxE",
    "outputId": "f6e4a32a-57c6-4879-ee11-0df85f366c92"
   },
   "outputs": [],
   "source": [
    "ord(\"\\n\")  # vrací ze znaku číselné označení (Unicode standart)"
   ]
  },
  {
   "cell_type": "code",
   "execution_count": null,
   "metadata": {
    "colab": {
     "base_uri": "https://localhost:8080/",
     "height": 35
    },
    "executionInfo": {
     "elapsed": 378,
     "status": "ok",
     "timestamp": 1676580307152,
     "user": {
      "displayName": "Radim Jedlička",
      "userId": "11502208915568361358"
     },
     "user_tz": -60
    },
    "id": "ahkRwugXExxE",
    "outputId": "054819ed-86a5-4c32-cec8-dedb22af313d"
   },
   "outputs": [],
   "source": [
    "chr(10)   # vrací z číselného označení znak"
   ]
  },
  {
   "cell_type": "markdown",
   "metadata": {
    "id": "-7JyTYnnExxG"
   },
   "source": [
    "<br>\n",
    "\n",
    "## **Metody pro čtění obsahu `TextIOWrapper` objektu:**\n",
    "\n",
    "1. `read` - přečte celý soubor jako jeden string\n",
    "2. `readline` - přečte pouze první řádek jako string\n",
    "3. `readlines` - přečte celý soubor jako list (co řádek, to údaj)\n",
    "\n",
    "<br />\n",
    "\n",
    "#### Ukázka různých variant "
   ]
  },
  {
   "cell_type": "code",
   "execution_count": null,
   "metadata": {
    "id": "pOD5K5sxExxH",
    "outputId": "e914382e-01a9-4f9a-ba90-eaffc52e97a5"
   },
   "outputs": [],
   "source": [
    "muj_existujici_soubor.seek(0)\n",
    "print(muj_existujici_soubor.readline())"
   ]
  },
  {
   "cell_type": "code",
   "execution_count": null,
   "metadata": {
    "id": "x992CpNaExxH",
    "outputId": "17157f4f-842c-4d4b-9aa3-95907a3b65a2"
   },
   "outputs": [],
   "source": [
    "print(muj_existujici_soubor.readline())"
   ]
  },
  {
   "cell_type": "code",
   "execution_count": null,
   "metadata": {
    "id": "z7TW9ZnyExxH",
    "outputId": "9b51ec2d-d8a2-4615-ec95-90a9c3222c84"
   },
   "outputs": [],
   "source": [
    "print(muj_existujici_soubor.readline())"
   ]
  },
  {
   "cell_type": "code",
   "execution_count": null,
   "metadata": {
    "id": "-18WXLczExxI",
    "outputId": "76b9fba8-24a2-4761-dfec-f18dc1e6f2f6"
   },
   "outputs": [],
   "source": [
    "print(muj_existujici_soubor.readline())"
   ]
  },
  {
   "cell_type": "code",
   "execution_count": null,
   "metadata": {
    "id": "a7cq8xX1ExxJ",
    "outputId": "097b0242-a330-4eda-f61f-a8962b063efb"
   },
   "outputs": [],
   "source": [
    "muj_existujici_soubor.seek(0)"
   ]
  },
  {
   "cell_type": "code",
   "execution_count": null,
   "metadata": {
    "id": "aJKqlNqyExxK",
    "outputId": "02e9a8f9-302e-42a5-d74d-0af01e9842e0"
   },
   "outputs": [],
   "source": [
    "print(muj_existujici_soubor.readlines())"
   ]
  },
  {
   "cell_type": "code",
   "execution_count": null,
   "metadata": {
    "id": "MVBFlJR-ExxL"
   },
   "outputs": [],
   "source": [
    "muj_existujici_soubor.close()"
   ]
  },
  {
   "cell_type": "markdown",
   "metadata": {
    "id": "hpXcZsW2ExxP"
   },
   "source": [
    "<br>\n",
    "\n",
    "## **Současně zapisovat a číst**\n",
    "\n",
    "---\n",
    "\n",
    "Vhodnou hodnotou argumentu `mode` můžeme specifikovat režim, kdy můžeme jak zapisovat, tak číst:"
   ]
  },
  {
   "cell_type": "code",
   "execution_count": null,
   "metadata": {
    "id": "n4ivVwBQExxP",
    "outputId": "5defe26a-c644-4cc5-e7d5-345219f2f793"
   },
   "outputs": [],
   "source": [
    "muj_existujici_soubor.closed"
   ]
  },
  {
   "cell_type": "code",
   "execution_count": null,
   "metadata": {
    "id": "UMburXMJExxQ"
   },
   "outputs": [],
   "source": [
    "muj_existujici_soubor = open(\"novy_soubor.txt\", mode=\"r+\")"
   ]
  },
  {
   "cell_type": "code",
   "execution_count": null,
   "metadata": {
    "id": "uZlq910RAF-Y"
   },
   "outputs": [],
   "source": [
    "help(open)"
   ]
  },
  {
   "cell_type": "code",
   "execution_count": null,
   "metadata": {
    "id": "MEGaILbaExxQ",
    "outputId": "368d5ae5-3af1-4ce4-fdb0-bd93f77deea4"
   },
   "outputs": [],
   "source": [
    "print(muj_existujici_soubor)"
   ]
  },
  {
   "cell_type": "code",
   "execution_count": null,
   "metadata": {
    "id": "-L0Oo0rAExxQ",
    "outputId": "a79da4b5-3474-4994-b453-8fd680aafe13"
   },
   "outputs": [],
   "source": [
    "print(muj_existujici_soubor.read())"
   ]
  },
  {
   "cell_type": "code",
   "execution_count": null,
   "metadata": {
    "id": "Tr6eU9UDExxQ",
    "outputId": "23facb93-f647-4af3-f245-a434cd9c7f5d"
   },
   "outputs": [],
   "source": [
    "muj_existujici_soubor.write(\"A jeste jeden radek!\")"
   ]
  },
  {
   "cell_type": "code",
   "execution_count": null,
   "metadata": {
    "id": "wE_cjsDkExxQ",
    "outputId": "e21ad7df-3200-448d-fc52-ef087b2041ef"
   },
   "outputs": [],
   "source": [
    "print(muj_existujici_soubor.tell())"
   ]
  },
  {
   "cell_type": "code",
   "execution_count": null,
   "metadata": {
    "id": "XJV0DyJ_ExxR",
    "outputId": "d3f68738-37cb-4148-a46f-3a6d454d2637"
   },
   "outputs": [],
   "source": [
    "muj_existujici_soubor.seek(0)\n",
    "print(muj_existujici_soubor.read())"
   ]
  },
  {
   "cell_type": "code",
   "execution_count": null,
   "metadata": {
    "id": "Wfi-dAaPExxR",
    "outputId": "19fc3346-cbf8-4370-8d2c-538ac9fffa00"
   },
   "outputs": [],
   "source": [
    "muj_existujici_soubor.write(\"\\nPosledni radek!\")"
   ]
  },
  {
   "cell_type": "code",
   "execution_count": null,
   "metadata": {
    "id": "RiA6g4-AExxS",
    "outputId": "ae082325-fbb1-449c-c245-26627a1b875c"
   },
   "outputs": [],
   "source": [
    "muj_existujici_soubor.seek(0)\n",
    "print(muj_existujici_soubor.read())"
   ]
  },
  {
   "cell_type": "code",
   "execution_count": null,
   "metadata": {
    "id": "7DKKOsLzExxS"
   },
   "outputs": [],
   "source": [
    "muj_existujici_soubor.close()"
   ]
  },
  {
   "cell_type": "markdown",
   "metadata": {
    "id": "cB4hiSG4EQjG"
   },
   "source": [
    "<br>\n",
    "\n",
    "## **Kontextový manažer**\n",
    "\n",
    "---"
   ]
  },
  {
   "cell_type": "markdown",
   "metadata": {
    "id": "4vHcT0iQDplh"
   },
   "source": [
    "<br>\n",
    "    \n",
    "Pokud vám není příjemné myslet na neustálou proceduru otevřít soubor, provést s ním potřebnou práci a zavřít jej, je tu i jiná možnost."
   ]
  },
  {
   "cell_type": "markdown",
   "metadata": {
    "id": "pafU8hi9D3I_"
   },
   "source": [
    "<br>\n",
    "\n",
    "### **Syntaxe s `with`**\n"
   ]
  },
  {
   "cell_type": "markdown",
   "metadata": {
    "id": "OTqgRk3DBQYZ"
   },
   "source": [
    "Pokud nechcete hlídat zavírání jednotlivých souborů, můžeme použít syntaxi s `with` (tedy kontextový manažer).([zdroj](https://docs.python.org/3/reference/datamodel.html#with-statement-context-managers))\n",
    "\n",
    "<br> \n",
    "\n",
    "Jeho použití, jak si ukážeme nesouvisí pouze s textovými soubory, ale pří práci s nimi je to skvělý pomocník.\n",
    "\n",
    "<br>\n",
    "\n",
    "Jeho použití spočívá v tom, že pomocí různých volatelných objektů v Pythonu (jako jsou funkce, př. `open`) spustí konkrétní proces. \n",
    "\n",
    "<br>\n",
    "\n",
    "Ihned potom umí automaticky ukončit celý proces, pokud interpret nenajde žádné další odsazené ohlášení."
   ]
  },
  {
   "cell_type": "code",
   "execution_count": null,
   "metadata": {
    "id": "niUUJU5wBQYb"
   },
   "outputs": [],
   "source": [
    "with open(\"novy_soubor.txt\", mode=\"a\") as muj_existujici_soubor:\n",
    "    muj_existujici_soubor.write(\"\\nPosledni radek z kont. manazera!\")"
   ]
  },
  {
   "cell_type": "code",
   "execution_count": null,
   "metadata": {
    "id": "HtyzbwJXBQYc",
    "outputId": "a93cfd45-fd87-4e5f-dac8-ba278284859d"
   },
   "outputs": [],
   "source": [
    "muj_existujici_soubor.closed"
   ]
  }
 ],
 "metadata": {
  "colab": {
   "authorship_tag": "ABX9TyOGVZzkRAr4FAeCabcOXFF4",
   "provenance": []
  },
  "kernelspec": {
   "display_name": "Python 3 (ipykernel)",
   "language": "python",
   "name": "python3"
  },
  "language_info": {
   "codemirror_mode": {
    "name": "ipython",
    "version": 3
   },
   "file_extension": ".py",
   "mimetype": "text/x-python",
   "name": "python",
   "nbconvert_exporter": "python",
   "pygments_lexer": "ipython3",
   "version": "3.10.0"
  }
 },
 "nbformat": 4,
 "nbformat_minor": 1
}
