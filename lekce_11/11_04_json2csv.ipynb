{
 "cells": [
  {
   "cell_type": "markdown",
   "id": "85ac0657",
   "metadata": {
    "id": "85ac0657"
   },
   "source": [
    "<h6 align=right> 🐍 Python akademie - lekce 11 - 09.01.2025</h6>"
   ]
  },
  {
   "cell_type": "markdown",
   "id": "8e950dd1",
   "metadata": {
    "id": "8e950dd1"
   },
   "source": [
    "<br>\n",
    "\n",
    "# <h1 align=center><font size=24><b> 📂 JSON 2 CSV</font></h1>\n",
    "\n",
    "<br>\n",
    "    \n",
    "<div align=center> (praktická úloha na závěr 11. lekce)</div>\n",
    "\n",
    "<br>\n"
   ]
  },
  {
   "cell_type": "markdown",
   "id": "6634260e",
   "metadata": {
    "id": "6634260e"
   },
   "source": [
    "## **Zadání**"
   ]
  },
  {
   "cell_type": "markdown",
   "id": "e9af9bce",
   "metadata": {
    "id": "e9af9bce"
   },
   "source": [
    "V dnešní hodině budeme chtít načíst obsah různých souborů typu `json` a uložit je do tabulkového formátu `csv`.\n",
    "\n",
    "<br>\n",
    "\n",
    "Všechny potřebné json-y najdeme v adresáři `solution`, odkud je budeme chtít přečíst a kam budeme chtít uložit výsledný soubor, `solution/vysledky.csv`.\n",
    "\n",
    "<br>\n",
    "\n",
    "Celá úloha se bude skládat z těchto na sebe navazujících kroků:\n",
    "1. *Načíst* všechna potřebná jména textových souborů,\n",
    "2. *načíst* obsah všech textových souborů,\n",
    "3. *vybrat* data, která nás zajímají a upravit je,\n",
    "4. *uložit* obsah do souboru `solution/vysledky.csv`."
   ]
  },
  {
   "cell_type": "markdown",
   "id": "c3c1f135",
   "metadata": {
    "id": "c3c1f135"
   },
   "source": [
    "## **Krok 0: importování potřebných modulů**"
   ]
  },
  {
   "cell_type": "code",
   "execution_count": null,
   "id": "ae798c78",
   "metadata": {
    "id": "ae798c78"
   },
   "outputs": [],
   "source": [
    "import os\n",
    "import json\n",
    "import csv\n",
    "from pprint import pprint"
   ]
  },
  {
   "cell_type": "markdown",
   "id": "dd53fc6e",
   "metadata": {
    "id": "dd53fc6e"
   },
   "source": [
    "## **Krok 1. rozepsat si, jak budeme postupovat**"
   ]
  },
  {
   "cell_type": "code",
   "execution_count": null,
   "id": "36e913d0",
   "metadata": {
    "id": "36e913d0"
   },
   "outputs": [],
   "source": [
    "# relativni cesta k souborum\n",
    "\n",
    "# potrebne klice\n",
    "\n",
    "# fce json_to_csv\n",
    "\n",
    "# funkce, ktera najde vsechny json soubory\n",
    "\n",
    "# funkce, ktera nacte obsah nalezenych jsonu\n",
    "\n",
    "# funkce, ktera upravi obsah souboru\n",
    "\n",
    "# funkce, ktera ulozi soubory do csv na lokal\n",
    "\n",
    "# zabaleni do hlavni funkce\n",
    "       "
   ]
  },
  {
   "cell_type": "markdown",
   "id": "a5456de6",
   "metadata": {
    "id": "a5456de6"
   },
   "source": [
    "## Krok 2. relativni cesta a potrebne klice"
   ]
  },
  {
   "cell_type": "code",
   "execution_count": null,
   "id": "2b7569fc",
   "metadata": {
    "id": "2b7569fc"
   },
   "outputs": [],
   "source": [
    "rel_cesta = 'solution/'\n",
    "zadouci_klice = (\"first_name\", \"last_name\", \"email\")"
   ]
  },
  {
   "cell_type": "markdown",
   "id": "6d203578",
   "metadata": {
    "id": "6d203578"
   },
   "source": [
    "## Krok 3: Napiš hlavní funkci a funkci, která najde json soubory"
   ]
  },
  {
   "cell_type": "code",
   "execution_count": null,
   "id": "6df65349",
   "metadata": {
    "id": "6df65349",
    "outputId": "176db7ff-3d38-4d2c-dd49-3366288a7d87"
   },
   "outputs": [
    {
     "name": "stdout",
     "output_type": "stream",
     "text": [
      "['ORIG_1.json', 'ORIG_2.json', 'ORIG_3.json', 'ORIG_4.json']\n"
     ]
    }
   ],
   "source": [
    "def json_to_csv():\n",
    "    \n",
    "    # najdi vsechny json soubory\n",
    "    jsony = najdi_jsony(rel_cesta)\n",
    "    return jsony\n",
    "\n",
    "def najdi_jsony(adresar: str) -> list:\n",
    "    list_souboru = []\n",
    "    \n",
    "    for jmeno in os.listdir(adresar):\n",
    "        if os.path.splitext(jmeno)[1] == '.json' and '_' in jmeno:\n",
    "            list_souboru.append(jmeno)\n",
    "            \n",
    "    return list_souboru\n",
    "    \n",
    "#     # list comprehension primo v returnu\n",
    "#     return [\n",
    "#         jmeno\n",
    "#         for jmeno in os.listdir(adresar)\n",
    "#         if os.path.splitext(jmeno)[1] == \".json\" and \"_\" in jmeno\n",
    "#     ]\n",
    "\n",
    "\n",
    "test = json_to_csv()\n",
    "print(test)"
   ]
  },
  {
   "cell_type": "markdown",
   "id": "da3186fa",
   "metadata": {
    "id": "da3186fa"
   },
   "source": [
    "## Krok 4: Zapiš funkci, která přečte json soubory "
   ]
  },
  {
   "cell_type": "code",
   "execution_count": null,
   "id": "f03788c9",
   "metadata": {
    "id": "f03788c9"
   },
   "outputs": [],
   "source": [
    "def precti_json(jmeno):\n",
    "    try:\n",
    "        soub_json = open(os.path.join('solution', jmeno), 'r', encoding='UTF-8')\n",
    "    except FileNotFoundError:\n",
    "        # exc = traceback.format_exc()\n",
    "        # return exc\n",
    "        print(\"File not found\")\n",
    "    else:\n",
    "        lide_info = json.load(soub_json)\n",
    "        soub_json.close()\n",
    "        return lide_info\n",
    "    \n",
    "lide_info = precti_json('ORIG_1.json')\n",
    "pprint(lide_info)"
   ]
  },
  {
   "cell_type": "markdown",
   "id": "7e73049e",
   "metadata": {
    "id": "7e73049e"
   },
   "source": [
    "### Krok 4b: Přidej funkci do hlavní funkce"
   ]
  },
  {
   "cell_type": "code",
   "execution_count": null,
   "id": "91c1554a",
   "metadata": {
    "id": "91c1554a"
   },
   "outputs": [],
   "source": [
    "rel_cesta = 'solution'\n",
    "\n",
    "def json_to_csv():\n",
    "    jsony = najdi_jsony(rel_cesta)\n",
    "    obsah_jsonu = [\n",
    "        pprint(zaznam)\n",
    "        for soubor in jsony\n",
    "        for zaznam in precti_json(soubor)\n",
    "    ]\n",
    "    return obsah_jsonu\n",
    "\n",
    "    \n",
    "test = json_to_csv()\n",
    "# print(test)\n",
    "\n",
    "## bez comprehension:\n",
    "# def json_to_csv():\n",
    "#     jsony = najdi_jsony(rel_cesta)\n",
    "    \n",
    "#     obsah_jsonu = []\n",
    "#     for soubor in jsony:\n",
    "#         for zaznam in precti_json(soubor):\n",
    "#             obsah_jsonu.append(zaznam)\n",
    "#     \n",
    "#     return obsah_jsonu"
   ]
  },
  {
   "cell_type": "markdown",
   "id": "b4edd570",
   "metadata": {
    "id": "b4edd570"
   },
   "source": [
    "## Krok 5: Napiš funkci, která vezme jen potřebné klíče, a uloží je"
   ]
  },
  {
   "cell_type": "code",
   "execution_count": null,
   "id": "831cc4b5",
   "metadata": {
    "id": "831cc4b5"
   },
   "outputs": [],
   "source": [
    "zadouci_klice = (\"first_name\", \"last_name\", \"email\")\n",
    "\n",
    "def filtr_klicu(zadouci: tuple, puvodni_zaznam: dict) -> dict:\n",
    "    vycisteny_zaznam = {}\n",
    "    \n",
    "    for klic in puvodni_zaznam.keys():\n",
    "        if klic not in zadouci:\n",
    "            continue\n",
    "        vycisteny_zaznam[klic] = puvodni_zaznam[klic]\n",
    "    \n",
    "    return vycisteny_zaznam\n"
   ]
  },
  {
   "cell_type": "markdown",
   "id": "mmmtc8yRjGYy",
   "metadata": {
    "id": "mmmtc8yRjGYy"
   },
   "source": [
    "### Krok 5b: Otestuj"
   ]
  },
  {
   "cell_type": "code",
   "execution_count": null,
   "id": "R3E-lsAmi3gF",
   "metadata": {
    "id": "R3E-lsAmi3gF"
   },
   "outputs": [],
   "source": [
    "# otestuj:\n",
    "\n",
    "zadouci_klice = ('first_name', 'last_name', 'email')\n",
    "puvodni_zaznam = {\n",
    "        \"id\": 246,\n",
    "        \"first_name\": \"Arley\",\n",
    "        \"last_name\": \"Pottage\",\n",
    "        \"email\": \"apottage6t@bizjournals.com\",\n",
    "        \"gender\": \"Male\",\n",
    "        \"ip_address\": \"35.134.210.62\"\n",
    "    }\n",
    "\n",
    "def filtr_klicu(puvodni_zaznam, zadouci_klice):\n",
    "    vycisteny_zaznam = {}\n",
    "\n",
    "    for klic in puvodni_zaznam.keys():\n",
    "        if klic not in zadouci_klice:\n",
    "            continue\n",
    "        vycisteny_zaznam[klic] = puvodni_zaznam[klic]\n",
    "\n",
    "    return vycisteny_zaznam\n",
    "\n",
    "\n",
    "test = filtr_klicu(puvodni_zaznam, zadouci_klice)\n",
    "print(test)"
   ]
  },
  {
   "cell_type": "markdown",
   "id": "19d40957",
   "metadata": {
    "id": "19d40957"
   },
   "source": [
    "### Krok 5c: Přidej funkci do hlavní funkce"
   ]
  },
  {
   "cell_type": "code",
   "execution_count": null,
   "id": "fd7416a5",
   "metadata": {
    "collapsed": true,
    "id": "fd7416a5"
   },
   "outputs": [],
   "source": [
    "rel_cesta = 'solution'\n",
    "zadouci_klice = (\"first_name\", \"last_name\", \"email\")\n",
    "\n",
    "def json_to_csv():\n",
    "    jsony = najdi_jsony(rel_cesta)\n",
    "    obsah_jsonu = [\n",
    "        filtr_klicu(zaznam, zadouci_klice)\n",
    "        for zaznam in jsony\n",
    "        for slovnik in precti_json(zaznam)\n",
    "    ]\n",
    "    return obsah_jsonu\n",
    "\n",
    "    \n",
    "test = json_to_csv()\n",
    "pprint(test)"
   ]
  },
  {
   "cell_type": "markdown",
   "id": "23ad0cfb",
   "metadata": {
    "id": "23ad0cfb"
   },
   "source": [
    "## Krok 6: Napiš funkci, která zapíše slovniky do csv"
   ]
  },
  {
   "cell_type": "code",
   "execution_count": 5,
   "id": "7851ce92",
   "metadata": {
    "colab": {
     "base_uri": "https://localhost:8080/",
     "height": 356
    },
    "executionInfo": {
     "elapsed": 232,
     "status": "error",
     "timestamp": 1683670861622,
     "user": {
      "displayName": "Radim Jedlička",
      "userId": "11502208915568361358"
     },
     "user_tz": -120
    },
    "id": "7851ce92",
    "outputId": "86abb291-ac4d-4202-cb84-c734489e2823"
   },
   "outputs": [
    {
     "ename": "NameError",
     "evalue": "ignored",
     "output_type": "error",
     "traceback": [
      "\u001b[0;31m---------------------------------------------------------------------------\u001b[0m",
      "\u001b[0;31mNameError\u001b[0m                                 Traceback (most recent call last)",
      "\u001b[0;32m<ipython-input-5-6227a8f631ed>\u001b[0m in \u001b[0;36m<cell line: 1>\u001b[0;34m()\u001b[0m\n\u001b[0;32m----> 1\u001b[0;31m \u001b[0mtest\u001b[0m \u001b[0;34m=\u001b[0m \u001b[0mjson_to_csv\u001b[0m\u001b[0;34m(\u001b[0m\u001b[0;34m)\u001b[0m\u001b[0;34m\u001b[0m\u001b[0;34m\u001b[0m\u001b[0m\n\u001b[0m\u001b[1;32m      2\u001b[0m \u001b[0;34m\u001b[0m\u001b[0m\n\u001b[1;32m      3\u001b[0m \u001b[0;32mdef\u001b[0m \u001b[0mzapis_csv\u001b[0m\u001b[0;34m(\u001b[0m\u001b[0mcilovy_soubor\u001b[0m\u001b[0;34m:\u001b[0m \u001b[0mstr\u001b[0m\u001b[0;34m,\u001b[0m \u001b[0mzaznamy\u001b[0m\u001b[0;34m:\u001b[0m \u001b[0mlist\u001b[0m\u001b[0;34m)\u001b[0m \u001b[0;34m->\u001b[0m \u001b[0;32mNone\u001b[0m\u001b[0;34m:\u001b[0m\u001b[0;34m\u001b[0m\u001b[0;34m\u001b[0m\u001b[0m\n\u001b[1;32m      4\u001b[0m     \"\"\"\n\u001b[1;32m      5\u001b[0m     \u001b[0mDo\u001b[0m \u001b[0mzadaneho\u001b[0m \u001b[0msouboru\u001b[0m \u001b[0;34m(\u001b[0m\u001b[0mpar\u001b[0m\u001b[0;34m.\u001b[0m \u001b[0;34m'soubor'\u001b[0m\u001b[0;34m)\u001b[0m \u001b[0mzapis\u001b[0m \u001b[0mfiltrovane\u001b[0m \u001b[0mzaznamy\u001b[0m\u001b[0;34m(\u001b[0m\u001b[0mpar\u001b[0m\u001b[0;34m.\u001b[0m\u001b[0;31m \u001b[0m\u001b[0;31m'\u001b[0m\u001b[0mzaznamy\u001b[0m\u001b[0;34m)\u001b[0m\u001b[0;34m.\u001b[0m\u001b[0;34m\u001b[0m\u001b[0;34m\u001b[0m\u001b[0m\n",
      "\u001b[0;32m<ipython-input-3-77399acf7701>\u001b[0m in \u001b[0;36mjson_to_csv\u001b[0;34m()\u001b[0m\n\u001b[1;32m      3\u001b[0m \u001b[0;34m\u001b[0m\u001b[0m\n\u001b[1;32m      4\u001b[0m \u001b[0;32mdef\u001b[0m \u001b[0mjson_to_csv\u001b[0m\u001b[0;34m(\u001b[0m\u001b[0;34m)\u001b[0m\u001b[0;34m:\u001b[0m\u001b[0;34m\u001b[0m\u001b[0;34m\u001b[0m\u001b[0m\n\u001b[0;32m----> 5\u001b[0;31m     \u001b[0mjsony\u001b[0m \u001b[0;34m=\u001b[0m \u001b[0mnajdi_jsony\u001b[0m\u001b[0;34m(\u001b[0m\u001b[0mrel_cesta\u001b[0m\u001b[0;34m)\u001b[0m\u001b[0;34m\u001b[0m\u001b[0;34m\u001b[0m\u001b[0m\n\u001b[0m\u001b[1;32m      6\u001b[0m     obsah_jsonu = [\n\u001b[1;32m      7\u001b[0m         \u001b[0mfiltr_klicu\u001b[0m\u001b[0;34m(\u001b[0m\u001b[0mzaznam\u001b[0m\u001b[0;34m,\u001b[0m \u001b[0mzadouci_klice\u001b[0m\u001b[0;34m)\u001b[0m\u001b[0;34m\u001b[0m\u001b[0;34m\u001b[0m\u001b[0m\n",
      "\u001b[0;31mNameError\u001b[0m: name 'najdi_jsony' is not defined"
     ]
    }
   ],
   "source": [
    "test = json_to_csv()\n",
    "\n",
    "def zapis_csv(cilovy_soubor: str, zaznamy: list) -> None:\n",
    "    \"\"\"\n",
    "    Do zadaneho souboru (par. 'soubor') zapis filtrovane zaznamy (par. 'zaznamy').\n",
    "\n",
    "    Z prvniho indexu par. 'zaznamy' zkus vzit jmena klicu a vytvorit z nich\n",
    "    zahlavi souboru.\n",
    "    \"\"\"\n",
    "    with open(cilovy_soubor, \"w\", encoding=\"utf-8\", newline=\"\") as csv_vystup:\n",
    "        try:\n",
    "            sloupecky = zaznamy[0].keys()\n",
    "        except IndexError:\n",
    "            print(f\"Problem s indexem u {type(zaznamy)}\")\n",
    "        except FileExistsError:\n",
    "            print(\"Nemuzu prepsat existujici soubor\")\n",
    "        else:\n",
    "            zapis = csv.DictWriter(csv_vystup, fieldnames=sloupecky)\n",
    "            zapis.writeheader()\n",
    "            zapis.writerows(zaznamy)\n",
    "            print(f\"Soubor {cilovy_soubor} zapsan na disk\")\n",
    "            \n",
    "\n",
    "test = zapis_csv('just_test.csv', test)\n",
    "print(test)"
   ]
  },
  {
   "cell_type": "markdown",
   "id": "3b28225f",
   "metadata": {
    "id": "3b28225f"
   },
   "source": [
    "### Krok 6b: Přidej funkci do hlavní funkce"
   ]
  },
  {
   "cell_type": "code",
   "execution_count": null,
   "id": "6c30e366",
   "metadata": {
    "id": "6c30e366",
    "outputId": "cb4c587b-0164-40c5-d09c-f875c6e6326b",
    "scrolled": true
   },
   "outputs": [
    {
     "name": "stdout",
     "output_type": "stream",
     "text": [
      "Soubor solution_test.csv zapsan na disk\n"
     ]
    }
   ],
   "source": [
    "rel_cesta = 'solution'\n",
    "zadouci_klice = (\"first_name\", \"last_name\", \"email\")\n",
    "\n",
    "def json_to_csv():\n",
    "    jsony = najdi_jsony(rel_cesta)\n",
    "    \n",
    "    obsah_jsonu = [\n",
    "        filtr_klicu(zadouci_klice, slovnik)\n",
    "        for soubor in jsony\n",
    "        for slovnik in precti_json(soubor)\n",
    "    ]\n",
    "    \n",
    "    zapis_csv(f'{rel_cesta}_test.csv', obsah_jsonu)\n",
    "\n",
    "    \n",
    "test = json_to_csv()\n",
    "# pprint(test)"
   ]
  },
  {
   "cell_type": "markdown",
   "id": "d4c8a79f",
   "metadata": {
    "id": "d4c8a79f"
   },
   "source": [
    "## Celé to obalit do hlavní funkce main()"
   ]
  },
  {
   "cell_type": "code",
   "execution_count": null,
   "id": "ced6da0b",
   "metadata": {
    "id": "ced6da0b",
    "outputId": "ac3b43b6-e9ba-4d5c-985b-4fa42c8444a2"
   },
   "outputs": [
    {
     "name": "stdout",
     "output_type": "stream",
     "text": [
      "Soubor solution_test.csv zapsan na disk\n"
     ]
    }
   ],
   "source": [
    "def main() -> None:\n",
    "    rel_cesta = 'solution'\n",
    "    zadouci_klice = (\"first_name\", \"last_name\", \"email\")\n",
    "\n",
    "    json_to_csv()\n",
    "    \n",
    "main()"
   ]
  },
  {
   "cell_type": "markdown",
   "id": "4f91e042",
   "metadata": {
    "id": "4f91e042"
   },
   "source": [
    "## Celý kód"
   ]
  },
  {
   "cell_type": "code",
   "execution_count": null,
   "id": "b0a0c046",
   "metadata": {
    "id": "b0a0c046",
    "outputId": "b696aa74-ac48-425f-cfa9-4f68c1a3478f"
   },
   "outputs": [
    {
     "name": "stdout",
     "output_type": "stream",
     "text": [
      "Soubor solution_test.csv zapsan na disk\n"
     ]
    }
   ],
   "source": [
    "def main():\n",
    "    rel_cesta = 'solution'\n",
    "# potrebne klice\n",
    "    zadouci_klice = (\"first_name\", \"last_name\", \"email\")\n",
    " \n",
    "    # fce json_to_csv\n",
    "    def json_to_csv():\n",
    "        \n",
    "        # najdi vsechny json soubory\n",
    "        jsony = najdi_jsony(rel_cesta)\n",
    "        \n",
    "        obsah_jsonu = [\n",
    "            filtr_klicu(zadouci_klice, slovnik)\n",
    "            for soubor in jsony\n",
    "            for slovnik in precti_json(soubor)\n",
    "        ]\n",
    "        \n",
    "        zapis_csv(f'{rel_cesta}_test.csv', obsah_jsonu)\n",
    "    \n",
    "\n",
    "    def najdi_jsony(adresar: str) -> list:\n",
    "        \n",
    "        list_souboru = []\n",
    "\n",
    "        for jmeno in os.listdir(adresar):\n",
    "            if os.path.splitext(jmeno)[1] == '.json' and '_' in jmeno:\n",
    "                list_souboru.append(jmeno)\n",
    "                \n",
    "        return list_souboru\n",
    "\n",
    "        # # list comprehension primo v returnu\n",
    "        # return [\n",
    "        #     jmeno\n",
    "        #     for jmeno in os.listdir(adresar)\n",
    "        #     if os.path.splitext(jmeno)[1] == \".json\" and \"_\" in jmeno\n",
    "        # ]\n",
    "\n",
    "\n",
    "    def precti_json(jmeno):\n",
    "        try:\n",
    "            soub_json = open(os.path.join('solution', jmeno), 'r', encoding='UTF-8')\n",
    "        except FileNotFoundError:\n",
    "            exc = traceback.format_exc()\n",
    "            return exc\n",
    "        else:\n",
    "            lide_info = json.load(soub_json)\n",
    "            soub_json.close()\n",
    "            return lide_info\n",
    "        \n",
    "\n",
    "    def filtr_klicu(zadouci: tuple, puvodni_slovnik: dict) -> dict:\n",
    "        vycisteny_slovnik = {}\n",
    "        \n",
    "        for klic in puvodni_slovnik.keys():\n",
    "            if klic not in zadouci:\n",
    "                continue\n",
    "            vycisteny_slovnik[klic] = puvodni_slovnik[klic]\n",
    "        \n",
    "        return vycisteny_slovnik\n",
    "\n",
    "\n",
    "    def zapis_csv(cilovy_soubor: str, udaje: list) -> None:\n",
    "        \"\"\"\n",
    "        Do zadaneho souboru (par. 'soubor') zapis filtrovane udaje (par. 'udaje').\n",
    "\n",
    "        Z prvniho indexu par. 'udaje' zkus vzit jmena klicu a vytvorit z nich\n",
    "        zahlavi souboru.\n",
    "        \"\"\"\n",
    "        with open(cilovy_soubor, \"w\", encoding=\"utf-8\", newline=\"\") as csv_vystup:\n",
    "            try:\n",
    "                sloupecky = udaje[0].keys()\n",
    "            except IndexError:\n",
    "                print(f\"Problem s indexem u {type(udaje)}\")\n",
    "            except FileExistsError:\n",
    "                print(\"Nemuzu prepsat existujici soubor\")\n",
    "            else:\n",
    "                zapis = csv.DictWriter(csv_vystup, fieldnames=sloupecky)\n",
    "                zapis.writeheader()\n",
    "                zapis.writerows(udaje,)\n",
    "                print(f\"Soubor {cilovy_soubor} zapsan na disk\")\n",
    "\n",
    "\n",
    "    json_to_csv()\n",
    "\n",
    "\n",
    "# test = json_to_csv()\n",
    "# pprint(test)\n",
    "\n",
    "if __name__ == \"__main__\":\n",
    "    main()"
   ]
  },
  {
   "cell_type": "markdown",
   "id": "38175887",
   "metadata": {
    "id": "38175887"
   },
   "source": [
    "## Celý kód - jiný zápis"
   ]
  },
  {
   "cell_type": "code",
   "execution_count": null,
   "id": "de1177cb",
   "metadata": {
    "id": "de1177cb",
    "outputId": "26598a59-9bd1-48ee-fd0a-e33487fff8ac"
   },
   "outputs": [
    {
     "name": "stdout",
     "output_type": "stream",
     "text": [
      "['ORIG_1.json', 'ORIG_2.json', 'ORIG_3.json', 'ORIG_4.json']\n",
      "Soubor solutiontest.csv zapsan na disk\n"
     ]
    }
   ],
   "source": [
    "def main() -> None:\n",
    "    # relativni cesta\n",
    "    rel_cesta = 'solution/'\n",
    "    \n",
    "    zadouci_klice = (\"first_name\", \"last_name\", \"email\")\n",
    "    \n",
    "    # fce json_to_csv\n",
    "    json_to_csv(zadouci_klice)\n",
    "        # najdi vsechny json soubory\n",
    "\n",
    "        # nacist obsah nalezenych jsonu\n",
    "        \n",
    "        # upravit obsah\n",
    "        \n",
    "        # ulozit soubory do csv na lokal\n",
    "    pass\n",
    "    \n",
    "\n",
    "def json_to_csv(zadouci_klice):\n",
    "    jsony = najdi_jsony(rel_cesta)\n",
    "    print(jsony)\n",
    "    obsah_jsonu = [filtr_klicu(zadouci_klice, slovnik)\n",
    "                   for soubor in jsony\n",
    "                    for slovnik in precti_json(soubor)]\n",
    "#     pprint(obsah_jsonu)\n",
    "    zapis_csv(f'{rel_cesta}test.csv', obsah_jsonu)\n",
    "    \n",
    "    \n",
    "def najdi_jsony(adresar):\n",
    "    return [jmeno for jmeno in os.listdir(adresar)\n",
    "            if os.path.splitext(jmeno)[1] == '.json' and '_' in jmeno]\n",
    "\n",
    "\n",
    "def precti_json(jmeno):\n",
    "    try:\n",
    "        soub_json = open(os.path.join('solution', jmeno), 'r', encoding='UTF-8')\n",
    "    except FileNotFoundError:\n",
    "        exc = traceback.format_exc()\n",
    "        return exc\n",
    "    else:\n",
    "        zamestnanci = json.load(soub_json)\n",
    "        soub_json.close()\n",
    "        return zamestnanci\n",
    "    \n",
    "\n",
    "def filtr_klicu(zadouci, puvodni_slovnik) -> dict:\n",
    "    upravene_klice = {}\n",
    "    \n",
    "    for klic in puvodni_slovnik.keys():\n",
    "        if klic not in zadouci:\n",
    "            continue\n",
    "        upravene_klice[klic] = puvodni_slovnik[klic]\n",
    "    \n",
    "    return upravene_klice\n",
    "\n",
    "\n",
    "def zapis_csv(soubor: str, udaje: list) -> None:\n",
    "    \"\"\"\n",
    "    Do zadaneho souboru (par. 'soubor') zapis filtrovane udaje (par. 'udaje').\n",
    "\n",
    "    Z prvniho indexu par. 'udaje' zkus vzit jmena klicu a vytvorit z nich\n",
    "    zahlavi souboru.\n",
    "    \"\"\"\n",
    "    with open(soubor, \"w\", encoding=\"utf-8\", newline=\"\") as csv_vystup:\n",
    "        try:\n",
    "            sloupecky = udaje[0].keys()\n",
    "        except IndexError:\n",
    "            print(f\"Problem s indexem u {type(udaje)}\")\n",
    "        except FileExistsError:\n",
    "            print(\"Nemuzu prepsat existujici soubor\")\n",
    "        else:\n",
    "            zapis = csv.DictWriter(csv_vystup, fieldnames=sloupecky)\n",
    "            zapis.writeheader()\n",
    "            zapis.writerows(udaje,)\n",
    "            print(f\"Soubor {soubor} zapsan na disk\")\n",
    "\n",
    "\n",
    "main()"
   ]
  }
 ],
 "metadata": {
  "colab": {
   "provenance": []
  },
  "kernelspec": {
   "display_name": "Python 3 (ipykernel)",
   "language": "python",
   "name": "python3"
  },
  "language_info": {
   "codemirror_mode": {
    "name": "ipython",
    "version": 3
   },
   "file_extension": ".py",
   "mimetype": "text/x-python",
   "name": "python",
   "nbconvert_exporter": "python",
   "pygments_lexer": "ipython3",
   "version": "3.10.0"
  }
 },
 "nbformat": 4,
 "nbformat_minor": 5
}
