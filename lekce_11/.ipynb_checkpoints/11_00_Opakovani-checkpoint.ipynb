{
 "cells": [
  {
   "cell_type": "markdown",
   "metadata": {
    "id": "2TBPRY89YaAS"
   },
   "source": [
    "<h6 align=right> 🐍 Python akademie - lekce 11 - 09.01.2025</h6>"
   ]
  },
  {
   "cell_type": "markdown",
   "metadata": {
    "id": "DV_wKUc8YcIm"
   },
   "source": [
    "<br>\n",
    "\n",
    "# <h1 align=center><font color=black size=24><b> 11_00: Opakování po desáté lekci!</font></h1>\n",
    "\n",
    "<br>\n",
    "\n",
    "---"
   ]
  },
  {
   "cell_type": "markdown",
   "metadata": {
    "id": "3Hd8Ter9Yiqr"
   },
   "source": [
    "<br>\n",
    "\n",
    "### **Ukázka #01**\n",
    "\n",
    "Kdy použijeme 'error handling', kdy 'debugování'?"
   ]
  },
  {
   "cell_type": "markdown",
   "metadata": {
    "id": "TyFY_5_PY-ms"
   },
   "source": [
    "<details>\n",
    "  <summary>❓Vysvětlení ❓</summary>\n",
    "\n",
    "\n",
    "*Error handling* je syntaxe, kterou použiješ pro práci s konkrétními výjimkami (chyba ~ výjimka).\n",
    "\n",
    "<br>\n",
    "    \n",
    "*Debugging* je postup, kterým odstraňuješ logické chyby ze svého zápisu.\n",
    "\n",
    "\n",
    "</details>\n",
    "\n",
    "---"
   ]
  },
  {
   "cell_type": "markdown",
   "metadata": {
    "id": "KdeCtJV5Yw2C"
   },
   "source": [
    "<br>\n",
    "\n",
    "### **Ukázka #02**\n",
    "\n",
    "Jak by měla vypadat správně napsaná syntaxe try-except-else?"
   ]
  },
  {
   "cell_type": "markdown",
   "metadata": {
    "id": "MpMtfb19ZMeE"
   },
   "source": [
    "<details>\n",
    "  <summary>❓Vysvětlení ❓</summary>\n",
    "\n",
    "Konkrétní zápis pro syntaxi try-except-else, může vypadat následně:\n",
    "```python\n",
    "try:\n",
    "    txt_objekt = open(\"muj_soubor.txt\")\n",
    "    # ohlaseni, ktere chci provest\n",
    "    \n",
    "except FileNotFoundError:\n",
    "    obsah = \"Soubor neni k dispozici\"\n",
    "else:\n",
    "    obsah = txt_objekt.read()\n",
    "finally:  # volitelne, ne povinne\n",
    "    txt_objekt.close()\n",
    "    return obsah  # \"Soubor neni k dispozici\"/\"toto je prvni radek\\ntoto...\"\n",
    "```\n",
    "\n",
    "</details>\n",
    "\n",
    "---"
   ]
  },
  {
   "cell_type": "markdown",
   "metadata": {
    "id": "uPSnjwOYZIfM"
   },
   "source": [
    "<br>\n",
    "\n",
    "### **Ukázka #03**\n",
    "\n",
    "Kdy bych neměl používát try-except-else?"
   ]
  },
  {
   "cell_type": "markdown",
   "metadata": {
    "id": "etBlm8M9ZNGw"
   },
   "source": [
    "<details>\n",
    "  <summary>❓Vysvětlení ❓</summary>\n",
    "\n",
    "Obecně řečeno, pokud tvůj zápis vypadá následně:\n",
    "```python\n",
    "try:\n",
    "    # neco\n",
    "except:\n",
    "    pass\n",
    "```\n",
    "Nepracuješ s žádnou **konkrétní výjimkou**. Tudíž nemá význam tuto syntaxi aplikovat.\n",
    "    \n",
    "<br>\n",
    "    \n",
    "Často je vhodnější v takovém případě zapsat podmínkový strom.\n",
    "\n",
    "</details>\n",
    "\n",
    "---"
   ]
  },
  {
   "cell_type": "markdown",
   "metadata": {
    "id": "GlpFBmVPZPZU"
   },
   "source": [
    "<br>\n",
    "\n",
    "### **Ukázka #04**\n",
    "\n",
    "Co znamená tato zpráva?\n",
    "\n",
    "```python\n",
    "Traceback (most recent call last):\n",
    "  File \"solution/solution11.py\", line 80, in <module>\n",
    "    hlavni()\n",
    "  File \"solution/solution11.py\", line 9, in hlavni\n",
    "    json_to_csv(rel_cesta, zadouci_klice)\n",
    "  File \"solution/solution11.py\", line 26, in json_to_csv\n",
    "    zapis_upravene_do_csv(\"vysledky.csv\", obsah_jsonu)\n",
    "  File \"solution/solution11.py\", line 68, in zapis_upravene_do_csv\n",
    "    sloupecky = udaje.keys()\n",
    "AttributeError: 'list' object has no attribute 'keys'\n",
    "\n",
    "```"
   ]
  },
  {
   "cell_type": "markdown",
   "metadata": {
    "id": "bFeZIdT8ZgFQ"
   },
   "source": [
    "<details>\n",
    "  <summary>❓Vysvětlení ❓</summary>\n",
    "\n",
    "*Traceback* je jak policejní pes. Projde tvůj zápis od začátku až do místa s chybou a vypíše ti o tom každý krok (každý řádek), kterým prošel.\n",
    "    \n",
    "Následuje jméno výjimky `AttributeError` a zpráva výjimky `'list' object has no attribute 'keys'`.\n",
    "\n",
    "</details>\n",
    "\n",
    "---"
   ]
  }
 ],
 "metadata": {
  "colab": {
   "authorship_tag": "ABX9TyNYfkeqXaKNP2PvzPv/jNwe",
   "provenance": []
  },
  "kernelspec": {
   "display_name": "Python 3 (ipykernel)",
   "language": "python",
   "name": "python3"
  },
  "language_info": {
   "codemirror_mode": {
    "name": "ipython",
    "version": 3
   },
   "file_extension": ".py",
   "mimetype": "text/x-python",
   "name": "python",
   "nbconvert_exporter": "python",
   "pygments_lexer": "ipython3",
   "version": "3.10.0"
  }
 },
 "nbformat": 4,
 "nbformat_minor": 1
}
