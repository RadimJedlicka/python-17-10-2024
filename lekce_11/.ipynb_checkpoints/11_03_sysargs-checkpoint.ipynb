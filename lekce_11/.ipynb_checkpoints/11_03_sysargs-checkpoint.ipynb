{
 "cells": [
  {
   "cell_type": "markdown",
   "metadata": {
    "id": "cI9q_Ia1erws"
   },
   "source": [
    "<h6 align=right> 🐍 Python akademie - lekce 11 - 09.01.2025</h6>"
   ]
  },
  {
   "cell_type": "markdown",
   "metadata": {
    "id": "4F5V-yFjeuKG"
   },
   "source": [
    "<br>\n",
    "\n",
    "# <h1 align=center><font color=black size=24><b> 11_03: sys.argv</font></h1>\n",
    "\n",
    "<br>\n"
   ]
  },
  {
   "cell_type": "markdown",
   "metadata": {
    "id": "j100cigFfg43"
   },
   "source": [
    "<br>\n",
    "\n",
    "---\n",
    "\n",
    "### **Zajímavé odkazy z této lekce:**\n",
    "\n",
    "\n",
    "* \n",
    "\n",
    "---\n",
    "\n",
    "<br>"
   ]
  },
  {
   "cell_type": "markdown",
   "metadata": {
    "id": "573t6uFM8k-8"
   },
   "source": [
    "<br>\n",
    "\n",
    "## **`sys.argv`**\n",
    "\n",
    "je v Pythonu seznam argumentů, které byly předány na příkazové řádce. Každý prvek seznamu je jedním argumentem, který byl předán. Tento seznam obsahuje minimálně jeden prvek - **jméno spuštěného programu.**\n",
    "\n",
    "<br>\n",
    "\n",
    "Například, pokud máme následující Python kód, který uložen jako `program.py`:"
   ]
  },
  {
   "cell_type": "code",
   "execution_count": null,
   "metadata": {
    "id": "IaOF7V3S8fkZ"
   },
   "outputs": [],
   "source": [
    "import sys\n",
    "\n",
    "print(\"Jméno spuštěného programu:\", sys.argv[0])\n",
    "if len(sys.argv) > 1:\n",
    "    print(\"Byl předán argument:\", sys.argv[1])\n",
    "else:\n",
    "    print(\"Nebyl předán žádný argument.\")\n"
   ]
  },
  {
   "cell_type": "markdown",
   "metadata": {
    "id": "ehKsN5Uj8qnP"
   },
   "source": [
    "A pak spustíme tento kód s následujícím příkazem na příkazové řádce:"
   ]
  },
  {
   "cell_type": "markdown",
   "metadata": {
    "id": "c6FJfjx7805f"
   },
   "source": [
    "```bash\n",
    "python program.py argument\n",
    "```"
   ]
  },
  {
   "cell_type": "markdown",
   "metadata": {
    "id": "COSV_ema8uuz"
   },
   "source": [
    "Výstup bude následující:"
   ]
  },
  {
   "cell_type": "markdown",
   "metadata": {
    "id": "76PM9LO48wYy"
   },
   "source": [
    "```yaml\n",
    "Jméno spuštěného programu: program.py\n",
    "Byl předán argument: argument\n",
    "```"
   ]
  },
  {
   "cell_type": "markdown",
   "metadata": {
    "id": "Pa4bmwTi87-X"
   },
   "source": [
    "Pokud bychom spustili kód bez argumentu:"
   ]
  },
  {
   "cell_type": "markdown",
   "metadata": {
    "id": "IJzmOUop89bR"
   },
   "source": [
    "```\n",
    "python program.py\n",
    "```"
   ]
  },
  {
   "cell_type": "markdown",
   "metadata": {
    "id": "jUWo75Ma9KEQ"
   },
   "source": [
    "Výstup by byl:"
   ]
  },
  {
   "cell_type": "markdown",
   "metadata": {
    "id": "Vkoppze09Lqd"
   },
   "source": [
    "```dash\n",
    "Jméno spuštěného programu: program.py\n",
    "Nebyl předán žádný argument.\n",
    "```"
   ]
  },
  {
   "cell_type": "markdown",
   "metadata": {
    "id": "0lU1XI3V9TK6"
   },
   "source": [
    "Tento kód tedy kontroluje, zda byl předán alespoň jeden argument na příkazové řádce a pokud ano, vypíše ho. Pokud argument neexistuje, vypíše `Nebyl předán žádný argument.`.\n"
   ]
  },
  {
   "cell_type": "markdown",
   "metadata": {
    "id": "ffTo_zYo9Vb7"
   },
   "source": [
    "<br>\n",
    "\n",
    "## **Použití argumentů v programu**\n",
    "\n",
    "Předpokládejme, že máme Python skript, který čte soubor obsahující seznam položek k nákupu a přidává nové položky do tohoto seznamu. Skript můžeme spustit s argumenty, které specifikují, jaké položky chceme přidat.\n",
    "\n",
    "Začneme vytvořením souboru `shopping_list.txt`, který bude obsahovat seznam položek k nákupu: mleko, chleba, vejce"
   ]
  },
  {
   "cell_type": "markdown",
   "metadata": {
    "id": "FN6MTcQO9X_r"
   },
   "source": [
    "```dash\n",
    "shopping_list.txt\n",
    "mleko\n",
    "chleba\n",
    "vejce\n",
    "```"
   ]
  },
  {
   "cell_type": "markdown",
   "metadata": {
    "id": "pIcFWBeV9c5E"
   },
   "source": [
    "Poté vytvoříme Python skript s názvem `add_to_shopping_list.py`, který načte tento soubor, vypíše jeho obsah a poté přidá nové položky na konec seznamu. Skript bude přijímat seznam položek, které chceme přidat, jako argumenty na příkazové řádce."
   ]
  },
  {
   "cell_type": "code",
   "execution_count": null,
   "metadata": {
    "id": "jmU7OY2t8saL"
   },
   "outputs": [],
   "source": [
    "import sys\n",
    "\n",
    "# Načtení seznamu z nákupního listu\n",
    "with open(\"shopping_list.txt\", \"r\") as f:\n",
    "    shopping_list = f.read().splitlines()\n",
    "\n",
    "print(\"Původní nákupní seznam:\")\n",
    "print(shopping_list)\n",
    "\n",
    "# Přidání nových položek na konec seznamu\n",
    "if len(sys.argv) > 1:\n",
    "    for item in sys.argv[1:]:\n",
    "        shopping_list.append(item)\n",
    "\n",
    "# Vypsání upraveného seznamu\n",
    "print(\"Upravený nákupní seznam:\")\n",
    "print(shopping_list)\n",
    "\n",
    "# Uložení seznamu zpět do souboru\n",
    "with open(\"shopping_list.txt\", \"w\") as f:\n",
    "    for item in shopping_list:\n",
    "        f.write(item + \"\\n\")\n"
   ]
  },
  {
   "cell_type": "markdown",
   "metadata": {
    "id": "tXL0-d2m9he6"
   },
   "source": [
    "Můžeme tento skript spustit s následujícím příkazem:"
   ]
  },
  {
   "cell_type": "markdown",
   "metadata": {
    "id": "W3h8qH4R9i57"
   },
   "source": [
    "```\n",
    "python add_to_shopping_list.py jablko voda\n",
    "```"
   ]
  },
  {
   "cell_type": "markdown",
   "metadata": {
    "id": "rz_8WJAj9mED"
   },
   "source": [
    "Výstup bude následující:"
   ]
  },
  {
   "cell_type": "markdown",
   "metadata": {
    "id": "LpTi5w4U9oNN"
   },
   "source": [
    "```\n",
    "Původní nákupní seznam:\n",
    "['mleko', 'chleba', 'vejce']\n",
    "Upravený nákupní seznam:\n",
    "['mleko', 'chleba', 'vejce', 'jablko', 'voda']\n",
    "```"
   ]
  },
  {
   "cell_type": "markdown",
   "metadata": {
    "id": "iNZpgEy_-Oto"
   },
   "source": [
    "Vidíme, že nové položky \"jablko\" a \"voda\" byly přidány na konec seznamu a seznam byl aktualizován v souboru `shopping_list.txt`.\n",
    "\n",
    "Tento příklad ukazuje, jak můžeme použít `sys.argv` k přijímání argumentů na příkazové řádce a použít je pro provádění konkrétních akcí v Python skriptu."
   ]
  }
 ],
 "metadata": {
  "colab": {
   "authorship_tag": "ABX9TyPLrXoDFRYHdXj034hSbxHd",
   "provenance": []
  },
  "kernelspec": {
   "display_name": "Python 3 (ipykernel)",
   "language": "python",
   "name": "python3"
  },
  "language_info": {
   "codemirror_mode": {
    "name": "ipython",
    "version": 3
   },
   "file_extension": ".py",
   "mimetype": "text/x-python",
   "name": "python",
   "nbconvert_exporter": "python",
   "pygments_lexer": "ipython3",
   "version": "3.10.0"
  }
 },
 "nbformat": 4,
 "nbformat_minor": 1
}
