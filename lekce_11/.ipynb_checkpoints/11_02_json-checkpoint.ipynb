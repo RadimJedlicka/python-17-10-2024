{
 "cells": [
  {
   "cell_type": "markdown",
   "metadata": {
    "id": "cI9q_Ia1erws"
   },
   "source": [
    "<h6 align=right> 🐍 Python akademie - lekce 11 - 09.01.2025</h6>"
   ]
  },
  {
   "cell_type": "markdown",
   "metadata": {
    "id": "e89eTm8TjuAA"
   },
   "source": [
    "<br>\n",
    "\n",
    "# <h1 align=center><font color=black size=24><b> 11_02: Úvod do .json</font></h1>\n",
    "\n",
    "<br>\n"
   ]
  },
  {
   "cell_type": "markdown",
   "metadata": {
    "id": "j100cigFfg43"
   },
   "source": [
    "<br>\n",
    "\n",
    "---\n",
    "\n",
    "### **Zajímavé odkazy z této lekce:**\n",
    "\n",
    "\n",
    "* [Oficiální dokumentace python.org](https://docs.python.org/3/library/json.html)\n",
    "* [Neoficiální tutoriál realpython.com](https://realpython.com/python-json/)\n",
    "* [Pyladies materiály](https://naucse.python.cz/lessons/intro/json/)\n",
    "\n",
    "---\n",
    "\n",
    "<br>"
   ]
  },
  {
   "cell_type": "markdown",
   "metadata": {
    "id": "b90eJs54EnKv"
   },
   "source": [
    "Takže tabulkový formát je zpracovaný, co když budeš potřebovat soubor **organizovaný pomocí klíčů**."
   ]
  },
  {
   "cell_type": "markdown",
   "metadata": {
    "id": "0SPrQcx5EnKw"
   },
   "source": [
    "<img src=\"https://external-content.duckduckgo.com/iu/?u=https%3A%2F%2Ftse1.mm.bing.net%2Fth%3Fid%3DOIP.HE9t18rjtPfxKI4noPxHiwHaHa%26pid%3DApi&f=1&ipt=75010c912a1bd645939e0cce59df21f5842a62439ba97cda758a4c7002f40ae6&ipo=images\" width=\"200\">\n",
    "\n"
   ]
  },
  {
   "cell_type": "markdown",
   "metadata": {
    "id": "ScM4y6HklXdE"
   },
   "source": [
    "<br>\n",
    "\n",
    "## **Soubor JSON**\n",
    "\n",
    "---"
   ]
  },
  {
   "cell_type": "markdown",
   "metadata": {
    "id": "T0-jeDzKEnKw"
   },
   "source": [
    "Tento typ souboru možná ještě neznáš. Jedná se o příponu u souborů **.json**.\n",
    "\n",
    "Celé jméno souboru může vypadat třeba jako `uzivatele.json`.\n",
    "\n",
    "**JSON** si můžeš představit následovně:\n",
    "```python\n",
    "{\n",
    "    \"jmeno\": \"Chuck Norris\",\n",
    "    \"neuspech\": null,\n",
    "    \"kliky\": \"vsechny\",\n",
    "    \"konkurence\": false,\n",
    "}\n",
    "```"
   ]
  },
  {
   "cell_type": "markdown",
   "metadata": {
    "id": "sFfv9Gu7EnKx"
   },
   "source": [
    "Na první pohled můžeš říct, že se hodně podobá **Pythonovskému slovníku**.\n",
    "\n",
    "Nicméně má svoji vlastní charakteristickou **sadu pravidel** pro převod datových typů.\n",
    "\n",
    "Níže jsou uvedená některá pravidla, která se týkají ukázky výše (všechna pravidla najdeš [zde](https://docs.python.org/3/library/json.html#encoders-and-decoders)):\n",
    "\n",
    "\n",
    "| JSON | Python |\n",
    "| :-: | :-: |\n",
    "| string | str |\n",
    "| true | True |\n",
    "| false | False |\n",
    "| null | None |"
   ]
  },
  {
   "cell_type": "markdown",
   "metadata": {
    "id": "wYEg2yMDEnKx"
   },
   "source": [
    "Účelem tohoto souboru je zejména **přenos dat** (*JavaScript Object Notation*).\n",
    "\n",
    "Jde o záměrně zjednodušený formát, který **není standartním datovým typem pro Python**."
   ]
  },
  {
   "cell_type": "markdown",
   "metadata": {
    "id": "24TrBUSbEnKy"
   },
   "source": [
    "Poměrně často se s ním setkáš u **webových aplikací** různých *eshopů*, které ti vykresují nabídku na základě informací získaných z databází."
   ]
  },
  {
   "cell_type": "markdown",
   "metadata": {
    "id": "mggJaP57EnKy"
   },
   "source": [
    "Protože **JSON** není standartním datovým typem, jako takový jej nemůžeš v Pythonu použít.\n",
    "\n",
    "Pokud budeš chtít pracovat s JSON v Pythonu, musíš *nahrát* k tomu určenou **built-in knihovnu**."
   ]
  },
  {
   "cell_type": "markdown",
   "metadata": {
    "id": "2ylUdSjXEnKy"
   },
   "source": [
    "\n",
    "V rámci <a href=\"https://docs.python.org/3/library/index.html\" target=\"_blank\">seznamu dokumentace Pythonu</a>  najdeš knihovnu `json`.\n",
    "\n",
    "Právě tato knihovna ti umožní pomocí *interpretu* Pythonu *vytvořit* nebo *načíst* JSON."
   ]
  },
  {
   "cell_type": "code",
   "execution_count": 1,
   "metadata": {
    "executionInfo": {
     "elapsed": 3,
     "status": "ok",
     "timestamp": 1683661841341,
     "user": {
      "displayName": "Radim Jedlička",
      "userId": "11502208915568361358"
     },
     "user_tz": -120
    },
    "id": "qcEDgfuAEnKy"
   },
   "outputs": [],
   "source": [
    "import json  # nahrání knihovny"
   ]
  },
  {
   "cell_type": "code",
   "execution_count": null,
   "metadata": {
    "id": "p4E1BvPkEnKy"
   },
   "outputs": [],
   "source": [
    "help(json)   # nápověda"
   ]
  },
  {
   "cell_type": "code",
   "execution_count": null,
   "metadata": {
    "id": "Jfr8r3QaEnKy"
   },
   "outputs": [],
   "source": [
    "dir(json)    # seznam všech metod"
   ]
  },
  {
   "cell_type": "code",
   "execution_count": null,
   "metadata": {
    "id": "PEJqvhOHEnKz"
   },
   "outputs": [],
   "source": [
    "tuple(       # bez magických metod\n",
    "    object\n",
    "    for object in dir(json)\n",
    "    if not object.startswith(\"__\")\n",
    ")"
   ]
  },
  {
   "cell_type": "markdown",
   "metadata": {
    "id": "hAVUryG0EnKz"
   },
   "source": [
    "<br>\n",
    "\n",
    "V rámci **základní manipulace** se zaměř hlavně na tyto funkce:\n",
    "\n",
    "| Funkce | Účel |\n",
    "| :- | :- |\n",
    "| `json.dump(m, n)` | zapíše objekt do souboru JSON |\n",
    "| `json.dumps(m)` | zapíše objekt do `str` |\n",
    "| `json.load(m)` | načte JSON data ze souboru |\n",
    "| `json.loads(m)` | načte JSON data ze `str` |\n",
    "\n",
    "Detail tabulky:\n",
    "- `m` představuje jméno objektu,\n",
    "- `n` představuje jméno souboru."
   ]
  },
  {
   "cell_type": "markdown",
   "metadata": {
    "id": "Dh9nzhpdEnKz"
   },
   "source": [
    "<br>\n",
    "\n",
    "##  **tvořím JSON jako str objekt!**\n",
    "\n",
    "Obecně se při práci se soubory typu `json` mluví o procesech *serialization* a *deserialization* (tedy čtení a zápis), ke kterým patří příslušné funkce uvedené výše v tabulce."
   ]
  },
  {
   "cell_type": "code",
   "execution_count": 5,
   "metadata": {
    "executionInfo": {
     "elapsed": 255,
     "status": "ok",
     "timestamp": 1683661980180,
     "user": {
      "displayName": "Radim Jedlička",
      "userId": "11502208915568361358"
     },
     "user_tz": -120
    },
    "id": "1tiboKgvEnKz"
   },
   "outputs": [],
   "source": [
    "chuckuv_slovnik = {\n",
    "    \"jmeno\": \"Chuck Norris\",\n",
    "    \"neuspech\": None,\n",
    "    \"kliky\": \"vsechny\",\n",
    "    \"konkurence\": False,\n",
    "    \"doplneni\": \"Łukasz\",\n",
    "}"
   ]
  },
  {
   "cell_type": "code",
   "execution_count": 6,
   "metadata": {
    "colab": {
     "base_uri": "https://localhost:8080/"
    },
    "executionInfo": {
     "elapsed": 228,
     "status": "ok",
     "timestamp": 1683661987771,
     "user": {
      "displayName": "Radim Jedlička",
      "userId": "11502208915568361358"
     },
     "user_tz": -120
    },
    "id": "AMRYb9g5EnKz",
    "outputId": "5f6e06ed-cce5-4b42-fb36-2f553841395b"
   },
   "outputs": [
    {
     "name": "stdout",
     "output_type": "stream",
     "text": [
      "<class 'dict'>\n"
     ]
    }
   ],
   "source": [
    "print(type(chuckuv_slovnik))"
   ]
  },
  {
   "cell_type": "code",
   "execution_count": 7,
   "metadata": {
    "executionInfo": {
     "elapsed": 265,
     "status": "ok",
     "timestamp": 1683662004285,
     "user": {
      "displayName": "Radim Jedlička",
      "userId": "11502208915568361358"
     },
     "user_tz": -120
    },
    "id": "L9AETRFLEnK0"
   },
   "outputs": [],
   "source": [
    "vypis_json = json.dumps(chuckuv_slovnik)  # výstup pouze jako str"
   ]
  },
  {
   "cell_type": "code",
   "execution_count": 8,
   "metadata": {
    "colab": {
     "base_uri": "https://localhost:8080/"
    },
    "executionInfo": {
     "elapsed": 254,
     "status": "ok",
     "timestamp": 1683662007019,
     "user": {
      "displayName": "Radim Jedlička",
      "userId": "11502208915568361358"
     },
     "user_tz": -120
    },
    "id": "OU2J8YktEnK0",
    "outputId": "2a3db513-a60f-4067-a29f-b968a6638946"
   },
   "outputs": [
    {
     "name": "stdout",
     "output_type": "stream",
     "text": [
      "{\"jmeno\": \"Chuck Norris\", \"neuspech\": null, \"kliky\": \"vsechny\", \"konkurence\": false, \"doplneni\": \"\\u0141ukasz\"}\n"
     ]
    }
   ],
   "source": [
    "print(vypis_json)"
   ]
  },
  {
   "cell_type": "code",
   "execution_count": 9,
   "metadata": {
    "colab": {
     "base_uri": "https://localhost:8080/"
    },
    "executionInfo": {
     "elapsed": 334,
     "status": "ok",
     "timestamp": 1683662014534,
     "user": {
      "displayName": "Radim Jedlička",
      "userId": "11502208915568361358"
     },
     "user_tz": -120
    },
    "id": "8sopTFwKEnK0",
    "outputId": "c5c7faa2-2919-4d1c-9e85-28bdb6be9c28"
   },
   "outputs": [
    {
     "name": "stdout",
     "output_type": "stream",
     "text": [
      "<class 'str'>\n"
     ]
    }
   ],
   "source": [
    "print(type(vypis_json))"
   ]
  },
  {
   "cell_type": "markdown",
   "metadata": {
    "id": "kB2B4S7yEnK0"
   },
   "source": [
    "Jakmile se podíváš na výstup, všimni si následujícího:\n",
    "1. `null`, klíč `neuspech` už neobsahuje `None`,\n",
    "2. `false`, klíč `konkurence` už neobsahuje `False`,\n",
    "3. `\"\\u0141ukasz\"`, klíč `doplneni` se nějak zkomolil.\n",
    "\n",
    "Důvodem pro výše **zdůrazněné změny** je právě změna *Python objektů* na *JSON objekty*.\n",
    "\n",
    "<br>\n",
    "\n",
    "V klíči `doplneni` dostaneš string `\"\\u0141ukasz\"`, jak je to možné?\n",
    "\n",
    "Defaultně totiž funkce `dump` všechny *non-ASCII* znaky (které nenajdeš v ASCII tabulce) převede na znaky doplněné **zpětným lomítkem** (tedy `Ł` na `\\u0141`)."
   ]
  },
  {
   "cell_type": "markdown",
   "metadata": {
    "id": "x7D-fXmHEnK0"
   },
   "source": [
    "<br>\n",
    "\n",
    "### **Vytvoření souboru `.json`**"
   ]
  },
  {
   "cell_type": "code",
   "execution_count": 10,
   "metadata": {
    "executionInfo": {
     "elapsed": 398,
     "status": "ok",
     "timestamp": 1683662105778,
     "user": {
      "displayName": "Radim Jedlička",
      "userId": "11502208915568361358"
     },
     "user_tz": -120
    },
    "id": "LN7SwXk3EnK0"
   },
   "outputs": [],
   "source": [
    "json_soubor = open(\n",
    "    \"prvni_JSON.json\",\n",
    "    mode=\"w\",\n",
    "    encoding=\"UTF-8\"\n",
    ")"
   ]
  },
  {
   "cell_type": "code",
   "execution_count": 11,
   "metadata": {
    "executionInfo": {
     "elapsed": 253,
     "status": "ok",
     "timestamp": 1683662118657,
     "user": {
      "displayName": "Radim Jedlička",
      "userId": "11502208915568361358"
     },
     "user_tz": -120
    },
    "id": "X1VpwcS3EnK0"
   },
   "outputs": [],
   "source": [
    "json.dump(chuckuv_slovnik, json_soubor)"
   ]
  },
  {
   "cell_type": "code",
   "execution_count": 12,
   "metadata": {
    "executionInfo": {
     "elapsed": 253,
     "status": "ok",
     "timestamp": 1683662121289,
     "user": {
      "displayName": "Radim Jedlička",
      "userId": "11502208915568361358"
     },
     "user_tz": -120
    },
    "id": "Ip7sasspEnK0"
   },
   "outputs": [],
   "source": [
    "json_soubor.close()"
   ]
  },
  {
   "cell_type": "markdown",
   "metadata": {
    "id": "C1XL1Fq8EnK1"
   },
   "source": [
    "<br>\n",
    "\n",
    "### **Kontextový manažer**"
   ]
  },
  {
   "cell_type": "code",
   "execution_count": 13,
   "metadata": {
    "executionInfo": {
     "elapsed": 230,
     "status": "ok",
     "timestamp": 1683662144295,
     "user": {
      "displayName": "Radim Jedlička",
      "userId": "11502208915568361358"
     },
     "user_tz": -120
    },
    "id": "JFnxAIFBEnK1"
   },
   "outputs": [],
   "source": [
    "with open(\"prvni_JSON.json\", mode=\"w\", encoding=\"UTF-8\") as json_soubor:\n",
    "    json.dump(chuckuv_slovnik, json_soubor)  # CO, KAM"
   ]
  },
  {
   "cell_type": "code",
   "execution_count": 14,
   "metadata": {
    "colab": {
     "base_uri": "https://localhost:8080/"
    },
    "executionInfo": {
     "elapsed": 270,
     "status": "ok",
     "timestamp": 1683662147740,
     "user": {
      "displayName": "Radim Jedlička",
      "userId": "11502208915568361358"
     },
     "user_tz": -120
    },
    "id": "t3IXeHo1EnK1",
    "outputId": "d60c5e4d-1921-4333-b997-cbf11955c635"
   },
   "outputs": [
    {
     "data": {
      "text/plain": [
       "True"
      ]
     },
     "execution_count": 14,
     "metadata": {},
     "output_type": "execute_result"
    }
   ],
   "source": [
    "json_soubor.closed"
   ]
  },
  {
   "cell_type": "markdown",
   "metadata": {
    "id": "9YFzTRcUEnK1"
   },
   "source": [
    "<br>\n",
    "\n",
    "### **Načti existující soubor `.json`**"
   ]
  },
  {
   "cell_type": "code",
   "execution_count": 15,
   "metadata": {
    "executionInfo": {
     "elapsed": 228,
     "status": "ok",
     "timestamp": 1683662169178,
     "user": {
      "displayName": "Radim Jedlička",
      "userId": "11502208915568361358"
     },
     "user_tz": -120
    },
    "id": "HccGgPVJEnK1"
   },
   "outputs": [],
   "source": [
    "existujici_json = open(\"prvni_JSON.json\", mode=\"r\", encoding=\"UTF-8\")"
   ]
  },
  {
   "cell_type": "code",
   "execution_count": 16,
   "metadata": {
    "colab": {
     "base_uri": "https://localhost:8080/"
    },
    "executionInfo": {
     "elapsed": 277,
     "status": "ok",
     "timestamp": 1683662175265,
     "user": {
      "displayName": "Radim Jedlička",
      "userId": "11502208915568361358"
     },
     "user_tz": -120
    },
    "id": "ZVS1CsM-EnK1",
    "outputId": "b1ee9eea-44ef-4803-a5fa-3c8921b4b022"
   },
   "outputs": [
    {
     "name": "stdout",
     "output_type": "stream",
     "text": [
      "<_io.TextIOWrapper name='prvni_JSON.json' mode='r' encoding='UTF-8'>\n"
     ]
    }
   ],
   "source": [
    "print(existujici_json)"
   ]
  },
  {
   "cell_type": "code",
   "execution_count": 17,
   "metadata": {
    "executionInfo": {
     "elapsed": 281,
     "status": "ok",
     "timestamp": 1683662180203,
     "user": {
      "displayName": "Radim Jedlička",
      "userId": "11502208915568361358"
     },
     "user_tz": -120
    },
    "id": "tF0ezYuTEnK1"
   },
   "outputs": [],
   "source": [
    "obsah_json = json.load(existujici_json)"
   ]
  },
  {
   "cell_type": "code",
   "execution_count": 18,
   "metadata": {
    "colab": {
     "base_uri": "https://localhost:8080/"
    },
    "executionInfo": {
     "elapsed": 250,
     "status": "ok",
     "timestamp": 1683662189507,
     "user": {
      "displayName": "Radim Jedlička",
      "userId": "11502208915568361358"
     },
     "user_tz": -120
    },
    "id": "tk6ru3RBEnK2",
    "outputId": "205e0faa-b4de-4ca3-c754-f7fbe5546029"
   },
   "outputs": [
    {
     "name": "stdout",
     "output_type": "stream",
     "text": [
      "{'jmeno': 'Chuck Norris', 'neuspech': None, 'kliky': 'vsechny', 'konkurence': False, 'doplneni': 'Łukasz'}\n"
     ]
    }
   ],
   "source": [
    "print(obsah_json)"
   ]
  },
  {
   "cell_type": "code",
   "execution_count": 19,
   "metadata": {
    "executionInfo": {
     "elapsed": 337,
     "status": "ok",
     "timestamp": 1683662198468,
     "user": {
      "displayName": "Radim Jedlička",
      "userId": "11502208915568361358"
     },
     "user_tz": -120
    },
    "id": "3vBRcy24EnK2"
   },
   "outputs": [],
   "source": [
    "existujici_json.close()"
   ]
  },
  {
   "cell_type": "markdown",
   "metadata": {
    "id": "4Pf2K2F7EnK2"
   },
   "source": [
    "<br>\n",
    "\n",
    "### **Kontextový manažer**"
   ]
  },
  {
   "cell_type": "code",
   "execution_count": 20,
   "metadata": {
    "executionInfo": {
     "elapsed": 292,
     "status": "ok",
     "timestamp": 1683662212229,
     "user": {
      "displayName": "Radim Jedlička",
      "userId": "11502208915568361358"
     },
     "user_tz": -120
    },
    "id": "l0PgbYVDEnK2"
   },
   "outputs": [],
   "source": [
    "with open(\"prvni_JSON.json\", mode=\"r\", encoding=\"UTF-8\") as existujici_json:\n",
    "    obsah_json = json.load(existujici_json)  # CO"
   ]
  },
  {
   "cell_type": "code",
   "execution_count": 21,
   "metadata": {
    "colab": {
     "base_uri": "https://localhost:8080/"
    },
    "executionInfo": {
     "elapsed": 247,
     "status": "ok",
     "timestamp": 1683662215963,
     "user": {
      "displayName": "Radim Jedlička",
      "userId": "11502208915568361358"
     },
     "user_tz": -120
    },
    "id": "QYbEAqQUEnK2",
    "outputId": "aef71885-d8a7-417c-b39a-34a53cfbcbef"
   },
   "outputs": [
    {
     "data": {
      "text/plain": [
       "True"
      ]
     },
     "execution_count": 21,
     "metadata": {},
     "output_type": "execute_result"
    }
   ],
   "source": [
    "existujici_json.closed"
   ]
  },
  {
   "cell_type": "code",
   "execution_count": 22,
   "metadata": {
    "colab": {
     "base_uri": "https://localhost:8080/"
    },
    "executionInfo": {
     "elapsed": 248,
     "status": "ok",
     "timestamp": 1683662218268,
     "user": {
      "displayName": "Radim Jedlička",
      "userId": "11502208915568361358"
     },
     "user_tz": -120
    },
    "id": "kIN-7eUAEnK2",
    "outputId": "87c81115-43b8-4ecc-a86d-62ba358a040f"
   },
   "outputs": [
    {
     "name": "stdout",
     "output_type": "stream",
     "text": [
      "<class 'dict'>\n"
     ]
    }
   ],
   "source": [
    "print(type(obsah_json))"
   ]
  },
  {
   "cell_type": "code",
   "execution_count": 23,
   "metadata": {
    "colab": {
     "base_uri": "https://localhost:8080/"
    },
    "executionInfo": {
     "elapsed": 300,
     "status": "ok",
     "timestamp": 1683662221978,
     "user": {
      "displayName": "Radim Jedlička",
      "userId": "11502208915568361358"
     },
     "user_tz": -120
    },
    "id": "CZgOxoqgEnK2",
    "outputId": "9fdfe981-2001-4189-fe14-09f13fbca0db"
   },
   "outputs": [
    {
     "name": "stdout",
     "output_type": "stream",
     "text": [
      "{'jmeno': 'Chuck Norris', 'neuspech': None, 'kliky': 'vsechny', 'konkurence': False, 'doplneni': 'Łukasz'}\n"
     ]
    }
   ],
   "source": [
    "print(obsah_json)"
   ]
  },
  {
   "cell_type": "markdown",
   "metadata": {
    "id": "Eek72VfxEnK3"
   },
   "source": [
    "##### Doplňující argumenty:\n",
    "1. `indent=4` - odsadí zapsaný `json` o 4 mezery\n",
    "2. `sort_keys` - seřadí klíče (`True`/`False`)\n",
    "3. `ensure_ascii` - `False` zapíše původní znak, `True` zapíše reprezentaci znaku pomocí lomítek."
   ]
  },
  {
   "cell_type": "code",
   "execution_count": 24,
   "metadata": {
    "executionInfo": {
     "elapsed": 247,
     "status": "ok",
     "timestamp": 1683662246839,
     "user": {
      "displayName": "Radim Jedlička",
      "userId": "11502208915568361358"
     },
     "user_tz": -120
    },
    "id": "zGSTegspEnK3"
   },
   "outputs": [],
   "source": [
    "json_str = json.dumps(\n",
    "    chuckuv_slovnik,\n",
    "    ensure_ascii=False,\n",
    "    indent=4,\n",
    "    sort_keys=True\n",
    ")"
   ]
  },
  {
   "cell_type": "code",
   "execution_count": 25,
   "metadata": {
    "colab": {
     "base_uri": "https://localhost:8080/"
    },
    "executionInfo": {
     "elapsed": 273,
     "status": "ok",
     "timestamp": 1683662255530,
     "user": {
      "displayName": "Radim Jedlička",
      "userId": "11502208915568361358"
     },
     "user_tz": -120
    },
    "id": "_zXfLtV5EnK3",
    "outputId": "a50d6a50-57c6-4b04-8bb9-0b07fa4334f4"
   },
   "outputs": [
    {
     "name": "stdout",
     "output_type": "stream",
     "text": [
      "{\n",
      "    \"doplneni\": \"Łukasz\",\n",
      "    \"jmeno\": \"Chuck Norris\",\n",
      "    \"kliky\": \"vsechny\",\n",
      "    \"konkurence\": false,\n",
      "    \"neuspech\": null\n",
      "}\n"
     ]
    }
   ],
   "source": [
    "print(json_str)"
   ]
  },
  {
   "cell_type": "code",
   "execution_count": 26,
   "metadata": {
    "colab": {
     "base_uri": "https://localhost:8080/"
    },
    "executionInfo": {
     "elapsed": 230,
     "status": "ok",
     "timestamp": 1683662262717,
     "user": {
      "displayName": "Radim Jedlička",
      "userId": "11502208915568361358"
     },
     "user_tz": -120
    },
    "id": "RX1hXrgMEnK3",
    "outputId": "4d7d599d-0508-4ce2-9c46-2431686ccfbb"
   },
   "outputs": [
    {
     "name": "stdout",
     "output_type": "stream",
     "text": [
      "<class 'str'>\n"
     ]
    }
   ],
   "source": [
    "print(type(json_str))"
   ]
  },
  {
   "cell_type": "markdown",
   "metadata": {
    "id": "bmuWD1OwEnK3"
   },
   "source": [
    "<br>\n",
    "\n",
    "### **Zápis s kontextovým manažerem**\n",
    "\n",
    "Nejenom *textové soubory*, ale i JSON můžeš zapsat pomocí **kontextového manažeru** a klíčového slova `with`:"
   ]
  },
  {
   "cell_type": "code",
   "execution_count": 27,
   "metadata": {
    "executionInfo": {
     "elapsed": 259,
     "status": "ok",
     "timestamp": 1683662266813,
     "user": {
      "displayName": "Radim Jedlička",
      "userId": "11502208915568361358"
     },
     "user_tz": -120
    },
    "id": "7ac0z9-nEnK4"
   },
   "outputs": [],
   "source": [
    "chuckuv_slovnik = {\n",
    "    \"jmeno\": \"Chuck Norris\",\n",
    "    \"neuspech\": None,\n",
    "    \"kliky\": \"vsechny\",\n",
    "    \"konkurence\": False,\n",
    "    \"fanousek\": \"Łukasz\"\n",
    "}"
   ]
  },
  {
   "cell_type": "code",
   "execution_count": 28,
   "metadata": {
    "executionInfo": {
     "elapsed": 268,
     "status": "ok",
     "timestamp": 1683662290576,
     "user": {
      "displayName": "Radim Jedlička",
      "userId": "11502208915568361358"
     },
     "user_tz": -120
    },
    "id": "qqBLTWzEEnK4"
   },
   "outputs": [],
   "source": [
    "with open(\"druhy_JSON.json\", mode=\"w\", encoding='UTF-8') as json_soubor:\n",
    "    json.dump(\n",
    "        chuckuv_slovnik,\n",
    "        json_soubor,\n",
    "        ensure_ascii=False,\n",
    "        indent=4,\n",
    "        sort_keys=True\n",
    "    )"
   ]
  },
  {
   "cell_type": "code",
   "execution_count": 29,
   "metadata": {
    "colab": {
     "base_uri": "https://localhost:8080/"
    },
    "executionInfo": {
     "elapsed": 263,
     "status": "ok",
     "timestamp": 1683662299499,
     "user": {
      "displayName": "Radim Jedlička",
      "userId": "11502208915568361358"
     },
     "user_tz": -120
    },
    "id": "uOBsIycFEnK4",
    "outputId": "40f8a4e5-4cba-4b88-8ef5-606196e68cd6"
   },
   "outputs": [
    {
     "data": {
      "text/plain": [
       "True"
      ]
     },
     "execution_count": 29,
     "metadata": {},
     "output_type": "execute_result"
    }
   ],
   "source": [
    "json_soubor.closed"
   ]
  }
 ],
 "metadata": {
  "colab": {
   "authorship_tag": "ABX9TyP0JJ5C4ZHvxmY2/k0wsewm",
   "provenance": []
  },
  "kernelspec": {
   "display_name": "Python 3 (ipykernel)",
   "language": "python",
   "name": "python3"
  },
  "language_info": {
   "codemirror_mode": {
    "name": "ipython",
    "version": 3
   },
   "file_extension": ".py",
   "mimetype": "text/x-python",
   "name": "python",
   "nbconvert_exporter": "python",
   "pygments_lexer": "ipython3",
   "version": "3.10.0"
  }
 },
 "nbformat": 4,
 "nbformat_minor": 1
}
