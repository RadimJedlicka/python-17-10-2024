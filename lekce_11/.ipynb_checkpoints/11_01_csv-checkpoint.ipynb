{
 "cells": [
  {
   "cell_type": "markdown",
   "metadata": {
    "id": "cI9q_Ia1erws"
   },
   "source": [
    "<h6 align=right> 🐍 Python akademie - lekce 11 - 09.01.2025</h6>"
   ]
  },
  {
   "cell_type": "markdown",
   "metadata": {
    "id": "4F5V-yFjeuKG"
   },
   "source": [
    "<br>\n",
    "\n",
    "# <h1 align=center><font color=black size=24><b> 11_01: Úvod do .csv</font></h1>\n",
    "\n",
    "<br>\n"
   ]
  },
  {
   "cell_type": "markdown",
   "metadata": {
    "id": "j100cigFfg43"
   },
   "source": [
    "<br>\n",
    "\n",
    "---\n",
    "\n",
    "### **Zajímavé odkazy z této lekce:**\n",
    "\n",
    "\n",
    "* [Oficiální dokumentace na python.org](https://docs.python.org/3/library/csv.html)\n",
    "* [Real Python](https://realpython.com/python-csv/)\n",
    "\n",
    "---\n",
    "\n",
    "<br>"
   ]
  },
  {
   "cell_type": "markdown",
   "metadata": {
    "id": "_QZR3N-5EnKh"
   },
   "source": [
    "<br>\n",
    "\n",
    "## **Úvod do souborů**\n",
    "\n",
    "---"
   ]
  },
  {
   "cell_type": "markdown",
   "metadata": {
    "id": "vij1S8ZtEnKh"
   },
   "source": [
    "Pracovat **s textovými soubory** je velkou výhodou. Obzvláště, pokud potřebuješ **uchovat data**.\n",
    "\n",
    "Občas ale není na škodu ovládat také mírně složitější formáty.\n",
    "\n",
    "Ty ti totiž umožní vytvořit **přehlednější struktury** souborů.\n",
    "\n",
    "Pokud potřebuješ:\n",
    "* **mapovat atributy** na jejich hodnoty,\n",
    "* evidovat **záznamy v tabulce**.\n",
    "\n",
    "Práce s těmito typy souborů **je podobná práci** s textovými soubory.\n",
    "\n",
    "Navíc ovšem existují nějaká **pravidla** (předpisy), která tyto soubory dělají tím, čím jsou.\n",
    "\n",
    "Další změnou bude práce **za pomocí příslušných knihoven**, které ti umožní takové objekty chystat.\n",
    "\n"
   ]
  },
  {
   "cell_type": "markdown",
   "metadata": {
    "id": "EiWaiBRQEnKi"
   },
   "source": [
    "<br>\n",
    "\n",
    "## **File Input/Output (~vstupní soubor, výstupní soubor)**\n",
    "\n",
    "Opět bude potřeba vytvořit soubor (což je v podstatě jen *sekvence bajtů*) a schovat je za **jméno souboru**.\n",
    "\n",
    "Dále potom připravit objekt v Pythonu, který bude reprezentovat most mezi daty a souborem na disku."
   ]
  },
  {
   "cell_type": "markdown",
   "metadata": {
    "id": "V5WwyRxsEnKi"
   },
   "source": [
    "<br>\n",
    "\n",
    "<img src=\"https://external-content.duckduckgo.com/iu/?u=https%3A%2F%2Ftse2.mm.bing.net%2Fth%3Fid%3DOIP.3vUw9kaVMOQPBQOvNZ9OkgHaHa%26pid%3DApi&f=1&ipt=5d535e2a1b28bb87b209c1395babc2cf0a51f8fafe7e55085f8b7643f2e8c554&ipo=images\" width=\"200\">\n",
    "\n",
    "## **Soubory CSV**\n",
    "\n",
    "---"
   ]
  },
  {
   "cell_type": "markdown",
   "metadata": {
    "id": "ZpasoNNdEnKj"
   },
   "source": [
    "**CSV soubor** (*Comma Separated Values*) ukládá *tabulková data*, podobně jako například soubory **.xlsx** (*MS Excel* nebo *LibreOffice*), které pravděpodobně znáš."
   ]
  },
  {
   "cell_type": "markdown",
   "metadata": {
    "id": "Cm47oWMMO7QS"
   },
   "source": [
    "![image.png](data:image/png;base64,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)"
   ]
  },
  {
   "cell_type": "markdown",
   "metadata": {
    "id": "w5jNeFVoEnKk"
   },
   "source": [
    "Rozdíl spočívá v tom, že soubor **CSV** je ukládá v **textové podobě**.\n",
    "\n",
    "<br>\n",
    "\n",
    "**CSV soubor** je tedy mnohem univerzálnější, můžeš ho normálně otevřít prakticky ve všech tabulkových procesorech:\n",
    "* *MS Excel*,\n",
    "* *LibreOffice Calc*,\n",
    "* v textových editorech jako je *Notepad* nebo *Poznámkový blok*,\n",
    "* a navíc se s ním dobře pracuje v Pythonu."
   ]
  },
  {
   "cell_type": "markdown",
   "metadata": {
    "id": "kZRseYLoEnKk"
   },
   "source": [
    "<br>\n",
    "\n",
    "### **Struktura**"
   ]
  },
  {
   "cell_type": "markdown",
   "metadata": {
    "id": "P_yUtHGTEnKk"
   },
   "source": [
    "Přesto, že v různých softwarových řešeních najdeš data úhledně graficky naformátovaná do:\n",
    "1.  **řádků** *(na obrázku 1, 2, 3)*,\n",
    "2.  **a sloupců** *(na obrázku A, B, C, D)*."
   ]
  },
  {
   "cell_type": "markdown",
   "metadata": {
    "id": "QkQEC5sPEnKl"
   },
   "source": [
    ".., reprezentované hodnoty **v jednoduchém editoru** vypadají jinak:\n",
    "\n",
    "```\n",
    "jmeno,prijmeni,email,telefon\n",
    "Radim,Jedlicka,radim@gmail.com,987654321\n",
    "Jaroslav,Tylich,jarda@engeto.cz,321654987\n",
    "```"
   ]
  },
  {
   "cell_type": "markdown",
   "metadata": {
    "id": "us5IIHCbEnKl"
   },
   "source": [
    "Aby měl takový **CSV** konzistentní vzhled a formát, potřebuje zadaná pravidla, tedy **dialekt**.\n"
   ]
  },
  {
   "cell_type": "markdown",
   "metadata": {
    "id": "4iziNg4JK--w"
   },
   "source": [
    "<br>\n",
    "\n",
    "### **Dialekt CSV souborů**\n",
    "\n",
    "Dialektem rozuměj nějaká **formátovací pravidla**, podle kterých je tvůj **CSV** soubor zadaný.\n",
    "\n",
    "**Dialekt** udává jakými znaky jsou:\n",
    "1. oddělované **jednotlivé buňky** (na obrázku výše čárka `,`),\n",
    "2. oddělované **řádky** (na obrázku není vybraný žádný symbol).\n",
    "\n",
    "Další možnosti **upřesnění dialektu** jako výběr *escape znaků*, použití uvozovek, aj. můžeš najít <a href=\"https://docs.python.org/3/library/csv.html#dialects-and-formatting-parameters\" target=\"_blank\">zde</a>."
   ]
  },
  {
   "cell_type": "markdown",
   "metadata": {
    "id": "Kb8neiR7EnKl"
   },
   "source": [
    "Ať už konkrétně typ souboru **.csv** nebo jeho příbuzní **.xls** nebo **.xlsx** aj., pracuje tento typ souboru výborně pro ukládání jednotlivých záznámů řádek po řádku.\n",
    "\n",
    "<br>"
   ]
  },
  {
   "cell_type": "markdown",
   "metadata": {
    "id": "BkJhMBtwEnKl"
   },
   "source": [
    "Protože se u **CSV souborů** nejedná o nativní formát Pythonu, jako takový jej nemůžeš v Pythonu napsat.\n",
    "\n",
    "Platí, že pokud budeš chtít pracovat **s CSV soubory** v Pythonu, musíš *nahrát* k tomu určenou **built-in knihovnu**:"
   ]
  },
  {
   "cell_type": "code",
   "execution_count": 2,
   "metadata": {
    "executionInfo": {
     "elapsed": 254,
     "status": "ok",
     "timestamp": 1683657842709,
     "user": {
      "displayName": "Radim Jedlička",
      "userId": "11502208915568361358"
     },
     "user_tz": -120
    },
    "id": "sJtWPn3YEnKl"
   },
   "outputs": [],
   "source": [
    "import csv"
   ]
  },
  {
   "cell_type": "code",
   "execution_count": null,
   "metadata": {
    "id": "UpNsLxFbEnKm"
   },
   "outputs": [],
   "source": [
    "help(csv)"
   ]
  },
  {
   "cell_type": "code",
   "execution_count": null,
   "metadata": {
    "id": "JzOHNm6_EnKn"
   },
   "outputs": [],
   "source": [
    "dir(csv)"
   ]
  },
  {
   "cell_type": "markdown",
   "metadata": {
    "id": "3gThHU0xEnKn"
   },
   "source": [
    "### **Vyzkoušej si následující**\n",
    "\n",
    "---\n",
    "\n",
    "| jméno objektu | účel metody |\n",
    "| :-| :- |\n",
    "| `csv.reader(m)` | funkce vrátí iterovatelný objekt (co cyklus, to řádek) |\n",
    "| `csv.writer(m)` | funkce zapíše objekt do souboru (+ `writerows`)|\n",
    "| `csv.DictWriter(m)` | třída pro zápis slovníku do souboru |\n",
    "| `csv.DictReader(m)` | třída pro čtení souboru do slovníku |\n",
    "\n",
    "<br>\n",
    "\n",
    "\n",
    "*pozn* `m` je objekt (proměnná)\n",
    "\n",
    "<br>\n",
    "\n",
    "Základní dva procesy (obdobně jako pro textové soubory), které budeš provádět jsou:\n",
    "1. __čtení__ souboru `csv`\n",
    "2. __zápis__ do souboru `csv`\n",
    "\n",
    "<br>"
   ]
  },
  {
   "cell_type": "markdown",
   "metadata": {
    "id": "BdRB33oPUU2B"
   },
   "source": [
    "<br>\n",
    "\n",
    "### **Vytvoříš soubor s příponou `.csv`**"
   ]
  },
  {
   "cell_type": "markdown",
   "metadata": {
    "id": "DUc7j_o2EnKn"
   },
   "source": [
    "Nejprve nahraj potřebnou knihovnu:"
   ]
  },
  {
   "cell_type": "code",
   "execution_count": 5,
   "metadata": {
    "executionInfo": {
     "elapsed": 300,
     "status": "ok",
     "timestamp": 1683658004125,
     "user": {
      "displayName": "Radim Jedlička",
      "userId": "11502208915568361358"
     },
     "user_tz": -120
    },
    "id": "EXpvhnxkEnKo"
   },
   "outputs": [],
   "source": [
    "import csv"
   ]
  },
  {
   "cell_type": "markdown",
   "metadata": {
    "id": "KivDORbkEnKo"
   },
   "source": [
    "Vytvoř údaje, ze kterých soubor založíš.\n",
    "\n",
    "Tedy *záhlaví* a dva řádky *záznamů* v tabulce."
   ]
  },
  {
   "cell_type": "markdown",
   "metadata": {
    "id": "iEp2iNt4Z7xk"
   },
   "source": [
    "```\n",
    "jmeno,prijmeni,email,telefon\n",
    "Radim,Jedlicka,radim@gmail.com,987654321\n",
    "Jaroslav,Tylich,jarda@engeto.cz,321654987\n",
    "```"
   ]
  },
  {
   "cell_type": "code",
   "execution_count": 6,
   "metadata": {
    "executionInfo": {
     "elapsed": 289,
     "status": "ok",
     "timestamp": 1683658017886,
     "user": {
      "displayName": "Radim Jedlička",
      "userId": "11502208915568361358"
     },
     "user_tz": -120
    },
    "id": "4JzgZUetEnKo"
   },
   "outputs": [],
   "source": [
    "hlavicka = [\"jmeno\", \"prijmeni\", \"email\",\"telefon\"]\n",
    "osoba_1 = [\"Radim\", \"Jedlicka\", \"radim@gmail.com\",\"987654321\"]\n",
    "osoba_2 = [\"Jaroslav\", \"Tylich\", \"jarda@engeto.cz\",\"321654987\"]"
   ]
  },
  {
   "cell_type": "markdown",
   "metadata": {
    "id": "_bL9pXplEnKo"
   },
   "source": [
    "Při tvorbě objektu je nutné zadat znak, který se bude objevovat **na konci řádků**:"
   ]
  },
  {
   "cell_type": "code",
   "execution_count": 7,
   "metadata": {
    "executionInfo": {
     "elapsed": 249,
     "status": "ok",
     "timestamp": 1683658053346,
     "user": {
      "displayName": "Radim Jedlička",
      "userId": "11502208915568361358"
     },
     "user_tz": -120
    },
    "id": "DgJU2FY4EnKo"
   },
   "outputs": [],
   "source": [
    "csv_soubor = open(\n",
    "    \"engeto_lide_python.csv\",\n",
    "    mode=\"w\",\n",
    "    encoding=\"UTF-8\",\n",
    "    newline=\"\"  # None\n",
    ")"
   ]
  },
  {
   "cell_type": "code",
   "execution_count": 8,
   "metadata": {
    "colab": {
     "base_uri": "https://localhost:8080/"
    },
    "executionInfo": {
     "elapsed": 352,
     "status": "ok",
     "timestamp": 1683658057693,
     "user": {
      "displayName": "Radim Jedlička",
      "userId": "11502208915568361358"
     },
     "user_tz": -120
    },
    "id": "-4OYUrKzEnKo",
    "outputId": "1904db84-47c9-4d2e-b474-a59aef366335"
   },
   "outputs": [
    {
     "name": "stdout",
     "output_type": "stream",
     "text": [
      "<_io.TextIOWrapper name='engeto_lide_python.csv' mode='w' encoding='UTF-8'>\n"
     ]
    }
   ],
   "source": [
    "print(csv_soubor)"
   ]
  },
  {
   "cell_type": "markdown",
   "metadata": {
    "id": "CSOohy3WEnKp"
   },
   "source": [
    "Jakmile vytvoříš **spojovací objekt**, můžeš definovat, co do něj zapíšeš.\n",
    "\n",
    "U knihovny `csv` se využívá tzv. *zapisovací* (*writer*) funkce.\n",
    "\n",
    "Ten je zase specifický tím, že zadáš oddělovač, který oddělí **jednotlivé buňky** v tabulce:"
   ]
  },
  {
   "cell_type": "code",
   "execution_count": 9,
   "metadata": {
    "executionInfo": {
     "elapsed": 250,
     "status": "ok",
     "timestamp": 1683658140734,
     "user": {
      "displayName": "Radim Jedlička",
      "userId": "11502208915568361358"
     },
     "user_tz": -120
    },
    "id": "TCYqFZ3UEnKp"
   },
   "outputs": [],
   "source": [
    "zapisovac = csv.writer(csv_soubor, delimiter=\",\")"
   ]
  },
  {
   "cell_type": "code",
   "execution_count": 10,
   "metadata": {
    "colab": {
     "base_uri": "https://localhost:8080/"
    },
    "executionInfo": {
     "elapsed": 436,
     "status": "ok",
     "timestamp": 1683658152140,
     "user": {
      "displayName": "Radim Jedlička",
      "userId": "11502208915568361358"
     },
     "user_tz": -120
    },
    "id": "xpjK9A_OEnKp",
    "outputId": "19ed6623-0351-435c-ab2f-627db636df9f"
   },
   "outputs": [
    {
     "data": {
      "text/plain": [
       "43"
      ]
     },
     "execution_count": 10,
     "metadata": {},
     "output_type": "execute_result"
    }
   ],
   "source": [
    "zapisovac.writerow(hlavicka)\n",
    "zapisovac.writerow(osoba_1)\n",
    "zapisovac.writerow(osoba_2)  # writerows(iterable)"
   ]
  },
  {
   "cell_type": "code",
   "execution_count": 11,
   "metadata": {
    "executionInfo": {
     "elapsed": 459,
     "status": "ok",
     "timestamp": 1683658164317,
     "user": {
      "displayName": "Radim Jedlička",
      "userId": "11502208915568361358"
     },
     "user_tz": -120
    },
    "id": "CPgePao_EnKp"
   },
   "outputs": [],
   "source": [
    "zapisovac.writerows((hlavicka, osoba_1, osoba_2))"
   ]
  },
  {
   "cell_type": "markdown",
   "metadata": {
    "id": "atQYn1QcEnKp"
   },
   "source": [
    "Po zaznamenání údajů a na konci workflow nezapomeň objekt načtený *interpretem* **ukončit**."
   ]
  },
  {
   "cell_type": "code",
   "execution_count": 12,
   "metadata": {
    "executionInfo": {
     "elapsed": 278,
     "status": "ok",
     "timestamp": 1683658175467,
     "user": {
      "displayName": "Radim Jedlička",
      "userId": "11502208915568361358"
     },
     "user_tz": -120
    },
    "id": "RZv8RrJ-EnKq"
   },
   "outputs": [],
   "source": [
    "csv_soubor.close()"
   ]
  },
  {
   "cell_type": "markdown",
   "metadata": {
    "id": "5jeoPESIEnKq"
   },
   "source": [
    "Pokud si nebudeš jistý, jestli je *stream* zavřený, vyzkoušej metodu `closed`.\n",
    "\n",
    "Ta vrací `True`, pokud je *spojení* opravdu **ukončené**:"
   ]
  },
  {
   "cell_type": "code",
   "execution_count": 13,
   "metadata": {
    "colab": {
     "base_uri": "https://localhost:8080/"
    },
    "executionInfo": {
     "elapsed": 242,
     "status": "ok",
     "timestamp": 1683658190822,
     "user": {
      "displayName": "Radim Jedlička",
      "userId": "11502208915568361358"
     },
     "user_tz": -120
    },
    "id": "b0ECMdWCEnKq",
    "outputId": "91f0e5f4-b40d-47be-bdaa-a923ec04b692"
   },
   "outputs": [
    {
     "data": {
      "text/plain": [
       "True"
      ]
     },
     "execution_count": 13,
     "metadata": {},
     "output_type": "execute_result"
    }
   ],
   "source": [
    "csv_soubor.closed"
   ]
  },
  {
   "cell_type": "markdown",
   "metadata": {
    "id": "jqzb2iU9alJ6"
   },
   "source": [
    "<br>\n",
    "\n",
    "### **DictWriter**"
   ]
  },
  {
   "cell_type": "markdown",
   "metadata": {
    "id": "FYDZe_htEnKq"
   },
   "source": [
    "Objekty v Pythonu, použité před chvílí, byly **sekvenčního typu**.\n",
    "\n",
    "Pokud ovšem dostaneš mapovaný objekt, můžeš vyzkoušet další typ zapisovače, `DictWriter`:"
   ]
  },
  {
   "cell_type": "code",
   "execution_count": 14,
   "metadata": {
    "executionInfo": {
     "elapsed": 266,
     "status": "ok",
     "timestamp": 1683658247801,
     "user": {
      "displayName": "Radim Jedlička",
      "userId": "11502208915568361358"
     },
     "user_tz": -120
    },
    "id": "xqEt8WhgEnKq"
   },
   "outputs": [],
   "source": [
    "osoba_1 = {\"jmeno\": \"Matous\", \"prijmeni\": \"Pokoj\", \"vek\": \"28\"}\n",
    "osoba_2 = {\"jmeno\": \"Petr\", \"prijmeni\": \"Svetr\", \"vek\": \"27\"}"
   ]
  },
  {
   "cell_type": "markdown",
   "metadata": {
    "id": "ejtzmTXoEnKq"
   },
   "source": [
    "Pokud argument `newline` nepotřebuješ, můžeš pracovat s jeho defaultní hodnotou `None`:"
   ]
  },
  {
   "cell_type": "code",
   "execution_count": 15,
   "metadata": {
    "executionInfo": {
     "elapsed": 258,
     "status": "ok",
     "timestamp": 1683658291889,
     "user": {
      "displayName": "Radim Jedlička",
      "userId": "11502208915568361358"
     },
     "user_tz": -120
    },
    "id": "U0v2ck4nEnKq"
   },
   "outputs": [],
   "source": [
    "dalsi_csv = open(\n",
    "    \"engeto_lide_linux.csv\",\n",
    "    mode=\"w\",\n",
    "    encoding=\"utf-8\",\n",
    "    newline=\"\"\n",
    ")"
   ]
  },
  {
   "cell_type": "markdown",
   "metadata": {
    "id": "hU0bkqVZEnKr"
   },
   "source": [
    "Objektu zapisovače opět předáš přichystaný proměnnou `dalsi_csv` a **jména sloupečků** (záhlaví):"
   ]
  },
  {
   "cell_type": "code",
   "execution_count": 16,
   "metadata": {
    "executionInfo": {
     "elapsed": 381,
     "status": "ok",
     "timestamp": 1683658312660,
     "user": {
      "displayName": "Radim Jedlička",
      "userId": "11502208915568361358"
     },
     "user_tz": -120
    },
    "id": "1dhw9TdcEnKr"
   },
   "outputs": [],
   "source": [
    "zapisovac = csv.DictWriter(dalsi_csv, fieldnames=osoba_1.keys())"
   ]
  },
  {
   "cell_type": "markdown",
   "metadata": {
    "id": "IaVhYtI1EnKr"
   },
   "source": [
    "Můžeš záznamy zapsat **postupně**:"
   ]
  },
  {
   "cell_type": "code",
   "execution_count": 17,
   "metadata": {
    "colab": {
     "base_uri": "https://localhost:8080/"
    },
    "executionInfo": {
     "elapsed": 281,
     "status": "ok",
     "timestamp": 1683658328275,
     "user": {
      "displayName": "Radim Jedlička",
      "userId": "11502208915568361358"
     },
     "user_tz": -120
    },
    "id": "N_4-ikgCEnKr",
    "outputId": "e2db4999-b1c3-41a1-8d74-98ff41068103"
   },
   "outputs": [
    {
     "data": {
      "text/plain": [
       "20"
      ]
     },
     "execution_count": 17,
     "metadata": {},
     "output_type": "execute_result"
    }
   ],
   "source": [
    "zapisovac.writeheader()"
   ]
  },
  {
   "cell_type": "code",
   "execution_count": 18,
   "metadata": {
    "colab": {
     "base_uri": "https://localhost:8080/"
    },
    "executionInfo": {
     "elapsed": 289,
     "status": "ok",
     "timestamp": 1683658334232,
     "user": {
      "displayName": "Radim Jedlička",
      "userId": "11502208915568361358"
     },
     "user_tz": -120
    },
    "id": "imPL_NgHEnKr",
    "outputId": "01859c89-618c-4594-862f-9ee80b72317d"
   },
   "outputs": [
    {
     "data": {
      "text/plain": [
       "15"
      ]
     },
     "execution_count": 18,
     "metadata": {},
     "output_type": "execute_result"
    }
   ],
   "source": [
    "zapisovac.writerow(osoba_1)\n",
    "zapisovac.writerow(osoba_2)"
   ]
  },
  {
   "cell_type": "markdown",
   "metadata": {
    "id": "jANKyaX2EnKr"
   },
   "source": [
    "eventuálně zapsat také **hromadně**:"
   ]
  },
  {
   "cell_type": "code",
   "execution_count": 19,
   "metadata": {
    "executionInfo": {
     "elapsed": 330,
     "status": "ok",
     "timestamp": 1683658340105,
     "user": {
      "displayName": "Radim Jedlička",
      "userId": "11502208915568361358"
     },
     "user_tz": -120
    },
    "id": "8tIgTsN-EnKr"
   },
   "outputs": [],
   "source": [
    "zapisovac.writerows((osoba_1, osoba_2))"
   ]
  },
  {
   "cell_type": "markdown",
   "metadata": {
    "id": "O5vd9-jNEnKs"
   },
   "source": [
    "a nakonec *stream* zase důsledně uzavřít:"
   ]
  },
  {
   "cell_type": "code",
   "execution_count": 20,
   "metadata": {
    "executionInfo": {
     "elapsed": 239,
     "status": "ok",
     "timestamp": 1683658353922,
     "user": {
      "displayName": "Radim Jedlička",
      "userId": "11502208915568361358"
     },
     "user_tz": -120
    },
    "id": "9UUK8oPfEnKs"
   },
   "outputs": [],
   "source": [
    "dalsi_csv.close()"
   ]
  },
  {
   "cell_type": "code",
   "execution_count": 21,
   "metadata": {
    "colab": {
     "base_uri": "https://localhost:8080/"
    },
    "executionInfo": {
     "elapsed": 304,
     "status": "ok",
     "timestamp": 1683658355548,
     "user": {
      "displayName": "Radim Jedlička",
      "userId": "11502208915568361358"
     },
     "user_tz": -120
    },
    "id": "ZcDF1PMiEnKs",
    "outputId": "171283b1-ed80-4d79-af59-317cdb34fe10"
   },
   "outputs": [
    {
     "data": {
      "text/plain": [
       "True"
      ]
     },
     "execution_count": 21,
     "metadata": {},
     "output_type": "execute_result"
    }
   ],
   "source": [
    "dalsi_csv.closed"
   ]
  },
  {
   "cell_type": "markdown",
   "metadata": {
    "id": "Yw50elgxEnKs"
   },
   "source": [
    "<br>\n",
    "\n",
    "### **Přečti obsah souboru `.csv`**"
   ]
  },
  {
   "cell_type": "code",
   "execution_count": 30,
   "metadata": {
    "executionInfo": {
     "elapsed": 274,
     "status": "ok",
     "timestamp": 1683658421420,
     "user": {
      "displayName": "Radim Jedlička",
      "userId": "11502208915568361358"
     },
     "user_tz": -120
    },
    "id": "xApj_PFbEnKs"
   },
   "outputs": [],
   "source": [
    "obsah_csv = open(\n",
    "    \"engeto_lide_linux.csv\",\n",
    "    encoding=\"utf-8\",\n",
    "    mode=\"r\"  # Default\n",
    ")"
   ]
  },
  {
   "cell_type": "code",
   "execution_count": 31,
   "metadata": {
    "executionInfo": {
     "elapsed": 260,
     "status": "ok",
     "timestamp": 1683658423999,
     "user": {
      "displayName": "Radim Jedlička",
      "userId": "11502208915568361358"
     },
     "user_tz": -120
    },
    "id": "JSOCxDXCEnKs"
   },
   "outputs": [],
   "source": [
    "cteni = csv.reader(obsah_csv)"
   ]
  },
  {
   "cell_type": "markdown",
   "metadata": {
    "id": "5DC7rjLcEnKs"
   },
   "source": [
    "Obsah souboru je možné vrátit **jako sekvenci**:"
   ]
  },
  {
   "cell_type": "code",
   "execution_count": 24,
   "metadata": {
    "colab": {
     "base_uri": "https://localhost:8080/"
    },
    "executionInfo": {
     "elapsed": 268,
     "status": "ok",
     "timestamp": 1683658379715,
     "user": {
      "displayName": "Radim Jedlička",
      "userId": "11502208915568361358"
     },
     "user_tz": -120
    },
    "id": "W9W_4RXUEnKt",
    "outputId": "937ed277-5c00-42ca-8569-2848e5791584"
   },
   "outputs": [
    {
     "data": {
      "text/plain": [
       "(['jmeno', 'prijmeni', 'vek'],\n",
       " ['Matous', 'Pokoj', '28'],\n",
       " ['Petr', 'Svetr', '27'],\n",
       " ['Matous', 'Pokoj', '28'],\n",
       " ['Petr', 'Svetr', '27'])"
      ]
     },
     "execution_count": 24,
     "metadata": {},
     "output_type": "execute_result"
    }
   ],
   "source": [
    "tuple(cteni)"
   ]
  },
  {
   "cell_type": "markdown",
   "metadata": {
    "id": "P8QTnczHEnKt"
   },
   "source": [
    "Případně pro další processing **procházet smyčkou**:"
   ]
  },
  {
   "cell_type": "code",
   "execution_count": 32,
   "metadata": {
    "colab": {
     "base_uri": "https://localhost:8080/"
    },
    "executionInfo": {
     "elapsed": 399,
     "status": "ok",
     "timestamp": 1683658426396,
     "user": {
      "displayName": "Radim Jedlička",
      "userId": "11502208915568361358"
     },
     "user_tz": -120
    },
    "id": "SLZFXryDEnKt",
    "outputId": "098a0276-c7b4-4a4d-b29f-3b981cbea35d"
   },
   "outputs": [
    {
     "name": "stdout",
     "output_type": "stream",
     "text": [
      "['jmeno', 'prijmeni', 'vek']\n",
      "['Matous', 'Pokoj', '28']\n",
      "['Petr', 'Svetr', '27']\n",
      "['Matous', 'Pokoj', '28']\n",
      "['Petr', 'Svetr', '27']\n"
     ]
    }
   ],
   "source": [
    "for radek in cteni:\n",
    "    print(radek)"
   ]
  },
  {
   "cell_type": "code",
   "execution_count": 33,
   "metadata": {
    "executionInfo": {
     "elapsed": 282,
     "status": "ok",
     "timestamp": 1683658430345,
     "user": {
      "displayName": "Radim Jedlička",
      "userId": "11502208915568361358"
     },
     "user_tz": -120
    },
    "id": "Ke4ze7ZNEnKt"
   },
   "outputs": [],
   "source": [
    "obsah_csv.close()"
   ]
  },
  {
   "cell_type": "markdown",
   "metadata": {
    "id": "9IqE-tgEeBhD"
   },
   "source": [
    "<br>\n",
    "\n",
    "### **DictReader**"
   ]
  },
  {
   "cell_type": "markdown",
   "metadata": {
    "id": "Z5qDL35gEnKt"
   },
   "source": [
    "Analogicky je možnost data obsažená v *CSV* souboru reprezentovat s *interpretem* jako `dict`:"
   ]
  },
  {
   "cell_type": "code",
   "execution_count": 34,
   "metadata": {
    "executionInfo": {
     "elapsed": 242,
     "status": "ok",
     "timestamp": 1683658443824,
     "user": {
      "displayName": "Radim Jedlička",
      "userId": "11502208915568361358"
     },
     "user_tz": -120
    },
    "id": "fvR7cADyEnKt"
   },
   "outputs": [],
   "source": [
    "moje_csv = open(\n",
    "    \"engeto_lide_linux.csv\",\n",
    "    mode=\"r\",\n",
    "    encoding=\"utf-8\"\n",
    ")"
   ]
  },
  {
   "cell_type": "code",
   "execution_count": 35,
   "metadata": {
    "executionInfo": {
     "elapsed": 245,
     "status": "ok",
     "timestamp": 1683658446265,
     "user": {
      "displayName": "Radim Jedlička",
      "userId": "11502208915568361358"
     },
     "user_tz": -120
    },
    "id": "qp7b6psEEnKu"
   },
   "outputs": [],
   "source": [
    "obsah = csv.DictReader(moje_csv)"
   ]
  },
  {
   "cell_type": "code",
   "execution_count": 36,
   "metadata": {
    "colab": {
     "base_uri": "https://localhost:8080/"
    },
    "executionInfo": {
     "elapsed": 267,
     "status": "ok",
     "timestamp": 1683658451645,
     "user": {
      "displayName": "Radim Jedlička",
      "userId": "11502208915568361358"
     },
     "user_tz": -120
    },
    "id": "YDrS4CFyEnKu",
    "outputId": "7172d4a3-3875-44a8-c0d0-678c7f31dea8"
   },
   "outputs": [
    {
     "name": "stdout",
     "output_type": "stream",
     "text": [
      "({'jmeno': 'Matous', 'prijmeni': 'Pokoj', 'vek': '28'}, {'jmeno': 'Petr', 'prijmeni': 'Svetr', 'vek': '27'}, {'jmeno': 'Matous', 'prijmeni': 'Pokoj', 'vek': '28'}, {'jmeno': 'Petr', 'prijmeni': 'Svetr', 'vek': '27'})\n"
     ]
    }
   ],
   "source": [
    "print(tuple(obsah))"
   ]
  },
  {
   "cell_type": "code",
   "execution_count": 37,
   "metadata": {
    "executionInfo": {
     "elapsed": 251,
     "status": "ok",
     "timestamp": 1683658460003,
     "user": {
      "displayName": "Radim Jedlička",
      "userId": "11502208915568361358"
     },
     "user_tz": -120
    },
    "id": "xYcYbjb3EnKu"
   },
   "outputs": [],
   "source": [
    "moje_csv.close()"
   ]
  },
  {
   "cell_type": "markdown",
   "metadata": {
    "id": "fvkZL0kBer2H"
   },
   "source": [
    "<br>\n",
    "\n",
    "### **Kontextový manažer**"
   ]
  },
  {
   "cell_type": "markdown",
   "metadata": {
    "id": "D8maAOJnEnKu"
   },
   "source": [
    "Prakticky neustále se postup pro manipulaci se soubory kombinuje s manažerem `with`:"
   ]
  },
  {
   "cell_type": "code",
   "execution_count": 38,
   "metadata": {
    "executionInfo": {
     "elapsed": 249,
     "status": "ok",
     "timestamp": 1683658467215,
     "user": {
      "displayName": "Radim Jedlička",
      "userId": "11502208915568361358"
     },
     "user_tz": -120
    },
    "id": "m0qWxee2EnKu"
   },
   "outputs": [],
   "source": [
    "import csv"
   ]
  },
  {
   "cell_type": "code",
   "execution_count": 39,
   "metadata": {
    "executionInfo": {
     "elapsed": 2,
     "status": "ok",
     "timestamp": 1683658470711,
     "user": {
      "displayName": "Radim Jedlička",
      "userId": "11502208915568361358"
     },
     "user_tz": -120
    },
    "id": "KJ4HXndwEnKu"
   },
   "outputs": [],
   "source": [
    "jmeno_csv = \"engeto_lide_linux.csv\""
   ]
  },
  {
   "cell_type": "code",
   "execution_count": 40,
   "metadata": {
    "colab": {
     "base_uri": "https://localhost:8080/"
    },
    "executionInfo": {
     "elapsed": 239,
     "status": "ok",
     "timestamp": 1683658483172,
     "user": {
      "displayName": "Radim Jedlička",
      "userId": "11502208915568361358"
     },
     "user_tz": -120
    },
    "id": "KmeY_hyHEnKu",
    "outputId": "5e241f00-f90d-43e9-fc5d-f304437787c7"
   },
   "outputs": [
    {
     "name": "stdout",
     "output_type": "stream",
     "text": [
      "{'jmeno': 'Matous', 'prijmeni': 'Pokoj', 'vek': '28'}\n",
      "{'jmeno': 'Petr', 'prijmeni': 'Svetr', 'vek': '27'}\n",
      "{'jmeno': 'Matous', 'prijmeni': 'Pokoj', 'vek': '28'}\n",
      "{'jmeno': 'Petr', 'prijmeni': 'Svetr', 'vek': '27'}\n"
     ]
    }
   ],
   "source": [
    "with open(jmeno_csv, encoding=\"utf-8\", mode=\"r\") as csv_soubor:\n",
    "    cteni = csv.DictReader(csv_soubor)\n",
    "\n",
    "    for zaznam in cteni:\n",
    "        print(zaznam)"
   ]
  },
  {
   "cell_type": "code",
   "execution_count": 41,
   "metadata": {
    "colab": {
     "base_uri": "https://localhost:8080/"
    },
    "executionInfo": {
     "elapsed": 271,
     "status": "ok",
     "timestamp": 1683658490184,
     "user": {
      "displayName": "Radim Jedlička",
      "userId": "11502208915568361358"
     },
     "user_tz": -120
    },
    "id": "SR_cbXudEnKv",
    "outputId": "9200b2be-ff97-490f-993b-cfcea2d9226d"
   },
   "outputs": [
    {
     "data": {
      "text/plain": [
       "True"
      ]
     },
     "execution_count": 41,
     "metadata": {},
     "output_type": "execute_result"
    }
   ],
   "source": [
    "csv_soubor.closed"
   ]
  },
  {
   "cell_type": "markdown",
   "metadata": {
    "id": "b90eJs54EnKv"
   },
   "source": [
    "Takže tabulkový formát je zpracovaný, co když budeš potřebovat soubor **organizovaný pomocí klíčů**."
   ]
  }
 ],
 "metadata": {
  "colab": {
   "authorship_tag": "ABX9TyOmSdRos7Xp6d2qMt865hXm",
   "provenance": []
  },
  "kernelspec": {
   "display_name": "Python 3 (ipykernel)",
   "language": "python",
   "name": "python3"
  },
  "language_info": {
   "codemirror_mode": {
    "name": "ipython",
    "version": 3
   },
   "file_extension": ".py",
   "mimetype": "text/x-python",
   "name": "python",
   "nbconvert_exporter": "python",
   "pygments_lexer": "ipython3",
   "version": "3.10.0"
  }
 },
 "nbformat": 4,
 "nbformat_minor": 1
}
