{
 "cells": [
  {
   "cell_type": "markdown",
   "metadata": {
    "id": "cI9q_Ia1erws"
   },
   "source": [
    "<h6 align=right> 🐍 Python akademie - lekce 10 - 19.12.2024</h6>"
   ]
  },
  {
   "cell_type": "markdown",
   "metadata": {
    "id": "4F5V-yFjeuKG"
   },
   "source": [
    "<br>\n",
    "\n",
    "# <h1 align=center><font color=black size=24><b> 10_01: ❌ Výjimky</font></h1>\n",
    "\n",
    "<br>\n"
   ]
  },
  {
   "cell_type": "markdown",
   "metadata": {
    "id": "j100cigFfg43"
   },
   "source": [
    "<br>\n",
    "\n",
    "---\n",
    "\n",
    "### **Zajímavé odkazy z této lekce:**\n",
    "\n",
    "\n",
    "* [pylint](https://pypi.org/project/pylint/),\n",
    "* [flake8](https://flake8.pycqa.org/en/latest/)\n",
    "* [Dokumentace exceptions](https://docs.python.org/3/library/exceptions.html#bltin-exceptions)\n",
    "* [Real Python](https://realpython.com/python-exceptions/)\n",
    "\n",
    "\n",
    "\n",
    "---\n",
    "\n",
    "<br>"
   ]
  },
  {
   "cell_type": "markdown",
   "metadata": {
    "id": "Bai78vLWflFG"
   },
   "source": [
    "<br>\n",
    "\n",
    "## **Úvod do chyb**\n",
    "\n",
    "---"
   ]
  },
  {
   "cell_type": "markdown",
   "metadata": {
    "id": "AOa5SAvgf8n9"
   },
   "source": [
    "**Chybu může udělat každý**. Programátory, analytiky, obecně pythonisty nevyjímaje.\n",
    "\n",
    "Pokud uděláš chybu, *interpret* ji při spuštění:\n",
    "* vystopuje,\n",
    "* pozná,\n",
    "* zatřídí.\n",
    "\n",
    "<br>\n",
    "\n",
    "Jelikož chybu udělá programátor pouze výjimečně, určitě si také uslyšíš označení **výjimka** (z angl. *exception*).\n",
    "\n",
    "<br>\n",
    "\n",
    "https://docs.python.org/3/library/exceptions.html#exception-hierarchy\n",
    "\n",
    "<br>\n",
    "\n",
    "Velmi obecně, pokud uděláš chybu, můžou nastat tyto situace:\n",
    "1. Program **zcela selže** (doprovázeno výjimkami),\n",
    "2. program se **nechová podle očekávání** (doprovázeno debugováním).\n",
    "\n",
    "<br>\n",
    "\n",
    "Jiné rozdělení (exaktnější) můžeš aplikovat **na průběh tvého programu**:\n",
    "1. **Syntaktické chyby**, nedodržení předpisu jazyka Python (způsobí *výjimku*),\n",
    "2. **Běhové chyby**, chyba se projeví až při interpretování našeho zápisu (způsobí *výjimku*),\n",
    "3. **Logické chyby**, kód funguje jinak než bylo zamýšleno (musíš *debugovat*).\n",
    "\n"
   ]
  },
  {
   "cell_type": "markdown",
   "metadata": {
    "id": "14OIIH1TgLa4"
   },
   "source": [
    "<br>\n",
    "\n",
    "## **Druhy chyb**\n",
    "\n",
    "---"
   ]
  },
  {
   "cell_type": "markdown",
   "metadata": {
    "id": "m7Ipj48TgPwt"
   },
   "source": [
    "#### **Syntaktické chyby**"
   ]
  },
  {
   "cell_type": "markdown",
   "metadata": {
    "id": "9TaA5-hIgVHe"
   },
   "source": [
    "Čím více **řádků kódu napíšeš**, tím více se s těmito chybami setkáš."
   ]
  },
  {
   "cell_type": "code",
   "execution_count": null,
   "metadata": {
    "colab": {
     "base_uri": "https://localhost:8080/",
     "height": 130
    },
    "executionInfo": {
     "elapsed": 15,
     "status": "error",
     "timestamp": 1683053775884,
     "user": {
      "displayName": "Radim Jedlička",
      "userId": "11502208915568361358"
     },
     "user_tz": -120
    },
    "id": "ggc0cFpwgNzx",
    "outputId": "83ceb64f-731a-4704-be0e-cf97af44f432"
   },
   "outputs": [],
   "source": [
    "if \"@\" in \"matous@matous.cz\"\n",
    "    print(\"Pravda\")\n",
    "else:\n",
    "    print(\"Neni pravda\")"
   ]
  },
  {
   "cell_type": "markdown",
   "metadata": {
    "id": "msXGiTu0glzm"
   },
   "source": [
    "V ukázce výše je nějaký problém -> **`SyntaxError`**.\n",
    "\n",
    "*Interpret* se snaží pomoci, ale ne vždy je to pro něj jednoduché.\n",
    "\n",
    "Proto existuje celá řada statických zvýrazňovačů a pomůcek, které umí tyto problémy včas odhalit:\n",
    "1. [pylint](https://pypi.org/project/pylint/),\n",
    "2. [flake8](https://flake8.pycqa.org/en/latest/).\n",
    "\n",
    "Pokud používáš **editor**, nebo **IDE**, vyzkoušej, jestli už neobsahují podobný zabudovaný **zvýraznovač** (z angl. *linter*).\n",
    "\n",
    "Právě takovéto pomůcky dovedou rozeznat chybný zápis **již na počátku**.\n",
    "\n",
    "Proto by takový nástroj měl být **základní pracovní pomůckou** každého programátora."
   ]
  },
  {
   "cell_type": "markdown",
   "metadata": {
    "id": "NUWz4g9yg5O9"
   },
   "source": [
    "#### **Běhové chyby**"
   ]
  },
  {
   "cell_type": "markdown",
   "metadata": {
    "id": "QM1ZRXpfg7g4"
   },
   "source": [
    "S **běhovou chybou** se setkáš v průběhu programu.\n",
    "\n",
    "Pokud tvůj zápis **dostatečně neošetříš**, může fungovat většinu času, ale **ne pokaždé**:"
   ]
  },
  {
   "cell_type": "code",
   "execution_count": null,
   "metadata": {
    "id": "lL66R4K7gmx-"
   },
   "outputs": [],
   "source": [
    "def vrat_polovinu(cislo: int) -> float:\n",
    "    return cislo / 2"
   ]
  },
  {
   "cell_type": "code",
   "execution_count": null,
   "metadata": {
    "colab": {
     "base_uri": "https://localhost:8080/"
    },
    "executionInfo": {
     "elapsed": 890,
     "status": "ok",
     "timestamp": 1683053843743,
     "user": {
      "displayName": "Radim Jedlička",
      "userId": "11502208915568361358"
     },
     "user_tz": -120
    },
    "id": "SFbPr-vYhF8M",
    "outputId": "2faf5c6f-c4d8-4cc9-a8a4-64cf1a737550"
   },
   "outputs": [],
   "source": [
    "for cislo in (1, 2, 3, 4, 5):\n",
    "    print(vrat_polovinu(cislo))"
   ]
  },
  {
   "cell_type": "markdown",
   "metadata": {
    "id": "hMg5cESGhIxI"
   },
   "source": [
    "Program klidně může fungovat pro naprostou většinu běžných scénářů."
   ]
  },
  {
   "cell_type": "code",
   "execution_count": null,
   "metadata": {
    "colab": {
     "base_uri": "https://localhost:8080/",
     "height": 287
    },
    "executionInfo": {
     "elapsed": 216,
     "status": "error",
     "timestamp": 1683053852534,
     "user": {
      "displayName": "Radim Jedlička",
      "userId": "11502208915568361358"
     },
     "user_tz": -120
    },
    "id": "LaWdfhCUhK3J",
    "outputId": "ce3bd97c-f1a9-4d5d-cd29-02f7dda423ff"
   },
   "outputs": [],
   "source": [
    "for cislo in (1, 2, \"3\", 4, 5):\n",
    "    print(vrat_polovinu(cislo))"
   ]
  },
  {
   "cell_type": "markdown",
   "metadata": {
    "id": "o69-Z3CLhQKt"
   },
   "source": [
    "Nicméně ne pokaždé.\n",
    "\n",
    "V některých krajních případech, může být průběh přerušený **výjimkou**.\n",
    "\n",
    "Tento typ chyb již **není tak triviální**. Přesto existují různé postupy, jak se výjimkám vyvarovat:\n",
    "1. *Type hints*,\n",
    "2. [*mypy*](https://mypy-lang.org/),\n",
    "3. *unit testy*,\n",
    "4. *odchytávání výjimek* (z angl. *error handling*)."
   ]
  },
  {
   "cell_type": "markdown",
   "metadata": {
    "id": "fCXARSuyiYvV"
   },
   "source": [
    "#### **Logické chyby**"
   ]
  },
  {
   "cell_type": "markdown",
   "metadata": {
    "id": "P2AiPJdYidYL"
   },
   "source": [
    "**Logickou chybu** nepoznáš snadno, pakliže vůbec.\n",
    "\n",
    "Program totiž spustíš **bez komplikací**.\n",
    "\n",
    "Teprve až po zevrubné kontrole hodnot, případně výstupu, můžeš vidět nejasnosti:"
   ]
  },
  {
   "cell_type": "code",
   "execution_count": null,
   "metadata": {
    "id": "mJU0Dj7dhQxG"
   },
   "outputs": [],
   "source": [
    "x = 3\n",
    "y = 5"
   ]
  },
  {
   "cell_type": "code",
   "execution_count": null,
   "metadata": {
    "id": "HdTGgodyijG-"
   },
   "outputs": [],
   "source": [
    "prumer = x + y / 2  # 3 + 5 = 8   ->   8 / 2 -> 4"
   ]
  },
  {
   "cell_type": "code",
   "execution_count": null,
   "metadata": {
    "colab": {
     "base_uri": "https://localhost:8080/"
    },
    "executionInfo": {
     "elapsed": 410,
     "status": "ok",
     "timestamp": 1683054191862,
     "user": {
      "displayName": "Radim Jedlička",
      "userId": "11502208915568361358"
     },
     "user_tz": -120
    },
    "id": "PYcpbI97jBU6",
    "outputId": "db7c222b-a092-4ac8-ecd4-0ad66a9c28f0"
   },
   "outputs": [],
   "source": [
    "print(prumer)"
   ]
  },
  {
   "cell_type": "markdown",
   "metadata": {
    "id": "k29e5gy9i9YI"
   },
   "source": [
    "správný zápis:"
   ]
  },
  {
   "cell_type": "code",
   "execution_count": null,
   "metadata": {
    "id": "itq9PzNUi7f8"
   },
   "outputs": [],
   "source": [
    "prumer = (x + y) / 2  # 3 + 5 = 8   ->   8 / 2 -> 4"
   ]
  },
  {
   "cell_type": "code",
   "execution_count": null,
   "metadata": {
    "colab": {
     "base_uri": "https://localhost:8080/"
    },
    "executionInfo": {
     "elapsed": 3,
     "status": "ok",
     "timestamp": 1683054204230,
     "user": {
      "displayName": "Radim Jedlička",
      "userId": "11502208915568361358"
     },
     "user_tz": -120
    },
    "id": "garJEBgSil67",
    "outputId": "5f0c6049-af40-41d7-ebcc-cf29ffff4f5c"
   },
   "outputs": [],
   "source": [
    "print(prumer)"
   ]
  },
  {
   "cell_type": "markdown",
   "metadata": {
    "id": "uwg5Yui-jnJ-"
   },
   "source": [
    "Bránit se proti takovým chybám **není jednoduché**.\n",
    "\n",
    "Odhalení často přijde až **na samotné uživatele**.\n",
    "\n",
    "Pomoci můžou:\n",
    "1. *Unit testy*,\n",
    "2. *integrační testy*,\n",
    "3. *přehledná dokumentace*,\n",
    "4. *debugování*."
   ]
  },
  {
   "cell_type": "markdown",
   "metadata": {
    "id": "7w-MDVk8kbAq"
   },
   "source": [
    "<br>\n",
    "\n",
    "## **Odchytávání výjimek**\n",
    "\n",
    "---"
   ]
  },
  {
   "cell_type": "markdown",
   "metadata": {
    "id": "llKvlfhBkiNA"
   },
   "source": [
    "*Výjimka* ale nutně neznamená konec světa.\n",
    "\n",
    "Jsou **to objekty** jako každý jiný.\n",
    "\n",
    "Proto s nimi můžeš manipulovat (z angl. *error handling*)."
   ]
  },
  {
   "cell_type": "code",
   "execution_count": null,
   "metadata": {
    "id": "IurYAmufjoKo"
   },
   "outputs": [],
   "source": [
    "def vydel_dve_cisla(delenec: int, delitel: int) -> float:\n",
    "    return delenec / delitel"
   ]
  },
  {
   "cell_type": "code",
   "execution_count": null,
   "metadata": {
    "colab": {
     "base_uri": "https://localhost:8080/"
    },
    "executionInfo": {
     "elapsed": 231,
     "status": "ok",
     "timestamp": 1683054254510,
     "user": {
      "displayName": "Radim Jedlička",
      "userId": "11502208915568361358"
     },
     "user_tz": -120
    },
    "id": "lgd5wGgJkpAG",
    "outputId": "586decfb-cefb-41c1-b3f0-e047bae93ac0"
   },
   "outputs": [],
   "source": [
    "print(\n",
    "    vydel_dve_cisla(4, 2),\n",
    "    vydel_dve_cisla(14, 7),\n",
    "    vydel_dve_cisla(117, 3),\n",
    "    sep=\"\\n\"\n",
    ")"
   ]
  },
  {
   "cell_type": "markdown",
   "metadata": {
    "id": "oqhxzaMqktUJ"
   },
   "source": [
    "Pokud ovšem zadáš **jiný typ argumentu**:"
   ]
  },
  {
   "cell_type": "code",
   "execution_count": null,
   "metadata": {
    "id": "KhZNIFczktnf"
   },
   "outputs": [],
   "source": [
    "print(vydel_dve_cisla(\"4\", 2))"
   ]
  },
  {
   "cell_type": "markdown",
   "metadata": {
    "id": "1xawD_KraNAX"
   },
   "source": [
    "A nezapomeň **na nulu**:"
   ]
  },
  {
   "cell_type": "code",
   "execution_count": null,
   "metadata": {
    "id": "xpYO5ur2aNAX"
   },
   "outputs": [],
   "source": [
    "print(vydel_dve_cisla(4, 0))"
   ]
  },
  {
   "cell_type": "markdown",
   "metadata": {
    "id": "-lTghJ2KaNAX"
   },
   "source": [
    "Než na všechny možné i nemožné scénáře psát podmínky a udělátka, je lepší *interpretu* sdělit, že jde o pokus:"
   ]
  },
  {
   "cell_type": "markdown",
   "metadata": {
    "id": "VJQcWjLeaNAY"
   },
   "source": [
    "<br>\n",
    "\n",
    "## **Try, tedy vyzkoušej**\n",
    "\n",
    "---\n"
   ]
  },
  {
   "cell_type": "markdown",
   "metadata": {
    "id": "83XzuY7dmCLj"
   },
   "source": [
    "Pro vyzkoušení použij rezervované slovo `try`:"
   ]
  },
  {
   "cell_type": "code",
   "execution_count": null,
   "metadata": {
    "colab": {
     "base_uri": "https://localhost:8080/",
     "height": 130
    },
    "executionInfo": {
     "elapsed": 220,
     "status": "error",
     "timestamp": 1683054340574,
     "user": {
      "displayName": "Radim Jedlička",
      "userId": "11502208915568361358"
     },
     "user_tz": -120
    },
    "id": "QoISuAt_aNAY",
    "outputId": "8d57139d-4eca-43ff-ecd0-ae12f90dc937"
   },
   "outputs": [],
   "source": [
    "def vydel_dve_cisla(delenec: int, delitel: int) -> float:\n",
    "    try:\n",
    "        vysledek = delenec / delitel\n",
    "\n",
    "    return vysledek"
   ]
  },
  {
   "cell_type": "markdown",
   "metadata": {
    "id": "mpkaIeDVaNAY"
   },
   "source": [
    "Pozor, syntaxe **není kompletní**, každým vyzkoušením naznačuješ, že může nastat *výjimka*.\n",
    "\n",
    "Proto je nutné, nachystat se, pokud se skutečně objeví."
   ]
  },
  {
   "cell_type": "markdown",
   "metadata": {
    "id": "x1R1dGZBaNAY"
   },
   "source": [
    "<br>\n",
    "\n",
    "## **Try/except**\n",
    "\n",
    "---"
   ]
  },
  {
   "cell_type": "markdown",
   "metadata": {
    "id": "rdislAomaNAY"
   },
   "source": [
    "Syntaxi uzavřeš tak, že přidáš větev `except` (podobná struktura jako podmínkové větve):"
   ]
  },
  {
   "cell_type": "code",
   "execution_count": null,
   "metadata": {
    "id": "bikQ5CeFaNAY"
   },
   "outputs": [],
   "source": [
    "def vydel_dve_cisla(delenec: int, delitel: int) -> float:\n",
    "    try:\n",
    "        vysledek = delenec / delitel\n",
    "\n",
    "    except:\n",
    "        print(\"Nelze vydělit!\")\n",
    "        vysledek = None\n",
    "\n",
    "    return vysledek"
   ]
  },
  {
   "cell_type": "code",
   "execution_count": null,
   "metadata": {
    "colab": {
     "base_uri": "https://localhost:8080/"
    },
    "executionInfo": {
     "elapsed": 284,
     "status": "ok",
     "timestamp": 1683054395253,
     "user": {
      "displayName": "Radim Jedlička",
      "userId": "11502208915568361358"
     },
     "user_tz": -120
    },
    "id": "KGwRRdCUaNAZ",
    "outputId": "8b1f3be5-024d-4002-fdef-7d89c98bdd21"
   },
   "outputs": [],
   "source": [
    "vydel_dve_cisla(4, 0)"
   ]
  },
  {
   "cell_type": "code",
   "execution_count": null,
   "metadata": {
    "colab": {
     "base_uri": "https://localhost:8080/"
    },
    "executionInfo": {
     "elapsed": 234,
     "status": "ok",
     "timestamp": 1683054401537,
     "user": {
      "displayName": "Radim Jedlička",
      "userId": "11502208915568361358"
     },
     "user_tz": -120
    },
    "id": "eF55WtWtaNAZ",
    "outputId": "ed6862e2-3118-4558-e2eb-7b6d6d1d24a1"
   },
   "outputs": [],
   "source": [
    "vydel_dve_cisla(\"4\", 0)"
   ]
  },
  {
   "cell_type": "code",
   "execution_count": null,
   "metadata": {
    "colab": {
     "base_uri": "https://localhost:8080/"
    },
    "executionInfo": {
     "elapsed": 218,
     "status": "ok",
     "timestamp": 1683054404738,
     "user": {
      "displayName": "Radim Jedlička",
      "userId": "11502208915568361358"
     },
     "user_tz": -120
    },
    "id": "-Fpcz-J1aNAZ",
    "outputId": "81b455c0-1846-48d6-94b0-7f665f4a2fb6"
   },
   "outputs": [],
   "source": [
    "vydel_dve_cisla(12, 3)"
   ]
  },
  {
   "cell_type": "markdown",
   "metadata": {
    "id": "KuP4FLRnaNAZ"
   },
   "source": [
    "Pokud nyní nastane **jakákoliv výjimka**, spustí *interpret* ohlášení ve větvi `except`.\n",
    "\n",
    "Pokud se však výjimka neobjeví, vrátí řádný výsledek."
   ]
  },
  {
   "cell_type": "markdown",
   "metadata": {
    "id": "e3SBzwukaNAZ"
   },
   "source": [
    "```python\n",
    "        vysledek = None\n",
    "```\n",
    "\n",
    "Proměnnou `vysledek` je nutné nachystat pro oba případy, jinak by ji *interpret* neuměl u výjimky vytvořit.\n",
    "\n",
    "Jelikož zápis ve `try` selhal."
   ]
  },
  {
   "cell_type": "markdown",
   "metadata": {
    "id": "CYYXGCQfaNAZ"
   },
   "source": [
    "```python\n",
    "    except:\n",
    "        print(\"Nelze vydělit!\")\n",
    "        vysledek = None\n",
    "```\n",
    "\n",
    "**Žádná výjimka** by neměla zůstat implicitně označená.\n",
    "\n",
    "Vždy si proto přesně nachystej, co má tebou zapsaná větev `except` chytat.\n",
    "\n",
    "Pokud nemáš jistotu, použij `except Exception`:"
   ]
  },
  {
   "cell_type": "code",
   "execution_count": null,
   "metadata": {
    "id": "OEn2nTb_aNAa"
   },
   "outputs": [],
   "source": [
    "def vydel_dve_cisla(delenec: int, delitel: int) -> float:\n",
    "    try:\n",
    "        vysledek = delenec / delitel\n",
    "\n",
    "    except Exception:  # trochu lepší řešení\n",
    "        print(\"Nelze vydělit!\")\n",
    "        vysledek = None\n",
    "\n",
    "    return vysledek"
   ]
  },
  {
   "cell_type": "code",
   "execution_count": null,
   "metadata": {
    "colab": {
     "base_uri": "https://localhost:8080/"
    },
    "executionInfo": {
     "elapsed": 245,
     "status": "ok",
     "timestamp": 1683054482111,
     "user": {
      "displayName": "Radim Jedlička",
      "userId": "11502208915568361358"
     },
     "user_tz": -120
    },
    "id": "T881VU9naNAa",
    "outputId": "0365ae8e-5022-4570-9278-d2f58b34d6cd"
   },
   "outputs": [],
   "source": [
    "vydel_dve_cisla(4, 0)"
   ]
  },
  {
   "cell_type": "code",
   "execution_count": null,
   "metadata": {
    "colab": {
     "base_uri": "https://localhost:8080/"
    },
    "executionInfo": {
     "elapsed": 1295,
     "status": "ok",
     "timestamp": 1683054485840,
     "user": {
      "displayName": "Radim Jedlička",
      "userId": "11502208915568361358"
     },
     "user_tz": -120
    },
    "id": "tafQj4uGaNAa",
    "outputId": "9aa2b189-ee2c-4cbc-924f-f94cf4e27c87"
   },
   "outputs": [],
   "source": [
    "vydel_dve_cisla(\"4\", 1)"
   ]
  },
  {
   "cell_type": "code",
   "execution_count": null,
   "metadata": {
    "colab": {
     "base_uri": "https://localhost:8080/"
    },
    "executionInfo": {
     "elapsed": 3,
     "status": "ok",
     "timestamp": 1683054488822,
     "user": {
      "displayName": "Radim Jedlička",
      "userId": "11502208915568361358"
     },
     "user_tz": -120
    },
    "id": "htgFEmy9aNAa",
    "outputId": "c046c02c-effc-4d12-ed86-340087ff5283"
   },
   "outputs": [],
   "source": [
    "vydel_dve_cisla(4, 2)"
   ]
  },
  {
   "cell_type": "markdown",
   "metadata": {
    "id": "T9XE2s5faNAa"
   },
   "source": [
    "Pokud víš, co chceš chytat za výjimky, vypiš je:"
   ]
  },
  {
   "cell_type": "code",
   "execution_count": null,
   "metadata": {
    "id": "f8tBwJcjaNAa"
   },
   "outputs": [],
   "source": [
    "def vydel_dve_cisla(delenec: int, delitel: int) -> float:\n",
    "    try:\n",
    "        vysledek = delenec / delitel\n",
    "\n",
    "    except (TypeError, ZeroDivisionError):  # perfektní!\n",
    "        print(\"Nelze vydělit!\")\n",
    "        vysledek = None\n",
    "\n",
    "    return vysledek"
   ]
  },
  {
   "cell_type": "code",
   "execution_count": null,
   "metadata": {
    "colab": {
     "base_uri": "https://localhost:8080/"
    },
    "executionInfo": {
     "elapsed": 314,
     "status": "ok",
     "timestamp": 1683054537939,
     "user": {
      "displayName": "Radim Jedlička",
      "userId": "11502208915568361358"
     },
     "user_tz": -120
    },
    "id": "IJfo_nDPaNAb",
    "outputId": "db35556b-5bd2-4449-9f9d-ad6a7fc8418b"
   },
   "outputs": [],
   "source": [
    "vydel_dve_cisla(4, 0)"
   ]
  },
  {
   "cell_type": "code",
   "execution_count": null,
   "metadata": {
    "colab": {
     "base_uri": "https://localhost:8080/"
    },
    "executionInfo": {
     "elapsed": 628,
     "status": "ok",
     "timestamp": 1683054540362,
     "user": {
      "displayName": "Radim Jedlička",
      "userId": "11502208915568361358"
     },
     "user_tz": -120
    },
    "id": "zRJmML3WaNAb",
    "outputId": "04e8be37-f1fa-4c73-c6ca-dd6a93d4666c"
   },
   "outputs": [],
   "source": [
    "vydel_dve_cisla(\"4\", 1)"
   ]
  },
  {
   "cell_type": "code",
   "execution_count": null,
   "metadata": {
    "colab": {
     "base_uri": "https://localhost:8080/"
    },
    "executionInfo": {
     "elapsed": 301,
     "status": "ok",
     "timestamp": 1683054542210,
     "user": {
      "displayName": "Radim Jedlička",
      "userId": "11502208915568361358"
     },
     "user_tz": -120
    },
    "id": "ulFIXD15aNAb",
    "outputId": "44542801-ff1e-452e-9d35-ef9b29246a3f"
   },
   "outputs": [],
   "source": [
    "vydel_dve_cisla(4, 2)"
   ]
  },
  {
   "cell_type": "markdown",
   "metadata": {
    "id": "wMMqDLneaNAb"
   },
   "source": [
    "Pokud potřebuješ pro oba výjimkové scénáře různé průběhy, větví `except` můžeš mít více:"
   ]
  },
  {
   "cell_type": "code",
   "execution_count": null,
   "metadata": {
    "id": "Bad9-B2EaNAb"
   },
   "outputs": [],
   "source": [
    "def vydel_dve_cisla(delenec: int, delitel: int) -> float:\n",
    "    try:\n",
    "        vysledek = delenec / delitel\n",
    "\n",
    "    except TypeError:\n",
    "        print(\"Nelze vydělit zadaný datový typ!\")\n",
    "        vysledek = None\n",
    "    except ZeroDivisionError:\n",
    "        print(\"Nelze dělit nulou!\")\n",
    "        vysledek = None\n",
    "\n",
    "    return vysledek"
   ]
  },
  {
   "cell_type": "code",
   "execution_count": null,
   "metadata": {
    "colab": {
     "base_uri": "https://localhost:8080/"
    },
    "executionInfo": {
     "elapsed": 4,
     "status": "ok",
     "timestamp": 1683054558058,
     "user": {
      "displayName": "Radim Jedlička",
      "userId": "11502208915568361358"
     },
     "user_tz": -120
    },
    "id": "GX1Q6TtraNAc",
    "outputId": "620662a0-2f3a-4d7b-cbcc-3cf8dcc24c7b"
   },
   "outputs": [],
   "source": [
    "vydel_dve_cisla(4, 0)"
   ]
  },
  {
   "cell_type": "code",
   "execution_count": null,
   "metadata": {
    "colab": {
     "base_uri": "https://localhost:8080/"
    },
    "executionInfo": {
     "elapsed": 2,
     "status": "ok",
     "timestamp": 1683054560120,
     "user": {
      "displayName": "Radim Jedlička",
      "userId": "11502208915568361358"
     },
     "user_tz": -120
    },
    "id": "bTArxfSWaNAc",
    "outputId": "3b6a02a4-419b-48bf-9dd5-1a6d5e838aac"
   },
   "outputs": [],
   "source": [
    "vydel_dve_cisla(\"4\", 1)"
   ]
  },
  {
   "cell_type": "code",
   "execution_count": null,
   "metadata": {
    "colab": {
     "base_uri": "https://localhost:8080/"
    },
    "executionInfo": {
     "elapsed": 406,
     "status": "ok",
     "timestamp": 1683054561908,
     "user": {
      "displayName": "Radim Jedlička",
      "userId": "11502208915568361358"
     },
     "user_tz": -120
    },
    "id": "R0TvT3m2aNAc",
    "outputId": "6e7e2e8a-be84-4d75-dc2c-a3a5249f9976"
   },
   "outputs": [],
   "source": [
    "vydel_dve_cisla(4, 2)"
   ]
  },
  {
   "cell_type": "code",
   "execution_count": null,
   "metadata": {
    "colab": {
     "base_uri": "https://localhost:8080/",
     "height": 165
    },
    "executionInfo": {
     "elapsed": 24,
     "status": "error",
     "timestamp": 1683054563866,
     "user": {
      "displayName": "Radim Jedlička",
      "userId": "11502208915568361358"
     },
     "user_tz": -120
    },
    "id": "0ErI-1UdaNAc",
    "outputId": "40b862eb-b37b-4985-c78b-2d8fd31e0970"
   },
   "outputs": [],
   "source": [
    "vydel_dve_cisla(4)"
   ]
  },
  {
   "cell_type": "markdown",
   "metadata": {
    "id": "d7MpMEw3aNAc"
   },
   "source": [
    "Obvykle však bývá přehlednější zkoušet **v jeden moment** (výraze), **jeden proces**."
   ]
  },
  {
   "cell_type": "markdown",
   "metadata": {
    "id": "RPdlGCn3mzo3"
   },
   "source": [
    "<br>\n",
    "\n",
    "## **try/except/else**\n",
    "\n",
    "---"
   ]
  },
  {
   "cell_type": "markdown",
   "metadata": {
    "id": "D0azhScJaNAc"
   },
   "source": [
    "Často se **na třetí větev** zapomíná.\n",
    "\n",
    "Slouží k tomu, ať máš kam napsat následná ohlášení, která potřebuješ potom, co úspěšně vyzkoušíš kus kódu.\n",
    "\n",
    "Tedy nechat větev `try` a její obsah, **co nejstručnější**:"
   ]
  },
  {
   "cell_type": "code",
   "execution_count": null,
   "metadata": {
    "id": "_vX2j4ZvaNAd"
   },
   "outputs": [],
   "source": [
    "def vydel_dve_cisla(delenec: int, delitel: int) -> float:\n",
    "    try:\n",
    "        vysledek = delenec / delitel\n",
    "\n",
    "    except TypeError:\n",
    "        print(\"Nelze vydělit zadaný datový typ!\")\n",
    "        vysledek = None\n",
    "    except ZeroDivisionError:\n",
    "        print(\"Nelze dělit nulou!\")\n",
    "        vysledek = None\n",
    "    else:\n",
    "        print(\"Úspěšné dělení obou argumentů\")\n",
    "        print(vysledek)"
   ]
  },
  {
   "cell_type": "code",
   "execution_count": null,
   "metadata": {
    "colab": {
     "base_uri": "https://localhost:8080/"
    },
    "executionInfo": {
     "elapsed": 304,
     "status": "ok",
     "timestamp": 1683054630729,
     "user": {
      "displayName": "Radim Jedlička",
      "userId": "11502208915568361358"
     },
     "user_tz": -120
    },
    "id": "cFL-vb5gaNAd",
    "outputId": "cd7bf66b-8812-47b3-de4d-15fc49e2e329"
   },
   "outputs": [],
   "source": [
    "vydel_dve_cisla(4, 0)"
   ]
  },
  {
   "cell_type": "code",
   "execution_count": null,
   "metadata": {
    "colab": {
     "base_uri": "https://localhost:8080/"
    },
    "executionInfo": {
     "elapsed": 290,
     "status": "ok",
     "timestamp": 1683054634735,
     "user": {
      "displayName": "Radim Jedlička",
      "userId": "11502208915568361358"
     },
     "user_tz": -120
    },
    "id": "87BJ7NpSaNAd",
    "outputId": "2e1e0167-cf6e-4916-e6db-af5f8196a356"
   },
   "outputs": [],
   "source": [
    "vydel_dve_cisla(\"4\", 1)"
   ]
  },
  {
   "cell_type": "code",
   "execution_count": null,
   "metadata": {
    "colab": {
     "base_uri": "https://localhost:8080/"
    },
    "executionInfo": {
     "elapsed": 2,
     "status": "ok",
     "timestamp": 1683054636696,
     "user": {
      "displayName": "Radim Jedlička",
      "userId": "11502208915568361358"
     },
     "user_tz": -120
    },
    "id": "S0M-F47naNAd",
    "outputId": "76d61913-0ae2-43ed-c2b5-cbd98946c78a"
   },
   "outputs": [],
   "source": [
    "vydel_dve_cisla(4, 2)"
   ]
  },
  {
   "cell_type": "markdown",
   "metadata": {
    "id": "CmHNHX1LaNAd"
   },
   "source": [
    "Pokud se tedy dostaneš do situace, kdy potřebuješ sadu ohlášení *interpretovat* pouze tehdy, pokud se **výjimka neobjeví**, nezapomeň `else` přidat."
   ]
  },
  {
   "cell_type": "markdown",
   "metadata": {
    "id": "lqHmNzt_nKCc"
   },
   "source": [
    "<br>\n",
    "\n",
    "## **try/except/else/finally**\n",
    "\n",
    "---"
   ]
  },
  {
   "cell_type": "markdown",
   "metadata": {
    "id": "i8tyohRsaNAe"
   },
   "source": [
    "Poslední možností, jak zápis s odchytáváním vylepšít, je větev `finally`."
   ]
  },
  {
   "cell_type": "code",
   "execution_count": null,
   "metadata": {
    "id": "TBXIyq1iaNAe"
   },
   "outputs": [],
   "source": [
    "def vydel_dve_cisla(delenec: int, delitel: int) -> float:\n",
    "    try:\n",
    "        vysledek = delenec / delitel\n",
    "\n",
    "    except TypeError:\n",
    "        print(\"Nelze vydělit zadaný datový typ!\")\n",
    "        vysledek = None\n",
    "    except ZeroDivisionError:\n",
    "        print(\"Nelze dělit nulou!\")\n",
    "        vysledek = None\n",
    "    else:\n",
    "        print(delenec, delitel, vysledek, sep=\"\\n\")\n",
    "    finally:\n",
    "        return vysledek"
   ]
  },
  {
   "cell_type": "code",
   "execution_count": null,
   "metadata": {
    "colab": {
     "base_uri": "https://localhost:8080/"
    },
    "executionInfo": {
     "elapsed": 983,
     "status": "ok",
     "timestamp": 1683054704136,
     "user": {
      "displayName": "Radim Jedlička",
      "userId": "11502208915568361358"
     },
     "user_tz": -120
    },
    "id": "Qdq8EnSvaNAe",
    "outputId": "09466364-e015-42b5-c9e5-840d2ef1dc95"
   },
   "outputs": [],
   "source": [
    "print(vydel_dve_cisla(4, 0))"
   ]
  },
  {
   "cell_type": "code",
   "execution_count": null,
   "metadata": {
    "colab": {
     "base_uri": "https://localhost:8080/"
    },
    "executionInfo": {
     "elapsed": 3,
     "status": "ok",
     "timestamp": 1683054706348,
     "user": {
      "displayName": "Radim Jedlička",
      "userId": "11502208915568361358"
     },
     "user_tz": -120
    },
    "id": "EML5STDeaNAe",
    "outputId": "3a241560-5b52-4465-d846-11e4739b1a17"
   },
   "outputs": [],
   "source": [
    "print(vydel_dve_cisla(\"4\", 1))"
   ]
  },
  {
   "cell_type": "code",
   "execution_count": null,
   "metadata": {
    "colab": {
     "base_uri": "https://localhost:8080/"
    },
    "executionInfo": {
     "elapsed": 266,
     "status": "ok",
     "timestamp": 1683054714434,
     "user": {
      "displayName": "Radim Jedlička",
      "userId": "11502208915568361358"
     },
     "user_tz": -120
    },
    "id": "71BPY9A8aNAe",
    "outputId": "40666c91-b396-42f9-b846-2f95c1cca00b"
   },
   "outputs": [],
   "source": [
    "vydel_dve_cisla(4, 2)"
   ]
  },
  {
   "cell_type": "markdown",
   "metadata": {
    "id": "BOAf7nLhaNAe"
   },
   "source": [
    "Cokoliv, co do ní zapíšeš, bude spuštěno ať už se **výjimka objeví, nebo ne**."
   ]
  },
  {
   "cell_type": "markdown",
   "metadata": {
    "id": "jq4z5i5OnoLb"
   },
   "source": [
    "<br>\n",
    "\n",
    "## **Souhrn**\n",
    "\n",
    "---"
   ]
  },
  {
   "cell_type": "markdown",
   "metadata": {
    "id": "TLpjTtOUaNAf"
   },
   "source": [
    "Syntaxe *zachytávání výjimek*, `try`, `except`, `else` a `finally` je tedy zápis, který použiješ, pokud se chceš:\n",
    "* vyvarovat se mnoha `if` ohlášením,\n",
    "* **při loggování** různých zpráv,\n",
    "* při komunikaci **s jiným end-pointem** (nejčastěji API).\n",
    "\n",
    "<br>\n",
    "\n",
    "Pokud použiješ tento zápis, zkontroluj si, jaké větve lze použít:\n",
    "1. Tedy nepřetěžovat větev `try` s dlouhým zápisem,\n",
    "2. nepoužívat `except` větve implicitně, ale pro specifické výjimky,\n",
    "3. nevynechávat `else`, pokud má vhodný účel."
   ]
  },
  {
   "cell_type": "code",
   "execution_count": null,
   "metadata": {
    "id": "ZX7CWJgtaNAf"
   },
   "outputs": [],
   "source": [
    "def nacti_zahlavi_souboru(obsah_souboru: tuple):\n",
    "    \"\"\"\n",
    "    Vrať první záznam (záhlaví) z obsahu TXT souboru, pokud je k dispozici.\n",
    "    \"\"\"\n",
    "    try:\n",
    "        zahlavi = obsah_souboru[0]\n",
    "\n",
    "    except IndexError:\n",
    "        zahlavi = list()\n",
    "        print(\"Zadaný objekt nelze indexovat\")\n",
    "    else:\n",
    "        print(\"Záhlaví je k dispozici\")\n",
    "        zahlavi = zahlavi.split() if isinstance(zahlavi, tuple) else zahlavi\n",
    "    finally:\n",
    "        print(\"Vracím rozdělené záhlaví\")\n",
    "        return zahlavi"
   ]
  },
  {
   "cell_type": "code",
   "execution_count": null,
   "metadata": {
    "colab": {
     "base_uri": "https://localhost:8080/"
    },
    "executionInfo": {
     "elapsed": 356,
     "status": "ok",
     "timestamp": 1683055680222,
     "user": {
      "displayName": "Radim Jedlička",
      "userId": "11502208915568361358"
     },
     "user_tz": -120
    },
    "id": "hF0H6msqaNAf",
    "outputId": "a211d865-e7e6-442b-d0b5-d4d251dff0a0"
   },
   "outputs": [],
   "source": [
    "nacti_zahlavi_souboru(\n",
    "    (\n",
    "        (\"První řádek \", \"se \", \"záhlavím.\\n\"),\n",
    "        (\"druhý řádek \", \"s \", \"libovolným \", \"textem\\n\")\n",
    "    )\n",
    ")"
   ]
  },
  {
   "cell_type": "code",
   "execution_count": null,
   "metadata": {
    "colab": {
     "base_uri": "https://localhost:8080/"
    },
    "executionInfo": {
     "elapsed": 220,
     "status": "ok",
     "timestamp": 1683055742853,
     "user": {
      "displayName": "Radim Jedlička",
      "userId": "11502208915568361358"
     },
     "user_tz": -120
    },
    "id": "SsrG9manaNAf",
    "outputId": "e4caa13f-ca69-4380-a5f0-a1a67df9ae05"
   },
   "outputs": [],
   "source": [
    "nacti_zahlavi_souboru(\n",
    "    ()\n",
    ")"
   ]
  }
 ],
 "metadata": {
  "colab": {
   "authorship_tag": "ABX9TyPjiIBorWAX6pPA92gjVqu2",
   "provenance": []
  },
  "kernelspec": {
   "display_name": "Python 3 (ipykernel)",
   "language": "python",
   "name": "python3"
  },
  "language_info": {
   "codemirror_mode": {
    "name": "ipython",
    "version": 3
   },
   "file_extension": ".py",
   "mimetype": "text/x-python",
   "name": "python",
   "nbconvert_exporter": "python",
   "pygments_lexer": "ipython3",
   "version": "3.10.0"
  }
 },
 "nbformat": 4,
 "nbformat_minor": 1
}
