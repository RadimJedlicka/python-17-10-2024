{
 "cells": [
  {
   "cell_type": "markdown",
   "metadata": {
    "id": "lZpDRSF7Ukwc"
   },
   "source": [
    "<h6 align=right> 🐍 Python akademie - lekce 10 - DD.MM.YYYY</h6>"
   ]
  },
  {
   "cell_type": "markdown",
   "metadata": {
    "id": "HDsZ2s8TUpAF"
   },
   "source": [
    "<br>\n",
    "\n",
    "# <h1 align=center><font color=black size=24><b> 🌍 Hlavní města</font></h1>\n",
    "\n",
    "<p align=center> (praktická úloha na závěr 10. lekce)</p>\n",
    "\n",
    "<br>\n"
   ]
  },
  {
   "cell_type": "markdown",
   "metadata": {
    "id": "0xMePSmVU7Qy"
   },
   "source": [
    "## **Zadání**"
   ]
  },
  {
   "cell_type": "markdown",
   "metadata": {
    "id": "rEZceTHgVYS_"
   },
   "source": [
    "**Představme si tuto situaci:**<br />\n",
    "Jste programátor a Váš nadřízený vám dá úkol napsat krátký program. Vzdálený program generuje k vám do složky textový soubor obsahující názvy **zemí** a **hlavních měst** velkými písmeny.<br />\n",
    "\n",
    "Vy máte tyto údaje převést na formát, kdy zůstane velké pouze úvodní písmeno, zbytek malým písmem. Pro účely cvičení stačí výsledek vypsat pomocí funkce `print`.\n",
    "\n",
    "<br>\n",
    "\n",
    "**Potřebujeme tedy vypracovat následující:**\n",
    "1. Program by měl být **opakovaně použitelný** do budoucna.\n",
    "2. **Otevřeme** tento soubor pomocí Pythonu & **uložíme** jeho obsah\n",
    "3. V textovém souboru je na konci string ukončující běh vzdáleného programu `\"quit\"` (resp. poslední údaj). Pokud tedy narazíme na tento string, ukončíme proces. Jinak převádíme údaje.\n",
    "4. Údaje jsou velkým písmem v tomto formátu: `ZEME, MESTO`\n",
    "5. Chceme je převést na: `Zeme,mesto`"
   ]
  },
  {
   "cell_type": "markdown",
   "metadata": {
    "id": "tPCriQIOXtCp"
   },
   "source": [
    "<br>\n",
    "\n",
    "## **Otevřeme soubor & přečteme obsah**\n"
   ]
  },
  {
   "cell_type": "markdown",
   "metadata": {
    "id": "0vYu94TdX0u5"
   },
   "source": [
    "### <font color=red><b>Očekáváme:</b>"
   ]
  },
  {
   "cell_type": "markdown",
   "metadata": {
    "id": "kX1h8djzX41B"
   },
   "source": [
    "### <font color=ligtblue><b> 💻 Kód:</b>"
   ]
  },
  {
   "cell_type": "code",
   "execution_count": null,
   "metadata": {
    "colab": {
     "base_uri": "https://localhost:8080/"
    },
    "executionInfo": {
     "elapsed": 236,
     "status": "ok",
     "timestamp": 1677962881815,
     "user": {
      "displayName": "Radim Jedlička",
      "userId": "11502208915568361358"
     },
     "user_tz": -60
    },
    "id": "QdZ7nnkuX-J4",
    "outputId": "83aae73d-5149-44fa-ea51-4ede874ddc57"
   },
   "outputs": [],
   "source": [
    "with open(txt_soubor, mode=\"r\", encoding=\"utf-8\") as txt:\n",
    "    obsah = txt.readlines()\n",
    "    print(f\"SOUBOR: {txt_soubor} NACTEN\")"
   ]
  },
  {
   "cell_type": "code",
   "execution_count": null,
   "metadata": {
    "colab": {
     "base_uri": "https://localhost:8080/"
    },
    "executionInfo": {
     "elapsed": 8,
     "status": "ok",
     "timestamp": 1677962997170,
     "user": {
      "displayName": "Radim Jedlička",
      "userId": "11502208915568361358"
     },
     "user_tz": -60
    },
    "id": "uM2zZep0Yzgt",
    "outputId": "fddd143a-a363-4f31-a32e-c31872dc44b9"
   },
   "outputs": [],
   "source": [
    "print(obsah)"
   ]
  },
  {
   "cell_type": "markdown",
   "metadata": {
    "id": "kUyMdPNWZO3f"
   },
   "source": [
    "<br>\n",
    "\n",
    "## **Napiš funkci pro čtení souboru**\n"
   ]
  },
  {
   "cell_type": "markdown",
   "metadata": {
    "id": "CMur4XtPZXmj"
   },
   "source": [
    "### <font color=ligtblue><b> 💻 Kód:</b>"
   ]
  },
  {
   "cell_type": "code",
   "execution_count": null,
   "metadata": {
    "executionInfo": {
     "elapsed": 218,
     "status": "ok",
     "timestamp": 1677963154030,
     "user": {
      "displayName": "Radim Jedlička",
      "userId": "11502208915568361358"
     },
     "user_tz": -60
    },
    "id": "u5MaWghDZWhT"
   },
   "outputs": [],
   "source": [
    "def nacti_txt_soubor(jmeno: str, enc: str = \"utf-8\") -> list:\n",
    "    with open(jmeno, mode=\"r\", encoding=enc) as txt_s:\n",
    "        return txt_s.readlines()"
   ]
  },
  {
   "cell_type": "code",
   "execution_count": null,
   "metadata": {
    "colab": {
     "base_uri": "https://localhost:8080/"
    },
    "executionInfo": {
     "elapsed": 358,
     "status": "ok",
     "timestamp": 1677963184416,
     "user": {
      "displayName": "Radim Jedlička",
      "userId": "11502208915568361358"
     },
     "user_tz": -60
    },
    "id": "8ioShMiCZUUS",
    "outputId": "49d2ce1b-02f8-4df9-b01b-383906059d43"
   },
   "outputs": [],
   "source": [
    "print(nacti_txt_soubor(txt_soubor))"
   ]
  },
  {
   "cell_type": "markdown",
   "metadata": {
    "id": "vEuOtqssZvov"
   },
   "source": [
    "<br>\n",
    "\n",
    "## **Ošetři špatně zadaný soubor**\n",
    "\n",
    "Problém může nastat, pokud uživatel **nezadá platné jméno** textového souboru.\n"
   ]
  },
  {
   "cell_type": "markdown",
   "metadata": {
    "id": "g48MBMsMalt4"
   },
   "source": [
    "### <font color=red><b>Očekáváme:</b>"
   ]
  },
  {
   "cell_type": "markdown",
   "metadata": {
    "id": "JtwkNsY9bJZD"
   },
   "source": [
    "```\n",
    "SOUBOR: counries_and_cities.txt NENALEZEN!\n",
    "ADRESAR: /content\n",
    "OBSAH ADR.: ['.config', 'sample_data']\n",
    "```"
   ]
  },
  {
   "cell_type": "markdown",
   "metadata": {
    "id": "S0O_dU99anBy"
   },
   "source": [
    "### <font color=ligtblue><b> 💻 Kód:</b>"
   ]
  },
  {
   "cell_type": "code",
   "execution_count": null,
   "metadata": {
    "executionInfo": {
     "elapsed": 236,
     "status": "ok",
     "timestamp": 1677963479611,
     "user": {
      "displayName": "Radim Jedlička",
      "userId": "11502208915568361358"
     },
     "user_tz": -60
    },
    "id": "-4NkKOefamBF"
   },
   "outputs": [],
   "source": [
    "import os\n",
    "\n",
    "def nacti_txt_soubor(txt_soubor: str) -> list:\n",
    "    # try/except\n",
    "    try:\n",
    "        with open(txt_soubor, mode=\"r\", encoding=\"utf-8\") as txt:\n",
    "            return txt.readlines()\n",
    "\n",
    "    except FileNotFoundError:\n",
    "        print(f\"SOUBOR: {txt_soubor} NENALEZEN!\",\n",
    "              f\"ADRESAR: {os.getcwd()}\",\n",
    "              f\"OBSAH ADR.: {os.listdir()}\", sep=\"\\n\")"
   ]
  },
  {
   "cell_type": "code",
   "execution_count": null,
   "metadata": {
    "colab": {
     "base_uri": "https://localhost:8080/"
    },
    "executionInfo": {
     "elapsed": 255,
     "status": "ok",
     "timestamp": 1677963496695,
     "user": {
      "displayName": "Radim Jedlička",
      "userId": "11502208915568361358"
     },
     "user_tz": -60
    },
    "id": "CUfDStjEawaI",
    "outputId": "b9b71177-d99a-4f8b-ac84-b354ce5572aa"
   },
   "outputs": [],
   "source": [
    "nacti_txt_soubor(\"counries_and_cities.txt\")"
   ]
  },
  {
   "cell_type": "code",
   "execution_count": null,
   "metadata": {
    "id": "Kx2KqAE5a90Y"
   },
   "outputs": [],
   "source": [
    "# alternativa k try/except\n",
    "def nacti_txt_soubor(txt_soubor: str) -> list:\n",
    "    # if/else\n",
    "    if os.path.isfile(txt_soubor):  # False\n",
    "        with open(txt_soubor, mode=\"r\", encoding=\"utf-8\") as txt:\n",
    "            return txt.readlines()\n",
    "    else:\n",
    "        print(f\"SOUBOR: {txt_soubor} NENALEZEN!\",\n",
    "              f\"ADRESAR: {os.getcwd()}\",\n",
    "              f\"OBSAH ADR.: {os.listdir()}\", sep=\"\\n\")"
   ]
  },
  {
   "cell_type": "markdown",
   "metadata": {
    "id": "uWxjX5Iebgxo"
   },
   "source": [
    "<br>\n",
    "\n",
    "## **Doplň `else` větev**\n"
   ]
  },
  {
   "cell_type": "markdown",
   "metadata": {
    "id": "aofLwFvgb0zI"
   },
   "source": [
    "### <font color=ligtblue><b> 💻 Kód:</b>"
   ]
  },
  {
   "cell_type": "code",
   "execution_count": null,
   "metadata": {
    "executionInfo": {
     "elapsed": 214,
     "status": "ok",
     "timestamp": 1677963784254,
     "user": {
      "displayName": "Radim Jedlička",
      "userId": "11502208915568361358"
     },
     "user_tz": -60
    },
    "id": "723OX_mZbgm4"
   },
   "outputs": [],
   "source": [
    "def nacti_txt_soubor(jmeno: str, enc: str = \"utf-8\") -> list:\n",
    "    try:\n",
    "        with open(jmeno, mode=\"r\", encoding=enc) as txt_s:\n",
    "            obsah = txt_s.readlines()\n",
    "\n",
    "    except FileNotFoundError:\n",
    "        print(\n",
    "            f\"SOUBOR: {jmeno} NENALEZEN!\",\n",
    "            f\"\\nADRESAR: {os.getcwd()}\",\n",
    "            f\"\\nOBSAHUJE: {os.listdir()}\", sep=\"\\n\"\n",
    "        )\n",
    "    else:\n",
    "        print(f\"SOUBOR: {jmeno} NACTEN\")\n",
    "        return obsah"
   ]
  },
  {
   "cell_type": "code",
   "execution_count": null,
   "metadata": {
    "id": "tYmJKys7b4jn"
   },
   "outputs": [],
   "source": [
    "print(nacti_txt_soubor(txt_soubor))"
   ]
  },
  {
   "cell_type": "markdown",
   "metadata": {
    "id": "Ar93oN0dcPLO"
   },
   "source": [
    "<br>\n",
    "\n",
    "## **Doplň `finally` větev**\n"
   ]
  },
  {
   "cell_type": "markdown",
   "metadata": {
    "id": "m4P2aRqScRsd"
   },
   "source": [
    "### <font color=ligtblue><b> 💻 Kód:</b>"
   ]
  },
  {
   "cell_type": "code",
   "execution_count": null,
   "metadata": {
    "executionInfo": {
     "elapsed": 215,
     "status": "ok",
     "timestamp": 1677963902526,
     "user": {
      "displayName": "Radim Jedlička",
      "userId": "11502208915568361358"
     },
     "user_tz": -60
    },
    "id": "Pizg1FyTcQkh"
   },
   "outputs": [],
   "source": [
    "def nacti_txt_soubor(jmeno: str, enc: str = \"utf-8\") -> list:\n",
    "    try:\n",
    "        with open(jmeno, mode=\"r\", encoding=enc) as txt_s:\n",
    "            obsah = txt_s.readlines()\n",
    "\n",
    "    except FileNotFoundError:\n",
    "        print(\n",
    "            f\"SOUBOR: {jmeno} NENALEZEN!\",\n",
    "            f\"\\nADRESAR: {os.getcwd()}\",\n",
    "            f\"\\nOBSAHUJE: {os.listdir()}\", sep=\"\\n\"\n",
    "        )\n",
    "    else:\n",
    "        print(f\"SOUBOR: {jmeno} NACTEN\")\n",
    "        return obsah\n",
    "    finally:\n",
    "        print(f\"UKONCUJI FUNKCI: nacti_txt_soubor\\n\")"
   ]
  },
  {
   "cell_type": "code",
   "execution_count": null,
   "metadata": {
    "id": "kFU90sP4cVB5"
   },
   "outputs": [],
   "source": [
    "print(nacti_txt_soubor(txt_soubor))"
   ]
  },
  {
   "cell_type": "markdown",
   "metadata": {
    "id": "k5-KLXQsdQfP"
   },
   "source": [
    "<br>\n",
    "\n",
    "## **Iterace přes seznam**"
   ]
  },
  {
   "cell_type": "code",
   "execution_count": null,
   "metadata": {
    "executionInfo": {
     "elapsed": 259,
     "status": "ok",
     "timestamp": 1677964986021,
     "user": {
      "displayName": "Radim Jedlička",
      "userId": "11502208915568361358"
     },
     "user_tz": -60
    },
    "id": "1AEwazHodSN7"
   },
   "outputs": [],
   "source": [
    "def zformatuj_nazvy():\n",
    "    for udaj in nacti_txt_soubor(txt_soubor):\n",
    "        print(f\"{udaj=}\")"
   ]
  },
  {
   "cell_type": "markdown",
   "metadata": {
    "id": "8XbzJ9_bdaW7"
   },
   "source": [
    "Pokud narazíme na náš pomocný string `quit`, ukončíme proces. V opačném případě chceme rozdělit `udaj` na `zeme` + `mesto`:"
   ]
  },
  {
   "cell_type": "code",
   "execution_count": null,
   "metadata": {
    "executionInfo": {
     "elapsed": 224,
     "status": "ok",
     "timestamp": 1677965073853,
     "user": {
      "displayName": "Radim Jedlička",
      "userId": "11502208915568361358"
     },
     "user_tz": -60
    },
    "id": "rx_Y9wJqdSvE"
   },
   "outputs": [],
   "source": [
    "def zformatuj_nazvy():\n",
    "    for udaj in nacti_txt_soubor(txt_soubor):\n",
    "        if \"quit\" in udaj.lower():\n",
    "            break\n",
    "        else:\n",
    "            zeme, mesto = udaj.split(\", \")\n",
    "            print(f\"{zeme=:<20} {mesto=}\")"
   ]
  },
  {
   "cell_type": "code",
   "execution_count": null,
   "metadata": {
    "colab": {
     "base_uri": "https://localhost:8080/"
    },
    "executionInfo": {
     "elapsed": 274,
     "status": "ok",
     "timestamp": 1677965076491,
     "user": {
      "displayName": "Radim Jedlička",
      "userId": "11502208915568361358"
     },
     "user_tz": -60
    },
    "id": "rX_6xJmPddM3",
    "outputId": "ff43a5d7-93af-4634-bfa5-d75f028126d6"
   },
   "outputs": [],
   "source": [
    "zeme, mesto = \"ZIMBABWE, HARARE\".split(\", \")\n",
    "print(\"ZIMBABWE, HARARE\".title())"
   ]
  },
  {
   "cell_type": "markdown",
   "metadata": {
    "id": "-OnUNcM7do1z"
   },
   "source": [
    "Údaje nejprve pomocí vhodné metody ošetříme a pak převedeme na zadaný formát:"
   ]
  },
  {
   "cell_type": "code",
   "execution_count": null,
   "metadata": {
    "executionInfo": {
     "elapsed": 234,
     "status": "ok",
     "timestamp": 1677965122551,
     "user": {
      "displayName": "Radim Jedlička",
      "userId": "11502208915568361358"
     },
     "user_tz": -60
    },
    "id": "nOvWecGfdnek"
   },
   "outputs": [],
   "source": [
    "def zformatuj_nazvy():\n",
    "    for udaj in nacti_txt_soubor(txt_soubor):\n",
    "        if \"quit\" in udaj.lower():\n",
    "            break\n",
    "        else:\n",
    "            zeme, mesto = udaj.split(\", \")\n",
    "            zeme = zeme.title()\n",
    "            mesto = mesto.strip().title()\n",
    "            print(f\"{zeme=:<20} {mesto=}\")"
   ]
  },
  {
   "cell_type": "markdown",
   "metadata": {
    "id": "uAr5mOzRdyHl"
   },
   "source": [
    "*pozn.* aktuálně kód nefunguje tak jak by měl. Poté, co převede `Dominican Republic` a `Santo Domingo` skončí a nepokračuje dál."
   ]
  },
  {
   "cell_type": "code",
   "execution_count": null,
   "metadata": {
    "id": "PnUt28m8edAd"
   },
   "outputs": [],
   "source": [
    "zformatuj_nazvy()"
   ]
  },
  {
   "cell_type": "markdown",
   "metadata": {
    "id": "-TOxcWpVhekR"
   },
   "source": [
    "<br>\n",
    "\n",
    "## **Domácí úkol**\n",
    "\n",
    "1. debujte a najděte problém\n",
    "2. opravte problém\n",
    "3. ošetřete funkci zformatuj_nazvy pomocí `try/except` tak, aby program nepadal při špatném vstupu souboru"
   ]
  },
  {
   "cell_type": "code",
   "execution_count": null,
   "metadata": {
    "id": "-3LB7muCh2iR"
   },
   "outputs": [],
   "source": []
  }
 ],
 "metadata": {
  "colab": {
   "authorship_tag": "ABX9TyMIJejWZ5JesklExOXRPV0w",
   "provenance": []
  },
  "kernelspec": {
   "display_name": "Python 3 (ipykernel)",
   "language": "python",
   "name": "python3"
  },
  "language_info": {
   "codemirror_mode": {
    "name": "ipython",
    "version": 3
   },
   "file_extension": ".py",
   "mimetype": "text/x-python",
   "name": "python",
   "nbconvert_exporter": "python",
   "pygments_lexer": "ipython3",
   "version": "3.10.0"
  }
 },
 "nbformat": 4,
 "nbformat_minor": 1
}
