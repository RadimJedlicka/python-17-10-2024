{
  "nbformat": 4,
  "nbformat_minor": 0,
  "metadata": {
    "colab": {
      "provenance": []
    },
    "kernelspec": {
      "name": "python3",
      "display_name": "Python 3"
    },
    "language_info": {
      "name": "python"
    }
  },
  "cells": [
    {
      "cell_type": "markdown",
      "source": [
        "<h6 align=right> 🐍 Python akademie - lekce 10 - DD.MM.YYYY</h6>"
      ],
      "metadata": {
        "id": "2TBPRY89YaAS"
      }
    },
    {
      "cell_type": "markdown",
      "source": [
        "<br>\n",
        "\n",
        "# <h1 align=center><font color=black size=24><b> 10_00: Opakování po deváté lekci!</font></h1>\n",
        "\n",
        "<br>\n",
        "\n",
        "---"
      ],
      "metadata": {
        "id": "DV_wKUc8YcIm"
      }
    },
    {
      "cell_type": "markdown",
      "source": [
        "<br>\n",
        "\n",
        "### **Ukázka #01**\n",
        "\n",
        "Zapiš proces práce s textovými soubory: zápis, čtení"
      ],
      "metadata": {
        "id": "3Hd8Ter9Yiqr"
      }
    },
    {
      "cell_type": "markdown",
      "source": [
        "<details>\n",
        "  <summary>❓Vysvětlení ❓</summary>\n",
        "\n",
        "```python\n",
        "file = open('testovaci.txt', mode='w', encoding='UTF-8')\n",
        "\n",
        "radek1 = '1. radek\\n'\n",
        "radek2 = '2. radek\\n'\n",
        "radek3 = '3. radek\\n'\n",
        "\n",
        "file.write(radek1)\n",
        "file.write(radek2)\n",
        "file.write(radek3)\n",
        "\n",
        "file.close()\n",
        "\n",
        "file = open('testovaci.txt', mode='a', encoding='UTF-8')\n",
        "\n",
        "file.write('4. radek\\n')\n",
        "\n",
        "file.close()\n",
        "\n",
        "file = open('testovaci.txt', mode='r', encoding='UTF-8')\n",
        "\n",
        "file.read()\n",
        "\n",
        "for radek in file.readlines():\n",
        "    print(radek)\n",
        "\n",
        "file.readline()\n",
        "\n",
        "file.seek(0)\n",
        "\n",
        "\n",
        "```\n",
        "\n",
        "\n",
        "</details>\n",
        "\n",
        "---"
      ],
      "metadata": {
        "id": "TyFY_5_PY-ms"
      }
    },
    {
      "cell_type": "markdown",
      "source": [
        "<br>\n",
        "\n",
        "### **Ukázka #02**\n",
        "\n",
        "Zapiš stejný postup pomocí kontextového manažera"
      ],
      "metadata": {
        "id": "KdeCtJV5Yw2C"
      }
    },
    {
      "cell_type": "markdown",
      "source": [
        "<details>\n",
        "  <summary>❓Vysvětlení ❓</summary>\n",
        "\n",
        "```python\n",
        "with open('testovaci.txt', mode='a', encoding='UTF-8') as file:\n",
        "    x = file.write('5. radek\\n')\n",
        "\n",
        "print(x)\n",
        "\n",
        "with open('testovaci.txt', mode='r+', encoding='UTF-8') as file:\n",
        "    # čtení souboru\n",
        "    obsah = file.read()\n",
        "    \n",
        "    # zápis do souboru\n",
        "    file.write('6. radek\\n')\n",
        "\n",
        "\n",
        "```\n",
        "\n",
        "\n",
        "</details>\n",
        "\n",
        "---"
      ],
      "metadata": {
        "id": "MpMtfb19ZMeE"
      }
    },
    {
      "cell_type": "code",
      "source": [],
      "metadata": {
        "id": "DFnxorSiaFuZ"
      },
      "execution_count": null,
      "outputs": []
    },
    {
      "cell_type": "markdown",
      "source": [
        "<br>\n",
        "\n",
        "### **Ukázka #03**\n",
        "\n",
        "Jak změnit obsah .txt souboru:"
      ],
      "metadata": {
        "id": "uPSnjwOYZIfM"
      }
    },
    {
      "cell_type": "markdown",
      "source": [
        "<details>\n",
        "  <summary>❓Vysvětlení ❓</summary>\n",
        "\n",
        "```python\n",
        "with open('testovaci.txt', 'r+') as f:\n",
        "    # čtení souboru\n",
        "    obsah_souboru = f.read()\n",
        "\n",
        "    # vyhledání a nahrazení textu\n",
        "    novy_obsah = obsah_souboru.replace('6', '99')\n",
        "\n",
        "    # nastavení pozice na začátek souboru a zápis nového obsahu\n",
        "    f.seek(0)\n",
        "    f.write(novy_obsah)\n",
        "\n",
        "# po skončení bloku with se soubor automaticky uzavře\n",
        "```\n",
        "\n",
        "\n",
        "</details>\n",
        "\n",
        "---"
      ],
      "metadata": {
        "id": "etBlm8M9ZNGw"
      }
    },
    {
      "cell_type": "code",
      "source": [],
      "metadata": {
        "id": "IKbj9i63bxbS"
      },
      "execution_count": null,
      "outputs": []
    },
    {
      "cell_type": "markdown",
      "source": [
        "<br>\n",
        "\n",
        "### **Ukázka #04**\n",
        "\n",
        "Naformátuj string:\n",
        "```\n",
        "|  DATUM   | BODY  |\n",
        "|11.11.2010|  135  |\n",
        "|11.11.2015|  130  |\n",
        "|11.11.2020|  133  |\n",
        "```\n"
      ],
      "metadata": {
        "id": "GlpFBmVPZPZU"
      }
    },
    {
      "cell_type": "code",
      "execution_count": null,
      "metadata": {
        "id": "ivAz3TdtYTrb"
      },
      "outputs": [],
      "source": [
        "vysledky = {\n",
        "    \"11.11.2010\": 135,\n",
        "    \"11.11.2015\": 130,\n",
        "    \"11.11.2020\": 133,\n",
        "}"
      ]
    },
    {
      "cell_type": "markdown",
      "source": [
        "<details>\n",
        "  <summary>❓Vysvětlení ❓</summary>\n",
        "Možností jak naformátovat string je několik. Nejrychlejší je ovšem varianta pomocí formatovaného stringu (tedy f-string).\n",
        "    \n",
        "```python\n",
        "for index, data in enumerate(vysledky.items()):\n",
        "    if index == 0:\n",
        "        print(f\"|{'DATUM': ^10}| {'BODY': ^5} |\")\n",
        "    print(f\"|{data[0]:<10}| {data[1]:^5} |\")\n",
        "```\n",
        "</details>\n",
        "\n",
        "---"
      ],
      "metadata": {
        "id": "bFeZIdT8ZgFQ"
      }
    }
  ]
}