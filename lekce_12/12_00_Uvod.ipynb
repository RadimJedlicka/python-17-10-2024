{
 "cells": [
  {
   "cell_type": "markdown",
   "metadata": {
    "id": "Ij7r3U7d5MgR"
   },
   "source": [
    "<h6 align=right> 🐍 Python akademie - lekce 12 - 16.01.2024</h6>\n",
    "\n",
    "---\n",
    "\n"
   ]
  },
  {
   "cell_type": "markdown",
   "metadata": {
    "id": "j8PzbpHe5Maj"
   },
   "source": [
    "<br>\n",
    "\n",
    "# <h1 align=center><font size=24><b> 12_00:  Úvod do webscrapingu</font></h1>\n",
    "\n",
    "<br>\n"
   ]
  },
  {
   "cell_type": "markdown",
   "metadata": {
    "id": "4gyoQuOm592u"
   },
   "source": [
    "Je to obecně pojem, který znamená stažení/extrahování dat z webu.\n",
    "\n",
    "\n",
    "Konkrétně v našem případě (tedy v Pythonu) budeme mluvit o procesu, kdy pomocí našeho zápisu v souboru .py popíšeme interpretu, jaké údaje na webu hledáme, a on je pro nás získá."
   ]
  },
  {
   "cell_type": "markdown",
   "metadata": {
    "id": "xDW8G6oq27NK"
   },
   "source": [
    "### **Praktická aplikace**"
   ]
  },
  {
   "cell_type": "code",
   "execution_count": 7,
   "metadata": {
    "scrolled": false
   },
   "outputs": [
    {
     "name": "stdout",
     "output_type": "stream",
     "text": [
      "Stránka úspěšně načtena!\n",
      "Hlavní nadpisy článků:\n",
      "1. Top student a reprezentant školy, který vyhrožoval spolužákům. Co se ví o útočníkovi ze Slovenska?\n",
      "2. Útok žáka nožem na gymnáziu na Slovensku: Zavraždil dvě ženy\n",
      "3. Z Kremlu unikají Putinovy plány na jednání s Trumpem. Chce bezmocnou Ukrajinu\n",
      "4. Policie vypátrala řidiče, který v Ústí srazil strážnici: Senior měl auto v plechové garáži\n",
      "5. Zemřela herečka Ivana Vondrovicová\n",
      "6. Nový Aston Martin má nejrychlejší střechu na trhu\n",
      "7. Česko předalo Ukrajině houfnici DITA\n",
      "8. Husté sněžení komplikovalo dopravu na východě Moravy\n",
      "9. Nenávist po gestu u Pellegriniho. Škola čelí výhrůžkám, hlídá ji policie\n",
      "10. Přístavba hospody U Kojota. Úřad nenašel povolení, v katastrální mapě není\n",
      "11. Fronty Asadových vojáků si chodí pro odpustky nových vládců\n",
      "12. Lipavský: Kupujeme jejich stíhačky, máme být pro USA v první kategorii zemí\n",
      "13. Rusové donutili Ukrajince u Pokrovsku zastavit pilíř ekonomiky\n",
      "14. Inflace pomalu naráží na dno. Co to znamená pro vaši hypotéku\n",
      "15. TMBK: Do hořícího L.A. zamířili jezdci apokalypsy z hnutí ANO. Proč?\n",
      "16. „Konečně shořela hospoda u Kojota“, napsal na síť, teď je v hledáčku policie\n",
      "17. Mel Gibson hledí na zkázu svého domova: Z rezidence za 355 milionů je hromada popela, která by se „vešla do urny“\n",
      "18. Erotické dusno na večírku pánského magazínu: Myslivcové a Sharlotě se do očí nikdo nedíval. A kdo ukázal spodní prádlo?\n",
      "19. Náhle zemřel moderátor Rádia Kiss Jiří Vondra. Bylo mu pouhých 40 let\n",
      "20. HOKEJ ONLINE: Videomomenty z utkání Pardubice – Litvínov\n",
      "21. Elitní česká oštěpařka ukončila kariéru. Teď poznává jiný stres\n",
      "22. Šťastná novinka, česká reprezentantka čeká prvního potomka! Po porodu plánuje návrat\n",
      "23. První náraz. Kinský dvakrát inkasoval, Tottenham prohrál velké derby na Arsenalu\n",
      "24. Herečka Kristýna Janáčková poprvé po rozchodu po 15 letech: Podporu našla u rodiny. Dokážu si se vším poradit, říkáSuper\n",
      "25. Horoskop o hubnutí: Tři znamení zvěrokruhu, kterým se v roce 2025 povede jít s váhou dolůHoroskopy s Markétou\n",
      "26. Opilý cizinec ujížděl od nehody v centru Brna a srazil chodce. Před policií se schoval v doměNovinky.cz: Krimi\n",
      "27. Jak zaparkovat popředu. Podívejte se na jednoduchý návodUčíme vás řídit\n",
      "28. Jaká je vaše módní superschopnost? Zimní móda podle znamení: Tohle noste a budete vždy vypadat skvěle!\n",
      "29. Bude jim 80 a vypadají fantasticky: Susan Sarandon, Diane Keaton i Helen Mirren. Jde to i bez plastik!\n",
      "30. Týdenní horoskop: Berani se vrátí do dětství, Blíženci stabilizují finance a Ryby zabodují v lásce\n",
      "31. Snížit krevní tlak i bez léků? Takhle to dokážete! Sedm návyků, které chrání před infarktem i mrtvicí\n",
      "32. Další KO pro evropský autoprůmysl? Kolem nechtěných továren VW krouží hladoví Číňané\n",
      "33. Zájem o laciné spalováky neklesá, jedno takové auto se stalo nejprodávanějším v Evropě\n",
      "34. Čínský Dongfeng se zbláznil! Tučná sleva 700 000 Kč a bez podmínek. Luxusní SUV koupíte za hubičku, ale musíte hned\n",
      "35. Analýza: Matěj Jurásek v Norwich. Do čeho český talent v Championship vstupuje?\n",
      "36. VtipPremiér Fiala si plete foťák s telefonemPolitické Glosy\n",
      "37. Zaniklá obec Skoky byla českými Lurdami. Poslední obyvatelka tragicky zahynula roku 1982 ve studniLina Klimarová\n",
      "38. Seriál České televize je tak nechutně vulgární, že jsem musela naše puberťáky zahnat do posteleZuzi Bémová\n",
      "39. Tragické detaily náhlé smrti moderátora Radia Kiss. Vondrovo tělo objevili u něj v bytě\n",
      "40. Čínský sen Tchaj-wanu skončil. Nahradila ho noční můra v podobě vojenské invaze\n",
      "41. Tragické detaily náhlé smrti moderátora Radia Kiss. Vondrovo tělo objevili u něj v bytě\n",
      "42. Česká politička dováděla nahatá na veřejnosti. Lidé jen zírali s otevřenou pusou\n",
      "43. Udělal to, co mu nařídil vůdce. Severokorejský voják vlákal Ukrajince do pasti\n",
      "44. Pozor na magnetky na ledničce! Sem je raději nedávejte, radí elektrotechnik, jinak jsou neškodné\n",
      "45. Nejvyšší stavba v Česku je vyšší než Eiffelova věž. Měří 355 metrů, má výtah a leží u Prahy\n",
      "46. Procházka se potkal na recepci s Hillem. UFC zveřejnila video, trvalo 18 sekund\n",
      "47. V Česku za 800, v Německu za 100. Chemnitz nabízí těžko uvěřitelné ceny ovoce\n",
      "48. Ligová premiéra Kinského? Legenda se opřela do Čecha, fanoušci ho bránili\n",
      "49. Jiří Hlavenka: „Hoax“ s obřími fény nevydržel ani týden\n",
      "50. Pevné břicho za pár dní i po 50: Nemusíte do fitka, stačí, když se doma denně položíte na zem\n",
      "51. Zítra v Ulici: Ve čtvrtek z toho Soňa zase vyvázne. Studenty bude vydírat a uspěje\n",
      "52. Tvarožník podle Haliny Pawlovské je zcela bez mouky, krásně vláčný a díky jedné surovině i příjemně svěží\n",
      "53. Na silnici 374 u obce Doubravice nad Svitavou okres Blansko , délka 367m: Nehody\n",
      "54. Náhle zemřel Jirka Vondra. Moderátorovi Rádia Kiss bylo pouhých 40 let\n",
      "55. Babiš zase ječel. Ústavní soud prý zruší volby, když vyhraje ANO, protože Schillerová byla za hranolku\n",
      "56. „Jsem na sebe naštvaná a syna už asi sdílet nebudu vůbec,“ říká Arichteva\n",
      "57. Policie vypátrala řidiče, který v Ústí srazil strážnici: Senior měl auto v plechové garáži\n",
      "58. Příběh neuvěřitelného bydlení: Po smrti rodičů si opravil ruiny starého kostela\n",
      "59. Nový bungalov do L (4kk) lze pořídit za 3,6 mil. na klíč. Už postavený ho vyložili z kamionu přímo na pozemek\n",
      "60. „Platíme čtyřikrát víc než za plyn a přitom mrzneme“, varuje rodina před pořízením tepelného čerpadla\n",
      "61. Moderátor Ivo Šmoldas potřebuje operaci. Musí mu vzít ledviny\n",
      "62. Opilý cizinec ujížděl od nehody v centru Brna a srazil chodce. Před policií se schoval v domě\n",
      "63. Cena tak nízká, že ji nikdo nečekal. Největší Dacii Bigster už objednáte i v Česku\n",
      "64. LA v plamenech: celebrity jako skromní hrdinové i nečekaní sobci\n",
      "65. VtipJiránkův fór: Medvěd nemůže usnout\n",
      "66. Nevýhodný kurz DCC na kartě umí blokovat další banka. Dvě to odmítají\n",
      "67. Pozor na závadné ořechy, mléko i semínka! Řetězce je stahují z regálů a vrátí vám za ně peníze\n",
      "68. Krušnohorské pastelkovníky dobývají trh. Věra Provazníková šije originály\n",
      "69. Noční cestování vlakem zažívá boom. Nové lůžkové spoje propojují ta nejkrásnější evropská města\n",
      "70. Zemřel oblíbený moderátor Radia Kiss Jirka Vondra. Zůstane v našich srdcích, píšou kolegové\n",
      "71. Dalibor Martínek: Úřad prezidenta je zbytečný. A teď ještě Pavel naštval důchodce\n",
      "72. Všem známý chlapec z Kinder čokolád. Žádné provize z prodeje jsem neměl, ale ničeho nelituji, říká Matteo Farneti\n",
      "73. D6, km 15.7 až 14.4, ve směru Praha: Dopravní situace\n",
      "74. Norbert Lichý býval v mládí hubený jak proutek, pak začal přibírat. Večer po práci vyjedl ledničku\n",
      "75. Nenecháme se převálcovat Západem. Rusové mluví o totální mobilizaci\n",
      "76. Mickey Rourke: Nepovedené plastiky změnily někdejšího holywoodského krasavce v kreaturu. Dnes svých rozhodnutí lituje\n",
      "77. Praktici posílají 65leté muže na nový screening výdutě břišní aorty\n",
      "78. Kvíz: Uhodněte správně odpovědi na dětské hádanky. Některé možná dokážou vaše mozkové závity potrápit\n",
      "79. Blíží se promlčení vraždy Františka Mrázka. Jiří Kajínek nastínil odhalení pachatele\n",
      "80. Uhynulý kůň a další zvířata na pokraji smrti, situace šokovala i zkušeného zvířecího záchranáře\n",
      "81. Hodnotu nemovitosti lze zvýšit o více než milion korun. Jednoduchý princip uplatňuje stále více Čechů\n",
      "82. Záběry vlaků pro všechny fanoušky. Pokochejte se průjezdem stanice Praha-Vršovice\n",
      "83. Svět bouří z českého kluka s mulletem na hlavě. To je skandální, řval komentátor\n",
      "84. Rok 2025 začíná zostra: Tou nejsvůdnější kombinací budiž kožená motorkářská bunda a rozevláté boho šaty\n",
      "85. Mladá dámo, zavolejte si ho. Nebojte, on je hodný aneb Lidská neohleduplnost v akci\n",
      "86. Kvíz: Najděte rostlinu ukrytou ve větě. Není to vůbec snadné, tak schválně, zda uspějete\n",
      "87. Menší japonská hra svým arzenálem možností zahanbuje megalomanské selhání Ubisoftu\n",
      "88. Měšťák. Opuštěná restaurace má konečně nového provozovatele\n",
      "89. Kvíz: Jak dobře znáte filmy s Janem Werichem? Mladší generace může mít problém\n",
      "90. Počasí\n",
      "91. Obytnévozy-levně.cz\n"
     ]
    }
   ],
   "source": [
    "import requests\n",
    "from bs4 import BeautifulSoup\n",
    "\n",
    "# 1. Stažení obsahu stránky\n",
    "url = \"https://www.seznam.cz\"\n",
    "response = requests.get(url)\n",
    "\n",
    "# Kontrola, jestli požadavek proběhl úspěšně\n",
    "if response.status_code == 200:\n",
    "    print(\"Stránka úspěšně načtena!\")\n",
    "else:\n",
    "    print(f\"Chyba při načítání stránky: {response.status_code}\")\n",
    "    exit()\n",
    "\n",
    "# 2. Parsing HTML obsahu pomocí BeautifulSoup\n",
    "soup = BeautifulSoup(response.text, 'html.parser')\n",
    "\n",
    "# 3. Hledání hlavních nadpisů článků (zde předpokládáme, že jsou v tagu <h3>)\n",
    "headlines = soup.find_all('h3')\n",
    "\n",
    "# 4. Výpis všech nadpisů\n",
    "if headlines:\n",
    "    print(\"Hlavní nadpisy článků:\")\n",
    "    for index, headline in enumerate(headlines, start=1):\n",
    "        print(f\"{index}. {headline.get_text(strip=True)}\")\n",
    "else:\n",
    "    print(\"Nenalezeny žádné nadpisy článků.\")"
   ]
  }
 ],
 "metadata": {
  "colab": {
   "authorship_tag": "ABX9TyOPfvGPfqLEg+a/rI/iVpfB",
   "provenance": []
  },
  "kernelspec": {
   "display_name": "Python 3 (ipykernel)",
   "language": "python",
   "name": "python3"
  },
  "language_info": {
   "codemirror_mode": {
    "name": "ipython",
    "version": 3
   },
   "file_extension": ".py",
   "mimetype": "text/x-python",
   "name": "python",
   "nbconvert_exporter": "python",
   "pygments_lexer": "ipython3",
   "version": "3.10.0"
  }
 },
 "nbformat": 4,
 "nbformat_minor": 1
}
