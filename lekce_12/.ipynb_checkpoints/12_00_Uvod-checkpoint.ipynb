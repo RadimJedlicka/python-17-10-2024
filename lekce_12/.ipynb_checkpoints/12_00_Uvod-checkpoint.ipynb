{
 "cells": [
  {
   "cell_type": "markdown",
   "metadata": {
    "id": "Ij7r3U7d5MgR"
   },
   "source": [
    "<h6 align=right> 🐍 Python akademie - lekce 12 - 16.01.2024</h6>\n",
    "\n",
    "---\n",
    "\n"
   ]
  },
  {
   "cell_type": "markdown",
   "metadata": {
    "id": "j8PzbpHe5Maj"
   },
   "source": [
    "<br>\n",
    "\n",
    "# <h1 align=center><font size=24><b> 12_00:  Úvod do webscrapingu</font></h1>\n",
    "\n",
    "<br>\n"
   ]
  },
  {
   "cell_type": "markdown",
   "metadata": {
    "id": "4gyoQuOm592u"
   },
   "source": [
    "Je to obecně pojem, který znamená stažení/extrahování dat z webu.\n",
    "\n",
    "\n",
    "Konkrétně v našem případě (tedy v Pythonu) budeme mluvit o procesu, kdy pomocí našeho zápisu v souboru .py popíšeme interpretu, jaké údaje na webu hledáme, a on je pro nás získá."
   ]
  },
  {
   "cell_type": "markdown",
   "metadata": {
    "id": "xDW8G6oq27NK"
   },
   "source": [
    "### **Praktická aplikace**"
   ]
  },
  {
   "cell_type": "code",
   "execution_count": 3,
   "metadata": {
    "id": "1t954MUV27NM"
   },
   "outputs": [],
   "source": [
    "# rychlo-ukázka\n",
    "import requests\n",
    "from bs4 import BeautifulSoup\n",
    "\n",
    "url = \"https://www.idnes.cz/\"\n",
    "\n",
    "odpoved_serveru = requests.get(url)\n",
    "\n",
    "rozdelene_html = BeautifulSoup(odpoved_serveru.content)\n",
    "\n",
    "vsechny_elementy_a = rozdelene_html.find_all(\"a\", {\"class\": \"art-link\"})\n",
    "\n",
    "vysledky = {}\n",
    "\n",
    "for elem_a in vsechny_elementy_a:\n",
    "    vysledky[elem_a[\"href\"]] = elem_a.get_text()\n",
    "\n",
    "for clanek in vysledky:\n",
    "    print(vysledky[clanek].strip())"
   ]
  }
 ],
 "metadata": {
  "colab": {
   "authorship_tag": "ABX9TyOPfvGPfqLEg+a/rI/iVpfB",
   "provenance": []
  },
  "kernelspec": {
   "display_name": "Python 3 (ipykernel)",
   "language": "python",
   "name": "python3"
  },
  "language_info": {
   "codemirror_mode": {
    "name": "ipython",
    "version": 3
   },
   "file_extension": ".py",
   "mimetype": "text/x-python",
   "name": "python",
   "nbconvert_exporter": "python",
   "pygments_lexer": "ipython3",
   "version": "3.10.0"
  }
 },
 "nbformat": 4,
 "nbformat_minor": 1
}
