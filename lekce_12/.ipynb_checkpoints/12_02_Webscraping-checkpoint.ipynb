{
 "cells": [
  {
   "cell_type": "markdown",
   "metadata": {
    "id": "vCdWH2FAUnjb"
   },
   "source": [
    "<h6 align=right> 🐍 Python akademie - lekce 12 - 16.01.2024</h6>\n",
    "\n",
    "---\n",
    "\n"
   ]
  },
  {
   "cell_type": "markdown",
   "metadata": {
    "id": "Xau0ocPTUpyT"
   },
   "source": [
    "<br>\n",
    "\n",
    "# <h1 align=center><font size=24><b> 12_02: Webscraping</font></h1>\n",
    "\n",
    "<br>\n"
   ]
  },
  {
   "cell_type": "markdown",
   "metadata": {
    "id": "YOcAe-06VIXP"
   },
   "source": [
    "<br>\n",
    "\n",
    "---\n",
    "\n",
    "### **Zajímavé odkazy z této lekce:**\n",
    "\n",
    "* [Oficiální dokumentace pro balíček **requests** (requests.readthedocs.io)](https://requests.readthedocs.io/en/master/)\n",
    "* [Oficiální dokumentace pro balíček **beautifulsoup** (crummy.com)](https://www.crummy.com/software/BeautifulSoup/)\n",
    "\n",
    "---\n",
    "\n",
    "<br>"
   ]
  },
  {
   "cell_type": "markdown",
   "metadata": {
    "id": "frvPrcOAVVYi"
   },
   "source": [
    "<br>\n",
    "\n",
    "## **Průzkum webu**\n",
    "\n",
    "---"
   ]
  },
  {
   "cell_type": "markdown",
   "metadata": {
    "id": "0Qy1jRvxeWkH"
   },
   "source": [
    "\n",
    "Nejprve si společně odpovězme na otázku, pokud byste byli vy majitelé webu, chtěli byste, aby **ostatní uživatele mohli volně pracovat s vašimi daty**?\n",
    "\n",
    "<br>\n",
    "\n",
    "Na takovou otázku je někdy jednoduché odpovědět, jindy ne. Pokud chcete vědět, jestli web umožňuje uživatelům poskytnout konkrétní data. Jednoduše doplňte za konkrétní adresu `robots.txt`.\n",
    "```bash\n",
    "https://www.idnes.cz/robots.txt\n",
    "https://www.airbnb.ca/robots.txt\n",
    "```\n",
    "\n",
    "<br>\n",
    "\n",
    "Tento dokument v podstatě oznamuje všem crawlerům, botům, scraperům, co mohou nebo nemohou procházet-indexovat."
   ]
  },
  {
   "cell_type": "markdown",
   "metadata": {
    "id": "5b9wy5b4enUH"
   },
   "source": [
    "<br>\n",
    "\n",
    "## **Náš cíl**\n",
    "\n",
    "---"
   ]
  },
  {
   "cell_type": "markdown",
   "metadata": {
    "id": "0hlsW7RBelvC"
   },
   "source": [
    "Pojďme se společně podívat na webovou stránku [Heroes3](https://heroes3.cz/hraci/index.php?page=1&order=&razeni=DESC).\n",
    "\n",
    "<br>\n",
    "\n",
    "Pomocí Pythonu se budeme snažit získat (*scrapovat*) tabulku hráčů. Tedy všechna jména v tabulce a k nim příslušné údaje (společně vybereme).\n",
    "\n",
    "<br>\n",
    "\n",
    "Postup vypadá většinou následovně:\n",
    "- Získání HTML souborů z konkrétního webu,\n",
    "- rozdělení dat, pro snadnější vyhledávání,\n",
    "- uložení dat,\n",
    "- možné celý proces zopakovat na další stránce, nebo ukončit.\n",
    "\n",
    "<br>"
   ]
  },
  {
   "cell_type": "markdown",
   "metadata": {
    "id": "qhnthTLefC7T"
   },
   "source": [
    "<br>\n",
    "\n",
    "## **Jaká data máme k dispozici?**\n",
    "\n",
    "---"
   ]
  },
  {
   "cell_type": "markdown",
   "metadata": {
    "id": "xb5MzZY_fLKg"
   },
   "source": [
    "Prvním krokem je vyšetřit, jakým způsobem jsou data, která chceme získat, uložená.\n",
    "\n",
    "<br>\n",
    "\n",
    "Proto v našem prohlížeči použijeme pravé tlačítko myši a vybereme možnost `zobrazit zdrojový kód stránky` (příp. *view source page*).\n",
    "\n",
    "<br>\n",
    "\n",
    "Na následném zdroji uvidíme něco podobného:\n",
    "```html\n",
    "<!DOCTYPE html>\n",
    "<html lang =\"cs\">\n",
    "    <head> ... </head>\n",
    "```\n",
    "\n",
    "Na úplně prvním řádku vidíme, jaký má zdroj formát. Jde o `html`.\n",
    "\n",
    "<br>"
   ]
  },
  {
   "cell_type": "markdown",
   "metadata": {
    "id": "hUj-6eCZfTNe"
   },
   "source": [
    "<br>\n",
    "\n",
    "## **HTML**\n",
    "\n",
    "---"
   ]
  },
  {
   "cell_type": "markdown",
   "metadata": {
    "id": "9Ctq6zZmfXuS"
   },
   "source": [
    "Jde opět o typ textového souboru, který je zorganizovaný pomocí tzv. _tagů/elementů_ (proto ~markup), který nejčastěji tvoří strukturu webových stránek.\n",
    "\n",
    "```html\n",
    "<!-- pouze vzorovy zapis -->\n",
    "<div id=\"menu\">\n",
    "    <li>\n",
    "        <a href=\"http://XXXXXXX.cz\" title=\"\">Homepage</a>\n",
    "    </li>\n",
    "    <li>\n",
    "        ...\n",
    "    </li>\n",
    "</div> \n",
    "```\n",
    "\n",
    "<br>"
   ]
  },
  {
   "cell_type": "markdown",
   "metadata": {
    "id": "y-vXH4yTfc48"
   },
   "source": [
    "### **Tagy**\n",
    "\n",
    "Tagy jsou nápadné svojí hierarchickou strukturou. Nicméně tuto strukturu často vůbec nevnímáme, protože se uchovaná někde na pozadí.\n",
    "\n",
    "<br>\n",
    "\n",
    "Prohlížeče nám často představují až vyrenderovanou grafickou podobu, kterou známe z každodenního používání/vyhledávání.\n",
    "\n",
    "<br>\n",
    "\n",
    "Všimněte si, že některé tagy jsou zarovnané a jiné odsazené.\n",
    "\n",
    "<br>\n",
    "\n",
    "Díky zarovnání můžeme vyšetřit strukturu hierarchie:\n",
    "\n",
    "- **rodičovský** tag `<div>`,\n",
    "- **potomek** tag `<li>`, `<a>`,\n",
    "- **sourozenec**, pokud je několiv potomků společně odsazených\n",
    "\n",
    "<br>\n",
    "\n",
    "### **Atributy**\n",
    "\n",
    "Kromě toho, že tvoří samotnou strukturu html, můžou obsahovat doplňující atributy:\n",
    "\n",
    "```html\n",
    "<div id=\"menu\">\n",
    "    <a href=\"http://XXXXXXX.cz\"></a>\n",
    "<div class=\"sloupec\">\n",
    "```\n",
    "\n",
    "<br>\n",
    "\n",
    "Pomocí těchto atributů můžeme jednotlivé tagy lépe najít. Dále mohou obsahovat různé odkazy, identifikátory, případně text, který hledáme.\n",
    "\n",
    "<br>\n",
    "\n",
    "Formát jaký dodržují je podobný slovníkům v Pythonu:\n",
    "```html\n",
    "<div id=\"menu\">  <!--id(klic)=\"menu\"(hodnota)-->\n",
    "```"
   ]
  },
  {
   "cell_type": "markdown",
   "metadata": {
    "id": "dfQSpFA1j6BI"
   },
   "source": [
    "<br>\n",
    "\n",
    "## **Dotazování na server**\n",
    "\n",
    "---"
   ]
  },
  {
   "cell_type": "markdown",
   "metadata": {
    "id": "dUkAbobAjzCA"
   },
   "source": [
    "Abychom mohli s údaji, které jsou k dispozici na webu, pracovat, je potřeba získat konkretní `html` soubor.\n",
    "\n",
    "<br>\n",
    "\n",
    "Tento proces za nás obyčejně obstarává prohlížeč, protože vzdálený server o příslušné `html` (`css` + `js` soubory) požádá.\n",
    "\n",
    "<br>\n",
    "\n",
    "## **Python odesílá požadavky**\n",
    "\n",
    "---\n",
    "\n",
    "Stejně jako náš prohlížeč, tak můžeme Python instruovat, aby pro nás provedl to stejné, co prohlížeč.\n",
    "\n",
    "<br>\n",
    "\n",
    "Tedy vytvořil požadavek na serveru a obratem získal odpověď obsahující data.\n",
    "\n",
    "<br>\n",
    "\n",
    "Pomocí knihovny `requests` (příp. i dalších jiných) můžeme posílat požadavky typu:\n",
    "1. **post**\n",
    "2. **get**\n",
    "3. **put**\n",
    "\n",
    "<br>\n",
    "\n",
    "Který budete používat vy záleží na webu, se kterým pracujete. Opět si ukážeme přímo v prohlížeči.\n"
   ]
  },
  {
   "cell_type": "markdown",
   "metadata": {
    "id": "A29AW5fhvGRE"
   },
   "source": [
    "<br>\n",
    "\n",
    "## **Requests, funkce `get`**\n",
    "\n",
    "---\n",
    "Nejprve však musíme na žádoucí stránce opět kliknout pravým tlačítkem myši a vybrat v prohlížeči `inspect element`.\n",
    "\n",
    "\n",
    "Následně se objeví na spodu stránky lišta, ve které najdeme v záhlaví možnost `network` (tady sledujeme jakou metodu prohlížeč používá při komunikaci se serverem):\n",
    "\n",
    "V rámci prohlížeče zkontrolujeme, o který typ požadavku jde nyní:"
   ]
  },
  {
   "cell_type": "code",
   "execution_count": 1,
   "metadata": {
    "executionInfo": {
     "elapsed": 12,
     "status": "ok",
     "timestamp": 1684263647072,
     "user": {
      "displayName": "Radim Jedlička",
      "userId": "11502208915568361358"
     },
     "user_tz": -120
    },
    "id": "9dwOgGygvF92"
   },
   "outputs": [],
   "source": [
    "import requests       # nejprve nutne nainstalovat balicek"
   ]
  },
  {
   "cell_type": "code",
   "execution_count": null,
   "metadata": {
    "id": "EeKWQ1qgvr3d"
   },
   "outputs": [],
   "source": [
    "dir(requests)"
   ]
  },
  {
   "cell_type": "code",
   "execution_count": null,
   "metadata": {
    "id": "HoiJ78S9vtnf"
   },
   "outputs": [],
   "source": [
    "help(requests.get)   # zobrazime si napovedu"
   ]
  },
  {
   "cell_type": "markdown",
   "metadata": {
    "id": "_d_yAUiXwCQy"
   },
   "source": [
    "### Vstupní hodnoty:"
   ]
  },
  {
   "cell_type": "code",
   "execution_count": 4,
   "metadata": {
    "executionInfo": {
     "elapsed": 252,
     "status": "ok",
     "timestamp": 1684263860896,
     "user": {
      "displayName": "Radim Jedlička",
      "userId": "11502208915568361358"
     },
     "user_tz": -120
    },
    "id": "R3gjmFpMtbhS"
   },
   "outputs": [],
   "source": [
    "url = \"https://heroes3.cz/hraci/index.php?page=1&order=&razeni=DESC\"\n",
    "vystupni_soubor = \"vystup_tab_1.csv\""
   ]
  },
  {
   "cell_type": "markdown",
   "metadata": {
    "id": "_rifcMezwGZn"
   },
   "source": [
    "### Odeslání požadavku:"
   ]
  },
  {
   "cell_type": "code",
   "execution_count": 5,
   "metadata": {
    "executionInfo": {
     "elapsed": 965,
     "status": "ok",
     "timestamp": 1684263873220,
     "user": {
      "displayName": "Radim Jedlička",
      "userId": "11502208915568361358"
     },
     "user_tz": -120
    },
    "id": "_s5cz86ZteZ5"
   },
   "outputs": [],
   "source": [
    "odp_serveru = requests.get(url)"
   ]
  },
  {
   "cell_type": "code",
   "execution_count": 6,
   "metadata": {
    "colab": {
     "base_uri": "https://localhost:8080/"
    },
    "executionInfo": {
     "elapsed": 274,
     "status": "ok",
     "timestamp": 1684263875813,
     "user": {
      "displayName": "Radim Jedlička",
      "userId": "11502208915568361358"
     },
     "user_tz": -120
    },
    "id": "_a-dHBhCtfh9",
    "outputId": "ea91b36e-58bf-44af-c3cb-fd59fe52b0a2"
   },
   "outputs": [
    {
     "data": {
      "text/plain": [
       "requests.models.Response"
      ]
     },
     "execution_count": 6,
     "metadata": {},
     "output_type": "execute_result"
    }
   ],
   "source": [
    "type(odp_serveru)"
   ]
  },
  {
   "cell_type": "code",
   "execution_count": 7,
   "metadata": {
    "colab": {
     "base_uri": "https://localhost:8080/",
     "height": 109
    },
    "executionInfo": {
     "elapsed": 294,
     "status": "ok",
     "timestamp": 1684263894874,
     "user": {
      "displayName": "Radim Jedlička",
      "userId": "11502208915568361358"
     },
     "user_tz": -120
    },
    "id": "ZjG35dGdtg2Z",
    "outputId": "1d45ddae-5bf5-4a83-960b-13118a11f034"
   },
   "outputs": [
    {
     "data": {
      "application/vnd.google.colaboratory.intrinsic+json": {
       "type": "string"
      },
      "text/plain": [
       "'\\ufeff<!DOCTYPE html>\\n<html lang =\"cs\">\\n<head>\\n<meta charset=\"UTF-8\" />\\n<meta name=\"description\" content=\"Liga a turnaje v počítačové hře Heroes of Might and Magic III.\" />\\n<meta name=\"keywords\" content=\"Heroes of Might and Magic 3, Heroes 3, liga, turnaje, online, hra, HoMaM, HMM, Hamachi, GameRanger\" />\\n<title>Liga Heroes 3 - Hráči</title>\\n<link rel=\"stylesheet\" href=\"https://use.fontawesome.com/releases/v5.0.10/css/all.css\" integrity=\"sha384-+d0P83n9kaQMCwj8F4RJB66tzIwOKmrdb46+porD/OvrJ+37WqIM7UoBtwHO6Nlg\" crossorigin=\"anonymous\"><link rel=\"Stylesheet\" type=\"text/css\" href=\"https://heroes3.cz/_include/css/common.css\" />\\n<link rel=\"Stylesheet\" type=\"text/css\" href=\"https://heroes3.cz/_include/css/menu.css\" />\\n<link rel=\"Stylesheet\" type=\"text/css\" href=\"https://heroes3.cz/_include/css/footer.css\" />\\n<link rel=\"Stylesheet\" type=\"text/css\" href=\"https://heroes3.cz/_include/css/ramecky.css\" />\\n<link rel=\"Stylesheet\" type=\"text/css\" href=\"https://heroes3.cz/_include/css/nova_hra.css\" />\\n<link rel=\"shortcut icon\" href=\"https://heroes3.cz/favicon.png\"  type=\"image/x-icon\" />\\n</head>\\n<body>\\n<div id=\"div_logo\"></div>\\n<div id=\"div_main\">\\n<div id=\"div_menu\"><ul>\\r\\n  <li><a href=\"https://heroes3.cz\" title=\"\">Domů</a></li>\\r\\n  <li class=\"active\" ><a href=\"https://heroes3.cz/hraci\" title=\"\">Hráči</a></li>\\r\\n  <li><a href=\"https://heroes3.cz/hry\" title=\"\">Hry</a></li>\\r\\n  <li><a href=\"https://heroes3.cz/turnaje\" title=\"\">Turnaje</a></li>\\r\\n  <li><a href=\"https://heroes3.cz/diskuze\" title=\"\">Diskuze</a></li>\\r\\n  <li><a href=\"https://heroes3.cz/statistiky\" title=\"\">Statistiky</a></li>\\t\\t\\t\\r\\n  <li><a href=\"https://heroes3.cz/galerie\" title=\"\">Galerie</a></li>\\r\\n  <li><a href=\"https://heroes3.cz/liga_info\" title=\"\">Liga Info</a></li>\\r\\n  <li><a href=\"https://heroes3.cz/jak_hrat_online\" title=\"\">Jak hrát online</a></li>\\r\\n  <li><a href=\"https://heroes3.cz/odkazy\" title=\"\">Odkazy</a></li>\\t\\t\\t\\r\\n  </ul></div><div class=\"sloupec\" style=\"width: 310px\"><div class=\"ramecek\">\\n<div class=\"ramecek286_1\">\\n<h2>Přihlášení</h2>\\n</div>\\n<div class=\"ramecek_stred\"><div class=\"ramecek286_2\">\\n<form action=\"/hraci/index.php?page=1&amp;order=&amp;razeni=DESC\" method=\"post\" enctype=\"multipart/form-data\">\\n<table class=\"nic\">\\n\\r\\n  <tr>\\r\\n   <td><i class=\"fas fa-user\"></i></td>\\r\\n   <td>\\n<input type=\"text\" name=\"jmeno\" size=\"15\" maxlength=\"256\" value=\"\" class=\"textbox \" />\\n</td>\\r\\n   <td><button class=\"submit\" style=\"width: 110px\" type=\"submit\" name=\"Prihlasit\" value=\"Přihlásit\" title=\"Přihlásit\" >Přihlásit</button></td>\\r\\n  </tr>\\r\\n  <tr>\\r\\n   <td><i class=\"fas fa-key\"></i></td>\\r\\n   <td>\\n<input type=\"password\" name=\"heslo\" size=\"15\" maxlength=\"59\" value=\"\" class=\"textbox \" />\\n</td>\\r\\n   <td>\\n<input class=\"checkbox\" type=\"checkbox\" name=\"trvale\" value=\"1\" title=\"Označit\" />\\n trvalé přihlášení</td>\\r\\n  </tr>\\r\\n  <tr>\\r\\n   <td>&nbsp;</i></td>\\r\\n   <td align=\\'center\\'>&nbsp;&nbsp;<br><a href=\\'https://heroes3.cz/registrace.php\\' style=\\'text-decoration: underline;\\'>Založit nový účet </a></td>\\r\\n   <td>&nbsp;</td>\\r\\n  </tr> \\r\\n  </table>\\n</form>\\n</div></div>\\n<div class=\"ramecek286_3\">\\n</div>\\n</div>\\n\\r\\n<div class=\"ramecek\">\\n<div class=\"ramecek286_1\">\\n<h2>Hledání uživatele</h2>\\n</div>\\n<div class=\"ramecek_stred\"><div class=\"ramecek286_2\">\\n<form action=\"/hraci/index.php\" method=\"post\" enctype=\"multipart/form-data\">\\n<table class=\"nic\">\\n<tr class=\"even\">\\n<td><i class=\"fas fa-user\"></i>&nbsp;</td>\\n<td>\\n<input type=\"text\" name=\"hledat\" size=\"15\" maxlength=\"256\" value=\"\" class=\"textbox \" />\\n</td>\\n<td><button class=\"submit\" style=\"width: 110px\" type=\"submit\" name=\"submit_hledat\" value=\"Vyhledat\" title=\"Vyhledat\" >Vyhledat</button></td>\\n</tr>\\n</table>\\n</form>\\n</div></div>\\n<div class=\"ramecek286_3\">\\n</div>\\n</div>\\n</div><div class=\"sloupec\"><div class=\"ramecek\">\\n<div class=\"ramecek1024_1\">\\n<h2>Tabulka hráčů</h2>\\n</div>\\n<div class=\"ramecek_stred\"><div class=\"ramecek1024_2\">\\n<form action=\"/hraci/index.php\" method=\"post\" enctype=\"multipart/form-data\">\\n<table class=\"tab_top\">\\n<tr>\\n<th><a href=\"/hraci/index.php?page=1&amp;order=0&amp;razeni=DESC\">POŘADÍ</a></th>\\n<th><a href=\"/hraci/index.php?page=1&amp;order=0&amp;razeni=DESC\">SKUPINA</a></th>\\n<th><a href=\"/hraci/index.php?page=1&amp;order=jmeno&amp;razeni=DESC\">JMÉNO</a></th>\\n<th><a href=\"/hraci/index.php?page=1&amp;order=0&amp;razeni=DESC\">BODY</a></th>\\n<th><a href=\"/hraci/index.php?page=1&amp;order=elo&amp;razeni=DESC\">ELO</a></th>\\n<th><a href=\"/hraci/index.php?page=1&amp;order=vitezstvi&amp;razeni=DESC\">VÍTĚZSTVÍ</a></th>\\n<th><a href=\"/hraci/index.php?page=1&amp;order=celkem_her&amp;razeni=DESC\">CELKEM HER</a></th>\\n<th><a href=\"/hraci/index.php?page=1&amp;order=uspesnost&amp;razeni=DESC\">ÚSPĚŠNOST</a></th>\\n<th><a href=\"/hraci/index.php?page=1&amp;order=registrace&amp;razeni=DESC\">REGISTRACE</a></th>\\n<th><a href=\"/hraci/index.php?page=1&amp;order=karma&amp;razeni=DESC\">KARMA</a></th>\\n<th><a href=\"/hraci/index.php?page=1&amp;order=prispevky&amp;razeni=DESC\">PŘÍSPĚVKY</a></th>\\n</tr>\\n<tr>\\n<td class=\"right\">1.</td>\\n<td class=\"right\"><div style=\"margin-top: -3px; margin-bottom: -3px; margin-right: 1px;\"><img src=\"https://heroes3.cz/_include/img/skupiny/1.png\" alt=\"Šampion\" title=\"Šampion\" style=\"cursor: help;\" /></div></td>\\n<td><a href=\"https://heroes3.cz/hraci/detail.php?id=5321\">Lord Slayer</a></td>\\n<td class=\"right\">0</td>\\n<td class=\"right\">1772</td>\\n<td class=\"right\">147</td>\\n<td class=\"right\">429</td>\\n<td class=\"right\">34%</td>\\n<td class=\"right\">11. 6. 2017</td>\\n<td class=\"right\">240</td>\\n<td class=\"right\">391</td>\\n</tr>\\n<tr class=\"even\">\\n<td class=\"right\">2.</td>\\n<td class=\"right\"><div style=\"margin-top: -3px; margin-bottom: -3px; margin-right: 1px;\"><img src=\"https://heroes3.cz/_include/img/skupiny/2.png\" alt=\"Elitní 4\" title=\"Elitní 4\" style=\"cursor: help;\" /></div></td>\\n<td><a href=\"https://heroes3.cz/hraci/detail.php?id=3113\">Scooby</a></td>\\n<td class=\"right\">0</td>\\n<td class=\"right\">2021</td>\\n<td class=\"right\">295</td>\\n<td class=\"right\">424</td>\\n<td class=\"right\">70%</td>\\n<td class=\"right\">29. 12. 2012</td>\\n<td class=\"right\">114</td>\\n<td class=\"right\">1268</td>\\n</tr>\\n<tr>\\n<td class=\"right\">3.</td>\\n<td class=\"right\"><div style=\"margin-top: -3px; margin-bottom: -3px; margin-right: 1px;\"><img src=\"https://heroes3.cz/_include/img/skupiny/2.png\" alt=\"Elitní 4\" title=\"Elitní 4\" style=\"cursor: help;\" /></div></td>\\n<td><a href=\"https://heroes3.cz/hraci/detail.php?id=2762\">maGe</a></td>\\n<td class=\"right\">0</td>\\n<td class=\"right\">1876</td>\\n<td class=\"right\">211</td>\\n<td class=\"right\">352</td>\\n<td class=\"right\">60%</td>\\n<td class=\"right\">27. 6. 2012</td>\\n<td class=\"right\">172</td>\\n<td class=\"right\">734</td>\\n</tr>\\n<tr class=\"even\">\\n<td class=\"right\">4.</td>\\n<td class=\"right\"><div style=\"margin-top: -3px; margin-bottom: -3px; margin-right: 1px;\"><img src=\"https://heroes3.cz/_include/img/skupiny/2.png\" alt=\"Elitní 4\" title=\"Elitní 4\" style=\"cursor: help;\" /></div></td>\\n<td><a href=\"https://heroes3.cz/hraci/detail.php?id=5131\">Pepix</a></td>\\n<td class=\"right\">0</td>\\n<td class=\"right\">1796</td>\\n<td class=\"right\">129</td>\\n<td class=\"right\">227</td>\\n<td class=\"right\">57%</td>\\n<td class=\"right\">16. 2. 2016</td>\\n<td class=\"right\">135</td>\\n<td class=\"right\">631</td>\\n</tr>\\n<tr>\\n<td class=\"right\">5.</td>\\n<td class=\"right\"><div style=\"margin-top: -3px; margin-bottom: -3px; margin-right: 1px;\"><img src=\"https://heroes3.cz/_include/img/skupiny/2.png\" alt=\"Elitní 4\" title=\"Elitní 4\" style=\"cursor: help;\" /></div></td>\\n<td><a href=\"https://heroes3.cz/hraci/detail.php?id=5307\">naoblaku</a></td>\\n<td class=\"right\">0</td>\\n<td class=\"right\">1675</td>\\n<td class=\"right\">124</td>\\n<td class=\"right\">304</td>\\n<td class=\"right\">41%</td>\\n<td class=\"right\">24. 4. 2017</td>\\n<td class=\"right\">192</td>\\n<td class=\"right\">618</td>\\n</tr>\\n<tr class=\"even\">\\n<td class=\"right\">6.</td>\\n<td class=\"right\"><div style=\"margin-top: -3px; margin-bottom: -3px; margin-right: 1px;\"><img src=\"https://heroes3.cz/_include/img/skupiny/3.png\" alt=\"Top 10\" title=\"Top 10\" style=\"cursor: help;\" /></div></td>\\n<td><a href=\"https://heroes3.cz/hraci/detail.php?id=656\">SD</a></td>\\n<td class=\"right\">0</td>\\n<td class=\"right\">2298</td>\\n<td class=\"right\">514</td>\\n<td class=\"right\">737</td>\\n<td class=\"right\">70%</td>\\n<td class=\"right\">2. 1. 2010</td>\\n<td class=\"right\">0</td>\\n<td class=\"right\">963</td>\\n</tr>\\n<tr>\\n<td class=\"right\">7.</td>\\n<td class=\"right\"><div style=\"margin-top: -3px; margin-bottom: -3px; margin-right: 1px;\"><img src=\"https://heroes3.cz/_include/img/skupiny/3.png\" alt=\"Top 10\" title=\"Top 10\" style=\"cursor: help;\" /></div></td>\\n<td><a href=\"https://heroes3.cz/hraci/detail.php?id=3\">Kacer</a></td>\\n<td class=\"right\">0</td>\\n<td class=\"right\">2203</td>\\n<td class=\"right\">146</td>\\n<td class=\"right\">229</td>\\n<td class=\"right\">64%</td>\\n<td class=\"right\">5. 11. 2008</td>\\n<td class=\"right\">73</td>\\n<td class=\"right\">353</td>\\n</tr>\\n<tr class=\"even\">\\n<td class=\"right\">8.</td>\\n<td class=\"right\"><div style=\"margin-top: -3px; margin-bottom: -3px; margin-right: 1px;\"><img src=\"https://heroes3.cz/_include/img/skupiny/3.png\" alt=\"Top 10\" title=\"Top 10\" style=\"cursor: help;\" /></div></td>\\n<td><a href=\"https://heroes3.cz/hraci/detail.php?id=958\">Unreal</a></td>\\n<td class=\"right\">0</td>\\n<td class=\"right\">2194</td>\\n<td class=\"right\">295</td>\\n<td class=\"right\">381</td>\\n<td class=\"right\">77%</td>\\n<td class=\"right\">7. 7. 2010</td>\\n<td class=\"right\">0</td>\\n<td class=\"right\">460</td>\\n</tr>\\n<tr>\\n<td class=\"right\">9.</td>\\n<td class=\"right\"><div style=\"margin-top: -3px; margin-bottom: -3px; margin-right: 1px;\"><img src=\"https://heroes3.cz/_include/img/skupiny/3.png\" alt=\"Top 10\" title=\"Top 10\" style=\"cursor: help;\" /></div></td>\\n<td><a href=\"https://heroes3.cz/hraci/detail.php?id=222\">H34D</a></td>\\n<td class=\"right\">0</td>\\n<td class=\"right\">2191</td>\\n<td class=\"right\">411</td>\\n<td class=\"right\">561</td>\\n<td class=\"right\">73%</td>\\n<td class=\"right\">8. 5. 2009</td>\\n<td class=\"right\">302</td>\\n<td class=\"right\">1337</td>\\n</tr>\\n<tr class=\"even\">\\n<td class=\"right\">10.</td>\\n<td class=\"right\"><div style=\"margin-top: -3px; margin-bottom: -3px; margin-right: 1px;\"><img src=\"https://heroes3.cz/_include/img/skupiny/3.png\" alt=\"Top 10\" title=\"Top 10\" style=\"cursor: help;\" /></div></td>\\n<td><a href=\"https://heroes3.cz/hraci/detail.php?id=5322\">gabo</a></td>\\n<td class=\"right\">0</td>\\n<td class=\"right\">1954</td>\\n<td class=\"right\">103</td>\\n<td class=\"right\">224</td>\\n<td class=\"right\">46%</td>\\n<td class=\"right\">13. 6. 2017</td>\\n<td class=\"right\">167</td>\\n<td class=\"right\">137</td>\\n</tr>\\n<tr>\\n<td class=\"right\">11.</td>\\n<td class=\"right\"><div style=\"margin-top: -3px; margin-bottom: -3px; margin-right: 1px;\"><img src=\"https://heroes3.cz/_include/img/skupiny/4.png\" alt=\"1. Liga\" title=\"1. Liga\" style=\"cursor: help;\" /></div></td>\\n<td><a href=\"https://heroes3.cz/hraci/detail.php?id=28\">KekelZpekel</a></td>\\n<td class=\"right\">0</td>\\n<td class=\"right\">2257</td>\\n<td class=\"right\">308</td>\\n<td class=\"right\">404</td>\\n<td class=\"right\">76%</td>\\n<td class=\"right\">10. 11. 2008</td>\\n<td class=\"right\">3</td>\\n<td class=\"right\">1669</td>\\n</tr>\\n<tr class=\"even\">\\n<td class=\"right\">12.</td>\\n<td class=\"right\"><div style=\"margin-top: -3px; margin-bottom: -3px; margin-right: 1px;\"><img src=\"https://heroes3.cz/_include/img/skupiny/4.png\" alt=\"1. Liga\" title=\"1. Liga\" style=\"cursor: help;\" /></div></td>\\n<td><a href=\"https://heroes3.cz/hraci/detail.php?id=294\">DavidHakl</a></td>\\n<td class=\"right\">0</td>\\n<td class=\"right\">2180</td>\\n<td class=\"right\">161</td>\\n<td class=\"right\">273</td>\\n<td class=\"right\">59%</td>\\n<td class=\"right\">11. 6. 2009</td>\\n<td class=\"right\">18</td>\\n<td class=\"right\">533</td>\\n</tr>\\n<tr>\\n<td class=\"right\">13.</td>\\n<td class=\"right\"><div style=\"margin-top: -3px; margin-bottom: -3px; margin-right: 1px;\"><img src=\"https://heroes3.cz/_include/img/skupiny/4.png\" alt=\"1. Liga\" title=\"1. Liga\" style=\"cursor: help;\" /></div></td>\\n<td><a href=\"https://heroes3.cz/hraci/detail.php?id=1017\">Maras</a></td>\\n<td class=\"right\">0</td>\\n<td class=\"right\">2150</td>\\n<td class=\"right\">347</td>\\n<td class=\"right\">471</td>\\n<td class=\"right\">74%</td>\\n<td class=\"right\">14. 8. 2010</td>\\n<td class=\"right\">0</td>\\n<td class=\"right\">866</td>\\n</tr>\\n<tr class=\"even\">\\n<td class=\"right\">14.</td>\\n<td class=\"right\"><div style=\"margin-top: -3px; margin-bottom: -3px; margin-right: 1px;\"><img src=\"https://heroes3.cz/_include/img/skupiny/4.png\" alt=\"1. Liga\" title=\"1. Liga\" style=\"cursor: help;\" /></div></td>\\n<td><a href=\"https://heroes3.cz/hraci/detail.php?id=800\">ChuckNorris</a></td>\\n<td class=\"right\">0</td>\\n<td class=\"right\">2139</td>\\n<td class=\"right\">430</td>\\n<td class=\"right\">674</td>\\n<td class=\"right\">64%</td>\\n<td class=\"right\">2. 4. 2010</td>\\n<td class=\"right\">0</td>\\n<td class=\"right\">1984</td>\\n</tr>\\n<tr>\\n<td class=\"right\">15.</td>\\n<td class=\"right\"><div style=\"margin-top: -3px; margin-bottom: -3px; margin-right: 1px;\"><img src=\"https://heroes3.cz/_include/img/skupiny/4.png\" alt=\"1. Liga\" title=\"1. Liga\" style=\"cursor: help;\" /></div></td>\\n<td><a href=\"https://heroes3.cz/hraci/detail.php?id=1\">Tomis</a></td>\\n<td class=\"right\">0</td>\\n<td class=\"right\">2087</td>\\n<td class=\"right\">72</td>\\n<td class=\"right\">97</td>\\n<td class=\"right\">74%</td>\\n<td class=\"right\">5. 11. 2008</td>\\n<td class=\"right\">7</td>\\n<td class=\"right\">1367</td>\\n</tr>\\n<tr class=\"even\">\\n<td class=\"right\">16.</td>\\n<td class=\"right\"><div style=\"margin-top: -3px; margin-bottom: -3px; margin-right: 1px;\"><img src=\"https://heroes3.cz/_include/img/skupiny/4.png\" alt=\"1. Liga\" title=\"1. Liga\" style=\"cursor: help;\" /></div></td>\\n<td><a href=\"https://heroes3.cz/hraci/detail.php?id=3165\">Bruce_Lee</a></td>\\n<td class=\"right\">0</td>\\n<td class=\"right\">2082</td>\\n<td class=\"right\">25</td>\\n<td class=\"right\">40</td>\\n<td class=\"right\">63%</td>\\n<td class=\"right\">1. 2. 2013</td>\\n<td class=\"right\">0</td>\\n<td class=\"right\">78</td>\\n</tr>\\n<tr>\\n<td class=\"right\">17.</td>\\n<td class=\"right\"><div style=\"margin-top: -3px; margin-bottom: -3px; margin-right: 1px;\"><img src=\"https://heroes3.cz/_include/img/skupiny/4.png\" alt=\"1. Liga\" title=\"1. Liga\" style=\"cursor: help;\" /></div></td>\\n<td><a href=\"https://heroes3.cz/hraci/detail.php?id=30\">Afroman</a></td>\\n<td class=\"right\">0</td>\\n<td class=\"right\">2074</td>\\n<td class=\"right\">153</td>\\n<td class=\"right\">199</td>\\n<td class=\"right\">77%</td>\\n<td class=\"right\">12. 11. 2008</td>\\n<td class=\"right\">0</td>\\n<td class=\"right\">810</td>\\n</tr>\\n<tr class=\"even\">\\n<td class=\"right\">18.</td>\\n<td class=\"right\"><div style=\"margin-top: -3px; margin-bottom: -3px; margin-right: 1px;\"><img src=\"https://heroes3.cz/_include/img/skupiny/4.png\" alt=\"1. Liga\" title=\"1. Liga\" style=\"cursor: help;\" /></div></td>\\n<td><a href=\"https://heroes3.cz/hraci/detail.php?id=1533\">chichtofnuk</a></td>\\n<td class=\"right\">0</td>\\n<td class=\"right\">2069</td>\\n<td class=\"right\">372</td>\\n<td class=\"right\">540</td>\\n<td class=\"right\">69%</td>\\n<td class=\"right\">26. 1. 2011</td>\\n<td class=\"right\">0</td>\\n<td class=\"right\">1344</td>\\n</tr>\\n<tr>\\n<td class=\"right\">19.</td>\\n<td class=\"right\"><div style=\"margin-top: -3px; margin-bottom: -3px; margin-right: 1px;\"><img src=\"https://heroes3.cz/_include/img/skupiny/4.png\" alt=\"1. Liga\" title=\"1. Liga\" style=\"cursor: help;\" /></div></td>\\n<td><a href=\"https://heroes3.cz/hraci/detail.php?id=1122\">Vítek</a></td>\\n<td class=\"right\">0</td>\\n<td class=\"right\">2062</td>\\n<td class=\"right\">138</td>\\n<td class=\"right\">183</td>\\n<td class=\"right\">75%</td>\\n<td class=\"right\">25. 9. 2010</td>\\n<td class=\"right\">4</td>\\n<td class=\"right\">423</td>\\n</tr>\\n<tr class=\"even\">\\n<td class=\"right\">20.</td>\\n<td class=\"right\"><div style=\"margin-top: -3px; margin-bottom: -3px; margin-right: 1px;\"><img src=\"https://heroes3.cz/_include/img/skupiny/4.png\" alt=\"1. Liga\" title=\"1. Liga\" style=\"cursor: help;\" /></div></td>\\n<td><a href=\"https://heroes3.cz/hraci/detail.php?id=727\">PetoPalo</a></td>\\n<td class=\"right\">0</td>\\n<td class=\"right\">2055</td>\\n<td class=\"right\">132</td>\\n<td class=\"right\">215</td>\\n<td class=\"right\">61%</td>\\n<td class=\"right\">21. 2. 2010</td>\\n<td class=\"right\">0</td>\\n<td class=\"right\">472</td>\\n</tr>\\n<tr>\\n<td class=\"right\">21.</td>\\n<td class=\"right\"><div style=\"margin-top: -3px; margin-bottom: -3px; margin-right: 1px;\"><img src=\"https://heroes3.cz/_include/img/skupiny/4.png\" alt=\"1. Liga\" title=\"1. Liga\" style=\"cursor: help;\" /></div></td>\\n<td><a href=\"https://heroes3.cz/hraci/detail.php?id=7\">Tornádo</a></td>\\n<td class=\"right\">0</td>\\n<td class=\"right\">2020</td>\\n<td class=\"right\">120</td>\\n<td class=\"right\">138</td>\\n<td class=\"right\">87%</td>\\n<td class=\"right\">6. 11. 2008</td>\\n<td class=\"right\">12</td>\\n<td class=\"right\">438</td>\\n</tr>\\n<tr class=\"even\">\\n<td class=\"right\">22.</td>\\n<td class=\"right\"><div style=\"margin-top: -3px; margin-bottom: -3px; margin-right: 1px;\"><img src=\"https://heroes3.cz/_include/img/skupiny/4.png\" alt=\"1. Liga\" title=\"1. Liga\" style=\"cursor: help;\" /></div></td>\\n<td><a href=\"https://heroes3.cz/hraci/detail.php?id=706\">acid</a></td>\\n<td class=\"right\">0</td>\\n<td class=\"right\">2020</td>\\n<td class=\"right\">172</td>\\n<td class=\"right\">245</td>\\n<td class=\"right\">70%</td>\\n<td class=\"right\">10. 2. 2010</td>\\n<td class=\"right\">36</td>\\n<td class=\"right\">437</td>\\n</tr>\\n<tr>\\n<td class=\"right\">23.</td>\\n<td class=\"right\"><div style=\"margin-top: -3px; margin-bottom: -3px; margin-right: 1px;\"><img src=\"https://heroes3.cz/_include/img/skupiny/4.png\" alt=\"1. Liga\" title=\"1. Liga\" style=\"cursor: help;\" /></div></td>\\n<td><a href=\"https://heroes3.cz/hraci/detail.php?id=1837\">Elfus</a></td>\\n<td class=\"right\">0</td>\\n<td class=\"right\">2019</td>\\n<td class=\"right\">83</td>\\n<td class=\"right\">120</td>\\n<td class=\"right\">69%</td>\\n<td class=\"right\">4. 6. 2011</td>\\n<td class=\"right\">1</td>\\n<td class=\"right\">215</td>\\n</tr>\\n<tr class=\"even\">\\n<td class=\"right\">24.</td>\\n<td class=\"right\"><div style=\"margin-top: -3px; margin-bottom: -3px; margin-right: 1px;\"><img src=\"https://heroes3.cz/_include/img/skupiny/4.png\" alt=\"1. Liga\" title=\"1. Liga\" style=\"cursor: help;\" /></div></td>\\n<td><a href=\"https://heroes3.cz/hraci/detail.php?id=4290\">Friza</a></td>\\n<td class=\"right\">0</td>\\n<td class=\"right\">2019</td>\\n<td class=\"right\">12</td>\\n<td class=\"right\">24</td>\\n<td class=\"right\">50%</td>\\n<td class=\"right\">4. 9. 2014</td>\\n<td class=\"right\">0</td>\\n<td class=\"right\">46</td>\\n</tr>\\n<tr>\\n<td class=\"right\">25.</td>\\n<td class=\"right\"><div style=\"margin-top: -3px; margin-bottom: -3px; margin-right: 1px;\"><img src=\"https://heroes3.cz/_include/img/skupiny/4.png\" alt=\"1. Liga\" title=\"1. Liga\" style=\"cursor: help;\" /></div></td>\\n<td><a href=\"https://heroes3.cz/hraci/detail.php?id=5361\">BeerWarrior</a></td>\\n<td class=\"right\">0</td>\\n<td class=\"right\">2018</td>\\n<td class=\"right\">40</td>\\n<td class=\"right\">58</td>\\n<td class=\"right\">69%</td>\\n<td class=\"right\">21. 10. 2017</td>\\n<td class=\"right\">44</td>\\n<td class=\"right\">28</td>\\n</tr>\\n<tr class=\"even\">\\n<td class=\"right\">26.</td>\\n<td class=\"right\"><div style=\"margin-top: -3px; margin-bottom: -3px; margin-right: 1px;\"><img src=\"https://heroes3.cz/_include/img/skupiny/4.png\" alt=\"1. Liga\" title=\"1. Liga\" style=\"cursor: help;\" /></div></td>\\n<td><a href=\"https://heroes3.cz/hraci/detail.php?id=3331\">Michal Hruša</a></td>\\n<td class=\"right\">0</td>\\n<td class=\"right\">2015</td>\\n<td class=\"right\">205</td>\\n<td class=\"right\">336</td>\\n<td class=\"right\">61%</td>\\n<td class=\"right\">4. 5. 2013</td>\\n<td class=\"right\">-2</td>\\n<td class=\"right\">519</td>\\n</tr>\\n<tr>\\n<td class=\"right\">27.</td>\\n<td class=\"right\"><div style=\"margin-top: -3px; margin-bottom: -3px; margin-right: 1px;\"><img src=\"https://heroes3.cz/_include/img/skupiny/4.png\" alt=\"1. Liga\" title=\"1. Liga\" style=\"cursor: help;\" /></div></td>\\n<td><a href=\"https://heroes3.cz/hraci/detail.php?id=823\">karcma</a></td>\\n<td class=\"right\">0</td>\\n<td class=\"right\">2004</td>\\n<td class=\"right\">241</td>\\n<td class=\"right\">425</td>\\n<td class=\"right\">57%</td>\\n<td class=\"right\">17. 4. 2010</td>\\n<td class=\"right\">143</td>\\n<td class=\"right\">669</td>\\n</tr>\\n<tr class=\"even\">\\n<td class=\"right\">28.</td>\\n<td class=\"right\"><div style=\"margin-top: -3px; margin-bottom: -3px; margin-right: 1px;\"><img src=\"https://heroes3.cz/_include/img/skupiny/4.png\" alt=\"1. Liga\" title=\"1. Liga\" style=\"cursor: help;\" /></div></td>\\n<td><a href=\"https://heroes3.cz/hraci/detail.php?id=5271\">bonca</a></td>\\n<td class=\"right\">0</td>\\n<td class=\"right\">1990</td>\\n<td class=\"right\">80</td>\\n<td class=\"right\">147</td>\\n<td class=\"right\">54%</td>\\n<td class=\"right\">8. 1. 2017</td>\\n<td class=\"right\">92</td>\\n<td class=\"right\">63</td>\\n</tr>\\n<tr>\\n<td class=\"right\">29.</td>\\n<td class=\"right\"><div style=\"margin-top: -3px; margin-bottom: -3px; margin-right: 1px;\"><img src=\"https://heroes3.cz/_include/img/skupiny/4.png\" alt=\"1. Liga\" title=\"1. Liga\" style=\"cursor: help;\" /></div></td>\\n<td><a href=\"https://heroes3.cz/hraci/detail.php?id=2\">Lord.Alex</a></td>\\n<td class=\"right\">0</td>\\n<td class=\"right\">1943</td>\\n<td class=\"right\">1464</td>\\n<td class=\"right\">3238</td>\\n<td class=\"right\">45%</td>\\n<td class=\"right\">5. 11. 2008</td>\\n<td class=\"right\">1005</td>\\n<td class=\"right\">7812</td>\\n</tr>\\n<tr class=\"even\">\\n<td class=\"right\">30.</td>\\n<td class=\"right\"><div style=\"margin-top: -3px; margin-bottom: -3px; margin-right: 1px;\"><img src=\"https://heroes3.cz/_include/img/skupiny/4.png\" alt=\"1. Liga\" title=\"1. Liga\" style=\"cursor: help;\" /></div></td>\\n<td><a href=\"https://heroes3.cz/hraci/detail.php?id=5665\">JorahGreat</a></td>\\n<td class=\"right\">0</td>\\n<td class=\"right\">1634</td>\\n<td class=\"right\">3</td>\\n<td class=\"right\">26</td>\\n<td class=\"right\">12%</td>\\n<td class=\"right\">24. 4. 2020</td>\\n<td class=\"right\">-32</td>\\n<td class=\"right\">11</td>\\n</tr>\\n<tr>\\n<td class=\"right\">31.</td>\\n<td class=\"right\"><div style=\"margin-top: -3px; margin-bottom: -3px; margin-right: 1px;\"><img src=\"https://heroes3.cz/_include/img/skupiny/5.png\" alt=\"2. Liga\" title=\"2. Liga\" style=\"cursor: help;\" /></div></td>\\n<td><a href=\"https://heroes3.cz/hraci/detail.php?id=2472\">Juan Manzana</a></td>\\n<td class=\"right\">0</td>\\n<td class=\"right\">2001</td>\\n<td class=\"right\">63</td>\\n<td class=\"right\">128</td>\\n<td class=\"right\">49%</td>\\n<td class=\"right\">13. 3. 2012</td>\\n<td class=\"right\">0</td>\\n<td class=\"right\">227</td>\\n</tr>\\n<tr class=\"even\">\\n<td class=\"right\">32.</td>\\n<td class=\"right\"><div style=\"margin-top: -3px; margin-bottom: -3px; margin-right: 1px;\"><img src=\"https://heroes3.cz/_include/img/skupiny/5.png\" alt=\"2. Liga\" title=\"2. Liga\" style=\"cursor: help;\" /></div></td>\\n<td><a href=\"https://heroes3.cz/hraci/detail.php?id=836\">Imposieble</a></td>\\n<td class=\"right\">0</td>\\n<td class=\"right\">1986</td>\\n<td class=\"right\">383</td>\\n<td class=\"right\">599</td>\\n<td class=\"right\">64%</td>\\n<td class=\"right\">29. 4. 2010</td>\\n<td class=\"right\">71</td>\\n<td class=\"right\">2354</td>\\n</tr>\\n<tr>\\n<td class=\"right\">33.</td>\\n<td class=\"right\"><div style=\"margin-top: -3px; margin-bottom: -3px; margin-right: 1px;\"><img src=\"https://heroes3.cz/_include/img/skupiny/5.png\" alt=\"2. Liga\" title=\"2. Liga\" style=\"cursor: help;\" /></div></td>\\n<td><a href=\"https://heroes3.cz/hraci/detail.php?id=310\">Gigiman</a></td>\\n<td class=\"right\">0</td>\\n<td class=\"right\">1978</td>\\n<td class=\"right\">126</td>\\n<td class=\"right\">186</td>\\n<td class=\"right\">68%</td>\\n<td class=\"right\">18. 6. 2009</td>\\n<td class=\"right\">0</td>\\n<td class=\"right\">281</td>\\n</tr>\\n<tr class=\"even\">\\n<td class=\"right\">34.</td>\\n<td class=\"right\"><div style=\"margin-top: -3px; margin-bottom: -3px; margin-right: 1px;\"><img src=\"https://heroes3.cz/_include/img/skupiny/5.png\" alt=\"2. Liga\" title=\"2. Liga\" style=\"cursor: help;\" /></div></td>\\n<td><a href=\"https://heroes3.cz/hraci/detail.php?id=4670\">Septienna</a></td>\\n<td class=\"right\">0</td>\\n<td class=\"right\">1978</td>\\n<td class=\"right\">9</td>\\n<td class=\"right\">18</td>\\n<td class=\"right\">50%</td>\\n<td class=\"right\">17. 1. 2015</td>\\n<td class=\"right\">0</td>\\n<td class=\"right\">2</td>\\n</tr>\\n<tr>\\n<td class=\"right\">35.</td>\\n<td class=\"right\"><div style=\"margin-top: -3px; margin-bottom: -3px; margin-right: 1px;\"><img src=\"https://heroes3.cz/_include/img/skupiny/5.png\" alt=\"2. Liga\" title=\"2. Liga\" style=\"cursor: help;\" /></div></td>\\n<td><a href=\"https://heroes3.cz/hraci/detail.php?id=4493\">Pany</a></td>\\n<td class=\"right\">0</td>\\n<td class=\"right\">1975</td>\\n<td class=\"right\">9</td>\\n<td class=\"right\">18</td>\\n<td class=\"right\">50%</td>\\n<td class=\"right\">5. 12. 2014</td>\\n<td class=\"right\">0</td>\\n<td class=\"right\">19</td>\\n</tr>\\n<tr class=\"even\">\\n<td class=\"right\">36.</td>\\n<td class=\"right\"><div style=\"margin-top: -3px; margin-bottom: -3px; margin-right: 1px;\"><img src=\"https://heroes3.cz/_include/img/skupiny/5.png\" alt=\"2. Liga\" title=\"2. Liga\" style=\"cursor: help;\" /></div></td>\\n<td><a href=\"https://heroes3.cz/hraci/detail.php?id=4073\">JCVD</a></td>\\n<td class=\"right\">0</td>\\n<td class=\"right\">1969</td>\\n<td class=\"right\">1</td>\\n<td class=\"right\">6</td>\\n<td class=\"right\">17%</td>\\n<td class=\"right\">6. 6. 2014</td>\\n<td class=\"right\">-3</td>\\n<td class=\"right\">11</td>\\n</tr>\\n<tr>\\n<td class=\"right\">37.</td>\\n<td class=\"right\"><div style=\"margin-top: -3px; margin-bottom: -3px; margin-right: 1px;\"><img src=\"https://heroes3.cz/_include/img/skupiny/5.png\" alt=\"2. Liga\" title=\"2. Liga\" style=\"cursor: help;\" /></div></td>\\n<td><a href=\"https://heroes3.cz/hraci/detail.php?id=2104\">Amroth_CZ</a></td>\\n<td class=\"right\">0</td>\\n<td class=\"right\">1968</td>\\n<td class=\"right\">58</td>\\n<td class=\"right\">80</td>\\n<td class=\"right\">73%</td>\\n<td class=\"right\">30. 9. 2011</td>\\n<td class=\"right\">0</td>\\n<td class=\"right\">91</td>\\n</tr>\\n<tr class=\"even\">\\n<td class=\"right\">38.</td>\\n<td class=\"right\"><div style=\"margin-top: -3px; margin-bottom: -3px; margin-right: 1px;\"><img src=\"https://heroes3.cz/_include/img/skupiny/5.png\" alt=\"2. Liga\" title=\"2. Liga\" style=\"cursor: help;\" /></div></td>\\n<td><a href=\"https://heroes3.cz/hraci/detail.php?id=3133\">PoloShock</a></td>\\n<td class=\"right\">0</td>\\n<td class=\"right\">1968</td>\\n<td class=\"right\">21</td>\\n<td class=\"right\">36</td>\\n<td class=\"right\">58%</td>\\n<td class=\"right\">3. 1. 2013</td>\\n<td class=\"right\">0</td>\\n<td class=\"right\">49</td>\\n</tr>\\n<tr>\\n<td class=\"right\">39.</td>\\n<td class=\"right\"><div style=\"margin-top: -3px; margin-bottom: -3px; margin-right: 1px;\"><img src=\"https://heroes3.cz/_include/img/skupiny/5.png\" alt=\"2. Liga\" title=\"2. Liga\" style=\"cursor: help;\" /></div></td>\\n<td><a href=\"https://heroes3.cz/hraci/detail.php?id=3125\">Heibgd</a></td>\\n<td class=\"right\">0</td>\\n<td class=\"right\">1966</td>\\n<td class=\"right\">9</td>\\n<td class=\"right\">16</td>\\n<td class=\"right\">56%</td>\\n<td class=\"right\">31. 12. 2012</td>\\n<td class=\"right\">0</td>\\n<td class=\"right\">23</td>\\n</tr>\\n<tr class=\"even\">\\n<td class=\"right\">40.</td>\\n<td class=\"right\"><div style=\"margin-top: -3px; margin-bottom: -3px; margin-right: 1px;\"><img src=\"https://heroes3.cz/_include/img/skupiny/5.png\" alt=\"2. Liga\" title=\"2. Liga\" style=\"cursor: help;\" /></div></td>\\n<td><a href=\"https://heroes3.cz/hraci/detail.php?id=4121\">ToxxicCloud</a></td>\\n<td class=\"right\">0</td>\\n<td class=\"right\">1961</td>\\n<td class=\"right\">4</td>\\n<td class=\"right\">7</td>\\n<td class=\"right\">57%</td>\\n<td class=\"right\">5. 7. 2014</td>\\n<td class=\"right\">0</td>\\n<td class=\"right\">10</td>\\n</tr>\\n</table>\\n</form>\\n<br><br><form action=\"/hraci/index.php\" method=\"post\" enctype=\"multipart/form-data\">\\n<table class=\"tab_top\">\\n<tr>\\n<td><div style = \"width: 75px\">&nbsp;</div></td>\\n<td><div style = \"width: 75px\">&nbsp;</div></td>\\n<td><span class=\\'podklad\\'> 1 / 93</span></td>\\n<td><a href=\"/hraci/index.php?page=2&amp;order=&amp;razeni=DESC\"class=\"button\">další &gt;</a></td>\\n<td><a href=\"/hraci/index.php?page=93&amp;order=&amp;razeni=DESC\"class=\"button\">poslední &gt;&gt;</a></td>\\n</tr>\\n</table>\\n</form>\\n</div></div>\\n<div class=\"ramecek1024_3\">\\n</div>\\n</div>\\n</div>\\n<hr style=\"clear: left\" />\\n<div id=\"div_footer\">\\n<table style=\"width: 300px; margin: auto\"><tr class=\"even\">\\n<td><a href=\"http://validator.w3.org/check?uri=referer\"><img src=\"https://heroes3.cz/_include/img/misc/html5-validated.png\" alt=\"Valid HTML 5\" title=\"Valid HTML 5\"  /></a></td>\\n<td><a href=\"http://jigsaw.w3.org/css-validator/check/referer\"><img src=\"https://heroes3.cz/_include/img/misc/vcss.gif\" alt=\"Valid CSS 3\" title=\"Valid CSS 3\"  /></a></td>\\n<td>&nbsp;verze&nbsp;webu&nbsp;1.9</td>\\n</tr>\\n<table>\\n</div>\\n</div>\\n</body>\\n</html>'"
      ]
     },
     "execution_count": 7,
     "metadata": {},
     "output_type": "execute_result"
    }
   ],
   "source": [
    "odp_serveru.text"
   ]
  },
  {
   "cell_type": "code",
   "execution_count": 13,
   "metadata": {
    "colab": {
     "base_uri": "https://localhost:8080/",
     "height": 36
    },
    "executionInfo": {
     "elapsed": 24,
     "status": "ok",
     "timestamp": 1684263944353,
     "user": {
      "displayName": "Radim Jedlička",
      "userId": "11502208915568361358"
     },
     "user_tz": -120
    },
    "id": "2mhxJNLMtjNf",
    "outputId": "c7d61fe3-b4e9-43b8-99b8-49dd535f51b0"
   },
   "outputs": [
    {
     "data": {
      "application/vnd.google.colaboratory.intrinsic+json": {
       "type": "string"
      },
      "text/plain": [
       "'<!DOCTYPE html>'"
      ]
     },
     "execution_count": 13,
     "metadata": {},
     "output_type": "execute_result"
    }
   ],
   "source": [
    "odp_serveru.text[1:16]"
   ]
  },
  {
   "cell_type": "markdown",
   "metadata": {
    "id": "HziYiuagwI_e"
   },
   "source": [
    "#### Raw html\n",
    "\n",
    "Vidíme, že podoba, kterou nyní `html` získalo, neni moc užitečná. Protože s `html` budeme chtít podrobně pracovat a vyhledávat v něm, musíme vrácené údaje zpracovat (rozdělit~parsovat).<br />\n",
    "\n",
    "Toho dosáhneme opět použitím vhodné knihovny, která nám práci usnadní. Mrkněte na [pypi.org](https://pypi.org/)."
   ]
  },
  {
   "cell_type": "markdown",
   "metadata": {
    "id": "n2rZDJh4Dbvx"
   },
   "source": [
    "<br>\n",
    "\n",
    "## **Beautifulsoup**\n",
    "\n",
    "---"
   ]
  },
  {
   "cell_type": "markdown",
   "metadata": {
    "id": "z4JBhmCIHAzz"
   },
   "source": [
    "Asi jeden z těch nejznámějších parserů určených k rozdělování `html`, `xml` atd. Opět musíme nejprve nainstalovat (jedná se o balíček třetí strany).\n",
    "\n",
    "<br>\n",
    "\n",
    "V našem virtuálním pracovním prostředí:\n",
    "```bash\n",
    "$ pip3 install beautifulsoup\n",
    "$ pip3 freeze > requirements.txt\n",
    "```"
   ]
  },
  {
   "cell_type": "markdown",
   "metadata": {
    "id": "Fn8QXRKAHIgc"
   },
   "source": [
    "<br>\n",
    "\n",
    "### **Vstupní hodnoty**"
   ]
  },
  {
   "cell_type": "code",
   "execution_count": 14,
   "metadata": {
    "executionInfo": {
     "elapsed": 291,
     "status": "ok",
     "timestamp": 1684264119846,
     "user": {
      "displayName": "Radim Jedlička",
      "userId": "11502208915568361358"
     },
     "user_tz": -120
    },
    "id": "oPe20zLhwJZO"
   },
   "outputs": [],
   "source": [
    "import requests\n",
    "from bs4 import BeautifulSoup"
   ]
  },
  {
   "cell_type": "code",
   "execution_count": 15,
   "metadata": {
    "executionInfo": {
     "elapsed": 277,
     "status": "ok",
     "timestamp": 1684264122085,
     "user": {
      "displayName": "Radim Jedlička",
      "userId": "11502208915568361358"
     },
     "user_tz": -120
    },
    "id": "hmMIqX3vHauw"
   },
   "outputs": [],
   "source": [
    "url_1 = \"https://heroes3.cz/hraci/index.php?page=1&order=&razeni=DESC\"\n",
    "url_2 = \"https://heroes3.cz/hraci/index.php?page=2&order=&razeni=DESC\""
   ]
  },
  {
   "cell_type": "markdown",
   "metadata": {
    "id": "LzFFJY3vHm79"
   },
   "source": [
    "<br>\n",
    "\n",
    "### **Odeslání požadavku:**\n"
   ]
  },
  {
   "cell_type": "code",
   "execution_count": 16,
   "metadata": {
    "executionInfo": {
     "elapsed": 950,
     "status": "ok",
     "timestamp": 1684264134351,
     "user": {
      "displayName": "Radim Jedlička",
      "userId": "11502208915568361358"
     },
     "user_tz": -120
    },
    "id": "9MxYMRkIHxx9"
   },
   "outputs": [],
   "source": [
    "odp_serveru = requests.get(url_1)"
   ]
  },
  {
   "cell_type": "code",
   "execution_count": 17,
   "metadata": {
    "colab": {
     "base_uri": "https://localhost:8080/"
    },
    "executionInfo": {
     "elapsed": 264,
     "status": "ok",
     "timestamp": 1684264136985,
     "user": {
      "displayName": "Radim Jedlička",
      "userId": "11502208915568361358"
     },
     "user_tz": -120
    },
    "id": "aZ6m7OfbH3OC",
    "outputId": "713488fd-9df6-474f-f0bc-3399136a6bf4"
   },
   "outputs": [
    {
     "name": "stdout",
     "output_type": "stream",
     "text": [
      "<Response [200]>\n"
     ]
    }
   ],
   "source": [
    "print(odp_serveru)"
   ]
  },
  {
   "cell_type": "code",
   "execution_count": 18,
   "metadata": {
    "colab": {
     "base_uri": "https://localhost:8080/"
    },
    "executionInfo": {
     "elapsed": 246,
     "status": "ok",
     "timestamp": 1684264155953,
     "user": {
      "displayName": "Radim Jedlička",
      "userId": "11502208915568361358"
     },
     "user_tz": -120
    },
    "id": "WdsPRDLUH5Eo",
    "outputId": "244613c8-345e-4e42-c5e4-f82c794ddcd6"
   },
   "outputs": [
    {
     "data": {
      "text/plain": [
       "str"
      ]
     },
     "execution_count": 18,
     "metadata": {},
     "output_type": "execute_result"
    }
   ],
   "source": [
    "type(odp_serveru.text)"
   ]
  },
  {
   "cell_type": "code",
   "execution_count": null,
   "metadata": {
    "id": "K8OJrbcGH7jH"
   },
   "outputs": [],
   "source": [
    "print(odp_serveru.text)"
   ]
  },
  {
   "cell_type": "code",
   "execution_count": 20,
   "metadata": {
    "colab": {
     "base_uri": "https://localhost:8080/"
    },
    "executionInfo": {
     "elapsed": 243,
     "status": "ok",
     "timestamp": 1684264190924,
     "user": {
      "displayName": "Radim Jedlička",
      "userId": "11502208915568361358"
     },
     "user_tz": -120
    },
    "id": "ToFCuQZXIIzV",
    "outputId": "5a025d8b-12b6-4853-baa8-eca5022bafca"
   },
   "outputs": [
    {
     "name": "stdout",
     "output_type": "stream",
     "text": [
      "﻿<!DOCTYPE html>\n"
     ]
    }
   ],
   "source": [
    "print(odp_serveru.text[:16])"
   ]
  },
  {
   "cell_type": "markdown",
   "metadata": {
    "id": "b-qojUMXIL8w"
   },
   "source": [
    "<br>\n",
    "\n",
    "### **Parsování html**\n"
   ]
  },
  {
   "cell_type": "code",
   "execution_count": null,
   "metadata": {
    "id": "-4_8PKeaINq1"
   },
   "outputs": [],
   "source": [
    "help(BeautifulSoup)"
   ]
  },
  {
   "cell_type": "code",
   "execution_count": null,
   "metadata": {
    "id": "S3zjaz4QIjPK"
   },
   "outputs": [],
   "source": [
    "soup = BeautifulSoup(odp_serveru.text, 'html.parser')   # promenna + typ parseru\n",
    "print(soup)"
   ]
  },
  {
   "cell_type": "code",
   "execution_count": 23,
   "metadata": {
    "colab": {
     "base_uri": "https://localhost:8080/"
    },
    "executionInfo": {
     "elapsed": 246,
     "status": "ok",
     "timestamp": 1684264229509,
     "user": {
      "displayName": "Radim Jedlička",
      "userId": "11502208915568361358"
     },
     "user_tz": -120
    },
    "id": "P63C8w9CIpry",
    "outputId": "53ce6cea-6cf6-4b40-8435-873df5c02dcb"
   },
   "outputs": [
    {
     "name": "stdout",
     "output_type": "stream",
     "text": [
      "<class 'bs4.BeautifulSoup'>\n"
     ]
    }
   ],
   "source": [
    "print(type(soup))"
   ]
  },
  {
   "cell_type": "code",
   "execution_count": null,
   "metadata": {
    "id": "vr_UPJ6LIr9k"
   },
   "outputs": [],
   "source": [
    "dir(soup)"
   ]
  },
  {
   "cell_type": "code",
   "execution_count": 25,
   "metadata": {
    "colab": {
     "base_uri": "https://localhost:8080/"
    },
    "executionInfo": {
     "elapsed": 269,
     "status": "ok",
     "timestamp": 1684264254288,
     "user": {
      "displayName": "Radim Jedlička",
      "userId": "11502208915568361358"
     },
     "user_tz": -120
    },
    "id": "0doSH9WQIwVr",
    "outputId": "14f4ff15-78ee-483f-c5f0-d5dbbb6d2b4c"
   },
   "outputs": [
    {
     "data": {
      "text/plain": [
       "True"
      ]
     },
     "execution_count": 25,
     "metadata": {},
     "output_type": "execute_result"
    }
   ],
   "source": [
    "isinstance(soup, BeautifulSoup)"
   ]
  },
  {
   "cell_type": "code",
   "execution_count": null,
   "metadata": {
    "id": "h8sjAUttIyHC"
   },
   "outputs": [],
   "source": [
    "print(soup.prettify())"
   ]
  },
  {
   "cell_type": "markdown",
   "metadata": {
    "id": "tC60oT6FK-J_"
   },
   "source": [
    "<br>\n",
    "\n",
    "### **Rozdělené html podle tagů**\n"
   ]
  },
  {
   "cell_type": "markdown",
   "metadata": {
    "id": "t3S9gpxYLB2G"
   },
   "source": [
    "Nyní máme sice `html` soubor rozdělený, ale potřebujeme vybrat jen ta data, která nás zajímají. Tedy vybrat z tabulky hráčů tyto sloupečky:\n",
    "1. pořadí\n",
    "2. jméno\n",
    "3. body\n",
    "4. celkem her\n",
    "5. vítězství\n",
    "6. úspěšnost\n",
    "\n",
    "<br>\n",
    "\n",
    "Abychom správně dohledali obsah těchto tagů, budeme je muset najít ve struktuře zdrojového kódu, v prohlížeči (režim `inspect`)."
   ]
  },
  {
   "cell_type": "markdown",
   "metadata": {
    "id": "LvEkUXmZLILh"
   },
   "source": [
    "<br>\n",
    "\n",
    "### **Hledání rodičovského tagu**\n"
   ]
  },
  {
   "cell_type": "markdown",
   "metadata": {
    "id": "C2FB-OVCLMUB"
   },
   "source": [
    "Jakmile najdeme rodičovský tag, můžeme jej ověřit u jednotlivých údajů (`CSS path`):\n",
    "```html\n",
    "form > table.tab_top > tbody > tr > td\n",
    "```\n",
    "\n",
    "<br>\n",
    "\n",
    "Protože nás zajímají všichni hráči v tabulce, použijeme celý element `table`. Jakmile jej najdeme, můžeme si dále ověřit jestli nemá nějaký atribut, který by nám jej pomohl selektovat:\n",
    "```html\n",
    "<table class=\"tab_top\">\n",
    "    ...\n",
    "</table>\n",
    "```"
   ]
  },
  {
   "cell_type": "markdown",
   "metadata": {
    "id": "tcaoQ5sjLp2p"
   },
   "source": [
    "<br>\n",
    "\n",
    "### **Tagy potomků**\n"
   ]
  },
  {
   "cell_type": "markdown",
   "metadata": {
    "id": "FBLE0KtRLvw3"
   },
   "source": [
    "Postupně procházíme všechny dědičné tagy a odpovíme společně na tyto otázky:\n",
    "1. Co představuje tag: `<td></td>`?\n",
    "2. Co představuje tag: `<tr></tr>`?\n",
    "3. Co představuje tag: `<tbody></tbody>`?\n",
    "4. Co představuje tag: `<table></table>`?"
   ]
  },
  {
   "cell_type": "markdown",
   "metadata": {
    "id": "Gx6_PWb2Lx6Z"
   },
   "source": [
    "<br>\n",
    "\n",
    "### **Selekce vhodných elementů**\n"
   ]
  },
  {
   "cell_type": "markdown",
   "metadata": {
    "id": "_WCK4bKZL2-s"
   },
   "source": [
    "Nejprve potřebujeme získat takový element, který obsahuje celou tabulku se všemi hráči. Projdeme tedy dostupné metody a zkusíme nějakou vybrat:"
   ]
  },
  {
   "cell_type": "code",
   "execution_count": null,
   "metadata": {
    "id": "GV0Vug3OL83d"
   },
   "outputs": [],
   "source": [
    "dir(BeautifulSoup)"
   ]
  },
  {
   "cell_type": "code",
   "execution_count": null,
   "metadata": {
    "id": "294Ctd95LCb1"
   },
   "outputs": [],
   "source": [
    "help(BeautifulSoup.select)"
   ]
  },
  {
   "cell_type": "code",
   "execution_count": null,
   "metadata": {
    "id": "xz2XyrTQMDpV"
   },
   "outputs": [],
   "source": [
    "help(BeautifulSoup.find)"
   ]
  },
  {
   "cell_type": "code",
   "execution_count": null,
   "metadata": {
    "id": "PeLSe2egMF4R"
   },
   "outputs": [],
   "source": [
    "help(BeautifulSoup.find_all)"
   ]
  },
  {
   "cell_type": "markdown",
   "metadata": {
    "id": "yu0f_mt2MKol"
   },
   "source": [
    "<br>\n",
    "\n",
    "### **Selekce tabulky s atributem `tab_top`**\n"
   ]
  },
  {
   "cell_type": "code",
   "execution_count": 32,
   "metadata": {
    "executionInfo": {
     "elapsed": 244,
     "status": "ok",
     "timestamp": 1684267562116,
     "user": {
      "displayName": "Radim Jedlička",
      "userId": "11502208915568361358"
     },
     "user_tz": -120
    },
    "id": "s9PemcI2MMco"
   },
   "outputs": [],
   "source": [
    "table_tag_top = soup.find(\"table\", {\"class\": \"tab_top\"})"
   ]
  },
  {
   "cell_type": "code",
   "execution_count": null,
   "metadata": {
    "id": "6HDHVROpMP9V"
   },
   "outputs": [],
   "source": [
    "print(table_tag_top.prettify())"
   ]
  },
  {
   "cell_type": "code",
   "execution_count": null,
   "metadata": {
    "id": "WZmIAT7dMXCu"
   },
   "outputs": [],
   "source": [
    "dir(table_tag_top)"
   ]
  },
  {
   "cell_type": "markdown",
   "metadata": {
    "id": "0nJy_fG0tiwl"
   },
   "source": [
    "Jakmile máme celou tabulku, snažíme se rozptyl zmenšit a najít pouze tagy s jednotlivými hráči. Vidíme, že každý hráč je na řádku. Dále, že každý řádek je schovaný za tagem `tr`.\n"
   ]
  },
  {
   "cell_type": "markdown",
   "metadata": {
    "id": "qCI5_B2ntmXu"
   },
   "source": [
    "<br>\n",
    "\n",
    "### **Selekce elementů `tr`, řádků**\n"
   ]
  },
  {
   "cell_type": "code",
   "execution_count": 35,
   "metadata": {
    "executionInfo": {
     "elapsed": 355,
     "status": "ok",
     "timestamp": 1684267628265,
     "user": {
      "displayName": "Radim Jedlička",
      "userId": "11502208915568361358"
     },
     "user_tz": -120
    },
    "id": "0TnRkfbUtiVy"
   },
   "outputs": [],
   "source": [
    "vsechny_tr = table_tag_top.find_all(\"tr\")"
   ]
  },
  {
   "cell_type": "code",
   "execution_count": null,
   "metadata": {
    "id": "tjylU0GStrnI"
   },
   "outputs": [],
   "source": [
    "dir(vsechny_tr)"
   ]
  },
  {
   "cell_type": "code",
   "execution_count": null,
   "metadata": {
    "id": "gHKIWEQ6tzpJ"
   },
   "outputs": [],
   "source": [
    "print(vsechny_tr)"
   ]
  },
  {
   "cell_type": "code",
   "execution_count": null,
   "metadata": {
    "id": "CnM63n_ptvAN"
   },
   "outputs": [],
   "source": [
    "vsechny_tr[1]"
   ]
  },
  {
   "cell_type": "code",
   "execution_count": 40,
   "metadata": {
    "colab": {
     "base_uri": "https://localhost:8080/"
    },
    "executionInfo": {
     "elapsed": 230,
     "status": "ok",
     "timestamp": 1684267729823,
     "user": {
      "displayName": "Radim Jedlička",
      "userId": "11502208915568361358"
     },
     "user_tz": -120
    },
    "id": "FocuWaeruSCY",
    "outputId": "ac5a96ed-0c07-4201-fba4-7a3bae844b30"
   },
   "outputs": [
    {
     "data": {
      "text/plain": [
       "bs4.element.ResultSet"
      ]
     },
     "execution_count": 40,
     "metadata": {},
     "output_type": "execute_result"
    }
   ],
   "source": [
    "type(vsechny_tr)"
   ]
  },
  {
   "cell_type": "code",
   "execution_count": 41,
   "metadata": {
    "colab": {
     "base_uri": "https://localhost:8080/"
    },
    "executionInfo": {
     "elapsed": 246,
     "status": "ok",
     "timestamp": 1684267734660,
     "user": {
      "displayName": "Radim Jedlička",
      "userId": "11502208915568361358"
     },
     "user_tz": -120
    },
    "id": "WTLxpyQcuThW",
    "outputId": "a1d1613b-9a0a-4893-c4ee-893653acade0"
   },
   "outputs": [
    {
     "data": {
      "text/plain": [
       "bs4.element.Tag"
      ]
     },
     "execution_count": 41,
     "metadata": {},
     "output_type": "execute_result"
    }
   ],
   "source": [
    "type(vsechny_tr[1])"
   ]
  },
  {
   "cell_type": "markdown",
   "metadata": {
    "id": "fBe-H9ipuaMZ"
   },
   "source": [
    "Na začátku máme **záhlaví** (index `0`), bez toho se obejdeme, stačí aplikovat _slicování_, které datový typ `ResultSet` podporuje.\n",
    "\n",
    "<br>\n",
    "\n",
    "Nyní, když umíme rozdělit html na jednotlivé řádky (s jednotlivými hráči), potřebujeme konečně izolovat jednotlivé buňky, které obsahují konkrétní údaje."
   ]
  },
  {
   "cell_type": "markdown",
   "metadata": {
    "id": "HU8sTc2hum6-"
   },
   "source": [
    "<br>\n",
    "\n",
    "### **Selekce jednotlivých buněk `td`**\n"
   ]
  },
  {
   "cell_type": "code",
   "execution_count": 42,
   "metadata": {
    "colab": {
     "base_uri": "https://localhost:8080/"
    },
    "executionInfo": {
     "elapsed": 255,
     "status": "ok",
     "timestamp": 1684268067076,
     "user": {
      "displayName": "Radim Jedlička",
      "userId": "11502208915568361358"
     },
     "user_tz": -120
    },
    "id": "YrVgKstkuaqa",
    "outputId": "30bdb15e-fd7a-4eef-c481-30aed18103fe"
   },
   "outputs": [
    {
     "name": "stdout",
     "output_type": "stream",
     "text": [
      "\n"
     ]
    }
   ],
   "source": [
    "for tr in vsechny_tr[1:]:             # vynechame zahlavi, budeme mit vlastni\n",
    "    td_na_radku = tr.find_all(\"td\")\n",
    "    print(td_na_radku[1].get_text())  # Pozor, seznam bunek\n",
    "    break                             # po prvnim cyklu ukoncime"
   ]
  },
  {
   "cell_type": "code",
   "execution_count": 43,
   "metadata": {
    "colab": {
     "base_uri": "https://localhost:8080/"
    },
    "executionInfo": {
     "elapsed": 235,
     "status": "ok",
     "timestamp": 1684268080253,
     "user": {
      "displayName": "Radim Jedlička",
      "userId": "11502208915568361358"
     },
     "user_tz": -120
    },
    "id": "oFRZFKAmu9vP",
    "outputId": "dcff0f28-cf6a-4ad6-b0fa-d18e7f937873"
   },
   "outputs": [
    {
     "name": "stdout",
     "output_type": "stream",
     "text": [
      "[<td class=\"right\">1.</td>,\n",
      " <td class=\"right\"><div style=\"margin-top: -3px; margin-bottom: -3px; margin-right: 1px;\"><img alt=\"Šampion\" src=\"https://heroes3.cz/_include/img/skupiny/1.png\" style=\"cursor: help;\" title=\"Šampion\"/></div></td>,\n",
      " <td><a href=\"https://heroes3.cz/hraci/detail.php?id=5321\">Lord Slayer</a></td>,\n",
      " <td class=\"right\">0</td>,\n",
      " <td class=\"right\">1772</td>,\n",
      " <td class=\"right\">147</td>,\n",
      " <td class=\"right\">429</td>,\n",
      " <td class=\"right\">34%</td>,\n",
      " <td class=\"right\">11. 6. 2017</td>,\n",
      " <td class=\"right\">240</td>,\n",
      " <td class=\"right\">391</td>]\n"
     ]
    }
   ],
   "source": [
    "from pprint import pprint\n",
    "pprint(td_na_radku)"
   ]
  },
  {
   "cell_type": "code",
   "execution_count": 44,
   "metadata": {
    "colab": {
     "base_uri": "https://localhost:8080/"
    },
    "executionInfo": {
     "elapsed": 237,
     "status": "ok",
     "timestamp": 1684268091741,
     "user": {
      "displayName": "Radim Jedlička",
      "userId": "11502208915568361358"
     },
     "user_tz": -120
    },
    "id": "v2pdkbX9vcfg",
    "outputId": "bf7928d6-df17-45fd-c835-05b0315f6e29"
   },
   "outputs": [
    {
     "name": "stdout",
     "output_type": "stream",
     "text": [
      "1.\n"
     ]
    }
   ],
   "source": [
    "print(td_na_radku[0].get_text())"
   ]
  },
  {
   "cell_type": "code",
   "execution_count": 45,
   "metadata": {
    "colab": {
     "base_uri": "https://localhost:8080/"
    },
    "executionInfo": {
     "elapsed": 263,
     "status": "ok",
     "timestamp": 1684268095198,
     "user": {
      "displayName": "Radim Jedlička",
      "userId": "11502208915568361358"
     },
     "user_tz": -120
    },
    "id": "Bq-mptYJvexo",
    "outputId": "8323733a-e79f-4c2d-b437-aff9c96c8046"
   },
   "outputs": [
    {
     "name": "stdout",
     "output_type": "stream",
     "text": [
      "Lord Slayer\n"
     ]
    }
   ],
   "source": [
    "print(td_na_radku[2].text)"
   ]
  },
  {
   "cell_type": "code",
   "execution_count": 46,
   "metadata": {
    "colab": {
     "base_uri": "https://localhost:8080/"
    },
    "executionInfo": {
     "elapsed": 847,
     "status": "ok",
     "timestamp": 1684268099431,
     "user": {
      "displayName": "Radim Jedlička",
      "userId": "11502208915568361358"
     },
     "user_tz": -120
    },
    "id": "3g060ZlZvhUf",
    "outputId": "37ad7159-a0c8-4b85-f720-8c802c6c2c82"
   },
   "outputs": [
    {
     "name": "stdout",
     "output_type": "stream",
     "text": [
      "Lord Slayer\n"
     ]
    }
   ],
   "source": [
    "print(td_na_radku[2].string)"
   ]
  },
  {
   "cell_type": "code",
   "execution_count": 47,
   "metadata": {
    "colab": {
     "base_uri": "https://localhost:8080/"
    },
    "executionInfo": {
     "elapsed": 258,
     "status": "ok",
     "timestamp": 1684268103531,
     "user": {
      "displayName": "Radim Jedlička",
      "userId": "11502208915568361358"
     },
     "user_tz": -120
    },
    "id": "gqDWQ4BFvlfK",
    "outputId": "e28a442f-5345-4c9a-96d9-071961e624a5"
   },
   "outputs": [
    {
     "name": "stdout",
     "output_type": "stream",
     "text": [
      "Lord Slayer\n"
     ]
    }
   ],
   "source": [
    "print(td_na_radku[2].getText())"
   ]
  },
  {
   "cell_type": "code",
   "execution_count": 48,
   "metadata": {
    "executionInfo": {
     "elapsed": 247,
     "status": "ok",
     "timestamp": 1684268296393,
     "user": {
      "displayName": "Radim Jedlička",
      "userId": "11502208915568361358"
     },
     "user_tz": -120
    },
    "id": "PW4RUn4Avs-R"
   },
   "outputs": [],
   "source": [
    "def vyber_atributy_z_radku(tr_tag: \"bs4.element.ResultSet\"):\n",
    "    \"\"\"\n",
    "    Z kazdeho radku (tr) vyber urcite bunky (td)[index])\n",
    "    a zabal je do slovniku\n",
    "    \"\"\"\n",
    "    return {\n",
    "        \"poradi\": tr_tag[0].getText(),\n",
    "        \"jmeno\": tr_tag[2].getText(),\n",
    "        \"vitezstvi\": tr_tag[5].getText(),\n",
    "        \"celkem_her\": tr_tag[6].getText()\n",
    "    }\n"
   ]
  },
  {
   "cell_type": "code",
   "execution_count": 49,
   "metadata": {
    "executionInfo": {
     "elapsed": 239,
     "status": "ok",
     "timestamp": 1684268320442,
     "user": {
      "displayName": "Radim Jedlička",
      "userId": "11502208915568361358"
     },
     "user_tz": -120
    },
    "id": "WodIBh3Xv0eq"
   },
   "outputs": [],
   "source": [
    "vysledky = []\n",
    "\n",
    "for tr in vsechny_tr[1:]:\n",
    "    td_na_radku = tr.find_all(\"td\")\n",
    "    data_hrace = vyber_atributy_z_radku(td_na_radku)\n",
    "    vysledky.append(data_hrace)"
   ]
  },
  {
   "cell_type": "code",
   "execution_count": null,
   "metadata": {
    "id": "OHqWG8Env3iy"
   },
   "outputs": [],
   "source": [
    "from pprint import pprint\n",
    "pprint(vysledky)"
   ]
  },
  {
   "cell_type": "markdown",
   "metadata": {
    "id": "MNkHNij_wu0O"
   },
   "source": [
    "kratší zápis"
   ]
  },
  {
   "cell_type": "code",
   "execution_count": 51,
   "metadata": {
    "executionInfo": {
     "elapsed": 303,
     "status": "ok",
     "timestamp": 1684268359877,
     "user": {
      "displayName": "Radim Jedlička",
      "userId": "11502208915568361358"
     },
     "user_tz": -120
    },
    "id": "HkMzyVURwf2O"
   },
   "outputs": [],
   "source": [
    "data_o_hracich: list = list()\n",
    "\n",
    "for tr in vsechny_tr[1:]:\n",
    "    data_o_hracich.append(vyber_atributy_z_radku(tr.find_all(\"td\")))"
   ]
  },
  {
   "cell_type": "code",
   "execution_count": null,
   "metadata": {
    "id": "2BsL46u2whl6"
   },
   "outputs": [],
   "source": [
    "pprint(data_o_hracich)"
   ]
  },
  {
   "cell_type": "markdown",
   "metadata": {
    "id": "CjxbR1qGw0-Q"
   },
   "source": [
    "<br>\n",
    "\n",
    "Nyní umíme sbírat jednotlivé položky u všech hráčů, takže můžeme aplikovat stejný postup na celý `ResultSet` s použitím *list comprehension*."
   ]
  },
  {
   "cell_type": "code",
   "execution_count": 60,
   "metadata": {
    "executionInfo": {
     "elapsed": 251,
     "status": "ok",
     "timestamp": 1684268725202,
     "user": {
      "displayName": "Radim Jedlička",
      "userId": "11502208915568361358"
     },
     "user_tz": -120
    },
    "id": "eYaFXIfcw1Lb"
   },
   "outputs": [],
   "source": [
    "data_o_hracich = [\n",
    "    vyber_atributy_z_radku(tr.find_all(\"td\"))\n",
    "    for tr in vsechny_tr[1:]\n",
    "]"
   ]
  },
  {
   "cell_type": "code",
   "execution_count": null,
   "metadata": {
    "id": "sfAyzztUxGX0"
   },
   "outputs": [],
   "source": [
    "print(data_o_hracich)"
   ]
  },
  {
   "cell_type": "markdown",
   "metadata": {
    "id": "lNnMHRvixRnR"
   },
   "source": [
    "<br>\n",
    "\n",
    "### **Ukládání údajů do souboru**\n"
   ]
  },
  {
   "cell_type": "markdown",
   "metadata": {
    "id": "l_JOi5XjxWuX"
   },
   "source": [
    "Úplně nakonec chceme námi posbírané údaje uložit ve formátu `csv` do příslušného souboru:"
   ]
  },
  {
   "cell_type": "code",
   "execution_count": 61,
   "metadata": {
    "executionInfo": {
     "elapsed": 261,
     "status": "ok",
     "timestamp": 1684268727113,
     "user": {
      "displayName": "Radim Jedlička",
      "userId": "11502208915568361358"
     },
     "user_tz": -120
    },
    "id": "MHPL09ouxVAe"
   },
   "outputs": [],
   "source": [
    "import csv\n",
    "import traceback\n",
    "\n",
    "def zapis_data(data: list, jmeno_souboru: str) -> str:\n",
    "    \"\"\"\n",
    "    Zkus zapsat udaje z par. 'data' do souboru formatu .csv.\n",
    "    \"\"\"\n",
    "    try:\n",
    "        csv_soubor = open(jmeno_souboru, mode=\"w\", encoding=\"utf-8\")\n",
    "        sloupce = data[0].keys()\n",
    "        \n",
    "    except FileExistsError:\n",
    "        return traceback.format_exc()\n",
    "    except IndexError:\n",
    "        return traceback.format_exc()\n",
    "    else:\n",
    "        zapis = csv.DictWriter(csv_soubor, fieldnames=sloupce)\n",
    "        zapis.writeheader()\n",
    "        zapis.writerows(data)\n",
    "        return \"Saved\"\n",
    "    finally:\n",
    "        csv_soubor.close()"
   ]
  },
  {
   "cell_type": "code",
   "execution_count": null,
   "metadata": {
    "id": "4bBDGdN4xhzA"
   },
   "outputs": [],
   "source": [
    "vysledek = zapis_data(data_o_hracich, f\"samples/tabulka_1.csv\")"
   ]
  },
  {
   "cell_type": "code",
   "execution_count": null,
   "metadata": {
    "id": "FgTqKk-WxlSA"
   },
   "outputs": [],
   "source": [
    "print(vysledek)"
   ]
  },
  {
   "cell_type": "markdown",
   "metadata": {
    "id": "YgkbJn-Gxxta"
   },
   "source": [
    "<br>\n",
    "\n",
    "### **Vyzkoušíme další tabulky**\n",
    "\n",
    "Pokud vám správně funguje varianta pro první tabulku, zkuste vkládat odkazy pro další tabulky, resp. tabulky další v pořadí.\n",
    "\n",
    "<br>\n",
    "\n",
    "Případně můžete zapsat tento proces pomocí programu v Pythonu, který lze spouštět s různými argumenty (první pro číslo tabulky, druhý pro jméno výstupu v `csv`)."
   ]
  },
  {
   "cell_type": "code",
   "execution_count": null,
   "metadata": {
    "id": "GNfzgiRvx1MP"
   },
   "outputs": [],
   "source": [
    "jmeno_csv = sys.argv[2]  # vystup_tab_1.csv\n",
    "cislo_tab = sys.argv[1]  # 1"
   ]
  },
  {
   "cell_type": "code",
   "execution_count": null,
   "metadata": {
    "id": "aEH9aEHWx4V5"
   },
   "outputs": [],
   "source": [
    "cislo_tab = \"2\"\n",
    "url = f\"https://heroes3.cz/hraci/index.php?page={cislo_tab}&order=&razeni=DESC\""
   ]
  },
  {
   "cell_type": "markdown",
   "metadata": {
    "id": "YeYesVVQx9qO"
   },
   "source": [
    "<br>\n",
    "\n",
    "## **S velkou mocí příchází velká zodpovědnost**\n",
    "\n",
    "---\n",
    "\n",
    "1. Než se pustíme do scrapingu, zkontolujeme `robots.txt` (allow/disallow)\n",
    "2. Zkontrolujeme, jestli služba nenabízí API (není třeba scrapovat, ale využít endpoint)\n",
    "3. Nezatěžujeme server velkým množstvím dotazů v krátkém časovém horizontu (pád->blokování)\n",
    "4. Nepoužívám cizí data ke komerčním účelům (_pravidla&podmínky_)\n",
    "5. requests, bs4, urllib.requests, htmlparser, requests-html, scrapy, selenium, aj.\n",
    "\n",
    "---\n",
    "\n",
    "<br>"
   ]
  },
  {
   "cell_type": "code",
   "execution_count": null,
   "metadata": {
    "id": "uyzm4xbkyAu4"
   },
   "outputs": [],
   "source": []
  }
 ],
 "metadata": {
  "colab": {
   "authorship_tag": "ABX9TyM3DtacFdsHXRuk4lRDyl5l",
   "provenance": []
  },
  "kernelspec": {
   "display_name": "Python 3 (ipykernel)",
   "language": "python",
   "name": "python3"
  },
  "language_info": {
   "codemirror_mode": {
    "name": "ipython",
    "version": 3
   },
   "file_extension": ".py",
   "mimetype": "text/x-python",
   "name": "python",
   "nbconvert_exporter": "python",
   "pygments_lexer": "ipython3",
   "version": "3.10.0"
  }
 },
 "nbformat": 4,
 "nbformat_minor": 1
}
