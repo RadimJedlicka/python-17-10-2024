{
 "cells": [
  {
   "cell_type": "markdown",
   "metadata": {
    "id": "8amrQZvtDC_J"
   },
   "source": [
    "<br>\n",
    "\n",
    "# <h1 align=center><font size=24><b> 🐍 A jsme na konci !!! 🎆</font></h1>\n",
    "\n",
    "<br>\n"
   ]
  },
  {
   "cell_type": "markdown",
   "metadata": {
    "id": "13B9xrAxCXCp"
   },
   "source": [
    "\n",
    "---\n",
    "\n",
    "<br>\n",
    "\n",
    "#### Kam dál?\n",
    "1. Dejte tomu čas, nechte to sednout,\n",
    "2. projít ještě jednou jednotlivé lekce a úlohy,\n",
    "3. komunikace v rámci Discordu,\n",
    "4. aktualizace [portálu learn.engeto.com](https://learn.engeto.com) úpravy, nové úkoly, teorie.\n",
    "\n",
    "<br>\n",
    "\n",
    "#### Jak se zdokonalovat?\n",
    "1. Čtení + psaní + diskuze (Discord zůstává aktivní),\n",
    "2. svatá trojice (*algorithm, data structures, libraries*),\n",
    "3. **nekopírujte projekty ostatních!** Vymyslete, co by se mohlo vám/vašim známým hodit.\n",
    "\n",
    "<br>\n",
    "\n",
    "#### Je libo přitvrdit?\n",
    "1. Git, přík.řádek, IDE, textové editory, virt. prostředí, SQL, pip3, OOP, další knihovny,..\n",
    "2. pokračovat v další teorii jenom pokud si budete v základních a mírně pokročilých pojmech jistější,\n",
    "3. Kurz **datové analýzy**,\n",
    "4. **OOP Python** (?).\n",
    "\n",
    "<br>\n",
    "\n",
    "#### Komunita?\n",
    "1. [pyvo](https://pyvo.cz/) - organizování setkání po celé Čoro\n",
    "2. [junior.guru](https://junior.guru/jobs/) (autor: Honza Javorek)\n",
    "3. [příručka o hledání první práce v IT](https://junior.guru/candidate-handbook/) (autor: Honza Javorek)\n",
    "4. fóra na sociálních sítích\n",
    "5. servery na Discordu"
   ]
  }
 ],
 "metadata": {
  "colab": {
   "authorship_tag": "ABX9TyMii0nv1t4+pD2Zqojs5mLj",
   "provenance": []
  },
  "kernelspec": {
   "display_name": "Python 3 (ipykernel)",
   "language": "python",
   "name": "python3"
  },
  "language_info": {
   "codemirror_mode": {
    "name": "ipython",
    "version": 3
   },
   "file_extension": ".py",
   "mimetype": "text/x-python",
   "name": "python",
   "nbconvert_exporter": "python",
   "pygments_lexer": "ipython3",
   "version": "3.10.0"
  }
 },
 "nbformat": 4,
 "nbformat_minor": 1
}
