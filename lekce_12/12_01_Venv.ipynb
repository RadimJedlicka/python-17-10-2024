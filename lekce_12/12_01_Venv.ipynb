{
 "cells": [
  {
   "cell_type": "markdown",
   "metadata": {
    "id": "MTgwr-E18Q34"
   },
   "source": [
    "<h6 align=right> 🐍 Python akademie - lekce 12 - 16.01.2024</h6>\n",
    "\n",
    "---\n",
    "\n"
   ]
  },
  {
   "cell_type": "markdown",
   "metadata": {
    "id": "6uiuESPO8TXB"
   },
   "source": [
    "<br>\n",
    "\n",
    "# <h1 align=center><font size=24><b> 12_01:  Virtuální prostředí a knihovny třetích stran</font></h1>\n",
    "\n",
    "<br>\n"
   ]
  },
  {
   "cell_type": "markdown",
   "metadata": {
    "id": "UxRiz--RIEGy"
   },
   "source": [
    "<br>\n",
    "\n",
    "---\n",
    "\n",
    "### **Zajímavé odkazy z této lekce:**\n",
    "\n",
    "* [Dokumentace k oficiálním prostředím](https://docs.python.org/3/tutorial/venv.html)\n",
    "* [Virtuální prostředí ve VSCode](https://code.visualstudio.com/docs/python/environments)\n",
    "* [Jak vytvořit soubor requirements](https://learnpython.com/blog/python-requirements-file//)\n",
    "* [Oficiální zdroj **knihoven** třetích stran pro Python (pypi.org)](https://pypi.org/)\n",
    "\n",
    "\n",
    "\n",
    "---\n",
    "\n",
    "<br>"
   ]
  },
  {
   "cell_type": "markdown",
   "metadata": {
    "id": "jyoq1QZPGoMQ"
   },
   "source": [
    "<br>\n",
    "\n",
    "Podle původu můžeme říct, že máme dva typy knihoven:\n",
    "1. **Standartní** knihovny (tedy dostupné ihned po instalaci)\n",
    "2. Knihovny **třetích stran** (je nutné je doinstalovat)\n",
    "\n",
    "<br>\n",
    "\n",
    "Tyto knihovny v podstatě vytvořili uživatelé podobní nám. Zapsali kus kódu, o kterém byli přesvědčení, že jej není potřebné opisovat neustále dokola a uploadovali jeho podobu pro všechny ostatní.\n",
    "\n",
    "<br>\n",
    "\n",
    "Knihovny můžete vyhledávat např. na webu [pypi.org](https://pypi.org/)\n",
    "\n",
    "<br>\n",
    "\n"
   ]
  },
  {
   "cell_type": "markdown",
   "metadata": {
    "id": "JRXfSH-_Ho17"
   },
   "source": [
    "<br>\n",
    "\n",
    "## **Virtuální prostředí**\n",
    "\n",
    "---"
   ]
  },
  {
   "cell_type": "markdown",
   "metadata": {
    "id": "6hvdBT3UHlGB"
   },
   "source": [
    "Docela často nastane situace, že budete pracovat na **několika různých projektech** v Pythonu.\n",
    "<br>\n",
    "\n",
    "Dobrým zvykem bývá **oddělit knihovny pro různé projekty**, abyste neinstalovali knihovny *globálně* ve vašem počítači, ale ke konkrétním projektům (pomocí tzv. *virtuálních prostředí*)\n",
    "\n",
    "<br>"
   ]
  },
  {
   "cell_type": "markdown",
   "metadata": {
    "id": "t10v_a8hH2sv"
   },
   "source": [
    "---\n",
    "\n",
    "1. Vytvoříme virtualní pracovní prostředí:\n",
    "```bash\n",
    "$ python3 -m venv <jmeno_prostredi>\n",
    "```\n",
    "\n",
    "<br>\n",
    "\n",
    "2. Aktivujeme virtuální pracovní prostředí pomocí jeho jména. Po aktivaci dostaneme na začátku dotazovacího řádku závorku se jménem prostředí (př. `(env)`):\n",
    "\n",
    "    Pro Windows:\n",
    "    ```bash\n",
    "    <jmeno_prostredi>\\Scripts\\activate\n",
    "    ```\n",
    "    Pro Linux nebo MacOS:\n",
    "    ```bash\n",
    "    $ source <jmeno_prostredi>/bin/activate\n",
    "    ```\n",
    "\n",
    "    Deaktivace virtuálního prostředí:\n",
    "    ```bash\n",
    "    $ deactivate  # pro ukonceni virt. prostredi\n",
    "    ```\n",
    "\n",
    "<br>\n",
    "\n",
    "3. Ověříme dostupnost správce balíčků `pip3 --version`\n",
    "\n",
    "<br>\n",
    "\n"
   ]
  },
  {
   "cell_type": "markdown",
   "metadata": {
    "id": "C5lRvPcwyv7_"
   },
   "source": [
    "### **Cvičení**\n",
    "\n",
    "Zkus spustit následující kód ve VSC bez nainstalovaných knihoven:"
   ]
  },
  {
   "cell_type": "code",
   "execution_count": null,
   "metadata": {
    "id": "bBCaUoiAy9IY"
   },
   "outputs": [],
   "source": [
    "x = [45, 56, 78]\n",
    "y = [23, 45, 65]\n",
    "\n",
    "plt.plot(x, y)\n",
    "plt.show()\n",
    "\n",
    "print('Jak se vám zatím líbí poslední lekce?')"
   ]
  },
  {
   "cell_type": "markdown",
   "metadata": {
    "id": "jfewRk3Dytnb"
   },
   "source": [
    "4. Pokud máme, instalujeme balíčky (např. z [pypi.org](https://pypi.org/)):\n",
    "```bash\n",
    "pip3 install <jmeno_balicku>         # instalace\n",
    "pip3 uninstall <jmeno_balicku>       # odstraneni\n",
    "pip3 --help                          # napoveda\n",
    "```\n",
    "\n",
    "<br>\n",
    "\n",
    "5. Vytvoříme soubor `requirements.txt`, který obsahuje jména a verze knihoven, aby mohli i ostatní uživatele nainstalovat externí knihovny, které používáme nyní v našich souborech:\n",
    "```bash\n",
    "pip3 freeze > requirements.txt\n",
    "```\n",
    "\n",
    "<br>\n",
    "\n",
    "6. Pokud někdy na takový soubor narazíte, opět vytvořte nové virtuální pracovní prostředí a nainstalujte vše, co je zmíněné uvnitř souboru `requirements.txt`:\n",
    "```bash\n",
    "pip3 install -r requirements.txt\n",
    "```\n",
    "\n",
    "<br>\n",
    "\n",
    "7. Jak udržovat balíčky aktuální:\n",
    "```bash\n",
    "pip3 list --outdated       # zobrazím výpis všech neaktuálních knihoven\n",
    "pip3 install --upgrade <jmeno_knihovny>       # upgradování\n",
    "pip3 install <jmeno_knihovny>==<cislo_verze>  # alternativní řešení\n",
    "```\n",
    "\n",
    "<br>\n",
    "\n",
    "<p align=\"center\">\n",
    "  <img alt=\"pycharm-icon\" width=\"80px\" src=\"https://caktus-website-production-2015.s3.amazonaws.com/media/blog-images/logo.png\" />\n",
    "</p>\n",
    "\n",
    "#### 🐍 Pomocí PyCharm\n",
    "\n",
    "---\n",
    "\n",
    "1. Spustíme Pycharm a otevřeme náš projekt\n",
    "2. `ctrl + alt + s` -> Settings\n",
    "3. -> `Project: <jmeno_projektu>`\n",
    "4. -> vedle `Project interpreter` ⚙ -> `Add...` -> vybereme buď nové/existující\n",
    "5. ve složce `bin` najdeme interpret Pythonu `python3`/`python` a potvrdíme\n",
    "6. Dále vybereme `Apply` + `Ok`\n",
    "7. ➕ Instalovat knihovny pomoci symbolu `+` dole pod nabidkou\n",
    "8. `Terminal` dole na liste pro export zavislosti (`pip3 freeze > requirements.txt`)\n",
    "\n",
    "---"
   ]
  },
  {
   "cell_type": "code",
   "execution_count": null,
   "metadata": {
    "id": "XqKbjKzAyt8l"
   },
   "outputs": [],
   "source": []
  }
 ],
 "metadata": {
  "colab": {
   "authorship_tag": "ABX9TyNUQ7iqIvPxpZq6WLEm/xTq",
   "provenance": []
  },
  "kernelspec": {
   "display_name": "Python 3 (ipykernel)",
   "language": "python",
   "name": "python3"
  },
  "language_info": {
   "codemirror_mode": {
    "name": "ipython",
    "version": 3
   },
   "file_extension": ".py",
   "mimetype": "text/x-python",
   "name": "python",
   "nbconvert_exporter": "python",
   "pygments_lexer": "ipython3",
   "version": "3.10.0"
  }
 },
 "nbformat": 4,
 "nbformat_minor": 1
}
