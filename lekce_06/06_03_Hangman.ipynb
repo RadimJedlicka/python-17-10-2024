{
 "cells": [
  {
   "cell_type": "markdown",
   "metadata": {
    "id": "Li_hIgYuhmzY"
   },
   "source": [
    "<h6 align=right> 🐍 Python akademie - lekce 6 - 21.11.2024</h6>"
   ]
  },
  {
   "cell_type": "markdown",
   "metadata": {
    "id": "2VadtFHthpiA"
   },
   "source": [
    "# <h1 align=center><font color=black size=24><b> ➰👨 Hangman</font></h1>\n",
    "\n",
    "<p align=center> (praktická úloha na závěr lekce)</p>\n",
    "\n",
    "<br>\n",
    "\n",
    "---"
   ]
  },
  {
   "cell_type": "markdown",
   "metadata": {
    "id": "7tq_0umuMd6e"
   },
   "source": [
    "<br>\n",
    "\n",
    "## **Zadání**\n",
    "\n",
    "**Šibenice** nebo také **Oběšenec** či **Kat** https://cs.wikipedia.org/wiki/%C5%A0ibenice_(hra)\n",
    "\n",
    "* Nejprve si společne zapíšeme řešení svépomocí.\n",
    "* Následně si vyzkoušíme zjednodušit celou situaci pomocí existujících (nebo námi napsaných) modulů.\n",
    "\n",
    "\n",
    "Krok za krokem vyřešíme tyto body:\n",
    "1. Zapiš **hrubý průběh** hry,\n",
    "2. vyhodnocení **hádání celého slova** a **neúspěchu**,\n",
    "3. **vyhodnocení hry**,\n",
    "4. hádání **více slov**,\n",
    "5. **přepisování** (překreslování) figurky oběšence,\n",
    "6. hádání **po písmenech**.\n",
    "\n",
    "<br>\n",
    "\n",
    "#### Úspěch\n",
    "\n",
    "---\n",
    "\n",
    "<a href=\"https://imgur.com/bVsDvqg\"><img src=\"https://i.imgur.com/bVsDvqg.gif\" title=\"source: imgur.com\" /></a>\n",
    "\n",
    "<br>\n",
    "\n",
    "#### Neúspěch\n",
    "\n",
    "---\n",
    "\n",
    "<a href=\"https://imgur.com/6hnwi4y\"><img src=\"https://i.imgur.com/6hnwi4y.gif\" title=\"source: imgur.com\" /></a>"
   ]
  },
  {
   "cell_type": "markdown",
   "metadata": {
    "id": "seSbyB0iTMZc"
   },
   "source": [
    "<br>\n",
    "\n",
    "## **Vstupní údaje, které použijeme**"
   ]
  },
  {
   "cell_type": "code",
   "execution_count": 2,
   "metadata": {
    "executionInfo": {
     "elapsed": 259,
     "status": "ok",
     "timestamp": 1680643492298,
     "user": {
      "displayName": "Radim Jedlička",
      "userId": "11502208915568361358"
     },
     "user_tz": -120
    },
    "id": "Rrf7FNGciOUA"
   },
   "outputs": [],
   "source": [
    "zivoty = 7\n",
    "hra_bezi = True\n",
    "slovo = \"obesenec\"\n",
    "tajenka = len(slovo) * [\"_\"]"
   ]
  },
  {
   "cell_type": "code",
   "execution_count": 3,
   "metadata": {
    "colab": {
     "base_uri": "https://localhost:8080/"
    },
    "executionInfo": {
     "elapsed": 27873,
     "status": "ok",
     "timestamp": 1680643522456,
     "user": {
      "displayName": "Radim Jedlička",
      "userId": "11502208915568361358"
     },
     "user_tz": -120
    },
    "id": "LwvDeaNB2iGX",
    "outputId": "6ff1266a-e2fa-420c-8240-6f50b1741d44"
   },
   "outputs": [
    {
     "name": "stdout",
     "output_type": "stream",
     "text": [
      "Mounted at /drive\n"
     ]
    }
   ],
   "source": [
    "# Connect this Colab to your Drive \n",
    "from google.colab import drive\n",
    "drive.mount('/drive')\n",
    "\n",
    "import sys\n",
    "sys.path.append('/drive/MyDrive/ENGETO/LEKTOR/Python_Akademie/06_Knihovny-moduly-balicky/06_ONSITE')"
   ]
  },
  {
   "cell_type": "markdown",
   "metadata": {
    "id": "SLRUd1K6wtMh"
   },
   "source": [
    "<br>\n",
    "\n",
    "## **Průběh hry**"
   ]
  },
  {
   "cell_type": "markdown",
   "metadata": {
    "id": "W7uaRwnOTc9Y"
   },
   "source": [
    "### <font color=red><b>Očekáváme:</b>\n",
    "\n",
    "Celé slovo:\n",
    "```\n",
    "Tajenka: _ _ _ _ _ _ _ _\n",
    "Hadej pismeno/slovo: obesenec\n",
    "super!\n",
    "```\n",
    "\n",
    "<br>\n",
    "\n",
    "Jedno písmeno:\n",
    "```\n",
    "Tajenka: _ _ _ _ _ _ _ _\n",
    "Hadej pismeno/slovo: o\n",
    "Uhodls pismeno!\n",
    "\n",
    "Tajenka: _ _ _ _ _ _ _ _\n",
    "...\n",
    "```\n",
    "\n",
    "<br>\n",
    "\n",
    "Špatné hádání:\n",
    "```\n",
    "Tajenka: _ _ _ _ _ _ _ _\n",
    "Hadej pismeno/slovo: a\n",
    "chyba!\n",
    "\n",
    "Tajenka: _ _ _ _ _ _ _ _\n",
    "...\n",
    "```"
   ]
  },
  {
   "cell_type": "markdown",
   "metadata": {
    "id": "543A1StbxELX"
   },
   "source": [
    "### <font color=ligtblue><b> 💻 Kód:</b>"
   ]
  },
  {
   "cell_type": "code",
   "execution_count": 5,
   "metadata": {
    "colab": {
     "base_uri": "https://localhost:8080/"
    },
    "executionInfo": {
     "elapsed": 32419,
     "status": "ok",
     "timestamp": 1680643616093,
     "user": {
      "displayName": "Radim Jedlička",
      "userId": "11502208915568361358"
     },
     "user_tz": -120
    },
    "id": "f8qLZCH3xKOC",
    "outputId": "605be1e5-dfc0-46db-d749-5c89d75ebc92"
   },
   "outputs": [
    {
     "name": "stdout",
     "output_type": "stream",
     "text": [
      "Tajenka: _ _ _ _ _ _ _ _\n",
      "Hadej pismeno/slovo: o\n",
      "Uhodls pismeno!\n",
      "\n",
      "Tajenka: _ _ _ _ _ _ _ _\n",
      "Hadej pismeno/slovo: r\n",
      "chyba!\n",
      "\n",
      "Tajenka: _ _ _ _ _ _ _ _\n",
      "Hadej pismeno/slovo: t\n",
      "chyba!\n",
      "\n",
      "Tajenka: _ _ _ _ _ _ _ _\n",
      "Hadej pismeno/slovo: y\n",
      "chyba!\n",
      "\n",
      "Tajenka: _ _ _ _ _ _ _ _\n",
      "Hadej pismeno/slovo: u\n",
      "chyba!\n",
      "\n",
      "Tajenka: _ _ _ _ _ _ _ _\n",
      "Hadej pismeno/slovo: i\n",
      "chyba!\n",
      "\n",
      "Tajenka: _ _ _ _ _ _ _ _\n",
      "Hadej pismeno/slovo: o\n",
      "Uhodls pismeno!\n",
      "\n",
      "Tajenka: _ _ _ _ _ _ _ _\n",
      "Hadej pismeno/slovo: p\n",
      "chyba!\n",
      "\n",
      "Tajenka: _ _ _ _ _ _ _ _\n",
      "Hadej pismeno/slovo: [\n",
      "chyba!\n",
      "\n"
     ]
    }
   ],
   "source": [
    "zivoty = 7\n",
    "hra_bezi = True\n",
    "slovo = \"obesenec\"\n",
    "tajenka = len(slovo) * [\"_\"]\n",
    "\n",
    "while hra_bezi and zivoty > 0:\n",
    "    print(f\"Tajenka: {' '.join(tajenka)}\")\n",
    "    hadani = input(\"Hadej pismeno/slovo: \")\n",
    "    \n",
    "    if hadani == slovo:\n",
    "        print(\"super!\")           # dočasné\n",
    "        hra_bezi = False\n",
    "    elif len(hadani) == 1 and hadani in slovo:\n",
    "        print(\"Uhodls pismeno!\")  # dočasné\n",
    "        print()\n",
    "    else:\n",
    "        zivoty = zivoty - 1\n",
    "        print(\"chyba!\")          # dočasné\n",
    "        print()"
   ]
  },
  {
   "cell_type": "markdown",
   "metadata": {
    "id": "n6YolhHhy67q"
   },
   "source": [
    "<br>\n",
    "\n",
    "## **Vyhodnocení hry**"
   ]
  },
  {
   "cell_type": "markdown",
   "metadata": {
    "id": "HCpsTIRwVnHR"
   },
   "source": [
    "### <font color=red><b>Očekáváme:</b>\n",
    "\n",
    "Úspěch:\n",
    "```\n",
    "Tajenka: _ _ _ _ _ _ _ _\n",
    "Hadej pismeno/slovo: obesenec\n",
    "\n",
    "Tajenka: obesenec\n",
    "Vyhráls! Gratulace..\n",
    "```\n",
    "\n",
    "<br>\n",
    "\n",
    "Neúspěch:\n",
    "```\n",
    "...\n",
    "chybka!\n",
    "Tajenka: _ _ _ _ _ _ _ _\n",
    "Hadej pismeno/slovo: a\n",
    "chybka!\n",
    "\n",
    "Prohráls:( snad příště\n",
    "Hledané slovo: *obesenec*\n",
    "...\n",
    "```"
   ]
  },
  {
   "cell_type": "markdown",
   "metadata": {
    "id": "lY-NzLZBzmHU"
   },
   "source": [
    "### <font color=ligtblue><b> 💻 Kód:</b>"
   ]
  },
  {
   "cell_type": "code",
   "execution_count": 6,
   "metadata": {
    "colab": {
     "base_uri": "https://localhost:8080/"
    },
    "executionInfo": {
     "elapsed": 10832,
     "status": "ok",
     "timestamp": 1680643658936,
     "user": {
      "displayName": "Radim Jedlička",
      "userId": "11502208915568361358"
     },
     "user_tz": -120
    },
    "id": "F3LNp37BzqfP",
    "outputId": "6f342982-f73f-44ba-81ac-0ff58cebbe86"
   },
   "outputs": [
    {
     "name": "stdout",
     "output_type": "stream",
     "text": [
      "Tajenka: _ _ _ _ _ _ _ _\n",
      "Hadej pismeno/slovo: o\n",
      "Uhodls pismeno!\n",
      "\n",
      "Tajenka: _ _ _ _ _ _ _ _\n",
      "Hadej pismeno/slovo: obesenec\n",
      "super!\n",
      "Tajenka: obesenec\n",
      "Vyhráls! Gratulace..\n"
     ]
    }
   ],
   "source": [
    "zivoty = 7\n",
    "hra_bezi = True\n",
    "slovo = \"obesenec\"\n",
    "tajenka = len(slovo) * [\"_\"]\n",
    "\n",
    "while hra_bezi and zivoty > 0:\n",
    "    print(f\"Tajenka: {' '.join(tajenka)}\")\n",
    "    hadani = input(\"Hadej pismeno/slovo: \")\n",
    "    \n",
    "    if hadani == slovo:\n",
    "        print(\"super!\")           # dočasné\n",
    "        hra_bezi = False\n",
    "    elif len(hadani) == 1 and hadani in slovo:\n",
    "        print(\"Uhodls pismeno!\")  # dočasné\n",
    "        print()\n",
    "    else:\n",
    "        zivoty = zivoty - 1\n",
    "        print(\"chyba!\")          # dočasné\n",
    "        print()\n",
    "else:\n",
    "    if not hra_bezi:  # hra_bezi == False\n",
    "        print(f\"Tajenka: {slovo}\", \"Vyhráls! Gratulace..\", sep=\"\\n\")\n",
    "    else:             # hra_bezi == True\n",
    "        print(f\"Prohráls:( snad příště\", f\"Hledané slovo: *{slovo}*\", sep=\"\\n\")"
   ]
  },
  {
   "cell_type": "markdown",
   "metadata": {
    "id": "zfZ-gvKs1T7G"
   },
   "source": [
    "<br>\n",
    "\n",
    "## **Hra s více slovy**"
   ]
  },
  {
   "cell_type": "markdown",
   "metadata": {
    "id": "HMXCiLie3byo"
   },
   "source": [
    "### <font color=red><b>Potřebujeme:</b>"
   ]
  },
  {
   "cell_type": "code",
   "execution_count": 10,
   "metadata": {
    "executionInfo": {
     "elapsed": 241,
     "status": "ok",
     "timestamp": 1680643920377,
     "user": {
      "displayName": "Radim Jedlička",
      "userId": "11502208915568361358"
     },
     "user_tz": -120
    },
    "id": "nZihQCjMmj9V"
   },
   "outputs": [],
   "source": [
    "import random"
   ]
  },
  {
   "cell_type": "code",
   "execution_count": 11,
   "metadata": {
    "executionInfo": {
     "elapsed": 589,
     "status": "ok",
     "timestamp": 1680643922012,
     "user": {
      "displayName": "Radim Jedlička",
      "userId": "11502208915568361358"
     },
     "user_tz": -120
    },
    "id": "VF2dZAG52tDY"
   },
   "outputs": [],
   "source": [
    "import slova"
   ]
  },
  {
   "cell_type": "markdown",
   "metadata": {
    "id": "3UCOXZC_3ijl"
   },
   "source": [
    "### <font color=ligtblue><b> 💻 Kód:</b>"
   ]
  },
  {
   "cell_type": "code",
   "execution_count": null,
   "metadata": {
    "id": "_tRdhb9r3mQ0"
   },
   "outputs": [],
   "source": [
    "zivoty = 7\n",
    "hra_bezi = True\n",
    "slovo = random.choice(slova.hadana_slova) # <-----------------------------------\n",
    "tajenka = len(slovo) * [\"_\"]\n",
    "\n",
    "while hra_bezi and zivoty > 0:\n",
    "    print(f\"Tajenka: {' '.join(tajenka)}\")\n",
    "    hadani = input(\"Hadej pismeno/slovo: \")\n",
    "    \n",
    "    if hadani == slovo:\n",
    "        print(\"super!\")           # dočasné\n",
    "        hra_bezi = False\n",
    "    elif len(hadani) == 1 and hadani in slovo:\n",
    "        print(\"Uhodls pismeno!\")  # dočasné\n",
    "        print()\n",
    "    else:\n",
    "        zivoty -= 1\n",
    "        print(\"chyba!\")          # dočasné\n",
    "        print()\n",
    "else:\n",
    "    if not hra_bezi:  # hra_bezi == False\n",
    "        print(f\"Tajenka: {slovo}\", \"Vyhráls! Gratulace..\", sep=\"\\n\")\n",
    "    else:             # hra_bezi == True\n",
    "        print(f\"Prohráls:( snad příště\", f\"Hledané slovo: *{slovo}*\", sep=\"\\n\")"
   ]
  },
  {
   "cell_type": "markdown",
   "metadata": {
    "id": "avz8xyd349Kd"
   },
   "source": [
    "<br>\n",
    "\n",
    "## **Vykreslení figurky oběšence**"
   ]
  },
  {
   "cell_type": "markdown",
   "metadata": {
    "id": "Kacpp3kdrfMa"
   },
   "source": [
    "### <font color=red><b>Očekáváme:</b></font>\n",
    "\n",
    "```\n",
    "Hadej pismeno/slovo:e\n",
    "chyba!\n",
    "\n",
    "Tajenka: _ _ _ _\n",
    "\n",
    "    -------^\n",
    "    |      |\n",
    "           |\n",
    "           |\n",
    "           |\n",
    "           |\n",
    "    -------o\n",
    "    \n",
    "Hadej pismeno/slovo:e\n",
    "chyba!\n",
    "\n",
    "Tajenka: _ _ _ _\n",
    "\n",
    "    -------^\n",
    "    |      |\n",
    "    O      |\n",
    "           |\n",
    "           |\n",
    "           |\n",
    "    -------o\n",
    "```\n",
    "\n",
    "<br>\n",
    "\n",
    "Při nahrávání několika knihoven je nutné hlídat si pořadí. Doporučené pořadí:\n",
    "\n",
    "1. Standartní knihovny\n",
    "2. Knihovny třetích stran\n",
    "3. **Vlastní knihovny**"
   ]
  },
  {
   "cell_type": "markdown",
   "metadata": {
    "id": "8QDnk7Cs5YlJ"
   },
   "source": [
    "### <font color=ligtblue><b> 💻 Kód:</b>"
   ]
  },
  {
   "cell_type": "code",
   "execution_count": 8,
   "metadata": {
    "executionInfo": {
     "elapsed": 2431,
     "status": "ok",
     "timestamp": 1680643908238,
     "user": {
      "displayName": "Radim Jedlička",
      "userId": "11502208915568361358"
     },
     "user_tz": -120
    },
    "id": "D05M4__e5d0H"
   },
   "outputs": [],
   "source": [
    "from grafika import obesenec "
   ]
  },
  {
   "cell_type": "code",
   "execution_count": 12,
   "metadata": {
    "colab": {
     "base_uri": "https://localhost:8080/",
     "height": 1000
    },
    "executionInfo": {
     "elapsed": 11929,
     "status": "error",
     "timestamp": 1680643938661,
     "user": {
      "displayName": "Radim Jedlička",
      "userId": "11502208915568361358"
     },
     "user_tz": -120
    },
    "id": "UpzcZ9Xh5meq",
    "outputId": "b9563a78-7961-438b-c80b-d1d4239eae87"
   },
   "outputs": [
    {
     "name": "stdout",
     "output_type": "stream",
     "text": [
      "Tajenka: _ _ _ _ _ _; zivoty: 7\n",
      "\n",
      "    -------^\n",
      "           |\n",
      "           |\n",
      "           |\n",
      "           |\n",
      "           |\n",
      "    -------o\n",
      "    \n",
      "Hadej pismeno/slovo: f\n",
      "chyba!\n",
      "\n",
      "Tajenka: _ _ _ _ _ _; zivoty: 6\n",
      "\n",
      "    -------^\n",
      "    |      |\n",
      "           |\n",
      "           |\n",
      "           |\n",
      "           |\n",
      "    -------o\n",
      "    \n",
      "Hadej pismeno/slovo: t\n",
      "chyba!\n",
      "\n",
      "Tajenka: _ _ _ _ _ _; zivoty: 5\n",
      "\n",
      "    -------^\n",
      "    |      |\n",
      "    O      |\n",
      "           |\n",
      "           |\n",
      "           |\n",
      "    -------o\n",
      "    \n",
      "Hadej pismeno/slovo: a\n",
      "chyba!\n",
      "\n",
      "Tajenka: _ _ _ _ _ _; zivoty: 4\n",
      "\n",
      "    -------^\n",
      "    |      |\n",
      "    O      |\n",
      "    |      |\n",
      "           |\n",
      "           |\n",
      "    -------o\n",
      "    \n"
     ]
    },
    {
     "ename": "KeyboardInterrupt",
     "evalue": "ignored",
     "output_type": "error",
     "traceback": [
      "\u001b[0;31m---------------------------------------------------------------------------\u001b[0m",
      "\u001b[0;31mKeyboardInterrupt\u001b[0m                         Traceback (most recent call last)",
      "\u001b[0;32m<ipython-input-12-4a70ef2d7ee5>\u001b[0m in \u001b[0;36m<cell line: 6>\u001b[0;34m()\u001b[0m\n\u001b[1;32m     10\u001b[0m         \u001b[0msep\u001b[0m\u001b[0;34m=\u001b[0m\u001b[0;34m\"\\n\"\u001b[0m\u001b[0;34m\u001b[0m\u001b[0;34m\u001b[0m\u001b[0m\n\u001b[1;32m     11\u001b[0m     )\n\u001b[0;32m---> 12\u001b[0;31m     \u001b[0mhadani\u001b[0m \u001b[0;34m=\u001b[0m \u001b[0minput\u001b[0m\u001b[0;34m(\u001b[0m\u001b[0;34m\"Hadej pismeno/slovo: \"\u001b[0m\u001b[0;34m)\u001b[0m\u001b[0;34m\u001b[0m\u001b[0;34m\u001b[0m\u001b[0m\n\u001b[0m\u001b[1;32m     13\u001b[0m \u001b[0;34m\u001b[0m\u001b[0m\n\u001b[1;32m     14\u001b[0m     \u001b[0;32mif\u001b[0m \u001b[0mhadani\u001b[0m \u001b[0;34m==\u001b[0m \u001b[0mslovo\u001b[0m\u001b[0;34m:\u001b[0m\u001b[0;34m\u001b[0m\u001b[0;34m\u001b[0m\u001b[0m\n",
      "\u001b[0;32m/usr/local/lib/python3.9/dist-packages/ipykernel/kernelbase.py\u001b[0m in \u001b[0;36mraw_input\u001b[0;34m(self, prompt)\u001b[0m\n\u001b[1;32m    849\u001b[0m                 \u001b[0;34m\"raw_input was called, but this frontend does not support input requests.\"\u001b[0m\u001b[0;34m\u001b[0m\u001b[0;34m\u001b[0m\u001b[0m\n\u001b[1;32m    850\u001b[0m             )\n\u001b[0;32m--> 851\u001b[0;31m         return self._input_request(str(prompt),\n\u001b[0m\u001b[1;32m    852\u001b[0m             \u001b[0mself\u001b[0m\u001b[0;34m.\u001b[0m\u001b[0m_parent_ident\u001b[0m\u001b[0;34m,\u001b[0m\u001b[0;34m\u001b[0m\u001b[0;34m\u001b[0m\u001b[0m\n\u001b[1;32m    853\u001b[0m             \u001b[0mself\u001b[0m\u001b[0;34m.\u001b[0m\u001b[0m_parent_header\u001b[0m\u001b[0;34m,\u001b[0m\u001b[0;34m\u001b[0m\u001b[0;34m\u001b[0m\u001b[0m\n",
      "\u001b[0;32m/usr/local/lib/python3.9/dist-packages/ipykernel/kernelbase.py\u001b[0m in \u001b[0;36m_input_request\u001b[0;34m(self, prompt, ident, parent, password)\u001b[0m\n\u001b[1;32m    893\u001b[0m             \u001b[0;32mexcept\u001b[0m \u001b[0mKeyboardInterrupt\u001b[0m\u001b[0;34m:\u001b[0m\u001b[0;34m\u001b[0m\u001b[0;34m\u001b[0m\u001b[0m\n\u001b[1;32m    894\u001b[0m                 \u001b[0;31m# re-raise KeyboardInterrupt, to truncate traceback\u001b[0m\u001b[0;34m\u001b[0m\u001b[0;34m\u001b[0m\u001b[0m\n\u001b[0;32m--> 895\u001b[0;31m                 \u001b[0;32mraise\u001b[0m \u001b[0mKeyboardInterrupt\u001b[0m\u001b[0;34m(\u001b[0m\u001b[0;34m\"Interrupted by user\"\u001b[0m\u001b[0;34m)\u001b[0m \u001b[0;32mfrom\u001b[0m \u001b[0;32mNone\u001b[0m\u001b[0;34m\u001b[0m\u001b[0;34m\u001b[0m\u001b[0m\n\u001b[0m\u001b[1;32m    896\u001b[0m             \u001b[0;32mexcept\u001b[0m \u001b[0mException\u001b[0m \u001b[0;32mas\u001b[0m \u001b[0me\u001b[0m\u001b[0;34m:\u001b[0m\u001b[0;34m\u001b[0m\u001b[0;34m\u001b[0m\u001b[0m\n\u001b[1;32m    897\u001b[0m                 \u001b[0mself\u001b[0m\u001b[0;34m.\u001b[0m\u001b[0mlog\u001b[0m\u001b[0;34m.\u001b[0m\u001b[0mwarning\u001b[0m\u001b[0;34m(\u001b[0m\u001b[0;34m\"Invalid Message:\"\u001b[0m\u001b[0;34m,\u001b[0m \u001b[0mexc_info\u001b[0m\u001b[0;34m=\u001b[0m\u001b[0;32mTrue\u001b[0m\u001b[0;34m)\u001b[0m\u001b[0;34m\u001b[0m\u001b[0;34m\u001b[0m\u001b[0m\n",
      "\u001b[0;31mKeyboardInterrupt\u001b[0m: Interrupted by user"
     ]
    }
   ],
   "source": [
    "zivoty = 7\n",
    "hra_bezi = True\n",
    "slovo = random.choice(slova.hadana_slova) \n",
    "tajenka = len(slovo) * [\"_\"]\n",
    "\n",
    "while hra_bezi and zivoty > 0:\n",
    "    print(\n",
    "        f\"Tajenka: {' '.join(tajenka)}; zivoty: {zivoty}\",   # <----------------\n",
    "        obesenec[7 - zivoty],\n",
    "        sep=\"\\n\"\n",
    "    )\n",
    "    hadani = input(\"Hadej pismeno/slovo: \")\n",
    "    \n",
    "    if hadani == slovo:\n",
    "        print(\"super!\")           # dočasné\n",
    "        hra_bezi = False\n",
    "    elif len(hadani) == 1 and hadani in slovo:\n",
    "        print(\"Uhodls pismeno!\")  # dočasné\n",
    "        print()\n",
    "    else:\n",
    "        zivoty -= 1\n",
    "        print(\"chyba!\")          # dočasné\n",
    "        print()\n",
    "else:\n",
    "    if not hra_bezi:  # hra_bezi == False\n",
    "        print(f\"Tajenka: {slovo}\", \"Vyhráls! Gratulace..\", sep=\"\\n\")\n",
    "    else:             # hra_bezi == True\n",
    "        print(f\"Prohráls:( snad příště\", f\"Hledané slovo: *{slovo}*\", sep=\"\\n\")\n",
    "        print(obesenec[7 - zivoty]) # <-----------------------------------------"
   ]
  },
  {
   "cell_type": "markdown",
   "metadata": {
    "id": "Rdh0brAR75j4"
   },
   "source": [
    "<br>\n",
    "\n",
    "## **Doplňování písmen do tajenky**"
   ]
  },
  {
   "cell_type": "markdown",
   "metadata": {
    "id": "NTOVOK-x8ZgM"
   },
   "source": [
    "### <font color=red><b>Očekáváme:</b></font>\n",
    "\n",
    "```\n",
    "Tajenka: _ _ _ _ _ _ _ _; zivoty: 7\n",
    "\n",
    "    -------^\n",
    "           |\n",
    "           |\n",
    "           |\n",
    "           |\n",
    "           |\n",
    "    -------o\n",
    "    \n",
    "Hadej pismeno/slovo: o\n",
    "\n",
    "Tajenka: o _ _ _ _ _ _ _; zivoty: 7\n",
    "\n",
    "    -------^\n",
    "           |\n",
    "           |\n",
    "           |\n",
    "           |\n",
    "           |\n",
    "    -------o\n",
    "    \n",
    "Hadej pismeno/slovo: e\n",
    "\n",
    "Tajenka: o _ e _ e _ e _; zivoty: 7\n",
    "\n",
    "    -------^\n",
    "           |\n",
    "           |\n",
    "           |\n",
    "           |\n",
    "           |\n",
    "    -------o\n",
    "    \n",
    "Hadej pismeno/slovo: \n",
    "```"
   ]
  },
  {
   "cell_type": "markdown",
   "metadata": {
    "id": "Bnkj8WfY9A9G"
   },
   "source": [
    "### <font color=ligtblue><b> 💻 Kód:</b>"
   ]
  },
  {
   "cell_type": "code",
   "execution_count": 7,
   "metadata": {
    "colab": {
     "base_uri": "https://localhost:8080/",
     "height": 235
    },
    "executionInfo": {
     "elapsed": 305,
     "status": "error",
     "timestamp": 1680643876373,
     "user": {
      "displayName": "Radim Jedlička",
      "userId": "11502208915568361358"
     },
     "user_tz": -120
    },
    "id": "0o4HFvzD8csW",
    "outputId": "5c8390ba-b962-4edb-c793-8814e7cb6b69"
   },
   "outputs": [
    {
     "ename": "NameError",
     "evalue": "ignored",
     "output_type": "error",
     "traceback": [
      "\u001b[0;31m---------------------------------------------------------------------------\u001b[0m",
      "\u001b[0;31mNameError\u001b[0m                                 Traceback (most recent call last)",
      "\u001b[0;32m<ipython-input-7-273178d36523>\u001b[0m in \u001b[0;36m<cell line: 7>\u001b[0;34m()\u001b[0m\n\u001b[1;32m      8\u001b[0m     print(\n\u001b[1;32m      9\u001b[0m         \u001b[0;34mf\"Tajenka: {' '.join(tajenka)}; zivoty: {zivoty}\"\u001b[0m\u001b[0;34m,\u001b[0m\u001b[0;34m\u001b[0m\u001b[0;34m\u001b[0m\u001b[0m\n\u001b[0;32m---> 10\u001b[0;31m         \u001b[0mobesenec\u001b[0m\u001b[0;34m[\u001b[0m\u001b[0;36m7\u001b[0m \u001b[0;34m-\u001b[0m \u001b[0mzivoty\u001b[0m\u001b[0;34m]\u001b[0m\u001b[0;34m,\u001b[0m\u001b[0;34m\u001b[0m\u001b[0;34m\u001b[0m\u001b[0m\n\u001b[0m\u001b[1;32m     11\u001b[0m         \u001b[0msep\u001b[0m\u001b[0;34m=\u001b[0m\u001b[0;34m\"\\n\"\u001b[0m\u001b[0;34m\u001b[0m\u001b[0;34m\u001b[0m\u001b[0m\n\u001b[1;32m     12\u001b[0m     )\n",
      "\u001b[0;31mNameError\u001b[0m: name 'obesenec' is not defined"
     ]
    }
   ],
   "source": [
    "zivoty = 7\n",
    "hra_bezi = True\n",
    "# slovo = random.choice(slova.hadana_slova) \n",
    "slovo = 'obesenec'\n",
    "tajenka = len(slovo) * [\"_\"]\n",
    "\n",
    "while hra_bezi and zivoty > 0:\n",
    "    print(\n",
    "        f\"Tajenka: {' '.join(tajenka)}; zivoty: {zivoty}\",   \n",
    "        obesenec[7 - zivoty],\n",
    "        sep=\"\\n\"\n",
    "    )\n",
    "    hadani = input(\"Hadej pismeno/slovo: \")\n",
    "    \n",
    "    if hadani == slovo:\n",
    "        print(\"super!\")          \n",
    "        hra_bezi = False\n",
    "    elif len(hadani) == 1 and hadani in slovo:\n",
    "        for index, symbol in enumerate(slovo):   # <----------------------------\n",
    "            if symbol == hadani:\n",
    "                tajenka[index] = hadani\n",
    "        hra_bezi = False if \"_\" not in tajenka else True\n",
    "        print()\n",
    "    else:\n",
    "        zivoty -= 1\n",
    "        print(\"chyba!\")         \n",
    "        print()\n",
    "else:\n",
    "    if not hra_bezi:  # hra_bezi == False\n",
    "        print(f\"Tajenka: {slovo}\", \"Vyhráls! Gratulace..\", sep=\"\\n\")\n",
    "    else:             # hra_bezi == True\n",
    "        print(f\"Prohráls:( snad příště\", f\"Hledané slovo: *{slovo}*\", sep=\"\\n\")\n",
    "        print(obesenec[7 - zivoty]) "
   ]
  },
  {
   "cell_type": "markdown",
   "metadata": {
    "id": "5vrdbjZR9Soh"
   },
   "source": [
    "<br>\n",
    "\n",
    "## **Vyčištění obrazovky**"
   ]
  },
  {
   "cell_type": "code",
   "execution_count": null,
   "metadata": {
    "id": "COaxYuDp9P3b"
   },
   "outputs": [],
   "source": [
    "import os # os.system(\"clear\") pro Mac; os.system(\"cls\") pro Win\n",
    "\n",
    "from IPython.display import clear_output  # clear_output() -> pro jupyter nb"
   ]
  },
  {
   "cell_type": "markdown",
   "metadata": {
    "id": "O8PA3TVR9sql"
   },
   "source": [
    "## <font color=ligtblue><b> 💻 Celý kód:</b>"
   ]
  },
  {
   "cell_type": "code",
   "execution_count": null,
   "metadata": {
    "id": "Lt3GeGie9xH3"
   },
   "outputs": [],
   "source": [
    "zivoty = 7\n",
    "hra_bezi = True\n",
    "# slovo = random.choice(slova.hadana_slova) \n",
    "slovo = 'obesenec'\n",
    "tajenka = len(slovo) * [\"_\"]\n",
    "\n",
    "while hra_bezi and zivoty > 0:\n",
    "    clear_output()\n",
    "    print(\n",
    "        f\"Tajenka: {' '.join(tajenka)}; zivoty: {zivoty}\",   \n",
    "        obesenec[7 - zivoty],\n",
    "        sep=\"\\n\"\n",
    "    )\n",
    "    hadani = input(\"Hadej pismeno/slovo: \")\n",
    "    \n",
    "    if hadani == slovo:\n",
    "        print(\"super!\")          \n",
    "        hra_bezi = False\n",
    "    elif len(hadani) == 1 and hadani in slovo:\n",
    "        for index, symbol in enumerate(slovo):   # <----------------------------\n",
    "            if symbol == hadani:\n",
    "                tajenka[index] = hadani\n",
    "        hra_bezi = False if \"_\" not in tajenka else True\n",
    "        print()\n",
    "    else:\n",
    "        zivoty -= 1\n",
    "        print(\"chyba!\")         \n",
    "        print()\n",
    "else:\n",
    "    if not hra_bezi:  # hra_bezi == False\n",
    "        clear_output()\n",
    "        print(f\"Tajenka: {slovo}\", \"Vyhráls! Gratulace..\", sep=\"\\n\")\n",
    "    else:             # hra_bezi == True\n",
    "        clear_output()\n",
    "        print(f\"Prohráls:( snad příště\", f\"Hledané slovo: *{slovo}*\", sep=\"\\n\")\n",
    "        print(obesenec[7 - zivoty]) "
   ]
  }
 ],
 "metadata": {
  "colab": {
   "authorship_tag": "ABX9TyNMPJnArkcAPpQqPdF3NTOf",
   "collapsed_sections": [
    "7tq_0umuMd6e",
    "W7uaRwnOTc9Y",
    "HCpsTIRwVnHR"
   ],
   "provenance": []
  },
  "kernelspec": {
   "display_name": "Python 3 (ipykernel)",
   "language": "python",
   "name": "python3"
  },
  "language_info": {
   "codemirror_mode": {
    "name": "ipython",
    "version": 3
   },
   "file_extension": ".py",
   "mimetype": "text/x-python",
   "name": "python",
   "nbconvert_exporter": "python",
   "pygments_lexer": "ipython3",
   "version": "3.10.0"
  }
 },
 "nbformat": 4,
 "nbformat_minor": 1
}
