{
 "cells": [
  {
   "cell_type": "markdown",
   "metadata": {
    "id": "F0tDFBVw0Wui"
   },
   "source": [
    "<h6 align=right> 🐍 Python akademie - lekce 6 - 21.11.2024</h6>"
   ]
  },
  {
   "cell_type": "markdown",
   "metadata": {
    "id": "zy7kAVVW0aDH"
   },
   "source": [
    "<br>\n",
    "\n",
    "# <h1 align=center><font color=black size=24><b> 06_02: 📖 Knihovny</font></h1>\n",
    "\n",
    "<br>\n",
    "\n",
    "---"
   ]
  },
  {
   "cell_type": "markdown",
   "metadata": {
    "id": "I2EkachN0nrb"
   },
   "source": [
    "<br>\n",
    "\n",
    "### **Zajímavé odkazy z celé lekce:**\n",
    "\n",
    "---\n",
    "\n",
    "* [Oficiální dokumentace Python knihoven](https://docs.python.org/3/library/index.html)\n",
    "* [Standartní instalátor balíčku pro Python pip (pypi.org)](https://pypi.org/project/pip/)\n",
    "* [Hledání modulu pomocí interpretu Pythonu (python.org)](https://docs.python.org/3/tutorial/modules.html#the-module-search-path)\n",
    "* [Neoficiální dokumentace o účelu souboru \\_\\_init\\_\\_.py](https://yasoob.me/2013/07/28/what-is-__init__-py/)\n",
    "* [Jak nainstalovat knihovny třetích stran pomocí Pycharm (jetbrains.com)](https://www.jetbrains.com/help/pycharm/installing-uninstalling-and-upgrading-packages.html)\n",
    "* [Oficialní dokumentace modulu random (python.org)](https://docs.python.org/3/library/random.html)\n",
    "* [Oficialní dokumentace modulu datetime (python.org)](https://docs.python.org/3/library/datetime.html)\n",
    "* [Oficialní dokumentace modulu os (python.org)](https://docs.python.org/3/library/os.html)\n",
    "\n",
    "\n",
    "<br>"
   ]
  },
  {
   "cell_type": "markdown",
   "metadata": {
    "id": "rznYKXp41BEi"
   },
   "source": [
    "<br>\n",
    "\n",
    "Jak bylo řečeno úvodem, základní tři pilíře pro moderní programovací jazyky jsou:\n",
    "\n",
    "1. **Syntaxe** (funkce, podmínky, smyčky, aj.)\n",
    "2. **Datové typy** (čísla, sekvence, aj.)\n",
    "3. **Knihovny** (decimal, aj.)\n",
    "\n",
    "<br>\n",
    "\n",
    "Importování je v podstatě proces, kdy do svého aktuálního souboru `py` nahrajeme obsah z druhého soubor `py`.\n",
    "\n",
    "<br>\n",
    "\n",
    "---"
   ]
  },
  {
   "cell_type": "markdown",
   "metadata": {
    "id": "fP_O6umJ5gN3"
   },
   "source": [
    "<br>\n",
    "\n",
    "## **Zabudované knihovny**\n",
    "\n",
    "---"
   ]
  },
  {
   "cell_type": "markdown",
   "metadata": {
    "id": "gSGdHKO37sPB"
   },
   "source": [
    "```# local```\n",
    "\n",
    "C:\\Python310\\Lib"
   ]
  },
  {
   "cell_type": "markdown",
   "metadata": {
    "id": "IYj59v3s8ZTx"
   },
   "source": [
    "<br>\n",
    "\n",
    "### **pprint (Pretty Printer)**"
   ]
  },
  {
   "cell_type": "code",
   "execution_count": null,
   "metadata": {
    "id": "O2TkKMKt8cRK"
   },
   "outputs": [],
   "source": [
    "import pprint\n",
    "\n",
    "import filmy"
   ]
  },
  {
   "cell_type": "code",
   "execution_count": null,
   "metadata": {
    "colab": {
     "base_uri": "https://localhost:8080/",
     "height": 165
    },
    "executionInfo": {
     "elapsed": 274,
     "status": "error",
     "timestamp": 1680640662593,
     "user": {
      "displayName": "Radim Jedlička",
      "userId": "11502208915568361358"
     },
     "user_tz": -120
    },
    "id": "knoyZ4wI8kuK",
    "outputId": "4a7ac6b1-784f-4a50-900e-769faa9ea0c1"
   },
   "outputs": [],
   "source": [
    "pprint.pprint(filmy.akcni)"
   ]
  },
  {
   "cell_type": "markdown",
   "metadata": {
    "id": "CE672hrb9A4j"
   },
   "source": [
    "<br>\n",
    "\n",
    "### **datetime**"
   ]
  },
  {
   "cell_type": "markdown",
   "metadata": {
    "id": "CVCFCgUP9WcJ"
   },
   "source": [
    "[Knihovna datetime na W3schools](https://www.w3schools.com/python/python_datetime.asp)\n",
    "\n",
    "[Oficiální dokumentace](https://docs.python.org/3/library/datetime.html)"
   ]
  },
  {
   "cell_type": "code",
   "execution_count": null,
   "metadata": {
    "executionInfo": {
     "elapsed": 302,
     "status": "ok",
     "timestamp": 1680640717739,
     "user": {
      "displayName": "Radim Jedlička",
      "userId": "11502208915568361358"
     },
     "user_tz": -120
    },
    "id": "LvMw2_pU9CNm"
   },
   "outputs": [],
   "source": [
    "import datetime"
   ]
  },
  {
   "cell_type": "code",
   "execution_count": null,
   "metadata": {
    "colab": {
     "base_uri": "https://localhost:8080/"
    },
    "executionInfo": {
     "elapsed": 9,
     "status": "ok",
     "timestamp": 1680641971553,
     "user": {
      "displayName": "Radim Jedlička",
      "userId": "11502208915568361358"
     },
     "user_tz": -120
    },
    "id": "7XF-WneG9pct",
    "outputId": "d053f1ce-547e-444b-d743-104731ed69b1"
   },
   "outputs": [],
   "source": [
    "dnes = datetime.datetime.now()\n",
    "print(dnes)"
   ]
  },
  {
   "cell_type": "code",
   "execution_count": null,
   "metadata": {
    "colab": {
     "base_uri": "https://localhost:8080/"
    },
    "executionInfo": {
     "elapsed": 307,
     "status": "ok",
     "timestamp": 1680640756593,
     "user": {
      "displayName": "Radim Jedlička",
      "userId": "11502208915568361358"
     },
     "user_tz": -120
    },
    "id": "SiLtg23K-f5h",
    "outputId": "82f6ef05-020a-4491-e60f-8d9a4f633a1d"
   },
   "outputs": [],
   "source": [
    "dnes.year"
   ]
  },
  {
   "cell_type": "code",
   "execution_count": null,
   "metadata": {
    "colab": {
     "base_uri": "https://localhost:8080/"
    },
    "executionInfo": {
     "elapsed": 421,
     "status": "ok",
     "timestamp": 1680640758381,
     "user": {
      "displayName": "Radim Jedlička",
      "userId": "11502208915568361358"
     },
     "user_tz": -120
    },
    "id": "SdD_i-y3-iW1",
    "outputId": "095d72db-6dfa-4e3d-cc3d-3b4e39ceac14"
   },
   "outputs": [],
   "source": [
    "dnes.month"
   ]
  },
  {
   "cell_type": "code",
   "execution_count": null,
   "metadata": {
    "colab": {
     "base_uri": "https://localhost:8080/",
     "height": 35
    },
    "executionInfo": {
     "elapsed": 346,
     "status": "ok",
     "timestamp": 1680640764354,
     "user": {
      "displayName": "Radim Jedlička",
      "userId": "11502208915568361358"
     },
     "user_tz": -120
    },
    "id": "TpdlKkOq-kTc",
    "outputId": "22e72f18-8b23-434f-b0e7-ad700a66f5d4"
   },
   "outputs": [],
   "source": [
    "dnes.strftime('%B')"
   ]
  },
  {
   "cell_type": "code",
   "execution_count": null,
   "metadata": {
    "colab": {
     "base_uri": "https://localhost:8080/",
     "height": 35
    },
    "executionInfo": {
     "elapsed": 257,
     "status": "ok",
     "timestamp": 1680640782675,
     "user": {
      "displayName": "Radim Jedlička",
      "userId": "11502208915568361358"
     },
     "user_tz": -120
    },
    "id": "0fs2MeCY_n_5",
    "outputId": "738ba39f-cf27-4ac8-c795-f20257d8a20b"
   },
   "outputs": [],
   "source": [
    "dnes.strftime(f'%d.%m.%Y %H:%M:%S')"
   ]
  },
  {
   "cell_type": "markdown",
   "metadata": {
    "id": "uCxm9LOhAxyv"
   },
   "source": [
    "<br>\n",
    "\n",
    "### **random**"
   ]
  },
  {
   "cell_type": "code",
   "execution_count": null,
   "metadata": {
    "id": "3m9JNnXZ-8MX"
   },
   "outputs": [],
   "source": [
    "import random"
   ]
  },
  {
   "cell_type": "code",
   "execution_count": null,
   "metadata": {
    "id": "KU9HI1IBA3s5"
   },
   "outputs": [],
   "source": [
    "balik = [i for i in range(1, 25)]\n",
    "balik"
   ]
  },
  {
   "cell_type": "code",
   "execution_count": null,
   "metadata": {
    "colab": {
     "base_uri": "https://localhost:8080/"
    },
    "executionInfo": {
     "elapsed": 11,
     "status": "ok",
     "timestamp": 1675977045749,
     "user": {
      "displayName": "Radim Jedlička",
      "userId": "11502208915568361358"
     },
     "user_tz": -60
    },
    "id": "eNviZN8iBBdJ",
    "outputId": "abc3a8a3-642f-4262-fc86-3f26b859fe7a"
   },
   "outputs": [],
   "source": [
    "random.choice(balik)"
   ]
  },
  {
   "cell_type": "code",
   "execution_count": null,
   "metadata": {
    "colab": {
     "base_uri": "https://localhost:8080/"
    },
    "executionInfo": {
     "elapsed": 383,
     "status": "ok",
     "timestamp": 1675977025745,
     "user": {
      "displayName": "Radim Jedlička",
      "userId": "11502208915568361358"
     },
     "user_tz": -60
    },
    "id": "QOPatoegA6pm",
    "outputId": "f96ebb42-6f3a-49ec-d7af-c744457687a8"
   },
   "outputs": [],
   "source": [
    "random.randint(1, 25)"
   ]
  },
  {
   "cell_type": "code",
   "execution_count": null,
   "metadata": {
    "colab": {
     "base_uri": "https://localhost:8080/"
    },
    "executionInfo": {
     "elapsed": 226,
     "status": "ok",
     "timestamp": 1675977258583,
     "user": {
      "displayName": "Radim Jedlička",
      "userId": "11502208915568361358"
     },
     "user_tz": -60
    },
    "id": "igvg8z8vB16J",
    "outputId": "9f900d5f-24ad-4dd6-ab00-70004afe13d2"
   },
   "outputs": [],
   "source": [
    "random.sample(balik, 3)"
   ]
  },
  {
   "cell_type": "code",
   "execution_count": null,
   "metadata": {
    "colab": {
     "base_uri": "https://localhost:8080/"
    },
    "executionInfo": {
     "elapsed": 245,
     "status": "ok",
     "timestamp": 1675977761556,
     "user": {
      "displayName": "Radim Jedlička",
      "userId": "11502208915568361358"
     },
     "user_tz": -60
    },
    "id": "TMPtOL5xCsRR",
    "outputId": "91e773c0-a73f-48a9-f7f1-10ae42b98f09"
   },
   "outputs": [],
   "source": [
    "random.random()"
   ]
  },
  {
   "cell_type": "code",
   "execution_count": null,
   "metadata": {
    "colab": {
     "base_uri": "https://localhost:8080/"
    },
    "executionInfo": {
     "elapsed": 401,
     "status": "ok",
     "timestamp": 1675977764918,
     "user": {
      "displayName": "Radim Jedlička",
      "userId": "11502208915568361358"
     },
     "user_tz": -60
    },
    "id": "GU2kZy3pDtYs",
    "outputId": "b900d4f4-4d40-4110-d92a-45b18ab79a64"
   },
   "outputs": [],
   "source": [
    "random.seed(1)\n",
    "random.random()"
   ]
  },
  {
   "cell_type": "code",
   "execution_count": null,
   "metadata": {
    "colab": {
     "base_uri": "https://localhost:8080/"
    },
    "executionInfo": {
     "elapsed": 247,
     "status": "ok",
     "timestamp": 1675977703131,
     "user": {
      "displayName": "Radim Jedlička",
      "userId": "11502208915568361358"
     },
     "user_tz": -60
    },
    "id": "GMj6iBMlDhbl",
    "outputId": "48f8d198-c020-4314-a7ec-27b1bdfe8676"
   },
   "outputs": [],
   "source": [
    "deck = 'ace two three four'.split()\n",
    "random.shuffle(deck)                        \n",
    "deck"
   ]
  },
  {
   "cell_type": "code",
   "execution_count": null,
   "metadata": {
    "colab": {
     "base_uri": "https://localhost:8080/"
    },
    "executionInfo": {
     "elapsed": 13,
     "status": "ok",
     "timestamp": 1675977715835,
     "user": {
      "displayName": "Radim Jedlička",
      "userId": "11502208915568361358"
     },
     "user_tz": -60
    },
    "id": "P0iGRc2WDlN3",
    "outputId": "5274cebd-042e-4ccd-ee81-58c2ba79111a"
   },
   "outputs": [],
   "source": [
    "random.seed(2)\n",
    "random.choice(balik)"
   ]
  },
  {
   "cell_type": "markdown",
   "metadata": {
    "id": "GLxUYpguKh_F"
   },
   "source": [
    "<br>\n",
    "\n",
    "## **Knihovny \"třetích stran\"**\n",
    "\n",
    "---"
   ]
  },
  {
   "cell_type": "markdown",
   "metadata": {
    "id": "bXPxUJgFEBRz"
   },
   "source": [
    "<br>\n",
    "\n",
    "### **🐼 pandas**"
   ]
  },
  {
   "cell_type": "code",
   "execution_count": null,
   "metadata": {},
   "outputs": [],
   "source": [
    "pip install pandas"
   ]
  },
  {
   "cell_type": "code",
   "execution_count": null,
   "metadata": {
    "id": "--gpzW-dEE7K"
   },
   "outputs": [],
   "source": [
    "import pandas as pd"
   ]
  },
  {
   "cell_type": "code",
   "execution_count": null,
   "metadata": {
    "colab": {
     "base_uri": "https://localhost:8080/",
     "height": 426
    },
    "executionInfo": {
     "elapsed": 272,
     "status": "ok",
     "timestamp": 1676152330301,
     "user": {
      "displayName": "Radim Jedlička",
      "userId": "11502208915568361358"
     },
     "user_tz": -60
    },
    "id": "xtwLxWviF6ss",
    "outputId": "befbf6b4-0700-411e-d005-c5b81e7587f9"
   },
   "outputs": [],
   "source": [
    "df = pd.read_csv('kilometry.csv')"
   ]
  },
  {
   "cell_type": "code",
   "execution_count": null,
   "metadata": {},
   "outputs": [],
   "source": [
    "df"
   ]
  },
  {
   "cell_type": "markdown",
   "metadata": {
    "id": "qMONgRVlGoTo"
   },
   "source": [
    "<br>\n",
    "\n",
    "### **📊 altair**"
   ]
  },
  {
   "cell_type": "code",
   "execution_count": null,
   "metadata": {
    "id": "l29aekpEGuVV"
   },
   "outputs": [],
   "source": [
    "import altair as alt"
   ]
  },
  {
   "cell_type": "code",
   "execution_count": null,
   "metadata": {
    "colab": {
     "base_uri": "https://localhost:8080/",
     "height": 399
    },
    "executionInfo": {
     "elapsed": 264,
     "status": "ok",
     "timestamp": 1676152335019,
     "user": {
      "displayName": "Radim Jedlička",
      "userId": "11502208915568361358"
     },
     "user_tz": -60
    },
    "id": "PRoDbTxeGx2K",
    "outputId": "8baac295-18c4-4cbf-df0c-575f2a568bc4"
   },
   "outputs": [],
   "source": [
    "alt.Chart(df).mark_bar().encode(\n",
    "    x = 'mesic',\n",
    "    y = 'kilometry'\n",
    ")"
   ]
  },
  {
   "cell_type": "markdown",
   "metadata": {
    "id": "TbvVqmQ3JV6Q"
   },
   "source": [
    "<br>\n",
    "\n",
    "## **Instalování knihoven**\n",
    "\n",
    "---"
   ]
  },
  {
   "cell_type": "markdown",
   "metadata": {
    "id": "gWB1s1BuJvMl"
   },
   "source": [
    "```python\n",
    "!pip install library\n",
    "```"
   ]
  },
  {
   "cell_type": "code",
   "execution_count": null,
   "metadata": {
    "id": "BH9C_4RiJZLj"
   },
   "outputs": [],
   "source": [
    "!pip install library"
   ]
  }
 ],
 "metadata": {
  "colab": {
   "authorship_tag": "ABX9TyMqgf1/GH3jWwJCmeGHOXEB",
   "provenance": []
  },
  "kernelspec": {
   "display_name": "Python 3 (ipykernel)",
   "language": "python",
   "name": "python3"
  },
  "language_info": {
   "codemirror_mode": {
    "name": "ipython",
    "version": 3
   },
   "file_extension": ".py",
   "mimetype": "text/x-python",
   "name": "python",
   "nbconvert_exporter": "python",
   "pygments_lexer": "ipython3",
   "version": "3.10.0"
  }
 },
 "nbformat": 4,
 "nbformat_minor": 1
}
