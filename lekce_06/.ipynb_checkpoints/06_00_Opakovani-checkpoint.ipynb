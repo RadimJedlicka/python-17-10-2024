{
 "cells": [
  {
   "cell_type": "markdown",
   "metadata": {
    "id": "NW8EupQVsFZV"
   },
   "source": [
    "<h6 align=right> 🐍 Python akademie - lekce 6 - 21.11.2024</h6>"
   ]
  },
  {
   "cell_type": "markdown",
   "metadata": {
    "id": "X_ySjzD1w9TH"
   },
   "source": [
    "<br>\n",
    "\n",
    "# <h1 align=center><font color=black size=24><b> 06_00: Opakování po páté lekci!</font></h1>\n",
    "\n",
    "<br>\n",
    "\n",
    "---"
   ]
  },
  {
   "cell_type": "markdown",
   "metadata": {
    "id": "OskywQexxEq4"
   },
   "source": [
    "<br>\n",
    "\n",
    "### **Ukázka #01: Použití walrus operátoru `:=`**"
   ]
  },
  {
   "cell_type": "markdown",
   "metadata": {
    "id": "zJWDzVfKBYyG"
   },
   "source": [
    "#### 1. Základní přiřazení hodnoty:"
   ]
  },
  {
   "cell_type": "code",
   "execution_count": 1,
   "metadata": {
    "colab": {
     "base_uri": "https://localhost:8080/",
     "height": 0
    },
    "id": "BOOvQ-bksEaI",
    "outputId": "c3c0af94-ee40-4db0-8ea4-38e1a581e09a"
   },
   "outputs": [
    {
     "name": "stdout",
     "output_type": "stream",
     "text": [
      "bez_walruse\n"
     ]
    }
   ],
   "source": [
    "muj_str_1 = \"bez_walruse\"\n",
    "print(muj_str_1)"
   ]
  },
  {
   "cell_type": "markdown",
   "metadata": {
    "id": "UiML7jl3Bf6N"
   },
   "source": [
    "* Proměnná `muj_str_1` dostane hodnotu \"bez_walruse\". Znak `=` zde znamená přiřazení, tj. ukládáme hodnotu do proměnné.\n",
    "* Funkce `print()` vypíše hodnotu uloženou v proměnné `muj_str_1` na obrazovku.\n",
    "\n",
    "* Výstup:\n",
    "```bash\n",
    "bez_walruse\n",
    "```"
   ]
  },
  {
   "cell_type": "markdown",
   "metadata": {
    "id": "oP2q_r3WB7Im"
   },
   "source": [
    "#### 2. Použití walrus operátoru – nesprávný zápis:"
   ]
  },
  {
   "cell_type": "code",
   "execution_count": 22,
   "metadata": {
    "colab": {
     "base_uri": "https://localhost:8080/",
     "height": 106
    },
    "id": "ICN7YWpzxN-C",
    "outputId": "3b28b665-21dd-4b43-b24a-9455371bce9c"
   },
   "outputs": [
    {
     "ename": "SyntaxError",
     "evalue": "invalid syntax (<ipython-input-22-771b8ba29ccc>, line 1)",
     "output_type": "error",
     "traceback": [
      "\u001b[0;36m  File \u001b[0;32m\"<ipython-input-22-771b8ba29ccc>\"\u001b[0;36m, line \u001b[0;32m1\u001b[0m\n\u001b[0;31m    muj_str_2 := \"s_walrusem\"\u001b[0m\n\u001b[0m              ^\u001b[0m\n\u001b[0;31mSyntaxError\u001b[0m\u001b[0;31m:\u001b[0m invalid syntax\n"
     ]
    }
   ],
   "source": [
    "muj_str_2 := \"s_walrusem\"\n",
    "print(muj_str_2)"
   ]
  },
  {
   "cell_type": "markdown",
   "metadata": {
    "id": "uGYM08NcCI4C"
   },
   "source": [
    "* Tento kód obsahuje chybu, protože walrus operátor `:=`, který kombinuje přiřazení a vrácení hodnoty, vyžaduje kulaté závorky, pokud je použit mimo větší výrazy.\n",
    "* Chyba, kterou Python vrátí:\n",
    "```javascript\n",
    "SyntaxError: invalid syntax\n",
    "```"
   ]
  },
  {
   "cell_type": "markdown",
   "metadata": {
    "id": "qWG2Om-RCZBB"
   },
   "source": [
    "#### 3. Správné použití walrus operátoru:"
   ]
  },
  {
   "cell_type": "code",
   "execution_count": 3,
   "metadata": {
    "colab": {
     "base_uri": "https://localhost:8080/",
     "height": 0
    },
    "id": "pH_Myp_5xVZV",
    "outputId": "057fa06e-2038-4069-df93-e227ab3179d0"
   },
   "outputs": [
    {
     "name": "stdout",
     "output_type": "stream",
     "text": [
      "s_walrusem\n"
     ]
    }
   ],
   "source": [
    "(muj_str_3 := \"s_walrusem\")\n",
    "print(muj_str_3)"
   ]
  },
  {
   "cell_type": "markdown",
   "metadata": {
    "id": "jIFoWc6GCilJ"
   },
   "source": [
    "* Zde je použití správné díky kulatým závorkám. Operátor `:=` přiřadí hodnotu \"s_walrusem\" do proměnné `muj_str_3` a zároveň vrátí tuto hodnotu, takže ji můžeme ihned použít v kódu.\n",
    "* Funkce `print()` pak vypíše obsah proměnné `muj_str_3`.\n",
    "* Výstup:\n",
    "```bash\n",
    "s_walrusem\n",
    "```"
   ]
  },
  {
   "cell_type": "markdown",
   "metadata": {
    "id": "cuQuxpcqCxXH"
   },
   "source": [
    "*Poznámka*:\n",
    "\n",
    "Walrus operátor se často používá pro efektivnější zápis, např. při práci se smyčkami nebo podmínkami.\n",
    "\n",
    "Obecně pravidla pro používání a zapisování najdeme v [oficiální dokumentaci](https://www.python.org/dev/peps/pep-0572/#relative-precedence-of)."
   ]
  },
  {
   "cell_type": "markdown",
   "metadata": {
    "id": "h8Yiaectxj5z"
   },
   "source": [
    "<br>\n",
    "\n",
    "### **Ukázka #02: Práce s tuple a přiřazení hodnot**"
   ]
  },
  {
   "cell_type": "markdown",
   "metadata": {
    "id": "G_Ppow-7DkMZ"
   },
   "source": [
    "#### 1. Přiřazení hodnot jako tuple:"
   ]
  },
  {
   "cell_type": "code",
   "execution_count": 4,
   "metadata": {
    "colab": {
     "base_uri": "https://localhost:8080/",
     "height": 0
    },
    "id": "NZ3a_LnwxgDC",
    "outputId": "8304fff8-1e60-4ecc-8900-76b02bd3aeea"
   },
   "outputs": [
    {
     "name": "stdout",
     "output_type": "stream",
     "text": [
      "(69, 96)\n"
     ]
    }
   ],
   "source": [
    "moje_cisla = 69, 96\n",
    "print(moje_cisla)"
   ]
  },
  {
   "cell_type": "markdown",
   "metadata": {
    "id": "7fDVDrsYDp1y"
   },
   "source": [
    "* Proměnná `moje_cisla` získá hodnotu `tuple`, což je typ datové struktury podobné seznamu, ale neměnitelné (immutable).\n",
    "* Hodnota (69, 96) je tuple obsahující dvě čísla, která se vypíší pomocí funkce `print()`.\n",
    "* Výstup:\n",
    "```scss\n",
    "(69, 96)\n",
    "```"
   ]
  },
  {
   "cell_type": "markdown",
   "metadata": {
    "id": "GI0T-QdgD3_P"
   },
   "source": [
    "#### 2. Použití walrus operátoru s tuple:"
   ]
  },
  {
   "cell_type": "code",
   "execution_count": 5,
   "metadata": {
    "colab": {
     "base_uri": "https://localhost:8080/",
     "height": 0
    },
    "id": "dGHbadykxqae",
    "outputId": "7a656d45-1d38-4dd3-d0ac-46f75deb7481"
   },
   "outputs": [
    {
     "name": "stdout",
     "output_type": "stream",
     "text": [
      "69\n"
     ]
    }
   ],
   "source": [
    "(moje_cisla := 69, 96)\n",
    "print(moje_cisla)"
   ]
  },
  {
   "cell_type": "markdown",
   "metadata": {
    "id": "AxRPRwakD8Lg"
   },
   "source": [
    "* Tento kód přiřadí hodnotu pouze prvnímu číslu 69 díky tomu, že walrus operátor přidělí hodnotu prvnímu prvku tuple a druhý ignoruje.\n",
    "* Výstup:\n",
    "```\n",
    "69\n",
    "```"
   ]
  },
  {
   "cell_type": "markdown",
   "metadata": {
    "id": "G23OHsZwEGMP"
   },
   "source": [
    "#### 3. Rozdělení hodnot tuple na jednotlivé proměnné:"
   ]
  },
  {
   "cell_type": "code",
   "execution_count": 6,
   "metadata": {
    "colab": {
     "base_uri": "https://localhost:8080/",
     "height": 0
    },
    "id": "p2XSpWFRxtZ6",
    "outputId": "9cc9c115-0fe9-4abd-c668-4cc1858f2934"
   },
   "outputs": [
    {
     "name": "stdout",
     "output_type": "stream",
     "text": [
      "69\n",
      "96\n"
     ]
    }
   ],
   "source": [
    "moje_cislo_1, moje_cislo_2 = 69, 96\n",
    "print(moje_cislo_1)\n",
    "print(moje_cislo_2)"
   ]
  },
  {
   "cell_type": "markdown",
   "metadata": {
    "id": "6l0QNuMEELnA"
   },
   "source": [
    "* Python umožňuje přiřadit jednotlivé hodnoty tuple do více proměnných na jeden řádek.\n",
    "* `moje_cislo_1` získá hodnotu 69 a `moje_cislo_2` hodnotu 96. Tyto hodnoty jsou pak postupně vypsány.\n",
    "* Výstup:\n",
    "```\n",
    "69\n",
    "96\n",
    "```"
   ]
  },
  {
   "cell_type": "markdown",
   "metadata": {
    "id": "0hpFDPIwFINp"
   },
   "source": [
    "#### 4. Poznámka k chybnému použití přiřazení uvnitř tuple:"
   ]
  },
  {
   "cell_type": "code",
   "execution_count": 7,
   "metadata": {
    "colab": {
     "base_uri": "https://localhost:8080/",
     "height": 106
    },
    "id": "DS-8dsHSxxuv",
    "outputId": "b47ca584-64ae-43e5-e58d-b808df7d1bfb"
   },
   "outputs": [
    {
     "ename": "SyntaxError",
     "evalue": "invalid syntax. Maybe you meant '==' or ':=' instead of '='? (<ipython-input-7-ec8bb80555d3>, line 1)",
     "output_type": "error",
     "traceback": [
      "\u001b[0;36m  File \u001b[0;32m\"<ipython-input-7-ec8bb80555d3>\"\u001b[0;36m, line \u001b[0;32m1\u001b[0m\n\u001b[0;31m    (moje_cislo_1, moje_cislo_2 = 69, 96)\u001b[0m\n\u001b[0m                   ^\u001b[0m\n\u001b[0;31mSyntaxError\u001b[0m\u001b[0;31m:\u001b[0m invalid syntax. Maybe you meant '==' or ':=' instead of '='?\n"
     ]
    }
   ],
   "source": [
    "(moje_cislo_1, moje_cislo_2 = 69, 96)\n",
    "print(f\"{moje_cislo_1}; {moje_cislo_2}\")"
   ]
  },
  {
   "cell_type": "markdown",
   "metadata": {
    "id": "Uv5eIEtWFOOu"
   },
   "source": [
    "* Chyba: Tento zápis způsobí chybu, protože přiřazení = není povoleno uvnitř tuple. Python očekává použití walrus operátoru := nebo jiné validní syntaxe.\n",
    "* Chybová zpráva:\n",
    "```javascript\n",
    "SyntaxError: invalid syntax. Maybe you meant '==' or ':=' instead of '='?\n",
    "```"
   ]
  },
  {
   "cell_type": "markdown",
   "metadata": {
    "id": "oR0HZwI3GL0a"
   },
   "source": [
    "#### 5. Pokročilé použití tuple a walrus operátoru"
   ]
  },
  {
   "cell_type": "code",
   "execution_count": 8,
   "metadata": {
    "colab": {
     "base_uri": "https://localhost:8080/",
     "height": 0
    },
    "id": "ScaOBswTx6xW",
    "outputId": "0f16f844-bd52-4fec-f5b4-f85597f2d32f"
   },
   "outputs": [
    {
     "data": {
      "text/plain": [
       "(69, 68, 86)"
      ]
     },
     "execution_count": 8,
     "metadata": {},
     "output_type": "execute_result"
    }
   ],
   "source": [
    "(moje_cislo_1, moje_cislo_2 := 68, 86)"
   ]
  },
  {
   "cell_type": "code",
   "execution_count": 9,
   "metadata": {
    "colab": {
     "base_uri": "https://localhost:8080/",
     "height": 0
    },
    "id": "7o7sjZULqCEx",
    "outputId": "2da84ab1-83e4-4271-e355-a2af03c48ccc"
   },
   "outputs": [
    {
     "data": {
      "text/plain": [
       "69"
      ]
     },
     "execution_count": 9,
     "metadata": {},
     "output_type": "execute_result"
    }
   ],
   "source": [
    "moje_cislo_1"
   ]
  },
  {
   "cell_type": "code",
   "execution_count": 10,
   "metadata": {
    "colab": {
     "base_uri": "https://localhost:8080/",
     "height": 0
    },
    "id": "BcEqoS7omnlV",
    "outputId": "a3e47385-6ff6-4ca4-d6ce-8a57dfa1faaf"
   },
   "outputs": [
    {
     "data": {
      "text/plain": [
       "68"
      ]
     },
     "execution_count": 10,
     "metadata": {},
     "output_type": "execute_result"
    }
   ],
   "source": [
    "moje_cislo_2"
   ]
  },
  {
   "cell_type": "markdown",
   "metadata": {
    "id": "oGkCHwvJyWOm"
   },
   "source": [
    "<details>\n",
    "  <summary>❓Vysvětlení ❓</summary>\n",
    "\n",
    "```\n",
    ">>> (moje_cisla := 69, 96)  # ((moje_cisla := 69), 96) -> moje_cisla = 69\n",
    ">>> (moje_cisla := 69, 96) == ((moje_cisla := 69), 96)\n",
    "True\n",
    ">>> x = (moje_cisla := 696, 96)\n",
    ">>> x\n",
    "(696, 96)\n",
    ">>> x[0] is moje_cisla\n",
    "True\n",
    "```\n",
    "\n",
    "</details>\n",
    "\n",
    "---"
   ]
  },
  {
   "cell_type": "code",
   "execution_count": 11,
   "metadata": {
    "colab": {
     "base_uri": "https://localhost:8080/",
     "height": 0
    },
    "id": "0GLZ9A2iyZL1",
    "outputId": "72641e0f-f524-457c-ee9e-d46d7e34f9f3"
   },
   "outputs": [
    {
     "data": {
      "text/plain": [
       "True"
      ]
     },
     "execution_count": 11,
     "metadata": {},
     "output_type": "execute_result"
    }
   ],
   "source": [
    "(moje_cisla := 69, 96) == ((moje_cisla := 69), 96)"
   ]
  },
  {
   "cell_type": "code",
   "execution_count": 12,
   "metadata": {
    "id": "P-tEc6l5yvbE"
   },
   "outputs": [],
   "source": [
    "x = (moje_cisla := 696, 96)"
   ]
  },
  {
   "cell_type": "code",
   "execution_count": 13,
   "metadata": {
    "colab": {
     "base_uri": "https://localhost:8080/",
     "height": 0
    },
    "id": "CrS-VCfEyxKJ",
    "outputId": "1b2c5f1d-8705-41be-85f3-cb7969b34c12"
   },
   "outputs": [
    {
     "data": {
      "text/plain": [
       "tuple"
      ]
     },
     "execution_count": 13,
     "metadata": {},
     "output_type": "execute_result"
    }
   ],
   "source": [
    "type(x)"
   ]
  },
  {
   "cell_type": "code",
   "execution_count": 14,
   "metadata": {
    "colab": {
     "base_uri": "https://localhost:8080/",
     "height": 0
    },
    "id": "LXpOIwDIknwr",
    "outputId": "206c7407-ee8e-4821-93df-456a24b1011c"
   },
   "outputs": [
    {
     "data": {
      "text/plain": [
       "False"
      ]
     },
     "execution_count": 14,
     "metadata": {},
     "output_type": "execute_result"
    }
   ],
   "source": [
    "x[1] is moje_cisla"
   ]
  },
  {
   "cell_type": "markdown",
   "metadata": {
    "id": "YCNGTVnazIiH"
   },
   "source": [
    "<br>\n",
    "\n",
    "### **Ukázka #03: Práce se seznamem (list) a smyčkami**"
   ]
  },
  {
   "cell_type": "code",
   "execution_count": 19,
   "metadata": {
    "id": "OBLb0-qizKTr"
   },
   "outputs": [],
   "source": [
    "muj_list = [\"a\", \"b\", \"c\", \"d\", \"e\", \"f\"]"
   ]
  },
  {
   "cell_type": "markdown",
   "metadata": {
    "id": "-Qi3cgBoGZ-j"
   },
   "source": [
    "#### 1. Použití smyčky while:"
   ]
  },
  {
   "cell_type": "code",
   "execution_count": 16,
   "metadata": {
    "colab": {
     "base_uri": "https://localhost:8080/",
     "height": 0
    },
    "id": "iRhhRCLxzRR_",
    "outputId": "15c8ce61-098b-4d7b-db2c-309df634be0b"
   },
   "outputs": [
    {
     "name": "stdout",
     "output_type": "stream",
     "text": [
      "f\n",
      "e\n",
      "d\n",
      "c\n",
      "b\n",
      "a\n"
     ]
    }
   ],
   "source": [
    "while muj_list:\n",
    "    udaj = muj_list.pop()\n",
    "    print(udaj)"
   ]
  },
  {
   "cell_type": "markdown",
   "metadata": {
    "id": "qSeZLr4KGiAd"
   },
   "source": [
    "Co se děje:\n",
    "* Seznam `muj_list` obsahuje hodnoty \"a\", \"b\", ..., \"f\".\n",
    "* Smyčka `while` se opakuje, dokud seznam není prázdný.\n",
    "* Metoda `pop()` odstraní poslední prvek seznamu a zároveň ho vrátí, aby mohl být zpracován.\n"
   ]
  },
  {
   "cell_type": "markdown",
   "metadata": {
    "id": "FWNTzjYhGrad"
   },
   "source": [
    "#### 2. Použití smyčky for:"
   ]
  },
  {
   "cell_type": "code",
   "execution_count": 20,
   "metadata": {
    "colab": {
     "base_uri": "https://localhost:8080/",
     "height": 0
    },
    "id": "oAUm5ASszU9U",
    "outputId": "dd8aa70c-6521-4637-ddd9-3f5af95307be"
   },
   "outputs": [
    {
     "name": "stdout",
     "output_type": "stream",
     "text": [
      "a\n",
      "b\n",
      "c\n",
      "d\n",
      "e\n",
      "f\n"
     ]
    }
   ],
   "source": [
    "for udaj in muj_list:\n",
    "    print(udaj)"
   ]
  },
  {
   "cell_type": "markdown",
   "metadata": {
    "id": "UD_m53VVGurw"
   },
   "source": [
    "* Smyčka `for` projde každý prvek seznamu od začátku do konce. Na rozdíl od `while` smyčky nemění seznam, takže data zůstávají zachována."
   ]
  },
  {
   "cell_type": "markdown",
   "metadata": {
    "id": "B1OY3eaezgfi"
   },
   "source": [
    "<details>\n",
    "  <summary>❓Vysvětlení ❓</summary>\n",
    "\n",
    "Než začneme psát smyčku, musíme si rozmyslet, která je pro naše účely nejvhodnější. Kdy je dobré použít `while` a kdy naopak `for`.\n",
    "\n",
    "</details>\n",
    "\n",
    "---"
   ]
  },
  {
   "cell_type": "markdown",
   "metadata": {
    "id": "ZS28-_vSzmMB"
   },
   "source": [
    "<br>\n",
    "\n",
    "### **Ukázka #04:Specifické chování for smyčky**"
   ]
  },
  {
   "cell_type": "markdown",
   "metadata": {
    "id": "eRndP_ynG9q3"
   },
   "source": [
    "#### 1. Kód s modifikací proměnné uvnitř smyčky:"
   ]
  },
  {
   "cell_type": "code",
   "execution_count": 21,
   "metadata": {
    "colab": {
     "base_uri": "https://localhost:8080/",
     "height": 0
    },
    "id": "7GTTcEY0zi71",
    "outputId": "744bc988-5f76-4421-953b-40f48506f3ed"
   },
   "outputs": [
    {
     "name": "stdout",
     "output_type": "stream",
     "text": [
      "0\n",
      "1\n",
      "2\n",
      "3\n",
      "4\n",
      "5\n",
      "6\n",
      "7\n",
      "8\n",
      "0\n"
     ]
    }
   ],
   "source": [
    "for cislo in range(0, 10):\n",
    "    if cislo == 9:\n",
    "        cislo = 0\n",
    "    print(cislo)"
   ]
  },
  {
   "cell_type": "markdown",
   "metadata": {
    "id": "e41to_H0HEvI"
   },
   "source": [
    "* Smyčka `for` iteruje přes čísla v rozsahu od 0 do 9 (funkce `range()` generuje tato čísla).\n",
    "* Pokud je hodnota `cislo` rovna 9, nastaví se na 0. Toto nastavení ovlivní pouze aktuální hodnotu uvnitř smyčky, ne však celkový rozsah iterace.\n",
    "* Smyčka `for` iteruje přes hodnoty předem vytvořeného seznamu `(range(0, 10))` a nemění tento seznam ani jeho hodnoty. Jakmile se přesune na další iteraci, pokračuje podle původních hodnot."
   ]
  },
  {
   "cell_type": "markdown",
   "metadata": {
    "id": "apPKPnx1zwdt"
   },
   "source": [
    "<details>\n",
    "  <summary>❓Vysvětlení ❓</summary>\n",
    "\n",
    "Cyklus `for` pracuje s listem uvedeným výše podle indexů, ne podle hodnoty.\n",
    "```\n",
    "for cislo in [0, 1, 2, 3, 4, 5, 6, 7, 8, 9]:\n",
    "    if cislo == 9:\n",
    "        cislo = 0\n",
    "    print(f\"{cislo=}\")\n",
    "```\n",
    "\n",
    "</details>\n",
    "\n",
    "---"
   ]
  }
 ],
 "metadata": {
  "colab": {
   "provenance": []
  },
  "kernelspec": {
   "display_name": "Python 3 (ipykernel)",
   "language": "python",
   "name": "python3"
  },
  "language_info": {
   "codemirror_mode": {
    "name": "ipython",
    "version": 3
   },
   "file_extension": ".py",
   "mimetype": "text/x-python",
   "name": "python",
   "nbconvert_exporter": "python",
   "pygments_lexer": "ipython3",
   "version": "3.10.0"
  }
 },
 "nbformat": 4,
 "nbformat_minor": 1
}
