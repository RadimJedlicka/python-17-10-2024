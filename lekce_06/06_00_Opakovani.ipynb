{
  "nbformat": 4,
  "nbformat_minor": 0,
  "metadata": {
    "colab": {
      "provenance": []
    },
    "kernelspec": {
      "name": "python3",
      "display_name": "Python 3"
    },
    "language_info": {
      "name": "python"
    }
  },
  "cells": [
    {
      "cell_type": "markdown",
      "source": [
        "<h6 align=right> 🐍 Python akademie - lekce 6 - DD.MM.YYYY</h6>"
      ],
      "metadata": {
        "id": "NW8EupQVsFZV"
      }
    },
    {
      "cell_type": "markdown",
      "source": [
        "<br>\n",
        "\n",
        "# <h1 align=center><font color=black size=24><b> 06_00: Opakování po páté lekci!</font></h1>\n",
        "\n",
        "<br>\n",
        "\n",
        "---"
      ],
      "metadata": {
        "id": "X_ySjzD1w9TH"
      }
    },
    {
      "cell_type": "markdown",
      "source": [
        "<br>\n",
        "\n",
        "### **Ukázka #01: Použití walrus operátoru `:=`**"
      ],
      "metadata": {
        "id": "OskywQexxEq4"
      }
    },
    {
      "cell_type": "markdown",
      "source": [
        "#### 1. Základní přiřazení hodnoty:"
      ],
      "metadata": {
        "id": "zJWDzVfKBYyG"
      }
    },
    {
      "cell_type": "code",
      "execution_count": 1,
      "metadata": {
        "id": "BOOvQ-bksEaI",
        "colab": {
          "base_uri": "https://localhost:8080/",
          "height": 0
        },
        "outputId": "c3c0af94-ee40-4db0-8ea4-38e1a581e09a"
      },
      "outputs": [
        {
          "output_type": "stream",
          "name": "stdout",
          "text": [
            "bez_walruse\n"
          ]
        }
      ],
      "source": [
        "muj_str_1 = \"bez_walruse\"\n",
        "print(muj_str_1)"
      ]
    },
    {
      "cell_type": "markdown",
      "source": [
        "* Proměnná `muj_str_1` dostane hodnotu \"bez_walruse\". Znak `=` zde znamená přiřazení, tj. ukládáme hodnotu do proměnné.\n",
        "* Funkce `print()` vypíše hodnotu uloženou v proměnné `muj_str_1` na obrazovku.\n",
        "\n",
        "* Výstup:\n",
        "```bash\n",
        "bez_walruse\n",
        "```"
      ],
      "metadata": {
        "id": "UiML7jl3Bf6N"
      }
    },
    {
      "cell_type": "markdown",
      "source": [
        "#### 2. Použití walrus operátoru – nesprávný zápis:"
      ],
      "metadata": {
        "id": "oP2q_r3WB7Im"
      }
    },
    {
      "cell_type": "code",
      "source": [
        "muj_str_2 := \"s_walrusem\"\n",
        "print(muj_str_2)"
      ],
      "metadata": {
        "id": "ICN7YWpzxN-C",
        "colab": {
          "base_uri": "https://localhost:8080/",
          "height": 106
        },
        "outputId": "3b28b665-21dd-4b43-b24a-9455371bce9c"
      },
      "execution_count": 22,
      "outputs": [
        {
          "output_type": "error",
          "ename": "SyntaxError",
          "evalue": "invalid syntax (<ipython-input-22-771b8ba29ccc>, line 1)",
          "traceback": [
            "\u001b[0;36m  File \u001b[0;32m\"<ipython-input-22-771b8ba29ccc>\"\u001b[0;36m, line \u001b[0;32m1\u001b[0m\n\u001b[0;31m    muj_str_2 := \"s_walrusem\"\u001b[0m\n\u001b[0m              ^\u001b[0m\n\u001b[0;31mSyntaxError\u001b[0m\u001b[0;31m:\u001b[0m invalid syntax\n"
          ]
        }
      ]
    },
    {
      "cell_type": "markdown",
      "source": [
        "* Tento kód obsahuje chybu, protože walrus operátor `:=`, který kombinuje přiřazení a vrácení hodnoty, vyžaduje kulaté závorky, pokud je použit mimo větší výrazy.\n",
        "* Chyba, kterou Python vrátí:\n",
        "```javascript\n",
        "SyntaxError: invalid syntax\n",
        "```"
      ],
      "metadata": {
        "id": "uGYM08NcCI4C"
      }
    },
    {
      "cell_type": "markdown",
      "source": [
        "#### 3. Správné použití walrus operátoru:"
      ],
      "metadata": {
        "id": "qWG2Om-RCZBB"
      }
    },
    {
      "cell_type": "code",
      "source": [
        "(muj_str_3 := \"s_walrusem\")\n",
        "print(muj_str_3)"
      ],
      "metadata": {
        "id": "pH_Myp_5xVZV",
        "colab": {
          "base_uri": "https://localhost:8080/",
          "height": 0
        },
        "outputId": "057fa06e-2038-4069-df93-e227ab3179d0"
      },
      "execution_count": 3,
      "outputs": [
        {
          "output_type": "stream",
          "name": "stdout",
          "text": [
            "s_walrusem\n"
          ]
        }
      ]
    },
    {
      "cell_type": "markdown",
      "source": [
        "* Zde je použití správné díky kulatým závorkám. Operátor `:=` přiřadí hodnotu \"s_walrusem\" do proměnné `muj_str_3` a zároveň vrátí tuto hodnotu, takže ji můžeme ihned použít v kódu.\n",
        "* Funkce `print()` pak vypíše obsah proměnné `muj_str_3`.\n",
        "* Výstup:\n",
        "```bash\n",
        "s_walrusem\n",
        "```"
      ],
      "metadata": {
        "id": "jIFoWc6GCilJ"
      }
    },
    {
      "cell_type": "markdown",
      "source": [
        "*Poznámka*:\n",
        "\n",
        "Walrus operátor se často používá pro efektivnější zápis, např. při práci se smyčkami nebo podmínkami.\n",
        "\n",
        "Obecně pravidla pro používání a zapisování najdeme v [oficiální dokumentaci](https://www.python.org/dev/peps/pep-0572/#relative-precedence-of)."
      ],
      "metadata": {
        "id": "cuQuxpcqCxXH"
      }
    },
    {
      "cell_type": "markdown",
      "source": [
        "<br>\n",
        "\n",
        "### **Ukázka #02: Práce s tuple a přiřazení hodnot**"
      ],
      "metadata": {
        "id": "h8Yiaectxj5z"
      }
    },
    {
      "cell_type": "markdown",
      "source": [
        "#### 1. Přiřazení hodnot jako tuple:"
      ],
      "metadata": {
        "id": "G_Ppow-7DkMZ"
      }
    },
    {
      "cell_type": "code",
      "source": [
        "moje_cisla = 69, 96\n",
        "print(moje_cisla)"
      ],
      "metadata": {
        "id": "NZ3a_LnwxgDC",
        "colab": {
          "base_uri": "https://localhost:8080/",
          "height": 0
        },
        "outputId": "8304fff8-1e60-4ecc-8900-76b02bd3aeea"
      },
      "execution_count": 4,
      "outputs": [
        {
          "output_type": "stream",
          "name": "stdout",
          "text": [
            "(69, 96)\n"
          ]
        }
      ]
    },
    {
      "cell_type": "markdown",
      "source": [
        "* Proměnná `moje_cisla` získá hodnotu `tuple`, což je typ datové struktury podobné seznamu, ale neměnitelné (immutable).\n",
        "* Hodnota (69, 96) je tuple obsahující dvě čísla, která se vypíší pomocí funkce `print()`.\n",
        "* Výstup:\n",
        "```scss\n",
        "(69, 96)\n",
        "```"
      ],
      "metadata": {
        "id": "7fDVDrsYDp1y"
      }
    },
    {
      "cell_type": "markdown",
      "source": [
        "#### 2. Použití walrus operátoru s tuple:"
      ],
      "metadata": {
        "id": "GI0T-QdgD3_P"
      }
    },
    {
      "cell_type": "code",
      "source": [
        "(moje_cisla := 69, 96)\n",
        "print(moje_cisla)"
      ],
      "metadata": {
        "id": "dGHbadykxqae",
        "colab": {
          "base_uri": "https://localhost:8080/",
          "height": 0
        },
        "outputId": "7a656d45-1d38-4dd3-d0ac-46f75deb7481"
      },
      "execution_count": 5,
      "outputs": [
        {
          "output_type": "stream",
          "name": "stdout",
          "text": [
            "69\n"
          ]
        }
      ]
    },
    {
      "cell_type": "markdown",
      "source": [
        "* Tento kód přiřadí hodnotu pouze prvnímu číslu 69 díky tomu, že walrus operátor přidělí hodnotu prvnímu prvku tuple a druhý ignoruje.\n",
        "* Výstup:\n",
        "```\n",
        "69\n",
        "```"
      ],
      "metadata": {
        "id": "AxRPRwakD8Lg"
      }
    },
    {
      "cell_type": "markdown",
      "source": [
        "#### 3. Rozdělení hodnot tuple na jednotlivé proměnné:"
      ],
      "metadata": {
        "id": "G23OHsZwEGMP"
      }
    },
    {
      "cell_type": "code",
      "source": [
        "moje_cislo_1, moje_cislo_2 = 69, 96\n",
        "print(moje_cislo_1)\n",
        "print(moje_cislo_2)"
      ],
      "metadata": {
        "id": "p2XSpWFRxtZ6",
        "colab": {
          "base_uri": "https://localhost:8080/",
          "height": 0
        },
        "outputId": "9cc9c115-0fe9-4abd-c668-4cc1858f2934"
      },
      "execution_count": 6,
      "outputs": [
        {
          "output_type": "stream",
          "name": "stdout",
          "text": [
            "69\n",
            "96\n"
          ]
        }
      ]
    },
    {
      "cell_type": "markdown",
      "source": [
        "* Python umožňuje přiřadit jednotlivé hodnoty tuple do více proměnných na jeden řádek.\n",
        "* `moje_cislo_1` získá hodnotu 69 a `moje_cislo_2` hodnotu 96. Tyto hodnoty jsou pak postupně vypsány.\n",
        "* Výstup:\n",
        "```\n",
        "69\n",
        "96\n",
        "```"
      ],
      "metadata": {
        "id": "6l0QNuMEELnA"
      }
    },
    {
      "cell_type": "markdown",
      "source": [
        "#### 4. Poznámka k chybnému použití přiřazení uvnitř tuple:"
      ],
      "metadata": {
        "id": "0hpFDPIwFINp"
      }
    },
    {
      "cell_type": "code",
      "source": [
        "(moje_cislo_1, moje_cislo_2 = 69, 96)\n",
        "print(f\"{moje_cislo_1}; {moje_cislo_2}\")"
      ],
      "metadata": {
        "id": "DS-8dsHSxxuv",
        "colab": {
          "base_uri": "https://localhost:8080/",
          "height": 106
        },
        "outputId": "b47ca584-64ae-43e5-e58d-b808df7d1bfb"
      },
      "execution_count": 7,
      "outputs": [
        {
          "output_type": "error",
          "ename": "SyntaxError",
          "evalue": "invalid syntax. Maybe you meant '==' or ':=' instead of '='? (<ipython-input-7-ec8bb80555d3>, line 1)",
          "traceback": [
            "\u001b[0;36m  File \u001b[0;32m\"<ipython-input-7-ec8bb80555d3>\"\u001b[0;36m, line \u001b[0;32m1\u001b[0m\n\u001b[0;31m    (moje_cislo_1, moje_cislo_2 = 69, 96)\u001b[0m\n\u001b[0m                   ^\u001b[0m\n\u001b[0;31mSyntaxError\u001b[0m\u001b[0;31m:\u001b[0m invalid syntax. Maybe you meant '==' or ':=' instead of '='?\n"
          ]
        }
      ]
    },
    {
      "cell_type": "markdown",
      "source": [
        "* Chyba: Tento zápis způsobí chybu, protože přiřazení = není povoleno uvnitř tuple. Python očekává použití walrus operátoru := nebo jiné validní syntaxe.\n",
        "* Chybová zpráva:\n",
        "```javascript\n",
        "SyntaxError: invalid syntax. Maybe you meant '==' or ':=' instead of '='?\n",
        "```"
      ],
      "metadata": {
        "id": "Uv5eIEtWFOOu"
      }
    },
    {
      "cell_type": "markdown",
      "source": [
        "#### 5. Pokročilé použití tuple a walrus operátoru"
      ],
      "metadata": {
        "id": "oR0HZwI3GL0a"
      }
    },
    {
      "cell_type": "code",
      "source": [
        "(moje_cislo_1, moje_cislo_2 := 68, 86)"
      ],
      "metadata": {
        "id": "ScaOBswTx6xW",
        "colab": {
          "base_uri": "https://localhost:8080/",
          "height": 0
        },
        "outputId": "0f16f844-bd52-4fec-f5b4-f85597f2d32f"
      },
      "execution_count": 8,
      "outputs": [
        {
          "output_type": "execute_result",
          "data": {
            "text/plain": [
              "(69, 68, 86)"
            ]
          },
          "metadata": {},
          "execution_count": 8
        }
      ]
    },
    {
      "cell_type": "code",
      "source": [
        "moje_cislo_1"
      ],
      "metadata": {
        "id": "7o7sjZULqCEx",
        "outputId": "2da84ab1-83e4-4271-e355-a2af03c48ccc",
        "colab": {
          "base_uri": "https://localhost:8080/",
          "height": 0
        }
      },
      "execution_count": 9,
      "outputs": [
        {
          "output_type": "execute_result",
          "data": {
            "text/plain": [
              "69"
            ]
          },
          "metadata": {},
          "execution_count": 9
        }
      ]
    },
    {
      "cell_type": "code",
      "source": [
        "moje_cislo_2"
      ],
      "metadata": {
        "id": "BcEqoS7omnlV",
        "colab": {
          "base_uri": "https://localhost:8080/",
          "height": 0
        },
        "outputId": "a3e47385-6ff6-4ca4-d6ce-8a57dfa1faaf"
      },
      "execution_count": 10,
      "outputs": [
        {
          "output_type": "execute_result",
          "data": {
            "text/plain": [
              "68"
            ]
          },
          "metadata": {},
          "execution_count": 10
        }
      ]
    },
    {
      "cell_type": "markdown",
      "source": [
        "<details>\n",
        "  <summary>❓Vysvětlení ❓</summary>\n",
        "\n",
        "```\n",
        ">>> (moje_cisla := 69, 96)  # ((moje_cisla := 69), 96) -> moje_cisla = 69\n",
        ">>> (moje_cisla := 69, 96) == ((moje_cisla := 69), 96)\n",
        "True\n",
        ">>> x = (moje_cisla := 696, 96)\n",
        ">>> x\n",
        "(696, 96)\n",
        ">>> x[0] is moje_cisla\n",
        "True\n",
        "```\n",
        "\n",
        "</details>\n",
        "\n",
        "---"
      ],
      "metadata": {
        "id": "oGkCHwvJyWOm"
      }
    },
    {
      "cell_type": "code",
      "source": [
        "(moje_cisla := 69, 96) == ((moje_cisla := 69), 96)"
      ],
      "metadata": {
        "id": "0GLZ9A2iyZL1",
        "colab": {
          "base_uri": "https://localhost:8080/",
          "height": 0
        },
        "outputId": "72641e0f-f524-457c-ee9e-d46d7e34f9f3"
      },
      "execution_count": 11,
      "outputs": [
        {
          "output_type": "execute_result",
          "data": {
            "text/plain": [
              "True"
            ]
          },
          "metadata": {},
          "execution_count": 11
        }
      ]
    },
    {
      "cell_type": "code",
      "source": [
        "x = (moje_cisla := 696, 96)"
      ],
      "metadata": {
        "id": "P-tEc6l5yvbE"
      },
      "execution_count": 12,
      "outputs": []
    },
    {
      "cell_type": "code",
      "source": [
        "type(x)"
      ],
      "metadata": {
        "id": "CrS-VCfEyxKJ",
        "colab": {
          "base_uri": "https://localhost:8080/",
          "height": 0
        },
        "outputId": "1b2c5f1d-8705-41be-85f3-cb7969b34c12"
      },
      "execution_count": 13,
      "outputs": [
        {
          "output_type": "execute_result",
          "data": {
            "text/plain": [
              "tuple"
            ]
          },
          "metadata": {},
          "execution_count": 13
        }
      ]
    },
    {
      "cell_type": "code",
      "source": [
        "x[1] is moje_cisla"
      ],
      "metadata": {
        "id": "LXpOIwDIknwr",
        "colab": {
          "base_uri": "https://localhost:8080/",
          "height": 0
        },
        "outputId": "206c7407-ee8e-4821-93df-456a24b1011c"
      },
      "execution_count": 14,
      "outputs": [
        {
          "output_type": "execute_result",
          "data": {
            "text/plain": [
              "False"
            ]
          },
          "metadata": {},
          "execution_count": 14
        }
      ]
    },
    {
      "cell_type": "markdown",
      "source": [
        "<br>\n",
        "\n",
        "### **Ukázka #03: Práce se seznamem (list) a smyčkami**"
      ],
      "metadata": {
        "id": "YCNGTVnazIiH"
      }
    },
    {
      "cell_type": "code",
      "source": [
        "muj_list = [\"a\", \"b\", \"c\", \"d\", \"e\", \"f\"]"
      ],
      "metadata": {
        "id": "OBLb0-qizKTr"
      },
      "execution_count": 19,
      "outputs": []
    },
    {
      "cell_type": "markdown",
      "source": [
        "#### 1. Použití smyčky while:"
      ],
      "metadata": {
        "id": "-Qi3cgBoGZ-j"
      }
    },
    {
      "cell_type": "code",
      "source": [
        "while muj_list:\n",
        "    udaj = muj_list.pop()\n",
        "    print(udaj)"
      ],
      "metadata": {
        "id": "iRhhRCLxzRR_",
        "colab": {
          "base_uri": "https://localhost:8080/",
          "height": 0
        },
        "outputId": "15c8ce61-098b-4d7b-db2c-309df634be0b"
      },
      "execution_count": 16,
      "outputs": [
        {
          "output_type": "stream",
          "name": "stdout",
          "text": [
            "f\n",
            "e\n",
            "d\n",
            "c\n",
            "b\n",
            "a\n"
          ]
        }
      ]
    },
    {
      "cell_type": "markdown",
      "source": [
        "Co se děje:\n",
        "* Seznam `muj_list` obsahuje hodnoty \"a\", \"b\", ..., \"f\".\n",
        "* Smyčka `while` se opakuje, dokud seznam není prázdný.\n",
        "* Metoda `pop()` odstraní poslední prvek seznamu a zároveň ho vrátí, aby mohl být zpracován.\n"
      ],
      "metadata": {
        "id": "qSeZLr4KGiAd"
      }
    },
    {
      "cell_type": "markdown",
      "source": [
        "#### 2. Použití smyčky for:"
      ],
      "metadata": {
        "id": "FWNTzjYhGrad"
      }
    },
    {
      "cell_type": "code",
      "source": [
        "for udaj in muj_list:\n",
        "    print(udaj)"
      ],
      "metadata": {
        "id": "oAUm5ASszU9U",
        "colab": {
          "base_uri": "https://localhost:8080/",
          "height": 0
        },
        "outputId": "dd8aa70c-6521-4637-ddd9-3f5af95307be"
      },
      "execution_count": 20,
      "outputs": [
        {
          "output_type": "stream",
          "name": "stdout",
          "text": [
            "a\n",
            "b\n",
            "c\n",
            "d\n",
            "e\n",
            "f\n"
          ]
        }
      ]
    },
    {
      "cell_type": "markdown",
      "source": [
        "* Smyčka `for` projde každý prvek seznamu od začátku do konce. Na rozdíl od `while` smyčky nemění seznam, takže data zůstávají zachována."
      ],
      "metadata": {
        "id": "UD_m53VVGurw"
      }
    },
    {
      "cell_type": "markdown",
      "source": [
        "<details>\n",
        "  <summary>❓Vysvětlení ❓</summary>\n",
        "\n",
        "Než začneme psát smyčku, musíme si rozmyslet, která je pro naše účely nejvhodnější. Kdy je dobré použít `while` a kdy naopak `for`.\n",
        "\n",
        "</details>\n",
        "\n",
        "---"
      ],
      "metadata": {
        "id": "B1OY3eaezgfi"
      }
    },
    {
      "cell_type": "markdown",
      "source": [
        "<br>\n",
        "\n",
        "### **Ukázka #04:Specifické chování for smyčky**"
      ],
      "metadata": {
        "id": "ZS28-_vSzmMB"
      }
    },
    {
      "cell_type": "markdown",
      "source": [
        "#### 1. Kód s modifikací proměnné uvnitř smyčky:"
      ],
      "metadata": {
        "id": "eRndP_ynG9q3"
      }
    },
    {
      "cell_type": "code",
      "source": [
        "for cislo in range(0, 10):\n",
        "    if cislo == 9:\n",
        "        cislo = 0\n",
        "    print(cislo)"
      ],
      "metadata": {
        "id": "7GTTcEY0zi71",
        "colab": {
          "base_uri": "https://localhost:8080/",
          "height": 0
        },
        "outputId": "744bc988-5f76-4421-953b-40f48506f3ed"
      },
      "execution_count": 21,
      "outputs": [
        {
          "output_type": "stream",
          "name": "stdout",
          "text": [
            "0\n",
            "1\n",
            "2\n",
            "3\n",
            "4\n",
            "5\n",
            "6\n",
            "7\n",
            "8\n",
            "0\n"
          ]
        }
      ]
    },
    {
      "cell_type": "markdown",
      "source": [
        "* Smyčka `for` iteruje přes čísla v rozsahu od 0 do 9 (funkce `range()` generuje tato čísla).\n",
        "* Pokud je hodnota `cislo` rovna 9, nastaví se na 0. Toto nastavení ovlivní pouze aktuální hodnotu uvnitř smyčky, ne však celkový rozsah iterace.\n",
        "* Smyčka `for` iteruje přes hodnoty předem vytvořeného seznamu `(range(0, 10))` a nemění tento seznam ani jeho hodnoty. Jakmile se přesune na další iteraci, pokračuje podle původních hodnot."
      ],
      "metadata": {
        "id": "e41to_H0HEvI"
      }
    },
    {
      "cell_type": "markdown",
      "source": [
        "<details>\n",
        "  <summary>❓Vysvětlení ❓</summary>\n",
        "\n",
        "Cyklus `for` pracuje s listem uvedeným výše podle indexů, ne podle hodnoty.\n",
        "```\n",
        "for cislo in [0, 1, 2, 3, 4, 5, 6, 7, 8, 9]:\n",
        "    if cislo == 9:\n",
        "        cislo = 0\n",
        "    print(f\"{cislo=}\")\n",
        "```\n",
        "\n",
        "</details>\n",
        "\n",
        "---"
      ],
      "metadata": {
        "id": "apPKPnx1zwdt"
      }
    }
  ]
}