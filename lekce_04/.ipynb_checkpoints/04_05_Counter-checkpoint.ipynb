{
 "cells": [
  {
   "cell_type": "markdown",
   "metadata": {
    "id": "N8SnT50uY7la"
   },
   "source": [
    "<h6 align=right> 🐍 Python akademie - lekce 4 - DD.MM.YYYY</h6>"
   ]
  },
  {
   "cell_type": "markdown",
   "metadata": {
    "id": "uNb1I6QlY_D-"
   },
   "source": [
    "# <h1 align=center><font color=black size=24><b> 💽 Counter</font></h1>\n",
    "\n",
    "<p align=center> (praktická úloha na závěr lekce)</p>\n",
    "\n",
    "<br>\n",
    "\n",
    "---"
   ]
  },
  {
   "cell_type": "markdown",
   "metadata": {
    "id": "i8afZCuvZjui"
   },
   "source": [
    "<br>\n",
    "\n",
    "Na úvod budeme potřebovat zkopírovat proměnnou `TEXT` a její hodnotu. S tímto textem budeme následně pracovat.\n",
    "\n",
    "<br>\n",
    "\n",
    "Cílem je projít zadaný string a spočítat, která slova se v textu vyskytují nejčastěji.\n",
    "\n",
    "<br>\n",
    "\n",
    "Na závěr budeme chtít uživateli vypsat 5 nejčastějších slov (vzestupně).\n",
    "\n",
    "<br>\n",
    "\n",
    "\n",
    "Krok za krokem vyrešte tyto body, které by náš program měl splňovat:\n",
    "1. Zpracovat celý text na **jednotlivé slova**. Ty následně uložit do pomocné proměnné.\n",
    "2. Vypočítat **výskyt** jednotlivých slov a uložit do proměnné.\n",
    "3. Najít **pět nejčastějších** slov. Ty opět uložit do proměnné.\n",
    "4. **Vypsat** uživateli pět nejčastějších slov.\n",
    "\n",
    "<br>\n",
    "\n",
    "<img src=\"https://i.imgur.com/8vYg4G8.gif\" width=\"1000\">\n",
    "\n",
    "<br>\n",
    "\n",
    "---\n",
    "\n",
    "\n"
   ]
  },
  {
   "cell_type": "markdown",
   "metadata": {
    "id": "rVPTsxwTakj8"
   },
   "source": [
    "<br>\n",
    "\n",
    "## **Vstupní údaje, které použijeme**"
   ]
  },
  {
   "cell_type": "code",
   "execution_count": null,
   "metadata": {
    "id": "4hlByPnZY4ov"
   },
   "outputs": [],
   "source": [
    "TEXT = \"\"\"\n",
    "Affronting imprudence do he he everything. Sex lasted dinner wanted indeed\n",
    "wished out law. Far advanced settling say finished raillery. Offered\n",
    "chiefly farther of my no colonel shyness. Such on help ye some door if in.\n",
    "Laughter proposal laughing any son law consider. Needed except up piqued\n",
    "an. Her companions instrument set estimating sex remarkably solicitude\n",
    "motionless. Property men the why smallest graceful day insisted required.\n",
    "Inquiry justice country old placing sitting any ten age. Looking venture\n",
    "justice in evident in totally he do ability. Be is lose girl long of up give.\n",
    "Trifling wondered unpacked ye at he. In household certainty an on tolerably\n",
    "smallness difficult. Many no each like up be is next neat. Put not enjoyment\n",
    "behaviour her supposing. At he pulled object others. His exquisite sincerity\n",
    "education shameless ten earnestly breakfast add. So we me unknown as improve\n",
    "hastily sitting forming. Especially favourable compliment but thoroughly\n",
    "unreserved saw she themselves. Sufficient impossible him may ten insensible\n",
    "put continuing. Oppose exeter income simple few joy cousin but twenty. Scale\n",
    "began quiet up short wrong in in. Sportsmen shy forfeited engrossed may can.\n",
    "Remain valley who mrs uneasy remove wooded him you. Her questions favourite\n",
    "him concealed. We to wife face took he. The taste begin early old why since\n",
    "dried can first. Prepared as or humoured formerly. Evil mrs true get post.\n",
    "Express village evening prudent my as ye hundred forming. Thoughts she why not\n",
    "directly reserved packages you. Winter an silent favour of am tended mutual.\n",
    "Cold entered excellence questions chiefly hung tried having body overcame\n",
    "twenty hills. Afraid easy admire settled promotion. Convinced full manners\n",
    "household cottage savings giving sweetness. Easy dearest beyond guest suffer\n",
    "examine moderate things hills together proposal basket ferrars just really.\n",
    "Written merry prudent enjoyment laughter wise subjects blind lain given. More\n",
    "moderate affection speaking unpacked increasing seen ask increasing season.\n",
    "Arrival twenty continue thrown invited remainder neat juvenile point saved\n",
    "favourable society disposing desirous. Seemed months linen inquietude\n",
    "branched otherwise ladies little cordially depend entirely surrounded\n",
    "addition past feebly. Sent overcame ye pleasant household eyes addition sir\n",
    "perpetual assurance middleton enough marriage yourself living. Expenses times\n",
    "inquiry he who thirty offended opinion removal stairs. Dull seen expression chief\n",
    "insensible remember additions spoil their projecting pasture respect either\n",
    "sight whatever or. Arise laughing mile moment disposal affronting reasonable\n",
    "situation often jokes shot unpleasing. Wrong better those hopes man besides\n",
    "must were although scale. Cordial related meant pretty total valley motionless\n",
    "pretty whose possible thrown desirous own. Great without arranging room. She\n",
    "park feet stairs again prevent points our gave marry greatest keeps welcomed.\n",
    "Few picture than exertion himself inquiry sufficient friends answered formerly\n",
    "promotion dull done shutters affection. Dining so china affixed followed\n",
    "motionless surprise. Gentleman sing known hill age. Motionless paid hastened\n",
    "sure enjoyment declared mistress. Procured improve reached projecting\n",
    "certainly announcing goodness good lose. Reserved middletons my share asked\n",
    "aware new seeing suitable entirely our timed. Justice expenses pronounce men\n",
    "given occasional existence finished from fanny settle. Occasional eldest\n",
    "extremity horrible chief amounted wholly extremity pronounce painful. Company\n",
    "better every hastily held window. Dissimilar discretion pleased dashwood\n",
    "children who branched. Settled on timed unpleasant prevent chiefly dinner. Set\n",
    "quiet lasted declared lively it cottage collecting household told strongly\n",
    "temper decisively we consulted. Remain or worse placing doubtful suffer\n",
    "necessary arise does perpetual drawn conduct shed amiable want suspicion\n",
    "ashamed. Hopes better esteems mother margaret rent pasture favour produce\n",
    "service instrument astonished marry unfeeling offending affection. Ashamed\n",
    "unpleasing ourselves produce made entreaties suffering went express strongly\n",
    "opinions year need burst away motionless jokes. Views securing furniture.\n",
    "Means message itself there table come balls in unaffected spring thoroughly\n",
    "next admire. None behaviour blushes carriage felicity humanity suspicion\n",
    "concealed believe elinor saved. Sitting greater secure called replying\n",
    "beauty sorry. Resolve marriage simplicity remaining kindness suppose beloved\n",
    "afraid sight winding sportsman and engrossed my absolute message enabled.\n",
    "Side enable cease sister contrasted questions deal giving make insensible\n",
    "daughter forfeited. Exquisite numerous peculiar tiled blush so servants\n",
    "solicitude another. Ladyship properly dissuade advanced desirous raillery\n",
    "woman table points desire sorry correct advantage. Margaret steepest\n",
    "unaffected nearer perpetual distrusts supplied denoting often feeling\n",
    "surprise others occasional wife object humoured. Talked satisfied affronting\n",
    "occasional yet wishes considered jennings indeed daughters.\n",
    "Who answer considered off ladies ask extended discovered distant away season.\n",
    "Remember earnestly how place temper shew concluded bringing greater outweigh.\n",
    "Sense pleasure valley account even produce must oh or looked great excellence\n",
    "ladies total entrance mistake terminated. Consisted however noisier pain our\n",
    "call dashwood prospect civil another studied high feebly delay. Gravity\n",
    "blessing defer county marriage. Viewing enable roof settling because common\n",
    "delivered affection peculiar know great colonel pleasure continue lasting.\n",
    "Written attacks humoured elegance passed branched estimating can. Certain\n",
    "likewise reserved we situation. Wife heart maids shy although sitting point\n",
    "remarkably pleasure moments attended improving comfort its considered shew.\n",
    "Absolute when service honoured departure promise unreserved situation advanced\n",
    "delight thoughts oppose repair stimulated.  Added melancholy forming september\n",
    "melancholy danger manor tall my regard weeks within maids. Advice material\n",
    "against highly done furniture water sing me moments cottage certainty affixed\n",
    "dine carriage among. Entire besides raising advantages entreaties certainly\n",
    "another. Smart from carriage promotion whether by dependent valley attacks\n",
    "husbands mistress material mirth. Parties unlocked carried fruit improving\n",
    "stairs eagerness but off enjoy frankness dwelling contrasted imprudence\n",
    "elsewhere shutters every. Applauded vicinity every. Painful highly elinor.\n",
    "Times could hastily contrasted ye. Vulgar indeed talking sooner jokes mother\n",
    "humoured correct fail attempted advantage think merely year result feebly\n",
    "learn. Length fifteen laughing shot remain welcome. Fancy unknown marked find\n",
    "consider. Property express day then expense wish tears engaged called. Woman\n",
    "forfeited fact weather ought demesne style dwelling ample elsewhere properly.\n",
    "Total linen have forfeited. The carried peculiar roused worth excellence\n",
    "depending consisted concern rendered none pronounce before because. Wise\n",
    "pulled gravity having brother jennings wanted offence vulgar received little.\n",
    "Nor would request miss announcing. Fortune inquietude past. Even extensive it\n",
    "season true continuing hardly cause thoroughly horses dining mile provision\n",
    "disposed thrown. Esteems juvenile nothing quitting mrs. Jointure most\n",
    "breakfast adieus opinion extensive feet hill wise music resembled entrance\n",
    "since needed husbands uncommonly curiosity. Civility though welcome winding\n",
    "blind conveying lively spoil. Enjoyment affection sooner compliment shade\n",
    "plate name incommode enabled sake breeding ladyship understood. Extensive\n",
    "difficult arose therefore greatly far convinced performed unpleasing feet.\n",
    "Made seems neglected early difficult years affixed. Ye hope or instrument\n",
    "especially things distance colonel way. Chief admire wanted civility tried\n",
    "gate compliment. Plan prepared beloved thrown sportsman mind points five\n",
    "sixteen ought strictly enough other abode abode spirit connection. Defective\n",
    "allowance delicate sincerity oh inquietude year frankness the household\n",
    "jointure play dispatched breeding. Education pleasure fanny debating off\n",
    "surrounded. Examine sportsman depending. Form true held help denote pasture\n",
    "she. Marianne state supported elsewhere enjoyed abroad any pure. Winding\n",
    "cousin because pretended point ability offending sent drawn is amounted\n",
    "unaffected allow propriety. Manner ferrars before comparison remain calling\n",
    "simplicity minuter stanhill he hundred. Written smallness lose smiling merits\n",
    "whom friendship lose smallest behaved gay basket heard twenty both going\n",
    "drawn. Her morning left. Bore they face heart longer county help case maids\n",
    "morning leave provided dearest sent like preferred. Something case almost\n",
    "twenty elinor husbands sincerity addition sure. Theirs secure pasture assure\n",
    "led performed table hope morning avoid almost make far body pure farther\n",
    "doubtful.  Exquisite horrible admire six know. Mutual gave many covered asked\n",
    "season except miss prospect called admiration could. Known about man strongly\n",
    "heart charm disposing desire both debating oppose gentleman goodness\n",
    "sufficient barton matters limited. Prepared prepare west tears declared dried\n",
    "help matter this away order females apartments depending round were basket.\n",
    "\"\"\""
   ]
  },
  {
   "cell_type": "markdown",
   "metadata": {
    "id": "Xpa6bQ4kapkR"
   },
   "source": [
    "<br>\n",
    "\n",
    "## **Rozdělení dlouhého textu (stringu) na jednotlivá slova**\n"
   ]
  },
  {
   "cell_type": "markdown",
   "metadata": {
    "id": "kNRA_FOVa-BF"
   },
   "source": [
    "### <font color=red><b>Očekáváme:</b>\n",
    "```python\n",
    ">>> print(vycistena_slova)\n",
    "['affronting', 'imprudence', 'do', 'he', 'he', 'everything', 'sex', 'lasted', 'dinner', 'wanted', 'indeed', 'wished', 'out', ...\n",
    "```"
   ]
  },
  {
   "cell_type": "markdown",
   "metadata": {
    "id": "ltEv5fq6bIwk"
   },
   "source": [
    "### <font color=ligtblue><b> 💻 Kód:</b>"
   ]
  },
  {
   "cell_type": "code",
   "execution_count": null,
   "metadata": {
    "id": "jLvyr3P_a0mr"
   },
   "outputs": [],
   "source": [
    "# klasicke reseni\n",
    "vycistena_slova = []\n",
    "\n",
    "for slovo in TEXT.split():\n",
    "    ciste_slovo = slovo.strip(\",.:;'\")\n",
    "    vycistena_slova.append(ciste_slovo.lower())\n",
    "\n",
    "# list comprehension\n",
    "vycistena_slova = [slovo.strip(\",.:;'\").lower() for slovo in TEXT.split()]"
   ]
  },
  {
   "cell_type": "markdown",
   "metadata": {
    "id": "G8XevvStbXUj"
   },
   "source": [
    "<br>\n",
    "\n",
    "## **Vypočítej výskyt slov**\n"
   ]
  },
  {
   "cell_type": "markdown",
   "metadata": {
    "id": "_bdFTvWAbvG8"
   },
   "source": [
    "aka Vytvoř slovník s klíči (slova) a hodnotami (výskyt slov)"
   ]
  },
  {
   "cell_type": "markdown",
   "metadata": {
    "id": "aqZ-4yvqbcCl"
   },
   "source": [
    "### <font color=red><b>Očekáváme:</b>\n",
    "```python\n",
    ">>> print(vyskyt_slov)\n",
    "{'affronting': 1, 'imprudence': 1, 'do': 2, 'he': 8, 'everything': 1, 'sex': 2, 'lasted': 1, 'dinner': 1, 'wanted': 1, 'indeed': 1, ...\n",
    "```"
   ]
  },
  {
   "cell_type": "markdown",
   "metadata": {
    "id": "TT1Q4Q_fbzaN"
   },
   "source": [
    "### <font color=ligtblue><b> 💻 Kód:</b>"
   ]
  },
  {
   "cell_type": "code",
   "execution_count": null,
   "metadata": {
    "id": "Va7G2xKWbZw-"
   },
   "outputs": [],
   "source": [
    "# if/else\n",
    "vyskyt_slov = {}\n",
    "\n",
    "for slovo in vycistena_slova:\n",
    "    if slovo not in vyskyt_slov:\n",
    "        vyskyt_slov[slovo] = 1\n",
    "    else:\n",
    "        vyskyt_slov[slovo] = vyskyt_slov[slovo] + 1\n",
    "    \n",
    "# ternary operator\n",
    "vyskyt_slov[slovo] = 1 if slovo not in vyskyt_slov \\\n",
    "    else vyskyt_slov[slovo] + 1\n",
    "    \n",
    "# setdefault()\n",
    "vyskyt_slov[slovo] = vyskyt_slov.setdefault(slovo, 0) + 1\n",
    "    \n",
    "# knihovna collections\n",
    "from collections import Counter\n",
    "pocitadlo = Counter(vycistena_slova)\n",
    "pocitadlo = Counter(vycistena_slova).most_common(5)"
   ]
  },
  {
   "cell_type": "markdown",
   "metadata": {
    "id": "jF1ME9pffBDP"
   },
   "source": [
    "<br>\n",
    "\n",
    "## **Hledáme pět nejčastějších**\n"
   ]
  },
  {
   "cell_type": "markdown",
   "metadata": {
    "id": "IzoeBzDefRay"
   },
   "source": [
    "### <font color=red><b>Očekáváme:</b>\n",
    "```\n",
    ">>> print(nejcastejsi_hodnoty)\n",
    "[8, 7, 6, 5, 5]\n",
    "\n",
    ">>> print(pet_nejcastejsich)\n",
    "[(2, 'do'), (5, 'he'), (2, 'sex'), (4, 'in'), (3, 'up')]\n",
    "```"
   ]
  },
  {
   "cell_type": "markdown",
   "metadata": {
    "id": "VrcIZpHyfYKQ"
   },
   "source": [
    "### <font color=ligtblue><b> 💻 Kód:</b>"
   ]
  },
  {
   "cell_type": "code",
   "execution_count": null,
   "metadata": {
    "colab": {
     "base_uri": "https://localhost:8080/"
    },
    "executionInfo": {
     "elapsed": 201,
     "status": "ok",
     "timestamp": 1675448140087,
     "user": {
      "displayName": "Radim Jedlička",
      "userId": "11502208915568361358"
     },
     "user_tz": -60
    },
    "id": "_fzaMFvIfPvk",
    "outputId": "96f61b51-b098-4266-fb12-47942726e540"
   },
   "outputs": [
    {
     "name": "stdout",
     "output_type": "stream",
     "text": [
      "[(8, 'he'), (5, 'my'), (6, 'ye'), (7, 'in'), (5, 'motionless')]\n"
     ]
    }
   ],
   "source": [
    "nejcastejsi_hodnoty = sorted(list(vyskyt_slov.values()), reverse=True)[:5]\n",
    "pet_nejcastejsich = list()\n",
    "\n",
    "for vyskyt in vyskyt_slov:\n",
    "    if vyskyt_slov[vyskyt] in nejcastejsi_hodnoty:\n",
    "        nejcastejsi_hodnoty.remove(vyskyt_slov[vyskyt])\n",
    "        pet_nejcastejsich.append((vyskyt_slov[vyskyt], vyskyt))\n",
    "\n",
    "print(pet_nejcastejsich)\n",
    "    \n",
    "# sorted()\n",
    "pet_nejcastejsich = sorted(\n",
    "    vyskyt_slov,\n",
    "    key=vyskyt_slov.get,\n",
    "    reverse=True\n",
    ")[0: 5]"
   ]
  },
  {
   "cell_type": "markdown",
   "metadata": {
    "id": "MZR41V32fffZ"
   },
   "source": [
    "<br>\n",
    "\n",
    "## **Závěrečný výpis**\n"
   ]
  },
  {
   "cell_type": "markdown",
   "metadata": {
    "id": "aJTMXAsjfjNa"
   },
   "source": [
    "### <font color=red><b>Očekáváme:</b>\n",
    "```\n",
    "+--+----------+--+\n",
    "|1.|    he    |5x|\n",
    "+--+----------+--+\n",
    "+--+----------+--+\n",
    "|2.|    in    |4x|\n",
    "+--+----------+--+\n",
    "+--+----------+--+\n",
    "|3.|    up    |3x|\n",
    "+--+----------+--+\n",
    "+--+----------+--+\n",
    "|4.|   sex    |2x|\n",
    "+--+----------+--+\n",
    "+--+----------+--+\n",
    "|5.|    do    |2x|\n",
    "+--+----------+--+\n",
    "```"
   ]
  },
  {
   "cell_type": "markdown",
   "metadata": {
    "id": "X03oaJHSgjCS"
   },
   "source": [
    "### <font color=ligtblue><b> 💻 Kód:</b>"
   ]
  },
  {
   "cell_type": "code",
   "execution_count": null,
   "metadata": {
    "colab": {
     "base_uri": "https://localhost:8080/"
    },
    "executionInfo": {
     "elapsed": 298,
     "status": "ok",
     "timestamp": 1675448306683,
     "user": {
      "displayName": "Radim Jedlička",
      "userId": "11502208915568361358"
     },
     "user_tz": -60
    },
    "id": "Wyt4cYzqfhrK",
    "outputId": "1b1beba0-876c-4538-9e47-cd8a1919ed8f"
   },
   "outputs": [
    {
     "name": "stdout",
     "output_type": "stream",
     "text": [
      "+--+------------+--+\n",
      "|1.|     he     |8x|\n",
      "+--+------------+--+\n",
      "+--+------------+--+\n",
      "|2.|     in     |7x|\n",
      "+--+------------+--+\n",
      "+--+------------+--+\n",
      "|3.|     ye     |6x|\n",
      "+--+------------+--+\n",
      "+--+------------+--+\n",
      "|4.|     my     |5x|\n",
      "+--+------------+--+\n",
      "+--+------------+--+\n",
      "|5.| motionless |5x|\n",
      "+--+------------+--+\n"
     ]
    }
   ],
   "source": [
    "ODDELOVAC = \"+--+------------+--+\"\n",
    "\n",
    "# puvodni varianta\n",
    "for index, par in enumerate(sorted(pet_nejcastejsich, reverse=True), 1):\n",
    "    print(ODDELOVAC, f\"|{index}.|{par[1]: ^10}|{par[0]}x|\", ODDELOVAC, sep=\"\\n\")\n",
    "\n",
    "# varianta se sorted()\n",
    "for index, nejcasteji in enumerate(pet_nejcastejsich, 1):\n",
    "    print(ODDELOVAC, f\"|{index}.|{nejcasteji: ^12}|{vyskyt_slov[nejcasteji]}x|\", ODDELOVAC, sep=\"\\n\") "
   ]
  }
 ],
 "metadata": {
  "colab": {
   "authorship_tag": "ABX9TyMI7pRafPMV+qji+1BcfJg7",
   "provenance": []
  },
  "kernelspec": {
   "display_name": "Python 3 (ipykernel)",
   "language": "python",
   "name": "python3"
  },
  "language_info": {
   "codemirror_mode": {
    "name": "ipython",
    "version": 3
   },
   "file_extension": ".py",
   "mimetype": "text/x-python",
   "name": "python",
   "nbconvert_exporter": "python",
   "pygments_lexer": "ipython3",
   "version": "3.10.0"
  }
 },
 "nbformat": 4,
 "nbformat_minor": 1
}
