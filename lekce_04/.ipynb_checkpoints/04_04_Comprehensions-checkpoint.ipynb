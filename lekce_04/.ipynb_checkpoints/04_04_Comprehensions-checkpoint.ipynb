{
 "cells": [
  {
   "cell_type": "markdown",
   "metadata": {
    "id": "xklosQDv1zlo"
   },
   "source": [
    "<h6 align=right> 🐍 Python akademie - lekce 4 - DD.MM.YYYY</h6>"
   ]
  },
  {
   "cell_type": "markdown",
   "metadata": {
    "id": "H0DEtmBz12aw"
   },
   "source": [
    "<br>\n",
    "\n",
    "# <h1 align=center><font color=black size=24><b> 04_04: Comprehensions</font></h1>\n",
    "\n",
    "<br>\n",
    "\n",
    "---"
   ]
  },
  {
   "cell_type": "markdown",
   "metadata": {
    "id": "FBRSnZCD18Z6"
   },
   "source": [
    "<br>\n",
    "\n",
    "### **Zajímavé odkazy pro tento oddíl:**\n",
    "\n",
    "---\n",
    "\n",
    "* [Seznamová komprehence](http://howto.py.cz/cap08.htm#10)\n",
    "* [Dokumentace k úvodu do comprehensions](https://python-3-patterns-idioms-test.readthedocs.io/en/latest/Comprehensions.html)\n",
    "* [Odkaz s dalšími příklady pro comprehensions](https://www.geeksforgeeks.org/comprehensions-in-python/)\n",
    "\n",
    "---\n",
    "\n",
    "<br>\n",
    "\n",
    "*Komprehence* je speciální forma zápisu cyklu `for`, která obnáší několik velkých výhod.\n",
    "\n",
    "<br>\n",
    "\n",
    "Klasický zápis takového cyklu `for` by vypadal následovně:"
   ]
  },
  {
   "cell_type": "code",
   "execution_count": null,
   "metadata": {
    "id": "tBx4yQF21wsV"
   },
   "outputs": [],
   "source": [
    "pismena = []\n",
    "\n",
    "for pismeno in \"Python Akademie\":\n",
    "    pismena.append(pismeno)"
   ]
  },
  {
   "cell_type": "code",
   "execution_count": null,
   "metadata": {
    "colab": {
     "base_uri": "https://localhost:8080/"
    },
    "executionInfo": {
     "elapsed": 217,
     "status": "ok",
     "timestamp": 1675426117015,
     "user": {
      "displayName": "Radim Jedlička",
      "userId": "11502208915568361358"
     },
     "user_tz": -60
    },
    "id": "K4CpTl5RLQ5e",
    "outputId": "c672989e-9251-4c59-e986-6d4bbb350fb2"
   },
   "outputs": [
    {
     "name": "stdout",
     "output_type": "stream",
     "text": [
      "pismena = ['P', 'y', 't', 'h', 'o', 'n', ' ', 'A', 'k', 'a', 'd', 'e', 'm', 'i', 'e']\n"
     ]
    }
   ],
   "source": [
    "print(f'{pismena = }')"
   ]
  },
  {
   "cell_type": "markdown",
   "metadata": {
    "id": "2XhSeoyELj41"
   },
   "source": [
    "<br>\n",
    "\n",
    "## **List comprehension**\n",
    "\n",
    "---"
   ]
  },
  {
   "cell_type": "code",
   "execution_count": null,
   "metadata": {
    "id": "UPyh9C63LWCo"
   },
   "outputs": [],
   "source": [
    "pismena = [pismeno for pismeno in \"Python Akademie\"]"
   ]
  },
  {
   "cell_type": "code",
   "execution_count": null,
   "metadata": {
    "colab": {
     "base_uri": "https://localhost:8080/"
    },
    "executionInfo": {
     "elapsed": 13,
     "status": "ok",
     "timestamp": 1675426221858,
     "user": {
      "displayName": "Radim Jedlička",
      "userId": "11502208915568361358"
     },
     "user_tz": -60
    },
    "id": "0Ic21qznLx0p",
    "outputId": "02f6ee66-1130-461d-ebb1-8324d8634d3f"
   },
   "outputs": [
    {
     "name": "stdout",
     "output_type": "stream",
     "text": [
      "pismena = ['P', 'y', 't', 'h', 'o', 'n', ' ', 'A', 'k', 'a', 'd', 'e', 'm', 'i', 'e']\n"
     ]
    }
   ],
   "source": [
    "print(f'{pismena = }')"
   ]
  },
  {
   "cell_type": "markdown",
   "metadata": {
    "id": "5ZxMc-WNL37v"
   },
   "source": [
    "<br>\n",
    "\n",
    "Největším přínosem komprehence je to\\m, že není potřeba *iniciovat* prázdnou proměnnou (v našem případě `list` `pismena`), který budeme následně plnit údaji z iterátoru.\n",
    "\n",
    "<br>\n",
    "\n",
    "Takhle probíhá obojí v podstatě současně."
   ]
  },
  {
   "cell_type": "markdown",
   "metadata": {
    "id": "xm8Diw6KL-pg"
   },
   "source": [
    "<br>\n",
    "\n",
    "## **Comprehension s podmínkou**\n",
    "\n",
    "---"
   ]
  },
  {
   "cell_type": "code",
   "execution_count": null,
   "metadata": {
    "id": "ahzjUbV_L4R_"
   },
   "outputs": [],
   "source": [
    "cislice = [1, 2, 3, 4, 5, 6, 7, 8, 9, 10]"
   ]
  },
  {
   "cell_type": "markdown",
   "metadata": {
    "id": "WySFa9jAMdBO"
   },
   "source": [
    "Pokud chceme vybrat ze slovníku pouze číslice dělitelné dvěma:\n",
    "    \n",
    "* klasicky: "
   ]
  },
  {
   "cell_type": "code",
   "execution_count": null,
   "metadata": {
    "id": "SF_5bZh_MscB"
   },
   "outputs": [],
   "source": [
    "delitelne_dvema = []\n",
    "\n",
    "for cislo in cislice:\n",
    "    if cislo % 2 == 0:\n",
    "        delitelne_dvema.append(cislo)"
   ]
  },
  {
   "cell_type": "code",
   "execution_count": null,
   "metadata": {
    "colab": {
     "base_uri": "https://localhost:8080/"
    },
    "executionInfo": {
     "elapsed": 13,
     "status": "ok",
     "timestamp": 1675426580330,
     "user": {
      "displayName": "Radim Jedlička",
      "userId": "11502208915568361358"
     },
     "user_tz": -60
    },
    "id": "IGuLx2yPNKtL",
    "outputId": "bc6ec765-0771-4b72-9442-13d36b2998a2"
   },
   "outputs": [
    {
     "data": {
      "text/plain": [
       "[2, 4, 6, 8, 10]"
      ]
     },
     "execution_count": 12,
     "metadata": {},
     "output_type": "execute_result"
    }
   ],
   "source": [
    "delitelne_dvema"
   ]
  },
  {
   "cell_type": "markdown",
   "metadata": {
    "id": "splkq9HmNvq3"
   },
   "source": [
    "* comprehension"
   ]
  },
  {
   "cell_type": "code",
   "execution_count": null,
   "metadata": {
    "id": "2g5hw0STNMSQ"
   },
   "outputs": [],
   "source": [
    "delitelne_dvema = [cislo for cislo in cislice if cislo % 2 == 0]"
   ]
  },
  {
   "cell_type": "code",
   "execution_count": null,
   "metadata": {
    "colab": {
     "base_uri": "https://localhost:8080/"
    },
    "executionInfo": {
     "elapsed": 234,
     "status": "ok",
     "timestamp": 1675426775632,
     "user": {
      "displayName": "Radim Jedlička",
      "userId": "11502208915568361358"
     },
     "user_tz": -60
    },
    "id": "UVA6uLoIN66_",
    "outputId": "601de75b-48ff-4a15-e043-576eac30b69a"
   },
   "outputs": [
    {
     "data": {
      "text/plain": [
       "[2, 4, 6, 8, 10]"
      ]
     },
     "execution_count": 14,
     "metadata": {},
     "output_type": "execute_result"
    }
   ],
   "source": [
    "delitelne_dvema"
   ]
  },
  {
   "cell_type": "code",
   "execution_count": null,
   "metadata": {
    "id": "B9nVQhM3N79F"
   },
   "outputs": [],
   "source": [
    "delitelne_dvema = [cislo if cislo % 2 == 0 else 'X' for cislo in cislice]"
   ]
  },
  {
   "cell_type": "code",
   "execution_count": null,
   "metadata": {
    "colab": {
     "base_uri": "https://localhost:8080/"
    },
    "executionInfo": {
     "elapsed": 214,
     "status": "ok",
     "timestamp": 1675426979907,
     "user": {
      "displayName": "Radim Jedlička",
      "userId": "11502208915568361358"
     },
     "user_tz": -60
    },
    "id": "vl6hZt65Otmf",
    "outputId": "8c56b631-e160-4edd-a470-7f83750c5e17"
   },
   "outputs": [
    {
     "data": {
      "text/plain": [
       "['X', 2, 'X', 4, 'X', 6, 'X', 8, 'X', 10]"
      ]
     },
     "execution_count": 19,
     "metadata": {},
     "output_type": "execute_result"
    }
   ],
   "source": [
    "delitelne_dvema"
   ]
  },
  {
   "cell_type": "code",
   "execution_count": null,
   "metadata": {
    "id": "zGKrWdiDO1W7"
   },
   "outputs": [],
   "source": [
    "delitelne_dvema = [cislo/2 if cislo % 2 == 0 else 'X' for cislo in cislice]"
   ]
  },
  {
   "cell_type": "code",
   "execution_count": null,
   "metadata": {
    "colab": {
     "base_uri": "https://localhost:8080/"
    },
    "executionInfo": {
     "elapsed": 228,
     "status": "ok",
     "timestamp": 1675427031062,
     "user": {
      "displayName": "Radim Jedlička",
      "userId": "11502208915568361358"
     },
     "user_tz": -60
    },
    "id": "FoRljMuQO4bM",
    "outputId": "256e89e3-5adf-482e-890c-a9251f4f5edf"
   },
   "outputs": [
    {
     "data": {
      "text/plain": [
       "['X', 1.0, 'X', 2.0, 'X', 3.0, 'X', 4.0, 'X', 5.0]"
      ]
     },
     "execution_count": 21,
     "metadata": {},
     "output_type": "execute_result"
    }
   ],
   "source": [
    "delitelne_dvema"
   ]
  },
  {
   "cell_type": "markdown",
   "metadata": {
    "id": "dMoAx5HAew7w"
   },
   "source": [
    "<br>\n",
    "\n",
    "## **Nested comprehension**\n",
    "\n",
    "---"
   ]
  },
  {
   "cell_type": "markdown",
   "metadata": {
    "id": "zFUgWhrGe26b"
   },
   "source": [
    "Ze seznamu `jmena` chceme získat všechna jména, která začínají na `He`."
   ]
  },
  {
   "cell_type": "code",
   "execution_count": null,
   "metadata": {
    "id": "y67_dSfwe-fE"
   },
   "outputs": [],
   "source": [
    "jmena = [\n",
    "    [\"Matous\", \"Marek\", \"Lukas\", \"Jan\"],\n",
    "    [\"Lucie\", \"Aneta\", \"Michaela\", \"Lenka\"],\n",
    "    [\"Helmut\", \"Hammet\", \"Hetfield\", \"Harold\"]\n",
    "]"
   ]
  },
  {
   "cell_type": "code",
   "execution_count": null,
   "metadata": {
    "colab": {
     "base_uri": "https://localhost:8080/"
    },
    "executionInfo": {
     "elapsed": 14,
     "status": "ok",
     "timestamp": 1675431473481,
     "user": {
      "displayName": "Radim Jedlička",
      "userId": "11502208915568361358"
     },
     "user_tz": -60
    },
    "id": "MBJcsc9HfPMW",
    "outputId": "d63d6148-a72c-4949-c04a-ecbbfb1b3424"
   },
   "outputs": [
    {
     "name": "stdout",
     "output_type": "stream",
     "text": [
      "['Helmut', 'Hetfield']\n"
     ]
    }
   ],
   "source": [
    "pouze_He = []\n",
    "\n",
    "for seznam in jmena:\n",
    "    for jmeno in seznam:\n",
    "        if jmeno.startswith(\"He\"):\n",
    "            pouze_He.append(jmeno)\n",
    "\n",
    "print(pouze_He)"
   ]
  },
  {
   "cell_type": "code",
   "execution_count": null,
   "metadata": {
    "colab": {
     "base_uri": "https://localhost:8080/"
    },
    "executionInfo": {
     "elapsed": 331,
     "status": "ok",
     "timestamp": 1675431300303,
     "user": {
      "displayName": "Radim Jedlička",
      "userId": "11502208915568361358"
     },
     "user_tz": -60
    },
    "id": "NhRxjnOlO6UY",
    "outputId": "9652518f-b9d1-4eef-843d-6b5d1414ee04"
   },
   "outputs": [
    {
     "name": "stdout",
     "output_type": "stream",
     "text": [
      "[[], [], ['Helmut', 'Hetfield']]\n"
     ]
    }
   ],
   "source": [
    "pouze_He = [\n",
    "    [jmeno for jmeno in radek if jmeno.startswith(\"He\")]\n",
    "    for radek in jmena\n",
    "]\n",
    "\n",
    "print(pouze_He)"
   ]
  },
  {
   "cell_type": "markdown",
   "metadata": {
    "id": "VQN_miC5f5h_"
   },
   "source": [
    "<br>\n",
    "\n",
    "## **Dictionary comprehension**\n",
    "\n",
    "---"
   ]
  },
  {
   "cell_type": "code",
   "execution_count": null,
   "metadata": {
    "id": "ESp2YOPTfMo3"
   },
   "outputs": [],
   "source": [
    "cisla = [1, 2, 3, 4, 5, 6, 7, 8, 9, 10, 11, 12, 13, 14, 15]"
   ]
  },
  {
   "cell_type": "code",
   "execution_count": null,
   "metadata": {
    "id": "oKluuTOCgCEt"
   },
   "outputs": [],
   "source": [
    "druhe_mocniny = {\n",
    "    cislo: cislo ** 2\n",
    "    for cislo in cisla\n",
    "}"
   ]
  },
  {
   "cell_type": "code",
   "execution_count": null,
   "metadata": {
    "colab": {
     "base_uri": "https://localhost:8080/"
    },
    "executionInfo": {
     "elapsed": 219,
     "status": "ok",
     "timestamp": 1675431538891,
     "user": {
      "displayName": "Radim Jedlička",
      "userId": "11502208915568361358"
     },
     "user_tz": -60
    },
    "id": "gyWDFINygENy",
    "outputId": "aa41cbb8-b339-4a0c-f7c0-520958c8b4b5"
   },
   "outputs": [
    {
     "name": "stdout",
     "output_type": "stream",
     "text": [
      "{1: 1,\n",
      " 2: 4,\n",
      " 3: 9,\n",
      " 4: 16,\n",
      " 5: 25,\n",
      " 6: 36,\n",
      " 7: 49,\n",
      " 8: 64,\n",
      " 9: 81,\n",
      " 10: 100,\n",
      " 11: 121,\n",
      " 12: 144,\n",
      " 13: 169,\n",
      " 14: 196,\n",
      " 15: 225}\n"
     ]
    }
   ],
   "source": [
    "from pprint import pprint\n",
    "pprint(druhe_mocniny)"
   ]
  },
  {
   "cell_type": "markdown",
   "metadata": {
    "id": "uSoTnZTugMcf"
   },
   "source": [
    "<br>\n",
    "\n",
    "## **Set comprehension**\n",
    "\n",
    "---"
   ]
  },
  {
   "cell_type": "code",
   "execution_count": null,
   "metadata": {
    "id": "BEJKb9cOgLXS"
   },
   "outputs": [],
   "source": [
    "CISLA = [1, 2, 1, 1, 5, 6, 7, 8, 9, 9, 8, 12, 13, 14, 11, 11, 14, 15]"
   ]
  },
  {
   "cell_type": "code",
   "execution_count": null,
   "metadata": {
    "id": "UmiUTDqxgQzJ"
   },
   "outputs": [],
   "source": [
    "set_dvojcif_cisel = {cislo for cislo in CISLA if len(str(cislo)) == 2}"
   ]
  },
  {
   "cell_type": "code",
   "execution_count": null,
   "metadata": {
    "colab": {
     "base_uri": "https://localhost:8080/"
    },
    "executionInfo": {
     "elapsed": 220,
     "status": "ok",
     "timestamp": 1675431592660,
     "user": {
      "displayName": "Radim Jedlička",
      "userId": "11502208915568361358"
     },
     "user_tz": -60
    },
    "id": "K061ELTrgTwC",
    "outputId": "ef91c666-fb96-4846-87be-3e48e3218cd7"
   },
   "outputs": [
    {
     "name": "stdout",
     "output_type": "stream",
     "text": [
      "{11, 12, 13, 14, 15}\n"
     ]
    }
   ],
   "source": [
    "print(f\"{set_dvojcif_cisel}\")"
   ]
  }
 ],
 "metadata": {
  "colab": {
   "authorship_tag": "ABX9TyOHx5Wellk3LtmhDibO2u71",
   "provenance": []
  },
  "kernelspec": {
   "display_name": "Python 3 (ipykernel)",
   "language": "python",
   "name": "python3"
  },
  "language_info": {
   "codemirror_mode": {
    "name": "ipython",
    "version": 3
   },
   "file_extension": ".py",
   "mimetype": "text/x-python",
   "name": "python",
   "nbconvert_exporter": "python",
   "pygments_lexer": "ipython3",
   "version": "3.10.0"
  }
 },
 "nbformat": 4,
 "nbformat_minor": 1
}
