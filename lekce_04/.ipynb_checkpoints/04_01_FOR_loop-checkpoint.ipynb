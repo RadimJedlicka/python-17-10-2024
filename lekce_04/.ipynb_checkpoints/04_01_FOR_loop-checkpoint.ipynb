{
 "cells": [
  {
   "cell_type": "markdown",
   "metadata": {
    "id": "20GXVyPwrtu7"
   },
   "source": [
    "<h6 align=right> 🐍 Python akademie - lekce 4 - DD.MM.YYYY</h6>"
   ]
  },
  {
   "cell_type": "markdown",
   "metadata": {
    "id": "N2JGR1zMrw4X"
   },
   "source": [
    "<br>\n",
    "\n",
    "# <h1 align=center><font color=black size=24><b> 04_01: FOR smyčka (loop)</font></h1>\n",
    "\n",
    "<br>\n",
    "\n",
    "---"
   ]
  },
  {
   "cell_type": "markdown",
   "metadata": {
    "id": "WgP5cRKcr_sc"
   },
   "source": [
    "<br>\n",
    "\n",
    "### **Zajímavé odkazy z celé lekce:**\n",
    "\n",
    "---\n",
    "\n",
    "* [Coolgenerator](https://www.coolgenerator.com/random-text-generator)\n",
    "* [For loop na Real Python](https://realpython.com/python-for-loop/)\n",
    "* [Příručka k používání syntaxe for/else](https://book.pythontips.com/en/latest/for_-_else.html)\n",
    "* [Dokumentace k iterování pomocí for loopu](https://wiki.python.org/moin/ForLoop)\n",
    "* [Příklad ohlášení continue rozebraný na stackoverflow](https://stackoverflow.com/questions/8420705/example-use-of-continue-statement-in-python)\n",
    "* [Oficiální dokumentace k funkci sorted](https://docs.python.org/3/library/functions.html#sorted)\n",
    "\n",
    "* [Python Tutor](https://pythontutor.com/visualize.html#mode=edit)\n",
    "\n",
    "<br>"
   ]
  },
  {
   "cell_type": "markdown",
   "metadata": {
    "id": "t1NVu1OtsT_G"
   },
   "source": [
    "<br>\n",
    "\n",
    "## **Úvod do cyklů**\n",
    "\n",
    "---"
   ]
  },
  {
   "cell_type": "markdown",
   "metadata": {
    "id": "O2mPkMK2s95Z"
   },
   "source": [
    "Máme nachystané 4 slovníky."
   ]
  },
  {
   "cell_type": "code",
   "execution_count": null,
   "metadata": {
    "id": "PJVNC9V6rlkP"
   },
   "outputs": [],
   "source": [
    "film_1 = {\n",
    "    \"JMENO\": \"Shawshank Redemption\",\n",
    "    \"HODNOCENI\": \"93/100\",\n",
    "    \"REZISER\": \"Frank Darabont\"\n",
    "}\n",
    "\n",
    "film_2 = {\n",
    "    \"JMENO\": \"The Godfather\",\n",
    "    \"HODNOCENI\": \"92/100\",\n",
    "    \"REZISER\": \"Francis Ford Coppola\"\n",
    "}\n",
    "\n",
    "film_3 = {\n",
    "    \"JMENO\": \"The Dark Knight\",\n",
    "    \"HODNOCENI\": \"90/100\",\n",
    "    \"REZISER\": \"Christopher Nolan\"\n",
    "}\n",
    "\n",
    "film_4 = {\n",
    "    \"JMENO\": \"The Prestige\",\n",
    "    \"HODNOCENI\": \"85/100\",\n",
    "    \"REZISER\": \"Christopher Nolan\"\n",
    "}"
   ]
  },
  {
   "cell_type": "markdown",
   "metadata": {
    "id": "g7tDFzzuseUo"
   },
   "source": [
    "Ze slovníku `filmovy_slovnik` chceme získat všechny klíče `\"REZISER\"` a uložit hodnoty do pomocné proměnné. Jak budeme postupovat:\n"
   ]
  },
  {
   "cell_type": "code",
   "execution_count": null,
   "metadata": {
    "colab": {
     "base_uri": "https://localhost:8080/"
    },
    "executionInfo": {
     "elapsed": 236,
     "status": "ok",
     "timestamp": 1675283999378,
     "user": {
      "displayName": "Radim Jedlička",
      "userId": "11502208915568361358"
     },
     "user_tz": -60
    },
    "id": "EZbeJKk2s2nB",
    "outputId": "4642ed4a-2f2d-4429-8064-b4b8330ab714"
   },
   "outputs": [
    {
     "name": "stdout",
     "output_type": "stream",
     "text": [
      "{'Shawshank Redemption': {'HODNOCENI': '93/100',\n",
      "                          'JMENO': 'Shawshank Redemption',\n",
      "                          'REZISER': 'Frank Darabont'},\n",
      " 'The Dark Knight': {'HODNOCENI': '90/100',\n",
      "                     'JMENO': 'The Dark Knight',\n",
      "                     'REZISER': 'Christopher Nolan'},\n",
      " 'The Godfather': {'HODNOCENI': '92/100',\n",
      "                   'JMENO': 'The Godfather',\n",
      "                   'REZISER': 'Francis Ford Coppola'},\n",
      " 'The Prestige': {'HODNOCENI': '85/100',\n",
      "                  'JMENO': 'The Prestige',\n",
      "                  'REZISER': 'Christopher Nolan'}}\n"
     ]
    }
   ],
   "source": [
    "filmovy_slovnik = {\n",
    "    film_1[\"JMENO\"]: film_1,\n",
    "    film_2[\"JMENO\"]: film_2,\n",
    "    film_3[\"JMENO\"]: film_3,\n",
    "    film_4[\"JMENO\"]: film_4\n",
    "}\n",
    "\n",
    "from pprint import pprint\n",
    "pprint(filmovy_slovnik)"
   ]
  },
  {
   "cell_type": "markdown",
   "metadata": {
    "id": "YlatLe31tQ_C"
   },
   "source": [
    "1. Vytvoříme list `reziseri`,\n"
   ]
  },
  {
   "cell_type": "code",
   "execution_count": null,
   "metadata": {
    "id": "cAdVLqKvt3EQ"
   },
   "outputs": [],
   "source": [
    "reziseri = []"
   ]
  },
  {
   "cell_type": "markdown",
   "metadata": {
    "id": "nFzzDBOOtXeo"
   },
   "source": [
    "2. Namapujeme hodnoty s režiséry a vložíme do listu, \n"
   ]
  },
  {
   "cell_type": "code",
   "execution_count": null,
   "metadata": {
    "id": "AV7KBLZXt7dO"
   },
   "outputs": [],
   "source": [
    "reziser1 = filmovy_slovnik[\"The Dark Knight\"][\"REZISER\"]\n",
    "reziser2 = filmovy_slovnik[\"The Godfather\"][\"REZISER\"]\n",
    "reziser3 = filmovy_slovnik[\"Shawshank Redemption\"][\"REZISER\"]\n",
    "reziser4 = filmovy_slovnik[\"The Prestige\"][\"REZISER\"]\n",
    "\n",
    "reziseri.append([reziser1, reziser2, reziser3, reziser4])"
   ]
  },
  {
   "cell_type": "markdown",
   "metadata": {
    "id": "TR1xbF6vtYrE"
   },
   "source": [
    "3. Vypíšeme obsah nového listu"
   ]
  },
  {
   "cell_type": "code",
   "execution_count": null,
   "metadata": {
    "colab": {
     "base_uri": "https://localhost:8080/"
    },
    "executionInfo": {
     "elapsed": 8,
     "status": "ok",
     "timestamp": 1675284395648,
     "user": {
      "displayName": "Radim Jedlička",
      "userId": "11502208915568361358"
     },
     "user_tz": -60
    },
    "id": "ba-LdUDgule0",
    "outputId": "7b256070-5dd4-43a1-ef30-9bb9e7229c52"
   },
   "outputs": [
    {
     "name": "stdout",
     "output_type": "stream",
     "text": [
      "[['Christopher Nolan', 'Francis Ford Coppola', 'Frank Darabont', 'Christopher Nolan']]\n"
     ]
    }
   ],
   "source": [
    "print(reziseri)"
   ]
  },
  {
   "cell_type": "markdown",
   "metadata": {
    "id": "8sOdz12hu4z3"
   },
   "source": [
    "\n",
    "<br>\n",
    "\n",
    "V takovém případě je s pomocí znalostí, které již máme, snadné najít řešení.\n",
    "\n",
    "<br>\n",
    "\n",
    "Jak byste si ale vedli, pokud bychom měli filmů ve slovníku 10, nebo 20 a co třeba 100?\n",
    "\n",
    "<br>\n",
    "\n",
    "Řešením takovéto komplikace jsou **cykly** (jinak také smyčky).\n",
    "\n",
    "<br>\n",
    "\n",
    "Ty nám umožní opakovaně provádět specifický kus zápisu (kódu)."
   ]
  },
  {
   "cell_type": "markdown",
   "metadata": {
    "id": "CZAIUqzSvImn"
   },
   "source": [
    "<br>\n",
    "\n",
    "## **For loop (~cyklus for)**\n",
    "\n",
    "---"
   ]
  },
  {
   "cell_type": "code",
   "execution_count": null,
   "metadata": {
    "id": "YVWrTETwtRuG"
   },
   "outputs": [],
   "source": [
    "for pismeno in \"Python Akademie\":\n",
    "    print(f\"{pismeno}\")"
   ]
  },
  {
   "cell_type": "markdown",
   "metadata": {
    "id": "E9s_yQTgvbj9"
   },
   "source": [
    "* `for` je klíčkový výraz v zahlaví (zápisu) cyklu\n",
    "* `pismeno` je dočasná proměnná vytvořená v rámci cyklu a jejíž obsah se v každém kroku cyklu přepíše\n",
    "* `in` klíčový výraz ukazující zdroj dočasné proměnné\n",
    "* `Python Akademie` je tzv. *iterovatelný* údaj, tedy proměnná, kterou můžeme procházet (`str`, `list`, `set`, `dict`)\n",
    "* řádek s předpisem musí být zakončený dvojtečkou\n",
    "* následují odsazené instrukce, které se budou opakovat v každém kroku\n",
    "\n",
    "<br>"
   ]
  },
  {
   "cell_type": "markdown",
   "metadata": {
    "id": "3YWs8toEvv3E"
   },
   "source": [
    "<br>\n",
    "\n",
    "## **For loop s podmínkou**\n",
    "\n",
    "---"
   ]
  },
  {
   "cell_type": "code",
   "execution_count": null,
   "metadata": {
    "colab": {
     "base_uri": "https://localhost:8080/"
    },
    "executionInfo": {
     "elapsed": 1174,
     "status": "ok",
     "timestamp": 1675284664776,
     "user": {
      "displayName": "Radim Jedlička",
      "userId": "11502208915568361358"
     },
     "user_tz": -60
    },
    "id": "bQyI6rfXvXfe",
    "outputId": "2e431d43-fbc6-44fc-9eef-8278e4cbf03c"
   },
   "outputs": [
    {
     "name": "stdout",
     "output_type": "stream",
     "text": [
      "['a', 'b', 'c', 'd', 'e', 'f', 'g', 'h', 'i']\n"
     ]
    }
   ],
   "source": [
    "pismena = [\"a\", \"b\", \"c\", \"d\", \"e\", \"f\", \"g\", \"h\", \"i\"]\n",
    "print(pismena)"
   ]
  },
  {
   "cell_type": "markdown",
   "metadata": {
    "id": "LZFoWuqMwDxD"
   },
   "source": [
    "Ze seznamu písmena chceme najít písmeno \"c\" a upozornit na jeho výskyt. Takto to vypadá jednoduše, ale představte si, že by seznam obsahovat tisíce záznamů."
   ]
  },
  {
   "cell_type": "code",
   "execution_count": null,
   "metadata": {
    "colab": {
     "base_uri": "https://localhost:8080/"
    },
    "executionInfo": {
     "elapsed": 230,
     "status": "ok",
     "timestamp": 1675284960439,
     "user": {
      "displayName": "Radim Jedlička",
      "userId": "11502208915568361358"
     },
     "user_tz": -60
    },
    "id": "LPm8-BbYwBto",
    "outputId": "c53d770f-b2b6-4039-9791-4709da5e705d"
   },
   "outputs": [
    {
     "name": "stdout",
     "output_type": "stream",
     "text": [
      "Nemam 'c', ale 'a'\n",
      "Nemam 'c', ale 'b'\n",
      "Mam hodnotu -> 'c'<----------\n",
      "Nemam 'c', ale 'd'\n",
      "Nemam 'c', ale 'e'\n",
      "Nemam 'c', ale 'f'\n",
      "Nemam 'c', ale 'g'\n",
      "Nemam 'c', ale 'h'\n",
      "Nemam 'c', ale 'i'\n",
      "---------------------------------\n",
      "Dokoncil jsem hledani pismena 'c'\n",
      "---------------------------------\n"
     ]
    }
   ],
   "source": [
    "for pismeno in pismena:\n",
    "    if pismeno == \"c\":\n",
    "        print(f\"Mam hodnotu -> '{pismeno}'<----------\")\n",
    "    else:\n",
    "        print(f\"Nemam 'c', ale '{pismeno}'\")\n",
    "else:\n",
    "    print(\"-\" * 33, \"Dokoncil jsem hledani pismena 'c'\", \"-\" * 33, sep=\"\\n\")"
   ]
  },
  {
   "cell_type": "markdown",
   "metadata": {
    "id": "-r6betqWxBkZ"
   },
   "source": [
    "*poznámka*. Pomocný `else` se přidává k cyklu `for` pokud chceme nějaký proces provést po skončení cyklu. Opatrně lze jej přeskočit."
   ]
  },
  {
   "cell_type": "markdown",
   "metadata": {
    "id": "mqV195l6xKOV"
   },
   "source": [
    "<br>\n",
    "\n",
    "## **For loop s podmínkou**\n",
    "\n",
    "---"
   ]
  },
  {
   "cell_type": "markdown",
   "metadata": {
    "id": "nfdtfoqVxM6q"
   },
   "source": [
    "Cykly v Pythonu můžeme doplnit ohlášením, pokud potřebujeme ovlivnit průběh smyčky/cyklu.\n",
    "\n",
    "<br>\n",
    "\n",
    "| Ohlášení | Použití |\n",
    "| :-: | :- |\n",
    "| `break`| přeskočí zbytek smyčky (vč. `else` větve) a pokračuje kódem pod ní |\n",
    "| `continue` | vrací se k definici smyčky |\n",
    "| `pass` | tzv. *placeholder*, zabrání potenciální výjimce |"
   ]
  },
  {
   "cell_type": "markdown",
   "metadata": {
    "id": "-WnV42fGxbaV"
   },
   "source": [
    "<br>\n",
    "\n",
    "### **Ohlášení `break`**\n",
    "\n",
    "---"
   ]
  },
  {
   "cell_type": "code",
   "execution_count": null,
   "metadata": {
    "colab": {
     "base_uri": "https://localhost:8080/"
    },
    "executionInfo": {
     "elapsed": 17,
     "status": "ok",
     "timestamp": 1675285784838,
     "user": {
      "displayName": "Radim Jedlička",
      "userId": "11502208915568361358"
     },
     "user_tz": -60
    },
    "id": "ryDA6q6HwgdK",
    "outputId": "e2a81b77-d567-4ff1-ed01-c61060ee30b1"
   },
   "outputs": [
    {
     "name": "stdout",
     "output_type": "stream",
     "text": [
      "P\n",
      "y\n",
      "t\n",
      "h\n",
      "o\n",
      "n\n",
      " \n",
      "A\n",
      "k\n",
      "a\n",
      "d\n",
      "e\n",
      "m\n",
      "i\n",
      "e\n"
     ]
    }
   ],
   "source": [
    "for pismeno in \"Python Akademie\":\n",
    "    print(f\"{pismeno}\")"
   ]
  },
  {
   "cell_type": "code",
   "execution_count": null,
   "metadata": {
    "colab": {
     "base_uri": "https://localhost:8080/"
    },
    "executionInfo": {
     "elapsed": 236,
     "status": "ok",
     "timestamp": 1675285822228,
     "user": {
      "displayName": "Radim Jedlička",
      "userId": "11502208915568361358"
     },
     "user_tz": -60
    },
    "id": "Qo_tmLqC0GW0",
    "outputId": "729e49f4-9a28-4be6-923f-439038898da1"
   },
   "outputs": [
    {
     "name": "stdout",
     "output_type": "stream",
     "text": [
      "P\n"
     ]
    }
   ],
   "source": [
    "for pismeno in \"Python Akademie\":\n",
    "    print(f\"{pismeno}\")\n",
    "    break"
   ]
  },
  {
   "cell_type": "code",
   "execution_count": null,
   "metadata": {
    "colab": {
     "base_uri": "https://localhost:8080/"
    },
    "executionInfo": {
     "elapsed": 245,
     "status": "ok",
     "timestamp": 1675285853101,
     "user": {
      "displayName": "Radim Jedlička",
      "userId": "11502208915568361358"
     },
     "user_tz": -60
    },
    "id": "FiU7iA5V0PMp",
    "outputId": "854d06e2-d62d-4d58-af29-08d081dcebfe"
   },
   "outputs": [
    {
     "name": "stdout",
     "output_type": "stream",
     "text": [
      "M\n",
      "a\n",
      "t\n",
      "o\n",
      "u\n",
      "s\n",
      "-----------------------------\n",
      "Konec smycky!\n",
      "-----------------------------\n"
     ]
    }
   ],
   "source": [
    "for pismeno in \"Python Akademie\":\n",
    "    print(f\"{pismeno}\")\n",
    "else:\n",
    "    print(\"-\" * 29, \"Konec smycky!\", \"-\" * 29, sep=\"\\n\")"
   ]
  },
  {
   "cell_type": "code",
   "execution_count": null,
   "metadata": {
    "colab": {
     "base_uri": "https://localhost:8080/"
    },
    "executionInfo": {
     "elapsed": 16,
     "status": "ok",
     "timestamp": 1675285898016,
     "user": {
      "displayName": "Radim Jedlička",
      "userId": "11502208915568361358"
     },
     "user_tz": -60
    },
    "id": "LddH1lN_0di7",
    "outputId": "5e05bf5f-fcce-4f03-d20e-a9a7861893f7"
   },
   "outputs": [
    {
     "name": "stdout",
     "output_type": "stream",
     "text": [
      "P\n"
     ]
    }
   ],
   "source": [
    "for pismeno in \"Python Akademie\":\n",
    "    print(f\"{pismeno}\")\n",
    "    break\n",
    "else:\n",
    "    print(\"-\" * 29, \"Konec smycky!\", \"-\" * 29, sep=\"\\n\")"
   ]
  },
  {
   "cell_type": "code",
   "execution_count": null,
   "metadata": {
    "colab": {
     "base_uri": "https://localhost:8080/"
    },
    "executionInfo": {
     "elapsed": 12,
     "status": "ok",
     "timestamp": 1675285925061,
     "user": {
      "displayName": "Radim Jedlička",
      "userId": "11502208915568361358"
     },
     "user_tz": -60
    },
    "id": "P4abMJzU0h2F",
    "outputId": "936d3962-efb5-407f-db1f-489432b0867e"
   },
   "outputs": [
    {
     "name": "stdout",
     "output_type": "stream",
     "text": [
      "P\n",
      "-----------------------------\n",
      "Konec smycky!\n",
      "-----------------------------\n"
     ]
    }
   ],
   "source": [
    "for pismeno in \"Python Akademie\":\n",
    "    print(f\"{pismeno}\")\n",
    "    break\n",
    "\n",
    "print(\"-\" * 29, \"Konec smycky!\", \"-\" * 29, sep=\"\\n\")"
   ]
  },
  {
   "cell_type": "code",
   "execution_count": null,
   "metadata": {
    "colab": {
     "base_uri": "https://localhost:8080/"
    },
    "executionInfo": {
     "elapsed": 249,
     "status": "ok",
     "timestamp": 1675286111841,
     "user": {
      "displayName": "Radim Jedlička",
      "userId": "11502208915568361358"
     },
     "user_tz": -60
    },
    "id": "h2j-rivj0odi",
    "outputId": "736643e9-bb02-4587-b563-3ce9f8298fef"
   },
   "outputs": [
    {
     "name": "stdout",
     "output_type": "stream",
     "text": [
      "Nasel jsem 'P', coz neni mezera\n",
      "Nasel jsem 'y', coz neni mezera\n",
      "Nasel jsem 't', coz neni mezera\n",
      "Nasel jsem 'h', coz neni mezera\n",
      "Nasel jsem 'o', coz neni mezera\n",
      "Nasel jsem 'n', coz neni mezera\n",
      "Nasel jsem mezeru a koncim\n",
      "Pokracuji s interpretaci naseho zapisu ^.^\n"
     ]
    }
   ],
   "source": [
    "for pismeno in \"Python Akademie\":\n",
    "    if pismeno == \" \":\n",
    "        print(f\"Nasel jsem mezeru a koncim\")\n",
    "        break\n",
    "    else:\n",
    "        print(f\"Nasel jsem '{pismeno}', coz neni mezera\")\n",
    "\n",
    "print(\"Pokracuji s interpretaci naseho zapisu ^.^\")"
   ]
  },
  {
   "cell_type": "code",
   "execution_count": null,
   "metadata": {
    "colab": {
     "base_uri": "https://localhost:8080/"
    },
    "executionInfo": {
     "elapsed": 232,
     "status": "ok",
     "timestamp": 1675286139162,
     "user": {
      "displayName": "Radim Jedlička",
      "userId": "11502208915568361358"
     },
     "user_tz": -60
    },
    "id": "uCyyAxs01CWD",
    "outputId": "b1e736ca-4286-491f-fdd5-cc2cfdd7952e"
   },
   "outputs": [
    {
     "name": "stdout",
     "output_type": "stream",
     "text": [
      "Nasel jsem 'P', coz neni mezera\n",
      "Nasel jsem 'y', coz neni mezera\n",
      "Nasel jsem 't', coz neni mezera\n",
      "Nasel jsem 'h', coz neni mezera\n",
      "Nasel jsem 'o', coz neni mezera\n",
      "Nasel jsem 'n', coz neni mezera\n",
      "Nasel jsem '_', coz neni mezera\n",
      "Nasel jsem 'A', coz neni mezera\n",
      "Nasel jsem 'k', coz neni mezera\n",
      "Nasel jsem 'a', coz neni mezera\n",
      "Nasel jsem 'd', coz neni mezera\n",
      "Nasel jsem 'e', coz neni mezera\n",
      "Nasel jsem 'm', coz neni mezera\n",
      "Nasel jsem 'i', coz neni mezera\n",
      "Nasel jsem 'e', coz neni mezera\n",
      "Pokracuji s interpretaci naseho zapisu ^.^\n"
     ]
    }
   ],
   "source": [
    "for pismeno in \"Python_Akademie\":\n",
    "    if pismeno == \" \":\n",
    "        print(f\"Nasel jsem mezeru a koncim\")\n",
    "        break\n",
    "    else:\n",
    "        print(f\"Nasel jsem '{pismeno}', coz neni mezera\")\n",
    "\n",
    "print(\"Pokracuji s interpretaci naseho zapisu ^.^\")"
   ]
  },
  {
   "cell_type": "markdown",
   "metadata": {
    "id": "uxW7gqkp1hZF"
   },
   "source": [
    "<br>\n",
    "\n",
    "### **Ohlášení `continue`**\n",
    "\n",
    "---"
   ]
  },
  {
   "cell_type": "code",
   "execution_count": null,
   "metadata": {
    "id": "F1ZToAGC1G3O"
   },
   "outputs": [],
   "source": [
    "for pismeno in \"Python Akademie\":\n",
    "    print(f\"{pismeno}\")"
   ]
  },
  {
   "cell_type": "code",
   "execution_count": null,
   "metadata": {
    "id": "sXIGakRY1mB5"
   },
   "outputs": [],
   "source": [
    "for pismeno in \"Python Akademie\":\n",
    "    print(f\"{pismeno}\")\n",
    "    continue"
   ]
  },
  {
   "cell_type": "code",
   "execution_count": null,
   "metadata": {
    "id": "_sdcnElg1pG4"
   },
   "outputs": [],
   "source": [
    "for pismeno in \"Python Akademie\":\n",
    "    print(f\"{pismeno}\")\n",
    "    continue\n",
    "else:\n",
    "    print(\"-\" * 29, \"Konec smycky!\", \"-\" * 29, sep=\"\\n\")"
   ]
  },
  {
   "cell_type": "code",
   "execution_count": null,
   "metadata": {
    "id": "_ec7D_QO1712"
   },
   "outputs": [],
   "source": [
    "for pismeno in \"Python Akademie\":\n",
    "    if pismeno in \"Python\":\n",
    "        continue\n",
    "    print(f\"{pismeno}\")"
   ]
  },
  {
   "cell_type": "code",
   "execution_count": null,
   "metadata": {
    "id": "5hQnhMqx2MYA"
   },
   "outputs": [],
   "source": [
    "for pismeno in \"Python Akademie\":\n",
    "    if pismeno not in \"Python\":\n",
    "        print(f\"{pismeno}\")"
   ]
  },
  {
   "cell_type": "markdown",
   "metadata": {
    "id": "LdA1Oubv2glD"
   },
   "source": [
    "<br>\n",
    "\n",
    "### **Ohlášení `pass`**\n",
    "\n",
    "---"
   ]
  },
  {
   "cell_type": "code",
   "execution_count": null,
   "metadata": {
    "id": "39R14rsy2Y1d"
   },
   "outputs": [],
   "source": [
    "for pismeno in \"Python Akademie\":\n",
    "    print(f\"{pismeno}\")\n",
    "    pass"
   ]
  },
  {
   "cell_type": "markdown",
   "metadata": {
    "id": "BS7Q2Xbz21_x"
   },
   "source": [
    "<br>\n",
    "\n",
    "Klíčový pojem `pass` funguje spíše jako tzv *placeholder*. Jeho účelem je zabránit případnému pádu našeho souboru a možnosti doplnit potenciální zápis později.\n",
    "\n",
    "<br>"
   ]
  },
  {
   "cell_type": "code",
   "execution_count": null,
   "metadata": {
    "id": "uRrXkSNn2lj7"
   },
   "outputs": [],
   "source": [
    "for pismeno in \"Matous\":\n",
    "    # budu iterovat skrze promennou: str\n",
    "    pass"
   ]
  },
  {
   "cell_type": "markdown",
   "metadata": {
    "id": "wx3DUp7w283v"
   },
   "source": [
    "<br>\n",
    "\n",
    "### **Nestovaný `for`**\n",
    "\n",
    "---"
   ]
  },
  {
   "cell_type": "code",
   "execution_count": null,
   "metadata": {
    "id": "jlrTrtLd2_Bt"
   },
   "outputs": [],
   "source": [
    "jmena = [\n",
    "    [\"Matous\", \"Marek\", \"Lukas\", \"Jan\"],\n",
    "    [\"Lucie\", \"Aneta\", \"Michaela\", \"Lenka\"],\n",
    "    [\"Helmut\", \"Hammet\", \"Hetfield\", \"Harold\"]\n",
    "]"
   ]
  },
  {
   "cell_type": "code",
   "execution_count": null,
   "metadata": {
    "colab": {
     "base_uri": "https://localhost:8080/"
    },
    "executionInfo": {
     "elapsed": 221,
     "status": "ok",
     "timestamp": 1675286855436,
     "user": {
      "displayName": "Radim Jedlička",
      "userId": "11502208915568361358"
     },
     "user_tz": -60
    },
    "id": "Rg9yqjcH3F0r",
    "outputId": "6c18f81a-216a-4e22-d9ec-279cdbe6a3aa"
   },
   "outputs": [
    {
     "name": "stdout",
     "output_type": "stream",
     "text": [
      "rada = ['Matous', 'Marek', 'Lukas', 'Jan']\n",
      "rada = ['Lucie', 'Aneta', 'Michaela', 'Lenka']\n",
      "rada = ['Helmut', 'Hammet', 'Hetfield', 'Harold']\n"
     ]
    }
   ],
   "source": [
    "for rada in jmena:\n",
    "    print(f\"{rada = }\")"
   ]
  },
  {
   "cell_type": "code",
   "execution_count": null,
   "metadata": {
    "colab": {
     "base_uri": "https://localhost:8080/"
    },
    "executionInfo": {
     "elapsed": 226,
     "status": "ok",
     "timestamp": 1675286866488,
     "user": {
      "displayName": "Radim Jedlička",
      "userId": "11502208915568361358"
     },
     "user_tz": -60
    },
    "id": "Fjea2_JL3L7q",
    "outputId": "9f2a7453-2daa-4aba-e486-fd5955754d79"
   },
   "outputs": [
    {
     "name": "stdout",
     "output_type": "stream",
     "text": [
      "rada = ['Matous', 'Marek', 'Lukas', 'Jan']\n",
      "jmeno = 'Matous'\n",
      "jmeno = 'Marek'\n",
      "jmeno = 'Lukas'\n",
      "jmeno = 'Jan'\n",
      "rada = ['Lucie', 'Aneta', 'Michaela', 'Lenka']\n",
      "jmeno = 'Lucie'\n",
      "jmeno = 'Aneta'\n",
      "jmeno = 'Michaela'\n",
      "jmeno = 'Lenka'\n",
      "rada = ['Helmut', 'Hammet', 'Hetfield', 'Harold']\n",
      "jmeno = 'Helmut'\n",
      "jmeno = 'Hammet'\n",
      "jmeno = 'Hetfield'\n",
      "jmeno = 'Harold'\n"
     ]
    }
   ],
   "source": [
    "for rada in jmena:\n",
    "    print(f\"{rada = }\")\n",
    "    for jmeno in rada:\n",
    "        print(f\"{jmeno = }\")"
   ]
  },
  {
   "cell_type": "code",
   "execution_count": null,
   "metadata": {
    "colab": {
     "base_uri": "https://localhost:8080/"
    },
    "executionInfo": {
     "elapsed": 217,
     "status": "ok",
     "timestamp": 1675286969085,
     "user": {
      "displayName": "Radim Jedlička",
      "userId": "11502208915568361358"
     },
     "user_tz": -60
    },
    "id": "xzHjf9Ns3OGr",
    "outputId": "a6c86003-e088-40dd-a2d8-c07d06a63a08"
   },
   "outputs": [
    {
     "name": "stdout",
     "output_type": "stream",
     "text": [
      "jmeno = 'Matous'\n",
      "jmeno = 'Marek'\n",
      "jmeno = 'Lukas'\n",
      "jmeno = 'Jan'\n",
      "jmeno = 'Lucie'\n",
      "jmeno = 'Aneta'\n",
      "jmeno = 'Michaela'\n",
      "jmeno = 'Lenka'\n",
      "jmeno = 'Helmut'\n",
      "jmeno = 'Hammet'\n",
      "jmeno = 'Hetfield'\n",
      "jmeno = 'Harold'\n"
     ]
    }
   ],
   "source": [
    "for rada in jmena:\n",
    "    pass\n",
    "    for jmeno in rada:\n",
    "        print(f\"{jmeno = }\")"
   ]
  },
  {
   "cell_type": "code",
   "execution_count": null,
   "metadata": {
    "colab": {
     "base_uri": "https://localhost:8080/"
    },
    "executionInfo": {
     "elapsed": 236,
     "status": "ok",
     "timestamp": 1675287003524,
     "user": {
      "displayName": "Radim Jedlička",
      "userId": "11502208915568361358"
     },
     "user_tz": -60
    },
    "id": "kXF4FPC34uxG",
    "outputId": "4cc1e971-f9a0-461a-b35c-67d1932137e0"
   },
   "outputs": [
    {
     "name": "stdout",
     "output_type": "stream",
     "text": [
      "jmeno = 'Matous'\n",
      "jmeno = 'Marek'\n",
      "jmeno = 'Lukas'\n",
      "jmeno = 'Jan'\n",
      "jmeno = 'Lucie'\n",
      "jmeno = 'Aneta'\n",
      "jmeno = 'Michaela'\n",
      "jmeno = 'Lenka'\n",
      "jmeno = 'Helmut'\n",
      "jmeno = 'Hammet'\n",
      "jmeno = 'Hetfield'\n",
      "jmeno = 'Harold'\n"
     ]
    }
   ],
   "source": [
    "for rada in jmena:\n",
    "    for jmeno in rada:\n",
    "        print(f\"{jmeno = }\")"
   ]
  },
  {
   "cell_type": "code",
   "execution_count": null,
   "metadata": {
    "colab": {
     "base_uri": "https://localhost:8080/"
    },
    "executionInfo": {
     "elapsed": 263,
     "status": "ok",
     "timestamp": 1675287040455,
     "user": {
      "displayName": "Radim Jedlička",
      "userId": "11502208915568361358"
     },
     "user_tz": -60
    },
    "id": "ipSWaLZj427o",
    "outputId": "bafc3710-3c80-4c59-b31f-6451890a9854"
   },
   "outputs": [
    {
     "name": "stdout",
     "output_type": "stream",
     "text": [
      "----------------------------------------\n",
      "rada = ['Matous', 'Marek', 'Lukas', 'Jan']\n",
      "----------------------------------------\n",
      "jmeno = 'Matous'\n",
      "jmeno = 'Marek'\n",
      "jmeno = 'Lukas'\n",
      "jmeno = 'Jan'\n",
      "----------------------------------------\n",
      "rada = ['Lucie', 'Aneta', 'Michaela', 'Lenka']\n",
      "----------------------------------------\n",
      "jmeno = 'Lucie'\n",
      "jmeno = 'Aneta'\n",
      "jmeno = 'Michaela'\n",
      "jmeno = 'Lenka'\n",
      "----------------------------------------\n",
      "rada = ['Helmut', 'Hammet', 'Hetfield', 'Harold']\n",
      "----------------------------------------\n",
      "jmeno = 'Helmut'\n",
      "jmeno = 'Hammet'\n",
      "jmeno = 'Hetfield'\n",
      "jmeno = 'Harold'\n"
     ]
    }
   ],
   "source": [
    "for rada in jmena:\n",
    "    print(\"-\" * 40, f\"{rada = }\", \"-\" * 40, sep=\"\\n\")\n",
    "    for jmeno in rada:\n",
    "        print(f\"{jmeno = }\")"
   ]
  },
  {
   "cell_type": "code",
   "execution_count": null,
   "metadata": {
    "colab": {
     "base_uri": "https://localhost:8080/"
    },
    "executionInfo": {
     "elapsed": 17,
     "status": "ok",
     "timestamp": 1675287070543,
     "user": {
      "displayName": "Radim Jedlička",
      "userId": "11502208915568361358"
     },
     "user_tz": -60
    },
    "id": "4pFByR7B49u-",
    "outputId": "751cfc02-a75a-4c4f-9756-9c5e0d8404ba"
   },
   "outputs": [
    {
     "name": "stdout",
     "output_type": "stream",
     "text": [
      "Tady je, 'Helmut'!\n"
     ]
    }
   ],
   "source": [
    "for rada in jmena:\n",
    "    for jmeno in rada:\n",
    "        if jmeno == \"Helmut\":\n",
    "            print(f\"Tady je, '{jmeno}'!\")\n",
    "            break"
   ]
  },
  {
   "cell_type": "markdown",
   "metadata": {
    "id": "fqiVEZ0s5Ntn"
   },
   "source": [
    "<br>\n",
    "\n",
    "## **Špatné smyčky s `for`**\n",
    "\n",
    "---\n",
    "\n",
    "```python\n",
    "sekvence_tupl = (\"Austin\", \"New York\", \"San Francisco\")\n",
    "\n",
    "for udaj in sekvence_tupl:\n",
    "    # něco udělej..\n",
    "    # udělej ještě něco..\n",
    "\n",
    "    # ...tak počkat, co je to proměnná \"udaj\" ?!\n",
    "    print(udaj)\n",
    "```\n",
    "\n",
    "### Jak napsat pěknou smyčky s `for`\n",
    "\n",
    "```python\n",
    "# oprav řešení ze špatné ukázky\n",
    "mesta = (\"Austin\", \"New York\", \"San Francisco\")\n",
    "\n",
    "for mesto in mesta:\n",
    "    # .. něco udělej..\n",
    "    # .. udělej dalšího\n",
    "```"
   ]
  }
 ],
 "metadata": {
  "colab": {
   "authorship_tag": "ABX9TyPMlm6JChHT1NSZQXRtRmtm",
   "provenance": []
  },
  "kernelspec": {
   "display_name": "Python 3 (ipykernel)",
   "language": "python",
   "name": "python3"
  },
  "language_info": {
   "codemirror_mode": {
    "name": "ipython",
    "version": 3
   },
   "file_extension": ".py",
   "mimetype": "text/x-python",
   "name": "python",
   "nbconvert_exporter": "python",
   "pygments_lexer": "ipython3",
   "version": "3.10.0"
  }
 },
 "nbformat": 4,
 "nbformat_minor": 1
}
