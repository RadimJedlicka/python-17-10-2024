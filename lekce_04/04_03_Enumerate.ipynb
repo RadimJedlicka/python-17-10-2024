{
 "cells": [
  {
   "cell_type": "markdown",
   "metadata": {
    "id": "dsusoJrZp2jB"
   },
   "source": [
    "<h6 align=right> 🐍 Python akademie - lekce 4 - 07.11.2024</h6>"
   ]
  },
  {
   "cell_type": "markdown",
   "metadata": {
    "id": "VbUdi4l2p5jb"
   },
   "source": [
    "<br>\n",
    "\n",
    "# <h1 align=center><font color=black size=24><b> 04_03: Enumerate</font></h1>\n",
    "\n",
    "<br>\n",
    "\n",
    "---"
   ]
  },
  {
   "cell_type": "markdown",
   "metadata": {
    "id": "UFvKW1Lcp--k"
   },
   "source": [
    "<br>\n",
    "\n",
    "### **Zajímavé odkazy pro tento oddíl:**\n",
    "\n",
    "---\n",
    "\n",
    "* [Oficiální dokumentace k funkci enumerate](https://docs.python.org/3/library/functions.html#enumerate) \n",
    "* [Vysvětlení použití funkce s příklady](https://pythonbasics.org/enumerate/)\n",
    "* [Enumerate od Real Python](https://realpython.com/python-enumerate/)\n",
    "\n",
    "---\n",
    "\n",
    "<br>\n",
    "\n",
    "Jde o *built-in funkci*, která nám vytvoří indexování pro objekt, kterým je možné iterovat (*~iterable*).\n",
    "\n",
    "<br>\n",
    "\n",
    "Pomocí argumentu je možné nastavit počáteční index."
   ]
  },
  {
   "cell_type": "code",
   "execution_count": 11,
   "metadata": {
    "id": "CqrHlNiCpvtK"
   },
   "outputs": [],
   "source": [
    "jazyky = [\"Python\", \"Java\", \"JavaScript\", \"C\", \"Rust\"]"
   ]
  },
  {
   "cell_type": "code",
   "execution_count": 12,
   "metadata": {
    "colab": {
     "base_uri": "https://localhost:8080/"
    },
    "executionInfo": {
     "elapsed": 246,
     "status": "ok",
     "timestamp": 1675418521680,
     "user": {
      "displayName": "Radim Jedlička",
      "userId": "11502208915568361358"
     },
     "user_tz": -60
    },
    "id": "Ar2tf7eIuTNF",
    "outputId": "c244dfb7-cbd4-4060-8785-61c70be2d329"
   },
   "outputs": [
    {
     "data": {
      "text/plain": [
       "<enumerate at 0x1f151f80100>"
      ]
     },
     "execution_count": 12,
     "metadata": {},
     "output_type": "execute_result"
    }
   ],
   "source": [
    "enumerate(jazyky)"
   ]
  },
  {
   "cell_type": "code",
   "execution_count": 13,
   "metadata": {
    "colab": {
     "base_uri": "https://localhost:8080/"
    },
    "executionInfo": {
     "elapsed": 261,
     "status": "ok",
     "timestamp": 1675418524677,
     "user": {
      "displayName": "Radim Jedlička",
      "userId": "11502208915568361358"
     },
     "user_tz": -60
    },
    "id": "S8f9jbA8uVSe",
    "outputId": "7b01bb82-3d1f-496c-c97c-98f2a51640f1"
   },
   "outputs": [
    {
     "data": {
      "text/plain": [
       "((0, 'Python'), (1, 'Java'), (2, 'JavaScript'), (3, 'C'), (4, 'Rust'))"
      ]
     },
     "execution_count": 13,
     "metadata": {},
     "output_type": "execute_result"
    }
   ],
   "source": [
    "tuple(enumerate(jazyky))"
   ]
  },
  {
   "cell_type": "code",
   "execution_count": 14,
   "metadata": {
    "colab": {
     "base_uri": "https://localhost:8080/"
    },
    "executionInfo": {
     "elapsed": 269,
     "status": "ok",
     "timestamp": 1675418857965,
     "user": {
      "displayName": "Radim Jedlička",
      "userId": "11502208915568361358"
     },
     "user_tz": -60
    },
    "id": "LhJrOaQyuglB",
    "outputId": "7a9035d1-87fc-40f2-da02-52c7caeb5702"
   },
   "outputs": [
    {
     "data": {
      "text/plain": [
       "((1, 'Python'), (2, 'Java'), (3, 'JavaScript'), (4, 'C'), (5, 'Rust'))"
      ]
     },
     "execution_count": 14,
     "metadata": {},
     "output_type": "execute_result"
    }
   ],
   "source": [
    "tuple(enumerate(jazyky, start=1))"
   ]
  },
  {
   "cell_type": "code",
   "execution_count": 15,
   "metadata": {
    "colab": {
     "base_uri": "https://localhost:8080/"
    },
    "executionInfo": {
     "elapsed": 259,
     "status": "ok",
     "timestamp": 1675418865644,
     "user": {
      "displayName": "Radim Jedlička",
      "userId": "11502208915568361358"
     },
     "user_tz": -60
    },
    "id": "ld-HZydGvu94",
    "outputId": "8e24b9b3-fa75-4cc7-ebe5-8eb68acf1c80"
   },
   "outputs": [
    {
     "data": {
      "text/plain": [
       "((1, 'Python'), (2, 'Java'), (3, 'JavaScript'), (4, 'C'), (5, 'Rust'))"
      ]
     },
     "execution_count": 15,
     "metadata": {},
     "output_type": "execute_result"
    }
   ],
   "source": [
    "tuple(enumerate(jazyky, 1))"
   ]
  },
  {
   "cell_type": "code",
   "execution_count": 16,
   "metadata": {
    "colab": {
     "base_uri": "https://localhost:8080/"
    },
    "executionInfo": {
     "elapsed": 233,
     "status": "ok",
     "timestamp": 1675418874344,
     "user": {
      "displayName": "Radim Jedlička",
      "userId": "11502208915568361358"
     },
     "user_tz": -60
    },
    "id": "FAHPG74mvw11",
    "outputId": "247f7414-fe33-4793-f116-4853b0a7830d"
   },
   "outputs": [
    {
     "data": {
      "text/plain": [
       "[(1, 'Python'), (2, 'Java'), (3, 'JavaScript'), (4, 'C'), (5, 'Rust')]"
      ]
     },
     "execution_count": 16,
     "metadata": {},
     "output_type": "execute_result"
    }
   ],
   "source": [
    "list(enumerate(jazyky, start=1))"
   ]
  },
  {
   "cell_type": "markdown",
   "metadata": {
    "id": "LBcwnmHlv5mj"
   },
   "source": [
    "<br>\n",
    "\n",
    "## **`enumerate` a smyčka `for`**\n",
    "\n",
    "---"
   ]
  },
  {
   "cell_type": "code",
   "execution_count": 17,
   "metadata": {
    "colab": {
     "base_uri": "https://localhost:8080/"
    },
    "executionInfo": {
     "elapsed": 260,
     "status": "ok",
     "timestamp": 1675418929307,
     "user": {
      "displayName": "Radim Jedlička",
      "userId": "11502208915568361358"
     },
     "user_tz": -60
    },
    "id": "n6CK7K3JvypE",
    "outputId": "7e76df9e-d26a-4268-8a22-6fe7dc7381ae"
   },
   "outputs": [
    {
     "name": "stdout",
     "output_type": "stream",
     "text": [
      "Python\n",
      "Java\n",
      "JavaScript\n",
      "C\n",
      "Rust\n"
     ]
    }
   ],
   "source": [
    "for jazyk in jazyky:\n",
    "    print(jazyk)"
   ]
  },
  {
   "cell_type": "code",
   "execution_count": 18,
   "metadata": {
    "colab": {
     "base_uri": "https://localhost:8080/"
    },
    "executionInfo": {
     "elapsed": 254,
     "status": "ok",
     "timestamp": 1675418937059,
     "user": {
      "displayName": "Radim Jedlička",
      "userId": "11502208915568361358"
     },
     "user_tz": -60
    },
    "id": "uD6DpXu0wB-_",
    "outputId": "975bfbef-82b2-463f-fee9-676cef3e62be"
   },
   "outputs": [
    {
     "name": "stdout",
     "output_type": "stream",
     "text": [
      "(0, 'Python')\n",
      "(1, 'Java')\n",
      "(2, 'JavaScript')\n",
      "(3, 'C')\n",
      "(4, 'Rust')\n"
     ]
    }
   ],
   "source": [
    "for jazyk in enumerate(jazyky):\n",
    "    print(jazyk)"
   ]
  },
  {
   "cell_type": "code",
   "execution_count": 19,
   "metadata": {
    "colab": {
     "base_uri": "https://localhost:8080/"
    },
    "executionInfo": {
     "elapsed": 251,
     "status": "ok",
     "timestamp": 1675419166317,
     "user": {
      "displayName": "Radim Jedlička",
      "userId": "11502208915568361358"
     },
     "user_tz": -60
    },
    "id": "K6nIngOQwT9T",
    "outputId": "1673e499-98ae-49ba-d199-3294ee690c33"
   },
   "outputs": [
    {
     "name": "stdout",
     "output_type": "stream",
     "text": [
      "jazyk='Python' index=0\n"
     ]
    }
   ],
   "source": [
    "for index, jazyk in enumerate(jazyky):\n",
    "    print(f\"{jazyk=} {index=}\")\n",
    "    break"
   ]
  },
  {
   "cell_type": "code",
   "execution_count": 20,
   "metadata": {
    "colab": {
     "base_uri": "https://localhost:8080/"
    },
    "executionInfo": {
     "elapsed": 6,
     "status": "ok",
     "timestamp": 1675419223290,
     "user": {
      "displayName": "Radim Jedlička",
      "userId": "11502208915568361358"
     },
     "user_tz": -60
    },
    "id": "i8JZ7z6swF-4",
    "outputId": "7b08d95f-3a7a-46f9-ff85-8cf03000ae4e"
   },
   "outputs": [
    {
     "name": "stdout",
     "output_type": "stream",
     "text": [
      "jazyk=Python      index=0\n",
      "jazyk=Java        index=1\n",
      "jazyk=JavaScript  index=2\n",
      "jazyk=C           index=3\n",
      "jazyk=Rust        index=4\n"
     ]
    }
   ],
   "source": [
    "for index, jazyk in enumerate(jazyky):\n",
    "    print(f\"{jazyk=: <12}{index=}\")\n",
    "#     print(index)"
   ]
  },
  {
   "cell_type": "markdown",
   "metadata": {
    "id": "1VAIkxBtxPUZ"
   },
   "source": [
    "<br>\n",
    "\n",
    "*poznámka*. velice často se ve `for` cyklu pracuje s pomocnou proměnnou, kde postupně inkrementujete hodnotu za každým krokem. \n",
    "\n",
    "<br>\n",
    "\n",
    "Tento postup je velice často chybný. Pokud budete potřebovat pracovat s indexy v rámci cyklu, aplikujte `enumerate`.\n",
    "\n",
    "---"
   ]
  }
 ],
 "metadata": {
  "colab": {
   "authorship_tag": "ABX9TyOfSHpGa6JHfROcTCIyAtbp",
   "provenance": []
  },
  "kernelspec": {
   "display_name": "Python 3 (ipykernel)",
   "language": "python",
   "name": "python3"
  },
  "language_info": {
   "codemirror_mode": {
    "name": "ipython",
    "version": 3
   },
   "file_extension": ".py",
   "mimetype": "text/x-python",
   "name": "python",
   "nbconvert_exporter": "python",
   "pygments_lexer": "ipython3",
   "version": "3.10.0"
  }
 },
 "nbformat": 4,
 "nbformat_minor": 1
}
