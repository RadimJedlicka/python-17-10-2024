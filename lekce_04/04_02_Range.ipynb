{
 "cells": [
  {
   "cell_type": "markdown",
   "metadata": {
    "id": "YwdGHu-t-paR"
   },
   "source": [
    "<h6 align=right> 🐍 Python akademie - lekce 4 - 07.11.2024</h6>"
   ]
  },
  {
   "cell_type": "markdown",
   "metadata": {
    "id": "RqPHI7tv-wid"
   },
   "source": [
    "<br>\n",
    "\n",
    "# <h1 align=center><font color=black size=24><b> 04_02: Range (rozsah)</font></h1>\n",
    "\n",
    "<br>\n",
    "\n",
    "---"
   ]
  },
  {
   "cell_type": "markdown",
   "metadata": {
    "id": "bXbIJAjO-6s4"
   },
   "source": [
    "<br>\n",
    "\n",
    "### **Zajímavé odkazy pro tento oddíl:**\n",
    "\n",
    "---\n",
    "\n",
    "* [Dokumentace k práci s datovým typem range](https://www.pythoncentral.io/pythons-range-function-explained/)\n",
    "\n",
    "---\n",
    "\n",
    "<br>\n",
    "\n",
    "Jde o *built-in funkci*, která nám vytvoří datový typ `range`. Tento typ v podstatě odpovídá tomu, co si představíme pod slovem rozsah, tedy interval."
   ]
  },
  {
   "cell_type": "code",
   "execution_count": 14,
   "metadata": {
    "colab": {
     "base_uri": "https://localhost:8080/"
    },
    "executionInfo": {
     "elapsed": 26,
     "status": "ok",
     "timestamp": 1675288852317,
     "user": {
      "displayName": "Radim Jedlička",
      "userId": "11502208915568361358"
     },
     "user_tz": -60
    },
    "id": "UPR360Hb-mjK",
    "outputId": "74fdcae0-83a9-4150-e797-f7b7ac23a5ed"
   },
   "outputs": [
    {
     "name": "stdout",
     "output_type": "stream",
     "text": [
      "range(0, 11)\n"
     ]
    }
   ],
   "source": [
    "print(range(11))"
   ]
  },
  {
   "cell_type": "code",
   "execution_count": 15,
   "metadata": {},
   "outputs": [
    {
     "data": {
      "text/plain": [
       "[0, 1, 2, 3, 4, 5, 6, 7, 8, 9, 10]"
      ]
     },
     "execution_count": 15,
     "metadata": {},
     "output_type": "execute_result"
    }
   ],
   "source": [
    "list(range(11))"
   ]
  },
  {
   "cell_type": "code",
   "execution_count": 16,
   "metadata": {
    "colab": {
     "base_uri": "https://localhost:8080/"
    },
    "executionInfo": {
     "elapsed": 18,
     "status": "ok",
     "timestamp": 1675288862542,
     "user": {
      "displayName": "Radim Jedlička",
      "userId": "11502208915568361358"
     },
     "user_tz": -60
    },
    "id": "WcvJRE3H_1l9",
    "outputId": "8ebb5683-b5dd-4512-e626-5addd137d04e"
   },
   "outputs": [
    {
     "data": {
      "text/plain": [
       "range"
      ]
     },
     "execution_count": 16,
     "metadata": {},
     "output_type": "execute_result"
    }
   ],
   "source": [
    "type(range(11))"
   ]
  },
  {
   "cell_type": "markdown",
   "metadata": {
    "id": "P2d2tPuH_40W"
   },
   "source": [
    "<br>\n",
    "\n",
    "## **Vytvoření `range`**\n",
    "\n",
    "---"
   ]
  },
  {
   "cell_type": "markdown",
   "metadata": {
    "id": "1tQFKSmk_9-P"
   },
   "source": [
    "| Počet argumentů | Význam |\n",
    "| :-: | :- |\n",
    "| 1 | Hodnota **stop**. Začíná defaultně od 0 (končí  o jednu hodnotu dříve než **stop**) |\n",
    "| 2 | Hodnoty **start** a **stop** |\n",
    "| 3 | Hodnoty **start**, **stop** a **step** (tedy krok) "
   ]
  },
  {
   "cell_type": "code",
   "execution_count": null,
   "metadata": {
    "colab": {
     "base_uri": "https://localhost:8080/"
    },
    "executionInfo": {
     "elapsed": 16,
     "status": "ok",
     "timestamp": 1675288919214,
     "user": {
      "displayName": "Radim Jedlička",
      "userId": "11502208915568361358"
     },
     "user_tz": -60
    },
    "id": "WFw--gQD_7QC",
    "outputId": "633b1a81-26ad-4e09-e097-8417634b3dc2"
   },
   "outputs": [],
   "source": [
    "range(1, 11, 3)"
   ]
  },
  {
   "cell_type": "code",
   "execution_count": 17,
   "metadata": {
    "colab": {
     "base_uri": "https://localhost:8080/"
    },
    "executionInfo": {
     "elapsed": 16,
     "status": "ok",
     "timestamp": 1675288931902,
     "user": {
      "displayName": "Radim Jedlička",
      "userId": "11502208915568361358"
     },
     "user_tz": -60
    },
    "id": "UEURInA6AGfp",
    "outputId": "c4494b7d-5764-49b6-fd45-e82b7144a9cd"
   },
   "outputs": [
    {
     "data": {
      "text/plain": [
       "(0, 1, 2, 3, 4, 5, 6, 7, 8, 9, 10)"
      ]
     },
     "execution_count": 17,
     "metadata": {},
     "output_type": "execute_result"
    }
   ],
   "source": [
    "tuple(range(11))"
   ]
  },
  {
   "cell_type": "code",
   "execution_count": 18,
   "metadata": {
    "colab": {
     "base_uri": "https://localhost:8080/"
    },
    "executionInfo": {
     "elapsed": 13,
     "status": "ok",
     "timestamp": 1675288937318,
     "user": {
      "displayName": "Radim Jedlička",
      "userId": "11502208915568361358"
     },
     "user_tz": -60
    },
    "id": "8OGaUgi-AH7o",
    "outputId": "00df8c46-455d-48a5-d46b-b06a3fbb355b"
   },
   "outputs": [
    {
     "data": {
      "text/plain": [
       "[1, 2, 3, 4, 5, 6, 7, 8, 9, 10]"
      ]
     },
     "execution_count": 18,
     "metadata": {},
     "output_type": "execute_result"
    }
   ],
   "source": [
    "list(range(1, 11))"
   ]
  },
  {
   "cell_type": "code",
   "execution_count": 19,
   "metadata": {
    "colab": {
     "base_uri": "https://localhost:8080/"
    },
    "executionInfo": {
     "elapsed": 14,
     "status": "ok",
     "timestamp": 1675288945840,
     "user": {
      "displayName": "Radim Jedlička",
      "userId": "11502208915568361358"
     },
     "user_tz": -60
    },
    "id": "uFfx6QrCAJx-",
    "outputId": "af6143da-e09a-4a3a-f567-55a66e646449"
   },
   "outputs": [
    {
     "data": {
      "text/plain": [
       "[1, 4, 7, 10]"
      ]
     },
     "execution_count": 19,
     "metadata": {},
     "output_type": "execute_result"
    }
   ],
   "source": [
    "list(range(1, 11, 3))"
   ]
  },
  {
   "cell_type": "code",
   "execution_count": 20,
   "metadata": {
    "colab": {
     "base_uri": "https://localhost:8080/"
    },
    "executionInfo": {
     "elapsed": 11,
     "status": "ok",
     "timestamp": 1675288953573,
     "user": {
      "displayName": "Radim Jedlička",
      "userId": "11502208915568361358"
     },
     "user_tz": -60
    },
    "id": "0sXggSPVALxK",
    "outputId": "9abbf82d-d57f-4b2f-af5d-883649138f4b"
   },
   "outputs": [
    {
     "data": {
      "text/plain": [
       "[10, 9, 8, 7, 6, 5, 4, 3, 2, 1]"
      ]
     },
     "execution_count": 20,
     "metadata": {},
     "output_type": "execute_result"
    }
   ],
   "source": [
    "list(range(10, 0, -1))"
   ]
  },
  {
   "cell_type": "markdown",
   "metadata": {
    "id": "n5pbRa6vDUox"
   },
   "source": [
    "<br>\n",
    "\n",
    "*poznámka*. datový typ `range` pracuje pouze s **celými čisly**."
   ]
  },
  {
   "cell_type": "markdown",
   "metadata": {
    "id": "4fYqGNsnDbZD"
   },
   "source": [
    "<br>\n",
    "\n",
    "## **`range` a `xrange`**\n",
    "\n",
    "---"
   ]
  },
  {
   "cell_type": "markdown",
   "metadata": {
    "id": "TSBjk1byDf4S"
   },
   "source": [
    "Funkce `xrange` byla built-in funkcí v rámci starších verzí Pythonu a vracela přímo `list`. Ve verzi Python 3+ již není běžně k dispozici."
   ]
  },
  {
   "cell_type": "markdown",
   "metadata": {
    "id": "BQ17twZsDiEb"
   },
   "source": [
    "<br>\n",
    "\n",
    "## **`range` a `for`**\n",
    "\n",
    "---"
   ]
  },
  {
   "cell_type": "markdown",
   "metadata": {
    "id": "ugMWucmUDmA6"
   },
   "source": [
    "Typ `range` je poměrně častým nástrojem, který využíváme v rámci cyklů. Více u konkrétních příkladů níže:"
   ]
  },
  {
   "cell_type": "code",
   "execution_count": 21,
   "metadata": {
    "colab": {
     "base_uri": "https://localhost:8080/"
    },
    "executionInfo": {
     "elapsed": 269,
     "status": "ok",
     "timestamp": 1675289870088,
     "user": {
      "displayName": "Radim Jedlička",
      "userId": "11502208915568361358"
     },
     "user_tz": -60
    },
    "id": "qhL_8iUYDTbO",
    "outputId": "77cbab52-6c22-42c0-8ff4-4836a02ee54e"
   },
   "outputs": [
    {
     "name": "stdout",
     "output_type": "stream",
     "text": [
      "0\n",
      "1\n",
      "2\n",
      "3\n",
      "4\n",
      "5\n",
      "6\n",
      "7\n",
      "8\n",
      "9\n",
      "10\n"
     ]
    }
   ],
   "source": [
    "for cislo in range(11):\n",
    "    print(cislo)"
   ]
  },
  {
   "cell_type": "code",
   "execution_count": 22,
   "metadata": {
    "colab": {
     "base_uri": "https://localhost:8080/"
    },
    "executionInfo": {
     "elapsed": 307,
     "status": "ok",
     "timestamp": 1675289889083,
     "user": {
      "displayName": "Radim Jedlička",
      "userId": "11502208915568361358"
     },
     "user_tz": -60
    },
    "id": "JRfWpAL2Dtgw",
    "outputId": "9a8f6c1d-04da-4ded-b52e-62b4d0865054"
   },
   "outputs": [
    {
     "name": "stdout",
     "output_type": "stream",
     "text": [
      "Python\n",
      "Python\n",
      "Python\n",
      "Python\n",
      "Python\n",
      "Python\n",
      "Python\n",
      "Python\n",
      "Python\n",
      "Python\n",
      "Python\n"
     ]
    }
   ],
   "source": [
    "for cislo in range(11):\n",
    "    print(\"Python\")"
   ]
  },
  {
   "cell_type": "code",
   "execution_count": 23,
   "metadata": {
    "colab": {
     "base_uri": "https://localhost:8080/"
    },
    "executionInfo": {
     "elapsed": 264,
     "status": "ok",
     "timestamp": 1675289918152,
     "user": {
      "displayName": "Radim Jedlička",
      "userId": "11502208915568361358"
     },
     "user_tz": -60
    },
    "id": "Wo3oh9W0D2dj",
    "outputId": "9665b620-f01c-4d30-fc9c-4489c15699b3"
   },
   "outputs": [
    {
     "name": "stdout",
     "output_type": "stream",
     "text": [
      "Matous\n",
      "Matous\n",
      "Matous\n",
      "Matous\n",
      "Matous\n",
      "Matous\n"
     ]
    }
   ],
   "source": [
    "LIMIT = 6\n",
    "\n",
    "for _ in range(LIMIT):\n",
    "    print(\"Matous\")"
   ]
  },
  {
   "cell_type": "markdown",
   "metadata": {
    "id": "tO-1sEaaECuQ"
   },
   "source": [
    "*poznámka*. pokud proměnnou v rámci cyklu nepotřebujeme, standartně ji označujeme podtržítkem."
   ]
  },
  {
   "cell_type": "code",
   "execution_count": 25,
   "metadata": {
    "colab": {
     "base_uri": "https://localhost:8080/"
    },
    "executionInfo": {
     "elapsed": 11,
     "status": "ok",
     "timestamp": 1675290107325,
     "user": {
      "displayName": "Radim Jedlička",
      "userId": "11502208915568361358"
     },
     "user_tz": -60
    },
    "id": "IEj_cv92EJyr",
    "outputId": "2756f218-4995-4ffa-e463-35e8f7e423a0"
   },
   "outputs": [
    {
     "name": "stdout",
     "output_type": "stream",
     "text": [
      "Vytvor soubor Vyuctovani_za_1.mesic.txt\n",
      "Vytvor soubor Vyuctovani_za_2.mesic.txt\n",
      "Vytvor soubor Vyuctovani_za_3.mesic.txt\n",
      "Vytvor soubor Vyuctovani_za_4.mesic.txt\n",
      "Vytvor soubor Vyuctovani_za_5.mesic.txt\n",
      "Vytvor soubor Vyuctovani_za_6.mesic.txt\n",
      "Vytvor soubor Vyuctovani_za_7.mesic.txt\n",
      "Vytvor soubor Vyuctovani_za_8.mesic.txt\n",
      "Vytvor soubor Vyuctovani_za_9.mesic.txt\n",
      "Vytvor soubor Vyuctovani_za_10.mesic.txt\n",
      "Vytvor soubor Vyuctovani_za_11.mesic.txt\n",
      "Vytvor soubor Vyuctovani_za_12.mesic.txt\n"
     ]
    }
   ],
   "source": [
    "LIMIT = 13\n",
    "\n",
    "for cislo in range(1, LIMIT):\n",
    "    print(f\"Vytvor soubor Vyuctovani_za_{cislo}.mesic.txt\")"
   ]
  }
 ],
 "metadata": {
  "colab": {
   "authorship_tag": "ABX9TyM5Af/tWsAUZNdtFSTj/ag6",
   "provenance": []
  },
  "kernelspec": {
   "display_name": "Python 3 (ipykernel)",
   "language": "python",
   "name": "python3"
  },
  "language_info": {
   "codemirror_mode": {
    "name": "ipython",
    "version": 3
   },
   "file_extension": ".py",
   "mimetype": "text/x-python",
   "name": "python",
   "nbconvert_exporter": "python",
   "pygments_lexer": "ipython3",
   "version": "3.10.0"
  }
 },
 "nbformat": 4,
 "nbformat_minor": 1
}
