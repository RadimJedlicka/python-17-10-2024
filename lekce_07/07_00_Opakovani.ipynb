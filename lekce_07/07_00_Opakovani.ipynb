{
  "nbformat": 4,
  "nbformat_minor": 0,
  "metadata": {
    "colab": {
      "provenance": []
    },
    "kernelspec": {
      "name": "python3",
      "display_name": "Python 3"
    },
    "language_info": {
      "name": "python"
    }
  },
  "cells": [
    {
      "cell_type": "markdown",
      "source": [
        "<h6 align=right> 🐍 Python akademie - lekce 7 - DD.MM.YYYY</h6>"
      ],
      "metadata": {
        "id": "OPb00C4ofurM"
      }
    },
    {
      "cell_type": "markdown",
      "source": [
        "<br>\n",
        "\n",
        "# <h1 align=center><font color=black size=24><b> 07_00: Opakování po šesté lekci!</font></h1>\n",
        "\n",
        "<br>\n",
        "\n",
        "---"
      ],
      "metadata": {
        "id": "O5JzbpdIH07M"
      }
    },
    {
      "cell_type": "markdown",
      "source": [
        "<br>\n",
        "\n",
        "### **Ukázka #01**\n",
        "\n",
        "Potřebuji získat přesnou hodnotu pí"
      ],
      "metadata": {
        "id": "vcmd94OIf7SV"
      }
    },
    {
      "cell_type": "markdown",
      "source": [
        "<details>\n",
        "  <summary>❓Vysvětlení ❓</summary>\n",
        "\n",
        "<br>\n",
        "    \n",
        "Než začnu psát, zkusím pohledat, jestli stávající **built-in funkce** nenabízejí nějaké pomocné řešení, které již někdo vytvořil.\n",
        "\n",
        "<br>\n",
        "\n",
        "```python\n",
        "V tomto případě knihovna `math`.\n",
        "    \n",
        "# Nahrajeme knihovnu 'math' do souboru\n",
        "from math import pi\n",
        "from math import tan as tg\n",
        "# Ověříme dostupné metody a proměnné\n",
        "# dir(math)\n",
        "# Zpřístupníme proměnnou 'pi'\n",
        "print(pi)\n",
        "```\n",
        "\n",
        "</details>\n",
        "\n",
        "---"
      ],
      "metadata": {
        "id": "7tZ5957xgIDJ"
      }
    },
    {
      "cell_type": "markdown",
      "source": [
        "<br>\n",
        "\n",
        "### **Ukázka #02**\n",
        "\n",
        "Je použitá knihovna 'math' modul nebo balíček?"
      ],
      "metadata": {
        "id": "ztifQLB5g8PJ"
      }
    },
    {
      "cell_type": "markdown",
      "source": [
        "<details>\n",
        "  <summary>❓Vysvětlení ❓</summary>\n",
        "\n",
        "<br>\n",
        "    \n",
        "Většinou nám stačí zjistit odpověď pomocí napovědy ve funkci `help`. Na prvním řádku obvykle stojí specifikace knihovny.\n",
        "\n",
        "<br>\n",
        "\n",
        "</details>\n",
        "\n",
        "---"
      ],
      "metadata": {
        "id": "JEiUBVkahG1i"
      }
    },
    {
      "cell_type": "markdown",
      "source": [
        "<br>\n",
        "\n",
        "### **Ukázka #03**\n",
        "\n",
        "Jak ideálně uspořádat knihovny?"
      ],
      "metadata": {
        "id": "oPR_WBNShjIA"
      }
    },
    {
      "cell_type": "code",
      "source": [
        "import socket\n",
        "from email._parseaddr import parsedate, parsedate_tz, _parsedate_tz\n",
        "from email._parseaddr import mktime_tz as mk_tz\n",
        "from bs4 import BeautifulSoup as bs\n",
        "import os\n",
        "import random\n",
        "import urllib.parse\n",
        "from email._parseaddr import AddressList\n",
        "import datetime\n",
        "from email._parseaddr import quote as q\n",
        "from muj_uzasny_balicek.modul import moje_promenna\n",
        "import time\n",
        "import re"
      ],
      "metadata": {
        "id": "6Z6XCU_kJVlW"
      },
      "execution_count": null,
      "outputs": []
    },
    {
      "cell_type": "markdown",
      "source": [
        "<details>\n",
        "  <summary>❓Vysvětlení ❓</summary>\n",
        "\n",
        "<br>\n",
        "    \n",
        "Podle doporučení dle [pep8](https://peps.python.org/pep-0008/#imports) nejprve zapisujeme knihovny standartní, dále třetích stran a nakonec lokální knihovny.\n",
        "\n",
        "<br>\n",
        "\n",
        "Mezi každou skupinou zapíšeme volný řádek, abychom je vizuálně oddělili.\n",
        "\n",
        "</details>\n",
        "\n",
        "---"
      ],
      "metadata": {
        "id": "1emwoSdehptf"
      }
    },
    {
      "cell_type": "markdown",
      "source": [
        "<br>\n",
        "\n",
        "### **Ukázka #04**\n",
        "\n",
        "Jsou nějaká další obecná pravidla?"
      ],
      "metadata": {
        "id": "YDiYE8Xdhwnl"
      }
    },
    {
      "cell_type": "markdown",
      "source": [
        "<details>\n",
        "  <summary>❓Vysvětlení ❓</summary>\n",
        "\n",
        "<br>\n",
        "    \n",
        "Obecně je dobré naučit se tyto pravidla [pep8](https://www.python.org/dev/peps/pep-0008/):\n",
        "1. Nahrané knihovny je dobré mít na začátku souboru,\n",
        "2. Každá knihovna je zapsaná na vlastní řádku,\n",
        "3. Organizujte nahrané knihovny do skupin: I. standartní, II. třetí strany, III. lokální\n",
        "4. Vyhýbej se nahrávání s hvězdičkou (wildcart)\n",
        "\n",
        "</details>\n",
        "\n",
        "---"
      ],
      "metadata": {
        "id": "ihU4R7jMh83-"
      }
    }
  ]
}