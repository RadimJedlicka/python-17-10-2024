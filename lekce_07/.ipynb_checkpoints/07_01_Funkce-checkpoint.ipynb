{
 "cells": [
  {
   "cell_type": "markdown",
   "metadata": {
    "id": "SfTn4uwaSwLO"
   },
   "source": [
    "<h6 align=right> 🐍 Python akademie - lekce 7 - 28.11.2024</h6>"
   ]
  },
  {
   "cell_type": "markdown",
   "metadata": {
    "id": "T9vUwhdix0un"
   },
   "source": [
    "<br>\n",
    "\n",
    "# <h1 align=center><font color=black size=24><b> 07_01: Úvod do funkcí</font></h1>\n",
    "\n",
    "<br>\n",
    "\n"
   ]
  },
  {
   "cell_type": "markdown",
   "metadata": {
    "id": "B8U4moKazTR_"
   },
   "source": [
    "<br>\n",
    "\n",
    "---\n",
    "\n",
    "### **Zajímavé odkazy z této lekce:**\n",
    "\n",
    "* [Oficialní dokumentace všech built-in funkcí v Pythonu](https://docs.python.org/3/library/functions.html)\n",
    "* [Oficiální dokumentace k built-in funkci isinstance()](https://docs.python.org/3/library/functions.html#isinstance)\n",
    "* [isinstance pro začátečníky](https://www.w3schools.com/python/ref_func_isinstance.asp)\n",
    "\n",
    "---\n",
    "\n",
    "<br>"
   ]
  },
  {
   "cell_type": "markdown",
   "metadata": {
    "id": "Vdzg2WuMzhtf"
   },
   "source": [
    "<br>\n",
    "\n",
    "## **Obecně k funkcím v Pythonu**\n",
    "\n",
    "---"
   ]
  },
  {
   "cell_type": "markdown",
   "metadata": {
    "id": "0Kp8fYDZzuT0"
   },
   "source": [
    "V Pythonu už některé funkce znáš a umíš je používat.\n",
    "\n",
    "Třeba funkce `print` a `enumerate`. To ale nejsou jedinné funkce, které můžeš používat."
   ]
  },
  {
   "cell_type": "code",
   "execution_count": null,
   "metadata": {
    "id": "EQQA0ue0xhDA"
   },
   "outputs": [],
   "source": [
    "print(\"Praha\", \"Brno\", \"Ostrava\", sep=\", \")"
   ]
  },
  {
   "cell_type": "code",
   "execution_count": null,
   "metadata": {
    "colab": {
     "base_uri": "https://localhost:8080/"
    },
    "executionInfo": {
     "elapsed": 245,
     "status": "ok",
     "timestamp": 1681201557839,
     "user": {
      "displayName": "Radim Jedlička",
      "userId": "11502208915568361358"
     },
     "user_tz": -120
    },
    "id": "ZENyGcCUxhDB",
    "outputId": "e3c40d90-0ddc-42c7-b724-b3a79b9fb21a"
   },
   "outputs": [
    {
     "name": "stdout",
     "output_type": "stream",
     "text": [
      "((0, 'Praha'), (1, 'Brno'), (2, 'Ostrava'))\n"
     ]
    }
   ],
   "source": [
    "print(tuple(enumerate((\"Praha\", \"Brno\", \"Ostrava\"))))"
   ]
  },
  {
   "cell_type": "markdown",
   "metadata": {
    "id": "UE_dm7vKxhDB"
   },
   "source": [
    "Obecné rozdělení funkcí v Pythonu:\n",
    "1. **Zabudované funkce**, (z angl. *built-in functions*), tedy `str`, `int`, `bool`, aj. ,\n",
    "2. **Uživatelské funkce**, (z angl. *user-defined functions*), klíčové slovo `def`.\n",
    "\n",
    "\n",
    "Největší rozdíl mezi **zabudovanými** a **uživatelskými funkcemi** je v tom, že *zabudované funkce* stačí **spustit pomocí jejich jména**.\n",
    "\n",
    "Zatímco *uživatelskou funkci* je nejprve nutné **definovat** (vytvořit) a teprve poté **použít** (spustit)."
   ]
  },
  {
   "cell_type": "markdown",
   "metadata": {
    "id": "WFKzYrAX0WOc"
   },
   "source": [
    "<br>\n",
    "\n",
    "## **Zabudované funkce**\n",
    "\n",
    "---"
   ]
  },
  {
   "cell_type": "markdown",
   "metadata": {
    "id": "MXWXkyNFxhDC"
   },
   "source": [
    "Tyto funkce jsou velkými pomocníky, protože ti umožní zjednodušit různé procesy.\n",
    "\n",
    "Navíc můžeš jejich použití **doplnit volitelnými argumenty**.\n",
    "\n",
    "*Volitelný argument* je objekt, který můžeš (ale nemusíš) zadávat.\n",
    "\n",
    "Funkce umí pracovat bez něj, případně má dopředu nachystanou nějakou **počáteční hodnotu**."
   ]
  },
  {
   "cell_type": "code",
   "execution_count": null,
   "metadata": {
    "id": "8TegdzyLxhDC"
   },
   "outputs": [],
   "source": [
    "print(\"Matous\", \"Marek\", \"Lukas\")"
   ]
  },
  {
   "cell_type": "markdown",
   "metadata": {
    "id": "wsGnL9j7xhDC"
   },
   "source": [
    "Pokud funkci `print` napíšeš **bez argumentů**, s několika různými hodnotami za sebou, tvůj výstup se seřadí za sebe.\n",
    "\n",
    "Zobraz si nápovědu pomocí ohlášení `print(help(print))`:"
   ]
  },
  {
   "cell_type": "code",
   "execution_count": null,
   "metadata": {
    "colab": {
     "base_uri": "https://localhost:8080/"
    },
    "executionInfo": {
     "elapsed": 261,
     "status": "ok",
     "timestamp": 1681201711711,
     "user": {
      "displayName": "Radim Jedlička",
      "userId": "11502208915568361358"
     },
     "user_tz": -120
    },
    "id": "rohLcZI-xhDC",
    "outputId": "001d2376-6766-44ad-d498-6088b0e155bc"
   },
   "outputs": [
    {
     "name": "stdout",
     "output_type": "stream",
     "text": [
      "Help on built-in function print in module builtins:\n",
      "\n",
      "print(...)\n",
      "    print(value, ..., sep=' ', end='\\n', file=sys.stdout, flush=False)\n",
      "    \n",
      "    Prints the values to a stream, or to sys.stdout by default.\n",
      "    Optional keyword arguments:\n",
      "    file:  a file-like object (stream); defaults to the current sys.stdout.\n",
      "    sep:   string inserted between values, default a space.\n",
      "    end:   string appended after the last value, default a newline.\n",
      "    flush: whether to forcibly flush the stream.\n",
      "\n"
     ]
    }
   ],
   "source": [
    "help(print)"
   ]
  },
  {
   "cell_type": "markdown",
   "metadata": {
    "id": "2ke5mNeyxhDD"
   },
   "source": [
    "Všimni si, že **argument** `sep` má přednastavenou defaultní hodnotu – mezeru.\n",
    "\n",
    "Proto jsou jednotlivé hodnoty řazené s mezerou za sebou.\n",
    "\n",
    "\n",
    "Tuto hodnotu můžeš přepsat podle svých potřeb. Například vypsat jednotlivé hodnoty **pod sebe** pomocí speciálního znaku `\\n`:"
   ]
  },
  {
   "cell_type": "code",
   "execution_count": null,
   "metadata": {
    "id": "lKz29ZjHxhDD"
   },
   "outputs": [],
   "source": [
    "print(\"Matous\", \"Marek\", \"Lukas\", sep=\"\\n\")  # volitelný (také nepovinný) argument 'sep'"
   ]
  },
  {
   "cell_type": "markdown",
   "metadata": {
    "id": "E7qswP6-xhDD"
   },
   "source": [
    "**Argumenty** můžeš používat téměř u všech **zabudovaných funkcí**.\n",
    "\n",
    "Proto pokud budeš potřebovat pracovat se **zabudovanými funkcemi**, vždy zkontroluj, jestli neobsahují nějaký nepovinný argument, který ti pomůže.\n"
   ]
  },
  {
   "cell_type": "code",
   "execution_count": null,
   "metadata": {
    "id": "EzNmWQ_YxhDD"
   },
   "outputs": [],
   "source": [
    "help(enumerate)"
   ]
  },
  {
   "cell_type": "code",
   "execution_count": null,
   "metadata": {
    "colab": {
     "base_uri": "https://localhost:8080/"
    },
    "executionInfo": {
     "elapsed": 866,
     "status": "ok",
     "timestamp": 1681201880360,
     "user": {
      "displayName": "Radim Jedlička",
      "userId": "11502208915568361358"
     },
     "user_tz": -120
    },
    "id": "QGEN47h8xhDE",
    "outputId": "8af930a4-6553-4be1-98fd-80b7498c526a"
   },
   "outputs": [
    {
     "data": {
      "text/plain": [
       "((3, 'Matous'), (4, 'Marek'), (5, 'Lukas'))"
      ]
     },
     "execution_count": 8,
     "metadata": {},
     "output_type": "execute_result"
    }
   ],
   "source": [
    "jmena = (\"Matous\", \"Marek\", \"Lukas\")\n",
    "\n",
    "tuple(enumerate(jmena, start=3))"
   ]
  },
  {
   "cell_type": "markdown",
   "metadata": {
    "id": "K82TRuVXxhDE"
   },
   "source": [
    "<br>\n",
    "\n",
    "## **Uživatelské funkce**\n",
    "\n",
    "---"
   ]
  },
  {
   "cell_type": "markdown",
   "metadata": {
    "id": "OxEMR9qmxhDE"
   },
   "source": [
    "Můžeš se dostat do situace, kdy žádná z nabízených *zabudovaných funkcí* nedělá přesně to, co potřebuješ.\n",
    "\n",
    "V takovém případě potřebuješ vytvořit vlastní funkci, která ti bude umět pomoct.\n",
    "\n",
    "<br>\n",
    "\n",
    "Tvůj úkol je napsat proces, který sečte **všechny číselné hodnoty** uvnitř sekvence."
   ]
  },
  {
   "cell_type": "code",
   "execution_count": null,
   "metadata": {
    "id": "UsH1WEF-xhDE"
   },
   "outputs": [],
   "source": [
    "ciselna_rada = (1, 2, 3, 4)"
   ]
  },
  {
   "cell_type": "code",
   "execution_count": null,
   "metadata": {
    "id": "vp6LdSS_xhDE"
   },
   "outputs": [],
   "source": [
    "print(sum(ciselna_rada))"
   ]
  },
  {
   "cell_type": "markdown",
   "metadata": {
    "id": "jb7W2o-PxhDF"
   },
   "source": [
    "Pomocí zabudované funkce `sum` to není žádný problém.\n",
    "\n",
    "<br>"
   ]
  },
  {
   "cell_type": "markdown",
   "metadata": {
    "id": "VsThWXu1xhDF"
   },
   "source": [
    "Co když sekvence obsahuje **neočekávaný datový typ**:"
   ]
  },
  {
   "cell_type": "code",
   "execution_count": null,
   "metadata": {
    "id": "miiLQO6GxhDF"
   },
   "outputs": [],
   "source": [
    "ciselna_rada = (1, 2, 3, \"dva\", 4)"
   ]
  },
  {
   "cell_type": "code",
   "execution_count": null,
   "metadata": {
    "id": "dNkzcpkhxhDF"
   },
   "outputs": [],
   "source": [
    "soucet_cisel = 0"
   ]
  },
  {
   "cell_type": "code",
   "execution_count": null,
   "metadata": {
    "id": "fHcTK653xhDF"
   },
   "outputs": [],
   "source": [
    "for cislo in ciselna_rada:\n",
    "    if isinstance(cislo, str) and not cislo.isnumeric():\n",
    "        continue\n",
    "    soucet_cisel = soucet_cisel + int(cislo)\n",
    "else:\n",
    "    print(soucet_cisel)"
   ]
  },
  {
   "cell_type": "markdown",
   "metadata": {
    "id": "PRXU7GsAHIke"
   },
   "source": [
    "[Oficiální dokumentace k built-in funkci isinstance()](https://docs.python.org/3/library/functions.html#isinstance)\n",
    "\n",
    "[isinstance pro začátečníky](https://www.w3schools.com/python/ref_func_isinstance.asp)"
   ]
  },
  {
   "cell_type": "markdown",
   "metadata": {
    "id": "xUU9NmU-xhDG"
   },
   "source": [
    "<br>\n",
    "\n",
    "Co když ale dostaneš **pět různých sekvencí**?\n",
    "\n",
    "Můžeš samozřejmě přepsat zápis pro každou sekvenci zvlášť.\n",
    "\n",
    "Ale co když těch sekvencí bude **100**, **10 000**?\n",
    "\n",
    "Právě proto existují **uživatelské funkce**, kterou stačí **jedenkrát definovat** a následně spouštět kolikrát potřebuješ:"
   ]
  },
  {
   "cell_type": "code",
   "execution_count": null,
   "metadata": {
    "id": "4JOf2A7JxhDG"
   },
   "outputs": [],
   "source": [
    "ciselna_r_1 = (1, 2, 3, \"a\")\n",
    "ciselna_r_2 = (1, 2, 3, 4)\n",
    "ciselna_r_3 = (5, 6, 7, 8)\n",
    "ciselna_r_4 = (9, 10, 11, 12)"
   ]
  },
  {
   "cell_type": "code",
   "execution_count": null,
   "metadata": {
    "id": "lMZKwOaSxhDG"
   },
   "outputs": [],
   "source": [
    "# Zatím neznámá syntaxe\n",
    "def secti_vsechny_cisla(sekvence):\n",
    "    soucet_cisel = 0\n",
    "\n",
    "    for cislo in sekvence:\n",
    "        if isinstance(cislo, str) and not cislo.isnumeric():\n",
    "            continue\n",
    "        soucet_cisel = soucet_cisel + int(cislo)\n",
    "    else:\n",
    "        print(soucet_cisel)"
   ]
  },
  {
   "cell_type": "code",
   "execution_count": null,
   "metadata": {
    "colab": {
     "base_uri": "https://localhost:8080/"
    },
    "executionInfo": {
     "elapsed": 238,
     "status": "ok",
     "timestamp": 1676227739319,
     "user": {
      "displayName": "Radim Jedlička",
      "userId": "11502208915568361358"
     },
     "user_tz": -60
    },
    "id": "2-7xMIwmxhDG",
    "outputId": "ff04fb3f-2952-4072-f70a-0e72dbfa064e"
   },
   "outputs": [
    {
     "name": "stdout",
     "output_type": "stream",
     "text": [
      "6\n",
      "10\n",
      "26\n",
      "42\n"
     ]
    }
   ],
   "source": [
    "secti_vsechny_cisla(ciselna_r_1)\n",
    "secti_vsechny_cisla(ciselna_r_2)\n",
    "secti_vsechny_cisla(ciselna_r_3)\n",
    "secti_vsechny_cisla(ciselna_r_4)"
   ]
  },
  {
   "cell_type": "markdown",
   "metadata": {
    "id": "8ZuaJA22xhDG"
   },
   "source": [
    "Ukázku výše **nemusíš nyní chápat**.\n",
    "\n",
    "Je tu hlavně pro ilustraci, jak je důležité mít uživatelské funkce."
   ]
  },
  {
   "cell_type": "markdown",
   "metadata": {
    "id": "oqRr92hu-cSx"
   },
   "source": [
    "<br>\n",
    "\n",
    "## **Předpis funkcí**\n",
    "\n",
    "---"
   ]
  },
  {
   "cell_type": "markdown",
   "metadata": {
    "id": "TMy2p7pCUakX"
   },
   "source": [
    "```python\n",
    "def jmeno_funkce(parametr_1, parametr_2):  # Předpis funkce a parametry funkce\n",
    "    \"\"\"Popis ucelu funkce\"\"\"               # dokumentace funkce\n",
    "    ...                                    # odsazený kód\n",
    "    return parametr_1 * parametr_2         # VOLITELNÉ: vracené hodnoty\n",
    "```"
   ]
  },
  {
   "cell_type": "markdown",
   "metadata": {
    "id": "88Gsm4bQxhDH"
   },
   "source": [
    "Jak tedy *uživatelskou funkci* správně používat?\n",
    "\n",
    "Z jakých kroků se správné použití skládá?\n",
    "\n",
    "<br>\n",
    "\n",
    "Nejprve musíš funkci:\n",
    "1. Jednou **definovat** (*vytvořit*),\n",
    "2. a potom ji můžeš začít opakovaně **spouštět**.\n",
    "\n",
    "Pořadí je **důležité**! Takže nemůžeš spouštět takovou uživatelskou funkci, kterou **prvně nedefinuješ**.\n"
   ]
  },
  {
   "cell_type": "code",
   "execution_count": null,
   "metadata": {
    "colab": {
     "base_uri": "https://localhost:8080/"
    },
    "executionInfo": {
     "elapsed": 258,
     "status": "ok",
     "timestamp": 1676228756805,
     "user": {
      "displayName": "Radim Jedlička",
      "userId": "11502208915568361358"
     },
     "user_tz": -60
    },
    "id": "UY0frE3SxhDH",
    "outputId": "2b521b4d-b958-46d8-bfe4-906c25b602b2"
   },
   "outputs": [
    {
     "data": {
      "text/plain": [
       "15"
      ]
     },
     "execution_count": 20,
     "metadata": {},
     "output_type": "execute_result"
    }
   ],
   "source": [
    "vysledek = scitej_dve_hodnoty(1, 14)"
   ]
  },
  {
   "cell_type": "code",
   "execution_count": null,
   "metadata": {
    "id": "MGzoovoHxhDH"
   },
   "outputs": [],
   "source": [
    "def scitej_dve_hodnoty(cislo_1, cislo_2):             # POVINNÉ: Předpis funkce a parametry funkce\n",
    "    \"\"\"\n",
    "    Vraci soucet dvou hodnot uvnitr parametru.\n",
    "    \"\"\"                                               # VOLITELNÉ: dokumentace funkce\n",
    "    return cislo_1 + cislo_2                          # VOLITELNÉ: vracené hodnoty"
   ]
  },
  {
   "cell_type": "markdown",
   "metadata": {
    "id": "KqMlVmqwxhDH"
   },
   "source": [
    "Pokud si předchozí ukázku spustíš, nic se nestane. Je to kvůli tomu, že funkci **pouze definuješ** a nespouštíš.\n",
    "\n",
    "<br>\n",
    "\n",
    "V příkladu si můžeš všimnout těchto **charakteristických rysů** pro uživatelskou funkci:\n",
    "1. `def` je *klíčový výraz* označující předpis (definici) funkce,\n",
    "2. `scitej_dve_hodnoty` je tvoje označení funkce, díky kterému můžeš funkci později spustit (ideálně má představovat účel funkce),\n",
    "3. `(cislo_1, cislo_2)` v kulaté závorce jsou umístěné **parametry** funkce. Tedy proměnné, se kterými chceš, aby funkce pracovala.\n",
    "4. `:` předpisový řádek musí být ukončený dvojtečkou (jako u podmínkových zápisů, cyklů, aj.),\n",
    "5. `\"\"\"Vraci soucet dvou ..\"\"\"` na odsazeném řádku následuje *docstring*, tedy bližší popis účelu funkce (zejména pokud jméno nedostačuje),\n",
    "6. `return` ohlášení z funkce vrací žádané hodnoty (nemusí být součástí funkce vždy)."
   ]
  },
  {
   "cell_type": "markdown",
   "metadata": {
    "id": "aYM-zRcvEvue"
   },
   "source": [
    "<br>\n",
    "\n",
    "## **Spuštění funkcí**\n",
    "\n",
    "---"
   ]
  },
  {
   "cell_type": "markdown",
   "metadata": {
    "id": "-cb50jGnxhDH"
   },
   "source": [
    "Takže pokud máš funkci definovanou, můžeš ji spouštět kolikrát chceš a kde chceš (samozřejmě potom, co ji definuješ)."
   ]
  },
  {
   "cell_type": "code",
   "execution_count": null,
   "metadata": {
    "id": "nd58bVr6xhDH"
   },
   "outputs": [],
   "source": [
    "soucet_1 = scitej_dve_hodnoty(1, 14)  # 1. spuštění funkce\n",
    "soucet_2 = scitej_dve_hodnoty(2, 8)   # 2. spuštění funkce"
   ]
  },
  {
   "cell_type": "code",
   "execution_count": null,
   "metadata": {
    "id": "7sXixmw6xhDI"
   },
   "outputs": [],
   "source": [
    "print(soucet_1, soucet_2, sep=\"\\n\")"
   ]
  },
  {
   "cell_type": "markdown",
   "metadata": {
    "id": "jPjNfs2ExhDI"
   },
   "source": [
    "<br>\n",
    "\n",
    "## **Chyby na začátek**\n",
    "\n",
    "---"
   ]
  },
  {
   "cell_type": "code",
   "execution_count": null,
   "metadata": {
    "id": "fHN5uY5oxhDI"
   },
   "outputs": [],
   "source": [
    "scitej_dve_hodnoty  # zapoměl jsem závorky"
   ]
  },
  {
   "cell_type": "code",
   "execution_count": null,
   "metadata": {
    "id": "vuderZQqxhDI"
   },
   "outputs": [],
   "source": [
    "scitej_dve_hodnoty()  # chybějící vstupní hodnoty, tzv. argumenty"
   ]
  },
  {
   "cell_type": "code",
   "execution_count": null,
   "metadata": {
    "id": "8Pfzn4bSxhDI"
   },
   "outputs": [],
   "source": [
    "scitej_dve_hodnoty(1, 9, 5)  # špatný počet argumentů při spouštění"
   ]
  },
  {
   "cell_type": "code",
   "execution_count": null,
   "metadata": {
    "id": "uds-UvJLxhDI"
   },
   "outputs": [],
   "source": [
    "scitej_dve_hodnoty 1, 9  # zapoměl jsem závorky"
   ]
  },
  {
   "cell_type": "code",
   "execution_count": null,
   "metadata": {
    "id": "KdgDylL_xhDJ"
   },
   "outputs": [],
   "source": [
    "vysledek = scitej_dve_hodnoty(2, 3)"
   ]
  },
  {
   "cell_type": "code",
   "execution_count": null,
   "metadata": {
    "colab": {
     "base_uri": "https://localhost:8080/"
    },
    "executionInfo": {
     "elapsed": 256,
     "status": "ok",
     "timestamp": 1676229885081,
     "user": {
      "displayName": "Radim Jedlička",
      "userId": "11502208915568361358"
     },
     "user_tz": -60
    },
    "id": "TsdmTM4PxhDJ",
    "outputId": "75b11ece-0411-49b9-dc55-7d653f0cb228"
   },
   "outputs": [
    {
     "name": "stdout",
     "output_type": "stream",
     "text": [
      "5\n"
     ]
    }
   ],
   "source": [
    "print(vysledek)"
   ]
  },
  {
   "cell_type": "code",
   "execution_count": null,
   "metadata": {
    "id": "cWJbqx7RxhDJ"
   },
   "outputs": [],
   "source": [
    "def odcitej_dve_hodnoty(cislo_3, cislo_4):\n",
    "    return cislo_3 - cislo_4"
   ]
  },
  {
   "cell_type": "code",
   "execution_count": null,
   "metadata": {
    "id": "gYVju2BexhDJ"
   },
   "outputs": [],
   "source": [
    "vysledek = odcitej_dve_hodnoty(10, 5)"
   ]
  },
  {
   "cell_type": "code",
   "execution_count": null,
   "metadata": {
    "colab": {
     "base_uri": "https://localhost:8080/"
    },
    "executionInfo": {
     "elapsed": 223,
     "status": "ok",
     "timestamp": 1676229916176,
     "user": {
      "displayName": "Radim Jedlička",
      "userId": "11502208915568361358"
     },
     "user_tz": -60
    },
    "id": "du9eYmffxhDJ",
    "outputId": "56670ab3-3d54-4326-d585-e31706d0c716"
   },
   "outputs": [
    {
     "name": "stdout",
     "output_type": "stream",
     "text": [
      "5\n"
     ]
    }
   ],
   "source": [
    "print(vysledek)"
   ]
  },
  {
   "cell_type": "markdown",
   "metadata": {
    "id": "vPxv1Y1zxhDK"
   },
   "source": [
    "Pár detailů pro spuštění funkcí:\n",
    "1. Funkci *spouštíš* přes její **jméno a kulaté závorky**,\n",
    "2. při definování, do kulatých závorek píšeš obecné proměnné, **parametry** funkcí (zajištují obecné použití),\n",
    "3. při spouštění, do kulatých závorek musíš zapsat skutečné hodnoty, tedy **argumenty** funkcí,\n",
    "4. argumenty si funkce sama skládá do parametrů podle několika vzorů,\n",
    "5. pokud má funkce vracet hodnoty, obsahuje ohlášení `return`,\n",
    "6. vrácenou hodnotu si musíš schovat do proměnné (`soucet_1`, `soucet_2`). Pokud to neuděláš, o součet **přijdeš**."
   ]
  },
  {
   "cell_type": "markdown",
   "metadata": {
    "id": "iuhHEsaZGFv6"
   },
   "source": [
    "<br>\n",
    "\n",
    "## **Vstupy funkcí, rozdělení**\n",
    "\n",
    "---"
   ]
  },
  {
   "cell_type": "markdown",
   "metadata": {
    "id": "VxWOlt5WxhDK"
   },
   "source": [
    "Obecně funkce pracuje se **vstupy**.\n",
    "\n",
    "Tento pojem souhrnně označuje nejen *parametry*, ale také *argumenty*.\n",
    "\n",
    "Ty jsou potom do funkce dávkované dle několika vzorů.\n",
    "\n",
    "<br>\n",
    "\n",
    "Rozdíl mezi nimi je následující:\n",
    "- **parametry** slouží jako obecné proměnné při definici,\n",
    "- **argumenty** jsou konkrétní hodnoty, které vkládáš při spouštění.\n",
    "\n",
    "<br>\n",
    "\n",
    "Prohlédni si ukázku:"
   ]
  },
  {
   "cell_type": "code",
   "execution_count": null,
   "metadata": {
    "id": "7Lyu9tfcGT-s"
   },
   "outputs": [],
   "source": [
    "def vytvor_uziv_jmeno(jmeno, prijmeni):\n",
    "    return (jmeno.lower()[0] + prijmeni.lower())"
   ]
  },
  {
   "cell_type": "code",
   "execution_count": null,
   "metadata": {
    "id": "Dom0Y0CBGdfA"
   },
   "outputs": [],
   "source": [
    "print(vytvor_uziv_jmeno('Radim', 'Jedlicka'))"
   ]
  },
  {
   "cell_type": "markdown",
   "metadata": {
    "id": "i6tA4rRXxhDK"
   },
   "source": [
    "Co jsou tedy **parametry** a co **argumenty**?"
   ]
  },
  {
   "cell_type": "markdown",
   "metadata": {
    "id": "JJraUkCdxhDV"
   },
   "source": [
    "<img src=\"https://external-content.duckduckgo.com/iu/?u=https%3A%2F%2Ftse3.mm.bing.net%2Fth%3Fid%3DOIP.I_ciaAqJVtH3k_LDV-4a8AHaEc%26pid%3DApi&f=1&ipt=74100f497253ea415c13868adb6e91d832625b2dfe1b2cf852efaf93feeb7546&ipo=images\" width=\"350\">\n",
    "\n"
   ]
  },
  {
   "cell_type": "markdown",
   "metadata": {
    "id": "dF14WjSiJ2Oo"
   },
   "source": [
    "<br>\n",
    "\n",
    "## **Řádné funkce uživatele**\n",
    "\n",
    "---"
   ]
  },
  {
   "cell_type": "markdown",
   "metadata": {
    "id": "9f9PaeuQxhDV"
   },
   "source": [
    "Psaní uživatelských funkcí má ovšem jistá doporučení."
   ]
  },
  {
   "cell_type": "markdown",
   "metadata": {
    "id": "GqySCC_lxhDV"
   },
   "source": [
    "#### **1. Znovu nevymýšlet kolo**"
   ]
  },
  {
   "cell_type": "markdown",
   "metadata": {
    "id": "Ziqm6ju1xhDV"
   },
   "source": [
    "Nejprve zkontroluji *zabudované funkce*, pak tvořím vlastní funkci:"
   ]
  },
  {
   "cell_type": "code",
   "execution_count": null,
   "metadata": {
    "id": "JoqXY39sxhDV"
   },
   "outputs": [],
   "source": [
    "cisla = (1, 2, 3)"
   ]
  },
  {
   "cell_type": "code",
   "execution_count": null,
   "metadata": {
    "id": "Q0QXRswYxhDW"
   },
   "outputs": [],
   "source": [
    "# TAKHLE NE!\n",
    "def vypocitej_sumu(cisla):\n",
    "    suma = 0\n",
    "\n",
    "    for cislo in cisla:\n",
    "        suma = suma + cislo\n",
    "    return suma"
   ]
  },
  {
   "cell_type": "code",
   "execution_count": null,
   "metadata": {
    "id": "xiJJKURFxhDW"
   },
   "outputs": [],
   "source": [
    "# TAKHLE ANO!\n",
    "suma = sum(cisla)"
   ]
  },
  {
   "cell_type": "markdown",
   "metadata": {
    "id": "9x1mB3zfxhDW"
   },
   "source": [
    "#### **2. Na jménu záleží**\n",
    "Popisuje totiž účel funkce (pokud nelze napsat, zapiš *docstring* funkce):"
   ]
  },
  {
   "cell_type": "code",
   "execution_count": null,
   "metadata": {
    "id": "ccGlwXh2xhDW"
   },
   "outputs": [],
   "source": [
    "# TAKHLE NE!\n",
    "def email():\n",
    "    pass\n",
    "\n",
    "email()"
   ]
  },
  {
   "cell_type": "code",
   "execution_count": null,
   "metadata": {
    "id": "d2M279V2xhDX"
   },
   "outputs": [],
   "source": [
    "# TAKHLE ANO!\n",
    "def posli_zpravu():\n",
    "    pass\n",
    "\n",
    "posli_zpravu()"
   ]
  },
  {
   "cell_type": "markdown",
   "metadata": {
    "id": "qMzzTBtOxhDX"
   },
   "source": [
    "#### **3. Rozumné množství parametrů**\n",
    "\n",
    "Ideálně **2-3 parametry** (jsou ovšem výjimky):"
   ]
  },
  {
   "cell_type": "code",
   "execution_count": null,
   "metadata": {
    "id": "WkODekyFxhDX"
   },
   "outputs": [],
   "source": [
    "# TAKHLE NE!\n",
    "def zobraz_nabidku(title, body, tlacitko, datum):\n",
    "    pass"
   ]
  },
  {
   "cell_type": "code",
   "execution_count": null,
   "metadata": {
    "id": "pdt6IYq8xhDX"
   },
   "outputs": [],
   "source": [
    "# TAKHLE ANO!\n",
    "def vytvor_popisek(title, body):\n",
    "    pass\n",
    "\n",
    "def vytvor_tlacitko(tlacitko):\n",
    "    pass\n",
    "\n",
    "def vytvor_datum():\n",
    "    pass"
   ]
  },
  {
   "cell_type": "markdown",
   "metadata": {
    "id": "PVkyciQ6xhDY"
   },
   "source": [
    "#### **4. Co je psáno, to je dáno**\n",
    "\n",
    "Funkce by měla provádět **jedinnou věc** (jinak je špatně čitelná, pochopitelná, testovatelná):"
   ]
  },
  {
   "cell_type": "code",
   "execution_count": null,
   "metadata": {
    "id": "M089hwRlxhDY"
   },
   "outputs": [],
   "source": [
    "# TAKHLE NE!\n",
    "def posli_email_seznamu_klientu(klienti):\n",
    "    for klient in klienti:\n",
    "        if klient.je_aktivni:\n",
    "            email(klient)"
   ]
  },
  {
   "cell_type": "code",
   "execution_count": null,
   "metadata": {
    "id": "NamgDjSFxhDY"
   },
   "outputs": [],
   "source": [
    "# TAKHLE ANO!\n",
    "def jen_aktivni_klienti(klienti):\n",
    "    return [klient for klient in klienti if klient.je_aktivni]\n",
    "\n",
    "def posli_email():\n",
    "    pass"
   ]
  },
  {
   "cell_type": "markdown",
   "metadata": {
    "id": "vBdOimfpxhDY"
   },
   "source": [
    "#### **5. Počítá se jen to, co je doma**\n",
    "\n",
    "funkce pracuje pouze **s vlastními parametry** (proměnnými):"
   ]
  },
  {
   "cell_type": "code",
   "execution_count": null,
   "metadata": {
    "id": "jzhuHFOExhDY"
   },
   "outputs": [],
   "source": [
    "# TAKHLE NE!\n",
    "oddelovac = \"---\"\n",
    "datum = \"01.01.2001\"\n",
    "\n",
    "def vytvor_zpravu(autor, zapis):\n",
    "    vytvor_hlavicku(datum, oddelovac)\n",
    "    vytvor_text(autor, zapis)"
   ]
  },
  {
   "cell_type": "code",
   "execution_count": null,
   "metadata": {
    "id": "Y5kNV91FxhDY"
   },
   "outputs": [],
   "source": [
    "# TAKHLE ANO!\n",
    "def vytvor_zpravu(autor, zapis):\n",
    "    oddelovac = \"---\"\n",
    "    vytvor_hlavicku(dnesni_datum(), oddelovac)\n",
    "    vytvor_text(autor, zapis)\n",
    "\n",
    "def dnesni_datum():\n",
    "    pass"
   ]
  },
  {
   "cell_type": "markdown",
   "metadata": {
    "id": "HYo1dAa4xhDY"
   },
   "source": [
    "😍 Interpret Pythonu miluje funkce! 😍 Vytváří oddělená prostředí pro proměnné, se kterými efektivněji pracuje."
   ]
  }
 ],
 "metadata": {
  "colab": {
   "authorship_tag": "ABX9TyN4sZgo8c8j7xmKnots8nkP",
   "provenance": []
  },
  "kernelspec": {
   "display_name": "Python 3 (ipykernel)",
   "language": "python",
   "name": "python3"
  },
  "language_info": {
   "codemirror_mode": {
    "name": "ipython",
    "version": 3
   },
   "file_extension": ".py",
   "mimetype": "text/x-python",
   "name": "python",
   "nbconvert_exporter": "python",
   "pygments_lexer": "ipython3",
   "version": "3.10.0"
  }
 },
 "nbformat": 4,
 "nbformat_minor": 1
}
