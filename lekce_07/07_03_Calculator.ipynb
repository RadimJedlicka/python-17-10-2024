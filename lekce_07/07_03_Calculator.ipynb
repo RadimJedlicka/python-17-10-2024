{
 "cells": [
  {
   "cell_type": "markdown",
   "metadata": {
    "id": "PKgkK83IC3QW"
   },
   "source": [
    "<h6 align=right> 🐍 Python akademie - lekce 8 - 28.11.2024</h6>"
   ]
  },
  {
   "cell_type": "markdown",
   "metadata": {
    "id": "CJUbY9UgC7P-"
   },
   "source": [
    "# <h1 align=center><font color=black size=24><b> 🔢 Calculator</font></h1>\n",
    "\n",
    "<div align=center> (praktická úloha na závěr 8. lekce)</div>\n",
    "\n",
    "<br>\n",
    "\n",
    "---"
   ]
  },
  {
   "cell_type": "markdown",
   "metadata": {
    "id": "9w3tuo0wv8vi"
   },
   "source": []
  },
  {
   "cell_type": "markdown",
   "metadata": {
    "id": "LFEat4jtDI3y"
   },
   "source": [
    "## **Zadání**\n",
    "\n",
    "S pomocí znalostí funkcí, pojďme zkusit napsat naši vlastní **kalkulačku** v **příkazovém řádku**.\n",
    "\n",
    "<br>\n",
    "\n",
    "Kalkulačka bude umět **sčítat**, **odčítat**, **násobit** a **dělit**. Dále musí umět **umocnit** libovolné číslo libovolným mocnitelem a vypočítat **průměrnou hodnotu** z různě dlouhé sekvence čísel.\n",
    "\n",
    "<br>\n",
    "\n",
    "<a href=\"https://imgur.com/Ip7aQFF\"><img src=\"https://i.imgur.com/Ip7aQFF.gif\" title=\"source: imgur.com\" /></a>\n",
    "\n",
    "<br>\n"
   ]
  },
  {
   "cell_type": "markdown",
   "metadata": {
    "id": "V_uGmjxxDfl5"
   },
   "source": [
    "<br>\n",
    "\n",
    "## **Obecné spuštění (`Main function`)**"
   ]
  },
  {
   "cell_type": "markdown",
   "metadata": {
    "id": "VIa0WDvpF2f3"
   },
   "source": [
    "```python\n",
    "def calculator() -> str:\n",
    "    \"\"\"\n",
    "    Main function\n",
    "    \"\"\"\n",
    "    print('Lets calculate!')\n",
    "\n",
    "\n",
    "calculator()\n",
    "```"
   ]
  },
  {
   "cell_type": "markdown",
   "metadata": {
    "id": "tKF940aeGAz1"
   },
   "source": [
    "<br>\n",
    "\n",
    "## **Výpis nabídky (`selection listing`)**"
   ]
  },
  {
   "cell_type": "markdown",
   "metadata": {
    "id": "Le5GvmgFGCeH"
   },
   "source": [
    "### <font color=red><b>Očekáváme:</b>\n",
    "\n",
    "```\n",
    "$ python3 calculator.py\n",
    "--------------------------------\n",
    "+ | - | * | / | sum | pow | quit\n",
    "--------------------------------\n",
    "```"
   ]
  },
  {
   "cell_type": "markdown",
   "metadata": {
    "id": "52SFrFsC0vYp"
   },
   "source": []
  },
  {
   "cell_type": "markdown",
   "metadata": {
    "id": "hiP9net1GZof"
   },
   "source": [
    "### <font color=ligtblue><b> 💻 Kód:</b>"
   ]
  },
  {
   "cell_type": "code",
   "execution_count": null,
   "metadata": {
    "id": "STZ9dK_yCyyl"
   },
   "outputs": [],
   "source": [
    "def show_selection(*args) -> None:\n",
    "    \"\"\"\n",
    "    Description:\n",
    "    Connects values from *args with .join method.\n",
    "    Then adds separator before and after parameters.\n",
    "\n",
    "    Example:\n",
    "    args = (\"a\", \"b\", \"c\")\n",
    "\n",
    "    Result:\n",
    "    ---------\n",
    "    a | b | c\n",
    "    ---------\n",
    "    \"\"\"\n",
    "    joined = ' | '.join(*args)\n",
    "    separator = \"-\" * len(joined)\n",
    "    print(separator, joined, separator, sep=\"\\n\")"
   ]
  },
  {
   "cell_type": "markdown",
   "metadata": {
    "id": "WGf1nepcHRCf"
   },
   "source": [
    "<br>\n",
    "\n",
    "## **Umocňování (`power`)**"
   ]
  },
  {
   "cell_type": "markdown",
   "metadata": {
    "id": "R-KOEHELG33Q"
   },
   "source": [
    "### <font color=red><b>Očekáváme:</b>\n",
    "\n",
    "```\n",
    "Base: 5\n",
    "Exponent: 2\n",
    "5 ** 2 = 25\n",
    "```"
   ]
  },
  {
   "cell_type": "code",
   "execution_count": null,
   "metadata": {
    "id": "4ATUrnLu0-9J"
   },
   "outputs": [],
   "source": []
  },
  {
   "cell_type": "markdown",
   "metadata": {
    "id": "A_-kG46dHYH4"
   },
   "source": [
    "### <font color=ligtblue><b> 💻 Kód:</b>"
   ]
  },
  {
   "cell_type": "code",
   "execution_count": null,
   "metadata": {
    "id": "y2OimzFkGgyQ"
   },
   "outputs": [],
   "source": [
    "def power() -> int:\n",
    "    \"\"\"\n",
    "    Description:\n",
    "    Takes two inputs as parameters:\n",
    "    1. input is base\n",
    "    2. input is exponent\n",
    "\n",
    "    Example:\n",
    "    input1 = 5\n",
    "    input2 = 2\n",
    "\n",
    "    Result:\n",
    "    5 ** 2 = 25\n",
    "    \"\"\"\n",
    "    input1 = int(input('Base: '))\n",
    "    input2 = int(input('Exponent: '))\n",
    "    print(f'{input1} ** {input2} = {input1 ** input2}')"
   ]
  },
  {
   "cell_type": "code",
   "execution_count": null,
   "metadata": {
    "id": "pZvMfE1NIGQd"
   },
   "outputs": [],
   "source": [
    "# power()"
   ]
  },
  {
   "cell_type": "markdown",
   "metadata": {
    "id": "da2NCxidHqbm"
   },
   "source": [
    "<br>\n",
    "\n",
    "## **Průměrná hodnota (`count average`)**"
   ]
  },
  {
   "cell_type": "markdown",
   "metadata": {
    "id": "MuLdPLnKHuwE"
   },
   "source": [
    "### <font color=red><b>Očekáváme:</b>\n",
    "\n",
    "```\n",
    "Number: 1\n",
    "Number: 2\n",
    "Number: 3\n",
    "Number: 4\n",
    "Number: 5\n",
    "Number: =\n",
    "Average is 3.0\n",
    "```"
   ]
  },
  {
   "cell_type": "markdown",
   "metadata": {
    "id": "E9XpvGuKIVY2"
   },
   "source": [
    "### <font color=ligtblue><b> 💻 Kód:</b>"
   ]
  },
  {
   "cell_type": "code",
   "execution_count": null,
   "metadata": {
    "id": "XLJZRXnlHtD9"
   },
   "outputs": [],
   "source": [
    "# TODO Average\n",
    "def count_average() -> None:\n",
    "    \"\"\"\n",
    "    Description:\n",
    "    Takes values from input and stores them to list.\n",
    "    Values must be numeric.\n",
    "    If input '=', func calculates average as sum/lengh of list.\n",
    "\n",
    "    Example:\n",
    "    numbers = [1, 2, 3, 4, 5]\n",
    "\n",
    "    Result:\n",
    "    Average = 3\n",
    "    \"\"\"\n",
    "    numbers = list()\n",
    "\n",
    "    while (value := input('Number: ')) != '=':\n",
    "        if value.isnumeric():\n",
    "            numbers.append(int(value))\n",
    "\n",
    "    result = sum(numbers) / len(numbers)\n",
    "\n",
    "    print(f'Average is {result}')"
   ]
  },
  {
   "cell_type": "code",
   "execution_count": null,
   "metadata": {
    "colab": {
     "base_uri": "https://localhost:8080/"
    },
    "executionInfo": {
     "elapsed": 10743,
     "status": "ok",
     "timestamp": 1676498958839,
     "user": {
      "displayName": "Radim Jedlička",
      "userId": "11502208915568361358"
     },
     "user_tz": -60
    },
    "id": "Flpf_PbhH69u",
    "outputId": "62229900-65bc-4ba6-fb43-bc3f44ae6c14"
   },
   "outputs": [
    {
     "name": "stdout",
     "output_type": "stream",
     "text": [
      "Number: 1\n",
      "Number: 2\n",
      "Number: 3\n",
      "Number: 4\n",
      "Number: 5\n",
      "Number: =\n",
      "Average is 3.0\n"
     ]
    }
   ],
   "source": [
    "# count_average()"
   ]
  },
  {
   "cell_type": "markdown",
   "metadata": {
    "id": "QtsNfTwCJrPh"
   },
   "source": [
    "<br>\n",
    "\n",
    "## **Počítání se základními aritm. operátory (`basic arithmetic operators`)**"
   ]
  },
  {
   "cell_type": "markdown",
   "metadata": {
    "id": "TiwG5ovcJwdB"
   },
   "source": [
    "### <font color=red><b>Očekáváme:</b>\n",
    "\n",
    "```\n",
    "Select number or operator, \"=\" for result: 5\n",
    "Select number or operator, \"=\" for result: +\n",
    "Select number or operator, \"=\" for result: 5\n",
    "Select number or operator, \"=\" for result: -\n",
    "Select number or operator, \"=\" for result: 4\n",
    "Select number or operator, \"=\" for result: =\n",
    "5+5-4 = 6\n",
    "```"
   ]
  },
  {
   "cell_type": "markdown",
   "metadata": {
    "id": "1E4b8CNyKO0c"
   },
   "source": [
    "### <font color=ligtblue><b> 💻 Kód:</b>"
   ]
  },
  {
   "cell_type": "code",
   "execution_count": null,
   "metadata": {
    "id": "dsoH2CAMJ1uh"
   },
   "outputs": [],
   "source": [
    "# TODO Basic arithmetic operators\n",
    "def calculate_arithmetic_op() -> None:\n",
    "    entry = ''\n",
    "\n",
    "    while True:\n",
    "        button = input('Select number or operator, \"=\" for result: ')\n",
    "\n",
    "        if button.isnumeric() or button in ('+', '-', '*', '/'):\n",
    "            entry += button\n",
    "        elif button == '=':\n",
    "            print(f'{entry} = {eval(entry)}')\n",
    "            break"
   ]
  },
  {
   "cell_type": "code",
   "execution_count": null,
   "metadata": {
    "colab": {
     "base_uri": "https://localhost:8080/"
    },
    "executionInfo": {
     "elapsed": 11357,
     "status": "ok",
     "timestamp": 1676499506838,
     "user": {
      "displayName": "Radim Jedlička",
      "userId": "11502208915568361358"
     },
     "user_tz": -60
    },
    "id": "fZME_XeQJ2MN",
    "outputId": "1c04f929-c765-4a7b-b8c0-bced1397b51c"
   },
   "outputs": [
    {
     "name": "stdout",
     "output_type": "stream",
     "text": [
      "Select number or operator, \"=\" for result: 5\n",
      "Select number or operator, \"=\" for result: +\n",
      "Select number or operator, \"=\" for result: 5\n",
      "Select number or operator, \"=\" for result: -\n",
      "Select number or operator, \"=\" for result: 4\n",
      "Select number or operator, \"=\" for result: =\n",
      "5+5-4 = 6\n"
     ]
    }
   ],
   "source": [
    "# calculate_arithmetic_op()"
   ]
  },
  {
   "cell_type": "markdown",
   "metadata": {
    "id": "flYeEvtTKNqG"
   },
   "source": [
    "<br>\n",
    "\n",
    "## **Main function:**"
   ]
  },
  {
   "cell_type": "markdown",
   "metadata": {
    "id": "3EuiqY6kKt_A"
   },
   "source": [
    "### <font color=red><b>Očekáváme:</b>\n",
    "\n",
    "```\n",
    "--------------------------------\n",
    "+ | - | * | / | pow | sum | quit\n",
    "--------------------------------\n",
    "Select operation: pow\n",
    "Base: 10\n",
    "Exponent: 10\n",
    "10 ** 10 = 10000000000\n",
    "--------------------------------\n",
    "+ | - | * | / | pow | sum | quit\n",
    "--------------------------------\n",
    "Select operation: quit\n",
    "Good bye\n",
    "```"
   ]
  },
  {
   "cell_type": "markdown",
   "metadata": {
    "id": "h8rQyxIiK0yJ"
   },
   "source": [
    "### <font color=ligtblue><b> 💻 Kód:</b>"
   ]
  },
  {
   "cell_type": "code",
   "execution_count": null,
   "metadata": {
    "id": "AOmgy7_wKV5F"
   },
   "outputs": [],
   "source": [
    "# TODO main function\n",
    "import os\n",
    "\n",
    "def calculator() -> str:\n",
    "    selection = ('+', '-', '*', '/', 'pow', 'sum', 'quit')\n",
    "\n",
    "    while True:\n",
    "        show_selection(selection)\n",
    "        choice = input('Select operation: ')\n",
    "        os.system('cls')\n",
    "\n",
    "        if choice == 'quit':\n",
    "            print('Good bye')\n",
    "            break\n",
    "        elif choice in ('+', '-', '*', '/'):\n",
    "            calculate_arithmetic_op()\n",
    "        elif choice in 'pow':\n",
    "            power()\n",
    "        elif choice in 'sum':\n",
    "            count_average()"
   ]
  },
  {
   "cell_type": "code",
   "execution_count": null,
   "metadata": {
    "colab": {
     "base_uri": "https://localhost:8080/"
    },
    "executionInfo": {
     "elapsed": 34679,
     "status": "ok",
     "timestamp": 1676499663076,
     "user": {
      "displayName": "Radim Jedlička",
      "userId": "11502208915568361358"
     },
     "user_tz": -60
    },
    "id": "kK1ihVfRKbdp",
    "outputId": "832831b1-11db-4536-974d-bcce7e6312a4"
   },
   "outputs": [
    {
     "name": "stdout",
     "output_type": "stream",
     "text": [
      "--------------------------------\n",
      "+ | - | * | / | pow | sum | quit\n",
      "--------------------------------\n",
      "Select operation: pow\n",
      "Base: 10\n",
      "Exponent: 10\n",
      "10 ** 10 = 10000000000\n",
      "--------------------------------\n",
      "+ | - | * | / | pow | sum | quit\n",
      "--------------------------------\n",
      "Select operation: quit\n",
      "Good bye\n"
     ]
    }
   ],
   "source": [
    "# calculator()"
   ]
  },
  {
   "cell_type": "markdown",
   "metadata": {
    "id": "tUy5-EjmK60k"
   },
   "source": [
    "<br>\n",
    "\n",
    "## **Whole script:**"
   ]
  },
  {
   "cell_type": "code",
   "execution_count": null,
   "metadata": {
    "id": "yUgB1zOvK88G"
   },
   "outputs": [],
   "source": [
    "# TODO imports\n",
    "import os\n",
    "\n",
    "# TODO main function\n",
    "def calculator() -> str:\n",
    "    selection = ('+', '-', '*', '/', 'pow', 'avg', 'quit')\n",
    "\n",
    "    while True:\n",
    "        show_selection(selection)\n",
    "        choice = input('Select operation: ')\n",
    "        os.system('cls')\n",
    "\n",
    "        if choice == 'quit':\n",
    "            print('Good bye')\n",
    "            break\n",
    "        elif choice in ('+', '-', '*', '/'):\n",
    "            calculate_arithmetic_op()\n",
    "        elif choice in 'pow':\n",
    "            power()\n",
    "        elif choice in 'avg':\n",
    "            count_average()\n",
    "\n",
    "\n",
    "\n",
    "# TODO Selection listing\n",
    "def show_selection(*args) -> str:\n",
    "    \"\"\"\n",
    "    Description:\n",
    "    Connects values from *args with .join method.\n",
    "    Then adds separator before and after parameters.\n",
    "\n",
    "    Example:\n",
    "    args = (\"a\", \"b\", \"c\")\n",
    "\n",
    "    Result:\n",
    "    ---------\n",
    "    a | b | c\n",
    "    ---------\n",
    "    \"\"\"\n",
    "    joined = ' | '.join(*args)\n",
    "    separator = \"-\" * len(joined)\n",
    "    print(separator, joined, separator, sep=\"\\n\")\n",
    "\n",
    "\n",
    "# TODO power\n",
    "def power() -> None:\n",
    "    \"\"\"\n",
    "    Description:\n",
    "    Takes two inputs as parameters:\n",
    "    1. input is base\n",
    "    2. input is exponent\n",
    "\n",
    "    Example:\n",
    "    input1 = 5\n",
    "    input2 = 2\n",
    "\n",
    "    Result:\n",
    "    5 ** 2 = 25\n",
    "    \"\"\"\n",
    "    input1 = int(input('Base: '))\n",
    "    input2 = int(input('Exponent: '))\n",
    "    print(f'{input1} ** {input2} = {input1 ** input2}')\n",
    "\n",
    "\n",
    "# TODO Average\n",
    "def count_average() -> None:\n",
    "    \"\"\"\n",
    "    Description:\n",
    "    Takes values from input and stores them to list.\n",
    "    Values must be numeric.\n",
    "    If input '=', func calculates average as sum/lengh of list.\n",
    "\n",
    "    Example:\n",
    "    numbers = [1, 2, 3, 4, 5]\n",
    "\n",
    "    Result:\n",
    "    Average = 3\n",
    "    \"\"\"\n",
    "    # numbers = list()\n",
    "\n",
    "    # while (value := input('Number: ')) != '=':\n",
    "    #     if value.isnumeric():\n",
    "    #         numbers.append(int(value))\n",
    "\n",
    "    # result = sum(numbers) / len(numbers)\n",
    "\n",
    "    # print(f'Average is {result}')\n",
    "    numbers = list()\n",
    "    value = int()\n",
    "    while value != \"quit\":\n",
    "        value = input('Value: ')\n",
    "        if value.isnumeric():\n",
    "            numbers.append(int(value))\n",
    "\n",
    "    result = sum(numbers) / len(numbers)\n",
    "\n",
    "    print(f'Average is {result}')\n",
    "\n",
    "\n",
    "# TODO Basic arithmetic operators\n",
    "def calculate_arithmetic_op() -> None:\n",
    "    entry = ''\n",
    "\n",
    "    while True:\n",
    "        button = input('Select number or operator, \"=\" for result: ')\n",
    "\n",
    "        if button.isnumeric() or button in ('+', '-', '*', '/'):\n",
    "            entry += button\n",
    "        elif button == '=':\n",
    "            print(f'{entry} = {eval(entry)}')\n",
    "            break\n",
    "\n",
    "\n",
    "if __name__ == '__main__':\n",
    "    calculator()\n",
    "\n"
   ]
  }
 ],
 "metadata": {
  "colab": {
   "authorship_tag": "ABX9TyOpJegv94fnfOVKnACDUlfW",
   "provenance": []
  },
  "kernelspec": {
   "display_name": "Python 3 (ipykernel)",
   "language": "python",
   "name": "python3"
  },
  "language_info": {
   "codemirror_mode": {
    "name": "ipython",
    "version": 3
   },
   "file_extension": ".py",
   "mimetype": "text/x-python",
   "name": "python",
   "nbconvert_exporter": "python",
   "pygments_lexer": "ipython3",
   "version": "3.10.0"
  }
 },
 "nbformat": 4,
 "nbformat_minor": 1
}
