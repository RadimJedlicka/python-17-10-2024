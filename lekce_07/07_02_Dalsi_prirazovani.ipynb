{
 "cells": [
  {
   "cell_type": "markdown",
   "metadata": {
    "id": "OB8h6BsXdoT4"
   },
   "source": [
    "<h6 align=right> 🐍 Python akademie - lekce 7 - 28.11.2024</h6>"
   ]
  },
  {
   "cell_type": "markdown",
   "metadata": {
    "id": "lBYecPDpMh8D"
   },
   "source": [
    "<br>\n",
    "\n",
    "# <h1 align=center><font color=black size=24><b> 07_02: Další přiřazování</font></h1>\n",
    "\n",
    "<br>\n",
    "\n",
    "---"
   ]
  },
  {
   "cell_type": "markdown",
   "metadata": {
    "id": "J6Bi8Pf_NoSw"
   },
   "source": [
    "<br>\n",
    "\n",
    "### **Zajímavé odkazy z této lekce:**\n",
    "\n",
    "---\n",
    "\n",
    "* [Zajímavé příklady vícenásobného přiřazování](https://www.tutorialkart.com/python/python-assign-multiple-variables-with-single-value-in-a-single-line/)\n",
    "* [Augmented assignment operators](https://www.codesansar.com/python-programming/augmented-assignment-operators.htm)\n",
    "* [Oficiální dokumentace zkráceného přírazování](https://www.python.org/dev/peps/pep-0203/)\n",
    "\n",
    "\n",
    "\n",
    "<br>"
   ]
  },
  {
   "cell_type": "markdown",
   "metadata": {
    "id": "3F2N93vGNLzC"
   },
   "source": [
    "<br>\n",
    "\n",
    "## **Vícenásobné přiřazení hodnot**\n",
    "\n",
    "---"
   ]
  },
  {
   "cell_type": "markdown",
   "metadata": {
    "id": "avjk4RKcxhDZ"
   },
   "source": [
    "Doposud přiřazuješ hodnoty k odkazům tímto způsobem:"
   ]
  },
  {
   "cell_type": "code",
   "execution_count": 1,
   "metadata": {
    "id": "6ciA6kAMxhDZ"
   },
   "outputs": [],
   "source": [
    "jmeno = \"Matous\""
   ]
  },
  {
   "cell_type": "code",
   "execution_count": 2,
   "metadata": {
    "colab": {
     "base_uri": "https://localhost:8080/"
    },
    "executionInfo": {
     "elapsed": 4,
     "status": "ok",
     "timestamp": 1676232209653,
     "user": {
      "displayName": "Radim Jedlička",
      "userId": "11502208915568361358"
     },
     "user_tz": -60
    },
    "id": "QaQtr5DPxhDZ",
    "outputId": "a2c7a1d7-421b-4cbf-92c7-37f8064a3cdc"
   },
   "outputs": [
    {
     "name": "stdout",
     "output_type": "stream",
     "text": [
      "Matous\n"
     ]
    }
   ],
   "source": [
    "print(jmeno)"
   ]
  },
  {
   "cell_type": "code",
   "execution_count": 3,
   "metadata": {
    "id": "lNG6DhJyxhDa"
   },
   "outputs": [],
   "source": [
    "jmeno_1 = [\"Matous\", \"Lukas\"][0]"
   ]
  },
  {
   "cell_type": "code",
   "execution_count": 4,
   "metadata": {
    "id": "k0T66iAOxhDa"
   },
   "outputs": [],
   "source": [
    "jmeno_2 = [\"Matous\", \"Lukas\"][1]"
   ]
  },
  {
   "cell_type": "code",
   "execution_count": 5,
   "metadata": {
    "colab": {
     "base_uri": "https://localhost:8080/"
    },
    "executionInfo": {
     "elapsed": 13,
     "status": "ok",
     "timestamp": 1676232223543,
     "user": {
      "displayName": "Radim Jedlička",
      "userId": "11502208915568361358"
     },
     "user_tz": -60
    },
    "id": "WP41YAVGxhDa",
    "outputId": "324644e5-afa6-4add-d045-017db6f0af30"
   },
   "outputs": [
    {
     "name": "stdout",
     "output_type": "stream",
     "text": [
      "Matous\n",
      "Lukas\n"
     ]
    }
   ],
   "source": [
    "print(jmeno_1, jmeno_2, sep=\"\\n\")"
   ]
  },
  {
   "cell_type": "markdown",
   "metadata": {
    "id": "g6xhv_FCxhDa"
   },
   "source": [
    "Současně ale existují i **další varianty přiřazení** hodnoty/hodnot."
   ]
  },
  {
   "cell_type": "markdown",
   "metadata": {
    "id": "Gxgah_S3OqG6"
   },
   "source": [
    "<br>\n",
    "\n",
    "### **Vícenásobné přiřazení (LS = PS)**"
   ]
  },
  {
   "cell_type": "markdown",
   "metadata": {
    "id": "iYRPCXsMOoVH"
   },
   "source": [
    "Pokud máš na pravé straně (PS) více hodnot, můžeš je rozdělit.\n",
    "\n",
    "Rozdělení probíhá následovně:"
   ]
  },
  {
   "cell_type": "code",
   "execution_count": 6,
   "metadata": {
    "id": "x8J4FUTKxhDa"
   },
   "outputs": [],
   "source": [
    "jmeno_1, jmeno_2 = [\"Matous\", \"Jan\"]  # LS: 2 nazvy promennych = PS: 2 udaje"
   ]
  },
  {
   "cell_type": "code",
   "execution_count": 7,
   "metadata": {
    "colab": {
     "base_uri": "https://localhost:8080/"
    },
    "executionInfo": {
     "elapsed": 529,
     "status": "ok",
     "timestamp": 1676232340128,
     "user": {
      "displayName": "Radim Jedlička",
      "userId": "11502208915568361358"
     },
     "user_tz": -60
    },
    "id": "2sTm04RuxhDa",
    "outputId": "d638c199-2acb-47c8-8d60-d59e4a5d9321"
   },
   "outputs": [
    {
     "name": "stdout",
     "output_type": "stream",
     "text": [
      "Matous\n",
      "Jan\n"
     ]
    }
   ],
   "source": [
    "print(jmeno_1, jmeno_2, sep=\"\\n\")"
   ]
  },
  {
   "cell_type": "code",
   "execution_count": 8,
   "metadata": {},
   "outputs": [],
   "source": [
    "jmeno_3, jmeno_4 = \"Matous\", \"Jan\""
   ]
  },
  {
   "cell_type": "code",
   "execution_count": 9,
   "metadata": {},
   "outputs": [
    {
     "data": {
      "text/plain": [
       "'Matous'"
      ]
     },
     "execution_count": 9,
     "metadata": {},
     "output_type": "execute_result"
    }
   ],
   "source": [
    "jmeno_3"
   ]
  },
  {
   "cell_type": "markdown",
   "metadata": {
    "id": "hLBGjwkyxhDb"
   },
   "source": [
    "Přiřazování při vrácených hodnotách:"
   ]
  },
  {
   "cell_type": "code",
   "execution_count": 10,
   "metadata": {
    "id": "V2ehVVoWxhDb"
   },
   "outputs": [],
   "source": [
    "def pomocna_f():\n",
    "    return (11, \"20\")"
   ]
  },
  {
   "cell_type": "code",
   "execution_count": 11,
   "metadata": {
    "id": "OOis6G1TxhDb"
   },
   "outputs": [],
   "source": [
    "cislo, string = pomocna_f()"
   ]
  },
  {
   "cell_type": "code",
   "execution_count": 12,
   "metadata": {
    "colab": {
     "base_uri": "https://localhost:8080/"
    },
    "executionInfo": {
     "elapsed": 388,
     "status": "ok",
     "timestamp": 1676232358171,
     "user": {
      "displayName": "Radim Jedlička",
      "userId": "11502208915568361358"
     },
     "user_tz": -60
    },
    "id": "DOatFCL7xhDb",
    "outputId": "9d2c9de5-69c5-4265-eae0-eb4997dac28a"
   },
   "outputs": [
    {
     "name": "stdout",
     "output_type": "stream",
     "text": [
      "11\n",
      "20\n"
     ]
    }
   ],
   "source": [
    "print(cislo, string, sep=\"\\n\")"
   ]
  },
  {
   "cell_type": "markdown",
   "metadata": {
    "id": "6qmJIrsxxhDb"
   },
   "source": [
    "Hodnot a proměnných může být samozřejmě více.\n",
    "\n",
    "Zásádní je dodržet s tímto zápisem pravidlo, kolik hodnot, tolik proměnných."
   ]
  },
  {
   "cell_type": "code",
   "execution_count": 16,
   "metadata": {
    "colab": {
     "base_uri": "https://localhost:8080/",
     "height": 165
    },
    "executionInfo": {
     "elapsed": 436,
     "status": "error",
     "timestamp": 1676232365014,
     "user": {
      "displayName": "Radim Jedlička",
      "userId": "11502208915568361358"
     },
     "user_tz": -60
    },
    "id": "rnwMGrOjxhDc",
    "outputId": "67de2365-d00c-4fca-b36d-29837dc7c15c"
   },
   "outputs": [],
   "source": [
    "jmeno_1, jmeno_2 = [\"Matous\", \"Lukas\", \"Petr\"]"
   ]
  },
  {
   "cell_type": "code",
   "execution_count": 15,
   "metadata": {
    "colab": {
     "base_uri": "https://localhost:8080/",
     "height": 165
    },
    "executionInfo": {
     "elapsed": 383,
     "status": "error",
     "timestamp": 1676232374346,
     "user": {
      "displayName": "Radim Jedlička",
      "userId": "11502208915568361358"
     },
     "user_tz": -60
    },
    "id": "wgAFNCcYxhDd",
    "outputId": "c2baed64-6abd-436e-b2ca-5a1aa5e40197"
   },
   "outputs": [],
   "source": [
    "jmeno_1, jmeno_2, jmeno_3 = [\"Matous\", \"Lukas\", '']"
   ]
  },
  {
   "cell_type": "code",
   "execution_count": null,
   "metadata": {},
   "outputs": [],
   "source": [
    "jmeno_1, jmeno_2, jmeno_3 = [\"Matous\", \"Lukas\"]"
   ]
  },
  {
   "cell_type": "markdown",
   "metadata": {
    "id": "6bywC0HQPMp0"
   },
   "source": [
    "<br>\n",
    "\n",
    "### **Vícenásobné přiřazení s hvězdičkou (*)**"
   ]
  },
  {
   "cell_type": "markdown",
   "metadata": {
    "id": "EqFnfYv-xhDe"
   },
   "source": [
    "Syntaxe je velice podobná té předchozí.\n",
    "\n",
    "Nicméně doplněná hvězdička má za účel sbalit všechny zbývající hodnoty do jedinné proměnné."
   ]
  },
  {
   "cell_type": "code",
   "execution_count": 17,
   "metadata": {
    "id": "faTqGUdrxhDj"
   },
   "outputs": [],
   "source": [
    "jmeno_1, jmeno_2, *zbytek_jmen = [\"Matous\", \"Marek\", \"Lukas\", \"Jan\"]"
   ]
  },
  {
   "cell_type": "code",
   "execution_count": 18,
   "metadata": {
    "colab": {
     "base_uri": "https://localhost:8080/"
    },
    "executionInfo": {
     "elapsed": 1034,
     "status": "ok",
     "timestamp": 1676232455765,
     "user": {
      "displayName": "Radim Jedlička",
      "userId": "11502208915568361358"
     },
     "user_tz": -60
    },
    "id": "HcoW43IjxhDj",
    "outputId": "05a04002-402b-43b5-989c-4e6d3c484842"
   },
   "outputs": [
    {
     "name": "stdout",
     "output_type": "stream",
     "text": [
      "Matous\n",
      "Marek\n",
      "['Lukas', 'Jan']\n"
     ]
    }
   ],
   "source": [
    "print(jmeno_1, jmeno_2, zbytek_jmen, sep=\"\\n\")"
   ]
  },
  {
   "cell_type": "markdown",
   "metadata": {
    "id": "isdTH1_1xhDj"
   },
   "source": [
    "Všimněte si jak se hodnoty v proměnných změní, pokud změníme pořadí, kdy hvězdičku zapíšeme:"
   ]
  },
  {
   "cell_type": "code",
   "execution_count": 19,
   "metadata": {
    "id": "ObbbAKqcxhDj"
   },
   "outputs": [],
   "source": [
    "jmeno_1, *zbytek_jmen, jmeno_2 = [\"Matous\", \"Marek\", \"Lukas\", \"Jan\"]"
   ]
  },
  {
   "cell_type": "code",
   "execution_count": 20,
   "metadata": {
    "colab": {
     "base_uri": "https://localhost:8080/"
    },
    "executionInfo": {
     "elapsed": 3,
     "status": "ok",
     "timestamp": 1676232516168,
     "user": {
      "displayName": "Radim Jedlička",
      "userId": "11502208915568361358"
     },
     "user_tz": -60
    },
    "id": "NAruIQYSxhDk",
    "outputId": "610fc111-9772-42fd-fa93-49eda93c5444"
   },
   "outputs": [
    {
     "name": "stdout",
     "output_type": "stream",
     "text": [
      "Matous\n",
      "['Marek', 'Lukas']\n",
      "Jan\n"
     ]
    }
   ],
   "source": [
    "print(jmeno_1, zbytek_jmen, jmeno_2, sep=\"\\n\")"
   ]
  },
  {
   "cell_type": "code",
   "execution_count": 21,
   "metadata": {
    "id": "y8M8SwO0xhDk"
   },
   "outputs": [],
   "source": [
    "jmeno_1, *zbytek_jmen, jmeno_2, jmeno_3 = [\"Matous\", \"Marek\", \"Lukas\", \"Jan\", \"Petr\", \"Krystof\"]"
   ]
  },
  {
   "cell_type": "code",
   "execution_count": 22,
   "metadata": {
    "colab": {
     "base_uri": "https://localhost:8080/"
    },
    "executionInfo": {
     "elapsed": 416,
     "status": "ok",
     "timestamp": 1676232525876,
     "user": {
      "displayName": "Radim Jedlička",
      "userId": "11502208915568361358"
     },
     "user_tz": -60
    },
    "id": "qncoslIExhDk",
    "outputId": "54cdab7e-ba17-4e9c-fe61-c522f9c35f86"
   },
   "outputs": [
    {
     "name": "stdout",
     "output_type": "stream",
     "text": [
      "Matous\n",
      "Petr\n",
      "Krystof\n",
      "['Marek', 'Lukas', 'Jan']\n"
     ]
    }
   ],
   "source": [
    "print(jmeno_1, jmeno_2, jmeno_3, zbytek_jmen, sep=\"\\n\")"
   ]
  },
  {
   "cell_type": "markdown",
   "metadata": {
    "id": "kz64cYaSPtQh"
   },
   "source": [
    "<br>\n",
    "\n",
    "## **Zkrácené přiřazování (~augmented assignment)**\n",
    "\n",
    "---"
   ]
  },
  {
   "cell_type": "code",
   "execution_count": null,
   "metadata": {
    "colab": {
     "base_uri": "https://localhost:8080/"
    },
    "executionInfo": {
     "elapsed": 417,
     "status": "ok",
     "timestamp": 1676232757609,
     "user": {
      "displayName": "Radim Jedlička",
      "userId": "11502208915568361358"
     },
     "user_tz": -60
    },
    "id": "2JYrJ1wLQckr",
    "outputId": "4b6e487f-6b07-4b9b-b8f5-89a85adf927c"
   },
   "outputs": [],
   "source": [
    "x = 10\n",
    "\n",
    "x = x + 5\n",
    "\n",
    "x"
   ]
  },
  {
   "cell_type": "markdown",
   "metadata": {
    "id": "cVtJomn9Srxu"
   },
   "source": [
    "V klasickém zápisu musí python udělat několik kroků:\n",
    "\n",
    "1. zavolat proměnnou `x`\n",
    "2. přičíst k ní pětku"
   ]
  },
  {
   "cell_type": "code",
   "execution_count": null,
   "metadata": {
    "colab": {
     "base_uri": "https://localhost:8080/"
    },
    "executionInfo": {
     "elapsed": 354,
     "status": "ok",
     "timestamp": 1676232788545,
     "user": {
      "displayName": "Radim Jedlička",
      "userId": "11502208915568361358"
     },
     "user_tz": -60
    },
    "id": "xfEmQdtoQgkl",
    "outputId": "21813acd-b6f2-4f6f-e9f1-3d166dc2d4b9"
   },
   "outputs": [],
   "source": [
    "a = 10\n",
    "\n",
    "a += 5\n",
    "\n",
    "a"
   ]
  },
  {
   "cell_type": "markdown",
   "metadata": {
    "id": "MGCjq1YEQu2w"
   },
   "source": [
    "Ve zkráceném přiřazení python udělá oba kroky v jeden moment, což je výpočetně výhodnější, ikdyž počet řádků kódu to nesníží."
   ]
  }
 ],
 "metadata": {
  "colab": {
   "authorship_tag": "ABX9TyMgzb9fT7fnGh37VY6q8zPX",
   "provenance": []
  },
  "kernelspec": {
   "display_name": "Python 3 (ipykernel)",
   "language": "python",
   "name": "python3"
  },
  "language_info": {
   "codemirror_mode": {
    "name": "ipython",
    "version": 3
   },
   "file_extension": ".py",
   "mimetype": "text/x-python",
   "name": "python",
   "nbconvert_exporter": "python",
   "pygments_lexer": "ipython3",
   "version": "3.10.0"
  }
 },
 "nbformat": 4,
 "nbformat_minor": 1
}
