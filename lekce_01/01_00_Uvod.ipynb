{
 "cells": [
  {
   "cell_type": "markdown",
   "metadata": {
    "id": "Vclqfc9JND_X"
   },
   "source": [
    "<h6 align=right> 🐍 Python akademie - lekce 1 - 17.10.2024</h6>"
   ]
  },
  {
   "cell_type": "markdown",
   "metadata": {
    "id": "XQBbg-YuNumZ"
   },
   "source": [
    "<br>\n",
    "\n",
    "# <h1 align=center><font color=black size=24><b> 01_00 🔰 Úvodní lekce do programování v Pythonu</font></h1>\n",
    "\n",
    "<br>\n",
    "\n",
    "---"
   ]
  },
  {
   "cell_type": "markdown",
   "metadata": {
    "id": "DYpRximsOXA7"
   },
   "source": [
    "<br>\n",
    "\n",
    "## **Programování, úvod**\n",
    "\n",
    "---"
   ]
  },
  {
   "cell_type": "markdown",
   "metadata": {
    "id": "v-HsdmUbPNvd"
   },
   "source": [
    "#### **Co je to programování?**\n",
    "\n",
    "V nejjednodušším slova smyslu jde o **předávání instrukcí** počítačům.\n",
    "\n",
    "<br>\n",
    "\n",
    "Instrukcemi myslíme nějaký **program (kód)**, který obsahuje zadání, jak má počítač postupovat.\n",
    "\n",
    "<br>"
   ]
  },
  {
   "cell_type": "markdown",
   "metadata": {
    "id": "acwcoLoWv6_N"
   },
   "source": [
    "### **Historie programování**\n",
    "\n",
    "Sahá až do **starověkého Řecka**.\n",
    "\n",
    "<br>\n",
    "\n",
    "První známou programátorkou byla **Ada Lovelace** (1850).\n",
    "\n",
    "Více si můžeš přečíst třeba na [wiki](https://cs.wikipedia.org/wiki/Programov%C3%A1n%C3%AD).\n",
    "\n",
    "<br>\n",
    "\n",
    "Něco málo o historii a vývoji programovacích jazyků se můžeš dočíst třeba [tady](https://club.coolpeople.cz/historie-a-vyvoj-programovacich-jazyku/1778.html).\n",
    "\n",
    "<br>"
   ]
  },
  {
   "cell_type": "markdown",
   "metadata": {
    "id": "6REBiip1Poo1"
   },
   "source": [
    "### **Proč se učit programovat?**\n",
    "\n",
    "Chceme, aby pro nás **počítače vykonaly nějaký úkol** (jednou/opakovaně).\n",
    "\n",
    "<br>\n",
    "\n",
    "Bohužel, počítače neumí češtinu ani jiný lidský jazyk (zatím). Nerozumí tomu, co my říkáme, eventuálně píšeme. Počítače rozumí pouze **strojovému kódu** (tedy jedničkám a nulám).\n",
    "\n",
    "<img src=\"https://i.imgur.com/ZTIUUPM.png\" width=\"900\">\n",
    "\n",
    "Proto existují programovací jazyky. Aby vytvořily **pomyslný most** mezi lidskou komunikací a strojovým kódem.\n",
    "\n",
    "<br>"
   ]
  },
  {
   "cell_type": "markdown",
   "metadata": {
    "id": "46NcSYiCP6nv"
   },
   "source": [
    "### **Proč  zrovna Python?**\n",
    "\n",
    "Některé programovací jazyky, jako je Python (dále třeba Javascript), jsou pro člověka **snadněji pochopitelné** (čitelnější).\n",
    "\n",
    "<br>\n",
    "\n",
    "Jde o tzv. **vysokoúrovňové programovací jazyky**. Ty jsou sice vzdálenější k řeči počítačů, zato jsou čitelnější pro člověka.\n",
    "\n",
    "<br>\n",
    "\n",
    "Druhou skupinou programovacích jazyků jsou **nízkoúrovňové programovací jazyky** (mají blíže k jedničkám a nulám). Např. jazyky jako C nebo Assembly. Ty jsou naopak náročnější na čtení a pochopení. Proto ne zcela vhodné pro úplné začátečníky.\n",
    "\n",
    "<img src=\"https://i.imgur.com/2cGt5AP.png\" width=\"1200\">\n",
    "\n",
    "<br>"
   ]
  },
  {
   "cell_type": "markdown",
   "metadata": {
    "id": "Ata7pssJQdGr"
   },
   "source": [
    "### **Platí to i v roce 2024?**\n",
    "\n",
    "Určitě! Python je programovací jazyk v nejlepších letech, který v únoru 2021 oslavil svoje [30. narozeniny](https://en.wikipedia.org/wiki/Python_(programming_language)).\n",
    "\n",
    "<br>\n",
    "\n",
    "A protože je v nejlepších letech, je současně [na roztrhání](https://insights.stackoverflow.com/survey/2020#technology-most-loved-dreaded-and-wanted-languages-wanted).\n",
    "\n",
    "<br>\n",
    "\n",
    "Python používají [největší technologické společnosti na světě](https://realpython.com/world-class-companies-using-python/).\n",
    "\n",
    "<br>\n",
    "\n",
    "Dále se můžete podívat na [oficiální web](https://www.python.org/) (v angličtině). Můžete se podívat na sekci [jak začít](https://www.python.org/about/gettingstarted/) (getting started) , která je určená pro nováčky.\n",
    "\n",
    "<br>"
   ]
  },
  {
   "cell_type": "markdown",
   "metadata": {
    "id": "EXMRLMt4swqG"
   },
   "source": [
    "<br>\n",
    "\n",
    "## **Kde získám Python?**\n",
    "\n",
    "---"
   ]
  },
  {
   "cell_type": "markdown",
   "metadata": {
    "id": "13gY_-J9QoaD"
   },
   "source": [
    "K instalaci jazyka Python se budeme vracet v další části kurzu, kde si instalaci krok za krokem rozebereme.\n",
    "\n",
    "<br>\n",
    "\n",
    "Pokud už ale máš nějaké zkušenosti a nemůžeš se dočkat, můžeš si Python nainstalovat. Na [tomto odkaze](https://www.python.org/downloads/) si vybereš verzi podle tvého operačního systému.\n",
    "\n",
    "<br>\n",
    "\n",
    "Po skončení instalace budeš mít k dispozici následující:\n",
    "\n",
    "1. **Základní prvky jazyka** - aby Python věděl, co to znamená `print`, `str`, cyklus a podmínka,\n",
    "\n",
    "<br>\n",
    "\n",
    "2. **Interpret Pythonu** - tedy náš \"most\", který zajistí, aby počítač porozuměl našemu zápisu. Současně je to prostředí, kde si můžeš zkoušet svůj zápis. Je napsaný v jazyce C (existují samozřejmě různé implementace př. *Jython*, *Pypy*, *RustPython*, *IronPython*)\n",
    "\n",
    "<br>\n",
    "\n",
    "3. **Některé pomocné knihovny** - o nich si povíme později.\n",
    "\n",
    "<br>\n"
   ]
  },
  {
   "cell_type": "markdown",
   "metadata": {
    "id": "aCnWwPrQs43y"
   },
   "source": [
    "<br>\n",
    "\n",
    "## **Co je to interpret?**\n",
    "\n",
    "---"
   ]
  },
  {
   "cell_type": "markdown",
   "metadata": {},
   "source": [
    "**Python interpreter** je program, který čte a spouští tvůj Python kód. Na rozdíl od některých jiných programovacích jazyků, které je potřeba nejprve zkompilovat (převést do podoby, kterou počítač chápe), Python funguje přímo. \n",
    "\n",
    "Interpreter provádí kód **krok za krokem**, což znamená, že můžeš okamžitě vidět výsledky svého programu, aniž by bylo nutné čekat na překlad celého programu.\n",
    "\n",
    "Jednoduše řečeno, Python interpreter je nástroj, který ti umožňuje okamžitě vidět, co tvůj kód dělá, což **usnadňuje učení a experimentování**."
   ]
  },
  {
   "cell_type": "markdown",
   "metadata": {
    "id": "EwjGGrRjREbe"
   },
   "source": [
    "### **Interpret Pythonu**\n",
    "\n",
    "Interpret si můžete představit jako nějaký program. Celý cyklus od zápisu, po jeho provedení probíhá následně:\n",
    "1. Vytvoříme zdrojový kód v Pythonu (s příponou `.py`)\n",
    "2. Spustíme jej pomocí interpretu Pythonu (standartní CPython)\n",
    "3. Interpret řádek po řádku vytvoří tzv. bytecode z vašeho zdrojového kódu\n",
    "4. Interpret pošle nově vytvořený bytecode do virtuálního stroje CPython\n",
    "5. Ten vrací strojový kód, tedy nuly a jedničky přímo pro váš počítač\n",
    "\n",
    "<img src=\"https://i.imgur.com/YXYOE9o.png\" width=\"1000\">\n",
    "\n",
    "<br>\n"
   ]
  },
  {
   "cell_type": "markdown",
   "metadata": {
    "id": "3XCydmHks-9u"
   },
   "source": [
    "<br>\n",
    "\n",
    "## **Potřebuji Python 2 nebo Python 3?**\n",
    "\n",
    "---"
   ]
  },
  {
   "cell_type": "markdown",
   "metadata": {
    "id": "cw-sK4_sRQck"
   },
   "source": [
    "Opatrně, není Python jako Python. Některé operační systémy (Linux, MacOS) mají velmi často **předem nainstalovaný Python se starší verzí (<2.7)**. Díky těmto, dnes již [oficiálně neudržovaným verzím](https://www.python.org/downloads/release/python-2718/) , totiž běží některé původní procesy.\n",
    "\n",
    "\n",
    "<br>\n",
    "\n",
    "My budeme pracovat s verzemi **Pythonu 3.8** a vyšší, abychom si společně mohli ukázat všechny funkce a procesy, které ve starších verzích nebyly dostupné.\n",
    "\n",
    "<br>\n",
    "\n",
    "Pokud byste chtěli vidět seznam největších změn doporučujeme skočit [sem](https://www.guru99.com/python-2-vs-python-3.html).\n",
    "\n",
    "<br>\n",
    "\n",
    "Pokud byste postupem času potřebovali proces pro převedení zdrojového kódu z verze 2 do verze 3, mrkněte na [knihovnu 2to3](https://docs.python.org/3/library/2to3.html).\n",
    "\n",
    "<br>\n"
   ]
  },
  {
   "cell_type": "markdown",
   "metadata": {
    "id": "5PNJUmp9tNWC"
   },
   "source": [
    "<br>\n",
    "\n",
    "## **Jak začít pracovat?**\n",
    "\n",
    "---"
   ]
  },
  {
   "cell_type": "markdown",
   "metadata": {
    "id": "dqN8uw9fRZOc"
   },
   "source": [
    "**V první lekci není nutné instalovat ani Python, ani žádné pracovní prostředí**. Budeme pracovat společně, v rámci těchto materiálů. K instalaci pracovního prostředí Pythonu a některého z editorů se vrátíme na začátku další lekce.\n",
    "\n",
    "Pokud už máš nějaké zkušenosti a současně máš nainstalovalovaný Python z předchozí sekce, budeš potřebovat kromě samotného jazyka ještě nějaké **pracovní prostředí**. Teoreticky ti stačí prostý textový editor na tvém počítači, ale existuje spousta šikovnějších nástrojů.\n",
    "\n",
    "**Můžeš si vybrat jednu z těchto možností** (ale konkrétních prostředí je mnohem víc):\n",
    "\n",
    "1. **Interpret** - interaktivní prostředí interpreta přímo v příkazovém řádku tvého počítače. Takto můžeš okamžitě spouštět a ověřovat jednoduché příkazy. (objeví se černá obrazovka se třemi šipkami na začátku posledního řádku `>>>`).\n",
    "\n",
    "<br>\n",
    "\n",
    "2. **Textový editor** - upravený textový editor, který umí formátovat text, napovídat, atd. Na ukázku se můžeš podívat třeba na [Sublime text](https://www.sublimetext.com/) nebo [Atom](https://atom.io/).\n",
    "\n",
    "<br>\n",
    "\n",
    "3. **Vývojařské prostředí** - zkratka **IDE** (Integrated Development Environment) je specializované prostředí obsahující různé nástroje a pomůcky (sofistikovanější, často větší než editor i náročnější na paměť). Podívej se třeba na [PyCharm](https://www.jetbrains.com/pycharm/), [Visual Studio Code](https://code.visualstudio.com/) nebo [replit](https://replit.com/).\n",
    "\n",
    "<br>\n",
    "\n",
    "4. **Notebooky** - speciální prostředí, které umožňuje využít potenciál interpretu a současně zapisovat poznámky, zobrazovat obrázky, grafy aj. Přečíst si můžeš o [projektu Jupyter](https://jupyter.org/) nebo [Google Colaboratory](https://workspace.google.com/marketplace/app/colaboratory/1014160490159).\n",
    "\n",
    "<center><img src=\"https://i.imgur.com/DYubGbr.png\" width=\"1000\"></center>\n",
    "\n",
    "<br>\n"
   ]
  },
  {
   "cell_type": "code",
   "execution_count": 1,
   "metadata": {
    "colab": {
     "base_uri": "https://localhost:8080/"
    },
    "executionInfo": {
     "elapsed": 7,
     "status": "ok",
     "timestamp": 1677012705257,
     "user": {
      "displayName": "Radim Jedlička",
      "userId": "11502208915568361358"
     },
     "user_tz": -60
    },
    "id": "5TsmQMzetI4B",
    "outputId": "5c8f1f37-a374-4868-e8cc-40cc2f4bbdfb"
   },
   "outputs": [
    {
     "name": "stdout",
     "output_type": "stream",
     "text": [
      "Ahoj studenti :-)\n"
     ]
    }
   ],
   "source": [
    "print('Ahoj studenti :-)')"
   ]
  }
 ],
 "metadata": {
  "colab": {
   "authorship_tag": "ABX9TyPGHmbESXuIXVKxZpM4SasI",
   "provenance": []
  },
  "kernelspec": {
   "display_name": "Python 3 (ipykernel)",
   "language": "python",
   "name": "python3"
  },
  "language_info": {
   "codemirror_mode": {
    "name": "ipython",
    "version": 3
   },
   "file_extension": ".py",
   "mimetype": "text/x-python",
   "name": "python",
   "nbconvert_exporter": "python",
   "pygments_lexer": "ipython3",
   "version": "3.10.0"
  }
 },
 "nbformat": 4,
 "nbformat_minor": 1
}
