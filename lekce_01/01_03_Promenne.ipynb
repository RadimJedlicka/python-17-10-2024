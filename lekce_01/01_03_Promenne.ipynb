{
 "cells": [
  {
   "cell_type": "markdown",
   "metadata": {
    "id": "ADC8GViw4tNg"
   },
   "source": [
    "<h6 align=right> 🐍 Python akademie - lekce 1 - 17.10.2024</h6>"
   ]
  },
  {
   "cell_type": "markdown",
   "metadata": {
    "id": "j8Mc41T9EuGU"
   },
   "source": [
    "<br>\n",
    "\n",
    "# <h1 align=center><font color=black size=24><b> 01_03 🏦 Proměnné (variables)</font></h1>\n",
    "\n",
    "<br>\n"
   ]
  },
  {
   "cell_type": "markdown",
   "metadata": {
    "id": "AmbWO5SL5abF"
   },
   "source": [
    "<br>\n",
    "\n",
    "---\n",
    "\n",
    "### **Zajímavé odkazy z této lekce:**\n",
    "\n",
    "* [Pravidla pro vytváření jmen odkazů (proměnných)](https://easycodebook.com/python-variable-names-and-naming-rules/)\n",
    "* [Doporučení pep8, zápisování konstant](https://www.python.org/dev/peps/pep-0008/#constants)\n",
    "* [had nebo velbloud?](https://www.freecodecamp.org/news/snake-case-vs-camel-case-vs-pascal-case-vs-kebab-case-whats-the-difference/)\n",
    "\n",
    "<br>\n",
    "\n",
    "---\n"
   ]
  },
  {
   "cell_type": "markdown",
   "metadata": {
    "id": "-xormgQgGVLP"
   },
   "source": [
    "**Proměnná** (angl. *variable*) je v podstatě místo, kam schováme naše hodnoty, abychom je mohli později (opakovaně) použít.\n",
    "\n",
    "<br>"
   ]
  },
  {
   "cell_type": "markdown",
   "metadata": {
    "id": "Wje4uIZI5i7n"
   },
   "source": [
    "<br>\n",
    "\n",
    "## **Vytvoření proměnné**\n",
    "\n",
    "---"
   ]
  },
  {
   "cell_type": "markdown",
   "metadata": {
    "id": "tmIoUq2E5n92"
   },
   "source": [
    "Pro vytvoření proměnné musíš dodržet tento postup:\n",
    "```python\n",
    "jmeno = \"Neruda\"\n",
    "```"
   ]
  },
  {
   "cell_type": "code",
   "execution_count": 1,
   "metadata": {
    "executionInfo": {
     "elapsed": 8,
     "status": "ok",
     "timestamp": 1677537224351,
     "user": {
      "displayName": "Radim Jedlička",
      "userId": "11502208915568361358"
     },
     "user_tz": -60
    },
    "id": "UmzAXCKh4mmi"
   },
   "outputs": [],
   "source": [
    "jmeno = 'Radim'"
   ]
  },
  {
   "cell_type": "code",
   "execution_count": 2,
   "metadata": {
    "id": "IVZhnBnE5u0L"
   },
   "outputs": [
    {
     "name": "stdout",
     "output_type": "stream",
     "text": [
      "Radim\n"
     ]
    }
   ],
   "source": [
    "print(jmeno)"
   ]
  },
  {
   "cell_type": "markdown",
   "metadata": {
    "id": "K4dCrlJy54Cb"
   },
   "source": [
    "\n",
    "<br>\n",
    "\n",
    "1. `jmeno` - na levé straně od rovnítka je **jméno proměnné**. Jak pojmenovat proměnnou si povíme za chvíli,\n",
    "\n",
    "<br>\n",
    "\n",
    "2. `=` symbol, který **přiřadí zadanou hodnotu** ke jménu proměnné,\n",
    "\n",
    "<br>\n",
    "\n",
    "3. `\"Radim\"` - je **hodnota**, kterou si chceme uložit na později (nebo ji použít více než 1x). V tomto případě je to string, ale můžeš uložit také číselné hodnoty aj."
   ]
  },
  {
   "cell_type": "markdown",
   "metadata": {
    "id": "JZWhiYuW6Egn"
   },
   "source": [
    "<br>\n",
    "\n",
    "## **Jak pojmenovat proměnnou**\n",
    "\n",
    "---"
   ]
  },
  {
   "cell_type": "markdown",
   "metadata": {
    "id": "N0TsKbbB6Idw"
   },
   "source": [
    "Jméno proměnné (někdy také odkaz) **může obsahovat** tyto znaky:\n",
    "\n",
    "1. **Písmenné** znaky,\n",
    "2. **Číselné** znaky,\n",
    "3. **Podtržítka**.\n"
   ]
  },
  {
   "cell_type": "code",
   "execution_count": 3,
   "metadata": {
    "executionInfo": {
     "elapsed": 212,
     "status": "ok",
     "timestamp": 1677537230697,
     "user": {
      "displayName": "Radim Jedlička",
      "userId": "11502208915568361358"
     },
     "user_tz": -60
    },
    "id": "D-oppixm5z8q"
   },
   "outputs": [],
   "source": [
    "jmeno = \"Radim\""
   ]
  },
  {
   "cell_type": "code",
   "execution_count": 4,
   "metadata": {
    "executionInfo": {
     "elapsed": 232,
     "status": "ok",
     "timestamp": 1677537232868,
     "user": {
      "displayName": "Radim Jedlička",
      "userId": "11502208915568361358"
     },
     "user_tz": -60
    },
    "id": "qIGMm4pH6QOC"
   },
   "outputs": [],
   "source": [
    "jmeno2 = \"Pavel\""
   ]
  },
  {
   "cell_type": "code",
   "execution_count": 3,
   "metadata": {
    "executionInfo": {
     "elapsed": 226,
     "status": "ok",
     "timestamp": 1677537236056,
     "user": {
      "displayName": "Radim Jedlička",
      "userId": "11502208915568361358"
     },
     "user_tz": -60
    },
    "id": "AqVHoMKJ6SQC"
   },
   "outputs": [],
   "source": [
    "moje_jmeno = \"Jan\"  # snake case"
   ]
  },
  {
   "cell_type": "code",
   "execution_count": 6,
   "metadata": {
    "executionInfo": {
     "elapsed": 9,
     "status": "ok",
     "timestamp": 1677537237123,
     "user": {
      "displayName": "Radim Jedlička",
      "userId": "11502208915568361358"
     },
     "user_tz": -60
    },
    "id": "Ofx-LJ_V6Txr"
   },
   "outputs": [],
   "source": [
    "mojeJmeno = \"David\" # camel case"
   ]
  },
  {
   "cell_type": "code",
   "execution_count": 7,
   "metadata": {
    "executionInfo": {
     "elapsed": 6,
     "status": "ok",
     "timestamp": 1677537238055,
     "user": {
      "displayName": "Radim Jedlička",
      "userId": "11502208915568361358"
     },
     "user_tz": -60
    },
    "id": "LI6yJJ-kH1Px"
   },
   "outputs": [],
   "source": [
    "MojeJmeno = 'Lucie' # pascal case"
   ]
  },
  {
   "cell_type": "code",
   "execution_count": null,
   "metadata": {
    "id": "OVoW9yTZHc_g"
   },
   "outputs": [],
   "source": [
    "moje-jmeno = \"Jan\"  # kebab case - neni podporovan v Pythonu -> \"-\" se bere jako odecitani"
   ]
  },
  {
   "cell_type": "markdown",
   "metadata": {
    "id": "6QIBJRXg6jWs"
   },
   "source": [
    "\n",
    "<br>\n",
    "\n",
    "Existují ovšem znaky, které jméno **obsahovat nesmí**:\n",
    "\n",
    "1. Jméno proměnné nesmí **začínat číselným znakem**,\n",
    "2. jméno proměnné nesmí **obsahovat speciální znaky** (kromě podtržítka),\n",
    "3. Jméno proměnné nesmí **obsahovat mezery**.\n"
   ]
  },
  {
   "cell_type": "code",
   "execution_count": 4,
   "metadata": {
    "id": "a0lKPHgp6bTy"
   },
   "outputs": [
    {
     "ename": "SyntaxError",
     "evalue": "invalid imaginary literal (Temp/ipykernel_20820/2251583034.py, line 1)",
     "output_type": "error",
     "traceback": [
      "\u001b[1;36m  File \u001b[1;32m\"C:\\Users\\Radim Jedlicka\\AppData\\Local\\Temp/ipykernel_20820/2251583034.py\"\u001b[1;36m, line \u001b[1;32m1\u001b[0m\n\u001b[1;33m    2jmeno = \"Marek\"\u001b[0m\n\u001b[1;37m     ^\u001b[0m\n\u001b[1;31mSyntaxError\u001b[0m\u001b[1;31m:\u001b[0m invalid imaginary literal\n"
     ]
    }
   ],
   "source": [
    "2jmeno = \"Marek\""
   ]
  },
  {
   "cell_type": "code",
   "execution_count": 5,
   "metadata": {
    "id": "orhkVsq86l-g"
   },
   "outputs": [
    {
     "ename": "SyntaxError",
     "evalue": "invalid syntax. Perhaps you forgot a comma? (Temp/ipykernel_20820/3060232599.py, line 1)",
     "output_type": "error",
     "traceback": [
      "\u001b[1;36m  File \u001b[1;32m\"C:\\Users\\Radim Jedlicka\\AppData\\Local\\Temp/ipykernel_20820/3060232599.py\"\u001b[1;36m, line \u001b[1;32m1\u001b[0m\n\u001b[1;33m    moje jmeno = \"Tomas\"\u001b[0m\n\u001b[1;37m    ^\u001b[0m\n\u001b[1;31mSyntaxError\u001b[0m\u001b[1;31m:\u001b[0m invalid syntax. Perhaps you forgot a comma?\n"
     ]
    }
   ],
   "source": [
    "moje jmeno = \"Tomas\""
   ]
  },
  {
   "cell_type": "code",
   "execution_count": 6,
   "metadata": {
    "id": "e__efcbS6nZZ"
   },
   "outputs": [
    {
     "ename": "SyntaxError",
     "evalue": "cannot assign to expression here. Maybe you meant '==' instead of '='? (Temp/ipykernel_20820/1599302219.py, line 1)",
     "output_type": "error",
     "traceback": [
      "\u001b[1;36m  File \u001b[1;32m\"C:\\Users\\Radim Jedlicka\\AppData\\Local\\Temp/ipykernel_20820/1599302219.py\"\u001b[1;36m, line \u001b[1;32m1\u001b[0m\n\u001b[1;33m    moje@jmeno = \"Zdenek\"\u001b[0m\n\u001b[1;37m    ^\u001b[0m\n\u001b[1;31mSyntaxError\u001b[0m\u001b[1;31m:\u001b[0m cannot assign to expression here. Maybe you meant '==' instead of '='?\n"
     ]
    }
   ],
   "source": [
    "moje@jmeno = \"Zdenek\""
   ]
  },
  {
   "cell_type": "markdown",
   "metadata": {
    "id": "ePCA6m4D6uyk"
   },
   "source": [
    "\n",
    "<br>\n",
    "\n",
    "Tady jsou některá další doporučení, které mají uživatelům pomáhat při zapisování a čtení."
   ]
  },
  {
   "cell_type": "markdown",
   "metadata": {
    "id": "FeDCfepI6yNh"
   },
   "source": [
    "### **Styl pojmenování**"
   ]
  },
  {
   "cell_type": "markdown",
   "metadata": {
    "id": "0uQW-2Wz63-s"
   },
   "source": [
    "Pojmenování ve tvém zápisu by mělo být **konzistentní**, proto si vyber jeden styl a toho se drž:\n",
    "\n",
    "<br>\n",
    "\n",
    "`camelCase` (počáteční písmeno malé, každé první písmeno nového slova velké):"
   ]
  },
  {
   "cell_type": "code",
   "execution_count": 12,
   "metadata": {
    "executionInfo": {
     "elapsed": 284,
     "status": "ok",
     "timestamp": 1677537255518,
     "user": {
      "displayName": "Radim Jedlička",
      "userId": "11502208915568361358"
     },
     "user_tz": -60
    },
    "id": "wpNWXsKl6vF1"
   },
   "outputs": [],
   "source": [
    "mojeJmeno = \"Radim\""
   ]
  },
  {
   "cell_type": "code",
   "execution_count": 13,
   "metadata": {
    "executionInfo": {
     "elapsed": 235,
     "status": "ok",
     "timestamp": 1677537256938,
     "user": {
      "displayName": "Radim Jedlička",
      "userId": "11502208915568361358"
     },
     "user_tz": -60
    },
    "id": "SAKc08LY68uO"
   },
   "outputs": [],
   "source": [
    "novaHodnota = 1234"
   ]
  },
  {
   "cell_type": "markdown",
   "metadata": {
    "id": "GDN-TSwg6-XP"
   },
   "source": [
    "\n",
    "<br>\n",
    "\n",
    "`snake_case` (slova zapsaná malými písmeny, oddělená podtržítkem):"
   ]
  },
  {
   "cell_type": "code",
   "execution_count": 14,
   "metadata": {
    "executionInfo": {
     "elapsed": 246,
     "status": "ok",
     "timestamp": 1677537258922,
     "user": {
      "displayName": "Radim Jedlička",
      "userId": "11502208915568361358"
     },
     "user_tz": -60
    },
    "id": "tpkGrDrp6-sl"
   },
   "outputs": [],
   "source": [
    "moje_jmeno = \"Radim\""
   ]
  },
  {
   "cell_type": "code",
   "execution_count": 15,
   "metadata": {
    "executionInfo": {
     "elapsed": 227,
     "status": "ok",
     "timestamp": 1677537259998,
     "user": {
      "displayName": "Radim Jedlička",
      "userId": "11502208915568361358"
     },
     "user_tz": -60
    },
    "id": "g-znASws7Bpe"
   },
   "outputs": [],
   "source": [
    "nova_hodnota = 1234"
   ]
  },
  {
   "cell_type": "markdown",
   "metadata": {
    "id": "ZcjBUhpi7IeV"
   },
   "source": [
    "### **Konstanty**"
   ]
  },
  {
   "cell_type": "markdown",
   "metadata": {
    "id": "HGkR9wik7LwB"
   },
   "source": [
    "\n",
    "Pokud se hodnota proměnné nebude měnit (zůstane konstantní), zapisujeme celé jméno velkými písmeny:"
   ]
  },
  {
   "cell_type": "code",
   "execution_count": 7,
   "metadata": {
    "executionInfo": {
     "elapsed": 204,
     "status": "ok",
     "timestamp": 1677537263778,
     "user": {
      "displayName": "Radim Jedlička",
      "userId": "11502208915568361358"
     },
     "user_tz": -60
    },
    "id": "jNZtZLp57KA7"
   },
   "outputs": [],
   "source": [
    "TIHOVE_ZRYCHLENI = 9.81"
   ]
  },
  {
   "cell_type": "code",
   "execution_count": 8,
   "metadata": {
    "executionInfo": {
     "elapsed": 2,
     "status": "ok",
     "timestamp": 1677537264722,
     "user": {
      "displayName": "Radim Jedlička",
      "userId": "11502208915568361358"
     },
     "user_tz": -60
    },
    "id": "jVMSyUDY7OOu"
   },
   "outputs": [],
   "source": [
    "PI = 3.141"
   ]
  },
  {
   "cell_type": "markdown",
   "metadata": {
    "id": "6n7pC9xi7RbY"
   },
   "source": [
    "### **Komplikované čtení**"
   ]
  },
  {
   "cell_type": "markdown",
   "metadata": {
    "id": "Q264bPdf7WdX"
   },
   "source": [
    "\n",
    "Pokud budete chtít jméno proměnné **označit jedním písmenem**, doporučujeme **nepoužívat** `l` (malé el), `O` (velké ó), `I` (velké í). Může totiž snadno dojít k jejich záměně s jiným písmenem.\n",
    "\n",
    "<br>\n",
    "\n",
    "Dále existují různé druhy písma, kde jsou písmena k nerozeznání od **nuly** a **jedničky**."
   ]
  },
  {
   "cell_type": "markdown",
   "metadata": {
    "id": "ELVq6Z1f7cog"
   },
   "source": [
    "<br>\n",
    "\n",
    "## **Práce s proměnnými**\n",
    "\n",
    "---"
   ]
  },
  {
   "cell_type": "markdown",
   "metadata": {
    "id": "YEX5RNgw7hLE"
   },
   "source": [
    "Proměnná je pouze odkaz na hodnotu (jako je *string*, *integer*, *float*), proto je můžeš používat stejně, jak jsme si doposud ukazovali:"
   ]
  },
  {
   "cell_type": "markdown",
   "metadata": {
    "id": "5DeXh42b7ixM"
   },
   "source": [
    "### **integer**"
   ]
  },
  {
   "cell_type": "code",
   "execution_count": 9,
   "metadata": {
    "executionInfo": {
     "elapsed": 269,
     "status": "ok",
     "timestamp": 1677537270140,
     "user": {
      "displayName": "Radim Jedlička",
      "userId": "11502208915568361358"
     },
     "user_tz": -60
    },
    "id": "A1er0vhA7Ums"
   },
   "outputs": [],
   "source": [
    "prvni_cislo = 5"
   ]
  },
  {
   "cell_type": "code",
   "execution_count": 10,
   "metadata": {
    "executionInfo": {
     "elapsed": 232,
     "status": "ok",
     "timestamp": 1677537271975,
     "user": {
      "displayName": "Radim Jedlička",
      "userId": "11502208915568361358"
     },
     "user_tz": -60
    },
    "id": "m43TxwFO7puz"
   },
   "outputs": [],
   "source": [
    "druhe_cislo = 6"
   ]
  },
  {
   "cell_type": "code",
   "execution_count": 11,
   "metadata": {
    "id": "MxcyIc6E7qlm"
   },
   "outputs": [
    {
     "name": "stdout",
     "output_type": "stream",
     "text": [
      "11\n"
     ]
    }
   ],
   "source": [
    "print(prvni_cislo + druhe_cislo)"
   ]
  },
  {
   "cell_type": "code",
   "execution_count": 13,
   "metadata": {},
   "outputs": [
    {
     "name": "stdout",
     "output_type": "stream",
     "text": [
      "prvni_cislodruhe_cislo\n"
     ]
    }
   ],
   "source": [
    "print('prvni_cislo' + 'druhe_cislo')"
   ]
  },
  {
   "cell_type": "code",
   "execution_count": 12,
   "metadata": {
    "id": "kXM-yeERJczg"
   },
   "outputs": [
    {
     "ename": "NameError",
     "evalue": "name 'treti_cislo' is not defined",
     "output_type": "error",
     "traceback": [
      "\u001b[1;31m---------------------------------------------------------------------------\u001b[0m",
      "\u001b[1;31mNameError\u001b[0m                                 Traceback (most recent call last)",
      "\u001b[1;32m~\\AppData\\Local\\Temp/ipykernel_20820/2244638339.py\u001b[0m in \u001b[0;36m<module>\u001b[1;34m\u001b[0m\n\u001b[1;32m----> 1\u001b[1;33m \u001b[0mprint\u001b[0m\u001b[1;33m(\u001b[0m\u001b[0mprvni_cislo\u001b[0m \u001b[1;33m+\u001b[0m \u001b[0mdruhe_cislo\u001b[0m \u001b[1;33m+\u001b[0m \u001b[0mtreti_cislo\u001b[0m\u001b[1;33m)\u001b[0m\u001b[1;33m\u001b[0m\u001b[1;33m\u001b[0m\u001b[0m\n\u001b[0m",
      "\u001b[1;31mNameError\u001b[0m: name 'treti_cislo' is not defined"
     ]
    }
   ],
   "source": [
    "print(prvni_cislo + druhe_cislo + treti_cislo)"
   ]
  },
  {
   "cell_type": "markdown",
   "metadata": {
    "id": "BUgumUpL7yil"
   },
   "source": [
    "### **string**"
   ]
  },
  {
   "cell_type": "code",
   "execution_count": 19,
   "metadata": {
    "executionInfo": {
     "elapsed": 248,
     "status": "ok",
     "timestamp": 1677537288125,
     "user": {
      "displayName": "Radim Jedlička",
      "userId": "11502208915568361358"
     },
     "user_tz": -60
    },
    "id": "pIevKiaM7y6-"
   },
   "outputs": [],
   "source": [
    "jmeno = \"Josef\""
   ]
  },
  {
   "cell_type": "code",
   "execution_count": null,
   "metadata": {},
   "outputs": [],
   "source": [
    "Jmeno2 = \"Josef\""
   ]
  },
  {
   "cell_type": "code",
   "execution_count": 15,
   "metadata": {
    "executionInfo": {
     "elapsed": 3,
     "status": "ok",
     "timestamp": 1677537289030,
     "user": {
      "displayName": "Radim Jedlička",
      "userId": "11502208915568361358"
     },
     "user_tz": -60
    },
    "id": "-XNaeFDa72fq"
   },
   "outputs": [],
   "source": [
    "prijmeni = \"Novak\""
   ]
  },
  {
   "cell_type": "code",
   "execution_count": 16,
   "metadata": {
    "id": "s7u1DU9t721f"
   },
   "outputs": [
    {
     "name": "stdout",
     "output_type": "stream",
     "text": [
      "KarelNovak\n"
     ]
    }
   ],
   "source": [
    "print(jmeno + prijmeni)"
   ]
  },
  {
   "cell_type": "markdown",
   "metadata": {
    "id": "aY0e9Lf27-kk"
   },
   "source": [
    "❓  Co s tou mezerou?\n"
   ]
  },
  {
   "cell_type": "code",
   "execution_count": 26,
   "metadata": {
    "executionInfo": {
     "elapsed": 202,
     "status": "ok",
     "timestamp": 1677537297404,
     "user": {
      "displayName": "Radim Jedlička",
      "userId": "11502208915568361358"
     },
     "user_tz": -60
    },
    "id": "jjgNP-SV8fg4"
   },
   "outputs": [],
   "source": [
    "prijmeni = \" Novak\""
   ]
  },
  {
   "cell_type": "code",
   "execution_count": null,
   "metadata": {
    "id": "mrD334gk8kcb"
   },
   "outputs": [],
   "source": [
    "print(jmeno + ' ' + prijmeni)"
   ]
  },
  {
   "cell_type": "code",
   "execution_count": null,
   "metadata": {
    "id": "Ich-hAC28q0m"
   },
   "outputs": [],
   "source": [
    "print(jmeno + ' je muj nejlepsi kamarad')"
   ]
  },
  {
   "cell_type": "code",
   "execution_count": 17,
   "metadata": {
    "id": "AJSqKlvo8vYF"
   },
   "outputs": [
    {
     "ename": "TypeError",
     "evalue": "can only concatenate str (not \"int\") to str",
     "output_type": "error",
     "traceback": [
      "\u001b[1;31m---------------------------------------------------------------------------\u001b[0m",
      "\u001b[1;31mTypeError\u001b[0m                                 Traceback (most recent call last)",
      "\u001b[1;32m~\\AppData\\Local\\Temp/ipykernel_20820/1193749405.py\u001b[0m in \u001b[0;36m<module>\u001b[1;34m\u001b[0m\n\u001b[1;32m----> 1\u001b[1;33m \u001b[0mprint\u001b[0m\u001b[1;33m(\u001b[0m\u001b[0mjmeno\u001b[0m \u001b[1;33m+\u001b[0m \u001b[1;36m6\u001b[0m\u001b[1;33m)\u001b[0m\u001b[1;33m\u001b[0m\u001b[1;33m\u001b[0m\u001b[0m\n\u001b[0m",
      "\u001b[1;31mTypeError\u001b[0m: can only concatenate str (not \"int\") to str"
     ]
    }
   ],
   "source": [
    "print(jmeno + 6)"
   ]
  },
  {
   "cell_type": "code",
   "execution_count": 18,
   "metadata": {
    "id": "oKKvzk2DJp6a"
   },
   "outputs": [
    {
     "ename": "TypeError",
     "evalue": "can only concatenate str (not \"int\") to str",
     "output_type": "error",
     "traceback": [
      "\u001b[1;31m---------------------------------------------------------------------------\u001b[0m",
      "\u001b[1;31mTypeError\u001b[0m                                 Traceback (most recent call last)",
      "\u001b[1;32m~\\AppData\\Local\\Temp/ipykernel_20820/3407036238.py\u001b[0m in \u001b[0;36m<module>\u001b[1;34m\u001b[0m\n\u001b[1;32m----> 1\u001b[1;33m \u001b[0mprint\u001b[0m\u001b[1;33m(\u001b[0m\u001b[0mjmeno\u001b[0m \u001b[1;33m+\u001b[0m \u001b[0mprvni_cislo\u001b[0m\u001b[1;33m)\u001b[0m\u001b[1;33m\u001b[0m\u001b[1;33m\u001b[0m\u001b[0m\n\u001b[0m",
      "\u001b[1;31mTypeError\u001b[0m: can only concatenate str (not \"int\") to str"
     ]
    }
   ],
   "source": [
    "print(jmeno + prvni_cislo)"
   ]
  },
  {
   "cell_type": "code",
   "execution_count": null,
   "metadata": {
    "id": "tRaDTF4q81zj"
   },
   "outputs": [],
   "source": [
    "print(type(jmeno))"
   ]
  }
 ],
 "metadata": {
  "colab": {
   "authorship_tag": "ABX9TyO5PjM3QXyOVcbs5Q4WqTqm",
   "provenance": [],
   "toc_visible": true
  },
  "kernelspec": {
   "display_name": "Python 3 (ipykernel)",
   "language": "python",
   "name": "python3"
  },
  "language_info": {
   "codemirror_mode": {
    "name": "ipython",
    "version": 3
   },
   "file_extension": ".py",
   "mimetype": "text/x-python",
   "name": "python",
   "nbconvert_exporter": "python",
   "pygments_lexer": "ipython3",
   "version": "3.10.0"
  }
 },
 "nbformat": 4,
 "nbformat_minor": 1
}
