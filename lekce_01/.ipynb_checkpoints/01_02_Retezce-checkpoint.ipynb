{
 "cells": [
  {
   "cell_type": "markdown",
   "metadata": {
    "id": "XKFOFcRrqvlc"
   },
   "source": [
    "<h6 align=right> 🐍 Python akademie - lekce 1 - 17.10.2024</h6>"
   ]
  },
  {
   "cell_type": "markdown",
   "metadata": {
    "id": "KHMrCCFPq2UB"
   },
   "source": [
    "<br>\n",
    "\n",
    "# <h1 align=center><font color=black size=24><b> 01_02 🔤 Řetězce (strings)</font></h1>\n",
    "<h3 align=center>jako datové typy<h3>\n",
    "\n",
    "<br>\n"
   ]
  },
  {
   "cell_type": "markdown",
   "metadata": {
    "id": "WTaVJBL57RxB"
   },
   "source": [
    "<br>\n",
    "\n",
    "---\n",
    "\n",
    "### **Zajímavé odkazy z této lekce:**\n",
    "\n",
    "* [Seznam všech `escaping characters`](https://www.w3schools.com/python/gloss_python_escape_characters.asp)\n",
    "* [Doporučení pep8, pravidla pro obecné pojmenování](https://www.python.org/dev/peps/pep-0008/#naming-conventions)\n",
    "\n",
    "---\n",
    "\n",
    "<br>"
   ]
  },
  {
   "cell_type": "markdown",
   "metadata": {
    "id": "g_RQwZVsq_ng"
   },
   "source": [
    "<br>\n",
    "\n",
    "## **String**\n",
    "\n",
    "---"
   ]
  },
  {
   "cell_type": "markdown",
   "metadata": {
    "id": "LLXeahYV7dzF"
   },
   "source": [
    "\n",
    "tedy **řetězec** je různě dlouhé uskupení znaků (písmen, čísel, speciálních symbolů)."
   ]
  },
  {
   "cell_type": "markdown",
   "metadata": {
    "id": "NsqFud9erRQ6"
   },
   "source": [
    "### **Jak zapsat string?**"
   ]
  },
  {
   "cell_type": "code",
   "execution_count": null,
   "metadata": {
    "id": "W8slFYZkqq-r"
   },
   "outputs": [],
   "source": [
    "print(Python)"
   ]
  },
  {
   "cell_type": "code",
   "execution_count": null,
   "metadata": {
    "id": "_OTCf5EdrYyn"
   },
   "outputs": [],
   "source": [
    "print('Python')"
   ]
  },
  {
   "cell_type": "code",
   "execution_count": null,
   "metadata": {
    "id": "E9vQ-8tureWf"
   },
   "outputs": [],
   "source": [
    "print(\"Python\")"
   ]
  },
  {
   "cell_type": "code",
   "execution_count": null,
   "metadata": {
    "id": "7iFqr_m9rgWC"
   },
   "outputs": [],
   "source": [
    "print(type('Python'))"
   ]
  },
  {
   "cell_type": "code",
   "execution_count": null,
   "metadata": {
    "id": "jK-18iVOrj5v"
   },
   "outputs": [],
   "source": [
    "print(type(\"Python\"))"
   ]
  },
  {
   "cell_type": "code",
   "execution_count": null,
   "metadata": {
    "id": "uuZm7YOkrlyU"
   },
   "outputs": [],
   "source": [
    "print('Python' == \"Python\")"
   ]
  },
  {
   "cell_type": "code",
   "execution_count": null,
   "metadata": {
    "id": "ODkhjIfIrodJ"
   },
   "outputs": [],
   "source": [
    "print('''Python''')"
   ]
  },
  {
   "cell_type": "code",
   "execution_count": null,
   "metadata": {
    "id": "NUYagLBbrs1t"
   },
   "outputs": [],
   "source": [
    "print('''\n",
    "Python\n",
    "je super\n",
    "programovaci jazyk\n",
    "''')"
   ]
  },
  {
   "cell_type": "code",
   "execution_count": null,
   "metadata": {
    "id": "bD1-p-yJr0QG"
   },
   "outputs": [],
   "source": [
    "print('Python\")"
   ]
  },
  {
   "cell_type": "code",
   "execution_count": null,
   "metadata": {
    "id": "3lkCwdmNr5Ps"
   },
   "outputs": [],
   "source": [
    "print('''Python''')"
   ]
  },
  {
   "cell_type": "code",
   "execution_count": null,
   "metadata": {
    "id": "Dy2JHcX9r9Sz"
   },
   "outputs": [],
   "source": [
    "print(len('''\n",
    "Python\n",
    "je super\n",
    "programovaci jazyk\n",
    "''')\n",
    ")"
   ]
  },
  {
   "cell_type": "code",
   "execution_count": null,
   "metadata": {
    "id": "ADCx4gomsACL"
   },
   "outputs": [],
   "source": [
    "print(len('''Radim'''))"
   ]
  },
  {
   "cell_type": "code",
   "execution_count": null,
   "metadata": {
    "id": "InUwJ6B7sUQV"
   },
   "outputs": [],
   "source": [
    "print(len('''\n",
    "Radim\n",
    "Radim\n",
    "''')\n",
    ")"
   ]
  },
  {
   "cell_type": "markdown",
   "metadata": {
    "id": "vuecUtP3siaA"
   },
   "source": [
    "\n",
    "<br>\n",
    "\n",
    "Pomocí uvozovek můžeme zapisovat současně písmena, speciální znaky a také čísla:"
   ]
  },
  {
   "cell_type": "code",
   "execution_count": null,
   "metadata": {
    "id": "q553TgazsKsd"
   },
   "outputs": [],
   "source": [
    "print('Radim Jedlicka')"
   ]
  },
  {
   "cell_type": "code",
   "execution_count": null,
   "metadata": {
    "id": "UqqxllVismg2"
   },
   "outputs": [],
   "source": [
    "print('123456789')"
   ]
  },
  {
   "cell_type": "code",
   "execution_count": null,
   "metadata": {
    "id": "LV-wS-69soHL"
   },
   "outputs": [],
   "source": [
    "print(type('123456'))"
   ]
  },
  {
   "cell_type": "code",
   "execution_count": null,
   "metadata": {
    "id": "YOY0G9xlsqAQ"
   },
   "outputs": [],
   "source": [
    "print(\"!@#$%%^&*\")"
   ]
  },
  {
   "cell_type": "markdown",
   "metadata": {
    "id": "IQejJUlGtFxW"
   },
   "source": [
    "<br>\n",
    "\n",
    "### **Použití uvozovek**"
   ]
  },
  {
   "cell_type": "markdown",
   "metadata": {
    "id": "aD7T9euBtJoe"
   },
   "source": [
    "<br>\n",
    "\n",
    "Občas budeme potřebovat zápis doplnit o uvozovky, jako součást textu. Zápis se může stát trochu obtížnější:"
   ]
  },
  {
   "cell_type": "code",
   "execution_count": null,
   "metadata": {
    "id": "JSYFoC68s781"
   },
   "outputs": [],
   "source": [
    "print('It's Friday')"
   ]
  },
  {
   "cell_type": "markdown",
   "metadata": {
    "id": "bqipkI6ItQZY"
   },
   "source": [
    "\n",
    "<br>\n",
    "\n",
    "Můžeme použít opačné uvozovky, než máme na začátku a konci stringu:"
   ]
  },
  {
   "cell_type": "code",
   "execution_count": null,
   "metadata": {
    "id": "zSKFIEhItOcb"
   },
   "outputs": [],
   "source": [
    "print(\"It's Friday\")"
   ]
  },
  {
   "cell_type": "code",
   "execution_count": null,
   "metadata": {
    "id": "Jgn-qwVqtSMY"
   },
   "outputs": [],
   "source": [
    "print(\"It's \"kind of\" Friday\")"
   ]
  },
  {
   "cell_type": "markdown",
   "metadata": {
    "id": "MsLbY7MjtadY"
   },
   "source": [
    "\n",
    "<br>\n",
    "\n",
    "Můžeme použít tzv. *escape characters*. Jde o symbol zpětného lomítka. Ten interpretu Pythonu oznamuje, že cokoliv, co bude za lomítkem následovat je speciální symbol:"
   ]
  },
  {
   "cell_type": "code",
   "execution_count": null,
   "metadata": {
    "id": "WNtW7tNdtTx_"
   },
   "outputs": [],
   "source": [
    "print(\"It's \\\"kind\\\" of Friday\")"
   ]
  },
  {
   "cell_type": "code",
   "execution_count": null,
   "metadata": {
    "id": "vVZ4PJ7o9yXb"
   },
   "outputs": [],
   "source": [
    "print(\"It's \\\"kind\\\" of \\n\\tFriday\")"
   ]
  },
  {
   "cell_type": "markdown",
   "metadata": {
    "id": "XbEELqw4uRxD"
   },
   "source": [
    "<br>\n",
    "\n",
    "Použití **speciálních symbolů** souvisejících se zpětným lomítkem je víc. Jsou to tzv. **escape characters**. V tabulce níž najdeš soupis těch nejčastějších:\n",
    "\n",
    "<br>\n",
    "\n",
    "| Speciální znak | Význam |\n",
    "| :-: | :-: |\n",
    "| `\\'` | Apostrof |\n",
    "| \\\\ |\tZpětné lomítko |\n",
    "| \\n |\tNový řádek |\n",
    "| \\r |\t*Return carriage* |\n",
    "| \\t |\tTabulátor |\n",
    "| \\b |\t*Backspace* |\n",
    "| \\f |\t*Form feed*  (konec stránky) |\n",
    "\n",
    "<br>\n",
    "\n",
    "Speciální symboly uvidíš, pokud si nyní vyzkoušíš zápis s třemi uvozovkami na začátku a na konci:"
   ]
  },
  {
   "cell_type": "code",
   "execution_count": null,
   "metadata": {
    "id": "Ek6u5hYA-THE"
   },
   "outputs": [],
   "source": [
    "print(\"\"\"\n",
    "Ahoj,\n",
    "vsem!\n",
    "\"\"\")"
   ]
  },
  {
   "cell_type": "code",
   "execution_count": null,
   "metadata": {
    "id": "jHChkT-Jtkoy"
   },
   "outputs": [],
   "source": [
    "\"\"\"\n",
    "Ahoj,\n",
    "vsem!\n",
    "\"\"\""
   ]
  },
  {
   "cell_type": "markdown",
   "metadata": {
    "id": "MM40w4xXueok"
   },
   "source": [
    "\n",
    "<br>\n",
    "\n",
    "Už při zápisu v interpretu si všimni, že ti dovolí pokračovat na **dalších řádcích** (pomocí třech teček `...`).\n",
    "\n",
    "<br>\n",
    "\n",
    "To je současně i podstatou třech uvozovek na začátku a na konci. Umožní ti zapsat hodnotu typu str na více řádků.\n",
    "\n",
    "<br>"
   ]
  },
  {
   "cell_type": "markdown",
   "metadata": {
    "id": "lPyN7ssrujrg"
   },
   "source": [
    "<br>\n",
    "\n",
    "### **Převádění datových (některých) typů (přetypování)**"
   ]
  },
  {
   "cell_type": "markdown",
   "metadata": {
    "id": "7LJi5Vxyumdy"
   },
   "source": [
    "V některých situacích budeme muset pracovat s různými datovými typy a v takových situacích se velice často chybuje:"
   ]
  },
  {
   "cell_type": "code",
   "execution_count": null,
   "metadata": {
    "id": "xIYzTZ7kufEt"
   },
   "outputs": [],
   "source": [
    "print(2 + \"2\")"
   ]
  },
  {
   "cell_type": "code",
   "execution_count": null,
   "metadata": {
    "id": "r4o9zZTHurVz"
   },
   "outputs": [],
   "source": [
    "print(\"2\" + \"2\")"
   ]
  },
  {
   "cell_type": "code",
   "execution_count": null,
   "metadata": {
    "id": "8W_Iy-BI_TQ7"
   },
   "outputs": [],
   "source": [
    "print('a' + 'a')"
   ]
  },
  {
   "cell_type": "code",
   "execution_count": null,
   "metadata": {
    "id": "pZ3sUylAuuXp"
   },
   "outputs": [],
   "source": [
    "print(2 + 2)"
   ]
  },
  {
   "cell_type": "code",
   "execution_count": null,
   "metadata": {
    "id": "XwShVCRwuwG3"
   },
   "outputs": [],
   "source": [
    "print(2 + 2.0)"
   ]
  },
  {
   "cell_type": "markdown",
   "metadata": {
    "id": "KemdTv2Du1XM"
   },
   "source": [
    "\n",
    "<br>\n",
    "\n",
    "Naštěstí je možné **některé** datové typy převádět:"
   ]
  },
  {
   "cell_type": "code",
   "execution_count": null,
   "metadata": {
    "id": "IOvIwIEPux5c"
   },
   "outputs": [],
   "source": [
    "print(\"2\")"
   ]
  },
  {
   "cell_type": "code",
   "execution_count": null,
   "metadata": {
    "id": "Ank94dG8u3cw"
   },
   "outputs": [],
   "source": [
    "print(type('2'))"
   ]
  },
  {
   "cell_type": "code",
   "execution_count": null,
   "metadata": {
    "id": "AA-lM7X6u_6s"
   },
   "outputs": [],
   "source": [
    "print(int('2'))"
   ]
  },
  {
   "cell_type": "code",
   "execution_count": null,
   "metadata": {
    "id": "_KW2-tF7u6CB"
   },
   "outputs": [],
   "source": [
    "print(type(int('2')))"
   ]
  },
  {
   "cell_type": "markdown",
   "metadata": {
    "id": "zzUub-3MvGjY"
   },
   "source": [
    "\n",
    "<br>\n",
    "\n",
    "Pomocí více zabudovaných funkcí, které zapíšu za sebe, můžeme jednak datový typ převést a současně jej ověřit:"
   ]
  },
  {
   "cell_type": "code",
   "execution_count": null,
   "metadata": {
    "id": "dQcpLEMOu-Ng"
   },
   "outputs": [],
   "source": [
    "print(type(int(\"2\")))"
   ]
  },
  {
   "cell_type": "markdown",
   "metadata": {
    "id": "2ioCR4PqvL_G"
   },
   "source": [
    "\n",
    "<br>\n",
    "\n",
    "**Přetypovat** můžeme s pomocí funkcí `str`, `int`, `float`, ... Ale některé znaky není možné převádět:"
   ]
  },
  {
   "cell_type": "code",
   "execution_count": null,
   "metadata": {
    "id": "PkB-tBJivMe6"
   },
   "outputs": [],
   "source": [
    "print(int(\"@\"))"
   ]
  },
  {
   "cell_type": "markdown",
   "metadata": {
    "id": "bTaeeDSmvR6g"
   },
   "source": [
    "<br>\n",
    "\n",
    "### **Spojování (concatenation)**"
   ]
  },
  {
   "cell_type": "markdown",
   "metadata": {
    "id": "iGa-90XavWDu"
   },
   "source": [
    "Jde o proces, kdy použijeme operátor `+`, kdy po obou stranách operátoru máme string."
   ]
  },
  {
   "cell_type": "code",
   "execution_count": null,
   "metadata": {
    "id": "tGgaNA9ivUhQ"
   },
   "outputs": [],
   "source": [
    "print('Radim' + 'Jedlicka')"
   ]
  },
  {
   "cell_type": "code",
   "execution_count": null,
   "metadata": {
    "id": "zlhmYo_XvwMV"
   },
   "outputs": [],
   "source": [
    "print('Radim ' + 'Jedlicka')"
   ]
  },
  {
   "cell_type": "code",
   "execution_count": null,
   "metadata": {
    "id": "c-iGXx9yvyj_"
   },
   "outputs": [],
   "source": [
    "print('Radim' + ' Jedlicka')"
   ]
  },
  {
   "cell_type": "code",
   "execution_count": null,
   "metadata": {
    "id": "wkr2S3qCv0Kb"
   },
   "outputs": [],
   "source": [
    "print('Radim' + ' ' + 'Jedlicka')"
   ]
  },
  {
   "cell_type": "markdown",
   "metadata": {
    "id": "ZzYFtgKXvhYM"
   },
   "source": [
    "\n",
    "Výsledkem je spojení obou stringů v jeden (*concatenation*)\n"
   ]
  },
  {
   "cell_type": "markdown",
   "metadata": {
    "id": "u-51ojwcvnhf"
   },
   "source": [
    "<br>\n",
    "\n",
    "### **Opakování (~*repetition*)**"
   ]
  },
  {
   "cell_type": "markdown",
   "metadata": {
    "id": "dj5WzYljvwB6"
   },
   "source": [
    "\n",
    "Jde o proces, kdy zadaný string vypíšeme n-krát po sobě (~*repetition*)\n",
    "```bash\n",
    "\"str\" * n\n",
    "```"
   ]
  },
  {
   "cell_type": "code",
   "execution_count": null,
   "metadata": {
    "id": "-NfsTqetvazs"
   },
   "outputs": [],
   "source": [
    "print('Radim' * 3)"
   ]
  },
  {
   "cell_type": "code",
   "execution_count": null,
   "metadata": {
    "id": "erkm4LVhv2Mt"
   },
   "outputs": [],
   "source": [
    "print('=' * 10)"
   ]
  },
  {
   "cell_type": "markdown",
   "metadata": {
    "id": "DhakjiXxv72k"
   },
   "source": [
    "<br>\n",
    "\n",
    "## **Indexování**"
   ]
  },
  {
   "cell_type": "markdown",
   "metadata": {
    "id": "Dr7vSevswAfN"
   },
   "source": [
    "Znaky, ze kterých je string složený, mají **pořadí**. Toto pořadí je určené celým čísel, tzv. *index*. Pomocí tohoto indexu máme možnost vybrat konkrétní znak.\n",
    "\n",
    "Pokud chceme získat jen část z původního stringu, můžete si ji \"vyříznout\" (*slicing*):\n",
    "\n",
    "<img src=\"https://i.imgur.com/6NkA2nC.png\" width=\"900\">\n",
    "\n",
    "\n",
    "<br>\n",
    "\n",
    "Ihned za konkrétní hodnotu napíšeme hranatou závorku a do ní celé číslo indexu, který potřebujeme:"
   ]
  },
  {
   "cell_type": "code",
   "execution_count": null,
   "metadata": {
    "id": "yhDzWmJ_v-kw"
   },
   "outputs": [],
   "source": [
    "print(\"AUTOBUS\"1)    # bez hranaté závorky nelze indexovat"
   ]
  },
  {
   "cell_type": "code",
   "execution_count": null,
   "metadata": {
    "id": "umygwUatwMde"
   },
   "outputs": [],
   "source": [
    "print(\"AUTOBUS\"[1.0])  # bez celého čísla v hranaté závorce také ne"
   ]
  },
  {
   "cell_type": "code",
   "execution_count": null,
   "metadata": {
    "id": "o69q2ZzQwQsF"
   },
   "outputs": [],
   "source": [
    "print('AUTOBUS'[1])"
   ]
  },
  {
   "cell_type": "markdown",
   "metadata": {
    "id": "thTu4bdTwyLt"
   },
   "source": [
    "<br>\n",
    "\n",
    "Příklad výš můžeš přečíst jako *Ze stringu autobus mi vypiš znak na indexu* `1`. Z toho vyplývá, že indexování obecně začíná celým číslem `0`, tedy první znak."
   ]
  },
  {
   "cell_type": "code",
   "execution_count": null,
   "metadata": {
    "id": "3bjOjgZ9wUgU"
   },
   "outputs": [],
   "source": [
    "print(\"AUTOBUS\"[0])"
   ]
  },
  {
   "cell_type": "code",
   "execution_count": null,
   "metadata": {
    "id": "PjiBBVnAw1fI"
   },
   "outputs": [],
   "source": [
    "print(\"AUTOBUS\"[2])"
   ]
  },
  {
   "cell_type": "code",
   "execution_count": null,
   "metadata": {
    "id": "WFJZZ_7Lw35k"
   },
   "outputs": [],
   "source": [
    "print(\"AUTOBUS\"[3])"
   ]
  },
  {
   "cell_type": "markdown",
   "metadata": {
    "id": "4ikl_YSqxFAc"
   },
   "source": [
    "\n",
    "<br>\n",
    "\n",
    "Pokud budeš potřebovat indexovat **od konce**, můžeš pracovat s negativním indexem. Poslední hodnotu získáš pomocí indexu `-1`, předposlední hodnotu pomocí indexu `-2`, atd."
   ]
  },
  {
   "cell_type": "markdown",
   "metadata": {
    "id": "L00BfCUdBY3G"
   },
   "source": [
    "<details>\n",
    "  <summary> 💡 Pro zvědavé: proč se indexuje od nuly?</summary>\n",
    "\n",
    "\n",
    "\n",
    "\n",
    "Většina programovacích jazyků indexuje pole, seznamy a další datové struktury začínající nulou, což znamená, že první prvek má index 0. Nicméně některé jazyky, jako například Fortran, MATLAB, R a Julia, mají indexaci začínající jedničkou. Je důležité si uvědomit, že většina jazyků podporuje změnu počátečního indexu pro určité datové struktury, pokud je to nutné nebo žádoucí.\n",
    "\n",
    "Existuje několik důvodů, proč se v mnoha programovacích jazycích indexuje od nuly:\n",
    "\n",
    "1. Jednoduchost a konzistence: Pokud začínáme indexování od nuly, můžeme jednoduše vypočítat pozici v paměti každého prvku v poli pomocí aritmetických operací (adresa_prvního_prvku + velikost_prvku * index_prvku). To zjednodušuje práci pro programátory a přispívá ke konzistenci v rámci jazyka.\n",
    "\n",
    "2. Historické důvody: Některé rané programovací jazyky (např. BCPL) používaly indexaci začínající nulou, což se postupně stalo standardem v mnoha dalších jazycích.\n",
    "\n",
    "3. Bezpečnost: Pokud začínáme indexování od jedničky, může dojít k omylu, když programátor neví, že indexování v jeho jazyce začíná od jedničky, a přistoupí k prvnímu prvku jako k indexu nula, což může způsobit neočekávané chování programu a dokonce i chybu.\n",
    "\n",
    "Nicméně, indexace od jedničky může být v některých případech výhodná, například v matematických disciplínách, kde se běžně indexuje od jedničky.\n",
    "\n",
    "</details>"
   ]
  },
  {
   "cell_type": "markdown",
   "metadata": {
    "id": "bbjkTvPgxIws"
   },
   "source": [
    "<br>\n",
    "\n",
    "## **Slicing - část stringu**"
   ]
  },
  {
   "cell_type": "markdown",
   "metadata": {
    "id": "T3GcfqldxL8f"
   },
   "source": [
    "Pokud budete potřebovat pracovat pouze s částí datového typu `str`, můžete jej rozkrájet (z angl. slicing)."
   ]
  },
  {
   "cell_type": "code",
   "execution_count": null,
   "metadata": {
    "id": "9r08PxmLxFTO"
   },
   "outputs": [],
   "source": [
    "print(\"AUTOBUS\"[0:4])"
   ]
  },
  {
   "cell_type": "markdown",
   "metadata": {
    "id": "RJmdaobUyVwL"
   },
   "source": [
    "![image.png](data:image/png;base64,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)"
   ]
  },
  {
   "cell_type": "markdown",
   "metadata": {
    "id": "jssFi00fxX9q"
   },
   "source": [
    "\n",
    "<br>\n",
    "\n",
    "Stejně jako u **indexování** použijeme hranatou závorku. Tentokrát ji doplníme **dvojtečkou** a **dalším celým číslem**. První hodnota je potom **počáteční index**, druhá hodnota je **konečný index**.\n",
    "\n",
    "<br>\n",
    "\n",
    "Opatrně **druhý index** je braný **nepřímo**, takže abys získal znak z indexu `6`, musíš napsat číslo `7`:"
   ]
  },
  {
   "cell_type": "code",
   "execution_count": null,
   "metadata": {
    "id": "8rwM0Iymxc7b"
   },
   "outputs": [],
   "source": [
    "print(\"AUTOBUS\"[0:6])"
   ]
  },
  {
   "cell_type": "code",
   "execution_count": null,
   "metadata": {
    "id": "ZoHl6XeOxeUd"
   },
   "outputs": [],
   "source": [
    "print(\"AUTOBUS\"[1:7])"
   ]
  },
  {
   "cell_type": "markdown",
   "metadata": {
    "id": "nZqT0YUuxbjy"
   },
   "source": [
    "<br>\n",
    "\n",
    "Dále je možné **zápis zkrátit**. Pokud si budeš zápisem s pomocí indexů jistý, můžeš vyzkoušet následující:\n",
    "\n",
    "1. `\"autobus\"[:2]` - vynecháš první index a začneš dvojtečkou (původně `[0:2]`)\n",
    "2. `\"autobus\"[2:]` - vynecháš druhý index a končíš dvojtečkou (původně `[2:7]`)"
   ]
  },
  {
   "cell_type": "code",
   "execution_count": null,
   "metadata": {
    "id": "4UezLmF0xYWE"
   },
   "outputs": [],
   "source": [
    "print(\"AUTOBUS\"[0:2])      # první dvě písmena"
   ]
  },
  {
   "cell_type": "code",
   "execution_count": null,
   "metadata": {
    "id": "38GoHL7RxpEA"
   },
   "outputs": [],
   "source": [
    "print(\"AUTOBUS\"[:2])       # první dvě písmena, zápis jedním číslem"
   ]
  },
  {
   "cell_type": "code",
   "execution_count": null,
   "metadata": {
    "id": "3E00KzSXxrNQ"
   },
   "outputs": [],
   "source": [
    "print(\"AUTOBUS\"[2:7])      # od třetího písmena do konce"
   ]
  },
  {
   "cell_type": "code",
   "execution_count": null,
   "metadata": {
    "id": "wjtiL56pxsWf"
   },
   "outputs": [],
   "source": [
    "print(\"AUTOBUS\"[2:])"
   ]
  },
  {
   "cell_type": "code",
   "execution_count": null,
   "metadata": {
    "id": "44ZHNHKoxuqV"
   },
   "outputs": [],
   "source": [
    "print(\"AUTOBUS\"[2:10])"
   ]
  },
  {
   "cell_type": "markdown",
   "metadata": {
    "id": "kkXObySGyBao"
   },
   "source": [
    "\n",
    "<br>\n",
    "\n",
    "## **Striding**"
   ]
  },
  {
   "cell_type": "markdown",
   "metadata": {
    "id": "ssTiIepgyET-"
   },
   "source": [
    "Nakonec operace známá jako **přeskakování** (~*striding*), umožňuje získat každý n-tý údaj ze stringu.\n",
    "\n",
    "<br>\n",
    "\n",
    "Doplníme **třetí celočíselnou hodnotu** do hranaté závorky, oddělenou dvojtečkou:"
   ]
  },
  {
   "cell_type": "code",
   "execution_count": null,
   "metadata": {
    "id": "ZcHMyxIqx1wc"
   },
   "outputs": [],
   "source": [
    "print(\"AUTOBUS\"[0:7:2])"
   ]
  },
  {
   "cell_type": "markdown",
   "metadata": {
    "id": "y87vwR7jyKVE"
   },
   "source": [
    "Hodnota 2 zapsaná v hranaté závorce výš říká, že vezme nejprve index 0, a potom každý druhý index (tedy indexy 2, 4, 6)."
   ]
  },
  {
   "cell_type": "code",
   "execution_count": null,
   "metadata": {
    "id": "0Qa1zkxpyKxG"
   },
   "outputs": [],
   "source": [
    "print(\"AUTOBUS\"[1:7:2])"
   ]
  },
  {
   "cell_type": "markdown",
   "metadata": {
    "id": "1sYGKjhayYnO"
   },
   "source": [
    "\n",
    "<br>\n",
    "\n",
    "Upravíme hodnoty v hranatých závorkách, ale platí pořád stejné pravidlo. Vezmeme nejprve index `1` (tedy `\"u\"`), a potom každý druhý index (tentokrát indexy `3`, `5`).\n",
    "\n",
    "<br>\n",
    "\n",
    "Opět je možné zápis **zkrátit**. Vynech hodnoty indexů pro **počátek** a **konec**. Zapíšeš pouze dvě dvojtečky a poslední hodnotu pro **přeskakování**:"
   ]
  },
  {
   "cell_type": "code",
   "execution_count": null,
   "metadata": {
    "id": "FQfK0qxTySq9"
   },
   "outputs": [],
   "source": [
    "print(\"AUTOBUS\"[::2])"
   ]
  },
  {
   "cell_type": "markdown",
   "metadata": {
    "id": "5fuuJxMyyh64"
   },
   "source": [
    "\n",
    "<br>\n",
    "\n",
    "Dokonce můžeš použít **zápornou hodnotu** pro přeskakování pozpátku:"
   ]
  },
  {
   "cell_type": "code",
   "execution_count": null,
   "metadata": {
    "id": "hcxQioaryf9q"
   },
   "outputs": [],
   "source": [
    "print(\"AUTOBUS\"[::-1])  # obracene poradi, zacne 's', jeden znak za druhym"
   ]
  },
  {
   "cell_type": "code",
   "execution_count": null,
   "metadata": {
    "id": "2q3RiV7uyms-"
   },
   "outputs": [],
   "source": [
    "print(\"AUTOBUS\"[::-2])  # obracene poradi, zacne 's', pote kazdy druhy znak"
   ]
  },
  {
   "cell_type": "code",
   "execution_count": null,
   "metadata": {
    "id": "umf3x6ZRyphy"
   },
   "outputs": [],
   "source": [
    "print(\"AUTOBUS\"[::-3])  # obracene poradi, zacne 's', pote kazdy treti znak"
   ]
  }
 ],
 "metadata": {
  "colab": {
   "authorship_tag": "ABX9TyNy7Ru+V3nCisNbkkyF46GD",
   "provenance": [],
   "toc_visible": true
  },
  "kernelspec": {
   "display_name": "Python 3 (ipykernel)",
   "language": "python",
   "name": "python3"
  },
  "language_info": {
   "codemirror_mode": {
    "name": "ipython",
    "version": 3
   },
   "file_extension": ".py",
   "mimetype": "text/x-python",
   "name": "python",
   "nbconvert_exporter": "python",
   "pygments_lexer": "ipython3",
   "version": "3.10.0"
  }
 },
 "nbformat": 4,
 "nbformat_minor": 1
}
