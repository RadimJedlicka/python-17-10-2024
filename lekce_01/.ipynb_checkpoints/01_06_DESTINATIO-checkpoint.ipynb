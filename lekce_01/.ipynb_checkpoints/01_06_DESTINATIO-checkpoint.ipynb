{
 "cells": [
  {
   "cell_type": "markdown",
   "metadata": {
    "id": "e2OfQrKWd8Sa"
   },
   "source": [
    "<h6 align=right>Python akademie - lekce 1 - DD.MM.YYYY</h6>"
   ]
  },
  {
   "cell_type": "markdown",
   "metadata": {
    "id": "l7Y-TyPcd-yj"
   },
   "source": [
    "# <h1 align=center><font color=grey size=24><b> 🚆 Destinatio</font></h1>\n",
    "\n",
    "<p align=center> (praktická úloha na závěr lekce)\n",
    "\n",
    "---"
   ]
  },
  {
   "cell_type": "markdown",
   "metadata": {
    "id": "0gsOml5ZeXqM"
   },
   "source": [
    "Nyní aplikujeme všechny nově získané dovednosti na **procvičující úloze**.\n",
    "\n",
    "<br>\n",
    "\n",
    "Představme si situaci, že chceme napsat takový program, který nám umožní rezervovat jízdenky.\n",
    "\n",
    "<br>\n",
    "\n",
    "Samozřejmě nepůjde o žádnou produkční verzi ale jednoduchý skript postavený na komunikaci uživatele a interpretu Pythonu.\n",
    "\n",
    "<br>\n",
    "\n",
    "Program bude umět:\n",
    "\n",
    "1. **Pozdravení** uživatele,\n",
    "2. **Vypsaní** nabídky,\n",
    "3. Dovolit uživateli **zadat vstupní data**,\n",
    "4. **Zpracovat** vstupní data,\n",
    "5. **Vypsat** zpracovaná data."
   ]
  },
  {
   "cell_type": "markdown",
   "metadata": {
    "id": "o6wRrMxkeZ51"
   },
   "source": [
    "<br>\n",
    "\n",
    "## **Vstupní údaje, které použijeme**"
   ]
  },
  {
   "cell_type": "code",
   "execution_count": null,
   "metadata": {
    "id": "OPEk3NQMd7kF"
   },
   "outputs": [],
   "source": [
    "mesta = [\"Praha\", \"Viden\", \"Olomouc\", \"Svitavy\", \"Zlin\", \"Ostrava\"]\n",
    "ceny = (150, 200, 120, 120, 100, 180)\n",
    "cara = \"=\" * 35\n",
    "nabidka = \"\"\"\n",
    "1 - Praha   | 150,-Kč\n",
    "2 - Viden   | 200,-Kč\n",
    "3 - Olomouc | 120,-Kč\n",
    "4 - Svitavy | 120,-Kč\n",
    "5 - Zlin    | 100,-Kč\n",
    "6 - Ostrava | 180,-Kč\n",
    "\"\"\""
   ]
  },
  {
   "cell_type": "markdown",
   "metadata": {
    "id": "G_rUUoaEevNR"
   },
   "source": [
    "<br>\n",
    "\n",
    "## **Pozdravíme uživatele**\n"
   ]
  },
  {
   "cell_type": "markdown",
   "metadata": {
    "id": "ehPZAmuZe1bk"
   },
   "source": [
    "### <font color=red><b>Očekáváme:</b>\n",
    "```\n",
    "VITEJTE U NASI APLIKACE DESTINATIO!\n",
    "===================================\n",
    "```"
   ]
  },
  {
   "cell_type": "markdown",
   "metadata": {
    "id": "xfmtH3zA3C4C"
   },
   "source": [
    "### <font color=ligtblue><b> 💻 Kód:</b>"
   ]
  },
  {
   "cell_type": "code",
   "execution_count": null,
   "metadata": {
    "colab": {
     "base_uri": "https://localhost:8080/"
    },
    "executionInfo": {
     "elapsed": 227,
     "status": "ok",
     "timestamp": 1669032714239,
     "user": {
      "displayName": "Radim Jedlička",
      "userId": "11502208915568361358"
     },
     "user_tz": -60
    },
    "id": "Bl7GssJL3MoG",
    "outputId": "7c6f677c-18e6-49a3-ff9d-0fa2ec2a3628"
   },
   "outputs": [
    {
     "name": "stdout",
     "output_type": "stream",
     "text": [
      "VITEJTE U NASI APLIKACE DESTINATIO!\n",
      "===================================\n"
     ]
    }
   ],
   "source": [
    "# Zapiš pozdrav a odděl jej pomocnou proměnnou 'cara'\n",
    "\n",
    "print(\"VITEJTE U NASI APLIKACE DESTINATIO!\")\n",
    "print(cara)"
   ]
  },
  {
   "cell_type": "markdown",
   "metadata": {
    "id": "eYxaLGvCgHWv"
   },
   "source": [
    "<br>\n",
    "\n",
    "## **Vypsání nabídky**\n"
   ]
  },
  {
   "cell_type": "markdown",
   "metadata": {
    "id": "nPxqh2AhgKrM"
   },
   "source": [
    "### <font color=red><b>Očekáváme:</b>\n",
    "```\n",
    "VITEJTE U NASI APLIKACE DESTINATIO!\n",
    "===================================\n",
    "1 - Praha   | 150,-Kč\n",
    "2 - Viden   | 200,-Kč\n",
    "3 - Olomouc | 120,-Kč\n",
    "4 - Svitavy | 120,-Kč\n",
    "5 - Zlin    | 100,-Kč\n",
    "6 - Ostrava | 180,-Kč\n",
    "\n",
    "```"
   ]
  },
  {
   "cell_type": "markdown",
   "metadata": {
    "id": "cfypoJV_4IKW"
   },
   "source": [
    "### <font color=ligtblue><b> 💻 Kód:</b>"
   ]
  },
  {
   "cell_type": "code",
   "execution_count": null,
   "metadata": {
    "colab": {
     "base_uri": "https://localhost:8080/"
    },
    "executionInfo": {
     "elapsed": 229,
     "status": "ok",
     "timestamp": 1669033277728,
     "user": {
      "displayName": "Radim Jedlička",
      "userId": "11502208915568361358"
     },
     "user_tz": -60
    },
    "id": "W9NDMWJe3jTV",
    "outputId": "745dd489-7183-42d0-8da4-a4cf2d338b5e"
   },
   "outputs": [
    {
     "name": "stdout",
     "output_type": "stream",
     "text": [
      "\n",
      "1 - Praha   | 150,-Kč\n",
      "2 - Viden   | 200,-Kč\n",
      "3 - Olomouc | 120,-Kč\n",
      "4 - Svitavy | 120,-Kč\n",
      "5 - Zlin    | 100,-Kč\n",
      "6 - Ostrava | 180,-Kč\n",
      "\n",
      "===================================\n"
     ]
    }
   ],
   "source": [
    "# Vypiš nabídku cílových destinací a odděl ji pomocnou proměnnou 'cara'\n",
    "print(nabidka)  # promennna 'nabidka' je napsana tak, za zacina prazdnym radkem.\n",
    "print(cara)  "
   ]
  },
  {
   "cell_type": "code",
   "execution_count": null,
   "metadata": {
    "colab": {
     "base_uri": "https://localhost:8080/"
    },
    "executionInfo": {
     "elapsed": 235,
     "status": "ok",
     "timestamp": 1669033284767,
     "user": {
      "displayName": "Radim Jedlička",
      "userId": "11502208915568361358"
     },
     "user_tz": -60
    },
    "id": "crkmBAaT3xPZ",
    "outputId": "96aca874-1176-49c3-a138-133a0cc89b4e"
   },
   "outputs": [
    {
     "name": "stdout",
     "output_type": "stream",
     "text": [
      "=================================== \n",
      "1 - Praha   | 150,-Kč\n",
      "2 - Viden   | 200,-Kč\n",
      "3 - Olomouc | 120,-Kč\n",
      "4 - Svitavy | 120,-Kč\n",
      "5 - Zlin    | 100,-Kč\n",
      "6 - Ostrava | 180,-Kč\n",
      "===================================\n"
     ]
    }
   ],
   "source": [
    "# pokud tam tu mezeru ve vypisu nechci, vypisu printy na jednom radku\n",
    "print(cara, nabidka, end='')    # end= je prikaz, cim mi ten print bude koncit, \n",
    "print(cara)                     # tedy prazdny znak\n"
   ]
  },
  {
   "cell_type": "markdown",
   "metadata": {
    "id": "fOsWErEUyrMQ"
   },
   "source": [
    "<br>\n",
    "\n",
    "## **Zadání vstupních dat od uživatele**\n"
   ]
  },
  {
   "cell_type": "markdown",
   "metadata": {
    "id": "ipGRdhlRyxWH"
   },
   "source": [
    "### <font color=red><b>Očekáváme:</b>\n",
    "```\n",
    "VITEJTE U NASI APLIKACE DESTINATIO!\n",
    "===================================\n",
    "1 - Praha   | 150,-Kč\n",
    "2 - Viden   | 200,-Kč\n",
    "3 - Olomouc | 120,-Kč\n",
    "4 - Svitavy | 120,-Kč\n",
    "5 - Zlin    | 100,-Kč\n",
    "6 - Ostrava | 180,-Kč\n",
    "===================================\n",
    "CISLO DESTINACE: 1\n",
    "JMENO: Radim\n",
    "PRIJMENI: Jedlicka\n",
    "EMAIL: radim@gmail.com\n",
    "===================================\n",
    "\n",
    "```"
   ]
  },
  {
   "cell_type": "markdown",
   "metadata": {
    "id": "8Yi1BDo64pI-"
   },
   "source": [
    "### <font color=ligtblue><b> 💻 Kód:</b>"
   ]
  },
  {
   "cell_type": "code",
   "execution_count": null,
   "metadata": {
    "colab": {
     "base_uri": "https://localhost:8080/"
    },
    "executionInfo": {
     "elapsed": 14973,
     "status": "ok",
     "timestamp": 1669032826353,
     "user": {
      "displayName": "Radim Jedlička",
      "userId": "11502208915568361358"
     },
     "user_tz": -60
    },
    "id": "FzLmQiWA4sRF",
    "outputId": "e1e3b654-1864-44f2-e7bd-a5eea4fbef3e"
   },
   "outputs": [
    {
     "name": "stdout",
     "output_type": "stream",
     "text": [
      "CISLO DESTINACE: 1\n",
      "JMENO: Radim\n",
      "PRIJMENI: Jedlicka\n",
      "E-MAIL: radim@gmail.com\n",
      "===================================\n"
     ]
    }
   ],
   "source": [
    "# Dovol uživateli zadat 'destinace', 'cele_jmeno', 'email', 'rok_narozeni' a doplň oddělovač\n",
    "\n",
    "destinace = input(\"CISLO DESTINACE: \")\n",
    "jmeno = input(\"JMENO: \")\n",
    "prijmeni = input(\"PRIJMENI: \")\n",
    "email = input(\"E-MAIL: \")\n",
    "\n",
    "print(cara)"
   ]
  },
  {
   "cell_type": "markdown",
   "metadata": {
    "id": "3oFjgQPuzdEC"
   },
   "source": [
    "<br>\n",
    "\n",
    "## **Zpracování dat**\n"
   ]
  },
  {
   "cell_type": "markdown",
   "metadata": {
    "id": "zz7v_a9Hzj6U"
   },
   "source": [
    "#### <font color=red><b>Očekáváme:</b>\n",
    "```\n",
    "VITEJTE U NASI APLIKACE DESTINATIO!\n",
    "===================================\n",
    "1 - Praha   | 150,-Kč\n",
    "2 - Viden   | 200,-Kč\n",
    "3 - Olomouc | 120,-Kč\n",
    "4 - Svitavy | 120,-Kč\n",
    "5 - Zlin    | 100,-Kč\n",
    "6 - Ostrava | 180,-Kč\n",
    "===================================\n",
    "CISLO DESTINACE: 2\n",
    "===================================\n",
    "Viden\n",
    "200,-Kč\n",
    "===================================\n",
    "```"
   ]
  },
  {
   "cell_type": "markdown",
   "metadata": {
    "id": "SWKSjPG-2OJG"
   },
   "source": [
    "#### <font color=ligtblue><b> 💻 Kód:</b>"
   ]
  },
  {
   "cell_type": "code",
   "execution_count": null,
   "metadata": {
    "id": "B8A18pqK0duv"
   },
   "outputs": [],
   "source": [
    "cilova_stanice = mesta[int(destinace) - 1] # mesta[int(destinace) - 1\n",
    "finalni_cena = ceny[int(destinace) - 1]\n",
    "\n",
    "print(cilova_stanice)\n",
    "print(finalni_cena, \",-Kč\", sep='')\n",
    "\n",
    "print(cara)"
   ]
  },
  {
   "cell_type": "markdown",
   "metadata": {
    "id": "49k4Hbb4I7r3"
   },
   "source": [
    "<br>\n",
    "\n",
    "## **Finální zpráva**\n"
   ]
  },
  {
   "cell_type": "markdown",
   "metadata": {
    "id": "RgD_4hZHJHQt"
   },
   "source": [
    "#### <font color=red><b>Očekáváme:</b>\n",
    "```\n",
    "VITEJTE U NASI APLIKACE DESTINATIO!\n",
    "===================================\n",
    "1 - Praha   | 150,-Kč\n",
    "2 - Viden   | 200,-Kč\n",
    "3 - Olomouc | 120,-Kč\n",
    "4 - Svitavy | 120,-Kč\n",
    "5 - Zlin    | 100,-Kč\n",
    "6 - Ostrava | 180,-Kč\n",
    "===================================\n",
    "CISLO DESTINACE: 2\n",
    "===================================\n",
    "Viden\n",
    "200,-Kč\n",
    "===================================\n",
    "Cestujici: Radim Jedlicka\n",
    "Cilova destinace:  Praha \n",
    "Cena jizdneho:  150,-Kč \n",
    "Jizdenku jsme odeslali na e-mail radim@gmail.com.\n",
    "```"
   ]
  },
  {
   "cell_type": "markdown",
   "metadata": {
    "id": "kLFyXh1YCn-U"
   },
   "source": [
    "#### <font color=ligtblue><b> 💻 Kód:</b>"
   ]
  },
  {
   "cell_type": "code",
   "execution_count": null,
   "metadata": {
    "colab": {
     "base_uri": "https://localhost:8080/"
    },
    "executionInfo": {
     "elapsed": 318,
     "status": "ok",
     "timestamp": 1669033770063,
     "user": {
      "displayName": "Radim Jedlička",
      "userId": "11502208915568361358"
     },
     "user_tz": -60
    },
    "id": "rdaKof-oHlQV",
    "outputId": "9addf8e2-abed-4638-e672-9d6960a8000d"
   },
   "outputs": [
    {
     "name": "stdout",
     "output_type": "stream",
     "text": [
      "Cestujici: Radim Jedlicka\n",
      "Cilova destinace: Praha\n",
      "Cena jizdneho: 150 ,-Kč\n",
      "Jizdenku jsme odeslali na e-mail radim@gmail.com\n"
     ]
    }
   ],
   "source": [
    "print(\"Cestujici:\", jmeno, prijmeni)\n",
    "print(\"Cilova destinace:\", cilova_stanice)\n",
    "print(\"Cena jizdneho:\", finalni_cena, \",-Kč\")\n",
    "print(\"Jizdenku jsme odeslali na e-mail\", email)"
   ]
  },
  {
   "cell_type": "markdown",
   "metadata": {
    "id": "sr-WI13wK6tU"
   },
   "source": [
    "<br>\n",
    "\n",
    "## 💻 **Celý kód:**"
   ]
  },
  {
   "cell_type": "code",
   "execution_count": null,
   "metadata": {
    "id": "vV2gQ1n1J6GP"
   },
   "outputs": [],
   "source": [
    "mesta = [\"Praha\", \"Viden\", \"Olomouc\", \"Svitavy\", \"Zlin\", \"Ostrava\"]\n",
    "ceny = (150, 200, 120, 120, 100, 180)\n",
    "cara = \"=\" * 35\n",
    "nabidka = \"\"\"\n",
    "1 - Praha   | 150,-Kč\n",
    "2 - Viden   | 200,-Kč\n",
    "3 - Olomouc | 120,-Kč\n",
    "4 - Svitavy | 120,-Kč\n",
    "5 - Zlin    | 100,-Kč\n",
    "6 - Ostrava | 180,-Kč\n",
    "\"\"\"\n",
    "\n",
    "print(\"VITEJTE U NASI APLIKACE DESTINATIO!\")\n",
    "print(cara)\n",
    "\n",
    "print(nabidka)\n",
    "print(cara)\n",
    "\n",
    "destinace = input(\"CISLO DESTINACE: \")\n",
    "jmeno = input(\"JMENO: \")\n",
    "prijmeni = input(\"PRIJMENI: \")\n",
    "email = input(\"E-MAIL: \")\n",
    "\n",
    "print(cara)\n",
    "\n",
    "cilova_stanice = mesta[int(destinace) - 1] # mesta[int(destinace) - 1\n",
    "finalni_cena = ceny[int(destinace) - 1]\n",
    "\n",
    "print(cilova_stanice)\n",
    "print(finalni_cena, \",-Kč\", sep='')\n",
    "\n",
    "print(cara)\n",
    "\n",
    "print(\"Cestujici:\", jmeno, prijmeni)\n",
    "print(\"Cilova destinace:\", cilova_stanice)\n",
    "print(\"Cena jizdneho:\", finalni_cena, \",-Kč\")\n",
    "print(\"Jizdenku jsme odeslali na e-mail\", email)"
   ]
  }
 ],
 "metadata": {
  "colab": {
   "authorship_tag": "ABX9TyMGH6gc9UYGN9as+4YX1nCT",
   "provenance": []
  },
  "kernelspec": {
   "display_name": "Python 3 (ipykernel)",
   "language": "python",
   "name": "python3"
  },
  "language_info": {
   "codemirror_mode": {
    "name": "ipython",
    "version": 3
   },
   "file_extension": ".py",
   "mimetype": "text/x-python",
   "name": "python",
   "nbconvert_exporter": "python",
   "pygments_lexer": "ipython3",
   "version": "3.10.0"
  }
 },
 "nbformat": 4,
 "nbformat_minor": 1
}
