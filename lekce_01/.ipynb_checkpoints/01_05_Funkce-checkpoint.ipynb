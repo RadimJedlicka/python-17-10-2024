{
 "cells": [
  {
   "cell_type": "markdown",
   "metadata": {
    "id": "jXzMXUTTBDgu"
   },
   "source": [
    "<h6 align=right> 🐍 Python akademie - lekce 1 - 17.10.2024</h6>"
   ]
  },
  {
   "cell_type": "markdown",
   "metadata": {
    "id": "T8czJ8iHBGWm"
   },
   "source": [
    "<br>\n",
    "\n",
    "# <h1 align=center><font color=black size=24><b> 01_05 🔧 Úvod do funkcí</font></h1>\n",
    "\n",
    "<br>\n",
    "\n",
    "---"
   ]
  },
  {
   "cell_type": "markdown",
   "metadata": {
    "id": "kixFlhDJIj51"
   },
   "source": [
    "<br>\n",
    "\n",
    "---\n",
    "\n",
    "### **Zajímavé odkazy z této lekce:**\n",
    "\n",
    "* [oficiální tabulka zabudovaných funkcí](https://docs.python.org/3/library/functions.html)\n",
    "\n",
    "<br>\n",
    "\n",
    "---\n"
   ]
  },
  {
   "cell_type": "markdown",
   "metadata": {
    "id": "aWnqWBaPBMcX"
   },
   "source": [
    "Obecně řečeno Python disponuje několika typy funkcí. Nás budou zajímat hlavně tyto:\n",
    "\n",
    "<br>\n",
    "\n",
    "1. **Zabudované funkce** (~*built-in functions*),\n",
    "2. **Uživatelské funkce** (~*user-defined functions*) - ty přijdou na řadu později.\n",
    "\n",
    "<br>\n",
    "\n",
    "Funkce jsou v podstatě pomocné nástroje, které ti umožní snazší a efektivnější práci (např. zadávat hodnoty do tvého programu nebo měnit datovou strukturu jedné hodnoty na jinou).\n",
    "\n",
    "<br>\n",
    "\n",
    "To, že nesou označení **zabudované** znamená, že je máš k dispozici ihned po instalaci. Tedy v každém souboru (s příponou `.py`), který do budoucna vytvoříš."
   ]
  },
  {
   "cell_type": "markdown",
   "metadata": {
    "id": "I-k5aWZ5BSFk"
   },
   "source": [
    "<br>\n",
    "\n",
    "## **Použití zabudované funkce**\n",
    "\n",
    "---"
   ]
  },
  {
   "cell_type": "markdown",
   "metadata": {
    "id": "DylI5yLJBWlR"
   },
   "source": [
    "| Jméno funkce | Účel funkce |\n",
    "---------------|-------------|\n",
    "| `type` | Vrací datový typ zadané hodnoty |\n",
    "| `round` | Zaokrouhlí zadanou hodnotu na stanovený počet desetinných míst |\n",
    "| `abs` | Vrací absolutní hodnotu |\n",
    "| `int` | Vrací *integer* ze zadaného stringu nebo číselného údaje |\n",
    "| `float` | Vrací *float* ze zadaného stringu nebo číselného údaje |\n",
    "| `str` | Vrací *string* ze zadané hodnoty |\n",
    "| `list` | Vrací nový objekt, sekvenční datový typ *list* |\n",
    "| `tuple` | Vrací nový objekt, sekvenční datový typ *tuple* |\n",
    "| `help` | Vratí nápovědu k zadanému objektu |\n",
    "| `print` | Vypisuje zadné hodnoty jako výstupy |\n",
    "| `input` | Umožňuje ukládat vstupy od uživatele |\n",
    "| `len` | Vrací délku zadané hodnoty |\n",
    "| `max` | Vrací největší hodnotu |\n",
    "| `min` | Vrací nejmenší hodnotu |\n",
    "| `sum` | Vrací součet všech hodnot |\n",
    "| `pow` | Vrací zadanou hodnotu umocněnou o zadaný exponent |\n",
    "\n",
    "<br>\n",
    "\n",
    "Pokud máš se zabudovanými funkcemi nějaké zkušenosti, nebo tě zajímá, které další bys mohl v rámci Pythonu využít, mrkni na [oficiální tabulku](https://docs.python.org/3/library/functions.html) všech zabudovaných funkcí."
   ]
  },
  {
   "cell_type": "markdown",
   "metadata": {
    "id": "Un5f7Lo7B01a"
   },
   "source": [
    "<br>\n",
    "\n",
    "### **`type`**"
   ]
  },
  {
   "cell_type": "code",
   "execution_count": null,
   "metadata": {
    "id": "5-lwOYgjA6SC"
   },
   "outputs": [],
   "source": [
    "print(type(\"Matous\"))"
   ]
  },
  {
   "cell_type": "code",
   "execution_count": null,
   "metadata": {
    "id": "D9rYOHLfCGzt"
   },
   "outputs": [],
   "source": [
    "print(type([1, 2, 3]))"
   ]
  },
  {
   "cell_type": "code",
   "execution_count": null,
   "metadata": {
    "id": "XSYjf94ICHE2"
   },
   "outputs": [],
   "source": [
    "print(help(type))"
   ]
  },
  {
   "cell_type": "markdown",
   "metadata": {
    "id": "ZFfp_RuNCRwf"
   },
   "source": [
    "<br>\n",
    "\n",
    "### **`round`**"
   ]
  },
  {
   "cell_type": "code",
   "execution_count": null,
   "metadata": {
    "id": "EYuySbUCCJqU"
   },
   "outputs": [],
   "source": [
    "print(round(0.33333, 2))"
   ]
  },
  {
   "cell_type": "code",
   "execution_count": null,
   "metadata": {
    "id": "ygFwUxcgCUPf"
   },
   "outputs": [],
   "source": [
    "print(round(0.987654, 4))"
   ]
  },
  {
   "cell_type": "markdown",
   "metadata": {
    "id": "VHtENliHCWr-"
   },
   "source": [
    "<br>\n",
    "\n",
    "### **`abs`**"
   ]
  },
  {
   "cell_type": "code",
   "execution_count": null,
   "metadata": {
    "id": "hGsVPOTdCYEj"
   },
   "outputs": [],
   "source": [
    "print(abs(-1))"
   ]
  },
  {
   "cell_type": "code",
   "execution_count": null,
   "metadata": {
    "id": "pbx4p2zoCa0R"
   },
   "outputs": [],
   "source": [
    "print(help(abs))"
   ]
  },
  {
   "cell_type": "code",
   "execution_count": null,
   "metadata": {
    "id": "QUGiaCUpCbmf"
   },
   "outputs": [],
   "source": [
    "print(abs(-1.1234))"
   ]
  },
  {
   "cell_type": "markdown",
   "metadata": {
    "id": "IScrXm8-CsLz"
   },
   "source": [
    "<br>\n",
    "\n",
    "### **`int`**"
   ]
  },
  {
   "cell_type": "code",
   "execution_count": null,
   "metadata": {
    "id": "kK9J221rCu4-"
   },
   "outputs": [],
   "source": [
    "print(int(1.11))"
   ]
  },
  {
   "cell_type": "code",
   "execution_count": null,
   "metadata": {
    "id": "s6gCRu0MCwGl"
   },
   "outputs": [],
   "source": [
    "print(int(\"11\"))"
   ]
  },
  {
   "cell_type": "markdown",
   "metadata": {
    "id": "7w4z54xECxWn"
   },
   "source": [
    "<br>\n",
    "\n",
    "### **`str`**"
   ]
  },
  {
   "cell_type": "code",
   "execution_count": null,
   "metadata": {
    "id": "QE95ffM8C0c1"
   },
   "outputs": [],
   "source": [
    "print(str(11))"
   ]
  },
  {
   "cell_type": "code",
   "execution_count": null,
   "metadata": {
    "id": "YA9vwoHmC2Ud"
   },
   "outputs": [],
   "source": [
    "print(str(3.146))"
   ]
  },
  {
   "cell_type": "markdown",
   "metadata": {
    "id": "-AblwPaPC2rd"
   },
   "source": [
    "<br>\n",
    "\n",
    "### **`list`**"
   ]
  },
  {
   "cell_type": "code",
   "execution_count": null,
   "metadata": {
    "id": "_Y9vnh8OC8j5"
   },
   "outputs": [],
   "source": [
    "PISMENA = list()\n",
    "print(type(PISMENA))"
   ]
  },
  {
   "cell_type": "code",
   "execution_count": null,
   "metadata": {
    "id": "as2gnyM_C_MQ"
   },
   "outputs": [],
   "source": [
    "NOVA_PISMENA = []\n",
    "print(type(NOVA_PISMENA))"
   ]
  },
  {
   "cell_type": "markdown",
   "metadata": {
    "id": "xeWhWL-ODJ3l"
   },
   "source": [
    "<br>\n",
    "\n",
    "*poznámka*. alternativním způsobem vytvoření prázdného listu může být použití prázdných hranatých závorek.\n",
    "\n",
    "<br>"
   ]
  },
  {
   "cell_type": "markdown",
   "metadata": {
    "id": "uv8T3I4ODLWP"
   },
   "source": [
    "<br>\n",
    "\n",
    "### **`tuple`**"
   ]
  },
  {
   "cell_type": "code",
   "execution_count": null,
   "metadata": {
    "id": "vpmS8rG2DKLZ"
   },
   "outputs": [],
   "source": [
    "CISLICE = tuple()\n",
    "print(type(CISLICE))"
   ]
  },
  {
   "cell_type": "markdown",
   "metadata": {
    "id": "HMd3QYUMDssq"
   },
   "source": [
    "<br>\n",
    "\n",
    "*poznámka*. alternativním způsobem vytvoření prádného tuplu může být použití prázdných kulatých závorek."
   ]
  },
  {
   "cell_type": "markdown",
   "metadata": {
    "id": "CJUEZsdMDuc0"
   },
   "source": [
    "<br>\n",
    "\n",
    "### **`help`**"
   ]
  },
  {
   "cell_type": "code",
   "execution_count": null,
   "metadata": {
    "id": "nto5K6AIDTry"
   },
   "outputs": [],
   "source": [
    "print(help(print))"
   ]
  },
  {
   "cell_type": "markdown",
   "metadata": {
    "id": "0yP1YlF7D4Y0"
   },
   "source": [
    "<br>\n",
    "\n",
    "### **`print`**"
   ]
  },
  {
   "cell_type": "code",
   "execution_count": null,
   "metadata": {
    "id": "UOrhKL6vDy8R"
   },
   "outputs": [],
   "source": [
    "print(\"Matous\")"
   ]
  },
  {
   "cell_type": "code",
   "execution_count": null,
   "metadata": {
    "id": "D6YQkWUOD6sV"
   },
   "outputs": [],
   "source": [
    "print(1)"
   ]
  },
  {
   "cell_type": "code",
   "execution_count": null,
   "metadata": {
    "id": "qGnbJmHiD8Cv"
   },
   "outputs": [],
   "source": [
    "print(\"Matous\")"
   ]
  },
  {
   "cell_type": "markdown",
   "metadata": {
    "id": "Y2w7F-e7D95e"
   },
   "source": [
    "<br>\n",
    "\n",
    "### **`input`**"
   ]
  },
  {
   "cell_type": "code",
   "execution_count": null,
   "metadata": {
    "id": "P9v27qkGD-_j"
   },
   "outputs": [],
   "source": [
    "input()"
   ]
  },
  {
   "cell_type": "code",
   "execution_count": null,
   "metadata": {
    "id": "XI9HIlBdEBS4"
   },
   "outputs": [],
   "source": [
    "input(\"Vepis pismeno:\")"
   ]
  },
  {
   "cell_type": "code",
   "execution_count": null,
   "metadata": {
    "id": "fDpQCflgJjN4"
   },
   "outputs": [],
   "source": [
    "pismeno = input(\"Vepis pismeno: \")"
   ]
  },
  {
   "cell_type": "code",
   "execution_count": null,
   "metadata": {
    "id": "pc_9AmDaJnTE"
   },
   "outputs": [],
   "source": [
    "print(pismeno)"
   ]
  }
 ],
 "metadata": {
  "colab": {
   "authorship_tag": "ABX9TyOPvNfOE2MqQ8L68YVbkiUV",
   "provenance": []
  },
  "kernelspec": {
   "display_name": "Python 3 (ipykernel)",
   "language": "python",
   "name": "python3"
  },
  "language_info": {
   "codemirror_mode": {
    "name": "ipython",
    "version": 3
   },
   "file_extension": ".py",
   "mimetype": "text/x-python",
   "name": "python",
   "nbconvert_exporter": "python",
   "pygments_lexer": "ipython3",
   "version": "3.10.0"
  }
 },
 "nbformat": 4,
 "nbformat_minor": 1
}
