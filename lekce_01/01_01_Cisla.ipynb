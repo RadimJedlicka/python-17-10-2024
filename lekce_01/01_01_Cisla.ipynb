{
 "cells": [
  {
   "cell_type": "markdown",
   "metadata": {
    "id": "0JrTkGHkXoPp"
   },
   "source": [
    "<h6 align=right> 🐍 Python akademie - lekce 1 - 17.10.2024</h6>"
   ]
  },
  {
   "cell_type": "markdown",
   "metadata": {
    "id": "3jL_N7LeX0Gf"
   },
   "source": [
    "<br>\n",
    "\n",
    "# <h1 align=center><font color=black size=24><b> 01_01 🔢 Čísla </font></h1>\n",
    "<h3 align=center>jako datové typy<h3>\n",
    "\n",
    "<br>\n"
   ]
  },
  {
   "cell_type": "markdown",
   "metadata": {
    "id": "gEU5Fcx82L9n"
   },
   "source": [
    "<br>\n",
    "\n",
    "---\n",
    "\n",
    "### **Zajímavé odkazy z této lekce:**\n",
    "\n",
    "* [Problém s plovoucí destinnou čárkou](https://docs.python.org/3/tutorial/floatingpoint.html)\n",
    "* [Operator precedence determines the order](https://thehelloworldprogram.com/python/python-operators-order-precedence/)\n",
    "* [Doporučení pep8, formátování matematických operátorů s různou prioritou](https://www.python.org/dev/peps/pep-0008/#other-recommendations)\n",
    "\n",
    "---\n",
    "\n",
    "<br>"
   ]
  },
  {
   "cell_type": "markdown",
   "metadata": {
    "id": "HudaVYyf38Gd"
   },
   "source": [
    "<br>\n",
    "\n",
    "## **Úvod do datových typů**\n",
    "\n",
    "---"
   ]
  },
  {
   "cell_type": "markdown",
   "metadata": {
    "id": "JfFB0c1tYfOn"
   },
   "source": [
    "Pro naučení jakéhokoliv **programovacího jazyka**, si potřebuješ osvojit znalosti z tzv. tří teoretických pilířů. Na těchto pilířích stojí téměř všechny programovací jazyky:\n",
    "\n",
    "1. **Datové typy** (čísla, sekvence, aj.)\n",
    "2. **Syntaxe** (funkce, podmínky, smyčky, aj.)\n",
    "3. **Knihovny** (decimal, aj.)\n",
    "\n",
    "<br>\n",
    "\n",
    "**Datové typy**, nebo také **datové struktury**. Začneme u něčeho, co je nám blízké a to jsou číselné hodnoty. Python je standardně vybavený dvěma číselnými datovými typy:\n",
    "\n",
    "1. `int`, celá čísla (z angl. integer)\n",
    "2. `float`, desetinná čísla (z angl. float)\n",
    "\n",
    "<br>"
   ]
  },
  {
   "cell_type": "markdown",
   "metadata": {
    "id": "RH6NxiJAY2qe"
   },
   "source": [
    "<br>\n",
    "\n",
    "## **Celá čísla (integer)**\n",
    "\n",
    "---"
   ]
  },
  {
   "cell_type": "code",
   "execution_count": 1,
   "metadata": {
    "id": "wJHCeWgtXQGV"
   },
   "outputs": [
    {
     "name": "stdout",
     "output_type": "stream",
     "text": [
      "300\n"
     ]
    }
   ],
   "source": [
    "print(100 + 200)  # v interaktnivním interpretu začneš psát za \">>>\""
   ]
  },
  {
   "cell_type": "markdown",
   "metadata": {
    "id": "ARrdqhY8bjIY"
   },
   "source": [
    "\n",
    "<br>\n",
    "\n",
    "V zápise je vhodné **psát mezery**, aby byl přehlednější. Je to pouze obecně platné doporučení. Výstup bude stejný, pokud je nepoužijeme:"
   ]
  },
  {
   "cell_type": "code",
   "execution_count": 3,
   "metadata": {
    "id": "yDX-h5qKY6w8"
   },
   "outputs": [
    {
     "name": "stdout",
     "output_type": "stream",
     "text": [
      "300\n"
     ]
    }
   ],
   "source": [
    "print(100+200)    # stejné hodnoty, jiný zápis bez mezer"
   ]
  },
  {
   "cell_type": "markdown",
   "metadata": {
    "id": "bKK1YBnNbqJ_"
   },
   "source": [
    "\n",
    "<br>\n",
    "\n",
    "Všimni si symbolu `#`, který jsme použili v obou zápisech výše. Mřížka naznačuje, že jde o **jednořádkový komentář**. Python bude zápis za ní ignorovat, takže ji můžeš využít pro tvoje vlastní vysvětlivky."
   ]
  },
  {
   "cell_type": "markdown",
   "metadata": {
    "id": "ntAJ9p2DbxgK"
   },
   "source": [
    "\n",
    "<br>\n",
    "\n",
    "Znaménko mezi čísly se často označuje jako tzv. **operátor** (čísla na jeho stranách potom jako **operandy**). Pokud na toto označení narazíš, tak ať ti není cizí.\n",
    "\n",
    "\n",
    "<br>"
   ]
  },
  {
   "cell_type": "markdown",
   "metadata": {
    "id": "up9raB7ipH5U"
   },
   "source": [
    "<br>\n",
    "\n",
    "## **Aritmetické operace**\n",
    "\n",
    "---"
   ]
  },
  {
   "cell_type": "markdown",
   "metadata": {
    "id": "wupDubiRpOd5"
   },
   "source": [
    "Standartní operace, které známe z matematiky:"
   ]
  },
  {
   "cell_type": "code",
   "execution_count": 4,
   "metadata": {
    "id": "fyDzfglSpMwR"
   },
   "outputs": [
    {
     "name": "stdout",
     "output_type": "stream",
     "text": [
      "15\n"
     ]
    }
   ],
   "source": [
    "print(10 + 5)"
   ]
  },
  {
   "cell_type": "code",
   "execution_count": 5,
   "metadata": {
    "id": "GEW1rTddpczK"
   },
   "outputs": [
    {
     "name": "stdout",
     "output_type": "stream",
     "text": [
      "5\n"
     ]
    }
   ],
   "source": [
    "print(10 - 5)"
   ]
  },
  {
   "cell_type": "code",
   "execution_count": 6,
   "metadata": {
    "id": "ObXSGNoEpeq-"
   },
   "outputs": [
    {
     "name": "stdout",
     "output_type": "stream",
     "text": [
      "50\n"
     ]
    }
   ],
   "source": [
    "print(10 * 5)"
   ]
  },
  {
   "cell_type": "code",
   "execution_count": 7,
   "metadata": {
    "id": "aAaf4boUpfpG"
   },
   "outputs": [
    {
     "name": "stdout",
     "output_type": "stream",
     "text": [
      "2.0\n"
     ]
    }
   ],
   "source": [
    "print(10 / 5)"
   ]
  },
  {
   "cell_type": "markdown",
   "metadata": {
    "id": "Brrz-edmpk5u"
   },
   "source": [
    "\n",
    "<br>\n",
    "\n",
    "Práce s jednotlivými datovými typy může být záludná. Opatrně na výsledné typy:"
   ]
  },
  {
   "cell_type": "code",
   "execution_count": 8,
   "metadata": {
    "id": "SC947m_KphSi"
   },
   "outputs": [
    {
     "name": "stdout",
     "output_type": "stream",
     "text": [
      "3.3333333333333335\n"
     ]
    }
   ],
   "source": [
    "print(10 / 3)"
   ]
  },
  {
   "cell_type": "code",
   "execution_count": 9,
   "metadata": {
    "id": "KEIfaOo8pn1y"
   },
   "outputs": [
    {
     "data": {
      "text/plain": [
       "float"
      ]
     },
     "execution_count": 9,
     "metadata": {},
     "output_type": "execute_result"
    }
   ],
   "source": [
    "type(10 / 5)"
   ]
  },
  {
   "cell_type": "markdown",
   "metadata": {
    "id": "5Y9IHtvwpu4a"
   },
   "source": [
    "\n",
    "<br>\n",
    "\n",
    "Méně známé operace dostupné v Pythonu:\n",
    "\n",
    "| Operátor | Význam |\n",
    "|:-:|:-|\n",
    "| `//` | celočíselné dělení |\n",
    "| `%` | modulo |\n",
    "| `**` | umocňování |"
   ]
  },
  {
   "cell_type": "code",
   "execution_count": 10,
   "metadata": {
    "id": "136bCysvpr2C"
   },
   "outputs": [
    {
     "name": "stdout",
     "output_type": "stream",
     "text": [
      "3\n"
     ]
    }
   ],
   "source": [
    "print(10 // 3)"
   ]
  },
  {
   "cell_type": "code",
   "execution_count": 11,
   "metadata": {
    "id": "mVVRlLtFpz4R"
   },
   "outputs": [
    {
     "name": "stdout",
     "output_type": "stream",
     "text": [
      "2\n"
     ]
    }
   ],
   "source": [
    "print(10 // 4)"
   ]
  },
  {
   "cell_type": "code",
   "execution_count": 12,
   "metadata": {
    "id": "Vv37d6ABp1Nq"
   },
   "outputs": [
    {
     "name": "stdout",
     "output_type": "stream",
     "text": [
      "1\n"
     ]
    }
   ],
   "source": [
    "print(10 % 3)"
   ]
  },
  {
   "cell_type": "code",
   "execution_count": 13,
   "metadata": {
    "id": "t7Inz6fcp3N6"
   },
   "outputs": [
    {
     "name": "stdout",
     "output_type": "stream",
     "text": [
      "2\n"
     ]
    }
   ],
   "source": [
    "print(11 % 3)"
   ]
  },
  {
   "cell_type": "code",
   "execution_count": 14,
   "metadata": {
    "id": "x-6wqFYxp5gT"
   },
   "outputs": [
    {
     "name": "stdout",
     "output_type": "stream",
     "text": [
      "1000\n"
     ]
    }
   ],
   "source": [
    "print(10 ** 3)"
   ]
  },
  {
   "cell_type": "code",
   "execution_count": 15,
   "metadata": {
    "id": "IogtpmR6p7fE"
   },
   "outputs": [
    {
     "name": "stdout",
     "output_type": "stream",
     "text": [
      "8\n"
     ]
    }
   ],
   "source": [
    "print(2 ** 3)"
   ]
  },
  {
   "cell_type": "markdown",
   "metadata": {
    "id": "CIokoz-aqLKa"
   },
   "source": [
    "\n",
    "<br>\n",
    "\n",
    "Pokud budete časem potřebovat specializovanější matematické funkce, doporučuji vyzkoušet knihovnu `math`.\n",
    "\n",
    "<br>"
   ]
  },
  {
   "cell_type": "markdown",
   "metadata": {
    "id": "WXBCtB3_4C_2"
   },
   "source": [
    "<br>\n",
    "\n",
    "## **Ověření datového typu**\n",
    "\n",
    "---"
   ]
  },
  {
   "cell_type": "markdown",
   "metadata": {
    "id": "2zsGPbXbb1UR"
   },
   "source": [
    "Za pomocí zabudované funkce `type` ověříme, jestli je číselná hodnota skutečně *integer*."
   ]
  },
  {
   "cell_type": "code",
   "execution_count": 16,
   "metadata": {
    "id": "-6Ldinujbx3N"
   },
   "outputs": [
    {
     "name": "stdout",
     "output_type": "stream",
     "text": [
      "<class 'int'>\n"
     ]
    }
   ],
   "source": [
    "print(type(222))"
   ]
  },
  {
   "cell_type": "code",
   "execution_count": 17,
   "metadata": {
    "id": "qqpLmoTgcGC8"
   },
   "outputs": [
    {
     "data": {
      "text/plain": [
       "int"
      ]
     },
     "execution_count": 17,
     "metadata": {},
     "output_type": "execute_result"
    }
   ],
   "source": [
    "type(222)"
   ]
  },
  {
   "cell_type": "markdown",
   "metadata": {
    "id": "EFjt1oSLmDE6"
   },
   "source": [
    "<br>\n",
    "\n",
    "V obou případech jsme dostali zpátky výstup interpreta, jehož formát nám zatím nemusí být jasný. Zásadní je část toho výstupu, kde stojí `int` (tedy integer). Takže jde skutečně o celé číslo a Python to ví.\n",
    "\n",
    "<br>\n"
   ]
  },
  {
   "cell_type": "markdown",
   "metadata": {
    "id": "BnhuFhSm5PlG"
   },
   "source": [
    "<br>\n",
    "\n",
    "## **Desetinná čísla (floats)**\n",
    "\n",
    "---"
   ]
  },
  {
   "cell_type": "markdown",
   "metadata": {
    "id": "z7Znw3z6mGo6"
   },
   "source": [
    "**Pozor!** Desetinným oddělovačem je **tečka**. Čárka slouží k jiným účelům."
   ]
  },
  {
   "cell_type": "code",
   "execution_count": 18,
   "metadata": {
    "id": "6on8ckskmDiG"
   },
   "outputs": [
    {
     "name": "stdout",
     "output_type": "stream",
     "text": [
      "0.1\n"
     ]
    }
   ],
   "source": [
    "print(0.1)"
   ]
  },
  {
   "cell_type": "code",
   "execution_count": 19,
   "metadata": {
    "id": "pF8sZkw_mMls"
   },
   "outputs": [
    {
     "name": "stdout",
     "output_type": "stream",
     "text": [
      "0.4\n"
     ]
    }
   ],
   "source": [
    "print(0.1 + 0.3)"
   ]
  },
  {
   "cell_type": "code",
   "execution_count": 20,
   "metadata": {
    "id": "Pkvqh1QMmOOX"
   },
   "outputs": [
    {
     "data": {
      "text/plain": [
       "float"
      ]
     },
     "execution_count": 20,
     "metadata": {},
     "output_type": "execute_result"
    }
   ],
   "source": [
    "type(0.3)"
   ]
  },
  {
   "cell_type": "markdown",
   "metadata": {
    "id": "DRmhmD6wmVnn"
   },
   "source": [
    "\n",
    "<br>\n",
    "\n",
    "Občas se při práci s **desetinnými čísly** setkáš s fenoménem známým jako **plovoucí řádová čárka**.\n",
    "\n",
    "<br>\n",
    "\n",
    "Ten je způsobený tím, že některá desetinná čísla nemají odpovídající **binární tvar**. Proto jsou použity přibližné hodnoty."
   ]
  },
  {
   "cell_type": "code",
   "execution_count": 21,
   "metadata": {
    "id": "NtWpwULSmPaR"
   },
   "outputs": [
    {
     "name": "stdout",
     "output_type": "stream",
     "text": [
      "0.30000000000000004\n"
     ]
    }
   ],
   "source": [
    "print(0.1 + 0.2)"
   ]
  },
  {
   "cell_type": "markdown",
   "metadata": {
    "id": "z06JS4UCmaTT"
   },
   "source": [
    "<br>\n",
    "\n",
    "Nemusíš se ničeho obávat, není to chyba na tvé straně, ale obecný fakt. Pokud budeš do budoucna potřebovat práci s **přesnými desetinnými čísly**, doporučujeme pracovat s knihovnou `decimal` (o práci s knihovnami se budeme bavit v pozdějších lekcích)"
   ]
  },
  {
   "cell_type": "markdown",
   "metadata": {
    "id": "QzGVcpXUmo5y"
   },
   "source": [
    "<details>\n",
    "  <summary> <b>⚡ Pokročilé, zde pouze na ukázku</b> </summary>\n",
    "\n",
    "```python\n",
    "import decimal  # pokrocily material\n",
    "\n",
    "decimal.getcontext().prec = 5\n",
    "decimal.Decimal(1) / decimal.Decimal(3)\n",
    "\n",
    "type(decimal.Decimal(3))\n",
    "```\n",
    "</details>"
   ]
  },
  {
   "cell_type": "markdown",
   "metadata": {
    "id": "eY_HfX2bqNLA"
   },
   "source": [
    "<br>\n",
    "\n",
    "## **Komplikace s čísly**\n",
    "\n",
    "---"
   ]
  },
  {
   "cell_type": "code",
   "execution_count": 22,
   "metadata": {
    "id": "wnr8bycbqLke"
   },
   "outputs": [
    {
     "name": "stdout",
     "output_type": "stream",
     "text": [
      "8\n"
     ]
    }
   ],
   "source": [
    "print(2 + 3 * 2)"
   ]
  },
  {
   "cell_type": "code",
   "execution_count": 23,
   "metadata": {
    "id": "hLgpdDZFqSkl"
   },
   "outputs": [
    {
     "name": "stdout",
     "output_type": "stream",
     "text": [
      "10\n"
     ]
    }
   ],
   "source": [
    "print((2 + 3) * 2)"
   ]
  },
  {
   "cell_type": "markdown",
   "metadata": {
    "id": "k4gEOoCqqYxm"
   },
   "source": [
    "\n",
    "<br>\n",
    "\n",
    "Různé operátory mají různé priority. Pokud budete používat různé operátory, doporučuji odlišovat mezi jejich důležitostí:"
   ]
  },
  {
   "cell_type": "code",
   "execution_count": 24,
   "metadata": {
    "id": "uUSdO4pnqUj8"
   },
   "outputs": [
    {
     "name": "stdout",
     "output_type": "stream",
     "text": [
      "8\n"
     ]
    }
   ],
   "source": [
    "print(2 + 3*2)"
   ]
  },
  {
   "cell_type": "markdown",
   "metadata": {
    "id": "AmfT9_RTqdKe"
   },
   "source": [
    "### Hierarchie matematických operátorů\n",
    "\n",
    "\n",
    "\n",
    "| Pořadí | Operátor | Proces |\n",
    "|:-:|:-:|:-|\n",
    "| 1. | `()` | závorky |\n",
    "| 2. | `**` | umocňování |\n",
    "| 3. | `*` | násobení |\n",
    "| 4. | `/` | dělení |\n",
    "| 5. | `+` | sčítání |\n",
    "| 6. | `-` | odčítaní |\n"
   ]
  }
 ],
 "metadata": {
  "colab": {
   "authorship_tag": "ABX9TyNuh5aEdZlfDAqSmyJgGDZ+",
   "provenance": [],
   "toc_visible": true
  },
  "kernelspec": {
   "display_name": "Python 3 (ipykernel)",
   "language": "python",
   "name": "python3"
  },
  "language_info": {
   "codemirror_mode": {
    "name": "ipython",
    "version": 3
   },
   "file_extension": ".py",
   "mimetype": "text/x-python",
   "name": "python",
   "nbconvert_exporter": "python",
   "pygments_lexer": "ipython3",
   "version": "3.10.0"
  }
 },
 "nbformat": 4,
 "nbformat_minor": 1
}
