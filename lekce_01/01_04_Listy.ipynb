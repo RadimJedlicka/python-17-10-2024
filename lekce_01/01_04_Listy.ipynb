{
 "cells": [
  {
   "cell_type": "markdown",
   "metadata": {
    "id": "ZYgm3oGjEYui"
   },
   "source": [
    "<h6 align=right> 🐍 Python akademie - lekce 1 - 17.10.2024</h6>"
   ]
  },
  {
   "cell_type": "markdown",
   "metadata": {
    "id": "4wwCHWD3EcwX"
   },
   "source": [
    "<br>\n",
    "\n",
    "# <h1 align=center><font color=black size=24><b> 01_04 🥬 Úvod k sekvencím</font></h1>\n",
    "\n",
    "<h3 align=center>(k některým kontejnerovým datovým typům ~sequencies)\n",
    "\n",
    "<br>\n",
    "\n",
    "---"
   ]
  },
  {
   "cell_type": "markdown",
   "metadata": {
    "id": "Lu6Ja48JBnyy"
   },
   "source": [
    "<br>\n",
    "\n",
    "---\n",
    "\n",
    "### **Zajímavé odkazy z této lekce:**\n",
    "\n",
    "* [Oficiální dokumentace pro `list`, `tuple`](https://docs.python.org/3/library/stdtypes.html#typesseq)\n",
    "\n",
    "<br>\n",
    "\n",
    "---\n"
   ]
  },
  {
   "cell_type": "markdown",
   "metadata": {
    "id": "_vAyLdd0E1MX"
   },
   "source": [
    "\n",
    "\n",
    "<br>\n",
    "\n",
    "Doposud jsme si ukázali, jak pracovat s proměnnou, která obsahuje **jedno číslo** (`int`, `float`), nebo **jeden řetězec** textových znaků (`str`).\n",
    "\n",
    "<br>\n",
    "\n",
    "Pojďme si nyní ukázat, že Python umí pracovat i s údaji, které obsahují více různých informací jako několik čísel, nebo několik textových hodnot.\n",
    "\n",
    "<br>\n",
    "\n",
    "Takové hodnoty potom budeme označovat jako tzv. **sekvenční datové typy** (tedy v jedné proměnné bude několik oddělených údajů). Obecně Python nabízí tyto tři základní sekvenční typy:\n",
    "\n",
    "1. `list` (z angl. *list*, česky *seznam*),\n",
    "2. `tuple` (z angl. *tuple*, česky *n-tice*),\n",
    "3. `range` (z angl. *range*, česky *rozsah*) - na něj přijde řada později."
   ]
  },
  {
   "cell_type": "markdown",
   "metadata": {
    "id": "c1sy2WxygCJc"
   },
   "source": [
    "<br>\n",
    "\n",
    "## **Seznam (~list)**\n",
    "\n",
    "---"
   ]
  },
  {
   "cell_type": "markdown",
   "metadata": {
    "id": "axJZCodBgKmF"
   },
   "source": [
    "*List* je opravdu datový typ, který je doslova tvořen seznamem údajů. Tyto údaje jsou oddělené datovým oddělovačem čárkou:\n",
    "\n",
    "```python\n",
    "muj_seznam = [\"Matous\", \"Marek\", \"Lukas\", \"Jan\"]\n",
    "```\n",
    "\n",
    "\n",
    "<br>\n",
    "\n",
    "V příkladu si můžeme všimnout některých **charakteristických rysů** pro `list`:\n",
    "\n",
    "<br>\n",
    "\n",
    "1. **Hranaté závorky** na začátku a na konci listu,\n",
    "2. **stringy**, které náš list obsahuje,\n",
    "3. **čárky**, které oddělují jednotlivé hodnoty,\n",
    "4. **proměnná**, do které si nově napsaný list schovám (`muj_seznam`).\n",
    "\n",
    "<br>\n",
    "\n",
    "Opět si můžeš pomocí funkce `type` ověřit datový typ. Není nutné chápat celkový význam výstupu funkce `type`. Stačí si povšimnout výrazu `list` ve výstupu."
   ]
  },
  {
   "cell_type": "code",
   "execution_count": 1,
   "metadata": {
    "id": "vWYNqhvVESBG"
   },
   "outputs": [
    {
     "name": "stdout",
     "output_type": "stream",
     "text": [
      "<class 'list'>\n"
     ]
    }
   ],
   "source": [
    "print(type([\"Matous\", \"Marek\", \"Lukas\", \"Jan\"]))"
   ]
  },
  {
   "cell_type": "markdown",
   "metadata": {
    "id": "c78seuKFgVrF"
   },
   "source": [
    "<br>\n",
    "\n",
    "### **Jak vytvořit list**"
   ]
  },
  {
   "cell_type": "markdown",
   "metadata": {
    "id": "bkrGIgu5gbK1"
   },
   "source": [
    "Nejprve si ukážeme možnosti, jak **vytvořit prázdný list**, kam si budeš moct v budoucnu ukládat svoje hodnoty:\n",
    "\n",
    "1. Možnost, pomocí **prázdných hranatých závorek**,\n",
    "2. Možnost, pomocí **zabudované funkce** `list`."
   ]
  },
  {
   "cell_type": "code",
   "execution_count": 2,
   "metadata": {
    "id": "4DtHBRgigXw6"
   },
   "outputs": [],
   "source": [
    "prvni_seznam = []"
   ]
  },
  {
   "cell_type": "code",
   "execution_count": 3,
   "metadata": {
    "id": "wsdAvakmgeFU"
   },
   "outputs": [],
   "source": [
    "druhy_seznam = list()"
   ]
  },
  {
   "cell_type": "code",
   "execution_count": 4,
   "metadata": {
    "id": "TZISOQehgfZU"
   },
   "outputs": [
    {
     "name": "stdout",
     "output_type": "stream",
     "text": [
      "<class 'list'>\n"
     ]
    }
   ],
   "source": [
    "print(type(prvni_seznam))"
   ]
  },
  {
   "cell_type": "code",
   "execution_count": 5,
   "metadata": {
    "id": "9BpAyXKxggnu"
   },
   "outputs": [
    {
     "name": "stdout",
     "output_type": "stream",
     "text": [
      "<class 'list'>\n"
     ]
    }
   ],
   "source": [
    "print(type(druhy_seznam))"
   ]
  },
  {
   "cell_type": "markdown",
   "metadata": {
    "id": "pJYVPv90glAi"
   },
   "source": [
    "<br>\n",
    "\n",
    "Opět použijeme funkci `type` pro ověření, že výsledné hodnoty jsou skutečně typu `list`.\n",
    "\n",
    "<br>\n",
    "\n",
    "Pokud potřebuješ vytvořit neprázdný list, můžeš údaje zapsat přímo do hranaté závorky (jako první úkazka v této kapitole):\n"
   ]
  },
  {
   "cell_type": "code",
   "execution_count": 6,
   "metadata": {
    "id": "LW0Naqsjglhc"
   },
   "outputs": [],
   "source": [
    "treti_seznam = [2, 4, 6, 8, 10]"
   ]
  },
  {
   "cell_type": "code",
   "execution_count": 7,
   "metadata": {
    "id": "xFi0d_AFgoY-"
   },
   "outputs": [],
   "source": [
    "ctvrty_seznam = [1.0, 3.0, 5.0, 7.0, 9.0]"
   ]
  },
  {
   "cell_type": "code",
   "execution_count": 8,
   "metadata": {
    "id": "Tb-r5ouEgqFC"
   },
   "outputs": [
    {
     "name": "stdout",
     "output_type": "stream",
     "text": [
      "<class 'list'>\n"
     ]
    }
   ],
   "source": [
    "print(type(treti_seznam))"
   ]
  },
  {
   "cell_type": "code",
   "execution_count": 9,
   "metadata": {
    "id": "3so9WMLAgrRW"
   },
   "outputs": [
    {
     "name": "stdout",
     "output_type": "stream",
     "text": [
      "<class 'list'>\n"
     ]
    }
   ],
   "source": [
    "print(type(ctvrty_seznam))"
   ]
  },
  {
   "cell_type": "markdown",
   "metadata": {
    "id": "Ocypjx07gxej"
   },
   "source": [
    "<br>\n",
    "\n",
    "### **Jak pracovat s listem**"
   ]
  },
  {
   "cell_type": "markdown",
   "metadata": {
    "id": "aTbsmfSxg078"
   },
   "source": [
    "Hodnoty, které `list` obsahuje, můžeš zpřístupnit pomocí jejich **pořadí**, tedy indexů. Tento princip funguje stejně jako jsme si ukázali u stringů."
   ]
  },
  {
   "cell_type": "code",
   "execution_count": 10,
   "metadata": {
    "id": "IKH4_HH6gzRi"
   },
   "outputs": [],
   "source": [
    "muj_seznam = [\"Matous\", \"Marek\", \"Lukas\", \"Jan\"]"
   ]
  },
  {
   "cell_type": "code",
   "execution_count": 11,
   "metadata": {
    "id": "-KCBwOf4g3aO"
   },
   "outputs": [
    {
     "name": "stdout",
     "output_type": "stream",
     "text": [
      "Matous\n"
     ]
    }
   ],
   "source": [
    "print(muj_seznam[0])"
   ]
  },
  {
   "cell_type": "code",
   "execution_count": 12,
   "metadata": {
    "id": "o1Et3rt6g4g6"
   },
   "outputs": [
    {
     "name": "stdout",
     "output_type": "stream",
     "text": [
      "Marek\n"
     ]
    }
   ],
   "source": [
    "print(muj_seznam[1])"
   ]
  },
  {
   "cell_type": "code",
   "execution_count": 13,
   "metadata": {
    "id": "TyowYKZzg5he"
   },
   "outputs": [
    {
     "name": "stdout",
     "output_type": "stream",
     "text": [
      "Jan\n"
     ]
    }
   ],
   "source": [
    "print(muj_seznam[-1])"
   ]
  },
  {
   "cell_type": "code",
   "execution_count": 14,
   "metadata": {
    "id": "7LUhdwzEhAZ6"
   },
   "outputs": [
    {
     "name": "stdout",
     "output_type": "stream",
     "text": [
      "['Marek', 'Lukas']\n"
     ]
    }
   ],
   "source": [
    "print(muj_seznam[1:3])"
   ]
  },
  {
   "cell_type": "code",
   "execution_count": 21,
   "metadata": {},
   "outputs": [
    {
     "name": "stdout",
     "output_type": "stream",
     "text": [
      "ínáv\n"
     ]
    }
   ],
   "source": [
    "print('indexování'[-1:-5:-1])"
   ]
  },
  {
   "cell_type": "code",
   "execution_count": 19,
   "metadata": {},
   "outputs": [
    {
     "name": "stdout",
     "output_type": "stream",
     "text": [
      "ován\n"
     ]
    }
   ],
   "source": [
    "print('indexování'[-5:-1])"
   ]
  },
  {
   "cell_type": "markdown",
   "metadata": {
    "id": "R3qxv1Beg9vQ"
   },
   "source": [
    "<br>\n",
    "\n",
    "Tedy index `0` představuje **první hodnotu** a index `-1` **poslední hodnotu**."
   ]
  },
  {
   "cell_type": "markdown",
   "metadata": {
    "id": "nKNu_gH4hH0P"
   },
   "source": [
    "<br>\n",
    "\n",
    "## **Tuple (~n-tice)**\n",
    "\n",
    "---"
   ]
  },
  {
   "cell_type": "markdown",
   "metadata": {
    "id": "B43mqIrnhR2A"
   },
   "source": [
    "Tuple je na první pohled velice podobný **listu** (seznamu):"
   ]
  },
  {
   "cell_type": "code",
   "execution_count": 15,
   "metadata": {
    "id": "s1AV_R98g-N3"
   },
   "outputs": [],
   "source": [
    "muj_tupl = (\"Matous\", \"Marek\", \"Lukas\", \"Jan\")"
   ]
  },
  {
   "cell_type": "markdown",
   "metadata": {
    "id": "pPwU_aQehViO"
   },
   "source": [
    "\n",
    "<br>\n",
    "\n",
    "Pro srovnání s `list`:"
   ]
  },
  {
   "cell_type": "code",
   "execution_count": 16,
   "metadata": {
    "id": "BdBcfqiyhVzH"
   },
   "outputs": [],
   "source": [
    "muj_seznam = [\"Matous\", \"Marek\", \"Lukas\", \"Jan\"]"
   ]
  },
  {
   "cell_type": "markdown",
   "metadata": {
    "id": "71uPdgFfhfoW"
   },
   "source": [
    "\n",
    "<br>\n",
    "\n",
    "V příkladu si můžeme všimnout některých **charakteristických rysů** pro `tuple`:\n",
    "\n",
    "<br>\n",
    "\n",
    "1. **Kulaté závorky** na začátku a na konci tuplu,\n",
    "2. **stringy**, které naše sekvence obsahuje,\n",
    "3. **čárky**, které oddělují jednotlivé hodnoty,\n",
    "4. **proměnná**, do které si nově napsaný tupl schováme (`muj_tupl`).\n",
    "\n",
    "<br>\n",
    "\n",
    "Proč je nutné mít jak `list`, tak `tuple`, když jsou tak podobné. Hlavním rozdílem je **změnitelnost**.\n",
    "\n",
    "<br>\n",
    "\n",
    "|Sekvenční typ|Změnitelnost|Vysvětlení|\n",
    "|:-:|:-:|:-:|\n",
    "|`list` (~seznam)|*mutable* (~změnitelný)|\tMůžeš přidávat a odebírat hodnoty |\n",
    "|`tuple` (~n-tice)|*immutable* (~nezměnitelný)|\tJakmile jej vytvoříš, nelze změnit |\n",
    "\n",
    "<br>\n",
    "\n",
    "Z tabulky uvedené výše vyplývá, že pokud chceš pracovat se sekvencí, u které budeš v průběhu **měnit její obsah**, použiješ `list` (~seznam).\n",
    "\n",
    "<br>\n",
    "\n",
    "Naopak pokud budeš chtít jako programátor napsat takovou sekvenci, kterou si **nepřeješ změnit** (a dát to na uvědoměnou sobě nebo ostatním programátorům), použiješ `tuple`. Podívej se na ukázku níže:"
   ]
  },
  {
   "cell_type": "code",
   "execution_count": null,
   "metadata": {
    "id": "uXnyuTzehb1o"
   },
   "outputs": [],
   "source": [
    "nejvetsi_mesta = (\"Praha\", \"Brno\", \"Ostrava\", \"Plzen\", \"Liberec\", \"Olomouc\")"
   ]
  },
  {
   "cell_type": "markdown",
   "metadata": {
    "id": "gn2XBOaRhryE"
   },
   "source": [
    "\n",
    "<br>\n",
    "\n",
    "V tuplu `nejvetsi_mesta` jsou všechna města v České republice, která mají více než 100 000 obyvatel.\n",
    "Pro nás je toto zásadní hodnota a nechceme, aby do této proměnné kdokoliv přidal nějaký další údaj. Na základě této potřeby jsme vybrali `tuple`."
   ]
  },
  {
   "cell_type": "markdown",
   "metadata": {
    "id": "YAQ8dm2Zhz7u"
   },
   "source": [
    "<br>\n",
    "\n",
    "### **Jak vytvořit tuple**"
   ]
  },
  {
   "cell_type": "markdown",
   "metadata": {
    "id": "sPAp715Yh35C"
   },
   "source": [
    "Vzhledem k faktu, že je `tuple` nezměnitelný, není vytvoření prázdného tuplu moc výhodné.\n",
    "Nicméně, pokud bychom to vážně potřebovali, postupujeme jako u listu:\n",
    "\n",
    "<br>\n",
    "\n",
    "1. Pomocí **prázdných kulatých závorek**,\n",
    "2. pomocí **zabudované funkce** `tuple`."
   ]
  },
  {
   "cell_type": "code",
   "execution_count": null,
   "metadata": {
    "id": "iOspb5C3hsDN"
   },
   "outputs": [],
   "source": [
    "prvni_tupl = ()"
   ]
  },
  {
   "cell_type": "code",
   "execution_count": null,
   "metadata": {
    "id": "-tllydIfh7M2"
   },
   "outputs": [],
   "source": [
    "druhy_tupl = tuple()"
   ]
  },
  {
   "cell_type": "code",
   "execution_count": null,
   "metadata": {
    "id": "e7FP4rMwh8D8"
   },
   "outputs": [],
   "source": [
    "print(type(prvni_tupl))"
   ]
  },
  {
   "cell_type": "code",
   "execution_count": null,
   "metadata": {
    "id": "TD1Nian9h8x9"
   },
   "outputs": [],
   "source": [
    "print(type(druhy_tupl))"
   ]
  },
  {
   "cell_type": "markdown",
   "metadata": {
    "id": "ot6nSOg9h930"
   },
   "source": [
    "\n",
    "<br>\n",
    "\n",
    "Ovšem takové datové struktury nejsou příliš užitečné (obvykle vyžadujeme různé hodnoty), a proto se zaměříme na vytvoření **neprázdných tuplů**:"
   ]
  },
  {
   "cell_type": "code",
   "execution_count": null,
   "metadata": {
    "id": "5SzYlV4Bh-Jc"
   },
   "outputs": [],
   "source": [
    "treti_tupl = (\"Praha\", \"Berlin\", \"Varsava\", \"Bratislava\", \"Viden\")"
   ]
  },
  {
   "cell_type": "code",
   "execution_count": null,
   "metadata": {
    "id": "7v4Pq6PoiAvq"
   },
   "outputs": [],
   "source": [
    "ctvrty_tupl = 1.3, 3.6, 1.8, 0.4, 1.9"
   ]
  },
  {
   "cell_type": "code",
   "execution_count": null,
   "metadata": {
    "id": "8XuGaxfoiBtl"
   },
   "outputs": [],
   "source": [
    "print(type(treti_tupl))"
   ]
  },
  {
   "cell_type": "code",
   "execution_count": null,
   "metadata": {
    "id": "yOVrmnOniCja"
   },
   "outputs": [],
   "source": [
    "print(type(ctvrty_tupl))"
   ]
  },
  {
   "cell_type": "markdown",
   "metadata": {
    "id": "4TU5FoJriHg_"
   },
   "source": [
    "\n",
    "<br>\n",
    "\n",
    "Ačkoliv varianta bez kulatých závorek není zcela běžná, můžeš se s ní setkat."
   ]
  },
  {
   "cell_type": "markdown",
   "metadata": {
    "id": "I8lNaUuyiKXM"
   },
   "source": [
    "<br>\n",
    "\n",
    "### **Jak pracovat s tuplem**"
   ]
  },
  {
   "cell_type": "markdown",
   "metadata": {
    "id": "q2dTlwvjiNcx"
   },
   "source": [
    "Stejně jako `list` můžeš i `tuple` *indexovat*, *rozkrájet* (slicing), *přeskakovat* (~striding):"
   ]
  },
  {
   "cell_type": "code",
   "execution_count": null,
   "metadata": {
    "id": "bnTZdXDjiHuM"
   },
   "outputs": [],
   "source": [
    "treti_tupl = (\"Praha\", \"Berlin\", \"Varsava\", \"Bratislava\", \"Viden\")"
   ]
  },
  {
   "cell_type": "code",
   "execution_count": null,
   "metadata": {
    "id": "EuOQCpPxiQd_"
   },
   "outputs": [],
   "source": [
    "print(treti_tupl[0])"
   ]
  },
  {
   "cell_type": "code",
   "execution_count": null,
   "metadata": {
    "id": "OaAO6wsWiRQF"
   },
   "outputs": [],
   "source": [
    "print(treti_tupl[-1])"
   ]
  },
  {
   "cell_type": "code",
   "execution_count": null,
   "metadata": {
    "id": "7FWgMw2_iSF9"
   },
   "outputs": [],
   "source": [
    "print(treti_tupl[0:2])"
   ]
  },
  {
   "cell_type": "code",
   "execution_count": null,
   "metadata": {
    "id": "wcz4ZP2hiS9C"
   },
   "outputs": [],
   "source": [
    "print(treti_tupl[-2])"
   ]
  }
 ],
 "metadata": {
  "colab": {
   "authorship_tag": "ABX9TyOW2aDvwg0KeX/O0JilyCRb",
   "provenance": []
  },
  "kernelspec": {
   "display_name": "Python 3 (ipykernel)",
   "language": "python",
   "name": "python3"
  },
  "language_info": {
   "codemirror_mode": {
    "name": "ipython",
    "version": 3
   },
   "file_extension": ".py",
   "mimetype": "text/x-python",
   "name": "python",
   "nbconvert_exporter": "python",
   "pygments_lexer": "ipython3",
   "version": "3.10.0"
  }
 },
 "nbformat": 4,
 "nbformat_minor": 1
}
